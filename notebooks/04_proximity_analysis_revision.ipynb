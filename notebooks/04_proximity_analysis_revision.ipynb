{
 "cells": [
  {
   "cell_type": "code",
   "execution_count": 1,
   "metadata": {},
   "outputs": [],
   "source": [
    "import scanpy as sc\n",
    "%reload_ext autoreload\n",
    "%autoreload 2\n"
   ]
  },
  {
   "cell_type": "code",
   "execution_count": 2,
   "metadata": {},
   "outputs": [
    {
     "name": "stdout",
     "output_type": "stream",
     "text": [
      "/mnt/znas/icb_zstore01/groups/ml01/workspace/ignacio.ibarra/theislab/saliba_macrophages/notebooks\n"
     ]
    }
   ],
   "source": [
    "cd .."
   ]
  },
  {
   "cell_type": "code",
   "execution_count": 3,
   "metadata": {},
   "outputs": [],
   "source": [
    "from utils import *"
   ]
  },
  {
   "cell_type": "code",
   "execution_count": 4,
   "metadata": {},
   "outputs": [
    {
     "name": "stdout",
     "output_type": "stream",
     "text": [
      "/mnt/znas/icb_zstore01/groups/ml01/workspace/ignacio.ibarra/theislab/saliba_macrophages/notebooks/revision\n"
     ]
    }
   ],
   "source": [
    "cd revision"
   ]
  },
  {
   "cell_type": "code",
   "execution_count": 5,
   "metadata": {},
   "outputs": [],
   "source": [
    "import scanpy as sc"
   ]
  },
  {
   "cell_type": "code",
   "execution_count": 6,
   "metadata": {},
   "outputs": [],
   "source": [
    "ad = sc.read_h5ad('morse_n_adams_n_bal_scvi_patient.id_138341_400_revision.h5da')"
   ]
  },
  {
   "cell_type": "markdown",
   "metadata": {},
   "source": [
    "Based on new annotations provided by Oliver, we update the mdm.type annotation"
   ]
  },
  {
   "cell_type": "code",
   "execution_count": 7,
   "metadata": {},
   "outputs": [
    {
     "data": {
      "text/html": [
       "<div>\n",
       "<style scoped>\n",
       "    .dataframe tbody tr th:only-of-type {\n",
       "        vertical-align: middle;\n",
       "    }\n",
       "\n",
       "    .dataframe tbody tr th {\n",
       "        vertical-align: top;\n",
       "    }\n",
       "\n",
       "    .dataframe thead th {\n",
       "        text-align: right;\n",
       "    }\n",
       "</style>\n",
       "<table border=\"1\" class=\"dataframe\">\n",
       "  <thead>\n",
       "    <tr style=\"text-align: right;\">\n",
       "      <th></th>\n",
       "      <th>GSM</th>\n",
       "      <th>sample.id</th>\n",
       "      <th>n_counts</th>\n",
       "      <th>log_counts</th>\n",
       "      <th>n_genes</th>\n",
       "      <th>mt_frac</th>\n",
       "      <th>patient.id</th>\n",
       "      <th>cell.type</th>\n",
       "      <th>study</th>\n",
       "      <th>disease.status</th>\n",
       "      <th>...</th>\n",
       "      <th>Diagnosis</th>\n",
       "      <th>COVID-19</th>\n",
       "      <th>Tissue Type</th>\n",
       "      <th>Cell Population</th>\n",
       "      <th>Cell Type</th>\n",
       "      <th>leiden</th>\n",
       "      <th>No of UMIs</th>\n",
       "      <th>No of genes</th>\n",
       "      <th>% of mito genes</th>\n",
       "      <th>Cluster</th>\n",
       "    </tr>\n",
       "  </thead>\n",
       "  <tbody>\n",
       "    <tr>\n",
       "      <th>SC154IPFUP_AAACCTGCATCACGAT-1-0-0-0-0-0-0</th>\n",
       "      <td>GSM3660658</td>\n",
       "      <td>SC154IPFUP</td>\n",
       "      <td>15616.0</td>\n",
       "      <td>9.656052</td>\n",
       "      <td>2600.0</td>\n",
       "      <td>0.093558</td>\n",
       "      <td>SC154</td>\n",
       "      <td>SPP1hi Macrophage</td>\n",
       "      <td>morse</td>\n",
       "      <td>IPF</td>\n",
       "      <td>...</td>\n",
       "      <td>nan</td>\n",
       "      <td>nan</td>\n",
       "      <td>nan</td>\n",
       "      <td>nan</td>\n",
       "      <td>nan</td>\n",
       "      <td>NaN</td>\n",
       "      <td>NaN</td>\n",
       "      <td>NaN</td>\n",
       "      <td>NaN</td>\n",
       "      <td>nan</td>\n",
       "    </tr>\n",
       "    <tr>\n",
       "      <th>SC154IPFUP_AAACGGGGTACCGGCT-1-0-0-0-0-0-0</th>\n",
       "      <td>GSM3660658</td>\n",
       "      <td>SC154IPFUP</td>\n",
       "      <td>9768.0</td>\n",
       "      <td>9.186867</td>\n",
       "      <td>2008.0</td>\n",
       "      <td>0.084562</td>\n",
       "      <td>SC154</td>\n",
       "      <td>SPP1hi Macrophage</td>\n",
       "      <td>morse</td>\n",
       "      <td>IPF</td>\n",
       "      <td>...</td>\n",
       "      <td>nan</td>\n",
       "      <td>nan</td>\n",
       "      <td>nan</td>\n",
       "      <td>nan</td>\n",
       "      <td>nan</td>\n",
       "      <td>NaN</td>\n",
       "      <td>NaN</td>\n",
       "      <td>NaN</td>\n",
       "      <td>NaN</td>\n",
       "      <td>nan</td>\n",
       "    </tr>\n",
       "    <tr>\n",
       "      <th>SC154IPFUP_AAACGGGTCTGTCCGT-1-0-0-0-0-0-0</th>\n",
       "      <td>GSM3660658</td>\n",
       "      <td>SC154IPFUP</td>\n",
       "      <td>27659.0</td>\n",
       "      <td>10.227707</td>\n",
       "      <td>3509.0</td>\n",
       "      <td>0.043386</td>\n",
       "      <td>SC154</td>\n",
       "      <td>FABP4hi Macrophage</td>\n",
       "      <td>morse</td>\n",
       "      <td>IPF</td>\n",
       "      <td>...</td>\n",
       "      <td>nan</td>\n",
       "      <td>nan</td>\n",
       "      <td>nan</td>\n",
       "      <td>nan</td>\n",
       "      <td>nan</td>\n",
       "      <td>NaN</td>\n",
       "      <td>NaN</td>\n",
       "      <td>NaN</td>\n",
       "      <td>NaN</td>\n",
       "      <td>nan</td>\n",
       "    </tr>\n",
       "    <tr>\n",
       "      <th>SC154IPFUP_AAAGATGAGATCCCGC-1-0-0-0-0-0-0</th>\n",
       "      <td>GSM3660658</td>\n",
       "      <td>SC154IPFUP</td>\n",
       "      <td>9778.0</td>\n",
       "      <td>9.187890</td>\n",
       "      <td>2276.0</td>\n",
       "      <td>0.070157</td>\n",
       "      <td>SC154</td>\n",
       "      <td>SPP1hi Macrophage</td>\n",
       "      <td>morse</td>\n",
       "      <td>IPF</td>\n",
       "      <td>...</td>\n",
       "      <td>nan</td>\n",
       "      <td>nan</td>\n",
       "      <td>nan</td>\n",
       "      <td>nan</td>\n",
       "      <td>nan</td>\n",
       "      <td>NaN</td>\n",
       "      <td>NaN</td>\n",
       "      <td>NaN</td>\n",
       "      <td>NaN</td>\n",
       "      <td>nan</td>\n",
       "    </tr>\n",
       "    <tr>\n",
       "      <th>SC154IPFUP_AAAGATGAGATGCGAC-1-0-0-0-0-0-0</th>\n",
       "      <td>GSM3660658</td>\n",
       "      <td>SC154IPFUP</td>\n",
       "      <td>8610.0</td>\n",
       "      <td>9.060679</td>\n",
       "      <td>1981.0</td>\n",
       "      <td>0.059582</td>\n",
       "      <td>SC154</td>\n",
       "      <td>SPP1hi Macrophage</td>\n",
       "      <td>morse</td>\n",
       "      <td>IPF</td>\n",
       "      <td>...</td>\n",
       "      <td>nan</td>\n",
       "      <td>nan</td>\n",
       "      <td>nan</td>\n",
       "      <td>nan</td>\n",
       "      <td>nan</td>\n",
       "      <td>NaN</td>\n",
       "      <td>NaN</td>\n",
       "      <td>NaN</td>\n",
       "      <td>NaN</td>\n",
       "      <td>nan</td>\n",
       "    </tr>\n",
       "    <tr>\n",
       "      <th>...</th>\n",
       "      <td>...</td>\n",
       "      <td>...</td>\n",
       "      <td>...</td>\n",
       "      <td>...</td>\n",
       "      <td>...</td>\n",
       "      <td>...</td>\n",
       "      <td>...</td>\n",
       "      <td>...</td>\n",
       "      <td>...</td>\n",
       "      <td>...</td>\n",
       "      <td>...</td>\n",
       "      <td>...</td>\n",
       "      <td>...</td>\n",
       "      <td>...</td>\n",
       "      <td>...</td>\n",
       "      <td>...</td>\n",
       "      <td>...</td>\n",
       "      <td>...</td>\n",
       "      <td>...</td>\n",
       "      <td>...</td>\n",
       "      <td>...</td>\n",
       "    </tr>\n",
       "    <tr>\n",
       "      <th>484C_TTGACTTTCATCTGCC-1-0-0-1</th>\n",
       "      <td>nan</td>\n",
       "      <td>nan</td>\n",
       "      <td>16249.0</td>\n",
       "      <td>9.695786</td>\n",
       "      <td>3934.0</td>\n",
       "      <td>0.044187</td>\n",
       "      <td>484C</td>\n",
       "      <td>Macrophage_Outlier_D</td>\n",
       "      <td>adams</td>\n",
       "      <td>control</td>\n",
       "      <td>...</td>\n",
       "      <td>nan</td>\n",
       "      <td>nan</td>\n",
       "      <td>nan</td>\n",
       "      <td>nan</td>\n",
       "      <td>nan</td>\n",
       "      <td>NaN</td>\n",
       "      <td>NaN</td>\n",
       "      <td>NaN</td>\n",
       "      <td>NaN</td>\n",
       "      <td>nan</td>\n",
       "    </tr>\n",
       "    <tr>\n",
       "      <th>484C_TTTACTGCAAATTGCC-1-0-0-1</th>\n",
       "      <td>nan</td>\n",
       "      <td>nan</td>\n",
       "      <td>1851.0</td>\n",
       "      <td>7.523481</td>\n",
       "      <td>1096.0</td>\n",
       "      <td>0.044300</td>\n",
       "      <td>484C</td>\n",
       "      <td>Macrophage</td>\n",
       "      <td>adams</td>\n",
       "      <td>control</td>\n",
       "      <td>...</td>\n",
       "      <td>nan</td>\n",
       "      <td>nan</td>\n",
       "      <td>nan</td>\n",
       "      <td>nan</td>\n",
       "      <td>nan</td>\n",
       "      <td>NaN</td>\n",
       "      <td>NaN</td>\n",
       "      <td>NaN</td>\n",
       "      <td>NaN</td>\n",
       "      <td>nan</td>\n",
       "    </tr>\n",
       "    <tr>\n",
       "      <th>484C_TTTATGCCAATAGAGT-1-0-0-1</th>\n",
       "      <td>nan</td>\n",
       "      <td>nan</td>\n",
       "      <td>11975.0</td>\n",
       "      <td>9.390576</td>\n",
       "      <td>3415.0</td>\n",
       "      <td>0.046180</td>\n",
       "      <td>484C</td>\n",
       "      <td>Macrophage</td>\n",
       "      <td>adams</td>\n",
       "      <td>control</td>\n",
       "      <td>...</td>\n",
       "      <td>nan</td>\n",
       "      <td>nan</td>\n",
       "      <td>nan</td>\n",
       "      <td>nan</td>\n",
       "      <td>nan</td>\n",
       "      <td>NaN</td>\n",
       "      <td>NaN</td>\n",
       "      <td>NaN</td>\n",
       "      <td>NaN</td>\n",
       "      <td>nan</td>\n",
       "    </tr>\n",
       "    <tr>\n",
       "      <th>484C_TTTATGCTCGATAGAA-1-0-0-1</th>\n",
       "      <td>nan</td>\n",
       "      <td>nan</td>\n",
       "      <td>6138.0</td>\n",
       "      <td>8.722254</td>\n",
       "      <td>2506.0</td>\n",
       "      <td>0.061584</td>\n",
       "      <td>484C</td>\n",
       "      <td>Macrophage</td>\n",
       "      <td>adams</td>\n",
       "      <td>control</td>\n",
       "      <td>...</td>\n",
       "      <td>nan</td>\n",
       "      <td>nan</td>\n",
       "      <td>nan</td>\n",
       "      <td>nan</td>\n",
       "      <td>nan</td>\n",
       "      <td>NaN</td>\n",
       "      <td>NaN</td>\n",
       "      <td>NaN</td>\n",
       "      <td>NaN</td>\n",
       "      <td>nan</td>\n",
       "    </tr>\n",
       "    <tr>\n",
       "      <th>484C_TTTGGTTCATCGGGTC-1-0-0-1</th>\n",
       "      <td>nan</td>\n",
       "      <td>nan</td>\n",
       "      <td>1625.0</td>\n",
       "      <td>7.393263</td>\n",
       "      <td>801.0</td>\n",
       "      <td>0.185231</td>\n",
       "      <td>484C</td>\n",
       "      <td>Macrophage</td>\n",
       "      <td>adams</td>\n",
       "      <td>control</td>\n",
       "      <td>...</td>\n",
       "      <td>nan</td>\n",
       "      <td>nan</td>\n",
       "      <td>nan</td>\n",
       "      <td>nan</td>\n",
       "      <td>nan</td>\n",
       "      <td>NaN</td>\n",
       "      <td>NaN</td>\n",
       "      <td>NaN</td>\n",
       "      <td>NaN</td>\n",
       "      <td>nan</td>\n",
       "    </tr>\n",
       "  </tbody>\n",
       "</table>\n",
       "<p>138341 rows × 80 columns</p>\n",
       "</div>"
      ],
      "text/plain": [
       "                                                  GSM   sample.id  n_counts  \\\n",
       "SC154IPFUP_AAACCTGCATCACGAT-1-0-0-0-0-0-0  GSM3660658  SC154IPFUP   15616.0   \n",
       "SC154IPFUP_AAACGGGGTACCGGCT-1-0-0-0-0-0-0  GSM3660658  SC154IPFUP    9768.0   \n",
       "SC154IPFUP_AAACGGGTCTGTCCGT-1-0-0-0-0-0-0  GSM3660658  SC154IPFUP   27659.0   \n",
       "SC154IPFUP_AAAGATGAGATCCCGC-1-0-0-0-0-0-0  GSM3660658  SC154IPFUP    9778.0   \n",
       "SC154IPFUP_AAAGATGAGATGCGAC-1-0-0-0-0-0-0  GSM3660658  SC154IPFUP    8610.0   \n",
       "...                                               ...         ...       ...   \n",
       "484C_TTGACTTTCATCTGCC-1-0-0-1                     nan         nan   16249.0   \n",
       "484C_TTTACTGCAAATTGCC-1-0-0-1                     nan         nan    1851.0   \n",
       "484C_TTTATGCCAATAGAGT-1-0-0-1                     nan         nan   11975.0   \n",
       "484C_TTTATGCTCGATAGAA-1-0-0-1                     nan         nan    6138.0   \n",
       "484C_TTTGGTTCATCGGGTC-1-0-0-1                     nan         nan    1625.0   \n",
       "\n",
       "                                           log_counts  n_genes   mt_frac  \\\n",
       "SC154IPFUP_AAACCTGCATCACGAT-1-0-0-0-0-0-0    9.656052   2600.0  0.093558   \n",
       "SC154IPFUP_AAACGGGGTACCGGCT-1-0-0-0-0-0-0    9.186867   2008.0  0.084562   \n",
       "SC154IPFUP_AAACGGGTCTGTCCGT-1-0-0-0-0-0-0   10.227707   3509.0  0.043386   \n",
       "SC154IPFUP_AAAGATGAGATCCCGC-1-0-0-0-0-0-0    9.187890   2276.0  0.070157   \n",
       "SC154IPFUP_AAAGATGAGATGCGAC-1-0-0-0-0-0-0    9.060679   1981.0  0.059582   \n",
       "...                                               ...      ...       ...   \n",
       "484C_TTGACTTTCATCTGCC-1-0-0-1                9.695786   3934.0  0.044187   \n",
       "484C_TTTACTGCAAATTGCC-1-0-0-1                7.523481   1096.0  0.044300   \n",
       "484C_TTTATGCCAATAGAGT-1-0-0-1                9.390576   3415.0  0.046180   \n",
       "484C_TTTATGCTCGATAGAA-1-0-0-1                8.722254   2506.0  0.061584   \n",
       "484C_TTTGGTTCATCGGGTC-1-0-0-1                7.393263    801.0  0.185231   \n",
       "\n",
       "                                          patient.id             cell.type  \\\n",
       "SC154IPFUP_AAACCTGCATCACGAT-1-0-0-0-0-0-0      SC154     SPP1hi Macrophage   \n",
       "SC154IPFUP_AAACGGGGTACCGGCT-1-0-0-0-0-0-0      SC154     SPP1hi Macrophage   \n",
       "SC154IPFUP_AAACGGGTCTGTCCGT-1-0-0-0-0-0-0      SC154    FABP4hi Macrophage   \n",
       "SC154IPFUP_AAAGATGAGATCCCGC-1-0-0-0-0-0-0      SC154     SPP1hi Macrophage   \n",
       "SC154IPFUP_AAAGATGAGATGCGAC-1-0-0-0-0-0-0      SC154     SPP1hi Macrophage   \n",
       "...                                              ...                   ...   \n",
       "484C_TTGACTTTCATCTGCC-1-0-0-1                   484C  Macrophage_Outlier_D   \n",
       "484C_TTTACTGCAAATTGCC-1-0-0-1                   484C            Macrophage   \n",
       "484C_TTTATGCCAATAGAGT-1-0-0-1                   484C            Macrophage   \n",
       "484C_TTTATGCTCGATAGAA-1-0-0-1                   484C            Macrophage   \n",
       "484C_TTTGGTTCATCGGGTC-1-0-0-1                   484C            Macrophage   \n",
       "\n",
       "                                           study disease.status  ...  \\\n",
       "SC154IPFUP_AAACCTGCATCACGAT-1-0-0-0-0-0-0  morse            IPF  ...   \n",
       "SC154IPFUP_AAACGGGGTACCGGCT-1-0-0-0-0-0-0  morse            IPF  ...   \n",
       "SC154IPFUP_AAACGGGTCTGTCCGT-1-0-0-0-0-0-0  morse            IPF  ...   \n",
       "SC154IPFUP_AAAGATGAGATCCCGC-1-0-0-0-0-0-0  morse            IPF  ...   \n",
       "SC154IPFUP_AAAGATGAGATGCGAC-1-0-0-0-0-0-0  morse            IPF  ...   \n",
       "...                                          ...            ...  ...   \n",
       "484C_TTGACTTTCATCTGCC-1-0-0-1              adams        control  ...   \n",
       "484C_TTTACTGCAAATTGCC-1-0-0-1              adams        control  ...   \n",
       "484C_TTTATGCCAATAGAGT-1-0-0-1              adams        control  ...   \n",
       "484C_TTTATGCTCGATAGAA-1-0-0-1              adams        control  ...   \n",
       "484C_TTTGGTTCATCGGGTC-1-0-0-1              adams        control  ...   \n",
       "\n",
       "                                           Diagnosis  COVID-19  Tissue Type  \\\n",
       "SC154IPFUP_AAACCTGCATCACGAT-1-0-0-0-0-0-0        nan       nan          nan   \n",
       "SC154IPFUP_AAACGGGGTACCGGCT-1-0-0-0-0-0-0        nan       nan          nan   \n",
       "SC154IPFUP_AAACGGGTCTGTCCGT-1-0-0-0-0-0-0        nan       nan          nan   \n",
       "SC154IPFUP_AAAGATGAGATCCCGC-1-0-0-0-0-0-0        nan       nan          nan   \n",
       "SC154IPFUP_AAAGATGAGATGCGAC-1-0-0-0-0-0-0        nan       nan          nan   \n",
       "...                                              ...       ...          ...   \n",
       "484C_TTGACTTTCATCTGCC-1-0-0-1                    nan       nan          nan   \n",
       "484C_TTTACTGCAAATTGCC-1-0-0-1                    nan       nan          nan   \n",
       "484C_TTTATGCCAATAGAGT-1-0-0-1                    nan       nan          nan   \n",
       "484C_TTTATGCTCGATAGAA-1-0-0-1                    nan       nan          nan   \n",
       "484C_TTTGGTTCATCGGGTC-1-0-0-1                    nan       nan          nan   \n",
       "\n",
       "                                           Cell Population  Cell Type leiden  \\\n",
       "SC154IPFUP_AAACCTGCATCACGAT-1-0-0-0-0-0-0              nan        nan    NaN   \n",
       "SC154IPFUP_AAACGGGGTACCGGCT-1-0-0-0-0-0-0              nan        nan    NaN   \n",
       "SC154IPFUP_AAACGGGTCTGTCCGT-1-0-0-0-0-0-0              nan        nan    NaN   \n",
       "SC154IPFUP_AAAGATGAGATCCCGC-1-0-0-0-0-0-0              nan        nan    NaN   \n",
       "SC154IPFUP_AAAGATGAGATGCGAC-1-0-0-0-0-0-0              nan        nan    NaN   \n",
       "...                                                    ...        ...    ...   \n",
       "484C_TTGACTTTCATCTGCC-1-0-0-1                          nan        nan    NaN   \n",
       "484C_TTTACTGCAAATTGCC-1-0-0-1                          nan        nan    NaN   \n",
       "484C_TTTATGCCAATAGAGT-1-0-0-1                          nan        nan    NaN   \n",
       "484C_TTTATGCTCGATAGAA-1-0-0-1                          nan        nan    NaN   \n",
       "484C_TTTGGTTCATCGGGTC-1-0-0-1                          nan        nan    NaN   \n",
       "\n",
       "                                          No of UMIs No of genes  \\\n",
       "SC154IPFUP_AAACCTGCATCACGAT-1-0-0-0-0-0-0        NaN         NaN   \n",
       "SC154IPFUP_AAACGGGGTACCGGCT-1-0-0-0-0-0-0        NaN         NaN   \n",
       "SC154IPFUP_AAACGGGTCTGTCCGT-1-0-0-0-0-0-0        NaN         NaN   \n",
       "SC154IPFUP_AAAGATGAGATCCCGC-1-0-0-0-0-0-0        NaN         NaN   \n",
       "SC154IPFUP_AAAGATGAGATGCGAC-1-0-0-0-0-0-0        NaN         NaN   \n",
       "...                                              ...         ...   \n",
       "484C_TTGACTTTCATCTGCC-1-0-0-1                    NaN         NaN   \n",
       "484C_TTTACTGCAAATTGCC-1-0-0-1                    NaN         NaN   \n",
       "484C_TTTATGCCAATAGAGT-1-0-0-1                    NaN         NaN   \n",
       "484C_TTTATGCTCGATAGAA-1-0-0-1                    NaN         NaN   \n",
       "484C_TTTGGTTCATCGGGTC-1-0-0-1                    NaN         NaN   \n",
       "\n",
       "                                          % of mito genes Cluster  \n",
       "SC154IPFUP_AAACCTGCATCACGAT-1-0-0-0-0-0-0             NaN     nan  \n",
       "SC154IPFUP_AAACGGGGTACCGGCT-1-0-0-0-0-0-0             NaN     nan  \n",
       "SC154IPFUP_AAACGGGTCTGTCCGT-1-0-0-0-0-0-0             NaN     nan  \n",
       "SC154IPFUP_AAAGATGAGATCCCGC-1-0-0-0-0-0-0             NaN     nan  \n",
       "SC154IPFUP_AAAGATGAGATGCGAC-1-0-0-0-0-0-0             NaN     nan  \n",
       "...                                                   ...     ...  \n",
       "484C_TTGACTTTCATCTGCC-1-0-0-1                         NaN     nan  \n",
       "484C_TTTACTGCAAATTGCC-1-0-0-1                         NaN     nan  \n",
       "484C_TTTATGCCAATAGAGT-1-0-0-1                         NaN     nan  \n",
       "484C_TTTATGCTCGATAGAA-1-0-0-1                         NaN     nan  \n",
       "484C_TTTGGTTCATCGGGTC-1-0-0-1                         NaN     nan  \n",
       "\n",
       "[138341 rows x 80 columns]"
      ]
     },
     "execution_count": 7,
     "metadata": {},
     "output_type": "execute_result"
    }
   ],
   "source": [
    "ad.obs"
   ]
  },
  {
   "cell_type": "code",
   "execution_count": 8,
   "metadata": {},
   "outputs": [
    {
     "data": {
      "text/plain": [
       "control     39409\n",
       "IPF         38460\n",
       "COPD        30159\n",
       "covid       22810\n",
       "BAL (NA)     7503\n",
       "Name: disease.status, dtype: int64"
      ]
     },
     "execution_count": 8,
     "metadata": {},
     "output_type": "execute_result"
    }
   ],
   "source": [
    "ad.obs['disease.status'].value_counts()"
   ]
  },
  {
   "cell_type": "code",
   "execution_count": 9,
   "metadata": {},
   "outputs": [
    {
     "data": {
      "image/png": "[encoded data removed]",
      "text/plain": [
       "<Figure size 538.128x288 with 1 Axes>"
      ]
     },
     "metadata": {
      "needs_background": "light"
     },
     "output_type": "display_data"
    }
   ],
   "source": [
    "sc.pl.violin(ad, 'MP.all.score', groupby='mdm.type', rotation=90) # , hue='mdm.type'"
   ]
  },
  {
   "cell_type": "code",
   "execution_count": 10,
   "metadata": {},
   "outputs": [
    {
     "data": {
      "text/plain": [
       "adams       90477\n",
       "budinger    22810\n",
       "morse       17551\n",
       "BAL          7503\n",
       "Name: study, dtype: int64"
      ]
     },
     "execution_count": 10,
     "metadata": {},
     "output_type": "execute_result"
    }
   ],
   "source": [
    "ad.obs['study'].value_counts()"
   ]
  },
  {
   "cell_type": "code",
   "execution_count": 11,
   "metadata": {},
   "outputs": [
    {
     "data": {
      "text/plain": [
       "(138341, 17656)"
      ]
     },
     "execution_count": 11,
     "metadata": {},
     "output_type": "execute_result"
    }
   ],
   "source": [
    "ad.shape"
   ]
  },
  {
   "cell_type": "markdown",
   "metadata": {},
   "source": [
    "### add the mdm annotation"
   ]
  },
  {
   "cell_type": "code",
   "execution_count": 12,
   "metadata": {},
   "outputs": [
    {
     "name": "stdout",
     "output_type": "stream",
     "text": [
      "bal\n"
     ]
    },
    {
     "name": "stderr",
     "output_type": "stream",
     "text": [
      "/home/icb/ignacio.ibarra/miniconda3/envs/mypython3/lib/python3.7/site-packages/pandas/core/arrays/categorical.py:2487: FutureWarning: The `inplace` parameter in pandas.Categorical.remove_unused_categories is deprecated and will be removed in a future version.\n",
      "  res = method(*args, **kwargs)\n",
      "Variable names are not unique. To make them unique, call `.var_names_make_unique`.\n",
      "Variable names are not unique. To make them unique, call `.var_names_make_unique`.\n",
      "/home/icb/ignacio.ibarra/miniconda3/envs/mypython3/lib/python3.7/site-packages/pandas/core/arrays/categorical.py:2487: FutureWarning: The `inplace` parameter in pandas.Categorical.remove_unused_categories is deprecated and will be removed in a future version.\n",
      "  res = method(*args, **kwargs)\n",
      "/home/icb/ignacio.ibarra/miniconda3/envs/mypython3/lib/python3.7/site-packages/pandas/core/arrays/categorical.py:2487: FutureWarning: The `inplace` parameter in pandas.Categorical.remove_unused_categories is deprecated and will be removed in a future version.\n",
      "  res = method(*args, **kwargs)\n",
      "/home/icb/ignacio.ibarra/miniconda3/envs/mypython3/lib/python3.7/site-packages/pandas/core/arrays/categorical.py:2487: FutureWarning: The `inplace` parameter in pandas.Categorical.remove_unused_categories is deprecated and will be removed in a future version.\n",
      "  res = method(*args, **kwargs)\n",
      "Trying to set attribute `.obs` of view, copying.\n"
     ]
    },
    {
     "name": "stdout",
     "output_type": "stream",
     "text": [
      "adding annotation from bal mdm...\n",
      "scoring genes...\n",
      "scoring MP.markers 20\n"
     ]
    },
    {
     "name": "stderr",
     "output_type": "stream",
     "text": [
      "/home/icb/ignacio.ibarra/miniconda3/envs/mypython3/lib/python3.7/site-packages/pandas/core/arrays/categorical.py:2487: FutureWarning: The `inplace` parameter in pandas.Categorical.remove_unused_categories is deprecated and will be removed in a future version.\n",
      "  res = method(*args, **kwargs)\n"
     ]
    },
    {
     "name": "stdout",
     "output_type": "stream",
     "text": [
      "scoring MP.others 10\n"
     ]
    },
    {
     "name": "stderr",
     "output_type": "stream",
     "text": [
      "/home/icb/ignacio.ibarra/miniconda3/envs/mypython3/lib/python3.7/site-packages/pandas/core/arrays/categorical.py:2487: FutureWarning: The `inplace` parameter in pandas.Categorical.remove_unused_categories is deprecated and will be removed in a future version.\n",
      "  res = method(*args, **kwargs)\n"
     ]
    },
    {
     "name": "stdout",
     "output_type": "stream",
     "text": [
      "scoring MP.all 31\n"
     ]
    },
    {
     "name": "stderr",
     "output_type": "stream",
     "text": [
      "/home/icb/ignacio.ibarra/miniconda3/envs/mypython3/lib/python3.7/site-packages/pandas/core/arrays/categorical.py:2487: FutureWarning: The `inplace` parameter in pandas.Categorical.remove_unused_categories is deprecated and will be removed in a future version.\n",
      "  res = method(*args, **kwargs)\n"
     ]
    }
   ],
   "source": [
    "bal = get_bal()"
   ]
  },
  {
   "cell_type": "code",
   "execution_count": 13,
   "metadata": {},
   "outputs": [
    {
     "data": {
      "text/plain": [
       "Index(['AAACCCACAAGCAATA-2', 'AAAGAACGTGTCCGTG-2', 'AAAGGGCCAAGCGCAA-2',\n",
       "       'AAAGGGCCAGCGAGTA-2', 'AAAGGTACACGGTGTC-2', 'AAAGTCCCAAGGCCTC-2',\n",
       "       'AAAGTCCCACATACTG-2', 'AAAGTCCTCCTCAGGG-2', 'AAAGTCCTCTTGAGCA-2',\n",
       "       'AAAGTGAGTTACCCTC-2',\n",
       "       ...\n",
       "       'TTCCTAAAGTGCTCAT-8', 'TTCCTCTCATCAGTCA-8', 'TTGATGGAGTTGCTGT-8',\n",
       "       'TTGCCTGAGCAACAAT-8', 'TTGGATGTCAACCGAT-8', 'TTGGGATCAGCTACTA-8',\n",
       "       'TTTGACTAGGTTCTTG-8', 'TTTGGTTCAAGTGCTT-8', 'TTTGTTGCAATGAGCG-8',\n",
       "       'TTTGTTGGTAGTAAGT-8'],\n",
       "      dtype='object', length=7503)"
      ]
     },
     "execution_count": 13,
     "metadata": {},
     "output_type": "execute_result"
    }
   ],
   "source": [
    "bal.obs.index"
   ]
  },
  {
   "cell_type": "code",
   "execution_count": 14,
   "metadata": {},
   "outputs": [
    {
     "data": {
      "text/plain": [
       "MDM 2        2006\n",
       "MDM 3B       1518\n",
       "MDM 3A       1426\n",
       "MDM 1        1023\n",
       "AM 2          929\n",
       "AM 1          168\n",
       "Undefined      75\n",
       "Name: mdm.type, dtype: int64"
      ]
     },
     "execution_count": 14,
     "metadata": {},
     "output_type": "execute_result"
    }
   ],
   "source": [
    "bal_mdm = sc.read_h5ad('data/bal/bal_mdm.h5ad')\n",
    "bal.obs['mdm.type'] = bal.obs.index.map(bal_mdm.obs.Cluster.to_dict())\n",
    "bal.obs['mdm.type'].value_counts()"
   ]
  },
  {
   "cell_type": "code",
   "execution_count": 15,
   "metadata": {},
   "outputs": [
    {
     "data": {
      "text/plain": [
       "2 Mono/Mp          3002\n",
       "3 SPP1/LGMN-Mp     1274\n",
       "5 INHBA-AMp        1064\n",
       "1 FCN1-Mono        1027\n",
       "4 SPP1/TREM2-Mp     866\n",
       "6 Prolif. AMp       207\n",
       "Low quality         148\n",
       "Name: x, dtype: int64"
      ]
     },
     "execution_count": 15,
     "metadata": {},
     "output_type": "execute_result"
    }
   ],
   "source": [
    "# here we update the annotation based on labels that Oliver provided on 03.15.2021\n",
    "annot_new = pd.read_csv('BAL-Mac_labels.csv', index_col=0)\n",
    "annot_new['found'] = annot_new.index.isin(bal.obs.index)\n",
    "\n",
    "bal.obs['mdm.type'] = bal.obs.index.map(annot_new['x'].to_dict())\n",
    "annot_new['x'].value_counts()"
   ]
  },
  {
   "cell_type": "code",
   "execution_count": 16,
   "metadata": {},
   "outputs": [
    {
     "data": {
      "text/plain": [
       "2 Mono/Mp          2951\n",
       "3 SPP1/LGMN-Mp     1190\n",
       "1 FCN1-Mono         992\n",
       "5 INHBA-AMp         916\n",
       "4 SPP1/TREM2-Mp     819\n",
       "6 Prolif. AMp       175\n",
       "Low quality         102\n",
       "Name: mdm.type, dtype: int64"
      ]
     },
     "execution_count": 16,
     "metadata": {},
     "output_type": "execute_result"
    }
   ],
   "source": [
    "bal.obs['mdm.type'].value_counts()"
   ]
  },
  {
   "cell_type": "code",
   "execution_count": 17,
   "metadata": {},
   "outputs": [
    {
     "data": {
      "text/plain": [
       "array([ 443, 7145])"
      ]
     },
     "execution_count": 17,
     "metadata": {},
     "output_type": "execute_result"
    }
   ],
   "source": [
    "np.bincount(annot_new.index.isin(bal.obs.index))"
   ]
  },
  {
   "cell_type": "code",
   "execution_count": 18,
   "metadata": {},
   "outputs": [
    {
     "data": {
      "text/plain": [
       "(7503, 27007)"
      ]
     },
     "execution_count": 18,
     "metadata": {},
     "output_type": "execute_result"
    }
   ],
   "source": [
    "bal.shape"
   ]
  },
  {
   "cell_type": "code",
   "execution_count": 19,
   "metadata": {},
   "outputs": [
    {
     "data": {
      "text/plain": [
       "2 Mono/Mp          2951\n",
       "3 SPP1/LGMN-Mp     1190\n",
       "1 FCN1-Mono         992\n",
       "5 INHBA-AMp         916\n",
       "4 SPP1/TREM2-Mp     819\n",
       "Others (COVID)      358\n",
       "6 Prolif. AMp       175\n",
       "Low quality         102\n",
       "Name: mdm.type, dtype: int64"
      ]
     },
     "execution_count": 19,
     "metadata": {},
     "output_type": "execute_result"
    }
   ],
   "source": [
    "bal.obs['mdm.type'] = np.where(pd.isnull(bal.obs['mdm.type']), 'Others (COVID)', bal.obs['mdm.type'])\n",
    "bal.obs['mdm.type'].value_counts()\n"
   ]
  },
  {
   "cell_type": "code",
   "execution_count": 20,
   "metadata": {},
   "outputs": [],
   "source": [
    "ad.obs['mdm.type'] = np.where(ad.obs['study'] == 'BAL', ad.obs.index.str[:-10].map(bal.obs['mdm.type'].to_dict()), 'Others (COVID)')\n",
    "ad.obs['mdm.type'] = np.where(ad.obs['study'] != 'BAL', 'Others (A/M/B)', ad.obs['mdm.type'])\n",
    "# bal.obs['mdm.type'] = np.where(pd.isnull(bal.obs['mdm.type']), 'Others (COVID)', bal.obs['mdm.type'])\n",
    "# ad.obs['mdm.type'] = np.where(ad.obs['study'] == 'BAL', ad.obs.index.str[:-4].map(bal.obs['mdm.type'].to_dict()), 'Others (Adams/Morse)')"
   ]
  },
  {
   "cell_type": "code",
   "execution_count": 21,
   "metadata": {},
   "outputs": [
    {
     "data": {
      "text/plain": [
       "Others (A/M/B)     130838\n",
       "2 Mono/Mp            2951\n",
       "3 SPP1/LGMN-Mp       1190\n",
       "1 FCN1-Mono           992\n",
       "5 INHBA-AMp           916\n",
       "4 SPP1/TREM2-Mp       819\n",
       "Others (COVID)        358\n",
       "6 Prolif. AMp         175\n",
       "Low quality           102\n",
       "Name: mdm.type, dtype: int64"
      ]
     },
     "execution_count": 21,
     "metadata": {},
     "output_type": "execute_result"
    }
   ],
   "source": [
    "ad.obs['mdm.type'].value_counts()"
   ]
  },
  {
   "cell_type": "code",
   "execution_count": 22,
   "metadata": {},
   "outputs": [
    {
     "name": "stdout",
     "output_type": "stream",
     "text": [
      "loaded...\n"
     ]
    }
   ],
   "source": [
    "print('loaded...')"
   ]
  },
  {
   "cell_type": "code",
   "execution_count": 23,
   "metadata": {},
   "outputs": [
    {
     "data": {
      "text/html": [
       "<div>\n",
       "<style scoped>\n",
       "    .dataframe tbody tr th:only-of-type {\n",
       "        vertical-align: middle;\n",
       "    }\n",
       "\n",
       "    .dataframe tbody tr th {\n",
       "        vertical-align: top;\n",
       "    }\n",
       "\n",
       "    .dataframe thead th {\n",
       "        text-align: right;\n",
       "    }\n",
       "</style>\n",
       "<table border=\"1\" class=\"dataframe\">\n",
       "  <thead>\n",
       "    <tr style=\"text-align: right;\">\n",
       "      <th></th>\n",
       "      <th>sample.id</th>\n",
       "      <th>study</th>\n",
       "      <th>patient.id</th>\n",
       "      <th>disease.status</th>\n",
       "    </tr>\n",
       "  </thead>\n",
       "  <tbody>\n",
       "    <tr>\n",
       "      <th>SC154IPFUP_AAACCTGCATCACGAT-1-0-0-0-0-0-0</th>\n",
       "      <td>SC154IPFUP</td>\n",
       "      <td>morse</td>\n",
       "      <td>SC154</td>\n",
       "      <td>IPF</td>\n",
       "    </tr>\n",
       "    <tr>\n",
       "      <th>SC93IPFLOW_AAACCTGCAGGTCCAC-1-0-0-0-0-0-0</th>\n",
       "      <td>SC93IPFLOW</td>\n",
       "      <td>morse</td>\n",
       "      <td>SC93</td>\n",
       "      <td>IPF</td>\n",
       "    </tr>\n",
       "    <tr>\n",
       "      <th>SC94IPFUP_AAACCTGAGTAGCCGA-1-0-0-0-0-0-0</th>\n",
       "      <td>SC94IPFUP</td>\n",
       "      <td>morse</td>\n",
       "      <td>SC94</td>\n",
       "      <td>IPF</td>\n",
       "    </tr>\n",
       "    <tr>\n",
       "      <th>SC95IPFLOW_AAAGCAAGTACAGTTC-1-0-0-0-0-0-0</th>\n",
       "      <td>SC95IPFLOW</td>\n",
       "      <td>morse</td>\n",
       "      <td>SC95</td>\n",
       "      <td>IPF</td>\n",
       "    </tr>\n",
       "    <tr>\n",
       "      <th>SC153IPFLOW_AAACCTGTCGAACGGA-1-0-0-0-0-0-0</th>\n",
       "      <td>SC153IPFLOW</td>\n",
       "      <td>morse</td>\n",
       "      <td>SC153</td>\n",
       "      <td>IPF</td>\n",
       "    </tr>\n",
       "    <tr>\n",
       "      <th>SC87IPFLOW_AAACCTGAGAGCTGGT-1-0-0-0-0-0-0</th>\n",
       "      <td>SC87IPFLOW</td>\n",
       "      <td>morse</td>\n",
       "      <td>SC87</td>\n",
       "      <td>IPF</td>\n",
       "    </tr>\n",
       "    <tr>\n",
       "      <th>SC89IPFLOW_AAACCTGCAAGTCATC-1-0-0-0-0-0-0</th>\n",
       "      <td>SC89IPFLOW</td>\n",
       "      <td>morse</td>\n",
       "      <td>SC89</td>\n",
       "      <td>IPF</td>\n",
       "    </tr>\n",
       "    <tr>\n",
       "      <th>SC88IPFUP_AAACCTGGTATGAATG-1-0-0-0-0-0-0</th>\n",
       "      <td>SC88IPFUP</td>\n",
       "      <td>morse</td>\n",
       "      <td>SC88</td>\n",
       "      <td>IPF</td>\n",
       "    </tr>\n",
       "    <tr>\n",
       "      <th>SC56NOR_AAACCTGCACGGTAGA-1-0-0-0-0-0-0</th>\n",
       "      <td>SC56NOR</td>\n",
       "      <td>morse</td>\n",
       "      <td>SC56</td>\n",
       "      <td>control</td>\n",
       "    </tr>\n",
       "    <tr>\n",
       "      <th>SC155NORLOW_AAACCTGAGACAAGCC-1-0-0-0-0-0-0</th>\n",
       "      <td>SC155NORLOW</td>\n",
       "      <td>morse</td>\n",
       "      <td>SC155</td>\n",
       "      <td>control</td>\n",
       "    </tr>\n",
       "    <tr>\n",
       "      <th>SC14NOR_AAAGATCTTTACTC-1-0-0-0-0-0-0</th>\n",
       "      <td>SC14NOR</td>\n",
       "      <td>morse</td>\n",
       "      <td>SC14</td>\n",
       "      <td>control</td>\n",
       "    </tr>\n",
       "    <tr>\n",
       "      <th>SC156NORUP_AAACCTGAGCACGCCT-1-0-0-0-0-0-0</th>\n",
       "      <td>SC156NORUP</td>\n",
       "      <td>morse</td>\n",
       "      <td>SC156</td>\n",
       "      <td>control</td>\n",
       "    </tr>\n",
       "    <tr>\n",
       "      <th>SC31DNOR_AAACATACCGTACA-1-0-0-0-0-0-0</th>\n",
       "      <td>SC31DNOR</td>\n",
       "      <td>morse</td>\n",
       "      <td>SC31D</td>\n",
       "      <td>control</td>\n",
       "    </tr>\n",
       "    <tr>\n",
       "      <th>SC59NOR_AAACCTGAGATGGGTC-1-0-0-0-0-0-0</th>\n",
       "      <td>SC59NOR</td>\n",
       "      <td>morse</td>\n",
       "      <td>SC59</td>\n",
       "      <td>control</td>\n",
       "    </tr>\n",
       "    <tr>\n",
       "      <th>SC31NOR_AAACGCTGAACCGT-1-0-0-0-0-0-0</th>\n",
       "      <td>SC31NOR</td>\n",
       "      <td>morse</td>\n",
       "      <td>SC31</td>\n",
       "      <td>control</td>\n",
       "    </tr>\n",
       "    <tr>\n",
       "      <th>SC45NOR_AAACCTGGTCATGCCG-1-0-0-0-0-0-0</th>\n",
       "      <td>SC45NOR</td>\n",
       "      <td>morse</td>\n",
       "      <td>SC45</td>\n",
       "      <td>control</td>\n",
       "    </tr>\n",
       "  </tbody>\n",
       "</table>\n",
       "</div>"
      ],
      "text/plain": [
       "                                              sample.id  study patient.id  \\\n",
       "SC154IPFUP_AAACCTGCATCACGAT-1-0-0-0-0-0-0    SC154IPFUP  morse      SC154   \n",
       "SC93IPFLOW_AAACCTGCAGGTCCAC-1-0-0-0-0-0-0    SC93IPFLOW  morse       SC93   \n",
       "SC94IPFUP_AAACCTGAGTAGCCGA-1-0-0-0-0-0-0      SC94IPFUP  morse       SC94   \n",
       "SC95IPFLOW_AAAGCAAGTACAGTTC-1-0-0-0-0-0-0    SC95IPFLOW  morse       SC95   \n",
       "SC153IPFLOW_AAACCTGTCGAACGGA-1-0-0-0-0-0-0  SC153IPFLOW  morse      SC153   \n",
       "SC87IPFLOW_AAACCTGAGAGCTGGT-1-0-0-0-0-0-0    SC87IPFLOW  morse       SC87   \n",
       "SC89IPFLOW_AAACCTGCAAGTCATC-1-0-0-0-0-0-0    SC89IPFLOW  morse       SC89   \n",
       "SC88IPFUP_AAACCTGGTATGAATG-1-0-0-0-0-0-0      SC88IPFUP  morse       SC88   \n",
       "SC56NOR_AAACCTGCACGGTAGA-1-0-0-0-0-0-0          SC56NOR  morse       SC56   \n",
       "SC155NORLOW_AAACCTGAGACAAGCC-1-0-0-0-0-0-0  SC155NORLOW  morse      SC155   \n",
       "SC14NOR_AAAGATCTTTACTC-1-0-0-0-0-0-0            SC14NOR  morse       SC14   \n",
       "SC156NORUP_AAACCTGAGCACGCCT-1-0-0-0-0-0-0    SC156NORUP  morse      SC156   \n",
       "SC31DNOR_AAACATACCGTACA-1-0-0-0-0-0-0          SC31DNOR  morse      SC31D   \n",
       "SC59NOR_AAACCTGAGATGGGTC-1-0-0-0-0-0-0          SC59NOR  morse       SC59   \n",
       "SC31NOR_AAACGCTGAACCGT-1-0-0-0-0-0-0            SC31NOR  morse       SC31   \n",
       "SC45NOR_AAACCTGGTCATGCCG-1-0-0-0-0-0-0          SC45NOR  morse       SC45   \n",
       "\n",
       "                                           disease.status  \n",
       "SC154IPFUP_AAACCTGCATCACGAT-1-0-0-0-0-0-0             IPF  \n",
       "SC93IPFLOW_AAACCTGCAGGTCCAC-1-0-0-0-0-0-0             IPF  \n",
       "SC94IPFUP_AAACCTGAGTAGCCGA-1-0-0-0-0-0-0              IPF  \n",
       "SC95IPFLOW_AAAGCAAGTACAGTTC-1-0-0-0-0-0-0             IPF  \n",
       "SC153IPFLOW_AAACCTGTCGAACGGA-1-0-0-0-0-0-0            IPF  \n",
       "SC87IPFLOW_AAACCTGAGAGCTGGT-1-0-0-0-0-0-0             IPF  \n",
       "SC89IPFLOW_AAACCTGCAAGTCATC-1-0-0-0-0-0-0             IPF  \n",
       "SC88IPFUP_AAACCTGGTATGAATG-1-0-0-0-0-0-0              IPF  \n",
       "SC56NOR_AAACCTGCACGGTAGA-1-0-0-0-0-0-0            control  \n",
       "SC155NORLOW_AAACCTGAGACAAGCC-1-0-0-0-0-0-0        control  \n",
       "SC14NOR_AAAGATCTTTACTC-1-0-0-0-0-0-0              control  \n",
       "SC156NORUP_AAACCTGAGCACGCCT-1-0-0-0-0-0-0         control  \n",
       "SC31DNOR_AAACATACCGTACA-1-0-0-0-0-0-0             control  \n",
       "SC59NOR_AAACCTGAGATGGGTC-1-0-0-0-0-0-0            control  \n",
       "SC31NOR_AAACGCTGAACCGT-1-0-0-0-0-0-0              control  \n",
       "SC45NOR_AAACCTGGTCATGCCG-1-0-0-0-0-0-0            control  "
      ]
     },
     "execution_count": 23,
     "metadata": {},
     "output_type": "execute_result"
    }
   ],
   "source": [
    "ad.obs[ad.obs['study'] == 'morse'][['sample.id', 'study', 'patient.id', 'disease.status']].drop_duplicates('patient.id').sort_values('disease.status') # ['patient.id'].value_counts().head(20)"
   ]
  },
  {
   "cell_type": "code",
   "execution_count": 24,
   "metadata": {},
   "outputs": [],
   "source": [
    "# ad.var[ad.var['ensembl-0-0'].str.contains('ENSG00000095970')]"
   ]
  },
  {
   "cell_type": "markdown",
   "metadata": {},
   "source": [
    "### add the mdm annotation"
   ]
  },
  {
   "cell_type": "code",
   "execution_count": 25,
   "metadata": {},
   "outputs": [
    {
     "data": {
      "text/plain": [
       "Macrophage_Alveolar                36666\n",
       "Macrophage                         32089\n",
       "SPP1hi Macrophage                  10593\n",
       "M2                                 10453\n",
       "M3                                  8845\n",
       "Macrophages                         7503\n",
       "FABP4hi Macrophage                  6958\n",
       "Macrophage_Outlier_B                4223\n",
       "Macrophage_MT-tRNAs                 2077\n",
       "Macrophage_Outlier_C                2068\n",
       "nocytes                             1968\n",
       "Macrophage_Outlier_A                1690\n",
       "Macrophage_Outlier_F                1688\n",
       "Macrophage_Alveolar_CellCycle_A     1472\n",
       "Macrophage_Alveolar_CellCycle_B     1398\n",
       "Macrophage_Alveolar_Outlier_A       1263\n",
       "Macrophage_Alveolar_Outlier_B       1219\n",
       "Macrophage_CellCycle_B              1163\n",
       "1                                   1030\n",
       "Macrophage_Outlier_D                 959\n",
       "Macrophage_Outlier_HSPs              915\n",
       "Macrophage_Alveolar_Outlier_D        376\n",
       "Macrophage_Alveolar_Outlier_C        364\n",
       "Macrophage_CellCycle_A               343\n",
       "2                                    290\n",
       "Macrophage_Alveolar_Outlier_E        256\n",
       "M1                                   224\n",
       "Macrophage_Outlier_E                 210\n",
       "Macrophage_Alveolar_Outlier_F         31\n",
       "Macrophage_CellCycle_MT-tRNAs          7\n",
       "Name: cell.type, dtype: int64"
      ]
     },
     "execution_count": 25,
     "metadata": {},
     "output_type": "execute_result"
    }
   ],
   "source": [
    "ad.obs['cell.type'].value_counts()"
   ]
  },
  {
   "cell_type": "code",
   "execution_count": 26,
   "metadata": {},
   "outputs": [
    {
     "data": {
      "text/plain": [
       "Others (A/M/B)     130838\n",
       "2 Mono/Mp            2951\n",
       "3 SPP1/LGMN-Mp       1190\n",
       "1 FCN1-Mono           992\n",
       "5 INHBA-AMp           916\n",
       "4 SPP1/TREM2-Mp       819\n",
       "Others (COVID)        358\n",
       "6 Prolif. AMp         175\n",
       "Low quality           102\n",
       "Name: mdm.type, dtype: int64"
      ]
     },
     "execution_count": 26,
     "metadata": {},
     "output_type": "execute_result"
    }
   ],
   "source": [
    "ad.obs['mdm.type'].value_counts()"
   ]
  },
  {
   "cell_type": "code",
   "execution_count": 27,
   "metadata": {},
   "outputs": [],
   "source": [
    "import matplotlib.pyplot as plt\n",
    "import seaborn as sns\n",
    "%matplotlib inline"
   ]
  },
  {
   "cell_type": "code",
   "execution_count": 28,
   "metadata": {},
   "outputs": [
    {
     "name": "stderr",
     "output_type": "stream",
     "text": [
      "/home/icb/ignacio.ibarra/miniconda3/envs/mypython3/lib/python3.7/site-packages/pandas/core/arrays/categorical.py:2487: FutureWarning: The `inplace` parameter in pandas.Categorical.remove_unused_categories is deprecated and will be removed in a future version.\n",
      "  res = method(*args, **kwargs)\n"
     ]
    }
   ],
   "source": [
    "bal = ad[ad.obs['study'] == 'BAL',:]"
   ]
  },
  {
   "cell_type": "code",
   "execution_count": 29,
   "metadata": {},
   "outputs": [
    {
     "data": {
      "text/plain": [
       "(array([0, 1, 2, 3, 4, 5, 6]),\n",
       " [Text(0, 0, 'Alveolar-Mac'),\n",
       "  Text(1, 0, 'B/DC'),\n",
       "  Text(2, 0, 'Epithelia'),\n",
       "  Text(3, 0, 'Mo-Mac'),\n",
       "  Text(4, 0, 'Neutrophil'),\n",
       "  Text(5, 0, 'Plasmablast'),\n",
       "  Text(6, 0, 'T/NK')])"
      ]
     },
     "execution_count": 29,
     "metadata": {},
     "output_type": "execute_result"
    },
    {
     "data": {
      "image/png": "[encoded data removed]",
      "text/plain": [
       "<Figure size 432x288 with 2 Axes>"
      ]
     },
     "metadata": {
      "needs_background": "light"
     },
     "output_type": "display_data"
    }
   ],
   "source": [
    "plt.subplot(1, 2, 1)\n",
    "sns.violinplot(data=bal.obs, x='Celltype', y='MP.markers.score')\n",
    "plt.xticks(rotation=45, ha='right')\n",
    "plt.subplot(1, 2, 2)\n",
    "sns.violinplot(data=bal.obs, x='Celltype', y='MP.others.score')\n",
    "plt.xticks(rotation=45, ha='right')"
   ]
  },
  {
   "cell_type": "code",
   "execution_count": 30,
   "metadata": {},
   "outputs": [
    {
     "data": {
      "text/plain": [
       "(array([0, 1, 2, 3, 4, 5, 6, 7]),\n",
       " [Text(0, 0, '2 Mono/Mp'),\n",
       "  Text(1, 0, '1 FCN1-Mono'),\n",
       "  Text(2, 0, '3 SPP1/LGMN-Mp'),\n",
       "  Text(3, 0, 'Others (COVID)'),\n",
       "  Text(4, 0, 'Low quality'),\n",
       "  Text(5, 0, '4 SPP1/TREM2-Mp'),\n",
       "  Text(6, 0, '6 Prolif. AMp'),\n",
       "  Text(7, 0, '5 INHBA-AMp')])"
      ]
     },
     "execution_count": 30,
     "metadata": {},
     "output_type": "execute_result"
    },
    {
     "data": {
      "image/png": "[encoded data removed]",
      "text/plain": [
       "<Figure size 432x288 with 2 Axes>"
      ]
     },
     "metadata": {
      "needs_background": "light"
     },
     "output_type": "display_data"
    }
   ],
   "source": [
    "plt.subplot(1, 2, 1)\n",
    "sns.violinplot(data=bal.obs, x='mdm.type', y='MP.markers.score')\n",
    "plt.xticks(rotation=45, ha='right')\n",
    "plt.subplot(1, 2, 2)\n",
    "sns.violinplot(data=bal.obs, x='mdm.type', y='MP.others.score')\n",
    "plt.xticks(rotation=45, ha='right')"
   ]
  },
  {
   "cell_type": "code",
   "execution_count": 31,
   "metadata": {},
   "outputs": [
    {
     "data": {
      "text/plain": [
       "control            39409\n",
       "IPF                38460\n",
       "COPD               30159\n",
       "covid              22810\n",
       "2 Mono/Mp           2951\n",
       "3 SPP1/LGMN-Mp      1190\n",
       "1 FCN1-Mono          992\n",
       "5 INHBA-AMp          916\n",
       "4 SPP1/TREM2-Mp      819\n",
       "Others (COVID)       358\n",
       "6 Prolif. AMp        175\n",
       "Low quality          102\n",
       "Name: disease.status, dtype: int64"
      ]
     },
     "execution_count": 31,
     "metadata": {},
     "output_type": "execute_result"
    }
   ],
   "source": [
    "ad.obs['disease.status'] = np.where(ad.obs['study'] == 'BAL', ad.obs['mdm.type'], ad.obs['disease.status'])\n",
    "# ad.obs['disease.status'] = np.where(ad.obs['disease.status'] == 'BAL', ad.obs['Celltype'], ad.obs['disease.status'])\n",
    "ad.obs['disease.status'].value_counts()"
   ]
  },
  {
   "cell_type": "code",
   "execution_count": 32,
   "metadata": {},
   "outputs": [
    {
     "data": {
      "text/plain": [
       "{'1 FCN1-Mono',\n",
       " '2 Mono/Mp',\n",
       " '3 SPP1/LGMN-Mp',\n",
       " '4 SPP1/TREM2-Mp',\n",
       " '5 INHBA-AMp',\n",
       " '6 Prolif. AMp',\n",
       " 'COPD',\n",
       " 'IPF',\n",
       " 'Low quality',\n",
       " 'Others (COVID)',\n",
       " 'control',\n",
       " 'covid'}"
      ]
     },
     "execution_count": 32,
     "metadata": {},
     "output_type": "execute_result"
    }
   ],
   "source": [
    "disease = ad.obs['disease.status']\n",
    "set(disease)"
   ]
  },
  {
   "cell_type": "code",
   "execution_count": 33,
   "metadata": {},
   "outputs": [
    {
     "name": "stderr",
     "output_type": "stream",
     "text": [
      "/home/icb/ignacio.ibarra/miniconda3/envs/mypython3/lib/python3.7/site-packages/pandas/core/arrays/categorical.py:2487: FutureWarning: The `inplace` parameter in pandas.Categorical.remove_unused_categories is deprecated and will be removed in a future version.\n",
      "  res = method(*args, **kwargs)\n",
      "WARNING: You’re trying to run this on 17656 dimensions of `.X`, if you really want this, set `use_rep='X'`.\n",
      "         Falling back to preprocessing with `sc.pp.pca` and default params.\n"
     ]
    }
   ],
   "source": [
    "# calculate neighbors in the embedding of without budinger\n",
    "ad_no_budinger = ad[ad.obs['study'] != 'budinger']\n",
    "ad_no_budinger.shape\n",
    "ad_no_budinger.obs.groupby('study').size()\n",
    "sc.pp.neighbors(ad_no_budinger)"
   ]
  },
  {
   "cell_type": "code",
   "execution_count": 34,
   "metadata": {},
   "outputs": [
    {
     "name": "stderr",
     "output_type": "stream",
     "text": [
      "/home/icb/ignacio.ibarra/miniconda3/envs/mypython3/lib/python3.7/site-packages/pandas/core/arrays/categorical.py:2487: FutureWarning: The `inplace` parameter in pandas.Categorical.remove_unused_categories is deprecated and will be removed in a future version.\n",
      "  res = method(*args, **kwargs)\n"
     ]
    },
    {
     "data": {
      "text/plain": [
       "study\n",
       "adams       90477\n",
       "budinger    22810\n",
       "morse       17551\n",
       "dtype: int64"
      ]
     },
     "execution_count": 34,
     "metadata": {},
     "output_type": "execute_result"
    }
   ],
   "source": [
    "# calculate neighbors in the embedding without bal\n",
    "ad_no_bal = ad[ad.obs['study'] != 'BAL']\n",
    "ad_no_bal.shape\n",
    "ad_no_bal.obs.groupby('study').size()\n",
    "# sc.pp.neighbors(ad_no_bal)"
   ]
  },
  {
   "cell_type": "markdown",
   "metadata": {},
   "source": [
    "### Calculation of count scores based on distance between cells in the embeddings"
   ]
  },
  {
   "cell_type": "markdown",
   "metadata": {},
   "source": [
    "- This function needs to be executed several times\n",
    "- once all minus budinger, and once for all minus bal"
   ]
  },
  {
   "cell_type": "code",
   "execution_count": 35,
   "metadata": {},
   "outputs": [],
   "source": [
    "def get_scores(ad):\n",
    "    import numpy as np\n",
    "    from itertools import combinations\n",
    "\n",
    "    disease = ad.obs['disease.status']\n",
    "    conn = ad.uns['neighbors']['connectivities']\n",
    "\n",
    "    masks = []\n",
    "    obs = []\n",
    "    masks = []\n",
    "    positions = np.arange(ad.shape[0]) # .reshape(w, h)\n",
    "    conn_array = conn.toarray() if (type(conn) != np.ndarray) else conn\n",
    "\n",
    "    pos_by_pair = {}\n",
    "\n",
    "    uniq = set(disease)\n",
    "    \n",
    "    print(uniq)\n",
    "    va = [a for a in uniq if a not in {'IPF', 'COPD', 'control'} and str(a) != 'nan']\n",
    "    vb = [b for b in uniq if b in {'IPF', 'COPD', 'control'}]\n",
    "\n",
    "    for i in va:\n",
    "        for j in vb:\n",
    "            print(i, j)\n",
    "\n",
    "            x = positions[disease == i]\n",
    "            y = positions[disease == j]\n",
    "\n",
    "\n",
    "            xy = cartesian([x, y])\n",
    "            x, y = xy[:, 0].flatten(), xy[:, 1].flatten()\n",
    "\n",
    "            edges = conn_array[x, y]\n",
    "            edges = np.asarray(edges).flatten()\n",
    "            x_nodes = x[edges > 0]\n",
    "            y_nodes = y[edges > 0]\n",
    "            n_nodes_x, n_nodes_y = x_nodes.shape[0], y_nodes.shape[0]\n",
    "            nx_uniq, ny_uniq = np.unique(x_nodes).shape[0], np.unique(y_nodes).shape[0]\n",
    "\n",
    "            k = i + ':' + j\n",
    "            if not k in pos_by_pair:\n",
    "                pos_by_pair[i + ':' + j] = {}\n",
    "            pos_by_pair[i + ':' + j][i] = np.unique(x_nodes)\n",
    "            pos_by_pair[i + ':' + j][j] = np.unique(y_nodes)\n",
    "\n",
    "            obs.append([i, j, nx_uniq, ny_uniq, nx_uniq + ny_uniq])\n",
    "\n",
    "    scores = []\n",
    "    for mi, mdm_name in enumerate(va):\n",
    "        x = positions[disease == mdm_name]\n",
    "        print(mi, len(va), mdm_name)\n",
    "\n",
    "        idx_by_pos = {pos: idx for pos, idx in zip(list(positions[disease == mdm_name]),\n",
    "                                               list(disease[disease == mdm_name].index))}\n",
    "\n",
    "        for xi, pi in enumerate(x):\n",
    "            if xi % 250 == 0:\n",
    "                print(xi, len(x))\n",
    "\n",
    "            sel = conn_array[pi,:]\n",
    "\n",
    "            mask = (sel > 0) & (ad.obs['study'].isin({'morse', 'adams'}))\n",
    "            sel_df = ad[mask,:].obs[['study', 'disease.status']]\n",
    "            sel_df['edge.score'] = sel[mask] \n",
    "            sel_df['cell.x'] = pi\n",
    "            sel_df['cell.x.type'] = mdm_name\n",
    "            sel_df['cell.y'] = sel_df.index\n",
    "            sel_df['cell.x.id'] = idx_by_pos[pi]\n",
    "\n",
    "            # print(pi, sel_df.shape[0])\n",
    "            scores.append(sel_df.reset_index(drop=True))\n",
    "\n",
    "    import pandas as pd\n",
    "    scores = pd.concat(scores)\n",
    "    scores\n",
    "\n",
    "    from os.path import exists\n",
    "\n",
    "    print('here...')\n",
    "    \n",
    "    return scores"
   ]
  },
  {
   "cell_type": "code",
   "execution_count": 36,
   "metadata": {},
   "outputs": [],
   "source": [
    "import pandas\n",
    "from os.path import exists"
   ]
  },
  {
   "cell_type": "code",
   "execution_count": 37,
   "metadata": {},
   "outputs": [
    {
     "name": "stdout",
     "output_type": "stream",
     "text": [
      "budinger\n",
      "scoring MP.markers 20\n"
     ]
    },
    {
     "name": "stderr",
     "output_type": "stream",
     "text": [
      "/home/icb/ignacio.ibarra/miniconda3/envs/mypython3/lib/python3.7/site-packages/pandas/core/arrays/categorical.py:2487: FutureWarning: The `inplace` parameter in pandas.Categorical.remove_unused_categories is deprecated and will be removed in a future version.\n",
      "  res = method(*args, **kwargs)\n"
     ]
    },
    {
     "name": "stdout",
     "output_type": "stream",
     "text": [
      "scoring MP.others 10\n"
     ]
    },
    {
     "name": "stderr",
     "output_type": "stream",
     "text": [
      "/home/icb/ignacio.ibarra/miniconda3/envs/mypython3/lib/python3.7/site-packages/pandas/core/arrays/categorical.py:2487: FutureWarning: The `inplace` parameter in pandas.Categorical.remove_unused_categories is deprecated and will be removed in a future version.\n",
      "  res = method(*args, **kwargs)\n"
     ]
    },
    {
     "name": "stdout",
     "output_type": "stream",
     "text": [
      "scoring MP.all 31\n"
     ]
    },
    {
     "name": "stderr",
     "output_type": "stream",
     "text": [
      "/home/icb/ignacio.ibarra/miniconda3/envs/mypython3/lib/python3.7/site-packages/pandas/core/arrays/categorical.py:2487: FutureWarning: The `inplace` parameter in pandas.Categorical.remove_unused_categories is deprecated and will be removed in a future version.\n",
      "  res = method(*args, **kwargs)\n"
     ]
    }
   ],
   "source": [
    "budinger = get_budinger()"
   ]
  },
  {
   "cell_type": "markdown",
   "metadata": {},
   "source": [
    "### Because we forgot to include mdm.type to the integrated object, we do this after integration"
   ]
  },
  {
   "cell_type": "code",
   "execution_count": 38,
   "metadata": {},
   "outputs": [
    {
     "name": "stderr",
     "output_type": "stream",
     "text": [
      "Trying to set attribute `.obs` of view, copying.\n"
     ]
    }
   ],
   "source": [
    "mdm_type_by_bc = budinger.obs.set_index('Unnamed: 0')['Cell Type'].to_dict()\n",
    "\n",
    "\n",
    "ad_no_bal.obs['mdm.type'] = np.where(ad_no_bal.obs['study'] == 'budinger', ad_no_bal.obs['Unnamed: 0'].map(mdm_type_by_bc), ad_no_bal.obs['mdm.type'])\n",
    "ad_no_bal.obs['disease.status'] = np.where((ad_no_bal.obs['study'] == 'budinger'), ad_no_bal.obs['mdm.type'], ad_no_bal.obs['disease.status'])\n"
   ]
  },
  {
   "cell_type": "code",
   "execution_count": 39,
   "metadata": {},
   "outputs": [
    {
     "data": {
      "text/plain": [
       "SC154IPFUP_AAACCTGCATCACGAT-1-0-0-0-0-0-0    nan\n",
       "SC154IPFUP_AAACGGGGTACCGGCT-1-0-0-0-0-0-0    nan\n",
       "SC154IPFUP_AAACGGGTCTGTCCGT-1-0-0-0-0-0-0    nan\n",
       "SC154IPFUP_AAAGATGAGATCCCGC-1-0-0-0-0-0-0    nan\n",
       "SC154IPFUP_AAAGATGAGATGCGAC-1-0-0-0-0-0-0    nan\n",
       "                                            ... \n",
       "484C_TTGACTTTCATCTGCC-1-0-0-1                nan\n",
       "484C_TTTACTGCAAATTGCC-1-0-0-1                nan\n",
       "484C_TTTATGCCAATAGAGT-1-0-0-1                nan\n",
       "484C_TTTATGCTCGATAGAA-1-0-0-1                nan\n",
       "484C_TTTGGTTCATCGGGTC-1-0-0-1                nan\n",
       "Name: Cluster, Length: 130838, dtype: category\n",
       "Categories (7, object): ['AM1', 'AM2', 'MoM1', 'MoM2', 'MoM3', 'Monocytes', 'nan']"
      ]
     },
     "execution_count": 39,
     "metadata": {},
     "output_type": "execute_result"
    }
   ],
   "source": [
    "ad_no_bal.obs['Cluster']"
   ]
  },
  {
   "cell_type": "code",
   "execution_count": 40,
   "metadata": {},
   "outputs": [
    {
     "data": {
      "text/plain": [
       "Others (A/M/B)    108028\n",
       "MoAM-1              8188\n",
       "MoAM-2              7665\n",
       "MoAM-3              5037\n",
       "TRAM-2               842\n",
       "TRAM-1               822\n",
       "MoAM-4               129\n",
       "TRAM-3               127\n",
       "Name: mdm.type, dtype: int64"
      ]
     },
     "execution_count": 40,
     "metadata": {},
     "output_type": "execute_result"
    }
   ],
   "source": [
    "ad_no_bal.obs['mdm.type'].value_counts()"
   ]
  },
  {
   "cell_type": "code",
   "execution_count": 41,
   "metadata": {},
   "outputs": [],
   "source": [
    "ad_no_bal.obs['mdm.type'] = np.where(ad_no_bal.obs['study'] == 'budinger', ad_no_bal.obs['Cluster'],  ad_no_bal.obs['mdm.type'])\n",
    "ad_no_bal.obs['disease.status'] = np.where((ad_no_bal.obs['study'] == 'budinger'), ad_no_bal.obs['mdm.type'], ad_no_bal.obs['disease.status'])"
   ]
  },
  {
   "cell_type": "code",
   "execution_count": 42,
   "metadata": {},
   "outputs": [
    {
     "data": {
      "text/plain": [
       "control      39409\n",
       "IPF          38460\n",
       "COPD         30159\n",
       "MoM2         10453\n",
       "MoM3          8845\n",
       "Monocytes     1968\n",
       "AM1           1030\n",
       "AM2            290\n",
       "MoM1           224\n",
       "Name: disease.status, dtype: int64"
      ]
     },
     "execution_count": 42,
     "metadata": {},
     "output_type": "execute_result"
    }
   ],
   "source": [
    "ad_no_bal.obs['disease.status'].value_counts()"
   ]
  },
  {
   "cell_type": "code",
   "execution_count": 43,
   "metadata": {},
   "outputs": [
    {
     "data": {
      "text/plain": [
       "control      309\n",
       "IPF          280\n",
       "COPD         233\n",
       "MoM2          78\n",
       "MoM3          72\n",
       "Monocytes     19\n",
       "AM1            6\n",
       "AM2            3\n",
       "Name: disease.status, dtype: int64"
      ]
     },
     "execution_count": 43,
     "metadata": {},
     "output_type": "execute_result"
    }
   ],
   "source": [
    "idx = list(ad_no_bal.obs.copy().index)\n",
    "np.random.shuffle(idx)\n",
    "idx = idx[:1000]\n",
    "ad_no_bal_sample = ad_no_bal[ad_no_bal.obs.index.isin(set(idx)),:]\n",
    "ad_no_bal_sample.obs['disease.status'].value_counts()"
   ]
  },
  {
   "cell_type": "code",
   "execution_count": 44,
   "metadata": {},
   "outputs": [
    {
     "data": {
      "text/plain": [
       "control      309\n",
       "IPF          280\n",
       "COPD         233\n",
       "MoM2          78\n",
       "MoM3          72\n",
       "Monocytes     19\n",
       "AM1            6\n",
       "AM2            3\n",
       "Name: disease.status, dtype: int64"
      ]
     },
     "execution_count": 44,
     "metadata": {},
     "output_type": "execute_result"
    }
   ],
   "source": [
    "ad_no_bal_sample.obs['disease.status'].value_counts()"
   ]
  },
  {
   "cell_type": "code",
   "execution_count": 45,
   "metadata": {},
   "outputs": [
    {
     "data": {
      "text/plain": [
       "control      39409\n",
       "IPF          38460\n",
       "COPD         30159\n",
       "MoM2         10453\n",
       "MoM3          8845\n",
       "Monocytes     1968\n",
       "AM1           1030\n",
       "AM2            290\n",
       "MoM1           224\n",
       "Name: disease.status, dtype: int64"
      ]
     },
     "execution_count": 45,
     "metadata": {},
     "output_type": "execute_result"
    }
   ],
   "source": [
    "ad_no_bal.obs['disease.status'].value_counts()"
   ]
  },
  {
   "cell_type": "code",
   "execution_count": 47,
   "metadata": {},
   "outputs": [],
   "source": [
    "import pandas as pd\n",
    "from os.path import exists"
   ]
  },
  {
   "cell_type": "code",
   "execution_count": 48,
   "metadata": {},
   "outputs": [
    {
     "name": "stdout",
     "output_type": "stream",
     "text": [
      "all_minus_budinger (115531, 17656)\n",
      "True ../data/conn_scores_by_bal_cell_revision_120k_all_minus_budinger.tsv.gz\n",
      "loading...\n",
      "all_minus_bal_sample (1000, 17656)\n",
      "True ../data/conn_scores_by_bal_cell_revision_120k_all_minus_bal_sample.tsv.gz\n",
      "loading...\n",
      "all_minus_bal (130838, 17656)\n",
      "True ../data/conn_scores_by_bal_cell_revision_120k_all_minus_bal.tsv.gz\n",
      "loading...\n"
     ]
    }
   ],
   "source": [
    "scores_by_k = {}\n",
    "for k, next_ad in zip(['all_minus_budinger', 'all_minus_bal_sample', 'all_minus_bal'],\n",
    "                      [ad_no_budinger, ad_no_bal_sample, ad_no_bal]):\n",
    "    print(k, next_ad.shape)\n",
    "    \n",
    "    p = 'data/conn_scores_by_bal_cell_revision_120k_%s.tsv.gz' % k\n",
    "    print(exists(p), p)\n",
    "    if not exists(p): # 'all_minus_bal' in k:\n",
    "        print('calculating scores...', k)\n",
    "        print(exists(p), p)\n",
    "        scores = get_scores(next_ad)\n",
    "        scores.to_csv(p, sep='\\t', compression='gzip', index=None)\n",
    "        \n",
    "    if not k in scores_by_k:\n",
    "        print('loading...')\n",
    "        scores_by_k[k] = pd.read_csv(p, sep='\\t', compression='gzip')\n",
    "        \n",
    "    "
   ]
  },
  {
   "cell_type": "code",
   "execution_count": 49,
   "metadata": {},
   "outputs": [
    {
     "data": {
      "text/plain": [
       "dict_keys(['all_minus_budinger', 'all_minus_bal_sample', 'all_minus_bal'])"
      ]
     },
     "execution_count": 49,
     "metadata": {},
     "output_type": "execute_result"
    }
   ],
   "source": [
    "scores_by_k.keys() # ['cell.x.type'].value_counts()"
   ]
  },
  {
   "cell_type": "code",
   "execution_count": null,
   "metadata": {},
   "outputs": [],
   "source": []
  },
  {
   "cell_type": "code",
   "execution_count": 50,
   "metadata": {},
   "outputs": [
    {
     "data": {
      "text/plain": [
       "2 Mono/Mp          18292\n",
       "5 INHBA-AMp        10636\n",
       "4 SPP1/TREM2-Mp     8109\n",
       "3 SPP1/LGMN-Mp      7060\n",
       "1 FCN1-Mono         3761\n",
       "Others (COVID)      3043\n",
       "6 Prolif. AMp       1591\n",
       "Low quality          969\n",
       "Name: cell.x.type, dtype: int64"
      ]
     },
     "execution_count": 50,
     "metadata": {},
     "output_type": "execute_result"
    }
   ],
   "source": [
    "scores_by_k['all_minus_budinger']['cell.x.type'].value_counts()"
   ]
  },
  {
   "cell_type": "code",
   "execution_count": 51,
   "metadata": {},
   "outputs": [
    {
     "data": {
      "text/plain": [
       "2 Mono/Mp          18292\n",
       "5 INHBA-AMp        10636\n",
       "4 SPP1/TREM2-Mp     8109\n",
       "3 SPP1/LGMN-Mp      7060\n",
       "1 FCN1-Mono         3761\n",
       "Others (COVID)      3043\n",
       "6 Prolif. AMp       1591\n",
       "Low quality          969\n",
       "Name: cell.x.type, dtype: int64"
      ]
     },
     "execution_count": 51,
     "metadata": {},
     "output_type": "execute_result"
    }
   ],
   "source": [
    "scores_by_k['all_minus_budinger']['cell.x.type'].value_counts()"
   ]
  },
  {
   "cell_type": "code",
   "execution_count": 53,
   "metadata": {},
   "outputs": [
    {
     "data": {
      "text/plain": [
       "dict_keys(['all_minus_budinger', 'all_minus_bal_sample', 'all_minus_bal'])"
      ]
     },
     "execution_count": 53,
     "metadata": {},
     "output_type": "execute_result"
    }
   ],
   "source": [
    "scores_by_k.keys()"
   ]
  },
  {
   "cell_type": "markdown",
   "metadata": {},
   "source": [
    "### Given a subset visualization attempt to plot the data"
   ]
  },
  {
   "cell_type": "code",
   "execution_count": 55,
   "metadata": {},
   "outputs": [
    {
     "name": "stdout",
     "output_type": "stream",
     "text": [
      "all_minus_budinger (53461, 7)\n",
      "all_minus_bal_sample (17, 7)\n",
      "all_minus_bal (195656, 7)\n"
     ]
    }
   ],
   "source": [
    "for k in scores_by_k:\n",
    "    print(k, scores_by_k[k].shape)"
   ]
  },
  {
   "cell_type": "code",
   "execution_count": 56,
   "metadata": {},
   "outputs": [
    {
     "data": {
      "text/html": [
       "<div>\n",
       "<style scoped>\n",
       "    .dataframe tbody tr th:only-of-type {\n",
       "        vertical-align: middle;\n",
       "    }\n",
       "\n",
       "    .dataframe tbody tr th {\n",
       "        vertical-align: top;\n",
       "    }\n",
       "\n",
       "    .dataframe thead th {\n",
       "        text-align: right;\n",
       "    }\n",
       "</style>\n",
       "<table border=\"1\" class=\"dataframe\">\n",
       "  <thead>\n",
       "    <tr style=\"text-align: right;\">\n",
       "      <th></th>\n",
       "      <th>study</th>\n",
       "      <th>disease.status</th>\n",
       "      <th>edge.score</th>\n",
       "      <th>cell.x</th>\n",
       "      <th>cell.x.type</th>\n",
       "      <th>cell.y</th>\n",
       "      <th>cell.x.id</th>\n",
       "    </tr>\n",
       "  </thead>\n",
       "  <tbody>\n",
       "    <tr>\n",
       "      <th>0</th>\n",
       "      <td>morse</td>\n",
       "      <td>IPF</td>\n",
       "      <td>0.232685</td>\n",
       "      <td>17551</td>\n",
       "      <td>MoM2</td>\n",
       "      <td>SC154IPFUP_ATCTGCCTCACCGGGT-1-0-0-0-0-0-0</td>\n",
       "      <td>63860-1-0-0-0</td>\n",
       "    </tr>\n",
       "    <tr>\n",
       "      <th>1</th>\n",
       "      <td>adams</td>\n",
       "      <td>IPF</td>\n",
       "      <td>0.180219</td>\n",
       "      <td>17551</td>\n",
       "      <td>MoM2</td>\n",
       "      <td>210CO_GGGTTGCTCTGCCAGG-1-0-0-1-0</td>\n",
       "      <td>63860-1-0-0-0</td>\n",
       "    </tr>\n",
       "    <tr>\n",
       "      <th>2</th>\n",
       "      <td>adams</td>\n",
       "      <td>control</td>\n",
       "      <td>0.293829</td>\n",
       "      <td>17551</td>\n",
       "      <td>MoM2</td>\n",
       "      <td>092C_TCGAGGCTCGCTTAGA-1-0-0-1</td>\n",
       "      <td>63860-1-0-0-0</td>\n",
       "    </tr>\n",
       "    <tr>\n",
       "      <th>3</th>\n",
       "      <td>adams</td>\n",
       "      <td>control</td>\n",
       "      <td>0.121700</td>\n",
       "      <td>17551</td>\n",
       "      <td>MoM2</td>\n",
       "      <td>160C_ATCCACCAGAATGTTG-1-0-0-1</td>\n",
       "      <td>63860-1-0-0-0</td>\n",
       "    </tr>\n",
       "    <tr>\n",
       "      <th>4</th>\n",
       "      <td>adams</td>\n",
       "      <td>control</td>\n",
       "      <td>0.255294</td>\n",
       "      <td>17551</td>\n",
       "      <td>MoM2</td>\n",
       "      <td>160C_ATTATCCTCTACTATC-1-0-0-1</td>\n",
       "      <td>63860-1-0-0-0</td>\n",
       "    </tr>\n",
       "    <tr>\n",
       "      <th>...</th>\n",
       "      <td>...</td>\n",
       "      <td>...</td>\n",
       "      <td>...</td>\n",
       "      <td>...</td>\n",
       "      <td>...</td>\n",
       "      <td>...</td>\n",
       "      <td>...</td>\n",
       "    </tr>\n",
       "    <tr>\n",
       "      <th>195651</th>\n",
       "      <td>adams</td>\n",
       "      <td>COPD</td>\n",
       "      <td>0.148102</td>\n",
       "      <td>40328</td>\n",
       "      <td>AM2</td>\n",
       "      <td>192CO-b_CGGAGTCCACCACGTG-1-0-0-1-0-0</td>\n",
       "      <td>148250-1-0-0-0</td>\n",
       "    </tr>\n",
       "    <tr>\n",
       "      <th>195652</th>\n",
       "      <td>adams</td>\n",
       "      <td>IPF</td>\n",
       "      <td>0.198943</td>\n",
       "      <td>40328</td>\n",
       "      <td>AM2</td>\n",
       "      <td>177I_AGATCTGCCGATCTAG-1-0-0-1-0</td>\n",
       "      <td>148250-1-0-0-0</td>\n",
       "    </tr>\n",
       "    <tr>\n",
       "      <th>195653</th>\n",
       "      <td>adams</td>\n",
       "      <td>IPF</td>\n",
       "      <td>0.145802</td>\n",
       "      <td>40328</td>\n",
       "      <td>AM2</td>\n",
       "      <td>177I_AGGGTGATCGCACTCT-1-0-0-1-0</td>\n",
       "      <td>148250-1-0-0-0</td>\n",
       "    </tr>\n",
       "    <tr>\n",
       "      <th>195654</th>\n",
       "      <td>adams</td>\n",
       "      <td>control</td>\n",
       "      <td>0.493166</td>\n",
       "      <td>40328</td>\n",
       "      <td>AM2</td>\n",
       "      <td>003C_CAACCAAAGAGCCTAG-1-0-0-1</td>\n",
       "      <td>148250-1-0-0-0</td>\n",
       "    </tr>\n",
       "    <tr>\n",
       "      <th>195655</th>\n",
       "      <td>adams</td>\n",
       "      <td>control</td>\n",
       "      <td>0.142328</td>\n",
       "      <td>40328</td>\n",
       "      <td>AM2</td>\n",
       "      <td>465C_GCATGTATCTTGAGAC-1-0-0-1</td>\n",
       "      <td>148250-1-0-0-0</td>\n",
       "    </tr>\n",
       "  </tbody>\n",
       "</table>\n",
       "<p>195656 rows × 7 columns</p>\n",
       "</div>"
      ],
      "text/plain": [
       "        study disease.status  edge.score  cell.x cell.x.type  \\\n",
       "0       morse            IPF    0.232685   17551        MoM2   \n",
       "1       adams            IPF    0.180219   17551        MoM2   \n",
       "2       adams        control    0.293829   17551        MoM2   \n",
       "3       adams        control    0.121700   17551        MoM2   \n",
       "4       adams        control    0.255294   17551        MoM2   \n",
       "...       ...            ...         ...     ...         ...   \n",
       "195651  adams           COPD    0.148102   40328         AM2   \n",
       "195652  adams            IPF    0.198943   40328         AM2   \n",
       "195653  adams            IPF    0.145802   40328         AM2   \n",
       "195654  adams        control    0.493166   40328         AM2   \n",
       "195655  adams        control    0.142328   40328         AM2   \n",
       "\n",
       "                                           cell.y       cell.x.id  \n",
       "0       SC154IPFUP_ATCTGCCTCACCGGGT-1-0-0-0-0-0-0   63860-1-0-0-0  \n",
       "1                210CO_GGGTTGCTCTGCCAGG-1-0-0-1-0   63860-1-0-0-0  \n",
       "2                   092C_TCGAGGCTCGCTTAGA-1-0-0-1   63860-1-0-0-0  \n",
       "3                   160C_ATCCACCAGAATGTTG-1-0-0-1   63860-1-0-0-0  \n",
       "4                   160C_ATTATCCTCTACTATC-1-0-0-1   63860-1-0-0-0  \n",
       "...                                           ...             ...  \n",
       "195651       192CO-b_CGGAGTCCACCACGTG-1-0-0-1-0-0  148250-1-0-0-0  \n",
       "195652            177I_AGATCTGCCGATCTAG-1-0-0-1-0  148250-1-0-0-0  \n",
       "195653            177I_AGGGTGATCGCACTCT-1-0-0-1-0  148250-1-0-0-0  \n",
       "195654              003C_CAACCAAAGAGCCTAG-1-0-0-1  148250-1-0-0-0  \n",
       "195655              465C_GCATGTATCTTGAGAC-1-0-0-1  148250-1-0-0-0  \n",
       "\n",
       "[195656 rows x 7 columns]"
      ]
     },
     "execution_count": 56,
     "metadata": {},
     "output_type": "execute_result"
    }
   ],
   "source": [
    "scores_by_k['all_minus_bal']"
   ]
  },
  {
   "cell_type": "code",
   "execution_count": 57,
   "metadata": {},
   "outputs": [
    {
     "data": {
      "text/plain": [
       "dict_keys(['all_minus_budinger', 'all_minus_bal_sample', 'all_minus_bal'])"
      ]
     },
     "execution_count": 57,
     "metadata": {},
     "output_type": "execute_result"
    }
   ],
   "source": [
    "scores_by_k.keys()"
   ]
  },
  {
   "cell_type": "code",
   "execution_count": 58,
   "metadata": {},
   "outputs": [],
   "source": [
    "# hm4.reindex(hm4.max(axis=1).sort_values(ascending=False).index)"
   ]
  },
  {
   "cell_type": "code",
   "execution_count": 59,
   "metadata": {},
   "outputs": [
    {
     "data": {
      "text/plain": [
       "dict_keys(['all_minus_budinger', 'all_minus_bal_sample', 'all_minus_bal'])"
      ]
     },
     "execution_count": 59,
     "metadata": {},
     "output_type": "execute_result"
    }
   ],
   "source": [
    "scores_by_k.keys()"
   ]
  },
  {
   "cell_type": "code",
   "execution_count": 66,
   "metadata": {},
   "outputs": [],
   "source": [
    "order_by_k = {'all_minus_bal': ['MoM1', 'MoM3', 'AM2', 'Monocytes', 'AM1', 'MoM2'],\n",
    "              'all_minus_budinger': ['6 Prolif. AMp', '2 Mono/Mp', '3 SPP1/LGMN-Mp', '4 SPP1/TREM2-Mp', '1 FCN1-Mono', '5 INHBA-AMp'],\n",
    "              'all_minus_budinger_updated_ann': ['CD163/LGMN-Mφ', 'Prolif. AMφ', 'Mono/Mφ', 'AMφ-1', 'Monocytes', 'AMφ-2']}"
   ]
  },
  {
   "cell_type": "code",
   "execution_count": 67,
   "metadata": {},
   "outputs": [
    {
     "name": "stdout",
     "output_type": "stream",
     "text": [
      "import pandas..\n",
      "importing path functions...\n",
      "importing stat functions...\n",
      "ipdb is not installed and cannot be imported...\n",
      "importing misc functions..\n",
      "importing done...\n",
      "importing plot functions...\n"
     ]
    }
   ],
   "source": [
    "# to plot the circlesheatmap we need a custom library\n",
    "from lib.Plots.CirclesHeatmap import CirclesHeatmap"
   ]
  },
  {
   "cell_type": "code",
   "execution_count": 68,
   "metadata": {},
   "outputs": [
    {
     "name": "stdout",
     "output_type": "stream",
     "text": [
      "here\n"
     ]
    }
   ],
   "source": [
    "print('here')"
   ]
  },
  {
   "cell_type": "code",
   "execution_count": 69,
   "metadata": {},
   "outputs": [
    {
     "name": "stderr",
     "output_type": "stream",
     "text": [
      "/home/icb/ignacio.ibarra/miniconda3/envs/mypython3/lib/python3.7/site-packages/IPython/core/interactiveshell.py:3156: DtypeWarning: Columns (1,2) have mixed types.Specify dtype option on import or set low_memory=False.\n",
      "  interactivity=interactivity, compiler=compiler, result=result)\n"
     ]
    }
   ],
   "source": [
    "## a new annotations has been proposed and has to be incorporated into the objects\n",
    "mapping_revision_2021 = pd.read_csv('barcodes_cluster_annotation_OD.csv', index_col=0)\n",
    "assert sum(ad.obs.index == mapping_revision_2021.index) == ad.shape[0]\n",
    "ad_no_budinger.obs['bal_clusters'] = ad_no_budinger.obs.index.map(mapping_revision_2021['bal_clusters'].to_dict())\n"
   ]
  },
  {
   "cell_type": "code",
   "execution_count": 71,
   "metadata": {},
   "outputs": [
    {
     "data": {
      "text/plain": [
       "other            108028\n",
       "Monocytes          2012\n",
       "CD163/LGMN-Mφ      1723\n",
       "Mono/Mφ            1555\n",
       "AMφ-1               998\n",
       "AMφ-2               713\n",
       "low quality         310\n",
       "Prolif. AMφ         192\n",
       "Name: bal_clusters, dtype: int64"
      ]
     },
     "execution_count": 71,
     "metadata": {},
     "output_type": "execute_result"
    }
   ],
   "source": [
    "ad_no_budinger.obs['bal_clusters'] = ad_no_budinger.obs.index.map(mapping_revision_2021['bal_clusters'].to_dict())\n",
    "ad_no_budinger.obs['bal_clusters'].value_counts()"
   ]
  },
  {
   "cell_type": "code",
   "execution_count": 72,
   "metadata": {},
   "outputs": [
    {
     "name": "stderr",
     "output_type": "stream",
     "text": [
      "/home/icb/ignacio.ibarra/miniconda3/envs/mypython3/lib/python3.7/site-packages/pandas/core/arrays/categorical.py:2487: FutureWarning: The `inplace` parameter in pandas.Categorical.remove_unused_categories is deprecated and will be removed in a future version.\n",
      "  res = method(*args, **kwargs)\n"
     ]
    },
    {
     "data": {
      "text/html": [
       "<div>\n",
       "<style scoped>\n",
       "    .dataframe tbody tr th:only-of-type {\n",
       "        vertical-align: middle;\n",
       "    }\n",
       "\n",
       "    .dataframe tbody tr th {\n",
       "        vertical-align: top;\n",
       "    }\n",
       "\n",
       "    .dataframe thead th {\n",
       "        text-align: right;\n",
       "    }\n",
       "</style>\n",
       "<table border=\"1\" class=\"dataframe\">\n",
       "  <thead>\n",
       "    <tr style=\"text-align: right;\">\n",
       "      <th></th>\n",
       "      <th>GSM</th>\n",
       "      <th>sample.id</th>\n",
       "      <th>n_counts</th>\n",
       "      <th>log_counts</th>\n",
       "      <th>n_genes</th>\n",
       "      <th>mt_frac</th>\n",
       "      <th>patient.id</th>\n",
       "      <th>cell.type</th>\n",
       "      <th>study</th>\n",
       "      <th>disease.status</th>\n",
       "      <th>MP.markers.score</th>\n",
       "      <th>MP.others.score</th>\n",
       "      <th>MP.all.score</th>\n",
       "      <th>nUMI</th>\n",
       "      <th>nGene</th>\n",
       "      <th>...</th>\n",
       "      <th>Study</th>\n",
       "      <th>Sample Source</th>\n",
       "      <th>Sample Name</th>\n",
       "      <th>Sample Status</th>\n",
       "      <th>Diagnosis</th>\n",
       "      <th>COVID-19</th>\n",
       "      <th>Tissue Type</th>\n",
       "      <th>Cell Population</th>\n",
       "      <th>Cell Type</th>\n",
       "      <th>leiden</th>\n",
       "      <th>No of UMIs</th>\n",
       "      <th>No of genes</th>\n",
       "      <th>% of mito genes</th>\n",
       "      <th>Cluster</th>\n",
       "      <th>bal_clusters</th>\n",
       "    </tr>\n",
       "  </thead>\n",
       "  <tbody>\n",
       "    <tr>\n",
       "      <th>ACTTCGCAGCATGCAG-2-1-0-0-0-0</th>\n",
       "      <td>nan</td>\n",
       "      <td>nan</td>\n",
       "      <td>34548.0</td>\n",
       "      <td>NaN</td>\n",
       "      <td>NaN</td>\n",
       "      <td>NaN</td>\n",
       "      <td>C19-62</td>\n",
       "      <td>Macrophages</td>\n",
       "      <td>BAL</td>\n",
       "      <td>4 SPP1/TREM2-Mp</td>\n",
       "      <td>3.076404</td>\n",
       "      <td>1.876537</td>\n",
       "      <td>3.562651</td>\n",
       "      <td>NaN</td>\n",
       "      <td>NaN</td>\n",
       "      <td>...</td>\n",
       "      <td>nan</td>\n",
       "      <td>nan</td>\n",
       "      <td>nan</td>\n",
       "      <td>nan</td>\n",
       "      <td>nan</td>\n",
       "      <td>nan</td>\n",
       "      <td>nan</td>\n",
       "      <td>nan</td>\n",
       "      <td>nan</td>\n",
       "      <td>NaN</td>\n",
       "      <td>NaN</td>\n",
       "      <td>NaN</td>\n",
       "      <td>NaN</td>\n",
       "      <td>nan</td>\n",
       "      <td>AMφ-1</td>\n",
       "    </tr>\n",
       "  </tbody>\n",
       "</table>\n",
       "<p>1 rows × 81 columns</p>\n",
       "</div>"
      ],
      "text/plain": [
       "                              GSM sample.id  n_counts  log_counts  n_genes  mt_frac patient.id    cell.type study   disease.status  MP.markers.score  MP.others.score  MP.all.score  nUMI  nGene  ... Study Sample Source Sample Name Sample Status Diagnosis COVID-19 Tissue Type Cell Population Cell Type  leiden  No of UMIs  No of genes  % of mito genes  Cluster  bal_clusters\n",
       "ACTTCGCAGCATGCAG-2-1-0-0-0-0  nan       nan   34548.0         NaN      NaN      NaN     C19-62  Macrophages   BAL  4 SPP1/TREM2-Mp          3.076404         1.876537      3.562651   NaN    NaN  ...   nan           nan         nan           nan       nan      nan         nan             nan       nan     NaN         NaN          NaN              NaN      nan         AMφ-1\n",
       "\n",
       "[1 rows x 81 columns]"
      ]
     },
     "execution_count": 72,
     "metadata": {},
     "output_type": "execute_result"
    }
   ],
   "source": [
    "ad_no_budinger[ad_no_budinger.obs.index == 'ACTTCGCAGCATGCAG-2-1-0-0-0-0',:].obs"
   ]
  },
  {
   "cell_type": "code",
   "execution_count": 73,
   "metadata": {},
   "outputs": [],
   "source": [
    "scores = scores_by_k['all_minus_budinger'].copy()\n",
    "scores['cell.x.type'] = scores['cell.x.id'].map(mapping_revision_2021['bal_clusters'].to_dict())\n",
    "scores_by_k['all_minus_budinger_updated_ann'] = scores"
   ]
  },
  {
   "cell_type": "code",
   "execution_count": 74,
   "metadata": {},
   "outputs": [
    {
     "data": {
      "text/plain": [
       "{'AMφ-1',\n",
       " 'AMφ-2',\n",
       " 'CD163/LGMN-Mφ',\n",
       " 'Mono/Mφ',\n",
       " 'Monocytes',\n",
       " 'Prolif. AMφ',\n",
       " 'low quality'}"
      ]
     },
     "execution_count": 74,
     "metadata": {},
     "output_type": "execute_result"
    }
   ],
   "source": [
    "set(scores_by_k['all_minus_budinger_updated_ann']['cell.x.type'])"
   ]
  },
  {
   "cell_type": "code",
   "execution_count": 75,
   "metadata": {},
   "outputs": [
    {
     "data": {
      "text/plain": [
       "dict_keys(['all_minus_budinger', 'all_minus_bal_sample', 'all_minus_bal', 'all_minus_budinger_updated_ann'])"
      ]
     },
     "execution_count": 75,
     "metadata": {},
     "output_type": "execute_result"
    }
   ],
   "source": [
    "scores_by_k.keys()"
   ]
  },
  {
   "cell_type": "code",
   "execution_count": 76,
   "metadata": {},
   "outputs": [
    {
     "name": "stdout",
     "output_type": "stream",
     "text": [
      "here...\n"
     ]
    }
   ],
   "source": [
    "print('here...')"
   ]
  },
  {
   "cell_type": "code",
   "execution_count": 77,
   "metadata": {},
   "outputs": [
    {
     "name": "stdout",
     "output_type": "stream",
     "text": [
      "all_minus_budinger_updated_ann\n",
      "calculating scores per position...\n",
      "establishing pivot steps...\n",
      "setting up plotting parameters...\n",
      "calculating enrichments.......\n",
      "Monocytes\n",
      "Mono/Mφ\n",
      "Prolif. AMφ\n",
      "AMφ-2\n",
      "AMφ-1\n",
      "low quality\n",
      "CD163/LGMN-Mφ\n"
     ]
    },
    {
     "name": "stderr",
     "output_type": "stream",
     "text": [
      "findfont: Font family ['arial'] not found. Falling back to DejaVu Sans.\n"
     ]
    },
    {
     "name": "stdout",
     "output_type": "stream",
     "text": [
      "# of cells in the treatment\n",
      "5699\n",
      "plotting...\n",
      "['CD163/LGMN-Mφ', 'Prolif. AMφ', 'Mono/Mφ', 'AMφ-1', 'Monocytes', 'AMφ-2']\n",
      "Index(['Prolif. AMφ', 'low quality', 'CD163/LGMN-Mφ', 'AMφ-2', 'Mono/Mφ', 'AMφ-1', 'Monocytes'], dtype='object', name='mdm.type')\n",
      "Index(['CD163/LGMN-Mφ', 'Prolif. AMφ', 'Mono/Mφ', 'AMφ-1', 'Monocytes', 'AMφ-2'], dtype='object', name='mdm.type')\n"
     ]
    },
    {
     "name": "stderr",
     "output_type": "stream",
     "text": [
      "findfont: Font family ['arial'] not found. Falling back to DejaVu Sans.\n",
      "/home/icb/ignacio.ibarra/miniconda3/envs/mypython3/lib/python3.7/site-packages/seaborn/utils.py:281: UserWarning: Use the colorbar set_ticks() method instead.\n",
      "  ax_i.set_xticks(newticks)\n"
     ]
    },
    {
     "name": "stdout",
     "output_type": "stream",
     "text": [
      "before plotting dimensions...\n",
      "(6, 2)\n",
      "('legends', [0, 0.25, 0.5, 0.75, 1.0])\n",
      "1.0\n",
      "('next size', 0.0)\n",
      "1.0\n",
      "('next size', 50.0)\n",
      "1.0\n",
      "('next size', 282.842712474619)\n",
      "1.0\n",
      "('next size', 779.4228634059948)\n",
      "1.0\n",
      "('next size', 1600.0)\n",
      "/mnt/znas/icb_zstore01/groups/ml01/workspace/ignacio.ibarra/theislab/saliba_macrophages/notebooks/data/figures/majority_label_heatmap_with_fisher_exact_test_padj_revision_all_minus_budinger_updated_ann_dotplot_2.5.pdf\n"
     ]
    },
    {
     "data": {
      "text/plain": [
       "<Figure size 540x360 with 0 Axes>"
      ]
     },
     "metadata": {},
     "output_type": "display_data"
    }
   ],
   "source": [
    "for k in scores_by_k:\n",
    "    if not 'all_minus_budinger_updated_ann' in k:\n",
    "        continue\n",
    "    if 'sample' in k:\n",
    "        continue\n",
    "    print(k)\n",
    "    # if not 'all_minus_budinger' in k:\n",
    "    #     continue\n",
    "    # if k != 'all_minus_budinger':\n",
    "    #     continue\n",
    "    \n",
    "    scores = scores_by_k[k]\n",
    "    \n",
    "    cell_id_by_index = scores.set_index('cell.x')['cell.x.id'].to_dict()\n",
    "    \n",
    "    print('calculating scores per position...')\n",
    "    \n",
    "    hm = []\n",
    "    for cell_id, grp in scores.groupby('cell.x'):\n",
    "        # print(cell_id, grp.shape)\n",
    "        sel = pd.DataFrame(grp['disease.status'].value_counts()).reset_index()\n",
    "        sel['cell.id'] = cell_id\n",
    "        hm.append(sel)\n",
    "    hm = pd.concat(hm)\n",
    "\n",
    "\n",
    "    print('establishing pivot steps...')\n",
    "    hm2 = hm.pivot('cell.id', 'index', 'disease.status').fillna(0)\n",
    "    hm2['proximity.mapping.label'] = hm2.idxmax(axis=1)\n",
    "    hm2['mdm.type'] = hm2.index.map(scores.set_index('cell.x')['cell.x.type'].to_dict())\n",
    "    hm_df = pd.DataFrame(hm2.groupby(['mdm.type', 'proximity.mapping.label']).size()).reset_index()\n",
    "    hm3 = hm_df.pivot('mdm.type', 'proximity.mapping.label', 0)\n",
    "\n",
    "    hm2['cell.id'] = hm2.index.map(cell_id_by_index)\n",
    "    len(set(hm2['cell.id']))\n",
    "\n",
    "    from os.path import join\n",
    "    import matplotlib\n",
    "    import matplotlib.pyplot as plt\n",
    "\n",
    "    \n",
    "    print('setting up plotting parameters...')\n",
    "    fpath = join(plt.rcParams[\"datapath\"], \"fonts/ttf/arial.ttf\")\n",
    "    from matplotlib import font_manager as fm, rcParams\n",
    "    prop = fm.FontProperties(fname=fpath)\n",
    "    rcParams[\"font.family\"] = \"arial\"\n",
    "\n",
    "    fpath = join(plt.rcParams[\"datapath\"], \"fonts/ttf/arial.ttf\")\n",
    "    from matplotlib import font_manager as fm, rcParams\n",
    "    prop = fm.FontProperties(fname=fpath)\n",
    "    rcParams[\"font.family\"] = \"arial\"\n",
    "\n",
    "    hm_df = hm_df[~hm_df['mdm.type'].isin({'Undefined', 'Low quality', 'Others (COVID)'})]\n",
    "\n",
    "    # for visualization purposes we'll remove COPD from our visualization layouts...\n",
    "    hm_df = hm_df[hm_df['proximity.mapping.label'] != 'COPD']\n",
    "    sum(hm_df[0])\n",
    "\n",
    "\n",
    "    from scipy.stats import fisher_exact \n",
    "    from lib.RFacade import RFacade\n",
    "\n",
    "\n",
    "    print('calculating enrichments.......')\n",
    "    res = []\n",
    "    for mdm_type in set(hm_df['mdm.type']):\n",
    "        print(mdm_type)\n",
    "        \n",
    "        # we \n",
    "        for prox_map_lab in set(hm_df['proximity.mapping.label']):\n",
    "            a = sum(hm_df[(hm_df['mdm.type'] == mdm_type) & (hm_df['proximity.mapping.label'] == prox_map_lab)][0])\n",
    "            b = sum(hm_df[(hm_df['mdm.type'] == mdm_type) & (hm_df['proximity.mapping.label'] != prox_map_lab)][0])\n",
    "            c = sum(hm_df[(hm_df['mdm.type'] != mdm_type) & (hm_df['proximity.mapping.label'] == prox_map_lab)][0])\n",
    "            d = sum(hm_df[(hm_df['mdm.type'] != mdm_type) & (hm_df['proximity.mapping.label'] != prox_map_lab)][0])\n",
    "            t = [mdm_type, prox_map_lab, a, b, c, d] + list(fisher_exact([[a, b], [c, d]], alternative='greater'))\n",
    "            res.append(t)\n",
    "    res = pd.DataFrame(res, columns=['mdm.type', 'prox.map.lab', 'a', 'b', 'c', 'd', 'odds.ratio', 'p.val'])\n",
    "    res['p.adj'] = RFacade.get_bh_pvalues(res['p.val'])\n",
    "    res['asterisk'] = RFacade.get_pval_asterisks(res['p.adj'])\n",
    "    res[res['p.adj'] < 0.1].sort_values('p.adj')\n",
    "\n",
    "    hm3 = hm_df.pivot('mdm.type', 'proximity.mapping.label', 0)[['IPF', 'control']] # 'COPD']]\n",
    "    hm3_sig = res.pivot('mdm.type', 'prox.map.lab', 'asterisk')[['IPF', 'control']]#  'COPD']]\n",
    "    hm3_padj = res.pivot('mdm.type', 'prox.map.lab', 'p.adj')[['IPF', 'control']]#  'COPD']]\n",
    "\n",
    "    import matplotlib\n",
    "    matplotlib.rcParams['pdf.fonttype'] = 42\n",
    "    matplotlib.rcParams['ps.fonttype'] = 42\n",
    "    matplotlib.rcParams['ps.fonttype'] = 42\n",
    "\n",
    "    import importlib\n",
    "    from lib.utils import *\n",
    "\n",
    "    print('# of cells in the treatment')\n",
    "    print(hm3.sum().sum())\n",
    "    \n",
    "    print('plotting...')\n",
    "    hm4 = hm3.copy()\n",
    "    for c in hm4:\n",
    "        hm4[c] = hm4[c] / hm3.sum(axis=1)\n",
    "    hm4\n",
    "\n",
    "    hm4 = hm4.reindex(hm4.max(axis=1).sort_values(ascending=False).index)\n",
    "\n",
    "    new_idx = order_by_k[k]\n",
    "    print(new_idx)\n",
    "    print(hm4.index)\n",
    "    hm4 = hm4.reindex(new_idx)\n",
    "    print(hm4.index)\n",
    "    \n",
    "    \n",
    "    hm3_sig = hm3_sig.reindex(hm4.index)\n",
    "    hm3_padj = hm3_padj.reindex(hm3_sig.index)\n",
    "    \n",
    "    annot = (hm4).astype(str) + np.where(hm3_sig.astype(str) != '', '*', '')\n",
    "    for c in annot:\n",
    "        annot[c] = annot[c].astype(str).str[:4] + np.where(annot[c].astype(str).str.contains('\\*'), '*', '')\n",
    "    annot\n",
    "\n",
    "\n",
    "    import seaborn as sns\n",
    "    cg = sns.clustermap(hm4, annot=annot,\n",
    "                        fmt='', cmap='Reds', row_cluster=False, col_cluster=False)\n",
    "    # plt.yticks(rotation=0)\n",
    "    plt.setp(cg.ax_heatmap.yaxis.get_majorticklabels(), rotation=0)\n",
    "    plt.subplots_adjust(bottom=.7, right=.3)\n",
    "\n",
    "    \n",
    "    cg.fig.suptitle('# of cells %i' % hm3.sum().sum())\n",
    "    plt.savefig('data/figures/majority_label_heatmap_with_fisher_exact_test_padj_revision_%s.pdf' % k)\n",
    "    plt.close()\n",
    "    \n",
    "    rcParams['figure.dpi'] = 90\n",
    "    line_widths = pd.DataFrame(np.where(hm3_sig != '', 2.0, .3), index=hm3_sig.index, columns=hm3_sig.columns)\n",
    "    \n",
    "    for power in 1.0, 2.5, 3.0:\n",
    "        if power != 2.5:\n",
    "            continue\n",
    "        CirclesHeatmap.make_bubble_heatmap(-np.log10(hm3_padj), hm4,\n",
    "                                           heatmap_grid=[4, 6, 0, 2, 2, 1],\n",
    "                                           quantAmplifier=40,\n",
    "                                           colorbar_grid=[2, 5, 0, 4, 2, 1],\n",
    "                                           cbar_label='-log10(adjusted P)', ha='right',\n",
    "                                           circles_legend_title='Fractoin of cells [rows]', h=10, w=12,\n",
    "                                           tickscolorbar=[0, 25 / (2 if 'budinger' in k else 1), 50 / (2 if 'budinger' in k else 1)],\n",
    "                                           power=power, line_widths=line_widths,\n",
    "                                           circle_legend_ticks=[0, 0.25, .5, .75, 1.0], palette_id='Reds', vmin=0, vmax=25 if 'budinger'in k else 50,\n",
    "                                           heatmap_title=k)\n",
    "        pdf_path = 'data/figures/majority_label_heatmap_with_fisher_exact_test_padj_revision_%s_dotplot_%.1f.pdf' % (k, power)\n",
    "        import os\n",
    "        plt.savefig(pdf_path)\n",
    "        plt.close()\n",
    "        print(abspath(pdf_path))\n",
    "    \n",
    "    # save raw data (for oliver)\n",
    "    -np.log10(hm3_padj)\n",
    "    \n",
    "    # break\n",
    "    \n",
    "    # assert False"
   ]
  },
  {
   "cell_type": "code",
   "execution_count": 78,
   "metadata": {},
   "outputs": [
    {
     "data": {
      "text/html": [
       "<div>\n",
       "<style scoped>\n",
       "    .dataframe tbody tr th:only-of-type {\n",
       "        vertical-align: middle;\n",
       "    }\n",
       "\n",
       "    .dataframe tbody tr th {\n",
       "        vertical-align: top;\n",
       "    }\n",
       "\n",
       "    .dataframe thead th {\n",
       "        text-align: right;\n",
       "    }\n",
       "</style>\n",
       "<table border=\"1\" class=\"dataframe\">\n",
       "  <thead>\n",
       "    <tr style=\"text-align: right;\">\n",
       "      <th>prox.map.lab</th>\n",
       "      <th>IPF</th>\n",
       "      <th>control</th>\n",
       "    </tr>\n",
       "    <tr>\n",
       "      <th>mdm.type</th>\n",
       "      <th></th>\n",
       "      <th></th>\n",
       "    </tr>\n",
       "  </thead>\n",
       "  <tbody>\n",
       "    <tr>\n",
       "      <th>CD163/LGMN-Mφ</th>\n",
       "      <td>1.361817e+01</td>\n",
       "      <td>1.682559e-12</td>\n",
       "    </tr>\n",
       "    <tr>\n",
       "      <th>Prolif. AMφ</th>\n",
       "      <td>9.977532e+00</td>\n",
       "      <td>1.682559e-12</td>\n",
       "    </tr>\n",
       "    <tr>\n",
       "      <th>Mono/Mφ</th>\n",
       "      <td>9.662267e-02</td>\n",
       "      <td>1.682559e-12</td>\n",
       "    </tr>\n",
       "    <tr>\n",
       "      <th>AMφ-1</th>\n",
       "      <td>1.682559e-12</td>\n",
       "      <td>1.628640e+00</td>\n",
       "    </tr>\n",
       "    <tr>\n",
       "      <th>Monocytes</th>\n",
       "      <td>1.682559e-12</td>\n",
       "      <td>4.114993e+00</td>\n",
       "    </tr>\n",
       "    <tr>\n",
       "      <th>AMφ-2</th>\n",
       "      <td>1.682559e-12</td>\n",
       "      <td>1.773622e+01</td>\n",
       "    </tr>\n",
       "  </tbody>\n",
       "</table>\n",
       "</div>"
      ],
      "text/plain": [
       "prox.map.lab            IPF       control\n",
       "mdm.type                                 \n",
       "CD163/LGMN-Mφ  1.361817e+01  1.682559e-12\n",
       "Prolif. AMφ    9.977532e+00  1.682559e-12\n",
       "Mono/Mφ        9.662267e-02  1.682559e-12\n",
       "AMφ-1          1.682559e-12  1.628640e+00\n",
       "Monocytes      1.682559e-12  4.114993e+00\n",
       "AMφ-2          1.682559e-12  1.773622e+01"
      ]
     },
     "execution_count": 78,
     "metadata": {},
     "output_type": "execute_result"
    }
   ],
   "source": [
    "-np.log10(hm3_padj)"
   ]
  },
  {
   "cell_type": "code",
   "execution_count": 79,
   "metadata": {},
   "outputs": [
    {
     "data": {
      "text/html": [
       "<div>\n",
       "<style scoped>\n",
       "    .dataframe tbody tr th:only-of-type {\n",
       "        vertical-align: middle;\n",
       "    }\n",
       "\n",
       "    .dataframe tbody tr th {\n",
       "        vertical-align: top;\n",
       "    }\n",
       "\n",
       "    .dataframe thead th {\n",
       "        text-align: right;\n",
       "    }\n",
       "</style>\n",
       "<table border=\"1\" class=\"dataframe\">\n",
       "  <thead>\n",
       "    <tr style=\"text-align: right;\">\n",
       "      <th>prox.map.lab</th>\n",
       "      <th>IPF</th>\n",
       "      <th>control</th>\n",
       "    </tr>\n",
       "    <tr>\n",
       "      <th>mdm.type</th>\n",
       "      <th></th>\n",
       "      <th></th>\n",
       "    </tr>\n",
       "  </thead>\n",
       "  <tbody>\n",
       "    <tr>\n",
       "      <th>CD163/LGMN-Mφ</th>\n",
       "      <td>2.408977e-14</td>\n",
       "      <td>1.000000e+00</td>\n",
       "    </tr>\n",
       "    <tr>\n",
       "      <th>Prolif. AMφ</th>\n",
       "      <td>1.053097e-10</td>\n",
       "      <td>1.000000e+00</td>\n",
       "    </tr>\n",
       "    <tr>\n",
       "      <th>Mono/Mφ</th>\n",
       "      <td>8.005295e-01</td>\n",
       "      <td>1.000000e+00</td>\n",
       "    </tr>\n",
       "    <tr>\n",
       "      <th>AMφ-1</th>\n",
       "      <td>1.000000e+00</td>\n",
       "      <td>2.351582e-02</td>\n",
       "    </tr>\n",
       "    <tr>\n",
       "      <th>Monocytes</th>\n",
       "      <td>1.000000e+00</td>\n",
       "      <td>7.673741e-05</td>\n",
       "    </tr>\n",
       "    <tr>\n",
       "      <th>AMφ-2</th>\n",
       "      <td>1.000000e+00</td>\n",
       "      <td>1.835599e-18</td>\n",
       "    </tr>\n",
       "  </tbody>\n",
       "</table>\n",
       "</div>"
      ],
      "text/plain": [
       "prox.map.lab            IPF       control\n",
       "mdm.type                                 \n",
       "CD163/LGMN-Mφ  2.408977e-14  1.000000e+00\n",
       "Prolif. AMφ    1.053097e-10  1.000000e+00\n",
       "Mono/Mφ        8.005295e-01  1.000000e+00\n",
       "AMφ-1          1.000000e+00  2.351582e-02\n",
       "Monocytes      1.000000e+00  7.673741e-05\n",
       "AMφ-2          1.000000e+00  1.835599e-18"
      ]
     },
     "execution_count": 79,
     "metadata": {},
     "output_type": "execute_result"
    }
   ],
   "source": [
    "hm3_padj"
   ]
  },
  {
   "cell_type": "code",
   "execution_count": 80,
   "metadata": {},
   "outputs": [
    {
     "data": {
      "text/plain": [
       "\u001b[0;31mSignature:\u001b[0m\n",
       "\u001b[0mCirclesHeatmap\u001b[0m\u001b[0;34m.\u001b[0m\u001b[0mmake_bubble_heatmap\u001b[0m\u001b[0;34m(\u001b[0m\u001b[0;34m\u001b[0m\n",
       "\u001b[0;34m\u001b[0m    \u001b[0morder_frame\u001b[0m\u001b[0;34m,\u001b[0m\u001b[0;34m\u001b[0m\n",
       "\u001b[0;34m\u001b[0m    \u001b[0msizeDict\u001b[0m\u001b[0;34m,\u001b[0m\u001b[0;34m\u001b[0m\n",
       "\u001b[0;34m\u001b[0m    \u001b[0mna_color\u001b[0m\u001b[0;34m=\u001b[0m\u001b[0;34m'gray'\u001b[0m\u001b[0;34m,\u001b[0m\u001b[0;34m\u001b[0m\n",
       "\u001b[0;34m\u001b[0m    \u001b[0mtitle\u001b[0m\u001b[0;34m=\u001b[0m\u001b[0;34m'title'\u001b[0m\u001b[0;34m,\u001b[0m\u001b[0;34m\u001b[0m\n",
       "\u001b[0;34m\u001b[0m    \u001b[0mtickscolorbar\u001b[0m\u001b[0;34m=\u001b[0m\u001b[0;34m[\u001b[0m\u001b[0;34m-\u001b[0m\u001b[0;36m2\u001b[0m\u001b[0;34m,\u001b[0m \u001b[0;34m-\u001b[0m\u001b[0;36m1\u001b[0m\u001b[0;34m,\u001b[0m \u001b[0;36m0\u001b[0m\u001b[0;34m,\u001b[0m \u001b[0;36m1\u001b[0m\u001b[0;34m,\u001b[0m \u001b[0;36m2\u001b[0m\u001b[0;34m]\u001b[0m\u001b[0;34m,\u001b[0m\u001b[0;34m\u001b[0m\n",
       "\u001b[0;34m\u001b[0m    \u001b[0mvmin\u001b[0m\u001b[0;34m=\u001b[0m\u001b[0;34m-\u001b[0m\u001b[0;36m2.5\u001b[0m\u001b[0;34m,\u001b[0m\u001b[0;34m\u001b[0m\n",
       "\u001b[0;34m\u001b[0m    \u001b[0mvmax\u001b[0m\u001b[0;34m=\u001b[0m\u001b[0;36m2.5\u001b[0m\u001b[0;34m,\u001b[0m\u001b[0;34m\u001b[0m\n",
       "\u001b[0;34m\u001b[0m    \u001b[0mheatmap_grid\u001b[0m\u001b[0;34m=\u001b[0m\u001b[0;34m[\u001b[0m\u001b[0;36m2\u001b[0m\u001b[0;34m,\u001b[0m \u001b[0;36m4\u001b[0m\u001b[0;34m,\u001b[0m \u001b[0;36m0\u001b[0m\u001b[0;34m,\u001b[0m \u001b[0;36m2\u001b[0m\u001b[0;34m,\u001b[0m \u001b[0;36m2\u001b[0m\u001b[0;34m,\u001b[0m \u001b[0;36m1\u001b[0m\u001b[0;34m]\u001b[0m\u001b[0;34m,\u001b[0m\u001b[0;34m\u001b[0m\n",
       "\u001b[0;34m\u001b[0m    \u001b[0mcircle_legend_grid\u001b[0m\u001b[0;34m=\u001b[0m\u001b[0;34m[\u001b[0m\u001b[0;36m2\u001b[0m\u001b[0;34m,\u001b[0m \u001b[0;36m4\u001b[0m\u001b[0;34m,\u001b[0m \u001b[0;36m0\u001b[0m\u001b[0;34m,\u001b[0m \u001b[0;36m2\u001b[0m\u001b[0;34m,\u001b[0m \u001b[0;36m2\u001b[0m\u001b[0;34m,\u001b[0m \u001b[0;36m1\u001b[0m\u001b[0;34m]\u001b[0m\u001b[0;34m,\u001b[0m\u001b[0;34m\u001b[0m\n",
       "\u001b[0;34m\u001b[0m    \u001b[0mcolorbar_grid\u001b[0m\u001b[0;34m=\u001b[0m\u001b[0;34m[\u001b[0m\u001b[0;36m2\u001b[0m\u001b[0;34m,\u001b[0m \u001b[0;36m5\u001b[0m\u001b[0;34m,\u001b[0m \u001b[0;36m0\u001b[0m\u001b[0;34m,\u001b[0m \u001b[0;36m3\u001b[0m\u001b[0;34m,\u001b[0m \u001b[0;36m2\u001b[0m\u001b[0;34m,\u001b[0m \u001b[0;36m1\u001b[0m\u001b[0;34m]\u001b[0m\u001b[0;34m,\u001b[0m\u001b[0;34m\u001b[0m\n",
       "\u001b[0;34m\u001b[0m    \u001b[0mpalette_id\u001b[0m\u001b[0;34m=\u001b[0m\u001b[0;34m'RdBu_r'\u001b[0m\u001b[0;34m,\u001b[0m\u001b[0;34m\u001b[0m\n",
       "\u001b[0;34m\u001b[0m    \u001b[0mcbar_label\u001b[0m\u001b[0;34m=\u001b[0m\u001b[0;34m'cbar_label'\u001b[0m\u001b[0;34m,\u001b[0m\u001b[0;34m\u001b[0m\n",
       "\u001b[0;34m\u001b[0m    \u001b[0mncols\u001b[0m\u001b[0;34m=\u001b[0m\u001b[0;36m8\u001b[0m\u001b[0;34m,\u001b[0m\u001b[0;34m\u001b[0m\n",
       "\u001b[0;34m\u001b[0m    \u001b[0mmarker\u001b[0m\u001b[0;34m=\u001b[0m\u001b[0;32mNone\u001b[0m\u001b[0;34m,\u001b[0m\u001b[0;34m\u001b[0m\n",
       "\u001b[0;34m\u001b[0m    \u001b[0;34m**\u001b[0m\u001b[0mkwargs\u001b[0m\u001b[0;34m,\u001b[0m\u001b[0;34m\u001b[0m\n",
       "\u001b[0;34m\u001b[0m\u001b[0;34m)\u001b[0m\u001b[0;34m\u001b[0m\u001b[0;34m\u001b[0m\u001b[0m\n",
       "\u001b[0;31mDocstring:\u001b[0m <no docstring>\n",
       "\u001b[0;31mFile:\u001b[0m      /mnt/znas/icb_zstore01/groups/ml01/workspace/ignacio.ibarra/wild/lib/Plots/CirclesHeatmap.py\n",
       "\u001b[0;31mType:\u001b[0m      function\n"
      ]
     },
     "metadata": {},
     "output_type": "display_data"
    }
   ],
   "source": [
    "CirclesHeatmap.make_bubble_heatmap?"
   ]
  },
  {
   "cell_type": "code",
   "execution_count": 81,
   "metadata": {},
   "outputs": [
    {
     "data": {
      "text/html": [
       "<div>\n",
       "<style scoped>\n",
       "    .dataframe tbody tr th:only-of-type {\n",
       "        vertical-align: middle;\n",
       "    }\n",
       "\n",
       "    .dataframe tbody tr th {\n",
       "        vertical-align: top;\n",
       "    }\n",
       "\n",
       "    .dataframe thead th {\n",
       "        text-align: right;\n",
       "    }\n",
       "</style>\n",
       "<table border=\"1\" class=\"dataframe\">\n",
       "  <thead>\n",
       "    <tr style=\"text-align: right;\">\n",
       "      <th>proximity.mapping.label</th>\n",
       "      <th>IPF</th>\n",
       "      <th>control</th>\n",
       "    </tr>\n",
       "    <tr>\n",
       "      <th>mdm.type</th>\n",
       "      <th></th>\n",
       "      <th></th>\n",
       "    </tr>\n",
       "  </thead>\n",
       "  <tbody>\n",
       "    <tr>\n",
       "      <th>CD163/LGMN-Mφ</th>\n",
       "      <td>0.661313</td>\n",
       "      <td>0.338687</td>\n",
       "    </tr>\n",
       "    <tr>\n",
       "      <th>Prolif. AMφ</th>\n",
       "      <td>0.832168</td>\n",
       "      <td>0.167832</td>\n",
       "    </tr>\n",
       "    <tr>\n",
       "      <th>Mono/Mφ</th>\n",
       "      <td>0.576981</td>\n",
       "      <td>0.423019</td>\n",
       "    </tr>\n",
       "    <tr>\n",
       "      <th>AMφ-1</th>\n",
       "      <td>0.534121</td>\n",
       "      <td>0.465879</td>\n",
       "    </tr>\n",
       "    <tr>\n",
       "      <th>Monocytes</th>\n",
       "      <td>0.526723</td>\n",
       "      <td>0.473277</td>\n",
       "    </tr>\n",
       "    <tr>\n",
       "      <th>AMφ-2</th>\n",
       "      <td>0.366359</td>\n",
       "      <td>0.633641</td>\n",
       "    </tr>\n",
       "  </tbody>\n",
       "</table>\n",
       "</div>"
      ],
      "text/plain": [
       "proximity.mapping.label       IPF   control\n",
       "mdm.type                                   \n",
       "CD163/LGMN-Mφ            0.661313  0.338687\n",
       "Prolif. AMφ              0.832168  0.167832\n",
       "Mono/Mφ                  0.576981  0.423019\n",
       "AMφ-1                    0.534121  0.465879\n",
       "Monocytes                0.526723  0.473277\n",
       "AMφ-2                    0.366359  0.633641"
      ]
     },
     "execution_count": 81,
     "metadata": {},
     "output_type": "execute_result"
    }
   ],
   "source": [
    "hm4"
   ]
  },
  {
   "cell_type": "code",
   "execution_count": null,
   "metadata": {},
   "outputs": [],
   "source": [
    "print(abspath('data/figures/'))"
   ]
  },
  {
   "cell_type": "markdown",
   "metadata": {},
   "source": [
    "### Warning: Here the last one to be executed has to be **all_minus_budinger**, otherwise the heatmaps below are not properly updated."
   ]
  },
  {
   "cell_type": "code",
   "execution_count": null,
   "metadata": {},
   "outputs": [],
   "source": [
    "print('here...')"
   ]
  },
  {
   "cell_type": "code",
   "execution_count": null,
   "metadata": {},
   "outputs": [],
   "source": [
    "hm3"
   ]
  },
  {
   "cell_type": "code",
   "execution_count": null,
   "metadata": {},
   "outputs": [],
   "source": [
    "hm4"
   ]
  },
  {
   "cell_type": "code",
   "execution_count": 62,
   "metadata": {},
   "outputs": [
    {
     "name": "stdout",
     "output_type": "stream",
     "text": [
      "here...\n"
     ]
    }
   ],
   "source": [
    "print('here...')"
   ]
  },
  {
   "cell_type": "code",
   "execution_count": 82,
   "metadata": {},
   "outputs": [
    {
     "data": {
      "text/plain": [
       "CD163/LGMN-Mφ    10785\n",
       "Mono/Mφ          10268\n",
       "AMφ-1            10263\n",
       "Monocytes         9401\n",
       "AMφ-2             8513\n",
       "low quality       2482\n",
       "Prolif. AMφ       1749\n",
       "Name: cell.x.type, dtype: int64"
      ]
     },
     "execution_count": 82,
     "metadata": {},
     "output_type": "execute_result"
    }
   ],
   "source": [
    "scores['cell.x.type'].value_counts()"
   ]
  },
  {
   "cell_type": "code",
   "execution_count": 83,
   "metadata": {},
   "outputs": [
    {
     "data": {
      "text/html": [
       "<div>\n",
       "<style scoped>\n",
       "    .dataframe tbody tr th:only-of-type {\n",
       "        vertical-align: middle;\n",
       "    }\n",
       "\n",
       "    .dataframe tbody tr th {\n",
       "        vertical-align: top;\n",
       "    }\n",
       "\n",
       "    .dataframe thead th {\n",
       "        text-align: right;\n",
       "    }\n",
       "</style>\n",
       "<table border=\"1\" class=\"dataframe\">\n",
       "  <thead>\n",
       "    <tr style=\"text-align: right;\">\n",
       "      <th>prox.map.lab</th>\n",
       "      <th>IPF</th>\n",
       "      <th>control</th>\n",
       "    </tr>\n",
       "    <tr>\n",
       "      <th>mdm.type</th>\n",
       "      <th></th>\n",
       "      <th></th>\n",
       "    </tr>\n",
       "  </thead>\n",
       "  <tbody>\n",
       "    <tr>\n",
       "      <th>CD163/LGMN-Mφ</th>\n",
       "      <td>****</td>\n",
       "      <td></td>\n",
       "    </tr>\n",
       "    <tr>\n",
       "      <th>Prolif. AMφ</th>\n",
       "      <td>****</td>\n",
       "      <td></td>\n",
       "    </tr>\n",
       "    <tr>\n",
       "      <th>Mono/Mφ</th>\n",
       "      <td></td>\n",
       "      <td></td>\n",
       "    </tr>\n",
       "    <tr>\n",
       "      <th>AMφ-1</th>\n",
       "      <td></td>\n",
       "      <td>*</td>\n",
       "    </tr>\n",
       "    <tr>\n",
       "      <th>Monocytes</th>\n",
       "      <td></td>\n",
       "      <td>****</td>\n",
       "    </tr>\n",
       "    <tr>\n",
       "      <th>AMφ-2</th>\n",
       "      <td></td>\n",
       "      <td>****</td>\n",
       "    </tr>\n",
       "  </tbody>\n",
       "</table>\n",
       "</div>"
      ],
      "text/plain": [
       "prox.map.lab    IPF control\n",
       "mdm.type                   \n",
       "CD163/LGMN-Mφ  ****        \n",
       "Prolif. AMφ    ****        \n",
       "Mono/Mφ                    \n",
       "AMφ-1                     *\n",
       "Monocytes              ****\n",
       "AMφ-2                  ****"
      ]
     },
     "execution_count": 83,
     "metadata": {},
     "output_type": "execute_result"
    }
   ],
   "source": [
    "hm3_sig"
   ]
  },
  {
   "cell_type": "code",
   "execution_count": 84,
   "metadata": {},
   "outputs": [
    {
     "data": {
      "text/html": [
       "<div>\n",
       "<style scoped>\n",
       "    .dataframe tbody tr th:only-of-type {\n",
       "        vertical-align: middle;\n",
       "    }\n",
       "\n",
       "    .dataframe tbody tr th {\n",
       "        vertical-align: top;\n",
       "    }\n",
       "\n",
       "    .dataframe thead th {\n",
       "        text-align: right;\n",
       "    }\n",
       "</style>\n",
       "<table border=\"1\" class=\"dataframe\">\n",
       "  <thead>\n",
       "    <tr style=\"text-align: right;\">\n",
       "      <th>proximity.mapping.label</th>\n",
       "      <th>IPF</th>\n",
       "      <th>control</th>\n",
       "    </tr>\n",
       "    <tr>\n",
       "      <th>mdm.type</th>\n",
       "      <th></th>\n",
       "      <th></th>\n",
       "    </tr>\n",
       "  </thead>\n",
       "  <tbody>\n",
       "    <tr>\n",
       "      <th>AMφ-1</th>\n",
       "      <td>407</td>\n",
       "      <td>355</td>\n",
       "    </tr>\n",
       "    <tr>\n",
       "      <th>AMφ-2</th>\n",
       "      <td>159</td>\n",
       "      <td>275</td>\n",
       "    </tr>\n",
       "    <tr>\n",
       "      <th>CD163/LGMN-Mφ</th>\n",
       "      <td>947</td>\n",
       "      <td>485</td>\n",
       "    </tr>\n",
       "    <tr>\n",
       "      <th>Mono/Mφ</th>\n",
       "      <td>772</td>\n",
       "      <td>566</td>\n",
       "    </tr>\n",
       "    <tr>\n",
       "      <th>Monocytes</th>\n",
       "      <td>749</td>\n",
       "      <td>673</td>\n",
       "    </tr>\n",
       "    <tr>\n",
       "      <th>Prolif. AMφ</th>\n",
       "      <td>119</td>\n",
       "      <td>24</td>\n",
       "    </tr>\n",
       "    <tr>\n",
       "      <th>low quality</th>\n",
       "      <td>116</td>\n",
       "      <td>52</td>\n",
       "    </tr>\n",
       "  </tbody>\n",
       "</table>\n",
       "</div>"
      ],
      "text/plain": [
       "proximity.mapping.label  IPF  control\n",
       "mdm.type                             \n",
       "AMφ-1                    407      355\n",
       "AMφ-2                    159      275\n",
       "CD163/LGMN-Mφ            947      485\n",
       "Mono/Mφ                  772      566\n",
       "Monocytes                749      673\n",
       "Prolif. AMφ              119       24\n",
       "low quality              116       52"
      ]
     },
     "execution_count": 84,
     "metadata": {},
     "output_type": "execute_result"
    }
   ],
   "source": [
    "hm3"
   ]
  },
  {
   "cell_type": "code",
   "execution_count": 85,
   "metadata": {},
   "outputs": [
    {
     "data": {
      "text/html": [
       "<div>\n",
       "<style scoped>\n",
       "    .dataframe tbody tr th:only-of-type {\n",
       "        vertical-align: middle;\n",
       "    }\n",
       "\n",
       "    .dataframe tbody tr th {\n",
       "        vertical-align: top;\n",
       "    }\n",
       "\n",
       "    .dataframe thead th {\n",
       "        text-align: right;\n",
       "    }\n",
       "</style>\n",
       "<table border=\"1\" class=\"dataframe\">\n",
       "  <thead>\n",
       "    <tr style=\"text-align: right;\">\n",
       "      <th>proximity.mapping.label</th>\n",
       "      <th>IPF</th>\n",
       "      <th>control</th>\n",
       "    </tr>\n",
       "    <tr>\n",
       "      <th>mdm.type</th>\n",
       "      <th></th>\n",
       "      <th></th>\n",
       "    </tr>\n",
       "  </thead>\n",
       "  <tbody>\n",
       "    <tr>\n",
       "      <th>CD163/LGMN-Mφ</th>\n",
       "      <td>0.661313</td>\n",
       "      <td>0.338687</td>\n",
       "    </tr>\n",
       "    <tr>\n",
       "      <th>Prolif. AMφ</th>\n",
       "      <td>0.832168</td>\n",
       "      <td>0.167832</td>\n",
       "    </tr>\n",
       "    <tr>\n",
       "      <th>Mono/Mφ</th>\n",
       "      <td>0.576981</td>\n",
       "      <td>0.423019</td>\n",
       "    </tr>\n",
       "    <tr>\n",
       "      <th>AMφ-1</th>\n",
       "      <td>0.534121</td>\n",
       "      <td>0.465879</td>\n",
       "    </tr>\n",
       "    <tr>\n",
       "      <th>Monocytes</th>\n",
       "      <td>0.526723</td>\n",
       "      <td>0.473277</td>\n",
       "    </tr>\n",
       "    <tr>\n",
       "      <th>AMφ-2</th>\n",
       "      <td>0.366359</td>\n",
       "      <td>0.633641</td>\n",
       "    </tr>\n",
       "  </tbody>\n",
       "</table>\n",
       "</div>"
      ],
      "text/plain": [
       "proximity.mapping.label       IPF   control\n",
       "mdm.type                                   \n",
       "CD163/LGMN-Mφ            0.661313  0.338687\n",
       "Prolif. AMφ              0.832168  0.167832\n",
       "Mono/Mφ                  0.576981  0.423019\n",
       "AMφ-1                    0.534121  0.465879\n",
       "Monocytes                0.526723  0.473277\n",
       "AMφ-2                    0.366359  0.633641"
      ]
     },
     "execution_count": 85,
     "metadata": {},
     "output_type": "execute_result"
    }
   ],
   "source": [
    "hm4"
   ]
  },
  {
   "cell_type": "code",
   "execution_count": 87,
   "metadata": {},
   "outputs": [
    {
     "data": {
      "text/plain": [
       "'/mnt/znas/icb_zstore01/groups/ml01/workspace/ignacio.ibarra/theislab/saliba_macrophages/notebooks/data/figures/majority_label_heatmap_with_fisher_exact_test_padj_revision.pdf'"
      ]
     },
     "execution_count": 87,
     "metadata": {},
     "output_type": "execute_result"
    }
   ],
   "source": [
    "abspath('data/figures/majority_label_heatmap_with_fisher_exact_test_padj_revision.pdf')"
   ]
  },
  {
   "cell_type": "code",
   "execution_count": 88,
   "metadata": {},
   "outputs": [
    {
     "data": {
      "text/plain": [
       "(array([ 7737., 21659.,  9883.,  4527.,  2442.,  1542.,   933.,   696.,\n",
       "          484.,  3558.]),\n",
       " array([7.52246700e-05, 1.00067702e-01, 2.00060180e-01, 3.00052657e-01,\n",
       "        4.00045135e-01, 5.00037612e-01, 6.00030090e-01, 7.00022567e-01,\n",
       "        8.00015045e-01, 9.00007522e-01, 1.00000000e+00]),\n",
       " <BarContainer object of 10 artists>)"
      ]
     },
     "execution_count": 88,
     "metadata": {},
     "output_type": "execute_result"
    },
    {
     "data": {
      "image/png": "[encoded data removed]",
      "text/plain": [
       "<Figure size 540x360 with 1 Axes>"
      ]
     },
     "metadata": {},
     "output_type": "display_data"
    }
   ],
   "source": [
    "plt.hist(scores['edge.score'])"
   ]
  },
  {
   "cell_type": "code",
   "execution_count": 89,
   "metadata": {},
   "outputs": [],
   "source": [
    "# df = pd.DataFrame(obs, columns=['a', 'b', 'n.a', 'n.b', 'n.total'])\n",
    "# df.sort_values('n.total', ascending=False)"
   ]
  },
  {
   "cell_type": "code",
   "execution_count": 90,
   "metadata": {},
   "outputs": [
    {
     "data": {
      "text/plain": [
       "(138341, 17656)"
      ]
     },
     "execution_count": 90,
     "metadata": {},
     "output_type": "execute_result"
    }
   ],
   "source": [
    "ad.shape"
   ]
  },
  {
   "cell_type": "code",
   "execution_count": 91,
   "metadata": {},
   "outputs": [],
   "source": [
    "# pos_by_pair.keys()"
   ]
  },
  {
   "cell_type": "code",
   "execution_count": 92,
   "metadata": {},
   "outputs": [],
   "source": [
    "def get_assoc_cell_by_mdm_type(mdm_type):\n",
    "    ref = mdm_type\n",
    "    print('running...')\n",
    "    final = None\n",
    "    keys_by_group = {}\n",
    "    for k2 in ['COPD', 'IPF', 'control']:\n",
    "        # print(ref, k2)\n",
    "        k = ref + ':' + k2\n",
    "        if not k in pos_by_pair:\n",
    "            k = k2 + ':' + ref\n",
    "        if not k in pos_by_pair:\n",
    "            continue\n",
    "\n",
    "        a = ad[pos_by_pair[k][ref],:]\n",
    "        a.obs['selection'] = k\n",
    "        keys_by_group[k] = set(a.obs.index)\n",
    "        final = a if final is None else final.concatenate(a)\n",
    "\n",
    "    filter_uniq = True\n",
    "    if filter_uniq:\n",
    "        uniq_by_k = {}\n",
    "        for k in keys_by_group:\n",
    "            uniq = set(keys_by_group[k])\n",
    "            # print(k, len(keys_by_group[k]))\n",
    "            for k2 in keys_by_group:\n",
    "                if k == k2:\n",
    "                    continue\n",
    "                # print('removing if overlapping with %s' % k2, len(keys_by_group[k2]))\n",
    "                uniq -= keys_by_group[k2]\n",
    "            # print('uniq', len(uniq))\n",
    "            uniq_by_k[k] = uniq\n",
    "            # print('')\n",
    "        for k in uniq_by_k:\n",
    "            continue\n",
    "            print(k, len(uniq_by_k[k]))\n",
    "\n",
    "    # print('running...')\n",
    "    final = None\n",
    "    for k2 in ['COPD', 'IPF', 'control']:\n",
    "        # print(ref, k2)\n",
    "        k = ref + ':' + k2\n",
    "        if not k in pos_by_pair:\n",
    "            k = k2 + ':' + ref\n",
    "        if not k in pos_by_pair:\n",
    "            continue\n",
    "\n",
    "        a = ad[pos_by_pair[k][ref],:]\n",
    "        a.obs['selection'] = k\n",
    "\n",
    "        if filter_uniq:\n",
    "            a = a[(a.obs['selection'] == k) & (a.obs.index.isin(set(uniq_by_k[k]))),:]\n",
    "        else:\n",
    "            a = a[(a.obs['selection'] == k),:]\n",
    "        # print(k, a.shape)\n",
    "        final = a if final is None else final.concatenate(a)\n",
    "\n",
    "    final.obs['closest.disease.status'] = final.obs['selection'].str.split(':').str[1]\n",
    "    return final"
   ]
  },
  {
   "cell_type": "code",
   "execution_count": 93,
   "metadata": {},
   "outputs": [
    {
     "data": {
      "text/plain": [
       "'all_minus_budinger_updated_ann'"
      ]
     },
     "execution_count": 93,
     "metadata": {},
     "output_type": "execute_result"
    }
   ],
   "source": [
    "k"
   ]
  },
  {
   "cell_type": "code",
   "execution_count": 94,
   "metadata": {},
   "outputs": [
    {
     "name": "stdout",
     "output_type": "stream",
     "text": [
      "(115531, 17656)\n"
     ]
    }
   ],
   "source": [
    "final = ad_no_bal if k == 'ad_minus_bal' else ad_no_budinger if (k == 'all_minus_budinger' or k == 'all_minus_budinger_updated_ann') else None\n",
    "print(final.shape)\n",
    "assert final is not None\n",
    "final = final.copy()"
   ]
  },
  {
   "cell_type": "code",
   "execution_count": 95,
   "metadata": {},
   "outputs": [
    {
     "name": "stderr",
     "output_type": "stream",
     "text": [
      "/home/icb/ignacio.ibarra/miniconda3/envs/mypython3/lib/python3.7/site-packages/pandas/core/arrays/categorical.py:2487: FutureWarning: The `inplace` parameter in pandas.Categorical.remove_unused_categories is deprecated and will be removed in a future version.\n",
      "  res = method(*args, **kwargs)\n",
      "Trying to set attribute `.obs` of view, copying.\n"
     ]
    },
    {
     "data": {
      "text/plain": [
       "(7055, 17656)"
      ]
     },
     "execution_count": 95,
     "metadata": {},
     "output_type": "execute_result"
    }
   ],
   "source": [
    "# hm2.head()\n",
    "final = final[final.obs.index.isin(set(hm2['cell.id'])),:]\n",
    "final.obs['closest.disease.status'] = final.obs.index.map(hm2.set_index('cell.id')['proximity.mapping.label'].to_dict())\n",
    "final.shape"
   ]
  },
  {
   "cell_type": "code",
   "execution_count": 96,
   "metadata": {},
   "outputs": [],
   "source": [
    "# final.obs['selection'].value_counts()"
   ]
  },
  {
   "cell_type": "code",
   "execution_count": 97,
   "metadata": {},
   "outputs": [],
   "source": [
    "# hm2[hm2['cell.id'] == '483C_CGCTTCACATTCACTT-1-0']"
   ]
  },
  {
   "cell_type": "code",
   "execution_count": 98,
   "metadata": {},
   "outputs": [
    {
     "name": "stdout",
     "output_type": "stream",
     "text": [
      "Neutrophil 5 0\n",
      "Alveolar-Mac 1605 0\n",
      "Mo-Mac 5718 0\n",
      "T/NK 3 0\n",
      "Plasmablast 163 0\n",
      "B/DC 1 0\n",
      "Epithelia 8 0\n"
     ]
    }
   ],
   "source": [
    "for c in set(bal.obs['Celltype']):\n",
    "    sel = bal.obs[bal.obs['Celltype'] == c]\n",
    "    print(c, sel.shape[0], sel[pd.isnull(sel['mdm.type'])].shape[0])"
   ]
  },
  {
   "cell_type": "code",
   "execution_count": 99,
   "metadata": {},
   "outputs": [
    {
     "data": {
      "text/plain": [
       "Index(['CD163/LGMN-Mφ', 'Monocytes', 'Mono/Mφ', 'Monocytes', 'Mono/Mφ', 'CD163/LGMN-Mφ', 'low quality', 'Mono/Mφ', 'Monocytes', 'Monocytes',\n",
       "       ...\n",
       "       'Monocytes', 'Monocytes', 'CD163/LGMN-Mφ', 'CD163/LGMN-Mφ', 'CD163/LGMN-Mφ', 'Mono/Mφ', 'Mono/Mφ', 'Mono/Mφ', 'Mono/Mφ', 'Mono/Mφ'], dtype='object', length=7055)"
      ]
     },
     "execution_count": 99,
     "metadata": {},
     "output_type": "execute_result"
    }
   ],
   "source": [
    "final.obs.index.map(mapping_revision_2021['bal_clusters'].to_dict())"
   ]
  },
  {
   "cell_type": "code",
   "execution_count": 100,
   "metadata": {},
   "outputs": [],
   "source": [
    "final.obs['mdm.type'] = final.obs.index.map(mapping_revision_2021['bal_clusters'].to_dict())\n"
   ]
  },
  {
   "cell_type": "code",
   "execution_count": 101,
   "metadata": {},
   "outputs": [
    {
     "data": {
      "text/plain": [
       "Monocytes        1708\n",
       "CD163/LGMN-Mφ    1650\n",
       "Mono/Mφ          1497\n",
       "AMφ-1             997\n",
       "AMφ-2             713\n",
       "low quality       300\n",
       "Prolif. AMφ       190\n",
       "Name: mdm.type, dtype: int64"
      ]
     },
     "execution_count": 101,
     "metadata": {},
     "output_type": "execute_result"
    }
   ],
   "source": [
    "final.obs['mdm.type'].value_counts()"
   ]
  },
  {
   "cell_type": "code",
   "execution_count": 102,
   "metadata": {},
   "outputs": [
    {
     "data": {
      "text/plain": [
       "cell.id\n",
       "17551    AAACCCACAAGCAATA-2-1-0-0-0-0\n",
       "17552    AAAGAACGTGTCCGTG-2-1-0-0-0-0\n",
       "17553    AAAGGGCCAAGCGCAA-2-1-0-0-0-0\n",
       "17554    AAAGGGCCAGCGAGTA-2-1-0-0-0-0\n",
       "17555    AAAGGTACACGGTGTC-2-1-0-0-0-0\n",
       "                     ...             \n",
       "25049    TTGGGATCAGCTACTA-8-1-0-0-0-0\n",
       "25050    TTTGACTAGGTTCTTG-8-1-0-0-0-0\n",
       "25051    TTTGGTTCAAGTGCTT-8-1-0-0-0-0\n",
       "25052    TTTGTTGCAATGAGCG-8-1-0-0-0-0\n",
       "25053    TTTGTTGGTAGTAAGT-8-1-0-0-0-0\n",
       "Name: cell.id, Length: 7055, dtype: object"
      ]
     },
     "execution_count": 102,
     "metadata": {},
     "output_type": "execute_result"
    }
   ],
   "source": [
    "hm2['cell.id']"
   ]
  },
  {
   "cell_type": "code",
   "execution_count": 103,
   "metadata": {},
   "outputs": [
    {
     "data": {
      "text/html": [
       "<div>\n",
       "<style scoped>\n",
       "    .dataframe tbody tr th:only-of-type {\n",
       "        vertical-align: middle;\n",
       "    }\n",
       "\n",
       "    .dataframe tbody tr th {\n",
       "        vertical-align: top;\n",
       "    }\n",
       "\n",
       "    .dataframe thead th {\n",
       "        text-align: right;\n",
       "    }\n",
       "</style>\n",
       "<table border=\"1\" class=\"dataframe\">\n",
       "  <thead>\n",
       "    <tr style=\"text-align: right;\">\n",
       "      <th></th>\n",
       "      <th>mdm.type</th>\n",
       "      <th>closest.disease.status</th>\n",
       "      <th>0</th>\n",
       "    </tr>\n",
       "  </thead>\n",
       "  <tbody>\n",
       "    <tr>\n",
       "      <th>0</th>\n",
       "      <td>AMφ-1</td>\n",
       "      <td>COPD</td>\n",
       "      <td>235</td>\n",
       "    </tr>\n",
       "    <tr>\n",
       "      <th>1</th>\n",
       "      <td>AMφ-1</td>\n",
       "      <td>IPF</td>\n",
       "      <td>407</td>\n",
       "    </tr>\n",
       "    <tr>\n",
       "      <th>2</th>\n",
       "      <td>AMφ-1</td>\n",
       "      <td>control</td>\n",
       "      <td>355</td>\n",
       "    </tr>\n",
       "    <tr>\n",
       "      <th>3</th>\n",
       "      <td>AMφ-2</td>\n",
       "      <td>COPD</td>\n",
       "      <td>279</td>\n",
       "    </tr>\n",
       "    <tr>\n",
       "      <th>4</th>\n",
       "      <td>AMφ-2</td>\n",
       "      <td>IPF</td>\n",
       "      <td>159</td>\n",
       "    </tr>\n",
       "    <tr>\n",
       "      <th>5</th>\n",
       "      <td>AMφ-2</td>\n",
       "      <td>control</td>\n",
       "      <td>275</td>\n",
       "    </tr>\n",
       "    <tr>\n",
       "      <th>6</th>\n",
       "      <td>CD163/LGMN-Mφ</td>\n",
       "      <td>COPD</td>\n",
       "      <td>218</td>\n",
       "    </tr>\n",
       "    <tr>\n",
       "      <th>7</th>\n",
       "      <td>CD163/LGMN-Mφ</td>\n",
       "      <td>IPF</td>\n",
       "      <td>947</td>\n",
       "    </tr>\n",
       "    <tr>\n",
       "      <th>8</th>\n",
       "      <td>CD163/LGMN-Mφ</td>\n",
       "      <td>control</td>\n",
       "      <td>485</td>\n",
       "    </tr>\n",
       "    <tr>\n",
       "      <th>9</th>\n",
       "      <td>Mono/Mφ</td>\n",
       "      <td>COPD</td>\n",
       "      <td>159</td>\n",
       "    </tr>\n",
       "    <tr>\n",
       "      <th>10</th>\n",
       "      <td>Mono/Mφ</td>\n",
       "      <td>IPF</td>\n",
       "      <td>772</td>\n",
       "    </tr>\n",
       "    <tr>\n",
       "      <th>11</th>\n",
       "      <td>Mono/Mφ</td>\n",
       "      <td>control</td>\n",
       "      <td>566</td>\n",
       "    </tr>\n",
       "    <tr>\n",
       "      <th>12</th>\n",
       "      <td>Monocytes</td>\n",
       "      <td>COPD</td>\n",
       "      <td>286</td>\n",
       "    </tr>\n",
       "    <tr>\n",
       "      <th>13</th>\n",
       "      <td>Monocytes</td>\n",
       "      <td>IPF</td>\n",
       "      <td>749</td>\n",
       "    </tr>\n",
       "    <tr>\n",
       "      <th>14</th>\n",
       "      <td>Monocytes</td>\n",
       "      <td>control</td>\n",
       "      <td>673</td>\n",
       "    </tr>\n",
       "    <tr>\n",
       "      <th>15</th>\n",
       "      <td>Prolif. AMφ</td>\n",
       "      <td>COPD</td>\n",
       "      <td>47</td>\n",
       "    </tr>\n",
       "    <tr>\n",
       "      <th>16</th>\n",
       "      <td>Prolif. AMφ</td>\n",
       "      <td>IPF</td>\n",
       "      <td>119</td>\n",
       "    </tr>\n",
       "    <tr>\n",
       "      <th>17</th>\n",
       "      <td>Prolif. AMφ</td>\n",
       "      <td>control</td>\n",
       "      <td>24</td>\n",
       "    </tr>\n",
       "    <tr>\n",
       "      <th>18</th>\n",
       "      <td>low quality</td>\n",
       "      <td>COPD</td>\n",
       "      <td>132</td>\n",
       "    </tr>\n",
       "    <tr>\n",
       "      <th>19</th>\n",
       "      <td>low quality</td>\n",
       "      <td>IPF</td>\n",
       "      <td>116</td>\n",
       "    </tr>\n",
       "    <tr>\n",
       "      <th>20</th>\n",
       "      <td>low quality</td>\n",
       "      <td>control</td>\n",
       "      <td>52</td>\n",
       "    </tr>\n",
       "  </tbody>\n",
       "</table>\n",
       "</div>"
      ],
      "text/plain": [
       "         mdm.type closest.disease.status    0\n",
       "0           AMφ-1                   COPD  235\n",
       "1           AMφ-1                    IPF  407\n",
       "2           AMφ-1                control  355\n",
       "3           AMφ-2                   COPD  279\n",
       "4           AMφ-2                    IPF  159\n",
       "5           AMφ-2                control  275\n",
       "6   CD163/LGMN-Mφ                   COPD  218\n",
       "7   CD163/LGMN-Mφ                    IPF  947\n",
       "8   CD163/LGMN-Mφ                control  485\n",
       "9         Mono/Mφ                   COPD  159\n",
       "10        Mono/Mφ                    IPF  772\n",
       "11        Mono/Mφ                control  566\n",
       "12      Monocytes                   COPD  286\n",
       "13      Monocytes                    IPF  749\n",
       "14      Monocytes                control  673\n",
       "15    Prolif. AMφ                   COPD   47\n",
       "16    Prolif. AMφ                    IPF  119\n",
       "17    Prolif. AMφ                control   24\n",
       "18    low quality                   COPD  132\n",
       "19    low quality                    IPF  116\n",
       "20    low quality                control   52"
      ]
     },
     "execution_count": 103,
     "metadata": {},
     "output_type": "execute_result"
    }
   ],
   "source": [
    "final.obs.groupby(['mdm.type', 'closest.disease.status']).size().reset_index()"
   ]
  },
  {
   "cell_type": "code",
   "execution_count": 104,
   "metadata": {},
   "outputs": [
    {
     "data": {
      "text/html": [
       "<div>\n",
       "<style scoped>\n",
       "    .dataframe tbody tr th:only-of-type {\n",
       "        vertical-align: middle;\n",
       "    }\n",
       "\n",
       "    .dataframe tbody tr th {\n",
       "        vertical-align: top;\n",
       "    }\n",
       "\n",
       "    .dataframe thead th {\n",
       "        text-align: right;\n",
       "    }\n",
       "</style>\n",
       "<table border=\"1\" class=\"dataframe\">\n",
       "  <thead>\n",
       "    <tr style=\"text-align: right;\">\n",
       "      <th>closest.disease.status</th>\n",
       "      <th>IPF</th>\n",
       "      <th>control</th>\n",
       "    </tr>\n",
       "    <tr>\n",
       "      <th>mdm.type</th>\n",
       "      <th></th>\n",
       "      <th></th>\n",
       "    </tr>\n",
       "  </thead>\n",
       "  <tbody>\n",
       "    <tr>\n",
       "      <th>AMφ-1</th>\n",
       "      <td>407</td>\n",
       "      <td>355</td>\n",
       "    </tr>\n",
       "    <tr>\n",
       "      <th>AMφ-2</th>\n",
       "      <td>159</td>\n",
       "      <td>275</td>\n",
       "    </tr>\n",
       "    <tr>\n",
       "      <th>CD163/LGMN-Mφ</th>\n",
       "      <td>947</td>\n",
       "      <td>485</td>\n",
       "    </tr>\n",
       "    <tr>\n",
       "      <th>Mono/Mφ</th>\n",
       "      <td>772</td>\n",
       "      <td>566</td>\n",
       "    </tr>\n",
       "    <tr>\n",
       "      <th>Monocytes</th>\n",
       "      <td>749</td>\n",
       "      <td>673</td>\n",
       "    </tr>\n",
       "    <tr>\n",
       "      <th>Prolif. AMφ</th>\n",
       "      <td>119</td>\n",
       "      <td>24</td>\n",
       "    </tr>\n",
       "    <tr>\n",
       "      <th>low quality</th>\n",
       "      <td>116</td>\n",
       "      <td>52</td>\n",
       "    </tr>\n",
       "  </tbody>\n",
       "</table>\n",
       "</div>"
      ],
      "text/plain": [
       "closest.disease.status  IPF  control\n",
       "mdm.type                            \n",
       "AMφ-1                   407      355\n",
       "AMφ-2                   159      275\n",
       "CD163/LGMN-Mφ           947      485\n",
       "Mono/Mφ                 772      566\n",
       "Monocytes               749      673\n",
       "Prolif. AMφ             119       24\n",
       "low quality             116       52"
      ]
     },
     "execution_count": 104,
     "metadata": {},
     "output_type": "execute_result"
    }
   ],
   "source": [
    "final.obs.groupby(['mdm.type', 'closest.disease.status']).size().reset_index().pivot('mdm.type', 'closest.disease.status', 0)[['IPF', 'control']]"
   ]
  },
  {
   "cell_type": "code",
   "execution_count": 105,
   "metadata": {},
   "outputs": [],
   "source": [
    "rcParams['figure.figsize'] = [10, 5]\n",
    "sns.violinplot(data=final.obs, x='mdm.type', y='MP.all.score', hue='closest.disease.status', hue_order=['IPF', 'control'])\n",
    "plt.xticks(rotation=45, ha='right')\n",
    "\n",
    "plt.savefig('data/figures/closest_disease_status_gene_scores_bal.pdf')\n",
    "plt.close()"
   ]
  },
  {
   "cell_type": "code",
   "execution_count": 106,
   "metadata": {},
   "outputs": [
    {
     "name": "stdout",
     "output_type": "stream",
     "text": [
      "7\n",
      "Monocytes\n"
     ]
    },
    {
     "name": "stderr",
     "output_type": "stream",
     "text": [
      "/home/icb/ignacio.ibarra/miniconda3/envs/mypython3/lib/python3.7/site-packages/pandas/core/arrays/categorical.py:2487: FutureWarning: The `inplace` parameter in pandas.Categorical.remove_unused_categories is deprecated and will be removed in a future version.\n",
      "  res = method(*args, **kwargs)\n"
     ]
    },
    {
     "name": "stdout",
     "output_type": "stream",
     "text": [
      "Mono/Mφ\n"
     ]
    },
    {
     "name": "stderr",
     "output_type": "stream",
     "text": [
      "/home/icb/ignacio.ibarra/miniconda3/envs/mypython3/lib/python3.7/site-packages/pandas/core/arrays/categorical.py:2487: FutureWarning: The `inplace` parameter in pandas.Categorical.remove_unused_categories is deprecated and will be removed in a future version.\n",
      "  res = method(*args, **kwargs)\n"
     ]
    },
    {
     "name": "stdout",
     "output_type": "stream",
     "text": [
      "Prolif. AMφ\n"
     ]
    },
    {
     "name": "stderr",
     "output_type": "stream",
     "text": [
      "/home/icb/ignacio.ibarra/miniconda3/envs/mypython3/lib/python3.7/site-packages/pandas/core/arrays/categorical.py:2487: FutureWarning: The `inplace` parameter in pandas.Categorical.remove_unused_categories is deprecated and will be removed in a future version.\n",
      "  res = method(*args, **kwargs)\n"
     ]
    },
    {
     "name": "stdout",
     "output_type": "stream",
     "text": [
      "AMφ-2\n"
     ]
    },
    {
     "name": "stderr",
     "output_type": "stream",
     "text": [
      "/home/icb/ignacio.ibarra/miniconda3/envs/mypython3/lib/python3.7/site-packages/pandas/core/arrays/categorical.py:2487: FutureWarning: The `inplace` parameter in pandas.Categorical.remove_unused_categories is deprecated and will be removed in a future version.\n",
      "  res = method(*args, **kwargs)\n"
     ]
    },
    {
     "name": "stdout",
     "output_type": "stream",
     "text": [
      "AMφ-1\n"
     ]
    },
    {
     "name": "stderr",
     "output_type": "stream",
     "text": [
      "/home/icb/ignacio.ibarra/miniconda3/envs/mypython3/lib/python3.7/site-packages/pandas/core/arrays/categorical.py:2487: FutureWarning: The `inplace` parameter in pandas.Categorical.remove_unused_categories is deprecated and will be removed in a future version.\n",
      "  res = method(*args, **kwargs)\n"
     ]
    },
    {
     "name": "stdout",
     "output_type": "stream",
     "text": [
      "low quality\n"
     ]
    },
    {
     "name": "stderr",
     "output_type": "stream",
     "text": [
      "/home/icb/ignacio.ibarra/miniconda3/envs/mypython3/lib/python3.7/site-packages/pandas/core/arrays/categorical.py:2487: FutureWarning: The `inplace` parameter in pandas.Categorical.remove_unused_categories is deprecated and will be removed in a future version.\n",
      "  res = method(*args, **kwargs)\n"
     ]
    },
    {
     "name": "stdout",
     "output_type": "stream",
     "text": [
      "CD163/LGMN-Mφ\n"
     ]
    },
    {
     "name": "stderr",
     "output_type": "stream",
     "text": [
      "/home/icb/ignacio.ibarra/miniconda3/envs/mypython3/lib/python3.7/site-packages/pandas/core/arrays/categorical.py:2487: FutureWarning: The `inplace` parameter in pandas.Categorical.remove_unused_categories is deprecated and will be removed in a future version.\n",
      "  res = method(*args, **kwargs)\n"
     ]
    }
   ],
   "source": [
    "from matplotlib import rcParams\n",
    "from lib.RFacade import RFacade\n",
    "rcParams['figure.figsize'] = [10, 15]\n",
    "\n",
    "mdm_types = set(final.obs['mdm.type'])\n",
    "nrows = len(mdm_types)\n",
    "print(nrows)\n",
    "\n",
    "all_dotplot = []\n",
    "\n",
    "# final = get_assoc_cell_by_mdm_type(mdm_type)\n",
    "res_by_mdm_type = []\n",
    "for ri, mdm_type in enumerate(mdm_types):\n",
    "    print(mdm_type)\n",
    "    \n",
    "    final_sel = final[final.obs['mdm.type'] == mdm_type,:]\n",
    "        \n",
    "    for pi, marker_genes_lab in enumerate(['markers', 'others', 'all']):\n",
    "        ax = plt.subplot2grid([len(mdm_types), 3], [ri, pi])\n",
    "\n",
    "        ylab = 'MP.%s.score' % marker_genes_lab\n",
    "\n",
    "        xorder = ['IPF', 'COPD', 'control']\n",
    "        sns.violinplot(data=final_sel.obs, x='closest.disease.status',\n",
    "                       y=ylab, order=xorder)\n",
    "        ax.spines['right'].set_visible(False)\n",
    "        ax.spines['top'].set_visible(False)\n",
    "        plt.xticks(rotation=45, ha='right')\n",
    "        plt.title(mdm_type)\n",
    "\n",
    "\n",
    "        # Calculate number of obs per group & median to position labels\n",
    "        val_by_xi = {}\n",
    "        nobs_by_xi = {}\n",
    "        for xi in xorder:\n",
    "            val = final_sel.obs[final_sel.obs['closest.disease.status'] == xi]\n",
    "            val_by_xi[xi] = max(val[ylab]) if len(val[ylab]) != 0 else 0\n",
    "            nobs_by_xi[xi] = val[ylab].shape[0]\n",
    "\n",
    "        # Add it to the plot\n",
    "        pos = range(len(nobs_by_xi))\n",
    "        for tick, label, xi in zip(pos, ax.get_xticklabels(), xorder):\n",
    "           ax.text(pos[tick], val_by_xi[xi] + 0.5, nobs_by_xi[xi], horizontalalignment='center',\n",
    "                   size='x-small', color='black', weight='semibold', fontsize=8)\n",
    "        \n",
    "    df = []\n",
    "    for gene_group in ['MP.markers.score', 'MP.others.score', 'MP.all.score']:\n",
    "        for a, b in combinations(set(['IPF', 'COPD', 'control']), r=2):\n",
    "            x = np.array(final_sel.obs[final_sel.obs['closest.disease.status'] == a][gene_group])\n",
    "            y = np.array(final_sel.obs[final_sel.obs['closest.disease.status'] == b][gene_group])\n",
    "            pval = RFacade.get_wilcox_test_pval(x, y, alternative='two.sided')\n",
    "            df.append([gene_group, a, np.median(x), len(x), b, np.median(y), len(y), pval])\n",
    "    df = pd.DataFrame(df, columns=['gene.group', 'a', 'median.a', 'n.a', 'b', 'median.b', 'n.b', 'p.val'])\n",
    "    df['p.adj'] = RFacade.get_bh_pvalues(df['p.val'])\n",
    "    df.sort_values('p.adj')\n",
    "    df['mdm.type'] = mdm_type\n",
    "    res_by_mdm_type.append(df)\n",
    "\n",
    "    all_dotplot.append(final_sel)\n",
    "     \n",
    "df = pd.concat(res_by_mdm_type)\n",
    "plt.tight_layout()\n",
    "# plt.subplots_adjust(bottom=.5)\n",
    "save = True\n",
    "if save:\n",
    "    plt.savefig('data/figures/scores_only_uniquely_assigned_ad_no_bal.pdf')\n",
    "    plt.close()\n"
   ]
  },
  {
   "cell_type": "markdown",
   "metadata": {},
   "source": [
    "### Check whether normalized expression values are so different between BAL/Adams/Morse"
   ]
  },
  {
   "cell_type": "code",
   "execution_count": 107,
   "metadata": {},
   "outputs": [
    {
     "data": {
      "text/plain": [
       "'/mnt/znas/icb_zstore01/groups/ml01/workspace/ignacio.ibarra/theislab/saliba_macrophages/notebooks/revision/data/figures/scores_only_uniquely_assigned.pdf'"
      ]
     },
     "execution_count": 107,
     "metadata": {},
     "output_type": "execute_result"
    }
   ],
   "source": [
    "abspath('data/figures/scores_only_uniquely_assigned.pdf')"
   ]
  },
  {
   "cell_type": "code",
   "execution_count": 108,
   "metadata": {},
   "outputs": [
    {
     "name": "stderr",
     "output_type": "stream",
     "text": [
      "/home/icb/ignacio.ibarra/miniconda3/envs/mypython3/lib/python3.7/site-packages/pandas/core/arrays/categorical.py:2487: FutureWarning: The `inplace` parameter in pandas.Categorical.remove_unused_categories is deprecated and will be removed in a future version.\n",
      "  res = method(*args, **kwargs)\n"
     ]
    }
   ],
   "source": [
    "sel_obs = ad[:,ad.var.index == 'TREM2'].obs[['study', 'disease.status']]\n",
    "sel_expr = ad[:,ad.var.index == 'TREM2'].to_df()"
   ]
  },
  {
   "cell_type": "code",
   "execution_count": 109,
   "metadata": {},
   "outputs": [],
   "source": [
    "sel_expr = pd.concat([sel_expr, sel_obs], axis=1)"
   ]
  },
  {
   "cell_type": "code",
   "execution_count": 110,
   "metadata": {},
   "outputs": [
    {
     "data": {
      "text/html": [
       "<div>\n",
       "<style scoped>\n",
       "    .dataframe tbody tr th:only-of-type {\n",
       "        vertical-align: middle;\n",
       "    }\n",
       "\n",
       "    .dataframe tbody tr th {\n",
       "        vertical-align: top;\n",
       "    }\n",
       "\n",
       "    .dataframe thead th {\n",
       "        text-align: right;\n",
       "    }\n",
       "</style>\n",
       "<table border=\"1\" class=\"dataframe\">\n",
       "  <thead>\n",
       "    <tr style=\"text-align: right;\">\n",
       "      <th></th>\n",
       "      <th>TREM2</th>\n",
       "      <th>study</th>\n",
       "      <th>disease.status</th>\n",
       "    </tr>\n",
       "  </thead>\n",
       "  <tbody>\n",
       "    <tr>\n",
       "      <th>SC154IPFUP_AAACCTGCATCACGAT-1-0-0-0-0-0-0</th>\n",
       "      <td>5.263263</td>\n",
       "      <td>morse</td>\n",
       "      <td>IPF</td>\n",
       "    </tr>\n",
       "    <tr>\n",
       "      <th>SC154IPFUP_AAACGGGGTACCGGCT-1-0-0-0-0-0-0</th>\n",
       "      <td>0.000000</td>\n",
       "      <td>morse</td>\n",
       "      <td>IPF</td>\n",
       "    </tr>\n",
       "    <tr>\n",
       "      <th>SC154IPFUP_AAACGGGTCTGTCCGT-1-0-0-0-0-0-0</th>\n",
       "      <td>6.584918</td>\n",
       "      <td>morse</td>\n",
       "      <td>IPF</td>\n",
       "    </tr>\n",
       "    <tr>\n",
       "      <th>SC154IPFUP_AAAGATGAGATCCCGC-1-0-0-0-0-0-0</th>\n",
       "      <td>6.016356</td>\n",
       "      <td>morse</td>\n",
       "      <td>IPF</td>\n",
       "    </tr>\n",
       "    <tr>\n",
       "      <th>SC154IPFUP_AAAGATGAGATGCGAC-1-0-0-0-0-0-0</th>\n",
       "      <td>0.000000</td>\n",
       "      <td>morse</td>\n",
       "      <td>IPF</td>\n",
       "    </tr>\n",
       "    <tr>\n",
       "      <th>...</th>\n",
       "      <td>...</td>\n",
       "      <td>...</td>\n",
       "      <td>...</td>\n",
       "    </tr>\n",
       "    <tr>\n",
       "      <th>484C_TTGACTTTCATCTGCC-1-0-0-1</th>\n",
       "      <td>0.000000</td>\n",
       "      <td>adams</td>\n",
       "      <td>control</td>\n",
       "    </tr>\n",
       "    <tr>\n",
       "      <th>484C_TTTACTGCAAATTGCC-1-0-0-1</th>\n",
       "      <td>0.000000</td>\n",
       "      <td>adams</td>\n",
       "      <td>control</td>\n",
       "    </tr>\n",
       "    <tr>\n",
       "      <th>484C_TTTATGCCAATAGAGT-1-0-0-1</th>\n",
       "      <td>0.000000</td>\n",
       "      <td>adams</td>\n",
       "      <td>control</td>\n",
       "    </tr>\n",
       "    <tr>\n",
       "      <th>484C_TTTATGCTCGATAGAA-1-0-0-1</th>\n",
       "      <td>5.789468</td>\n",
       "      <td>adams</td>\n",
       "      <td>control</td>\n",
       "    </tr>\n",
       "    <tr>\n",
       "      <th>484C_TTTGGTTCATCGGGTC-1-0-0-1</th>\n",
       "      <td>0.000000</td>\n",
       "      <td>adams</td>\n",
       "      <td>control</td>\n",
       "    </tr>\n",
       "  </tbody>\n",
       "</table>\n",
       "<p>138341 rows × 3 columns</p>\n",
       "</div>"
      ],
      "text/plain": [
       "                                              TREM2  study disease.status\n",
       "SC154IPFUP_AAACCTGCATCACGAT-1-0-0-0-0-0-0  5.263263  morse            IPF\n",
       "SC154IPFUP_AAACGGGGTACCGGCT-1-0-0-0-0-0-0  0.000000  morse            IPF\n",
       "SC154IPFUP_AAACGGGTCTGTCCGT-1-0-0-0-0-0-0  6.584918  morse            IPF\n",
       "SC154IPFUP_AAAGATGAGATCCCGC-1-0-0-0-0-0-0  6.016356  morse            IPF\n",
       "SC154IPFUP_AAAGATGAGATGCGAC-1-0-0-0-0-0-0  0.000000  morse            IPF\n",
       "...                                             ...    ...            ...\n",
       "484C_TTGACTTTCATCTGCC-1-0-0-1              0.000000  adams        control\n",
       "484C_TTTACTGCAAATTGCC-1-0-0-1              0.000000  adams        control\n",
       "484C_TTTATGCCAATAGAGT-1-0-0-1              0.000000  adams        control\n",
       "484C_TTTATGCTCGATAGAA-1-0-0-1              5.789468  adams        control\n",
       "484C_TTTGGTTCATCGGGTC-1-0-0-1              0.000000  adams        control\n",
       "\n",
       "[138341 rows x 3 columns]"
      ]
     },
     "execution_count": 110,
     "metadata": {},
     "output_type": "execute_result"
    }
   ],
   "source": [
    "sel_expr"
   ]
  },
  {
   "cell_type": "code",
   "execution_count": 111,
   "metadata": {},
   "outputs": [],
   "source": [
    "bal = sc.read_h5ad('data/bal/bal.h5ad')"
   ]
  },
  {
   "cell_type": "code",
   "execution_count": 112,
   "metadata": {},
   "outputs": [
    {
     "data": {
      "text/html": [
       "<div>\n",
       "<style scoped>\n",
       "    .dataframe tbody tr th:only-of-type {\n",
       "        vertical-align: middle;\n",
       "    }\n",
       "\n",
       "    .dataframe tbody tr th {\n",
       "        vertical-align: top;\n",
       "    }\n",
       "\n",
       "    .dataframe thead th {\n",
       "        text-align: right;\n",
       "    }\n",
       "</style>\n",
       "<table border=\"1\" class=\"dataframe\">\n",
       "  <thead>\n",
       "    <tr style=\"text-align: right;\">\n",
       "      <th></th>\n",
       "      <th>ENSG00000238009</th>\n",
       "      <th>ENSG00000239945</th>\n",
       "      <th>ENSG00000241599</th>\n",
       "      <th>ENSG00000229905</th>\n",
       "      <th>ENSG00000237491</th>\n",
       "      <th>ENSG00000177757</th>\n",
       "      <th>ENSG00000225880</th>\n",
       "      <th>ENSG00000230368</th>\n",
       "      <th>ENSG00000230699</th>\n",
       "      <th>ENSG00000187634</th>\n",
       "      <th>ENSG00000188976</th>\n",
       "      <th>ENSG00000187961</th>\n",
       "      <th>ENSG00000187583</th>\n",
       "      <th>ENSG00000187642</th>\n",
       "      <th>ENSG00000272512</th>\n",
       "      <th>...</th>\n",
       "      <th>ENSG00000277761</th>\n",
       "      <th>ENSG00000277836</th>\n",
       "      <th>ENSG00000278704</th>\n",
       "      <th>ENSG00000277400</th>\n",
       "      <th>ENSG00000274847</th>\n",
       "      <th>ENSG00000276256</th>\n",
       "      <th>ENSG00000273748</th>\n",
       "      <th>ENSG00000276017</th>\n",
       "      <th>ENSG00000278817</th>\n",
       "      <th>ENSG00000277196</th>\n",
       "      <th>ENSG00000278384</th>\n",
       "      <th>ENSG00000276345</th>\n",
       "      <th>ENSG00000277856</th>\n",
       "      <th>ENSG00000275063</th>\n",
       "      <th>ENSG00000271254</th>\n",
       "    </tr>\n",
       "  </thead>\n",
       "  <tbody>\n",
       "    <tr>\n",
       "      <th>count</th>\n",
       "      <td>44227.000000</td>\n",
       "      <td>44227.000000</td>\n",
       "      <td>44227.000000</td>\n",
       "      <td>44227.000000</td>\n",
       "      <td>44227.000000</td>\n",
       "      <td>44227.000000</td>\n",
       "      <td>44227.000000</td>\n",
       "      <td>44227.000000</td>\n",
       "      <td>44227.000000</td>\n",
       "      <td>44227.000000</td>\n",
       "      <td>44227.000000</td>\n",
       "      <td>44227.000000</td>\n",
       "      <td>44227.000000</td>\n",
       "      <td>44227.000000</td>\n",
       "      <td>44227.000000</td>\n",
       "      <td>...</td>\n",
       "      <td>44227.000000</td>\n",
       "      <td>44227.000000</td>\n",
       "      <td>44227.000000</td>\n",
       "      <td>44227.000000</td>\n",
       "      <td>44227.000000</td>\n",
       "      <td>44227.000000</td>\n",
       "      <td>44227.000000</td>\n",
       "      <td>44227.00000</td>\n",
       "      <td>44227.000000</td>\n",
       "      <td>44227.000000</td>\n",
       "      <td>44227.000000</td>\n",
       "      <td>44227.000000</td>\n",
       "      <td>44227.000000</td>\n",
       "      <td>44227.000000</td>\n",
       "      <td>44227.000000</td>\n",
       "    </tr>\n",
       "    <tr>\n",
       "      <th>mean</th>\n",
       "      <td>0.004206</td>\n",
       "      <td>0.000362</td>\n",
       "      <td>0.001357</td>\n",
       "      <td>0.000430</td>\n",
       "      <td>0.062744</td>\n",
       "      <td>0.000656</td>\n",
       "      <td>0.017862</td>\n",
       "      <td>0.017591</td>\n",
       "      <td>0.000497</td>\n",
       "      <td>0.002080</td>\n",
       "      <td>0.297465</td>\n",
       "      <td>0.016393</td>\n",
       "      <td>0.031564</td>\n",
       "      <td>0.000384</td>\n",
       "      <td>0.000859</td>\n",
       "      <td>...</td>\n",
       "      <td>0.000068</td>\n",
       "      <td>0.000565</td>\n",
       "      <td>0.003437</td>\n",
       "      <td>0.001673</td>\n",
       "      <td>0.015036</td>\n",
       "      <td>0.006806</td>\n",
       "      <td>0.035273</td>\n",
       "      <td>0.00009</td>\n",
       "      <td>0.023515</td>\n",
       "      <td>0.000045</td>\n",
       "      <td>0.049721</td>\n",
       "      <td>0.082551</td>\n",
       "      <td>0.008298</td>\n",
       "      <td>0.008117</td>\n",
       "      <td>0.035250</td>\n",
       "    </tr>\n",
       "    <tr>\n",
       "      <th>std</th>\n",
       "      <td>0.065754</td>\n",
       "      <td>0.020171</td>\n",
       "      <td>0.036808</td>\n",
       "      <td>0.020723</td>\n",
       "      <td>0.275833</td>\n",
       "      <td>0.025599</td>\n",
       "      <td>0.138625</td>\n",
       "      <td>0.142361</td>\n",
       "      <td>0.022298</td>\n",
       "      <td>0.049373</td>\n",
       "      <td>0.758595</td>\n",
       "      <td>0.132045</td>\n",
       "      <td>0.199031</td>\n",
       "      <td>0.019602</td>\n",
       "      <td>0.032239</td>\n",
       "      <td>...</td>\n",
       "      <td>0.010633</td>\n",
       "      <td>0.082222</td>\n",
       "      <td>0.059292</td>\n",
       "      <td>0.043027</td>\n",
       "      <td>0.126436</td>\n",
       "      <td>0.085453</td>\n",
       "      <td>0.204690</td>\n",
       "      <td>0.00951</td>\n",
       "      <td>0.173516</td>\n",
       "      <td>0.009510</td>\n",
       "      <td>0.249073</td>\n",
       "      <td>0.437047</td>\n",
       "      <td>0.506860</td>\n",
       "      <td>0.315923</td>\n",
       "      <td>0.243025</td>\n",
       "    </tr>\n",
       "    <tr>\n",
       "      <th>min</th>\n",
       "      <td>0.000000</td>\n",
       "      <td>0.000000</td>\n",
       "      <td>0.000000</td>\n",
       "      <td>0.000000</td>\n",
       "      <td>0.000000</td>\n",
       "      <td>0.000000</td>\n",
       "      <td>0.000000</td>\n",
       "      <td>0.000000</td>\n",
       "      <td>0.000000</td>\n",
       "      <td>0.000000</td>\n",
       "      <td>0.000000</td>\n",
       "      <td>0.000000</td>\n",
       "      <td>0.000000</td>\n",
       "      <td>0.000000</td>\n",
       "      <td>0.000000</td>\n",
       "      <td>...</td>\n",
       "      <td>0.000000</td>\n",
       "      <td>0.000000</td>\n",
       "      <td>0.000000</td>\n",
       "      <td>0.000000</td>\n",
       "      <td>0.000000</td>\n",
       "      <td>0.000000</td>\n",
       "      <td>0.000000</td>\n",
       "      <td>0.00000</td>\n",
       "      <td>0.000000</td>\n",
       "      <td>0.000000</td>\n",
       "      <td>0.000000</td>\n",
       "      <td>0.000000</td>\n",
       "      <td>0.000000</td>\n",
       "      <td>0.000000</td>\n",
       "      <td>0.000000</td>\n",
       "    </tr>\n",
       "    <tr>\n",
       "      <th>25%</th>\n",
       "      <td>0.000000</td>\n",
       "      <td>0.000000</td>\n",
       "      <td>0.000000</td>\n",
       "      <td>0.000000</td>\n",
       "      <td>0.000000</td>\n",
       "      <td>0.000000</td>\n",
       "      <td>0.000000</td>\n",
       "      <td>0.000000</td>\n",
       "      <td>0.000000</td>\n",
       "      <td>0.000000</td>\n",
       "      <td>0.000000</td>\n",
       "      <td>0.000000</td>\n",
       "      <td>0.000000</td>\n",
       "      <td>0.000000</td>\n",
       "      <td>0.000000</td>\n",
       "      <td>...</td>\n",
       "      <td>0.000000</td>\n",
       "      <td>0.000000</td>\n",
       "      <td>0.000000</td>\n",
       "      <td>0.000000</td>\n",
       "      <td>0.000000</td>\n",
       "      <td>0.000000</td>\n",
       "      <td>0.000000</td>\n",
       "      <td>0.00000</td>\n",
       "      <td>0.000000</td>\n",
       "      <td>0.000000</td>\n",
       "      <td>0.000000</td>\n",
       "      <td>0.000000</td>\n",
       "      <td>0.000000</td>\n",
       "      <td>0.000000</td>\n",
       "      <td>0.000000</td>\n",
       "    </tr>\n",
       "    <tr>\n",
       "      <th>50%</th>\n",
       "      <td>0.000000</td>\n",
       "      <td>0.000000</td>\n",
       "      <td>0.000000</td>\n",
       "      <td>0.000000</td>\n",
       "      <td>0.000000</td>\n",
       "      <td>0.000000</td>\n",
       "      <td>0.000000</td>\n",
       "      <td>0.000000</td>\n",
       "      <td>0.000000</td>\n",
       "      <td>0.000000</td>\n",
       "      <td>0.000000</td>\n",
       "      <td>0.000000</td>\n",
       "      <td>0.000000</td>\n",
       "      <td>0.000000</td>\n",
       "      <td>0.000000</td>\n",
       "      <td>...</td>\n",
       "      <td>0.000000</td>\n",
       "      <td>0.000000</td>\n",
       "      <td>0.000000</td>\n",
       "      <td>0.000000</td>\n",
       "      <td>0.000000</td>\n",
       "      <td>0.000000</td>\n",
       "      <td>0.000000</td>\n",
       "      <td>0.00000</td>\n",
       "      <td>0.000000</td>\n",
       "      <td>0.000000</td>\n",
       "      <td>0.000000</td>\n",
       "      <td>0.000000</td>\n",
       "      <td>0.000000</td>\n",
       "      <td>0.000000</td>\n",
       "      <td>0.000000</td>\n",
       "    </tr>\n",
       "    <tr>\n",
       "      <th>75%</th>\n",
       "      <td>0.000000</td>\n",
       "      <td>0.000000</td>\n",
       "      <td>0.000000</td>\n",
       "      <td>0.000000</td>\n",
       "      <td>0.000000</td>\n",
       "      <td>0.000000</td>\n",
       "      <td>0.000000</td>\n",
       "      <td>0.000000</td>\n",
       "      <td>0.000000</td>\n",
       "      <td>0.000000</td>\n",
       "      <td>0.000000</td>\n",
       "      <td>0.000000</td>\n",
       "      <td>0.000000</td>\n",
       "      <td>0.000000</td>\n",
       "      <td>0.000000</td>\n",
       "      <td>...</td>\n",
       "      <td>0.000000</td>\n",
       "      <td>0.000000</td>\n",
       "      <td>0.000000</td>\n",
       "      <td>0.000000</td>\n",
       "      <td>0.000000</td>\n",
       "      <td>0.000000</td>\n",
       "      <td>0.000000</td>\n",
       "      <td>0.00000</td>\n",
       "      <td>0.000000</td>\n",
       "      <td>0.000000</td>\n",
       "      <td>0.000000</td>\n",
       "      <td>0.000000</td>\n",
       "      <td>0.000000</td>\n",
       "      <td>0.000000</td>\n",
       "      <td>0.000000</td>\n",
       "    </tr>\n",
       "    <tr>\n",
       "      <th>max</th>\n",
       "      <td>2.000000</td>\n",
       "      <td>2.000000</td>\n",
       "      <td>1.000000</td>\n",
       "      <td>1.000000</td>\n",
       "      <td>4.000000</td>\n",
       "      <td>1.000000</td>\n",
       "      <td>3.000000</td>\n",
       "      <td>7.000000</td>\n",
       "      <td>1.000000</td>\n",
       "      <td>3.000000</td>\n",
       "      <td>17.000000</td>\n",
       "      <td>2.000000</td>\n",
       "      <td>5.000000</td>\n",
       "      <td>1.000000</td>\n",
       "      <td>2.000000</td>\n",
       "      <td>...</td>\n",
       "      <td>2.000000</td>\n",
       "      <td>17.000000</td>\n",
       "      <td>2.000000</td>\n",
       "      <td>2.000000</td>\n",
       "      <td>2.000000</td>\n",
       "      <td>2.000000</td>\n",
       "      <td>4.000000</td>\n",
       "      <td>1.00000</td>\n",
       "      <td>5.000000</td>\n",
       "      <td>2.000000</td>\n",
       "      <td>5.000000</td>\n",
       "      <td>11.000000</td>\n",
       "      <td>56.000000</td>\n",
       "      <td>28.000000</td>\n",
       "      <td>7.000000</td>\n",
       "    </tr>\n",
       "  </tbody>\n",
       "</table>\n",
       "<p>8 rows × 27007 columns</p>\n",
       "</div>"
      ],
      "text/plain": [
       "       ENSG00000238009  ENSG00000239945  ENSG00000241599  ENSG00000229905  ENSG00000237491  ENSG00000177757  ENSG00000225880  ENSG00000230368  ENSG00000230699  ENSG00000187634  ENSG00000188976  ENSG00000187961  ENSG00000187583  ENSG00000187642  ENSG00000272512  ...  ENSG00000277761  ENSG00000277836  ENSG00000278704  ENSG00000277400  ENSG00000274847  ENSG00000276256  ENSG00000273748  ENSG00000276017  ENSG00000278817  ENSG00000277196  ENSG00000278384  ENSG00000276345  ENSG00000277856  ENSG00000275063  ENSG00000271254\n",
       "count     44227.000000     44227.000000     44227.000000     44227.000000     44227.000000     44227.000000     44227.000000     44227.000000     44227.000000     44227.000000     44227.000000     44227.000000     44227.000000     44227.000000     44227.000000  ...     44227.000000     44227.000000     44227.000000     44227.000000     44227.000000     44227.000000     44227.000000      44227.00000     44227.000000     44227.000000     44227.000000     44227.000000     44227.000000     44227.000000     44227.000000\n",
       "mean          0.004206         0.000362         0.001357         0.000430         0.062744         0.000656         0.017862         0.017591         0.000497         0.002080         0.297465         0.016393         0.031564         0.000384         0.000859  ...         0.000068         0.000565         0.003437         0.001673         0.015036         0.006806         0.035273          0.00009         0.023515         0.000045         0.049721         0.082551         0.008298         0.008117         0.035250\n",
       "std           0.065754         0.020171         0.036808         0.020723         0.275833         0.025599         0.138625         0.142361         0.022298         0.049373         0.758595         0.132045         0.199031         0.019602         0.032239  ...         0.010633         0.082222         0.059292         0.043027         0.126436         0.085453         0.204690          0.00951         0.173516         0.009510         0.249073         0.437047         0.506860         0.315923         0.243025\n",
       "min           0.000000         0.000000         0.000000         0.000000         0.000000         0.000000         0.000000         0.000000         0.000000         0.000000         0.000000         0.000000         0.000000         0.000000         0.000000  ...         0.000000         0.000000         0.000000         0.000000         0.000000         0.000000         0.000000          0.00000         0.000000         0.000000         0.000000         0.000000         0.000000         0.000000         0.000000\n",
       "25%           0.000000         0.000000         0.000000         0.000000         0.000000         0.000000         0.000000         0.000000         0.000000         0.000000         0.000000         0.000000         0.000000         0.000000         0.000000  ...         0.000000         0.000000         0.000000         0.000000         0.000000         0.000000         0.000000          0.00000         0.000000         0.000000         0.000000         0.000000         0.000000         0.000000         0.000000\n",
       "50%           0.000000         0.000000         0.000000         0.000000         0.000000         0.000000         0.000000         0.000000         0.000000         0.000000         0.000000         0.000000         0.000000         0.000000         0.000000  ...         0.000000         0.000000         0.000000         0.000000         0.000000         0.000000         0.000000          0.00000         0.000000         0.000000         0.000000         0.000000         0.000000         0.000000         0.000000\n",
       "75%           0.000000         0.000000         0.000000         0.000000         0.000000         0.000000         0.000000         0.000000         0.000000         0.000000         0.000000         0.000000         0.000000         0.000000         0.000000  ...         0.000000         0.000000         0.000000         0.000000         0.000000         0.000000         0.000000          0.00000         0.000000         0.000000         0.000000         0.000000         0.000000         0.000000         0.000000\n",
       "max           2.000000         2.000000         1.000000         1.000000         4.000000         1.000000         3.000000         7.000000         1.000000         3.000000        17.000000         2.000000         5.000000         1.000000         2.000000  ...         2.000000        17.000000         2.000000         2.000000         2.000000         2.000000         4.000000          1.00000         5.000000         2.000000         5.000000        11.000000        56.000000        28.000000         7.000000\n",
       "\n",
       "[8 rows x 27007 columns]"
      ]
     },
     "execution_count": 112,
     "metadata": {},
     "output_type": "execute_result"
    }
   ],
   "source": [
    "bal.to_df().describe()"
   ]
  },
  {
   "cell_type": "code",
   "execution_count": 113,
   "metadata": {},
   "outputs": [],
   "source": [
    "df['sig'] = df['p.adj'] < 0.1\n",
    "df.sort_values('p.adj').to_csv('data/test_inferred_disease_status_comparisons_by_mdm_%s.tsv' % k, index=None, sep='\\t')\n"
   ]
  },
  {
   "cell_type": "code",
   "execution_count": 116,
   "metadata": {},
   "outputs": [
    {
     "data": {
      "text/plain": [
       "'../data/test_inferred_disease_status_comparisons_by_mdm_all_minus_budinger_updated_ann.tsv'"
      ]
     },
     "execution_count": 116,
     "metadata": {},
     "output_type": "execute_result"
    }
   ],
   "source": [
    "'data/test_inferred_disease_status_comparisons_by_mdm_%s.tsv' % k"
   ]
  },
  {
   "cell_type": "code",
   "execution_count": 114,
   "metadata": {},
   "outputs": [
    {
     "name": "stdout",
     "output_type": "stream",
     "text": [
      "-rw-r--r--. 1 ignacio.ibarra 6761 Jun 22 15:01 ../data/test_inferred_disease_status_comparisons_by_mdm_all_minus_bal.tsv\n",
      "-rw-r--r--. 1 ignacio.ibarra 9448 Jun 22 15:52 ../data/test_inferred_disease_status_comparisons_by_mdm_all_minus_budinger.tsv\n",
      "-rw-r--r--. 1 ignacio.ibarra 8118 Jul  8 22:46 ../data/test_inferred_disease_status_comparisons_by_mdm_all_minus_budinger_updated_ann.tsv\n",
      "-rw-r--r--. 1 ignacio.ibarra 6761 Jun 21 18:38 ../data/test_inferred_disease_status_comparisons_by_mdm_no_bal.tsv\n"
     ]
    }
   ],
   "source": [
    "ll data/test_inferred_disease_status_comparisons_by_mdm_*"
   ]
  },
  {
   "cell_type": "code",
   "execution_count": 117,
   "metadata": {},
   "outputs": [],
   "source": [
    "df1 = pd.read_csv('data/test_inferred_disease_status_comparisons_by_mdm_all_minus_budinger.tsv', sep='\\t')\n",
    "df2 = pd.read_csv('data/test_inferred_disease_status_comparisons_by_mdm_all_minus_bal.tsv', sep='\\t')\n",
    "df3 = pd.read_csv('data/test_inferred_disease_status_comparisons_by_mdm_all_minus_budinger_updated_ann.tsv', sep='\\t')\n",
    "df1['lab'] = 'Present Study'\n",
    "df2['lab'] = 'Bharat'\n",
    "df3['lab'] = 'Present Study - revision'\n",
    "\n",
    "df = pd.concat([df1, df2, df3])\n",
    "df[(df['gene.group'] == 'MP.all.score') & (df['a'] != 'COPD') &\n",
    "   (df['b'] != 'COPD')].sort_values('p.adj').to_csv('data/test_inferred_disease_status_comparisons_supp.tsv', sep='\\t') # [['mdm.type', 'a', 'b', 'median.a', 'median.b', 'p.adj']]"
   ]
  },
  {
   "cell_type": "code",
   "execution_count": 120,
   "metadata": {},
   "outputs": [
    {
     "data": {
      "text/html": [
       "<div>\n",
       "<style scoped>\n",
       "    .dataframe tbody tr th:only-of-type {\n",
       "        vertical-align: middle;\n",
       "    }\n",
       "\n",
       "    .dataframe tbody tr th {\n",
       "        vertical-align: top;\n",
       "    }\n",
       "\n",
       "    .dataframe thead th {\n",
       "        text-align: right;\n",
       "    }\n",
       "</style>\n",
       "<table border=\"1\" class=\"dataframe\">\n",
       "  <thead>\n",
       "    <tr style=\"text-align: right;\">\n",
       "      <th></th>\n",
       "      <th>gene.group</th>\n",
       "      <th>a</th>\n",
       "      <th>median.a</th>\n",
       "      <th>n.a</th>\n",
       "      <th>b</th>\n",
       "      <th>median.b</th>\n",
       "      <th>n.b</th>\n",
       "      <th>p.val</th>\n",
       "      <th>p.adj</th>\n",
       "      <th>mdm.type</th>\n",
       "      <th>sig</th>\n",
       "      <th>lab</th>\n",
       "    </tr>\n",
       "  </thead>\n",
       "  <tbody>\n",
       "    <tr>\n",
       "      <th>1</th>\n",
       "      <td>MP.all.score</td>\n",
       "      <td>control</td>\n",
       "      <td>2.968907</td>\n",
       "      <td>485</td>\n",
       "      <td>IPF</td>\n",
       "      <td>3.184624</td>\n",
       "      <td>947</td>\n",
       "      <td>1.014139e-14</td>\n",
       "      <td>4.563625e-14</td>\n",
       "      <td>CD163/LGMN-Mφ</td>\n",
       "      <td>True</td>\n",
       "      <td>Present Study - revision</td>\n",
       "    </tr>\n",
       "    <tr>\n",
       "      <th>4</th>\n",
       "      <td>MP.all.score</td>\n",
       "      <td>control</td>\n",
       "      <td>1.835698</td>\n",
       "      <td>673</td>\n",
       "      <td>IPF</td>\n",
       "      <td>1.963490</td>\n",
       "      <td>749</td>\n",
       "      <td>8.814187e-09</td>\n",
       "      <td>7.932768e-08</td>\n",
       "      <td>Monocytes</td>\n",
       "      <td>True</td>\n",
       "      <td>Present Study - revision</td>\n",
       "    </tr>\n",
       "    <tr>\n",
       "      <th>7</th>\n",
       "      <td>MP.all.score</td>\n",
       "      <td>control</td>\n",
       "      <td>2.556707</td>\n",
       "      <td>566</td>\n",
       "      <td>IPF</td>\n",
       "      <td>2.702004</td>\n",
       "      <td>772</td>\n",
       "      <td>2.928856e-07</td>\n",
       "      <td>1.317985e-06</td>\n",
       "      <td>Mono/Mφ</td>\n",
       "      <td>True</td>\n",
       "      <td>Present Study - revision</td>\n",
       "    </tr>\n",
       "    <tr>\n",
       "      <th>9</th>\n",
       "      <td>MP.all.score</td>\n",
       "      <td>control</td>\n",
       "      <td>3.455612</td>\n",
       "      <td>355</td>\n",
       "      <td>IPF</td>\n",
       "      <td>3.542768</td>\n",
       "      <td>407</td>\n",
       "      <td>1.326227e-04</td>\n",
       "      <td>3.978681e-04</td>\n",
       "      <td>AMφ-1</td>\n",
       "      <td>True</td>\n",
       "      <td>Present Study - revision</td>\n",
       "    </tr>\n",
       "    <tr>\n",
       "      <th>46</th>\n",
       "      <td>MP.all.score</td>\n",
       "      <td>control</td>\n",
       "      <td>3.381019</td>\n",
       "      <td>52</td>\n",
       "      <td>IPF</td>\n",
       "      <td>3.265269</td>\n",
       "      <td>116</td>\n",
       "      <td>5.585612e-01</td>\n",
       "      <td>7.181501e-01</td>\n",
       "      <td>low quality</td>\n",
       "      <td>False</td>\n",
       "      <td>Present Study - revision</td>\n",
       "    </tr>\n",
       "    <tr>\n",
       "      <th>50</th>\n",
       "      <td>MP.all.score</td>\n",
       "      <td>control</td>\n",
       "      <td>3.447100</td>\n",
       "      <td>24</td>\n",
       "      <td>IPF</td>\n",
       "      <td>3.408911</td>\n",
       "      <td>119</td>\n",
       "      <td>8.142290e-01</td>\n",
       "      <td>8.691394e-01</td>\n",
       "      <td>Prolif. AMφ</td>\n",
       "      <td>False</td>\n",
       "      <td>Present Study - revision</td>\n",
       "    </tr>\n",
       "    <tr>\n",
       "      <th>59</th>\n",
       "      <td>MP.all.score</td>\n",
       "      <td>control</td>\n",
       "      <td>3.542186</td>\n",
       "      <td>275</td>\n",
       "      <td>IPF</td>\n",
       "      <td>3.534698</td>\n",
       "      <td>159</td>\n",
       "      <td>8.178236e-01</td>\n",
       "      <td>9.200515e-01</td>\n",
       "      <td>AMφ-2</td>\n",
       "      <td>False</td>\n",
       "      <td>Present Study - revision</td>\n",
       "    </tr>\n",
       "  </tbody>\n",
       "</table>\n",
       "</div>"
      ],
      "text/plain": [
       "      gene.group        a  median.a  n.a    b  median.b  n.b         p.val         p.adj       mdm.type    sig                       lab\n",
       "1   MP.all.score  control  2.968907  485  IPF  3.184624  947  1.014139e-14  4.563625e-14  CD163/LGMN-Mφ   True  Present Study - revision\n",
       "4   MP.all.score  control  1.835698  673  IPF  1.963490  749  8.814187e-09  7.932768e-08      Monocytes   True  Present Study - revision\n",
       "7   MP.all.score  control  2.556707  566  IPF  2.702004  772  2.928856e-07  1.317985e-06        Mono/Mφ   True  Present Study - revision\n",
       "9   MP.all.score  control  3.455612  355  IPF  3.542768  407  1.326227e-04  3.978681e-04          AMφ-1   True  Present Study - revision\n",
       "46  MP.all.score  control  3.381019   52  IPF  3.265269  116  5.585612e-01  7.181501e-01    low quality  False  Present Study - revision\n",
       "50  MP.all.score  control  3.447100   24  IPF  3.408911  119  8.142290e-01  8.691394e-01    Prolif. AMφ  False  Present Study - revision\n",
       "59  MP.all.score  control  3.542186  275  IPF  3.534698  159  8.178236e-01  9.200515e-01          AMφ-2  False  Present Study - revision"
      ]
     },
     "execution_count": 120,
     "metadata": {},
     "output_type": "execute_result"
    }
   ],
   "source": [
    "df[(df['gene.group'] == 'MP.all.score') & (df['a'] != 'COPD') &  (df['b'] != 'COPD') & (df['lab'] == 'Present Study - revision')].sort_values('p.adj') # [['mdm.type', 'a', 'b', 'median.a', 'median.b', 'p.adj']]"
   ]
  },
  {
   "cell_type": "code",
   "execution_count": 244,
   "metadata": {},
   "outputs": [
    {
     "data": {
      "text/html": [
       "<div>\n",
       "<style scoped>\n",
       "    .dataframe tbody tr th:only-of-type {\n",
       "        vertical-align: middle;\n",
       "    }\n",
       "\n",
       "    .dataframe tbody tr th {\n",
       "        vertical-align: top;\n",
       "    }\n",
       "\n",
       "    .dataframe thead th {\n",
       "        text-align: right;\n",
       "    }\n",
       "</style>\n",
       "<table border=\"1\" class=\"dataframe\">\n",
       "  <thead>\n",
       "    <tr style=\"text-align: right;\">\n",
       "      <th></th>\n",
       "      <th>gene.group</th>\n",
       "      <th>a</th>\n",
       "      <th>median.a</th>\n",
       "      <th>n.a</th>\n",
       "      <th>b</th>\n",
       "      <th>median.b</th>\n",
       "      <th>n.b</th>\n",
       "      <th>p.val</th>\n",
       "      <th>p.adj</th>\n",
       "      <th>mdm.type</th>\n",
       "      <th>sig</th>\n",
       "    </tr>\n",
       "  </thead>\n",
       "  <tbody>\n",
       "    <tr>\n",
       "      <th>6</th>\n",
       "      <td>MP.all.score</td>\n",
       "      <td>IPF</td>\n",
       "      <td>3.170093</td>\n",
       "      <td>620</td>\n",
       "      <td>control</td>\n",
       "      <td>3.017531</td>\n",
       "      <td>349</td>\n",
       "      <td>5.284812e-07</td>\n",
       "      <td>0.000005</td>\n",
       "      <td>3 SPP1/LGMN-Mp</td>\n",
       "      <td>True</td>\n",
       "    </tr>\n",
       "    <tr>\n",
       "      <th>6</th>\n",
       "      <td>MP.all.score</td>\n",
       "      <td>IPF</td>\n",
       "      <td>3.526020</td>\n",
       "      <td>467</td>\n",
       "      <td>control</td>\n",
       "      <td>3.451100</td>\n",
       "      <td>236</td>\n",
       "      <td>8.297501e-05</td>\n",
       "      <td>0.000269</td>\n",
       "      <td>4 SPP1/TREM2-Mp</td>\n",
       "      <td>True</td>\n",
       "    </tr>\n",
       "    <tr>\n",
       "      <th>6</th>\n",
       "      <td>MP.all.score</td>\n",
       "      <td>IPF</td>\n",
       "      <td>1.786162</td>\n",
       "      <td>274</td>\n",
       "      <td>control</td>\n",
       "      <td>1.675028</td>\n",
       "      <td>409</td>\n",
       "      <td>1.991384e-03</td>\n",
       "      <td>0.017922</td>\n",
       "      <td>1 FCN1-Mono</td>\n",
       "      <td>True</td>\n",
       "    </tr>\n",
       "    <tr>\n",
       "      <th>6</th>\n",
       "      <td>MP.all.score</td>\n",
       "      <td>IPF</td>\n",
       "      <td>2.560865</td>\n",
       "      <td>1428</td>\n",
       "      <td>control</td>\n",
       "      <td>2.504707</td>\n",
       "      <td>966</td>\n",
       "      <td>1.573346e-01</td>\n",
       "      <td>0.157335</td>\n",
       "      <td>2 Mono/Mp</td>\n",
       "      <td>False</td>\n",
       "    </tr>\n",
       "    <tr>\n",
       "      <th>6</th>\n",
       "      <td>MP.all.score</td>\n",
       "      <td>IPF</td>\n",
       "      <td>3.291417</td>\n",
       "      <td>46</td>\n",
       "      <td>control</td>\n",
       "      <td>2.921344</td>\n",
       "      <td>35</td>\n",
       "      <td>2.009147e-01</td>\n",
       "      <td>0.226029</td>\n",
       "      <td>Low quality</td>\n",
       "      <td>False</td>\n",
       "    </tr>\n",
       "    <tr>\n",
       "      <th>6</th>\n",
       "      <td>MP.all.score</td>\n",
       "      <td>IPF</td>\n",
       "      <td>3.223920</td>\n",
       "      <td>118</td>\n",
       "      <td>control</td>\n",
       "      <td>3.194098</td>\n",
       "      <td>50</td>\n",
       "      <td>1.679005e-01</td>\n",
       "      <td>0.251851</td>\n",
       "      <td>Others (COVID)</td>\n",
       "      <td>False</td>\n",
       "    </tr>\n",
       "  </tbody>\n",
       "</table>\n",
       "</div>"
      ],
      "text/plain": [
       "     gene.group    a  median.a   n.a        b  median.b  n.b         p.val     p.adj         mdm.type    sig\n",
       "6  MP.all.score  IPF  3.170093   620  control  3.017531  349  5.284812e-07  0.000005   3 SPP1/LGMN-Mp   True\n",
       "6  MP.all.score  IPF  3.526020   467  control  3.451100  236  8.297501e-05  0.000269  4 SPP1/TREM2-Mp   True\n",
       "6  MP.all.score  IPF  1.786162   274  control  1.675028  409  1.991384e-03  0.017922      1 FCN1-Mono   True\n",
       "6  MP.all.score  IPF  2.560865  1428  control  2.504707  966  1.573346e-01  0.157335        2 Mono/Mp  False\n",
       "6  MP.all.score  IPF  3.291417    46  control  2.921344   35  2.009147e-01  0.226029      Low quality  False\n",
       "6  MP.all.score  IPF  3.223920   118  control  3.194098   50  1.679005e-01  0.251851   Others (COVID)  False"
      ]
     },
     "execution_count": 244,
     "metadata": {},
     "output_type": "execute_result"
    }
   ],
   "source": [
    "df[(df['gene.group'] == 'MP.all.score') & (df['p.adj'] < 0.5) & (df['a'] != 'COPD') &  (df['b'] != 'COPD')].sort_values('p.adj') # [['mdm.type', 'a', 'b', 'median.a', 'median.b', 'p.adj']]"
   ]
  },
  {
   "cell_type": "code",
   "execution_count": 112,
   "metadata": {},
   "outputs": [],
   "source": [
    "# final = anndata.concat(all_dotplot)"
   ]
  },
  {
   "cell_type": "code",
   "execution_count": 323,
   "metadata": {},
   "outputs": [
    {
     "ename": "KeyError",
     "evalue": "'selection'",
     "output_type": "error",
     "traceback": [
      "\u001b[0;31m---------------------------------------------------------------------------\u001b[0m",
      "\u001b[0;31mKeyError\u001b[0m                                  Traceback (most recent call last)",
      "\u001b[0;32m~/miniconda3/envs/mypython3/lib/python3.7/site-packages/pandas/core/indexes/base.py\u001b[0m in \u001b[0;36mget_loc\u001b[0;34m(self, key, method, tolerance)\u001b[0m\n\u001b[1;32m   2897\u001b[0m             \u001b[0;32mtry\u001b[0m\u001b[0;34m:\u001b[0m\u001b[0;34m\u001b[0m\u001b[0;34m\u001b[0m\u001b[0m\n\u001b[0;32m-> 2898\u001b[0;31m                 \u001b[0;32mreturn\u001b[0m \u001b[0mself\u001b[0m\u001b[0;34m.\u001b[0m\u001b[0m_engine\u001b[0m\u001b[0;34m.\u001b[0m\u001b[0mget_loc\u001b[0m\u001b[0;34m(\u001b[0m\u001b[0mcasted_key\u001b[0m\u001b[0;34m)\u001b[0m\u001b[0;34m\u001b[0m\u001b[0;34m\u001b[0m\u001b[0m\n\u001b[0m\u001b[1;32m   2899\u001b[0m             \u001b[0;32mexcept\u001b[0m \u001b[0mKeyError\u001b[0m \u001b[0;32mas\u001b[0m \u001b[0merr\u001b[0m\u001b[0;34m:\u001b[0m\u001b[0;34m\u001b[0m\u001b[0;34m\u001b[0m\u001b[0m\n",
      "\u001b[0;32mpandas/_libs/index.pyx\u001b[0m in \u001b[0;36mpandas._libs.index.IndexEngine.get_loc\u001b[0;34m()\u001b[0m\n",
      "\u001b[0;32mpandas/_libs/index.pyx\u001b[0m in \u001b[0;36mpandas._libs.index.IndexEngine.get_loc\u001b[0;34m()\u001b[0m\n",
      "\u001b[0;32mpandas/_libs/hashtable_class_helper.pxi\u001b[0m in \u001b[0;36mpandas._libs.hashtable.PyObjectHashTable.get_item\u001b[0;34m()\u001b[0m\n",
      "\u001b[0;32mpandas/_libs/hashtable_class_helper.pxi\u001b[0m in \u001b[0;36mpandas._libs.hashtable.PyObjectHashTable.get_item\u001b[0;34m()\u001b[0m\n",
      "\u001b[0;31mKeyError\u001b[0m: 'selection'",
      "\nThe above exception was the direct cause of the following exception:\n",
      "\u001b[0;31mKeyError\u001b[0m                                  Traceback (most recent call last)",
      "\u001b[0;32m<ipython-input-323-8c10d8b0b4b5>\u001b[0m in \u001b[0;36m<module>\u001b[0;34m\u001b[0m\n\u001b[0;32m----> 1\u001b[0;31m \u001b[0mcounts_df\u001b[0m \u001b[0;34m=\u001b[0m \u001b[0mpd\u001b[0m\u001b[0;34m.\u001b[0m\u001b[0mDataFrame\u001b[0m\u001b[0;34m(\u001b[0m\u001b[0mfinal\u001b[0m\u001b[0;34m.\u001b[0m\u001b[0mobs\u001b[0m\u001b[0;34m[\u001b[0m\u001b[0;34m'selection'\u001b[0m\u001b[0;34m]\u001b[0m\u001b[0;34m.\u001b[0m\u001b[0mvalue_counts\u001b[0m\u001b[0;34m(\u001b[0m\u001b[0;34m)\u001b[0m\u001b[0;34m)\u001b[0m\u001b[0;34m\u001b[0m\u001b[0;34m\u001b[0m\u001b[0m\n\u001b[0m\u001b[1;32m      2\u001b[0m \u001b[0mcounts_df\u001b[0m \u001b[0;34m=\u001b[0m \u001b[0mcounts_df\u001b[0m\u001b[0;34m.\u001b[0m\u001b[0mreset_index\u001b[0m\u001b[0;34m(\u001b[0m\u001b[0;34m)\u001b[0m\u001b[0;34m\u001b[0m\u001b[0;34m\u001b[0m\u001b[0m\n\u001b[1;32m      3\u001b[0m \u001b[0mcounts_df\u001b[0m\u001b[0;34m.\u001b[0m\u001b[0mcolumns\u001b[0m \u001b[0;34m=\u001b[0m \u001b[0;34m[\u001b[0m\u001b[0;34m'mdm.type'\u001b[0m\u001b[0;34m,\u001b[0m \u001b[0;34m'n'\u001b[0m\u001b[0;34m]\u001b[0m\u001b[0;34m\u001b[0m\u001b[0;34m\u001b[0m\u001b[0m\n\u001b[1;32m      4\u001b[0m \u001b[0mcounts_df\u001b[0m\u001b[0;34m[\u001b[0m\u001b[0;34m'closest.condition'\u001b[0m\u001b[0;34m]\u001b[0m \u001b[0;34m=\u001b[0m \u001b[0mcounts_df\u001b[0m\u001b[0;34m[\u001b[0m\u001b[0;34m'mdm.type'\u001b[0m\u001b[0;34m]\u001b[0m\u001b[0;34m.\u001b[0m\u001b[0mstr\u001b[0m\u001b[0;34m.\u001b[0m\u001b[0msplit\u001b[0m\u001b[0;34m(\u001b[0m\u001b[0;34m\":\"\u001b[0m\u001b[0;34m)\u001b[0m\u001b[0;34m.\u001b[0m\u001b[0mstr\u001b[0m\u001b[0;34m[\u001b[0m\u001b[0;36m1\u001b[0m\u001b[0;34m]\u001b[0m\u001b[0;34m\u001b[0m\u001b[0;34m\u001b[0m\u001b[0m\n\u001b[1;32m      5\u001b[0m \u001b[0mcounts_df\u001b[0m\u001b[0;34m[\u001b[0m\u001b[0;34m'mdm.type'\u001b[0m\u001b[0;34m]\u001b[0m \u001b[0;34m=\u001b[0m \u001b[0mcounts_df\u001b[0m\u001b[0;34m[\u001b[0m\u001b[0;34m'mdm.type'\u001b[0m\u001b[0;34m]\u001b[0m\u001b[0;34m.\u001b[0m\u001b[0mstr\u001b[0m\u001b[0;34m.\u001b[0m\u001b[0msplit\u001b[0m\u001b[0;34m(\u001b[0m\u001b[0;34m\":\"\u001b[0m\u001b[0;34m)\u001b[0m\u001b[0;34m.\u001b[0m\u001b[0mstr\u001b[0m\u001b[0;34m[\u001b[0m\u001b[0;36m0\u001b[0m\u001b[0;34m]\u001b[0m\u001b[0;34m\u001b[0m\u001b[0;34m\u001b[0m\u001b[0m\n",
      "\u001b[0;32m~/miniconda3/envs/mypython3/lib/python3.7/site-packages/pandas/core/frame.py\u001b[0m in \u001b[0;36m__getitem__\u001b[0;34m(self, key)\u001b[0m\n\u001b[1;32m   2904\u001b[0m             \u001b[0;32mif\u001b[0m \u001b[0mself\u001b[0m\u001b[0;34m.\u001b[0m\u001b[0mcolumns\u001b[0m\u001b[0;34m.\u001b[0m\u001b[0mnlevels\u001b[0m \u001b[0;34m>\u001b[0m \u001b[0;36m1\u001b[0m\u001b[0;34m:\u001b[0m\u001b[0;34m\u001b[0m\u001b[0;34m\u001b[0m\u001b[0m\n\u001b[1;32m   2905\u001b[0m                 \u001b[0;32mreturn\u001b[0m \u001b[0mself\u001b[0m\u001b[0;34m.\u001b[0m\u001b[0m_getitem_multilevel\u001b[0m\u001b[0;34m(\u001b[0m\u001b[0mkey\u001b[0m\u001b[0;34m)\u001b[0m\u001b[0;34m\u001b[0m\u001b[0;34m\u001b[0m\u001b[0m\n\u001b[0;32m-> 2906\u001b[0;31m             \u001b[0mindexer\u001b[0m \u001b[0;34m=\u001b[0m \u001b[0mself\u001b[0m\u001b[0;34m.\u001b[0m\u001b[0mcolumns\u001b[0m\u001b[0;34m.\u001b[0m\u001b[0mget_loc\u001b[0m\u001b[0;34m(\u001b[0m\u001b[0mkey\u001b[0m\u001b[0;34m)\u001b[0m\u001b[0;34m\u001b[0m\u001b[0;34m\u001b[0m\u001b[0m\n\u001b[0m\u001b[1;32m   2907\u001b[0m             \u001b[0;32mif\u001b[0m \u001b[0mis_integer\u001b[0m\u001b[0;34m(\u001b[0m\u001b[0mindexer\u001b[0m\u001b[0;34m)\u001b[0m\u001b[0;34m:\u001b[0m\u001b[0;34m\u001b[0m\u001b[0;34m\u001b[0m\u001b[0m\n\u001b[1;32m   2908\u001b[0m                 \u001b[0mindexer\u001b[0m \u001b[0;34m=\u001b[0m \u001b[0;34m[\u001b[0m\u001b[0mindexer\u001b[0m\u001b[0;34m]\u001b[0m\u001b[0;34m\u001b[0m\u001b[0;34m\u001b[0m\u001b[0m\n",
      "\u001b[0;32m~/miniconda3/envs/mypython3/lib/python3.7/site-packages/pandas/core/indexes/base.py\u001b[0m in \u001b[0;36mget_loc\u001b[0;34m(self, key, method, tolerance)\u001b[0m\n\u001b[1;32m   2898\u001b[0m                 \u001b[0;32mreturn\u001b[0m \u001b[0mself\u001b[0m\u001b[0;34m.\u001b[0m\u001b[0m_engine\u001b[0m\u001b[0;34m.\u001b[0m\u001b[0mget_loc\u001b[0m\u001b[0;34m(\u001b[0m\u001b[0mcasted_key\u001b[0m\u001b[0;34m)\u001b[0m\u001b[0;34m\u001b[0m\u001b[0;34m\u001b[0m\u001b[0m\n\u001b[1;32m   2899\u001b[0m             \u001b[0;32mexcept\u001b[0m \u001b[0mKeyError\u001b[0m \u001b[0;32mas\u001b[0m \u001b[0merr\u001b[0m\u001b[0;34m:\u001b[0m\u001b[0;34m\u001b[0m\u001b[0;34m\u001b[0m\u001b[0m\n\u001b[0;32m-> 2900\u001b[0;31m                 \u001b[0;32mraise\u001b[0m \u001b[0mKeyError\u001b[0m\u001b[0;34m(\u001b[0m\u001b[0mkey\u001b[0m\u001b[0;34m)\u001b[0m \u001b[0;32mfrom\u001b[0m \u001b[0merr\u001b[0m\u001b[0;34m\u001b[0m\u001b[0;34m\u001b[0m\u001b[0m\n\u001b[0m\u001b[1;32m   2901\u001b[0m \u001b[0;34m\u001b[0m\u001b[0m\n\u001b[1;32m   2902\u001b[0m         \u001b[0;32mif\u001b[0m \u001b[0mtolerance\u001b[0m \u001b[0;32mis\u001b[0m \u001b[0;32mnot\u001b[0m \u001b[0;32mNone\u001b[0m\u001b[0;34m:\u001b[0m\u001b[0;34m\u001b[0m\u001b[0;34m\u001b[0m\u001b[0m\n",
      "\u001b[0;31mKeyError\u001b[0m: 'selection'"
     ]
    }
   ],
   "source": [
    "counts_df = pd.DataFrame(final.obs['selection'].value_counts())\n",
    "counts_df = counts_df.reset_index()\n",
    "counts_df.columns = ['mdm.type', 'n']\n",
    "counts_df['closest.condition'] = counts_df['mdm.type'].str.split(\":\").str[1]\n",
    "counts_df['mdm.type'] = counts_df['mdm.type'].str.split(\":\").str[0]\n",
    "counts_df.sort_values('mdm.type')\n",
    "hm = counts_df.pivot('mdm.type', 'closest.condition', 'n').transpose().fillna(0).astype(int)\n",
    "counts_df.to_csv('data/counts_by_closest_condition.tsv', sep='\\t', index=None)\n",
    "sns.clustermap(hm, cmap='Reds', annot=hm, fmt='')\n",
    "plt.subplots_adjust(bottom=.7)\n",
    "\n",
    "# plt.savefig('data/figures/heatmap_counts_per_condition.pdf')\n",
    "# plt.close()\n"
   ]
  },
  {
   "cell_type": "code",
   "execution_count": 25,
   "metadata": {},
   "outputs": [
    {
     "name": "stderr",
     "output_type": "stream",
     "text": [
      "/home/icb/ignacio.ibarra/miniconda3/envs/mypython3/lib/python3.7/site-packages/anndata/_core/anndata.py:1192: FutureWarning: is_categorical is deprecated and will be removed in a future version.  Use is_categorical_dtype instead\n",
      "  if is_string_dtype(df[key]) and not is_categorical(df[key])\n",
      "... storing 'patient.id' as categorical\n",
      "... storing 'cell.type' as categorical\n",
      "... storing 'disease.status' as categorical\n",
      "... storing 'number' as categorical\n",
      "... storing 'dataset' as categorical\n",
      "... storing 'Phase' as categorical\n",
      "... storing 'Label' as categorical\n",
      "... storing 'seurat_clusters' as categorical\n",
      "... storing 'RNA_mnn_40_Leiden_res.0.1' as categorical\n",
      "... storing 'RNA_mnn_40_Leiden_res.0.3' as categorical\n",
      "... storing 'RNA_mnn_40_Leiden_res.0.5' as categorical\n",
      "... storing 'RNA_mnn_40_Leiden_res.0.6' as categorical\n",
      "... storing 'RNA_mnn_40_Leiden_res.0.7' as categorical\n",
      "... storing 'RNA_mnn_40_Leiden_res.0.8' as categorical\n",
      "... storing 'RNA_mnn_40_Leiden_res.0.9' as categorical\n",
      "... storing 'RNA_mnn_40_Leiden_res.1' as categorical\n",
      "... storing 'RNA_mnn_40_Leiden_res.1.5' as categorical\n",
      "... storing 'RNA_mnn_40_Leiden_res.2' as categorical\n",
      "... storing 'RNA_mnn_40_Leiden_res.3' as categorical\n",
      "... storing 'RNA_mnn_40_Leiden_res.5' as categorical\n",
      "... storing 'Celltype' as categorical\n",
      "... storing 'patient' as categorical\n",
      "... storing 'dpso' as categorical\n",
      "... storing 'age' as categorical\n",
      "... storing 'sex' as categorical\n",
      "... storing 'Timepoint' as categorical\n",
      "... storing 'ident' as categorical\n",
      "... storing 'mdm.type' as categorical\n",
      "... storing 'selection' as categorical\n",
      "... storing 'closest.disease.status' as categorical\n"
     ]
    }
   ],
   "source": [
    "final.write('data/bal_cells_uniquely_mapped.h5ad', compression='lzf')"
   ]
  },
  {
   "cell_type": "code",
   "execution_count": 55,
   "metadata": {},
   "outputs": [
    {
     "ename": "TypeError",
     "evalue": "read_h5ad() got an unexpected keyword argument 'compression'",
     "output_type": "error",
     "traceback": [
      "\u001b[0;31m---------------------------------------------------------------------------\u001b[0m",
      "\u001b[0;31mTypeError\u001b[0m                                 Traceback (most recent call last)",
      "\u001b[0;32m<ipython-input-55-200d1de7ec8f>\u001b[0m in \u001b[0;36m<module>\u001b[0;34m\u001b[0m\n\u001b[0;32m----> 1\u001b[0;31m \u001b[0mfinal\u001b[0m \u001b[0;34m=\u001b[0m \u001b[0manndata\u001b[0m\u001b[0;34m.\u001b[0m\u001b[0mread\u001b[0m\u001b[0;34m(\u001b[0m\u001b[0;34m'data/bal_cells_uniquely_mapped.h5ad'\u001b[0m\u001b[0;34m,\u001b[0m \u001b[0mcompression\u001b[0m\u001b[0;34m=\u001b[0m\u001b[0;34m'lzf'\u001b[0m\u001b[0;34m)\u001b[0m\u001b[0;34m\u001b[0m\u001b[0;34m\u001b[0m\u001b[0m\n\u001b[0m",
      "\u001b[0;31mTypeError\u001b[0m: read_h5ad() got an unexpected keyword argument 'compression'"
     ]
    }
   ],
   "source": [
    "final = anndata.read('data/bal_cells_uniquely_mapped.h5ad', compression='lzf')"
   ]
  },
  {
   "cell_type": "code",
   "execution_count": 56,
   "metadata": {},
   "outputs": [
    {
     "data": {
      "text/plain": [
       "(6972, 18331)"
      ]
     },
     "execution_count": 56,
     "metadata": {},
     "output_type": "execute_result"
    }
   ],
   "source": [
    "final.shape"
   ]
  },
  {
   "cell_type": "code",
   "execution_count": 57,
   "metadata": {},
   "outputs": [
    {
     "data": {
      "text/plain": [
       "IPF        4018\n",
       "control    2631\n",
       "COPD        323\n",
       "Name: closest.disease.status, dtype: int64"
      ]
     },
     "execution_count": 57,
     "metadata": {},
     "output_type": "execute_result"
    }
   ],
   "source": [
    "final.obs['closest.disease.status'].value_counts()"
   ]
  },
  {
   "cell_type": "code",
   "execution_count": 245,
   "metadata": {},
   "outputs": [
    {
     "data": {
      "text/plain": [
       "control    3146\n",
       "IPF        2633\n",
       "COPD       1025\n",
       "Name: closest.disease.status, dtype: int64"
      ]
     },
     "execution_count": 245,
     "metadata": {},
     "output_type": "execute_result"
    }
   ],
   "source": []
  },
  {
   "cell_type": "code",
   "execution_count": 324,
   "metadata": {},
   "outputs": [],
   "source": [
    "# sorted(final_undefined_removed.obs.columns)"
   ]
  },
  {
   "cell_type": "code",
   "execution_count": 330,
   "metadata": {},
   "outputs": [
    {
     "name": "stdout",
     "output_type": "stream",
     "text": [
      "2 Mono/Mp          2791\n",
      "3 SPP1/LGMN-Mp     1130\n",
      "5 INHBA-AMp         915\n",
      "4 SPP1/TREM2-Mp     818\n",
      "1 FCN1-Mono         777\n",
      "Others (COVID)      352\n",
      "6 Prolif. AMp       174\n",
      "Name: mdm.type, dtype: int64\n"
     ]
    }
   ],
   "source": [
    "rcParams['figure.figsize'] = [4, 2.5]\n",
    "\n",
    "final_undefined_removed = final[final.obs['mdm.type'] != 'Low quality',:]\n",
    "\n",
    "print(final_undefined_removed.obs['mdm.type'].value_counts())\n",
    "sns.violinplot(data=final_undefined_removed.obs, x='mdm.type', y='MP.markers.score', hue='closest.disease.status', hue_order=['IPF', 'control'],\n",
    "           order=final_undefined_removed.obs.groupby('mdm.type')['MP.markers.score'].median().sort_values().index, linewidth=0.7, width=1.0)\n",
    "plt.subplots_adjust()\n",
    "plt.xticks(rotation=90, ha='center')\n",
    "plt.savefig('data/figures/closest_disease_status_gene_scores_mdm.pdf')\n",
    "plt.close()"
   ]
  },
  {
   "cell_type": "code",
   "execution_count": null,
   "metadata": {},
   "outputs": [],
   "source": [
    "final_undefined_removed.obs['closest.disease.status'].value_counts()"
   ]
  },
  {
   "cell_type": "code",
   "execution_count": null,
   "metadata": {},
   "outputs": [],
   "source": [
    "print('here...')"
   ]
  },
  {
   "cell_type": "code",
   "execution_count": 213,
   "metadata": {},
   "outputs": [
    {
     "data": {
      "text/plain": [
       "MDM 1        285\n",
       "MDM 2        262\n",
       "MDM 3A       185\n",
       "MDM 3B       146\n",
       "AM 1          27\n",
       "AM 2          24\n",
       "Undefined      1\n",
       "Name: mdm.type, dtype: int64"
      ]
     },
     "execution_count": 213,
     "metadata": {},
     "output_type": "execute_result"
    }
   ],
   "source": [
    "scanpy.pl.stacked_violin(adata, var_names, groupby, "
   ]
  },
  {
   "cell_type": "markdown",
   "metadata": {},
   "source": [
    "# DE genes"
   ]
  },
  {
   "cell_type": "code",
   "execution_count": 25,
   "metadata": {},
   "outputs": [],
   "source": [
    "#Set number of threads\n",
    "TF_CONFIG_PROTO.inter_op_parallelism_threads = 1\n",
    "TF_CONFIG_PROTO.intra_op_parallelism_threads = 12"
   ]
  },
  {
   "cell_type": "code",
   "execution_count": 26,
   "metadata": {},
   "outputs": [
    {
     "data": {
      "text/plain": [
       "Index(['FAM87B', 'FAM41C', 'SAMD11', 'NOC2L', 'KLHL17', 'PLEKHN1', 'PERM1', 'HES4', 'ISG15', 'AGRN',\n",
       "       ...\n",
       "       'MT-ND2', 'MT-CO1', 'MT-CO2', 'MT-ATP8', 'MT-ATP6', 'MT-ND3', 'MT-ND4L', 'MT-ND5', 'MT-ND6', 'MT-CYB'], dtype='object', length=18331)"
      ]
     },
     "execution_count": 26,
     "metadata": {},
     "output_type": "execute_result"
    }
   ],
   "source": [
    "final.var_names"
   ]
  },
  {
   "cell_type": "code",
   "execution_count": 29,
   "metadata": {},
   "outputs": [],
   "source": [
    "from utils import *\n",
    "marker_genes = get_marker_genes_ipf()"
   ]
  },
  {
   "cell_type": "code",
   "execution_count": 30,
   "metadata": {},
   "outputs": [
    {
     "name": "stderr",
     "output_type": "stream",
     "text": [
      "/home/icb/ignacio.ibarra/miniconda3/envs/mypython3/lib/python3.7/site-packages/anndata/_core/anndata.py:1094: FutureWarning: is_categorical is deprecated and will be removed in a future version.  Use is_categorical_dtype instead\n",
      "  if not is_categorical(df_full[k]):\n"
     ]
    },
    {
     "data": {
      "text/plain": [
       "View of AnnData object with n_obs × n_vars = 874 × 29\n",
       "    obs: 'GSM', 'sample.id', 'n_counts', 'log_counts', 'n_genes', 'mt_frac', 'patient.id', 'cell.type', 'study', 'disease.status', 'MP.markers.score', 'MP.others.score', 'MP.all.score', 'nUMI', 'nGene', 'CellType_Category', 'Manuscript_Identity', 'Subclass_Cell_Identity', 'Disease_Identity', 'Subject_Identity', 'Library_Identity', 'groups', 'batch', 'orig.ident', 'nCount_RNA', 'nFeature_RNA', 'viral_counts', 'viral_ratio', 'viral_norm', 'percent.mt', 'number', 'dataset', 'S.Score', 'G2M.Score', 'Phase', 'CC.Difference', 'SR.score1', 'dissoc.score1', 'Label', 'nCount_VIRAL', 'nFeature_VIRAL', 'seurat_clusters', 'RNA_mnn_40_Leiden_res.0.1', 'RNA_mnn_40_Leiden_res.0.2', 'RNA_mnn_40_Leiden_res.0.3', 'RNA_mnn_40_Leiden_res.0.4', 'RNA_mnn_40_Leiden_res.0.5', 'RNA_mnn_40_Leiden_res.0.6', 'RNA_mnn_40_Leiden_res.0.7', 'RNA_mnn_40_Leiden_res.0.8', 'RNA_mnn_40_Leiden_res.0.9', 'RNA_mnn_40_Leiden_res.1', 'RNA_mnn_40_Leiden_res.1.5', 'RNA_mnn_40_Leiden_res.2', 'RNA_mnn_40_Leiden_res.3', 'RNA_mnn_40_Leiden_res.5', 'Celltype', 'patient', 'dpso', 'age', 'sex', 'Celltype_2', 'Timepoint', 'ident', 'selection'\n",
       "    var: 'symbol', 'highly_variable', 'hvg.or.marker', 'ensembl-0-0', 'highly_variable-0-0', 'means-0-0', 'ensembl-1-0', 'highly_variable-1-0', 'means-1-0', 'dispersions-0-0-0-0', 'dispersions_norm-0-0-0-0', 'dispersions-1-0-0-0', 'dispersions_norm-1-0-0-0', 'dispersions-1-0-0', 'dispersions_norm-1-0-0', 'dispersions-0-0-1-0', 'dispersions_norm-0-0-1-0', 'dispersions-1-0-1-0', 'dispersions_norm-1-0-1-0', 'dispersions-1-1-0', 'dispersions_norm-1-1-0', 'vst.mean-1', 'vst.variance-1', 'vst.variance.expected-1', 'vst.variance.standardized-1', 'vst.variable-1', 'ensembl-1', 'highly_variable-1', 'means-1', 'dispersions-1-0-1', 'dispersions_norm-1-0-1', 'dispersions-0-0-1', 'dispersions_norm-0-0-1', 'dispersions-1-1', 'dispersions_norm-1-1'\n",
       "    obsm: 'X_emb', 'X_umap'\n",
       "    layers: 'counts'"
      ]
     },
     "execution_count": 30,
     "metadata": {},
     "output_type": "execute_result"
    }
   ],
   "source": [
    "sel = final[:,final.var.index.isin(marker_genes['MP.all'])]\n",
    "sel"
   ]
  },
  {
   "cell_type": "code",
   "execution_count": 31,
   "metadata": {},
   "outputs": [
    {
     "name": "stdout",
     "output_type": "stream",
     "text": [
      "here...\n"
     ]
    }
   ],
   "source": [
    "print('here...')"
   ]
  },
  {
   "cell_type": "code",
   "execution_count": 48,
   "metadata": {},
   "outputs": [
    {
     "name": "stdout",
     "output_type": "stream",
     "text": [
      "WARNING: Default of the method has been changed to 't-test' from 't-test_overestim_var'\n"
     ]
    },
    {
     "name": "stderr",
     "output_type": "stream",
     "text": [
      "/home/icb/ignacio.ibarra/miniconda3/envs/mypython3/lib/python3.7/site-packages/anndata/_core/anndata.py:1192: FutureWarning: is_categorical is deprecated and will be removed in a future version.  Use is_categorical_dtype instead\n",
      "  if is_string_dtype(df[key]) and not is_categorical(df[key])\n",
      "/home/icb/ignacio.ibarra/miniconda3/envs/mypython3/lib/python3.7/site-packages/scanpy/tools/_rank_genes_groups.py:405: RuntimeWarning: overflow encountered in expm1\n",
      "  self.expm1_func(mean_rest) + 1e-9\n",
      "/home/icb/ignacio.ibarra/miniconda3/envs/mypython3/lib/python3.7/site-packages/scanpy/tools/_rank_genes_groups.py:408: RuntimeWarning: divide by zero encountered in log2\n",
      "  foldchanges[global_indices]\n",
      "/home/icb/ignacio.ibarra/miniconda3/envs/mypython3/lib/python3.7/site-packages/scanpy/tools/_rank_genes_groups.py:404: RuntimeWarning: overflow encountered in expm1\n",
      "  foldchanges = (self.expm1_func(mean_group) + 1e-9) / (\n"
     ]
    }
   ],
   "source": [
    "sc.tl.rank_genes_groups(final, groupby='selection')"
   ]
  },
  {
   "cell_type": "code",
   "execution_count": 53,
   "metadata": {},
   "outputs": [
    {
     "name": "stderr",
     "output_type": "stream",
     "text": [
      "/home/icb/ignacio.ibarra/miniconda3/envs/mypython3/lib/python3.7/site-packages/anndata/_core/anndata.py:1192: FutureWarning: is_categorical is deprecated and will be removed in a future version.  Use is_categorical_dtype instead\n",
      "  if is_string_dtype(df[key]) and not is_categorical(df[key])\n"
     ]
    },
    {
     "name": "stdout",
     "output_type": "stream",
     "text": [
      "WARNING: dendrogram data not found (using key=dendrogram_['selection']). Running `sc.tl.dendrogram` with default parameters. For fine tuning it is recommended to run `sc.tl.dendrogram` independently.\n",
      "WARNING: You’re trying to run this on 18331 dimensions of `.X`, if you really want this, set `use_rep='X'`.\n",
      "         Falling back to preprocessing with `sc.pp.pca` and default params.\n"
     ]
    },
    {
     "data": {
      "image/png": "[encoded data removed]",
      "text/plain": [
       "<Figure size 964.8x180 with 6 Axes>"
      ]
     },
     "metadata": {
      "needs_background": "light"
     },
     "output_type": "display_data"
    }
   ],
   "source": [
    "sc.pl.rank_genes_groups_dotplot(final, groupby='selection')"
   ]
  },
  {
   "cell_type": "code",
   "execution_count": 58,
   "metadata": {},
   "outputs": [
    {
     "ename": "KeyError",
     "evalue": "'groupby'",
     "output_type": "error",
     "traceback": [
      "\u001b[0;31m---------------------------------------------------------------------------\u001b[0m",
      "\u001b[0;31mKeyError\u001b[0m                                  Traceback (most recent call last)",
      "\u001b[0;32m<ipython-input-58-887413bc5762>\u001b[0m in \u001b[0;36m<module>\u001b[0;34m\u001b[0m\n\u001b[0;32m----> 1\u001b[0;31m \u001b[0mfinal\u001b[0m\u001b[0;34m.\u001b[0m\u001b[0muns\u001b[0m\u001b[0;34m[\u001b[0m\u001b[0;34m'groupby'\u001b[0m\u001b[0;34m]\u001b[0m\u001b[0;34m\u001b[0m\u001b[0;34m\u001b[0m\u001b[0m\n\u001b[0m",
      "\u001b[0;32m~/miniconda3/envs/mypython3/lib/python3.7/site-packages/anndata/compat/_overloaded_dict.py\u001b[0m in \u001b[0;36m__getitem__\u001b[0;34m(self, key)\u001b[0m\n\u001b[1;32m     98\u001b[0m             \u001b[0;32mreturn\u001b[0m \u001b[0mself\u001b[0m\u001b[0;34m.\u001b[0m\u001b[0moverloaded\u001b[0m\u001b[0;34m[\u001b[0m\u001b[0mkey\u001b[0m\u001b[0;34m]\u001b[0m\u001b[0;34m.\u001b[0m\u001b[0mget\u001b[0m\u001b[0;34m(\u001b[0m\u001b[0;34m)\u001b[0m\u001b[0;34m\u001b[0m\u001b[0;34m\u001b[0m\u001b[0m\n\u001b[1;32m     99\u001b[0m         \u001b[0;32melse\u001b[0m\u001b[0;34m:\u001b[0m\u001b[0;34m\u001b[0m\u001b[0;34m\u001b[0m\u001b[0m\n\u001b[0;32m--> 100\u001b[0;31m             \u001b[0;32mreturn\u001b[0m \u001b[0mself\u001b[0m\u001b[0;34m.\u001b[0m\u001b[0mdata\u001b[0m\u001b[0;34m[\u001b[0m\u001b[0mkey\u001b[0m\u001b[0;34m]\u001b[0m\u001b[0;34m\u001b[0m\u001b[0;34m\u001b[0m\u001b[0m\n\u001b[0m\u001b[1;32m    101\u001b[0m \u001b[0;34m\u001b[0m\u001b[0m\n\u001b[1;32m    102\u001b[0m     \u001b[0;32mdef\u001b[0m \u001b[0m__setitem__\u001b[0m\u001b[0;34m(\u001b[0m\u001b[0mself\u001b[0m\u001b[0;34m,\u001b[0m \u001b[0mkey\u001b[0m\u001b[0;34m,\u001b[0m \u001b[0mvalue\u001b[0m\u001b[0;34m)\u001b[0m\u001b[0;34m:\u001b[0m\u001b[0;34m\u001b[0m\u001b[0;34m\u001b[0m\u001b[0m\n",
      "\u001b[0;31mKeyError\u001b[0m: 'groupby'"
     ]
    }
   ],
   "source": [
    "final.uns['groupby']"
   ]
  },
  {
   "cell_type": "code",
   "execution_count": 89,
   "metadata": {},
   "outputs": [
    {
     "data": {
      "text/html": [
       "<div>\n",
       "<style scoped>\n",
       "    .dataframe tbody tr th:only-of-type {\n",
       "        vertical-align: middle;\n",
       "    }\n",
       "\n",
       "    .dataframe tbody tr th {\n",
       "        vertical-align: top;\n",
       "    }\n",
       "\n",
       "    .dataframe thead th {\n",
       "        text-align: right;\n",
       "    }\n",
       "</style>\n",
       "<table border=\"1\" class=\"dataframe\">\n",
       "  <thead>\n",
       "    <tr style=\"text-align: right;\">\n",
       "      <th></th>\n",
       "      <th>selection</th>\n",
       "    </tr>\n",
       "  </thead>\n",
       "  <tbody>\n",
       "    <tr>\n",
       "      <th>Mo-Mac:IPF</th>\n",
       "      <td>518</td>\n",
       "    </tr>\n",
       "    <tr>\n",
       "      <th>Mo-Mac:control</th>\n",
       "      <td>333</td>\n",
       "    </tr>\n",
       "    <tr>\n",
       "      <th>Mo-Mac:COPD</th>\n",
       "      <td>23</td>\n",
       "    </tr>\n",
       "  </tbody>\n",
       "</table>\n",
       "</div>"
      ],
      "text/plain": [
       "                selection\n",
       "Mo-Mac:IPF            518\n",
       "Mo-Mac:control        333\n",
       "Mo-Mac:COPD            23"
      ]
     },
     "execution_count": 89,
     "metadata": {},
     "output_type": "execute_result"
    }
   ],
   "source": [
    "pd.DataFrame(final.obs['selection'].value_counts())"
   ]
  },
  {
   "cell_type": "code",
   "execution_count": 95,
   "metadata": {},
   "outputs": [
    {
     "name": "stderr",
     "output_type": "stream",
     "text": [
      "/home/icb/ignacio.ibarra/miniconda3/envs/mypython3/lib/python3.7/site-packages/anndata/_core/anndata.py:1094: FutureWarning: is_categorical is deprecated and will be removed in a future version.  Use is_categorical_dtype instead\n",
      "  if not is_categorical(df_full[k]):\n"
     ]
    },
    {
     "data": {
      "text/html": [
       "<div>\n",
       "<style scoped>\n",
       "    .dataframe tbody tr th:only-of-type {\n",
       "        vertical-align: middle;\n",
       "    }\n",
       "\n",
       "    .dataframe tbody tr th {\n",
       "        vertical-align: top;\n",
       "    }\n",
       "\n",
       "    .dataframe thead th {\n",
       "        text-align: right;\n",
       "    }\n",
       "</style>\n",
       "<table border=\"1\" class=\"dataframe\">\n",
       "  <thead>\n",
       "    <tr style=\"text-align: right;\">\n",
       "      <th></th>\n",
       "      <th>selection</th>\n",
       "    </tr>\n",
       "  </thead>\n",
       "  <tbody>\n",
       "    <tr>\n",
       "      <th>Mo-Mac:IPF</th>\n",
       "      <td>518</td>\n",
       "    </tr>\n",
       "    <tr>\n",
       "      <th>Mo-Mac:control</th>\n",
       "      <td>333</td>\n",
       "    </tr>\n",
       "  </tbody>\n",
       "</table>\n",
       "</div>"
      ],
      "text/plain": [
       "                selection\n",
       "Mo-Mac:IPF            518\n",
       "Mo-Mac:control        333"
      ]
     },
     "execution_count": 95,
     "metadata": {},
     "output_type": "execute_result"
    }
   ],
   "source": [
    "final_test = final[final.obs['selection'] != 'Mo-Mac:COPD',:]\n",
    "pd.DataFrame(final_test.obs['selection'].value_counts())"
   ]
  },
  {
   "cell_type": "code",
   "execution_count": 96,
   "metadata": {},
   "outputs": [
    {
     "name": "stdout",
     "output_type": "stream",
     "text": [
      "training location model: False\n",
      "training scale model: True\n",
      "iter   0: ll=13696128.148945\n",
      "iter   1: ll=13696128.148945, converged: 0.00% (loc: 100.00%, scale update: False), in 0.00sec\n",
      "iter   2: ll=9636768.586743, converged: 22.28% (loc: 22.28%, scale update: True), in 195.85sec\n",
      "iter   3: ll=9636768.586743, converged: 22.28% (loc: 100.00%, scale update: False), in 0.00sec\n",
      "iter   4: ll=9579692.255556, converged: 91.60% (loc: 91.60%, scale update: True), in 144.75sec\n",
      "iter   5: ll=9579692.255556, converged: 91.60% (loc: 100.00%, scale update: False), in 0.00sec\n",
      "iter   6: ll=9574589.953459, converged: 97.13% (loc: 97.13%, scale update: True), in 29.69sec\n",
      "iter   7: ll=9574589.953459, converged: 97.13% (loc: 100.00%, scale update: False), in 0.00sec\n",
      "iter   8: ll=9573291.989708, converged: 99.13% (loc: 99.13%, scale update: True), in 17.52sec\n",
      "iter   9: ll=9573291.989708, converged: 99.13% (loc: 100.00%, scale update: False), in 0.00sec\n",
      "iter  10: ll=9573025.302907, converged: 99.73% (loc: 99.73%, scale update: True), in 14.38sec\n",
      "iter  11: ll=9573025.302907, converged: 99.73% (loc: 100.00%, scale update: False), in 0.00sec\n",
      "iter  12: ll=9573017.640749, converged: 99.92% (loc: 99.92%, scale update: True), in 12.04sec\n",
      "iter  13: ll=9573017.640749, converged: 99.92% (loc: 100.00%, scale update: False), in 0.00sec\n",
      "iter  14: ll=9573017.640749, converged: 100.00% (loc: 100.00%, scale update: True), in 9.99sec\n"
     ]
    },
    {
     "name": "stderr",
     "output_type": "stream",
     "text": [
      "/home/icb/ignacio.ibarra/miniconda3/envs/mypython3/lib/python3.7/site-packages/dask/array/core.py:2720: RuntimeWarning: divide by zero encountered in true_divide\n",
      "  size = (limit / dtype.itemsize / largest_block) ** (1 / len(autos))\n"
     ]
    }
   ],
   "source": [
    "\n",
    "test = de.test.wald(\n",
    "    data=final_test.layers['counts'],\n",
    "    formula_loc=\"~ 1 + selection\",\n",
    "    factor_loc_totest=\"selection\",\n",
    "    gene_names=final_test.var_names,\n",
    "    sample_description=final_test.obs)"
   ]
  },
  {
   "cell_type": "code",
   "execution_count": 70,
   "metadata": {},
   "outputs": [],
   "source": [
    "#view first 10 results\n",
    "df = test.summary() # .iloc[:10,:]\n",
    "df['padj'] = RFacade.get_bh_pvalues(df['pval'])\n",
    "df[df['padj'] < 1e-5].shape\n",
    "df[df['is.reference.marker']].sort_values('padj')"
   ]
  },
  {
   "cell_type": "code",
   "execution_count": 77,
   "metadata": {},
   "outputs": [],
   "source": [
    "df['padj'] = RFacade.get_bh_pvalues(df['pval'])"
   ]
  },
  {
   "cell_type": "code",
   "execution_count": 93,
   "metadata": {},
   "outputs": [
    {
     "data": {
      "text/plain": [
       "(4028, 11)"
      ]
     },
     "execution_count": 93,
     "metadata": {},
     "output_type": "execute_result"
    }
   ],
   "source": []
  },
  {
   "cell_type": "code",
   "execution_count": 91,
   "metadata": {},
   "outputs": [
    {
     "data": {
      "text/html": [
       "<div>\n",
       "<style scoped>\n",
       "    .dataframe tbody tr th:only-of-type {\n",
       "        vertical-align: middle;\n",
       "    }\n",
       "\n",
       "    .dataframe tbody tr th {\n",
       "        vertical-align: top;\n",
       "    }\n",
       "\n",
       "    .dataframe thead th {\n",
       "        text-align: right;\n",
       "    }\n",
       "</style>\n",
       "<table border=\"1\" class=\"dataframe\">\n",
       "  <thead>\n",
       "    <tr style=\"text-align: right;\">\n",
       "      <th></th>\n",
       "      <th>gene</th>\n",
       "      <th>pval</th>\n",
       "      <th>qval</th>\n",
       "      <th>log2fc</th>\n",
       "      <th>mean</th>\n",
       "      <th>zero_mean</th>\n",
       "      <th>grad</th>\n",
       "      <th>ll</th>\n",
       "      <th>padj</th>\n",
       "      <th>is.marker</th>\n",
       "      <th>is.reference.marker</th>\n",
       "    </tr>\n",
       "  </thead>\n",
       "  <tbody>\n",
       "    <tr>\n",
       "      <th>9960</th>\n",
       "      <td>FTH1</td>\n",
       "      <td>0.000000e+00</td>\n",
       "      <td>0.000000e+00</td>\n",
       "      <td>0.816507</td>\n",
       "      <td>421.624714</td>\n",
       "      <td>False</td>\n",
       "      <td>3.577428e-08</td>\n",
       "      <td>-6083.411155</td>\n",
       "      <td>0.000000e+00</td>\n",
       "      <td>True</td>\n",
       "      <td>True</td>\n",
       "    </tr>\n",
       "    <tr>\n",
       "      <th>17247</th>\n",
       "      <td>APOC1</td>\n",
       "      <td>0.000000e+00</td>\n",
       "      <td>0.000000e+00</td>\n",
       "      <td>1.941283</td>\n",
       "      <td>65.834096</td>\n",
       "      <td>False</td>\n",
       "      <td>7.539805e-08</td>\n",
       "      <td>-2703.765234</td>\n",
       "      <td>0.000000e+00</td>\n",
       "      <td>True</td>\n",
       "      <td>True</td>\n",
       "    </tr>\n",
       "    <tr>\n",
       "      <th>17246</th>\n",
       "      <td>APOE</td>\n",
       "      <td>0.000000e+00</td>\n",
       "      <td>0.000000e+00</td>\n",
       "      <td>-2.049537</td>\n",
       "      <td>42.700229</td>\n",
       "      <td>False</td>\n",
       "      <td>4.111489e-08</td>\n",
       "      <td>-2023.394929</td>\n",
       "      <td>0.000000e+00</td>\n",
       "      <td>True</td>\n",
       "      <td>True</td>\n",
       "    </tr>\n",
       "    <tr>\n",
       "      <th>17030</th>\n",
       "      <td>TYROBP</td>\n",
       "      <td>0.000000e+00</td>\n",
       "      <td>0.000000e+00</td>\n",
       "      <td>0.621444</td>\n",
       "      <td>47.553776</td>\n",
       "      <td>False</td>\n",
       "      <td>4.342558e-08</td>\n",
       "      <td>-4084.490513</td>\n",
       "      <td>0.000000e+00</td>\n",
       "      <td>True</td>\n",
       "      <td>True</td>\n",
       "    </tr>\n",
       "    <tr>\n",
       "      <th>16715</th>\n",
       "      <td>ACP5</td>\n",
       "      <td>0.000000e+00</td>\n",
       "      <td>0.000000e+00</td>\n",
       "      <td>1.903758</td>\n",
       "      <td>13.131579</td>\n",
       "      <td>False</td>\n",
       "      <td>2.136176e-09</td>\n",
       "      <td>-2657.783327</td>\n",
       "      <td>0.000000e+00</td>\n",
       "      <td>True</td>\n",
       "      <td>True</td>\n",
       "    </tr>\n",
       "    <tr>\n",
       "      <th>12888</th>\n",
       "      <td>LGALS3</td>\n",
       "      <td>0.000000e+00</td>\n",
       "      <td>0.000000e+00</td>\n",
       "      <td>1.398802</td>\n",
       "      <td>38.653318</td>\n",
       "      <td>False</td>\n",
       "      <td>1.433528e-08</td>\n",
       "      <td>-3937.740570</td>\n",
       "      <td>0.000000e+00</td>\n",
       "      <td>True</td>\n",
       "      <td>True</td>\n",
       "    </tr>\n",
       "    <tr>\n",
       "      <th>11717</th>\n",
       "      <td>CD63</td>\n",
       "      <td>0.000000e+00</td>\n",
       "      <td>0.000000e+00</td>\n",
       "      <td>0.908986</td>\n",
       "      <td>46.337529</td>\n",
       "      <td>False</td>\n",
       "      <td>4.085660e-08</td>\n",
       "      <td>-4120.402152</td>\n",
       "      <td>0.000000e+00</td>\n",
       "      <td>True</td>\n",
       "      <td>True</td>\n",
       "    </tr>\n",
       "    <tr>\n",
       "      <th>11318</th>\n",
       "      <td>CD9</td>\n",
       "      <td>0.000000e+00</td>\n",
       "      <td>0.000000e+00</td>\n",
       "      <td>2.574399</td>\n",
       "      <td>5.815789</td>\n",
       "      <td>False</td>\n",
       "      <td>1.331996e-07</td>\n",
       "      <td>-1793.996579</td>\n",
       "      <td>0.000000e+00</td>\n",
       "      <td>True</td>\n",
       "      <td>True</td>\n",
       "    </tr>\n",
       "    <tr>\n",
       "      <th>10965</th>\n",
       "      <td>LIPA</td>\n",
       "      <td>0.000000e+00</td>\n",
       "      <td>0.000000e+00</td>\n",
       "      <td>1.053868</td>\n",
       "      <td>11.568650</td>\n",
       "      <td>False</td>\n",
       "      <td>1.631616e-09</td>\n",
       "      <td>-2745.826839</td>\n",
       "      <td>0.000000e+00</td>\n",
       "      <td>True</td>\n",
       "      <td>True</td>\n",
       "    </tr>\n",
       "    <tr>\n",
       "      <th>10861</th>\n",
       "      <td>PSAP</td>\n",
       "      <td>0.000000e+00</td>\n",
       "      <td>0.000000e+00</td>\n",
       "      <td>0.952683</td>\n",
       "      <td>42.890160</td>\n",
       "      <td>False</td>\n",
       "      <td>5.110588e-08</td>\n",
       "      <td>-4062.129774</td>\n",
       "      <td>0.000000e+00</td>\n",
       "      <td>True</td>\n",
       "      <td>True</td>\n",
       "    </tr>\n",
       "    <tr>\n",
       "      <th>10281</th>\n",
       "      <td>CTSC</td>\n",
       "      <td>0.000000e+00</td>\n",
       "      <td>0.000000e+00</td>\n",
       "      <td>-0.777027</td>\n",
       "      <td>15.585812</td>\n",
       "      <td>False</td>\n",
       "      <td>2.916479e-08</td>\n",
       "      <td>-3240.917025</td>\n",
       "      <td>0.000000e+00</td>\n",
       "      <td>True</td>\n",
       "      <td>True</td>\n",
       "    </tr>\n",
       "    <tr>\n",
       "      <th>17951</th>\n",
       "      <td>LGALS1</td>\n",
       "      <td>0.000000e+00</td>\n",
       "      <td>0.000000e+00</td>\n",
       "      <td>1.084230</td>\n",
       "      <td>49.248284</td>\n",
       "      <td>False</td>\n",
       "      <td>3.882783e-08</td>\n",
       "      <td>-4234.684755</td>\n",
       "      <td>0.000000e+00</td>\n",
       "      <td>True</td>\n",
       "      <td>True</td>\n",
       "    </tr>\n",
       "    <tr>\n",
       "      <th>18276</th>\n",
       "      <td>CSTB</td>\n",
       "      <td>0.000000e+00</td>\n",
       "      <td>0.000000e+00</td>\n",
       "      <td>1.867994</td>\n",
       "      <td>62.681922</td>\n",
       "      <td>False</td>\n",
       "      <td>5.908857e-08</td>\n",
       "      <td>-4280.566998</td>\n",
       "      <td>0.000000e+00</td>\n",
       "      <td>True</td>\n",
       "      <td>True</td>\n",
       "    </tr>\n",
       "    <tr>\n",
       "      <th>8482</th>\n",
       "      <td>FABP5</td>\n",
       "      <td>0.000000e+00</td>\n",
       "      <td>0.000000e+00</td>\n",
       "      <td>2.210726</td>\n",
       "      <td>26.678490</td>\n",
       "      <td>False</td>\n",
       "      <td>1.083151e-08</td>\n",
       "      <td>-3154.859246</td>\n",
       "      <td>0.000000e+00</td>\n",
       "      <td>True</td>\n",
       "      <td>True</td>\n",
       "    </tr>\n",
       "    <tr>\n",
       "      <th>8215</th>\n",
       "      <td>LPL</td>\n",
       "      <td>0.000000e+00</td>\n",
       "      <td>0.000000e+00</td>\n",
       "      <td>3.252276</td>\n",
       "      <td>4.083524</td>\n",
       "      <td>False</td>\n",
       "      <td>2.143502e-08</td>\n",
       "      <td>-960.355751</td>\n",
       "      <td>0.000000e+00</td>\n",
       "      <td>True</td>\n",
       "      <td>True</td>\n",
       "    </tr>\n",
       "    <tr>\n",
       "      <th>8187</th>\n",
       "      <td>CTSB</td>\n",
       "      <td>0.000000e+00</td>\n",
       "      <td>0.000000e+00</td>\n",
       "      <td>1.093687</td>\n",
       "      <td>66.446224</td>\n",
       "      <td>False</td>\n",
       "      <td>5.421678e-09</td>\n",
       "      <td>-4458.128040</td>\n",
       "      <td>0.000000e+00</td>\n",
       "      <td>True</td>\n",
       "      <td>True</td>\n",
       "    </tr>\n",
       "    <tr>\n",
       "      <th>6693</th>\n",
       "      <td>GPNMB</td>\n",
       "      <td>0.000000e+00</td>\n",
       "      <td>0.000000e+00</td>\n",
       "      <td>1.511296</td>\n",
       "      <td>16.978261</td>\n",
       "      <td>False</td>\n",
       "      <td>2.544761e-07</td>\n",
       "      <td>-2525.085845</td>\n",
       "      <td>0.000000e+00</td>\n",
       "      <td>True</td>\n",
       "      <td>True</td>\n",
       "    </tr>\n",
       "    <tr>\n",
       "      <th>6050</th>\n",
       "      <td>TREM2</td>\n",
       "      <td>0.000000e+00</td>\n",
       "      <td>0.000000e+00</td>\n",
       "      <td>2.348372</td>\n",
       "      <td>3.672769</td>\n",
       "      <td>False</td>\n",
       "      <td>1.147573e-08</td>\n",
       "      <td>-1444.468566</td>\n",
       "      <td>0.000000e+00</td>\n",
       "      <td>True</td>\n",
       "      <td>True</td>\n",
       "    </tr>\n",
       "    <tr>\n",
       "      <th>5067</th>\n",
       "      <td>HEXB</td>\n",
       "      <td>0.000000e+00</td>\n",
       "      <td>0.000000e+00</td>\n",
       "      <td>0.913898</td>\n",
       "      <td>4.170481</td>\n",
       "      <td>False</td>\n",
       "      <td>2.353355e-08</td>\n",
       "      <td>-2127.361880</td>\n",
       "      <td>0.000000e+00</td>\n",
       "      <td>True</td>\n",
       "      <td>True</td>\n",
       "    </tr>\n",
       "    <tr>\n",
       "      <th>4518</th>\n",
       "      <td>SPP1</td>\n",
       "      <td>0.000000e+00</td>\n",
       "      <td>0.000000e+00</td>\n",
       "      <td>5.824602</td>\n",
       "      <td>47.572082</td>\n",
       "      <td>False</td>\n",
       "      <td>7.590551e-08</td>\n",
       "      <td>-2241.597499</td>\n",
       "      <td>0.000000e+00</td>\n",
       "      <td>True</td>\n",
       "      <td>True</td>\n",
       "    </tr>\n",
       "    <tr>\n",
       "      <th>9555</th>\n",
       "      <td>CTSD</td>\n",
       "      <td>0.000000e+00</td>\n",
       "      <td>0.000000e+00</td>\n",
       "      <td>1.006824</td>\n",
       "      <td>67.511442</td>\n",
       "      <td>False</td>\n",
       "      <td>1.591355e-07</td>\n",
       "      <td>-4419.615793</td>\n",
       "      <td>0.000000e+00</td>\n",
       "      <td>True</td>\n",
       "      <td>True</td>\n",
       "    </tr>\n",
       "    <tr>\n",
       "      <th>9058</th>\n",
       "      <td>CTSL</td>\n",
       "      <td>2.907219e-11</td>\n",
       "      <td>2.339943e-10</td>\n",
       "      <td>0.396442</td>\n",
       "      <td>41.740275</td>\n",
       "      <td>False</td>\n",
       "      <td>1.004873e-07</td>\n",
       "      <td>-3889.380155</td>\n",
       "      <td>2.339943e-10</td>\n",
       "      <td>True</td>\n",
       "      <td>True</td>\n",
       "    </tr>\n",
       "    <tr>\n",
       "      <th>2474</th>\n",
       "      <td>MERTK</td>\n",
       "      <td>4.491130e-09</td>\n",
       "      <td>2.744184e-08</td>\n",
       "      <td>0.834195</td>\n",
       "      <td>1.181922</td>\n",
       "      <td>False</td>\n",
       "      <td>2.435841e-08</td>\n",
       "      <td>-1264.932503</td>\n",
       "      <td>2.744184e-08</td>\n",
       "      <td>True</td>\n",
       "      <td>True</td>\n",
       "    </tr>\n",
       "    <tr>\n",
       "      <th>11234</th>\n",
       "      <td>DOCK1</td>\n",
       "      <td>9.940618e-06</td>\n",
       "      <td>3.644368e-05</td>\n",
       "      <td>-0.800846</td>\n",
       "      <td>0.237986</td>\n",
       "      <td>False</td>\n",
       "      <td>8.803334e-09</td>\n",
       "      <td>-509.814027</td>\n",
       "      <td>3.644368e-05</td>\n",
       "      <td>True</td>\n",
       "      <td>True</td>\n",
       "    </tr>\n",
       "    <tr>\n",
       "      <th>4923</th>\n",
       "      <td>IL7R</td>\n",
       "      <td>3.121026e-03</td>\n",
       "      <td>7.857665e-03</td>\n",
       "      <td>0.428891</td>\n",
       "      <td>4.687643</td>\n",
       "      <td>False</td>\n",
       "      <td>1.749206e-07</td>\n",
       "      <td>-1928.380516</td>\n",
       "      <td>7.857665e-03</td>\n",
       "      <td>True</td>\n",
       "      <td>True</td>\n",
       "    </tr>\n",
       "    <tr>\n",
       "      <th>8697</th>\n",
       "      <td>ADGRB1</td>\n",
       "      <td>1.000000e+00</td>\n",
       "      <td>1.000000e+00</td>\n",
       "      <td>283.913085</td>\n",
       "      <td>0.027460</td>\n",
       "      <td>False</td>\n",
       "      <td>4.118836e-02</td>\n",
       "      <td>-266.900914</td>\n",
       "      <td>1.000000e+00</td>\n",
       "      <td>True</td>\n",
       "      <td>True</td>\n",
       "    </tr>\n",
       "    <tr>\n",
       "      <th>8483</th>\n",
       "      <td>FABP4</td>\n",
       "      <td>1.000000e+00</td>\n",
       "      <td>1.000000e+00</td>\n",
       "      <td>283.913085</td>\n",
       "      <td>1.232265</td>\n",
       "      <td>False</td>\n",
       "      <td>1.464527e-01</td>\n",
       "      <td>-1186.416319</td>\n",
       "      <td>1.000000e+00</td>\n",
       "      <td>True</td>\n",
       "      <td>True</td>\n",
       "    </tr>\n",
       "    <tr>\n",
       "      <th>13776</th>\n",
       "      <td>MFGE8</td>\n",
       "      <td>1.000000e+00</td>\n",
       "      <td>1.000000e+00</td>\n",
       "      <td>283.913085</td>\n",
       "      <td>0.375286</td>\n",
       "      <td>False</td>\n",
       "      <td>4.004575e-01</td>\n",
       "      <td>-2720.683406</td>\n",
       "      <td>1.000000e+00</td>\n",
       "      <td>True</td>\n",
       "      <td>True</td>\n",
       "    </tr>\n",
       "    <tr>\n",
       "      <th>10330</th>\n",
       "      <td>MMP12</td>\n",
       "      <td>NaN</td>\n",
       "      <td>NaN</td>\n",
       "      <td>283.913085</td>\n",
       "      <td>0.775744</td>\n",
       "      <td>False</td>\n",
       "      <td>1.372992e-02</td>\n",
       "      <td>-131.887120</td>\n",
       "      <td>NaN</td>\n",
       "      <td>True</td>\n",
       "      <td>True</td>\n",
       "    </tr>\n",
       "  </tbody>\n",
       "</table>\n",
       "</div>"
      ],
      "text/plain": [
       "         gene          pval          qval      log2fc        mean  zero_mean          grad           ll          padj  is.marker  is.reference.marker\n",
       "9960     FTH1  0.000000e+00  0.000000e+00    0.816507  421.624714      False  3.577428e-08 -6083.411155  0.000000e+00       True                 True\n",
       "17247   APOC1  0.000000e+00  0.000000e+00    1.941283   65.834096      False  7.539805e-08 -2703.765234  0.000000e+00       True                 True\n",
       "17246    APOE  0.000000e+00  0.000000e+00   -2.049537   42.700229      False  4.111489e-08 -2023.394929  0.000000e+00       True                 True\n",
       "17030  TYROBP  0.000000e+00  0.000000e+00    0.621444   47.553776      False  4.342558e-08 -4084.490513  0.000000e+00       True                 True\n",
       "16715    ACP5  0.000000e+00  0.000000e+00    1.903758   13.131579      False  2.136176e-09 -2657.783327  0.000000e+00       True                 True\n",
       "12888  LGALS3  0.000000e+00  0.000000e+00    1.398802   38.653318      False  1.433528e-08 -3937.740570  0.000000e+00       True                 True\n",
       "11717    CD63  0.000000e+00  0.000000e+00    0.908986   46.337529      False  4.085660e-08 -4120.402152  0.000000e+00       True                 True\n",
       "11318     CD9  0.000000e+00  0.000000e+00    2.574399    5.815789      False  1.331996e-07 -1793.996579  0.000000e+00       True                 True\n",
       "10965    LIPA  0.000000e+00  0.000000e+00    1.053868   11.568650      False  1.631616e-09 -2745.826839  0.000000e+00       True                 True\n",
       "10861    PSAP  0.000000e+00  0.000000e+00    0.952683   42.890160      False  5.110588e-08 -4062.129774  0.000000e+00       True                 True\n",
       "10281    CTSC  0.000000e+00  0.000000e+00   -0.777027   15.585812      False  2.916479e-08 -3240.917025  0.000000e+00       True                 True\n",
       "17951  LGALS1  0.000000e+00  0.000000e+00    1.084230   49.248284      False  3.882783e-08 -4234.684755  0.000000e+00       True                 True\n",
       "18276    CSTB  0.000000e+00  0.000000e+00    1.867994   62.681922      False  5.908857e-08 -4280.566998  0.000000e+00       True                 True\n",
       "8482    FABP5  0.000000e+00  0.000000e+00    2.210726   26.678490      False  1.083151e-08 -3154.859246  0.000000e+00       True                 True\n",
       "8215      LPL  0.000000e+00  0.000000e+00    3.252276    4.083524      False  2.143502e-08  -960.355751  0.000000e+00       True                 True\n",
       "8187     CTSB  0.000000e+00  0.000000e+00    1.093687   66.446224      False  5.421678e-09 -4458.128040  0.000000e+00       True                 True\n",
       "6693    GPNMB  0.000000e+00  0.000000e+00    1.511296   16.978261      False  2.544761e-07 -2525.085845  0.000000e+00       True                 True\n",
       "6050    TREM2  0.000000e+00  0.000000e+00    2.348372    3.672769      False  1.147573e-08 -1444.468566  0.000000e+00       True                 True\n",
       "5067     HEXB  0.000000e+00  0.000000e+00    0.913898    4.170481      False  2.353355e-08 -2127.361880  0.000000e+00       True                 True\n",
       "4518     SPP1  0.000000e+00  0.000000e+00    5.824602   47.572082      False  7.590551e-08 -2241.597499  0.000000e+00       True                 True\n",
       "9555     CTSD  0.000000e+00  0.000000e+00    1.006824   67.511442      False  1.591355e-07 -4419.615793  0.000000e+00       True                 True\n",
       "9058     CTSL  2.907219e-11  2.339943e-10    0.396442   41.740275      False  1.004873e-07 -3889.380155  2.339943e-10       True                 True\n",
       "2474    MERTK  4.491130e-09  2.744184e-08    0.834195    1.181922      False  2.435841e-08 -1264.932503  2.744184e-08       True                 True\n",
       "11234   DOCK1  9.940618e-06  3.644368e-05   -0.800846    0.237986      False  8.803334e-09  -509.814027  3.644368e-05       True                 True\n",
       "4923     IL7R  3.121026e-03  7.857665e-03    0.428891    4.687643      False  1.749206e-07 -1928.380516  7.857665e-03       True                 True\n",
       "8697   ADGRB1  1.000000e+00  1.000000e+00  283.913085    0.027460      False  4.118836e-02  -266.900914  1.000000e+00       True                 True\n",
       "8483    FABP4  1.000000e+00  1.000000e+00  283.913085    1.232265      False  1.464527e-01 -1186.416319  1.000000e+00       True                 True\n",
       "13776   MFGE8  1.000000e+00  1.000000e+00  283.913085    0.375286      False  4.004575e-01 -2720.683406  1.000000e+00       True                 True\n",
       "10330   MMP12           NaN           NaN  283.913085    0.775744      False  1.372992e-02  -131.887120           NaN       True                 True"
      ]
     },
     "execution_count": 91,
     "metadata": {},
     "output_type": "execute_result"
    }
   ],
   "source": [
    "df['is.reference.marker'] = df['gene'].isin(marker_genes['MP.all'])\n",
    "df[df['is.reference.marker']].sort_values('padj')"
   ]
  },
  {
   "cell_type": "code",
   "execution_count": 90,
   "metadata": {},
   "outputs": [
    {
     "data": {
      "image/png": "[encoded data removed]",
      "text/plain": [
       "<Figure size 720x360 with 1 Axes>"
      ]
     },
     "metadata": {
      "needs_background": "light"
     },
     "output_type": "display_data"
    }
   ],
   "source": [
    "test.plot_volcano(corrected_pval=True, min_fc=1.05, alpha=10e-5, size=20)"
   ]
  },
  {
   "cell_type": "code",
   "execution_count": 164,
   "metadata": {},
   "outputs": [],
   "source": [
    "from utils import *\n",
    "marker_genes = get_marker_genes_ipf()"
   ]
  },
  {
   "cell_type": "code",
   "execution_count": 167,
   "metadata": {},
   "outputs": [],
   "source": [
    "marker_genes['MP.markers'] = {g for g in marker_genes['MP.markers'] if g in set(bal.var.index)}"
   ]
  },
  {
   "cell_type": "code",
   "execution_count": 171,
   "metadata": {},
   "outputs": [
    {
     "data": {
      "text/html": [
       "<div>\n",
       "<style scoped>\n",
       "    .dataframe tbody tr th:only-of-type {\n",
       "        vertical-align: middle;\n",
       "    }\n",
       "\n",
       "    .dataframe tbody tr th {\n",
       "        vertical-align: top;\n",
       "    }\n",
       "\n",
       "    .dataframe thead th {\n",
       "        text-align: right;\n",
       "    }\n",
       "</style>\n",
       "<table border=\"1\" class=\"dataframe\">\n",
       "  <thead>\n",
       "    <tr style=\"text-align: right;\">\n",
       "      <th></th>\n",
       "      <th>FAM87B</th>\n",
       "      <th>FAM41C</th>\n",
       "      <th>SAMD11</th>\n",
       "      <th>NOC2L</th>\n",
       "      <th>KLHL17</th>\n",
       "      <th>PLEKHN1</th>\n",
       "      <th>PERM1</th>\n",
       "      <th>HES4</th>\n",
       "      <th>ISG15</th>\n",
       "      <th>AGRN</th>\n",
       "      <th>RNF223</th>\n",
       "      <th>C1orf159</th>\n",
       "      <th>LINC01342</th>\n",
       "      <th>TTLL10-AS1</th>\n",
       "      <th>TTLL10</th>\n",
       "      <th>...</th>\n",
       "      <th>PCNT</th>\n",
       "      <th>DIP2A</th>\n",
       "      <th>S100B</th>\n",
       "      <th>PRMT2</th>\n",
       "      <th>MT-ND1</th>\n",
       "      <th>MT-ND2</th>\n",
       "      <th>MT-CO1</th>\n",
       "      <th>MT-CO2</th>\n",
       "      <th>MT-ATP8</th>\n",
       "      <th>MT-ATP6</th>\n",
       "      <th>MT-ND3</th>\n",
       "      <th>MT-ND4L</th>\n",
       "      <th>MT-ND5</th>\n",
       "      <th>MT-ND6</th>\n",
       "      <th>MT-CYB</th>\n",
       "    </tr>\n",
       "  </thead>\n",
       "  <tbody>\n",
       "    <tr>\n",
       "      <th>AAACCCACAAGCAATA-2-1</th>\n",
       "      <td>0.0</td>\n",
       "      <td>0.000000</td>\n",
       "      <td>0.0</td>\n",
       "      <td>0.000000</td>\n",
       "      <td>0.0</td>\n",
       "      <td>0.0</td>\n",
       "      <td>0.0</td>\n",
       "      <td>0.0</td>\n",
       "      <td>5.318667</td>\n",
       "      <td>0.0</td>\n",
       "      <td>0.0</td>\n",
       "      <td>0.0</td>\n",
       "      <td>0.0</td>\n",
       "      <td>0.0</td>\n",
       "      <td>0.0</td>\n",
       "      <td>...</td>\n",
       "      <td>0.000000</td>\n",
       "      <td>0.000000</td>\n",
       "      <td>0.0</td>\n",
       "      <td>4.409698</td>\n",
       "      <td>7.995115</td>\n",
       "      <td>8.022135</td>\n",
       "      <td>9.180884</td>\n",
       "      <td>9.116074</td>\n",
       "      <td>5.318667</td>\n",
       "      <td>8.987647</td>\n",
       "      <td>7.636626</td>\n",
       "      <td>3.728637</td>\n",
       "      <td>7.288520</td>\n",
       "      <td>4.409698</td>\n",
       "      <td>8.367990</td>\n",
       "    </tr>\n",
       "    <tr>\n",
       "      <th>AAAGAACGTGTCCGTG-2-1</th>\n",
       "      <td>0.0</td>\n",
       "      <td>0.000000</td>\n",
       "      <td>0.0</td>\n",
       "      <td>0.000000</td>\n",
       "      <td>0.0</td>\n",
       "      <td>0.0</td>\n",
       "      <td>0.0</td>\n",
       "      <td>0.0</td>\n",
       "      <td>6.786667</td>\n",
       "      <td>0.0</td>\n",
       "      <td>0.0</td>\n",
       "      <td>0.0</td>\n",
       "      <td>0.0</td>\n",
       "      <td>0.0</td>\n",
       "      <td>0.0</td>\n",
       "      <td>...</td>\n",
       "      <td>4.494189</td>\n",
       "      <td>0.000000</td>\n",
       "      <td>0.0</td>\n",
       "      <td>0.000000</td>\n",
       "      <td>8.289866</td>\n",
       "      <td>8.289866</td>\n",
       "      <td>9.004864</td>\n",
       "      <td>9.174404</td>\n",
       "      <td>4.494189</td>\n",
       "      <td>9.350574</td>\n",
       "      <td>8.244415</td>\n",
       "      <td>5.585324</td>\n",
       "      <td>7.574509</td>\n",
       "      <td>0.000000</td>\n",
       "      <td>8.434414</td>\n",
       "    </tr>\n",
       "    <tr>\n",
       "      <th>AAAGGGCCAAGCGCAA-2-1</th>\n",
       "      <td>0.0</td>\n",
       "      <td>4.035824</td>\n",
       "      <td>0.0</td>\n",
       "      <td>4.035824</td>\n",
       "      <td>0.0</td>\n",
       "      <td>0.0</td>\n",
       "      <td>0.0</td>\n",
       "      <td>0.0</td>\n",
       "      <td>6.909366</td>\n",
       "      <td>0.0</td>\n",
       "      <td>0.0</td>\n",
       "      <td>0.0</td>\n",
       "      <td>0.0</td>\n",
       "      <td>0.0</td>\n",
       "      <td>0.0</td>\n",
       "      <td>...</td>\n",
       "      <td>0.000000</td>\n",
       "      <td>4.035824</td>\n",
       "      <td>0.0</td>\n",
       "      <td>5.408776</td>\n",
       "      <td>8.484110</td>\n",
       "      <td>7.930377</td>\n",
       "      <td>9.177154</td>\n",
       "      <td>8.736654</td>\n",
       "      <td>0.000000</td>\n",
       "      <td>8.952599</td>\n",
       "      <td>7.385911</td>\n",
       "      <td>5.408776</td>\n",
       "      <td>7.276783</td>\n",
       "      <td>4.035824</td>\n",
       "      <td>8.222956</td>\n",
       "    </tr>\n",
       "    <tr>\n",
       "      <th>AAAGGGCCAGCGAGTA-2-1</th>\n",
       "      <td>0.0</td>\n",
       "      <td>0.000000</td>\n",
       "      <td>0.0</td>\n",
       "      <td>0.000000</td>\n",
       "      <td>0.0</td>\n",
       "      <td>0.0</td>\n",
       "      <td>0.0</td>\n",
       "      <td>0.0</td>\n",
       "      <td>0.000000</td>\n",
       "      <td>0.0</td>\n",
       "      <td>0.0</td>\n",
       "      <td>0.0</td>\n",
       "      <td>0.0</td>\n",
       "      <td>0.0</td>\n",
       "      <td>0.0</td>\n",
       "      <td>...</td>\n",
       "      <td>0.000000</td>\n",
       "      <td>0.000000</td>\n",
       "      <td>0.0</td>\n",
       "      <td>0.000000</td>\n",
       "      <td>9.162926</td>\n",
       "      <td>8.064523</td>\n",
       "      <td>9.258226</td>\n",
       "      <td>9.227458</td>\n",
       "      <td>6.456342</td>\n",
       "      <td>9.093941</td>\n",
       "      <td>8.326815</td>\n",
       "      <td>5.764764</td>\n",
       "      <td>7.371690</td>\n",
       "      <td>0.000000</td>\n",
       "      <td>8.469883</td>\n",
       "    </tr>\n",
       "    <tr>\n",
       "      <th>AAAGGTACACGGTGTC-2-1</th>\n",
       "      <td>0.0</td>\n",
       "      <td>0.000000</td>\n",
       "      <td>0.0</td>\n",
       "      <td>0.000000</td>\n",
       "      <td>0.0</td>\n",
       "      <td>0.0</td>\n",
       "      <td>0.0</td>\n",
       "      <td>0.0</td>\n",
       "      <td>5.685836</td>\n",
       "      <td>0.0</td>\n",
       "      <td>0.0</td>\n",
       "      <td>0.0</td>\n",
       "      <td>0.0</td>\n",
       "      <td>0.0</td>\n",
       "      <td>0.0</td>\n",
       "      <td>...</td>\n",
       "      <td>0.000000</td>\n",
       "      <td>0.000000</td>\n",
       "      <td>0.0</td>\n",
       "      <td>5.685836</td>\n",
       "      <td>8.544832</td>\n",
       "      <td>8.373911</td>\n",
       "      <td>9.478003</td>\n",
       "      <td>9.358824</td>\n",
       "      <td>0.000000</td>\n",
       "      <td>8.978400</td>\n",
       "      <td>7.822904</td>\n",
       "      <td>5.908301</td>\n",
       "      <td>8.103107</td>\n",
       "      <td>4.309672</td>\n",
       "      <td>8.266691</td>\n",
       "    </tr>\n",
       "  </tbody>\n",
       "</table>\n",
       "<p>5 rows × 18331 columns</p>\n",
       "</div>"
      ],
      "text/plain": [
       "                      FAM87B    FAM41C  SAMD11     NOC2L  KLHL17  PLEKHN1  PERM1  HES4     ISG15  AGRN  RNF223  C1orf159  LINC01342  TTLL10-AS1  TTLL10  ...      PCNT     DIP2A  S100B     PRMT2    MT-ND1    MT-ND2    MT-CO1    MT-CO2   MT-ATP8   MT-ATP6    MT-ND3   MT-ND4L    MT-ND5    MT-ND6    MT-CYB\n",
       "AAACCCACAAGCAATA-2-1     0.0  0.000000     0.0  0.000000     0.0      0.0    0.0   0.0  5.318667   0.0     0.0       0.0        0.0         0.0     0.0  ...  0.000000  0.000000    0.0  4.409698  7.995115  8.022135  9.180884  9.116074  5.318667  8.987647  7.636626  3.728637  7.288520  4.409698  8.367990\n",
       "AAAGAACGTGTCCGTG-2-1     0.0  0.000000     0.0  0.000000     0.0      0.0    0.0   0.0  6.786667   0.0     0.0       0.0        0.0         0.0     0.0  ...  4.494189  0.000000    0.0  0.000000  8.289866  8.289866  9.004864  9.174404  4.494189  9.350574  8.244415  5.585324  7.574509  0.000000  8.434414\n",
       "AAAGGGCCAAGCGCAA-2-1     0.0  4.035824     0.0  4.035824     0.0      0.0    0.0   0.0  6.909366   0.0     0.0       0.0        0.0         0.0     0.0  ...  0.000000  4.035824    0.0  5.408776  8.484110  7.930377  9.177154  8.736654  0.000000  8.952599  7.385911  5.408776  7.276783  4.035824  8.222956\n",
       "AAAGGGCCAGCGAGTA-2-1     0.0  0.000000     0.0  0.000000     0.0      0.0    0.0   0.0  0.000000   0.0     0.0       0.0        0.0         0.0     0.0  ...  0.000000  0.000000    0.0  0.000000  9.162926  8.064523  9.258226  9.227458  6.456342  9.093941  8.326815  5.764764  7.371690  0.000000  8.469883\n",
       "AAAGGTACACGGTGTC-2-1     0.0  0.000000     0.0  0.000000     0.0      0.0    0.0   0.0  5.685836   0.0     0.0       0.0        0.0         0.0     0.0  ...  0.000000  0.000000    0.0  5.685836  8.544832  8.373911  9.478003  9.358824  0.000000  8.978400  7.822904  5.908301  8.103107  4.309672  8.266691\n",
       "\n",
       "[5 rows x 18331 columns]"
      ]
     },
     "execution_count": 171,
     "metadata": {},
     "output_type": "execute_result"
    }
   ],
   "source": [
    "bal.to_df().head()"
   ]
  },
  {
   "cell_type": "code",
   "execution_count": 177,
   "metadata": {},
   "outputs": [
    {
     "data": {
      "image/png": "[encoded data removed]",
      "text/plain": [
       "<Figure size 640.8x248.4 with 4 Axes>"
      ]
     },
     "metadata": {
      "needs_background": "light"
     },
     "output_type": "display_data"
    },
    {
     "name": "stderr",
     "output_type": "stream",
     "text": [
      "/home/icb/ignacio.ibarra/miniconda3/envs/mypython3/lib/python3.7/site-packages/anndata/_core/anndata.py:1192: FutureWarning: is_categorical is deprecated and will be removed in a future version.  Use is_categorical_dtype instead\n",
      "  if is_string_dtype(df[key]) and not is_categorical(df[key])\n"
     ]
    },
    {
     "data": {
      "image/png": "[encoded data removed]",
      "text/plain": [
       "<Figure size 640.8x180 with 4 Axes>"
      ]
     },
     "metadata": {
      "needs_background": "light"
     },
     "output_type": "display_data"
    }
   ],
   "source": [
    "\n",
    "bal.obs['Celltype'].value_counts()\n",
    "sc.pl.dotplot(bal, var_names=list(marker_genes['MP.markers']), groupby='Celltype', use_raw=None)\n",
    "sc.pl.dotplot(bal, var_names=list(marker_genes['MP.markers']), groupby='Celltype_2', use_raw=None)"
   ]
  }
 ],
 "metadata": {
  "kernelspec": {
   "display_name": "Python [conda env:mypython3] *",
   "language": "python",
   "name": "conda-env-mypython3-py"
  },
  "language_info": {
   "codemirror_mode": {
    "name": "ipython",
    "version": 3
   },
   "file_extension": ".py",
   "mimetype": "text/x-python",
   "name": "python",
   "nbconvert_exporter": "python",
   "pygments_lexer": "ipython3",
   "version": "3.7.8"
  }
 },
 "nbformat": 4,
 "nbformat_minor": 4
}
