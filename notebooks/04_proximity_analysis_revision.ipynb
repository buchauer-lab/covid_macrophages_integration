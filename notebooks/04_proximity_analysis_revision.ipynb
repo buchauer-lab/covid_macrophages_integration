{
 "cells": [
  {
   "cell_type": "code",
   "execution_count": 2,
   "metadata": {},
   "outputs": [],
   "source": [
    "import scanpy as sc\n",
    "%reload_ext autoreload\n",
    "%autoreload 2\n"
   ]
  },
  {
   "cell_type": "code",
   "execution_count": 3,
   "metadata": {},
   "outputs": [],
   "source": [
    "from utils import *"
   ]
  },
  {
   "cell_type": "code",
   "execution_count": 4,
   "metadata": {},
   "outputs": [],
   "source": [
    "import scanpy as sc"
   ]
  },
  {
   "cell_type": "code",
   "execution_count": 5,
   "metadata": {},
   "outputs": [],
   "source": [
    "ad = sc.read_h5ad('../data/integrated/morse_n_adams_n_bal_scvi_patient.id_138341_400_revision.h5ad')"
   ]
  },
  {
   "cell_type": "markdown",
   "metadata": {},
   "source": [
    "Based on new annotations provided by Oliver, we update the mdm.type annotation"
   ]
  },
  {
   "cell_type": "code",
   "execution_count": 6,
   "metadata": {},
   "outputs": [
    {
     "data": {
      "text/html": [
       "<div>\n",
       "<style scoped>\n",
       "    .dataframe tbody tr th:only-of-type {\n",
       "        vertical-align: middle;\n",
       "    }\n",
       "\n",
       "    .dataframe tbody tr th {\n",
       "        vertical-align: top;\n",
       "    }\n",
       "\n",
       "    .dataframe thead th {\n",
       "        text-align: right;\n",
       "    }\n",
       "</style>\n",
       "<table border=\"1\" class=\"dataframe\">\n",
       "  <thead>\n",
       "    <tr style=\"text-align: right;\">\n",
       "      <th></th>\n",
       "      <th>GSM</th>\n",
       "      <th>sample.id</th>\n",
       "      <th>n_counts</th>\n",
       "      <th>log_counts</th>\n",
       "      <th>n_genes</th>\n",
       "      <th>mt_frac</th>\n",
       "      <th>patient.id</th>\n",
       "      <th>cell.type</th>\n",
       "      <th>study</th>\n",
       "      <th>disease.status</th>\n",
       "      <th>...</th>\n",
       "      <th>Diagnosis</th>\n",
       "      <th>COVID-19</th>\n",
       "      <th>Tissue Type</th>\n",
       "      <th>Cell Population</th>\n",
       "      <th>Cell Type</th>\n",
       "      <th>leiden</th>\n",
       "      <th>No of UMIs</th>\n",
       "      <th>No of genes</th>\n",
       "      <th>% of mito genes</th>\n",
       "      <th>Cluster</th>\n",
       "    </tr>\n",
       "  </thead>\n",
       "  <tbody>\n",
       "    <tr>\n",
       "      <th>SC154IPFUP_AAACCTGCATCACGAT-1-0-0-0-0-0-0</th>\n",
       "      <td>GSM3660658</td>\n",
       "      <td>SC154IPFUP</td>\n",
       "      <td>15616.0</td>\n",
       "      <td>9.656052</td>\n",
       "      <td>2600.0</td>\n",
       "      <td>0.093558</td>\n",
       "      <td>SC154</td>\n",
       "      <td>SPP1hi Macrophage</td>\n",
       "      <td>morse</td>\n",
       "      <td>IPF</td>\n",
       "      <td>...</td>\n",
       "      <td>nan</td>\n",
       "      <td>nan</td>\n",
       "      <td>nan</td>\n",
       "      <td>nan</td>\n",
       "      <td>nan</td>\n",
       "      <td>NaN</td>\n",
       "      <td>NaN</td>\n",
       "      <td>NaN</td>\n",
       "      <td>NaN</td>\n",
       "      <td>nan</td>\n",
       "    </tr>\n",
       "    <tr>\n",
       "      <th>SC154IPFUP_AAACGGGGTACCGGCT-1-0-0-0-0-0-0</th>\n",
       "      <td>GSM3660658</td>\n",
       "      <td>SC154IPFUP</td>\n",
       "      <td>9768.0</td>\n",
       "      <td>9.186867</td>\n",
       "      <td>2008.0</td>\n",
       "      <td>0.084562</td>\n",
       "      <td>SC154</td>\n",
       "      <td>SPP1hi Macrophage</td>\n",
       "      <td>morse</td>\n",
       "      <td>IPF</td>\n",
       "      <td>...</td>\n",
       "      <td>nan</td>\n",
       "      <td>nan</td>\n",
       "      <td>nan</td>\n",
       "      <td>nan</td>\n",
       "      <td>nan</td>\n",
       "      <td>NaN</td>\n",
       "      <td>NaN</td>\n",
       "      <td>NaN</td>\n",
       "      <td>NaN</td>\n",
       "      <td>nan</td>\n",
       "    </tr>\n",
       "    <tr>\n",
       "      <th>SC154IPFUP_AAACGGGTCTGTCCGT-1-0-0-0-0-0-0</th>\n",
       "      <td>GSM3660658</td>\n",
       "      <td>SC154IPFUP</td>\n",
       "      <td>27659.0</td>\n",
       "      <td>10.227707</td>\n",
       "      <td>3509.0</td>\n",
       "      <td>0.043386</td>\n",
       "      <td>SC154</td>\n",
       "      <td>FABP4hi Macrophage</td>\n",
       "      <td>morse</td>\n",
       "      <td>IPF</td>\n",
       "      <td>...</td>\n",
       "      <td>nan</td>\n",
       "      <td>nan</td>\n",
       "      <td>nan</td>\n",
       "      <td>nan</td>\n",
       "      <td>nan</td>\n",
       "      <td>NaN</td>\n",
       "      <td>NaN</td>\n",
       "      <td>NaN</td>\n",
       "      <td>NaN</td>\n",
       "      <td>nan</td>\n",
       "    </tr>\n",
       "    <tr>\n",
       "      <th>SC154IPFUP_AAAGATGAGATCCCGC-1-0-0-0-0-0-0</th>\n",
       "      <td>GSM3660658</td>\n",
       "      <td>SC154IPFUP</td>\n",
       "      <td>9778.0</td>\n",
       "      <td>9.187890</td>\n",
       "      <td>2276.0</td>\n",
       "      <td>0.070157</td>\n",
       "      <td>SC154</td>\n",
       "      <td>SPP1hi Macrophage</td>\n",
       "      <td>morse</td>\n",
       "      <td>IPF</td>\n",
       "      <td>...</td>\n",
       "      <td>nan</td>\n",
       "      <td>nan</td>\n",
       "      <td>nan</td>\n",
       "      <td>nan</td>\n",
       "      <td>nan</td>\n",
       "      <td>NaN</td>\n",
       "      <td>NaN</td>\n",
       "      <td>NaN</td>\n",
       "      <td>NaN</td>\n",
       "      <td>nan</td>\n",
       "    </tr>\n",
       "    <tr>\n",
       "      <th>SC154IPFUP_AAAGATGAGATGCGAC-1-0-0-0-0-0-0</th>\n",
       "      <td>GSM3660658</td>\n",
       "      <td>SC154IPFUP</td>\n",
       "      <td>8610.0</td>\n",
       "      <td>9.060679</td>\n",
       "      <td>1981.0</td>\n",
       "      <td>0.059582</td>\n",
       "      <td>SC154</td>\n",
       "      <td>SPP1hi Macrophage</td>\n",
       "      <td>morse</td>\n",
       "      <td>IPF</td>\n",
       "      <td>...</td>\n",
       "      <td>nan</td>\n",
       "      <td>nan</td>\n",
       "      <td>nan</td>\n",
       "      <td>nan</td>\n",
       "      <td>nan</td>\n",
       "      <td>NaN</td>\n",
       "      <td>NaN</td>\n",
       "      <td>NaN</td>\n",
       "      <td>NaN</td>\n",
       "      <td>nan</td>\n",
       "    </tr>\n",
       "    <tr>\n",
       "      <th>...</th>\n",
       "      <td>...</td>\n",
       "      <td>...</td>\n",
       "      <td>...</td>\n",
       "      <td>...</td>\n",
       "      <td>...</td>\n",
       "      <td>...</td>\n",
       "      <td>...</td>\n",
       "      <td>...</td>\n",
       "      <td>...</td>\n",
       "      <td>...</td>\n",
       "      <td>...</td>\n",
       "      <td>...</td>\n",
       "      <td>...</td>\n",
       "      <td>...</td>\n",
       "      <td>...</td>\n",
       "      <td>...</td>\n",
       "      <td>...</td>\n",
       "      <td>...</td>\n",
       "      <td>...</td>\n",
       "      <td>...</td>\n",
       "      <td>...</td>\n",
       "    </tr>\n",
       "    <tr>\n",
       "      <th>484C_TTGACTTTCATCTGCC-1-0-0-1</th>\n",
       "      <td>nan</td>\n",
       "      <td>nan</td>\n",
       "      <td>16249.0</td>\n",
       "      <td>9.695786</td>\n",
       "      <td>3934.0</td>\n",
       "      <td>0.044187</td>\n",
       "      <td>484C</td>\n",
       "      <td>Macrophage_Outlier_D</td>\n",
       "      <td>adams</td>\n",
       "      <td>control</td>\n",
       "      <td>...</td>\n",
       "      <td>nan</td>\n",
       "      <td>nan</td>\n",
       "      <td>nan</td>\n",
       "      <td>nan</td>\n",
       "      <td>nan</td>\n",
       "      <td>NaN</td>\n",
       "      <td>NaN</td>\n",
       "      <td>NaN</td>\n",
       "      <td>NaN</td>\n",
       "      <td>nan</td>\n",
       "    </tr>\n",
       "    <tr>\n",
       "      <th>484C_TTTACTGCAAATTGCC-1-0-0-1</th>\n",
       "      <td>nan</td>\n",
       "      <td>nan</td>\n",
       "      <td>1851.0</td>\n",
       "      <td>7.523481</td>\n",
       "      <td>1096.0</td>\n",
       "      <td>0.044300</td>\n",
       "      <td>484C</td>\n",
       "      <td>Macrophage</td>\n",
       "      <td>adams</td>\n",
       "      <td>control</td>\n",
       "      <td>...</td>\n",
       "      <td>nan</td>\n",
       "      <td>nan</td>\n",
       "      <td>nan</td>\n",
       "      <td>nan</td>\n",
       "      <td>nan</td>\n",
       "      <td>NaN</td>\n",
       "      <td>NaN</td>\n",
       "      <td>NaN</td>\n",
       "      <td>NaN</td>\n",
       "      <td>nan</td>\n",
       "    </tr>\n",
       "    <tr>\n",
       "      <th>484C_TTTATGCCAATAGAGT-1-0-0-1</th>\n",
       "      <td>nan</td>\n",
       "      <td>nan</td>\n",
       "      <td>11975.0</td>\n",
       "      <td>9.390576</td>\n",
       "      <td>3415.0</td>\n",
       "      <td>0.046180</td>\n",
       "      <td>484C</td>\n",
       "      <td>Macrophage</td>\n",
       "      <td>adams</td>\n",
       "      <td>control</td>\n",
       "      <td>...</td>\n",
       "      <td>nan</td>\n",
       "      <td>nan</td>\n",
       "      <td>nan</td>\n",
       "      <td>nan</td>\n",
       "      <td>nan</td>\n",
       "      <td>NaN</td>\n",
       "      <td>NaN</td>\n",
       "      <td>NaN</td>\n",
       "      <td>NaN</td>\n",
       "      <td>nan</td>\n",
       "    </tr>\n",
       "    <tr>\n",
       "      <th>484C_TTTATGCTCGATAGAA-1-0-0-1</th>\n",
       "      <td>nan</td>\n",
       "      <td>nan</td>\n",
       "      <td>6138.0</td>\n",
       "      <td>8.722254</td>\n",
       "      <td>2506.0</td>\n",
       "      <td>0.061584</td>\n",
       "      <td>484C</td>\n",
       "      <td>Macrophage</td>\n",
       "      <td>adams</td>\n",
       "      <td>control</td>\n",
       "      <td>...</td>\n",
       "      <td>nan</td>\n",
       "      <td>nan</td>\n",
       "      <td>nan</td>\n",
       "      <td>nan</td>\n",
       "      <td>nan</td>\n",
       "      <td>NaN</td>\n",
       "      <td>NaN</td>\n",
       "      <td>NaN</td>\n",
       "      <td>NaN</td>\n",
       "      <td>nan</td>\n",
       "    </tr>\n",
       "    <tr>\n",
       "      <th>484C_TTTGGTTCATCGGGTC-1-0-0-1</th>\n",
       "      <td>nan</td>\n",
       "      <td>nan</td>\n",
       "      <td>1625.0</td>\n",
       "      <td>7.393263</td>\n",
       "      <td>801.0</td>\n",
       "      <td>0.185231</td>\n",
       "      <td>484C</td>\n",
       "      <td>Macrophage</td>\n",
       "      <td>adams</td>\n",
       "      <td>control</td>\n",
       "      <td>...</td>\n",
       "      <td>nan</td>\n",
       "      <td>nan</td>\n",
       "      <td>nan</td>\n",
       "      <td>nan</td>\n",
       "      <td>nan</td>\n",
       "      <td>NaN</td>\n",
       "      <td>NaN</td>\n",
       "      <td>NaN</td>\n",
       "      <td>NaN</td>\n",
       "      <td>nan</td>\n",
       "    </tr>\n",
       "  </tbody>\n",
       "</table>\n",
       "<p>138341 rows × 80 columns</p>\n",
       "</div>"
      ],
      "text/plain": [
       "                                                  GSM   sample.id  n_counts  \\\n",
       "SC154IPFUP_AAACCTGCATCACGAT-1-0-0-0-0-0-0  GSM3660658  SC154IPFUP   15616.0   \n",
       "SC154IPFUP_AAACGGGGTACCGGCT-1-0-0-0-0-0-0  GSM3660658  SC154IPFUP    9768.0   \n",
       "SC154IPFUP_AAACGGGTCTGTCCGT-1-0-0-0-0-0-0  GSM3660658  SC154IPFUP   27659.0   \n",
       "SC154IPFUP_AAAGATGAGATCCCGC-1-0-0-0-0-0-0  GSM3660658  SC154IPFUP    9778.0   \n",
       "SC154IPFUP_AAAGATGAGATGCGAC-1-0-0-0-0-0-0  GSM3660658  SC154IPFUP    8610.0   \n",
       "...                                               ...         ...       ...   \n",
       "484C_TTGACTTTCATCTGCC-1-0-0-1                     nan         nan   16249.0   \n",
       "484C_TTTACTGCAAATTGCC-1-0-0-1                     nan         nan    1851.0   \n",
       "484C_TTTATGCCAATAGAGT-1-0-0-1                     nan         nan   11975.0   \n",
       "484C_TTTATGCTCGATAGAA-1-0-0-1                     nan         nan    6138.0   \n",
       "484C_TTTGGTTCATCGGGTC-1-0-0-1                     nan         nan    1625.0   \n",
       "\n",
       "                                           log_counts  n_genes   mt_frac  \\\n",
       "SC154IPFUP_AAACCTGCATCACGAT-1-0-0-0-0-0-0    9.656052   2600.0  0.093558   \n",
       "SC154IPFUP_AAACGGGGTACCGGCT-1-0-0-0-0-0-0    9.186867   2008.0  0.084562   \n",
       "SC154IPFUP_AAACGGGTCTGTCCGT-1-0-0-0-0-0-0   10.227707   3509.0  0.043386   \n",
       "SC154IPFUP_AAAGATGAGATCCCGC-1-0-0-0-0-0-0    9.187890   2276.0  0.070157   \n",
       "SC154IPFUP_AAAGATGAGATGCGAC-1-0-0-0-0-0-0    9.060679   1981.0  0.059582   \n",
       "...                                               ...      ...       ...   \n",
       "484C_TTGACTTTCATCTGCC-1-0-0-1                9.695786   3934.0  0.044187   \n",
       "484C_TTTACTGCAAATTGCC-1-0-0-1                7.523481   1096.0  0.044300   \n",
       "484C_TTTATGCCAATAGAGT-1-0-0-1                9.390576   3415.0  0.046180   \n",
       "484C_TTTATGCTCGATAGAA-1-0-0-1                8.722254   2506.0  0.061584   \n",
       "484C_TTTGGTTCATCGGGTC-1-0-0-1                7.393263    801.0  0.185231   \n",
       "\n",
       "                                          patient.id             cell.type  \\\n",
       "SC154IPFUP_AAACCTGCATCACGAT-1-0-0-0-0-0-0      SC154     SPP1hi Macrophage   \n",
       "SC154IPFUP_AAACGGGGTACCGGCT-1-0-0-0-0-0-0      SC154     SPP1hi Macrophage   \n",
       "SC154IPFUP_AAACGGGTCTGTCCGT-1-0-0-0-0-0-0      SC154    FABP4hi Macrophage   \n",
       "SC154IPFUP_AAAGATGAGATCCCGC-1-0-0-0-0-0-0      SC154     SPP1hi Macrophage   \n",
       "SC154IPFUP_AAAGATGAGATGCGAC-1-0-0-0-0-0-0      SC154     SPP1hi Macrophage   \n",
       "...                                              ...                   ...   \n",
       "484C_TTGACTTTCATCTGCC-1-0-0-1                   484C  Macrophage_Outlier_D   \n",
       "484C_TTTACTGCAAATTGCC-1-0-0-1                   484C            Macrophage   \n",
       "484C_TTTATGCCAATAGAGT-1-0-0-1                   484C            Macrophage   \n",
       "484C_TTTATGCTCGATAGAA-1-0-0-1                   484C            Macrophage   \n",
       "484C_TTTGGTTCATCGGGTC-1-0-0-1                   484C            Macrophage   \n",
       "\n",
       "                                           study disease.status  ...  \\\n",
       "SC154IPFUP_AAACCTGCATCACGAT-1-0-0-0-0-0-0  morse            IPF  ...   \n",
       "SC154IPFUP_AAACGGGGTACCGGCT-1-0-0-0-0-0-0  morse            IPF  ...   \n",
       "SC154IPFUP_AAACGGGTCTGTCCGT-1-0-0-0-0-0-0  morse            IPF  ...   \n",
       "SC154IPFUP_AAAGATGAGATCCCGC-1-0-0-0-0-0-0  morse            IPF  ...   \n",
       "SC154IPFUP_AAAGATGAGATGCGAC-1-0-0-0-0-0-0  morse            IPF  ...   \n",
       "...                                          ...            ...  ...   \n",
       "484C_TTGACTTTCATCTGCC-1-0-0-1              adams        control  ...   \n",
       "484C_TTTACTGCAAATTGCC-1-0-0-1              adams        control  ...   \n",
       "484C_TTTATGCCAATAGAGT-1-0-0-1              adams        control  ...   \n",
       "484C_TTTATGCTCGATAGAA-1-0-0-1              adams        control  ...   \n",
       "484C_TTTGGTTCATCGGGTC-1-0-0-1              adams        control  ...   \n",
       "\n",
       "                                           Diagnosis  COVID-19  Tissue Type  \\\n",
       "SC154IPFUP_AAACCTGCATCACGAT-1-0-0-0-0-0-0        nan       nan          nan   \n",
       "SC154IPFUP_AAACGGGGTACCGGCT-1-0-0-0-0-0-0        nan       nan          nan   \n",
       "SC154IPFUP_AAACGGGTCTGTCCGT-1-0-0-0-0-0-0        nan       nan          nan   \n",
       "SC154IPFUP_AAAGATGAGATCCCGC-1-0-0-0-0-0-0        nan       nan          nan   \n",
       "SC154IPFUP_AAAGATGAGATGCGAC-1-0-0-0-0-0-0        nan       nan          nan   \n",
       "...                                              ...       ...          ...   \n",
       "484C_TTGACTTTCATCTGCC-1-0-0-1                    nan       nan          nan   \n",
       "484C_TTTACTGCAAATTGCC-1-0-0-1                    nan       nan          nan   \n",
       "484C_TTTATGCCAATAGAGT-1-0-0-1                    nan       nan          nan   \n",
       "484C_TTTATGCTCGATAGAA-1-0-0-1                    nan       nan          nan   \n",
       "484C_TTTGGTTCATCGGGTC-1-0-0-1                    nan       nan          nan   \n",
       "\n",
       "                                           Cell Population  Cell Type leiden  \\\n",
       "SC154IPFUP_AAACCTGCATCACGAT-1-0-0-0-0-0-0              nan        nan    NaN   \n",
       "SC154IPFUP_AAACGGGGTACCGGCT-1-0-0-0-0-0-0              nan        nan    NaN   \n",
       "SC154IPFUP_AAACGGGTCTGTCCGT-1-0-0-0-0-0-0              nan        nan    NaN   \n",
       "SC154IPFUP_AAAGATGAGATCCCGC-1-0-0-0-0-0-0              nan        nan    NaN   \n",
       "SC154IPFUP_AAAGATGAGATGCGAC-1-0-0-0-0-0-0              nan        nan    NaN   \n",
       "...                                                    ...        ...    ...   \n",
       "484C_TTGACTTTCATCTGCC-1-0-0-1                          nan        nan    NaN   \n",
       "484C_TTTACTGCAAATTGCC-1-0-0-1                          nan        nan    NaN   \n",
       "484C_TTTATGCCAATAGAGT-1-0-0-1                          nan        nan    NaN   \n",
       "484C_TTTATGCTCGATAGAA-1-0-0-1                          nan        nan    NaN   \n",
       "484C_TTTGGTTCATCGGGTC-1-0-0-1                          nan        nan    NaN   \n",
       "\n",
       "                                          No of UMIs No of genes  \\\n",
       "SC154IPFUP_AAACCTGCATCACGAT-1-0-0-0-0-0-0        NaN         NaN   \n",
       "SC154IPFUP_AAACGGGGTACCGGCT-1-0-0-0-0-0-0        NaN         NaN   \n",
       "SC154IPFUP_AAACGGGTCTGTCCGT-1-0-0-0-0-0-0        NaN         NaN   \n",
       "SC154IPFUP_AAAGATGAGATCCCGC-1-0-0-0-0-0-0        NaN         NaN   \n",
       "SC154IPFUP_AAAGATGAGATGCGAC-1-0-0-0-0-0-0        NaN         NaN   \n",
       "...                                              ...         ...   \n",
       "484C_TTGACTTTCATCTGCC-1-0-0-1                    NaN         NaN   \n",
       "484C_TTTACTGCAAATTGCC-1-0-0-1                    NaN         NaN   \n",
       "484C_TTTATGCCAATAGAGT-1-0-0-1                    NaN         NaN   \n",
       "484C_TTTATGCTCGATAGAA-1-0-0-1                    NaN         NaN   \n",
       "484C_TTTGGTTCATCGGGTC-1-0-0-1                    NaN         NaN   \n",
       "\n",
       "                                          % of mito genes Cluster  \n",
       "SC154IPFUP_AAACCTGCATCACGAT-1-0-0-0-0-0-0             NaN     nan  \n",
       "SC154IPFUP_AAACGGGGTACCGGCT-1-0-0-0-0-0-0             NaN     nan  \n",
       "SC154IPFUP_AAACGGGTCTGTCCGT-1-0-0-0-0-0-0             NaN     nan  \n",
       "SC154IPFUP_AAAGATGAGATCCCGC-1-0-0-0-0-0-0             NaN     nan  \n",
       "SC154IPFUP_AAAGATGAGATGCGAC-1-0-0-0-0-0-0             NaN     nan  \n",
       "...                                                   ...     ...  \n",
       "484C_TTGACTTTCATCTGCC-1-0-0-1                         NaN     nan  \n",
       "484C_TTTACTGCAAATTGCC-1-0-0-1                         NaN     nan  \n",
       "484C_TTTATGCCAATAGAGT-1-0-0-1                         NaN     nan  \n",
       "484C_TTTATGCTCGATAGAA-1-0-0-1                         NaN     nan  \n",
       "484C_TTTGGTTCATCGGGTC-1-0-0-1                         NaN     nan  \n",
       "\n",
       "[138341 rows x 80 columns]"
      ]
     },
     "execution_count": 6,
     "metadata": {},
     "output_type": "execute_result"
    }
   ],
   "source": [
    "ad.obs"
   ]
  },
  {
   "cell_type": "code",
   "execution_count": 7,
   "metadata": {},
   "outputs": [
    {
     "data": {
      "text/plain": [
       "control     39409\n",
       "IPF         38460\n",
       "COPD        30159\n",
       "covid       22810\n",
       "BAL (NA)     7503\n",
       "Name: disease.status, dtype: int64"
      ]
     },
     "execution_count": 7,
     "metadata": {},
     "output_type": "execute_result"
    }
   ],
   "source": [
    "ad.obs['disease.status'].value_counts()"
   ]
  },
  {
   "cell_type": "code",
   "execution_count": 8,
   "metadata": {},
   "outputs": [
    {
     "data": {
      "image/png": "[encoded data removed]",
      "text/plain": [
       "<Figure size 538.128x288 with 1 Axes>"
      ]
     },
     "metadata": {
      "needs_background": "light"
     },
     "output_type": "display_data"
    }
   ],
   "source": [
    "sc.pl.violin(ad, 'MP.all.score', groupby='mdm.type', rotation=90) # , hue='mdm.type'"
   ]
  },
  {
   "cell_type": "code",
   "execution_count": 9,
   "metadata": {},
   "outputs": [
    {
     "data": {
      "text/plain": [
       "adams       90477\n",
       "budinger    22810\n",
       "morse       17551\n",
       "BAL          7503\n",
       "Name: study, dtype: int64"
      ]
     },
     "execution_count": 9,
     "metadata": {},
     "output_type": "execute_result"
    }
   ],
   "source": [
    "ad.obs['study'].value_counts()"
   ]
  },
  {
   "cell_type": "code",
   "execution_count": 10,
   "metadata": {},
   "outputs": [
    {
     "data": {
      "text/plain": [
       "(138341, 17656)"
      ]
     },
     "execution_count": 10,
     "metadata": {},
     "output_type": "execute_result"
    }
   ],
   "source": [
    "ad.shape"
   ]
  },
  {
   "cell_type": "markdown",
   "metadata": {},
   "source": [
    "### add the mdm annotation"
   ]
  },
  {
   "cell_type": "code",
   "execution_count": 11,
   "metadata": {},
   "outputs": [
    {
     "name": "stdout",
     "output_type": "stream",
     "text": [
      "bal\n",
      "True ../data/bal/bal.h5ad\n",
      "True ../data/bal/bal.h5ad\n"
     ]
    },
    {
     "name": "stderr",
     "output_type": "stream",
     "text": [
      "/mnt/znas/icb_zstore01/groups/ml01/workspace/ignacio.ibarra/theislab/saliba_macrophages/notebooks/utils.py:93: PerformanceWarning: DataFrame is highly fragmented.  This is usually the result of calling `frame.insert` many times, which has poor performance.  Consider joining all columns at once using pd.concat(axis=1) instead.  To get a de-fragmented frame, use `newframe = frame.copy()`\n",
      "  bal.obs['patient.id'] = bal.obs['patient']\n",
      "Variable names are not unique. To make them unique, call `.var_names_make_unique`.\n",
      "Variable names are not unique. To make them unique, call `.var_names_make_unique`.\n",
      "/mnt/znas/icb_zstore01/groups/ml01/workspace/ignacio.ibarra/theislab/saliba_macrophages/notebooks/utils.py:105: PerformanceWarning: DataFrame is highly fragmented.  This is usually the result of calling `frame.insert` many times, which has poor performance.  Consider joining all columns at once using pd.concat(axis=1) instead.  To get a de-fragmented frame, use `newframe = frame.copy()`\n",
      "  bal.obs['study'] = 'BAL'\n",
      "/mnt/znas/icb_zstore01/groups/ml01/workspace/ignacio.ibarra/theislab/saliba_macrophages/notebooks/utils.py:106: PerformanceWarning: DataFrame is highly fragmented.  This is usually the result of calling `frame.insert` many times, which has poor performance.  Consider joining all columns at once using pd.concat(axis=1) instead.  To get a de-fragmented frame, use `newframe = frame.copy()`\n",
      "  bal.obs['disease.status'] = 'BAL (NA)'\n",
      "/mnt/znas/icb_zstore01/groups/ml01/workspace/ignacio.ibarra/theislab/saliba_macrophages/notebooks/utils.py:107: PerformanceWarning: DataFrame is highly fragmented.  This is usually the result of calling `frame.insert` many times, which has poor performance.  Consider joining all columns at once using pd.concat(axis=1) instead.  To get a de-fragmented frame, use `newframe = frame.copy()`\n",
      "  bal.obs['cell.type'] = bal.obs['Celltype_2']\n",
      "Trying to set attribute `.obs` of view, copying.\n",
      "/home/icb/ignacio.ibarra/miniconda3/envs/covid_macrophages_integration/lib/python3.7/site-packages/anndata/_core/views.py:31: PerformanceWarning: DataFrame is highly fragmented.  This is usually the result of calling `frame.insert` many times, which has poor performance.  Consider joining all columns at once using pd.concat(axis=1) instead.  To get a de-fragmented frame, use `newframe = frame.copy()`\n",
      "  container[idx] = value\n"
     ]
    },
    {
     "name": "stdout",
     "output_type": "stream",
     "text": [
      "adding annotation from bal mdm...\n",
      "scoring genes...\n",
      "scoring MP.markers 20\n",
      "scoring MP.others 10\n",
      "scoring MP.all 31\n"
     ]
    }
   ],
   "source": [
    "bal = get_bal()"
   ]
  },
  {
   "cell_type": "code",
   "execution_count": 12,
   "metadata": {},
   "outputs": [
    {
     "data": {
      "text/plain": [
       "Index(['AAACCCACAAGCAATA-2', 'AAAGAACGTGTCCGTG-2', 'AAAGGGCCAAGCGCAA-2',\n",
       "       'AAAGGGCCAGCGAGTA-2', 'AAAGGTACACGGTGTC-2', 'AAAGTCCCAAGGCCTC-2',\n",
       "       'AAAGTCCCACATACTG-2', 'AAAGTCCTCCTCAGGG-2', 'AAAGTCCTCTTGAGCA-2',\n",
       "       'AAAGTGAGTTACCCTC-2',\n",
       "       ...\n",
       "       'TTCCTAAAGTGCTCAT-8', 'TTCCTCTCATCAGTCA-8', 'TTGATGGAGTTGCTGT-8',\n",
       "       'TTGCCTGAGCAACAAT-8', 'TTGGATGTCAACCGAT-8', 'TTGGGATCAGCTACTA-8',\n",
       "       'TTTGACTAGGTTCTTG-8', 'TTTGGTTCAAGTGCTT-8', 'TTTGTTGCAATGAGCG-8',\n",
       "       'TTTGTTGGTAGTAAGT-8'],\n",
       "      dtype='object', length=7503)"
      ]
     },
     "execution_count": 12,
     "metadata": {},
     "output_type": "execute_result"
    }
   ],
   "source": [
    "bal.obs.index"
   ]
  },
  {
   "cell_type": "code",
   "execution_count": 14,
   "metadata": {},
   "outputs": [
    {
     "data": {
      "text/plain": [
       "MDM 2        2006\n",
       "MDM 3B       1518\n",
       "MDM 3A       1426\n",
       "MDM 1        1023\n",
       "AM 2          929\n",
       "AM 1          168\n",
       "Undefined      75\n",
       "Name: mdm.type, dtype: int64"
      ]
     },
     "execution_count": 14,
     "metadata": {},
     "output_type": "execute_result"
    }
   ],
   "source": [
    "bal_mdm = sc.read_h5ad('../data/bal/bal_mdm.h5ad')\n",
    "bal.obs['mdm.type'] = bal.obs.index.map(bal_mdm.obs.Cluster.to_dict())\n",
    "bal.obs['mdm.type'].value_counts()"
   ]
  },
  {
   "cell_type": "code",
   "execution_count": 16,
   "metadata": {},
   "outputs": [
    {
     "data": {
      "text/plain": [
       "2 Mono/Mp          3002\n",
       "3 SPP1/LGMN-Mp     1274\n",
       "5 INHBA-AMp        1064\n",
       "1 FCN1-Mono        1027\n",
       "4 SPP1/TREM2-Mp     866\n",
       "6 Prolif. AMp       207\n",
       "Low quality         148\n",
       "Name: x, dtype: int64"
      ]
     },
     "execution_count": 16,
     "metadata": {},
     "output_type": "execute_result"
    }
   ],
   "source": [
    "# here we update the annotation based on labels that Oliver provided on 03.15.2021\n",
    "annot_new = pd.read_csv('../data/BAL-Mac_labels.csv', index_col=0)\n",
    "annot_new['found'] = annot_new.index.isin(bal.obs.index)\n",
    "\n",
    "bal.obs['mdm.type'] = bal.obs.index.map(annot_new['x'].to_dict())\n",
    "annot_new['x'].value_counts()"
   ]
  },
  {
   "cell_type": "code",
   "execution_count": 17,
   "metadata": {},
   "outputs": [
    {
     "data": {
      "text/plain": [
       "2 Mono/Mp          2951\n",
       "3 SPP1/LGMN-Mp     1190\n",
       "1 FCN1-Mono         992\n",
       "5 INHBA-AMp         916\n",
       "4 SPP1/TREM2-Mp     819\n",
       "6 Prolif. AMp       175\n",
       "Low quality         102\n",
       "Name: mdm.type, dtype: int64"
      ]
     },
     "execution_count": 17,
     "metadata": {},
     "output_type": "execute_result"
    }
   ],
   "source": [
    "bal.obs['mdm.type'].value_counts()"
   ]
  },
  {
   "cell_type": "code",
   "execution_count": 18,
   "metadata": {},
   "outputs": [
    {
     "data": {
      "text/plain": [
       "array([ 443, 7145])"
      ]
     },
     "execution_count": 18,
     "metadata": {},
     "output_type": "execute_result"
    }
   ],
   "source": [
    "np.bincount(annot_new.index.isin(bal.obs.index))"
   ]
  },
  {
   "cell_type": "code",
   "execution_count": 19,
   "metadata": {},
   "outputs": [
    {
     "data": {
      "text/plain": [
       "(7503, 27007)"
      ]
     },
     "execution_count": 19,
     "metadata": {},
     "output_type": "execute_result"
    }
   ],
   "source": [
    "bal.shape"
   ]
  },
  {
   "cell_type": "code",
   "execution_count": 20,
   "metadata": {},
   "outputs": [
    {
     "data": {
      "text/plain": [
       "2 Mono/Mp          2951\n",
       "3 SPP1/LGMN-Mp     1190\n",
       "1 FCN1-Mono         992\n",
       "5 INHBA-AMp         916\n",
       "4 SPP1/TREM2-Mp     819\n",
       "Others (COVID)      358\n",
       "6 Prolif. AMp       175\n",
       "Low quality         102\n",
       "Name: mdm.type, dtype: int64"
      ]
     },
     "execution_count": 20,
     "metadata": {},
     "output_type": "execute_result"
    }
   ],
   "source": [
    "bal.obs['mdm.type'] = np.where(pd.isnull(bal.obs['mdm.type']), 'Others (COVID)', bal.obs['mdm.type'])\n",
    "bal.obs['mdm.type'].value_counts()\n"
   ]
  },
  {
   "cell_type": "code",
   "execution_count": 21,
   "metadata": {},
   "outputs": [],
   "source": [
    "ad.obs['mdm.type'] = np.where(ad.obs['study'] == 'BAL', ad.obs.index.str[:-10].map(bal.obs['mdm.type'].to_dict()), 'Others (COVID)')\n",
    "ad.obs['mdm.type'] = np.where(ad.obs['study'] != 'BAL', 'Others (A/M/B)', ad.obs['mdm.type'])\n",
    "# bal.obs['mdm.type'] = np.where(pd.isnull(bal.obs['mdm.type']), 'Others (COVID)', bal.obs['mdm.type'])\n",
    "# ad.obs['mdm.type'] = np.where(ad.obs['study'] == 'BAL', ad.obs.index.str[:-4].map(bal.obs['mdm.type'].to_dict()), 'Others (Adams/Morse)')"
   ]
  },
  {
   "cell_type": "code",
   "execution_count": 22,
   "metadata": {},
   "outputs": [
    {
     "data": {
      "text/plain": [
       "Others (A/M/B)     130838\n",
       "2 Mono/Mp            2951\n",
       "3 SPP1/LGMN-Mp       1190\n",
       "1 FCN1-Mono           992\n",
       "5 INHBA-AMp           916\n",
       "4 SPP1/TREM2-Mp       819\n",
       "Others (COVID)        358\n",
       "6 Prolif. AMp         175\n",
       "Low quality           102\n",
       "Name: mdm.type, dtype: int64"
      ]
     },
     "execution_count": 22,
     "metadata": {},
     "output_type": "execute_result"
    }
   ],
   "source": [
    "ad.obs['mdm.type'].value_counts()"
   ]
  },
  {
   "cell_type": "code",
   "execution_count": 23,
   "metadata": {},
   "outputs": [
    {
     "name": "stdout",
     "output_type": "stream",
     "text": [
      "loaded...\n"
     ]
    }
   ],
   "source": [
    "print('loaded...')"
   ]
  },
  {
   "cell_type": "code",
   "execution_count": 24,
   "metadata": {},
   "outputs": [
    {
     "data": {
      "text/html": [
       "<div>\n",
       "<style scoped>\n",
       "    .dataframe tbody tr th:only-of-type {\n",
       "        vertical-align: middle;\n",
       "    }\n",
       "\n",
       "    .dataframe tbody tr th {\n",
       "        vertical-align: top;\n",
       "    }\n",
       "\n",
       "    .dataframe thead th {\n",
       "        text-align: right;\n",
       "    }\n",
       "</style>\n",
       "<table border=\"1\" class=\"dataframe\">\n",
       "  <thead>\n",
       "    <tr style=\"text-align: right;\">\n",
       "      <th></th>\n",
       "      <th>sample.id</th>\n",
       "      <th>study</th>\n",
       "      <th>patient.id</th>\n",
       "      <th>disease.status</th>\n",
       "    </tr>\n",
       "  </thead>\n",
       "  <tbody>\n",
       "    <tr>\n",
       "      <th>SC154IPFUP_AAACCTGCATCACGAT-1-0-0-0-0-0-0</th>\n",
       "      <td>SC154IPFUP</td>\n",
       "      <td>morse</td>\n",
       "      <td>SC154</td>\n",
       "      <td>IPF</td>\n",
       "    </tr>\n",
       "    <tr>\n",
       "      <th>SC93IPFLOW_AAACCTGCAGGTCCAC-1-0-0-0-0-0-0</th>\n",
       "      <td>SC93IPFLOW</td>\n",
       "      <td>morse</td>\n",
       "      <td>SC93</td>\n",
       "      <td>IPF</td>\n",
       "    </tr>\n",
       "    <tr>\n",
       "      <th>SC94IPFUP_AAACCTGAGTAGCCGA-1-0-0-0-0-0-0</th>\n",
       "      <td>SC94IPFUP</td>\n",
       "      <td>morse</td>\n",
       "      <td>SC94</td>\n",
       "      <td>IPF</td>\n",
       "    </tr>\n",
       "    <tr>\n",
       "      <th>SC95IPFLOW_AAAGCAAGTACAGTTC-1-0-0-0-0-0-0</th>\n",
       "      <td>SC95IPFLOW</td>\n",
       "      <td>morse</td>\n",
       "      <td>SC95</td>\n",
       "      <td>IPF</td>\n",
       "    </tr>\n",
       "    <tr>\n",
       "      <th>SC153IPFLOW_AAACCTGTCGAACGGA-1-0-0-0-0-0-0</th>\n",
       "      <td>SC153IPFLOW</td>\n",
       "      <td>morse</td>\n",
       "      <td>SC153</td>\n",
       "      <td>IPF</td>\n",
       "    </tr>\n",
       "    <tr>\n",
       "      <th>SC87IPFLOW_AAACCTGAGAGCTGGT-1-0-0-0-0-0-0</th>\n",
       "      <td>SC87IPFLOW</td>\n",
       "      <td>morse</td>\n",
       "      <td>SC87</td>\n",
       "      <td>IPF</td>\n",
       "    </tr>\n",
       "    <tr>\n",
       "      <th>SC89IPFLOW_AAACCTGCAAGTCATC-1-0-0-0-0-0-0</th>\n",
       "      <td>SC89IPFLOW</td>\n",
       "      <td>morse</td>\n",
       "      <td>SC89</td>\n",
       "      <td>IPF</td>\n",
       "    </tr>\n",
       "    <tr>\n",
       "      <th>SC88IPFUP_AAACCTGGTATGAATG-1-0-0-0-0-0-0</th>\n",
       "      <td>SC88IPFUP</td>\n",
       "      <td>morse</td>\n",
       "      <td>SC88</td>\n",
       "      <td>IPF</td>\n",
       "    </tr>\n",
       "    <tr>\n",
       "      <th>SC56NOR_AAACCTGCACGGTAGA-1-0-0-0-0-0-0</th>\n",
       "      <td>SC56NOR</td>\n",
       "      <td>morse</td>\n",
       "      <td>SC56</td>\n",
       "      <td>control</td>\n",
       "    </tr>\n",
       "    <tr>\n",
       "      <th>SC155NORLOW_AAACCTGAGACAAGCC-1-0-0-0-0-0-0</th>\n",
       "      <td>SC155NORLOW</td>\n",
       "      <td>morse</td>\n",
       "      <td>SC155</td>\n",
       "      <td>control</td>\n",
       "    </tr>\n",
       "    <tr>\n",
       "      <th>SC14NOR_AAAGATCTTTACTC-1-0-0-0-0-0-0</th>\n",
       "      <td>SC14NOR</td>\n",
       "      <td>morse</td>\n",
       "      <td>SC14</td>\n",
       "      <td>control</td>\n",
       "    </tr>\n",
       "    <tr>\n",
       "      <th>SC156NORUP_AAACCTGAGCACGCCT-1-0-0-0-0-0-0</th>\n",
       "      <td>SC156NORUP</td>\n",
       "      <td>morse</td>\n",
       "      <td>SC156</td>\n",
       "      <td>control</td>\n",
       "    </tr>\n",
       "    <tr>\n",
       "      <th>SC31DNOR_AAACATACCGTACA-1-0-0-0-0-0-0</th>\n",
       "      <td>SC31DNOR</td>\n",
       "      <td>morse</td>\n",
       "      <td>SC31D</td>\n",
       "      <td>control</td>\n",
       "    </tr>\n",
       "    <tr>\n",
       "      <th>SC59NOR_AAACCTGAGATGGGTC-1-0-0-0-0-0-0</th>\n",
       "      <td>SC59NOR</td>\n",
       "      <td>morse</td>\n",
       "      <td>SC59</td>\n",
       "      <td>control</td>\n",
       "    </tr>\n",
       "    <tr>\n",
       "      <th>SC31NOR_AAACGCTGAACCGT-1-0-0-0-0-0-0</th>\n",
       "      <td>SC31NOR</td>\n",
       "      <td>morse</td>\n",
       "      <td>SC31</td>\n",
       "      <td>control</td>\n",
       "    </tr>\n",
       "    <tr>\n",
       "      <th>SC45NOR_AAACCTGGTCATGCCG-1-0-0-0-0-0-0</th>\n",
       "      <td>SC45NOR</td>\n",
       "      <td>morse</td>\n",
       "      <td>SC45</td>\n",
       "      <td>control</td>\n",
       "    </tr>\n",
       "  </tbody>\n",
       "</table>\n",
       "</div>"
      ],
      "text/plain": [
       "                                              sample.id  study patient.id  \\\n",
       "SC154IPFUP_AAACCTGCATCACGAT-1-0-0-0-0-0-0    SC154IPFUP  morse      SC154   \n",
       "SC93IPFLOW_AAACCTGCAGGTCCAC-1-0-0-0-0-0-0    SC93IPFLOW  morse       SC93   \n",
       "SC94IPFUP_AAACCTGAGTAGCCGA-1-0-0-0-0-0-0      SC94IPFUP  morse       SC94   \n",
       "SC95IPFLOW_AAAGCAAGTACAGTTC-1-0-0-0-0-0-0    SC95IPFLOW  morse       SC95   \n",
       "SC153IPFLOW_AAACCTGTCGAACGGA-1-0-0-0-0-0-0  SC153IPFLOW  morse      SC153   \n",
       "SC87IPFLOW_AAACCTGAGAGCTGGT-1-0-0-0-0-0-0    SC87IPFLOW  morse       SC87   \n",
       "SC89IPFLOW_AAACCTGCAAGTCATC-1-0-0-0-0-0-0    SC89IPFLOW  morse       SC89   \n",
       "SC88IPFUP_AAACCTGGTATGAATG-1-0-0-0-0-0-0      SC88IPFUP  morse       SC88   \n",
       "SC56NOR_AAACCTGCACGGTAGA-1-0-0-0-0-0-0          SC56NOR  morse       SC56   \n",
       "SC155NORLOW_AAACCTGAGACAAGCC-1-0-0-0-0-0-0  SC155NORLOW  morse      SC155   \n",
       "SC14NOR_AAAGATCTTTACTC-1-0-0-0-0-0-0            SC14NOR  morse       SC14   \n",
       "SC156NORUP_AAACCTGAGCACGCCT-1-0-0-0-0-0-0    SC156NORUP  morse      SC156   \n",
       "SC31DNOR_AAACATACCGTACA-1-0-0-0-0-0-0          SC31DNOR  morse      SC31D   \n",
       "SC59NOR_AAACCTGAGATGGGTC-1-0-0-0-0-0-0          SC59NOR  morse       SC59   \n",
       "SC31NOR_AAACGCTGAACCGT-1-0-0-0-0-0-0            SC31NOR  morse       SC31   \n",
       "SC45NOR_AAACCTGGTCATGCCG-1-0-0-0-0-0-0          SC45NOR  morse       SC45   \n",
       "\n",
       "                                           disease.status  \n",
       "SC154IPFUP_AAACCTGCATCACGAT-1-0-0-0-0-0-0             IPF  \n",
       "SC93IPFLOW_AAACCTGCAGGTCCAC-1-0-0-0-0-0-0             IPF  \n",
       "SC94IPFUP_AAACCTGAGTAGCCGA-1-0-0-0-0-0-0              IPF  \n",
       "SC95IPFLOW_AAAGCAAGTACAGTTC-1-0-0-0-0-0-0             IPF  \n",
       "SC153IPFLOW_AAACCTGTCGAACGGA-1-0-0-0-0-0-0            IPF  \n",
       "SC87IPFLOW_AAACCTGAGAGCTGGT-1-0-0-0-0-0-0             IPF  \n",
       "SC89IPFLOW_AAACCTGCAAGTCATC-1-0-0-0-0-0-0             IPF  \n",
       "SC88IPFUP_AAACCTGGTATGAATG-1-0-0-0-0-0-0              IPF  \n",
       "SC56NOR_AAACCTGCACGGTAGA-1-0-0-0-0-0-0            control  \n",
       "SC155NORLOW_AAACCTGAGACAAGCC-1-0-0-0-0-0-0        control  \n",
       "SC14NOR_AAAGATCTTTACTC-1-0-0-0-0-0-0              control  \n",
       "SC156NORUP_AAACCTGAGCACGCCT-1-0-0-0-0-0-0         control  \n",
       "SC31DNOR_AAACATACCGTACA-1-0-0-0-0-0-0             control  \n",
       "SC59NOR_AAACCTGAGATGGGTC-1-0-0-0-0-0-0            control  \n",
       "SC31NOR_AAACGCTGAACCGT-1-0-0-0-0-0-0              control  \n",
       "SC45NOR_AAACCTGGTCATGCCG-1-0-0-0-0-0-0            control  "
      ]
     },
     "execution_count": 24,
     "metadata": {},
     "output_type": "execute_result"
    }
   ],
   "source": [
    "ad.obs[ad.obs['study'] == 'morse'][['sample.id', 'study', 'patient.id', 'disease.status']].drop_duplicates('patient.id').sort_values('disease.status') # ['patient.id'].value_counts().head(20)"
   ]
  },
  {
   "cell_type": "code",
   "execution_count": 25,
   "metadata": {},
   "outputs": [],
   "source": [
    "# ad.var[ad.var['ensembl-0-0'].str.contains('ENSG00000095970')]"
   ]
  },
  {
   "cell_type": "markdown",
   "metadata": {},
   "source": [
    "### add the mdm annotation"
   ]
  },
  {
   "cell_type": "code",
   "execution_count": 26,
   "metadata": {},
   "outputs": [
    {
     "data": {
      "text/plain": [
       "Macrophage_Alveolar                36666\n",
       "Macrophage                         32089\n",
       "SPP1hi Macrophage                  10593\n",
       "M2                                 10453\n",
       "M3                                  8845\n",
       "Macrophages                         7503\n",
       "FABP4hi Macrophage                  6958\n",
       "Macrophage_Outlier_B                4223\n",
       "Macrophage_MT-tRNAs                 2077\n",
       "Macrophage_Outlier_C                2068\n",
       "nocytes                             1968\n",
       "Macrophage_Outlier_A                1690\n",
       "Macrophage_Outlier_F                1688\n",
       "Macrophage_Alveolar_CellCycle_A     1472\n",
       "Macrophage_Alveolar_CellCycle_B     1398\n",
       "Macrophage_Alveolar_Outlier_A       1263\n",
       "Macrophage_Alveolar_Outlier_B       1219\n",
       "Macrophage_CellCycle_B              1163\n",
       "1                                   1030\n",
       "Macrophage_Outlier_D                 959\n",
       "Macrophage_Outlier_HSPs              915\n",
       "Macrophage_Alveolar_Outlier_D        376\n",
       "Macrophage_Alveolar_Outlier_C        364\n",
       "Macrophage_CellCycle_A               343\n",
       "2                                    290\n",
       "Macrophage_Alveolar_Outlier_E        256\n",
       "M1                                   224\n",
       "Macrophage_Outlier_E                 210\n",
       "Macrophage_Alveolar_Outlier_F         31\n",
       "Macrophage_CellCycle_MT-tRNAs          7\n",
       "Name: cell.type, dtype: int64"
      ]
     },
     "execution_count": 26,
     "metadata": {},
     "output_type": "execute_result"
    }
   ],
   "source": [
    "ad.obs['cell.type'].value_counts()"
   ]
  },
  {
   "cell_type": "code",
   "execution_count": 27,
   "metadata": {},
   "outputs": [
    {
     "data": {
      "text/plain": [
       "Others (A/M/B)     130838\n",
       "2 Mono/Mp            2951\n",
       "3 SPP1/LGMN-Mp       1190\n",
       "1 FCN1-Mono           992\n",
       "5 INHBA-AMp           916\n",
       "4 SPP1/TREM2-Mp       819\n",
       "Others (COVID)        358\n",
       "6 Prolif. AMp         175\n",
       "Low quality           102\n",
       "Name: mdm.type, dtype: int64"
      ]
     },
     "execution_count": 27,
     "metadata": {},
     "output_type": "execute_result"
    }
   ],
   "source": [
    "ad.obs['mdm.type'].value_counts()"
   ]
  },
  {
   "cell_type": "code",
   "execution_count": 28,
   "metadata": {},
   "outputs": [],
   "source": [
    "import matplotlib.pyplot as plt\n",
    "import seaborn as sns\n",
    "%matplotlib inline"
   ]
  },
  {
   "cell_type": "code",
   "execution_count": 29,
   "metadata": {},
   "outputs": [],
   "source": [
    "bal = ad[ad.obs['study'] == 'BAL',:]"
   ]
  },
  {
   "cell_type": "code",
   "execution_count": 30,
   "metadata": {},
   "outputs": [
    {
     "data": {
      "text/plain": [
       "(array([0, 1, 2, 3, 4, 5, 6]),\n",
       " [Text(0, 0, 'Alveolar-Mac'),\n",
       "  Text(1, 0, 'B/DC'),\n",
       "  Text(2, 0, 'Epithelia'),\n",
       "  Text(3, 0, 'Mo-Mac'),\n",
       "  Text(4, 0, 'Neutrophil'),\n",
       "  Text(5, 0, 'Plasmablast'),\n",
       "  Text(6, 0, 'T/NK')])"
      ]
     },
     "execution_count": 30,
     "metadata": {},
     "output_type": "execute_result"
    },
    {
     "data": {
      "image/png": "[encoded data removed]",
      "text/plain": [
       "<Figure size 432x288 with 2 Axes>"
      ]
     },
     "metadata": {
      "needs_background": "light"
     },
     "output_type": "display_data"
    }
   ],
   "source": [
    "plt.subplot(1, 2, 1)\n",
    "sns.violinplot(data=bal.obs, x='Celltype', y='MP.markers.score')\n",
    "plt.xticks(rotation=45, ha='right')\n",
    "plt.subplot(1, 2, 2)\n",
    "sns.violinplot(data=bal.obs, x='Celltype', y='MP.others.score')\n",
    "plt.xticks(rotation=45, ha='right')"
   ]
  },
  {
   "cell_type": "code",
   "execution_count": 31,
   "metadata": {},
   "outputs": [
    {
     "data": {
      "text/plain": [
       "(array([0, 1, 2, 3, 4, 5, 6, 7]),\n",
       " [Text(0, 0, '2 Mono/Mp'),\n",
       "  Text(1, 0, '1 FCN1-Mono'),\n",
       "  Text(2, 0, '3 SPP1/LGMN-Mp'),\n",
       "  Text(3, 0, 'Others (COVID)'),\n",
       "  Text(4, 0, 'Low quality'),\n",
       "  Text(5, 0, '4 SPP1/TREM2-Mp'),\n",
       "  Text(6, 0, '6 Prolif. AMp'),\n",
       "  Text(7, 0, '5 INHBA-AMp')])"
      ]
     },
     "execution_count": 31,
     "metadata": {},
     "output_type": "execute_result"
    },
    {
     "data": {
      "image/png": "[encoded data removed]",
      "text/plain": [
       "<Figure size 432x288 with 2 Axes>"
      ]
     },
     "metadata": {
      "needs_background": "light"
     },
     "output_type": "display_data"
    }
   ],
   "source": [
    "plt.subplot(1, 2, 1)\n",
    "sns.violinplot(data=bal.obs, x='mdm.type', y='MP.markers.score')\n",
    "plt.xticks(rotation=45, ha='right')\n",
    "plt.subplot(1, 2, 2)\n",
    "sns.violinplot(data=bal.obs, x='mdm.type', y='MP.others.score')\n",
    "plt.xticks(rotation=45, ha='right')"
   ]
  },
  {
   "cell_type": "code",
   "execution_count": 32,
   "metadata": {},
   "outputs": [
    {
     "data": {
      "text/plain": [
       "control            39409\n",
       "IPF                38460\n",
       "COPD               30159\n",
       "covid              22810\n",
       "2 Mono/Mp           2951\n",
       "3 SPP1/LGMN-Mp      1190\n",
       "1 FCN1-Mono          992\n",
       "5 INHBA-AMp          916\n",
       "4 SPP1/TREM2-Mp      819\n",
       "Others (COVID)       358\n",
       "6 Prolif. AMp        175\n",
       "Low quality          102\n",
       "Name: disease.status, dtype: int64"
      ]
     },
     "execution_count": 32,
     "metadata": {},
     "output_type": "execute_result"
    }
   ],
   "source": [
    "ad.obs['disease.status'] = np.where(ad.obs['study'] == 'BAL', ad.obs['mdm.type'], ad.obs['disease.status'])\n",
    "# ad.obs['disease.status'] = np.where(ad.obs['disease.status'] == 'BAL', ad.obs['Celltype'], ad.obs['disease.status'])\n",
    "ad.obs['disease.status'].value_counts()"
   ]
  },
  {
   "cell_type": "code",
   "execution_count": 33,
   "metadata": {},
   "outputs": [
    {
     "data": {
      "text/plain": [
       "{'1 FCN1-Mono',\n",
       " '2 Mono/Mp',\n",
       " '3 SPP1/LGMN-Mp',\n",
       " '4 SPP1/TREM2-Mp',\n",
       " '5 INHBA-AMp',\n",
       " '6 Prolif. AMp',\n",
       " 'COPD',\n",
       " 'IPF',\n",
       " 'Low quality',\n",
       " 'Others (COVID)',\n",
       " 'control',\n",
       " 'covid'}"
      ]
     },
     "execution_count": 33,
     "metadata": {},
     "output_type": "execute_result"
    }
   ],
   "source": [
    "disease = ad.obs['disease.status']\n",
    "set(disease)"
   ]
  },
  {
   "cell_type": "code",
   "execution_count": 34,
   "metadata": {},
   "outputs": [
    {
     "name": "stdout",
     "output_type": "stream",
     "text": [
      "WARNING: You’re trying to run this on 17656 dimensions of `.X`, if you really want this, set `use_rep='X'`.\n",
      "         Falling back to preprocessing with `sc.pp.pca` and default params.\n"
     ]
    }
   ],
   "source": [
    "# calculate neighbors in the embedding of without budinger\n",
    "ad_no_budinger = ad[ad.obs['study'] != 'budinger']\n",
    "ad_no_budinger.shape\n",
    "ad_no_budinger.obs.groupby('study').size()\n",
    "sc.pp.neighbors(ad_no_budinger)"
   ]
  },
  {
   "cell_type": "code",
   "execution_count": 35,
   "metadata": {},
   "outputs": [
    {
     "data": {
      "text/plain": [
       "study\n",
       "adams       90477\n",
       "budinger    22810\n",
       "morse       17551\n",
       "dtype: int64"
      ]
     },
     "execution_count": 35,
     "metadata": {},
     "output_type": "execute_result"
    }
   ],
   "source": [
    "# calculate neighbors in the embedding without bal\n",
    "ad_no_bal = ad[ad.obs['study'] != 'BAL']\n",
    "ad_no_bal.shape\n",
    "ad_no_bal.obs.groupby('study').size()\n",
    "# sc.pp.neighbors(ad_no_bal)"
   ]
  },
  {
   "cell_type": "markdown",
   "metadata": {},
   "source": [
    "### Calculation of count scores based on distance between cells in the embeddings"
   ]
  },
  {
   "cell_type": "markdown",
   "metadata": {},
   "source": [
    "- This function needs to be executed several times\n",
    "- once all minus budinger, and once for all minus bal"
   ]
  },
  {
   "cell_type": "code",
   "execution_count": 36,
   "metadata": {},
   "outputs": [],
   "source": [
    "def get_scores(ad):\n",
    "    import numpy as np\n",
    "    from itertools import combinations\n",
    "\n",
    "    disease = ad.obs['disease.status']\n",
    "    conn = ad.uns['neighbors']['connectivities']\n",
    "\n",
    "    masks = []\n",
    "    obs = []\n",
    "    masks = []\n",
    "    positions = np.arange(ad.shape[0]) # .reshape(w, h)\n",
    "    conn_array = conn.toarray() if (type(conn) != np.ndarray) else conn\n",
    "\n",
    "    pos_by_pair = {}\n",
    "\n",
    "    uniq = set(disease)\n",
    "    \n",
    "    print(uniq)\n",
    "    va = [a for a in uniq if a not in {'IPF', 'COPD', 'control'} and str(a) != 'nan']\n",
    "    vb = [b for b in uniq if b in {'IPF', 'COPD', 'control'}]\n",
    "\n",
    "    for i in va:\n",
    "        for j in vb:\n",
    "            print(i, j)\n",
    "\n",
    "            x = positions[disease == i]\n",
    "            y = positions[disease == j]\n",
    "\n",
    "\n",
    "            xy = cartesian([x, y])\n",
    "            x, y = xy[:, 0].flatten(), xy[:, 1].flatten()\n",
    "\n",
    "            edges = conn_array[x, y]\n",
    "            edges = np.asarray(edges).flatten()\n",
    "            x_nodes = x[edges > 0]\n",
    "            y_nodes = y[edges > 0]\n",
    "            n_nodes_x, n_nodes_y = x_nodes.shape[0], y_nodes.shape[0]\n",
    "            nx_uniq, ny_uniq = np.unique(x_nodes).shape[0], np.unique(y_nodes).shape[0]\n",
    "\n",
    "            k = i + ':' + j\n",
    "            if not k in pos_by_pair:\n",
    "                pos_by_pair[i + ':' + j] = {}\n",
    "            pos_by_pair[i + ':' + j][i] = np.unique(x_nodes)\n",
    "            pos_by_pair[i + ':' + j][j] = np.unique(y_nodes)\n",
    "\n",
    "            obs.append([i, j, nx_uniq, ny_uniq, nx_uniq + ny_uniq])\n",
    "\n",
    "    scores = []\n",
    "    for mi, mdm_name in enumerate(va):\n",
    "        x = positions[disease == mdm_name]\n",
    "        print(mi, len(va), mdm_name)\n",
    "\n",
    "        idx_by_pos = {pos: idx for pos, idx in zip(list(positions[disease == mdm_name]),\n",
    "                                               list(disease[disease == mdm_name].index))}\n",
    "\n",
    "        for xi, pi in enumerate(x):\n",
    "            if xi % 250 == 0:\n",
    "                print(xi, len(x))\n",
    "\n",
    "            sel = conn_array[pi,:]\n",
    "\n",
    "            mask = (sel > 0) & (ad.obs['study'].isin({'morse', 'adams'}))\n",
    "            sel_df = ad[mask,:].obs[['study', 'disease.status']]\n",
    "            sel_df['edge.score'] = sel[mask] \n",
    "            sel_df['cell.x'] = pi\n",
    "            sel_df['cell.x.type'] = mdm_name\n",
    "            sel_df['cell.y'] = sel_df.index\n",
    "            sel_df['cell.x.id'] = idx_by_pos[pi]\n",
    "\n",
    "            # print(pi, sel_df.shape[0])\n",
    "            scores.append(sel_df.reset_index(drop=True))\n",
    "\n",
    "    import pandas as pd\n",
    "    scores = pd.concat(scores)\n",
    "    scores\n",
    "\n",
    "    from os.path import exists\n",
    "\n",
    "    print('here...')\n",
    "    \n",
    "    return scores"
   ]
  },
  {
   "cell_type": "code",
   "execution_count": 37,
   "metadata": {},
   "outputs": [],
   "source": [
    "import pandas\n",
    "from os.path import exists"
   ]
  },
  {
   "cell_type": "code",
   "execution_count": 38,
   "metadata": {},
   "outputs": [
    {
     "name": "stdout",
     "output_type": "stream",
     "text": [
      "budinger\n",
      "True ../data/budinger/budinger_input_scvi_scanpy_norm.h5ad\n",
      "scoring MP.markers 20\n",
      "scoring MP.others 10\n",
      "scoring MP.all 31\n"
     ]
    }
   ],
   "source": [
    "budinger = get_budinger()"
   ]
  },
  {
   "cell_type": "markdown",
   "metadata": {},
   "source": [
    "### Because we forgot to include mdm.type to the integrated object, we do this after integration"
   ]
  },
  {
   "cell_type": "code",
   "execution_count": 39,
   "metadata": {},
   "outputs": [
    {
     "name": "stderr",
     "output_type": "stream",
     "text": [
      "Trying to set attribute `.obs` of view, copying.\n"
     ]
    }
   ],
   "source": [
    "mdm_type_by_bc = budinger.obs.set_index('Unnamed: 0')['Cell Type'].to_dict()\n",
    "\n",
    "\n",
    "ad_no_bal.obs['mdm.type'] = np.where(ad_no_bal.obs['study'] == 'budinger', ad_no_bal.obs['Unnamed: 0'].map(mdm_type_by_bc), ad_no_bal.obs['mdm.type'])\n",
    "ad_no_bal.obs['disease.status'] = np.where((ad_no_bal.obs['study'] == 'budinger'), ad_no_bal.obs['mdm.type'], ad_no_bal.obs['disease.status'])\n"
   ]
  },
  {
   "cell_type": "code",
   "execution_count": 40,
   "metadata": {},
   "outputs": [
    {
     "data": {
      "text/plain": [
       "SC154IPFUP_AAACCTGCATCACGAT-1-0-0-0-0-0-0    nan\n",
       "SC154IPFUP_AAACGGGGTACCGGCT-1-0-0-0-0-0-0    nan\n",
       "SC154IPFUP_AAACGGGTCTGTCCGT-1-0-0-0-0-0-0    nan\n",
       "SC154IPFUP_AAAGATGAGATCCCGC-1-0-0-0-0-0-0    nan\n",
       "SC154IPFUP_AAAGATGAGATGCGAC-1-0-0-0-0-0-0    nan\n",
       "                                            ... \n",
       "484C_TTGACTTTCATCTGCC-1-0-0-1                nan\n",
       "484C_TTTACTGCAAATTGCC-1-0-0-1                nan\n",
       "484C_TTTATGCCAATAGAGT-1-0-0-1                nan\n",
       "484C_TTTATGCTCGATAGAA-1-0-0-1                nan\n",
       "484C_TTTGGTTCATCGGGTC-1-0-0-1                nan\n",
       "Name: Cluster, Length: 130838, dtype: category\n",
       "Categories (7, object): ['AM1', 'AM2', 'MoM1', 'MoM2', 'MoM3', 'Monocytes', 'nan']"
      ]
     },
     "execution_count": 40,
     "metadata": {},
     "output_type": "execute_result"
    }
   ],
   "source": [
    "ad_no_bal.obs['Cluster']"
   ]
  },
  {
   "cell_type": "code",
   "execution_count": 41,
   "metadata": {},
   "outputs": [
    {
     "data": {
      "text/plain": [
       "Others (A/M/B)    108028\n",
       "MoAM-1              8188\n",
       "MoAM-2              7665\n",
       "MoAM-3              5037\n",
       "TRAM-2               842\n",
       "TRAM-1               822\n",
       "MoAM-4               129\n",
       "TRAM-3               127\n",
       "Name: mdm.type, dtype: int64"
      ]
     },
     "execution_count": 41,
     "metadata": {},
     "output_type": "execute_result"
    }
   ],
   "source": [
    "ad_no_bal.obs['mdm.type'].value_counts()"
   ]
  },
  {
   "cell_type": "code",
   "execution_count": 42,
   "metadata": {},
   "outputs": [],
   "source": [
    "ad_no_bal.obs['mdm.type'] = np.where(ad_no_bal.obs['study'] == 'budinger', ad_no_bal.obs['Cluster'],  ad_no_bal.obs['mdm.type'])\n",
    "ad_no_bal.obs['disease.status'] = np.where((ad_no_bal.obs['study'] == 'budinger'), ad_no_bal.obs['mdm.type'], ad_no_bal.obs['disease.status'])"
   ]
  },
  {
   "cell_type": "code",
   "execution_count": 43,
   "metadata": {},
   "outputs": [
    {
     "data": {
      "text/plain": [
       "control      39409\n",
       "IPF          38460\n",
       "COPD         30159\n",
       "MoM2         10453\n",
       "MoM3          8845\n",
       "Monocytes     1968\n",
       "AM1           1030\n",
       "AM2            290\n",
       "MoM1           224\n",
       "Name: disease.status, dtype: int64"
      ]
     },
     "execution_count": 43,
     "metadata": {},
     "output_type": "execute_result"
    }
   ],
   "source": [
    "ad_no_bal.obs['disease.status'].value_counts()"
   ]
  },
  {
   "cell_type": "code",
   "execution_count": 44,
   "metadata": {},
   "outputs": [
    {
     "data": {
      "text/plain": [
       "control      309\n",
       "IPF          280\n",
       "COPD         233\n",
       "MoM2          78\n",
       "MoM3          72\n",
       "Monocytes     19\n",
       "AM1            6\n",
       "AM2            3\n",
       "Name: disease.status, dtype: int64"
      ]
     },
     "execution_count": 44,
     "metadata": {},
     "output_type": "execute_result"
    }
   ],
   "source": [
    "idx = list(ad_no_bal.obs.copy().index)\n",
    "np.random.shuffle(idx)\n",
    "idx = idx[:1000]\n",
    "ad_no_bal_sample = ad_no_bal[ad_no_bal.obs.index.isin(set(idx)),:]\n",
    "ad_no_bal_sample.obs['disease.status'].value_counts()"
   ]
  },
  {
   "cell_type": "code",
   "execution_count": 45,
   "metadata": {},
   "outputs": [
    {
     "data": {
      "text/plain": [
       "control      309\n",
       "IPF          280\n",
       "COPD         233\n",
       "MoM2          78\n",
       "MoM3          72\n",
       "Monocytes     19\n",
       "AM1            6\n",
       "AM2            3\n",
       "Name: disease.status, dtype: int64"
      ]
     },
     "execution_count": 45,
     "metadata": {},
     "output_type": "execute_result"
    }
   ],
   "source": [
    "ad_no_bal_sample.obs['disease.status'].value_counts()"
   ]
  },
  {
   "cell_type": "code",
   "execution_count": 46,
   "metadata": {},
   "outputs": [
    {
     "data": {
      "text/plain": [
       "control      39409\n",
       "IPF          38460\n",
       "COPD         30159\n",
       "MoM2         10453\n",
       "MoM3          8845\n",
       "Monocytes     1968\n",
       "AM1           1030\n",
       "AM2            290\n",
       "MoM1           224\n",
       "Name: disease.status, dtype: int64"
      ]
     },
     "execution_count": 46,
     "metadata": {},
     "output_type": "execute_result"
    }
   ],
   "source": [
    "ad_no_bal.obs['disease.status'].value_counts()"
   ]
  },
  {
   "cell_type": "code",
   "execution_count": 47,
   "metadata": {},
   "outputs": [],
   "source": [
    "import pandas as pd\n",
    "from os.path import exists"
   ]
  },
  {
   "cell_type": "code",
   "execution_count": 49,
   "metadata": {},
   "outputs": [
    {
     "name": "stdout",
     "output_type": "stream",
     "text": [
      "all_minus_budinger (115531, 17656)\n",
      "True ../data/conn_scores_by_bal_cell_revision_120k_all_minus_budinger.tsv.gz\n",
      "loading...\n",
      "all_minus_bal_sample (1000, 17656)\n",
      "True ../data/conn_scores_by_bal_cell_revision_120k_all_minus_bal_sample.tsv.gz\n",
      "loading...\n",
      "all_minus_bal (130838, 17656)\n",
      "True ../data/conn_scores_by_bal_cell_revision_120k_all_minus_bal.tsv.gz\n",
      "loading...\n"
     ]
    }
   ],
   "source": [
    "scores_by_k = {}\n",
    "for k, next_ad in zip(['all_minus_budinger', 'all_minus_bal_sample', 'all_minus_bal'],\n",
    "                      [ad_no_budinger, ad_no_bal_sample, ad_no_bal]):\n",
    "    print(k, next_ad.shape)\n",
    "    \n",
    "    p = '../data/conn_scores_by_bal_cell_revision_120k_%s.tsv.gz' % k\n",
    "    print(exists(p), p)\n",
    "    if not exists(p): # 'all_minus_bal' in k:\n",
    "        print('calculating scores...', k)\n",
    "        print(exists(p), p)\n",
    "        scores = get_scores(next_ad)\n",
    "        scores.to_csv(p, sep='\\t', compression='gzip', index=None)\n",
    "        \n",
    "    if not k in scores_by_k:\n",
    "        print('loading...')\n",
    "        scores_by_k[k] = pd.read_csv(p, sep='\\t', compression='gzip')\n",
    "        \n",
    "    "
   ]
  },
  {
   "cell_type": "code",
   "execution_count": 50,
   "metadata": {},
   "outputs": [
    {
     "data": {
      "text/plain": [
       "dict_keys(['all_minus_budinger', 'all_minus_bal_sample', 'all_minus_bal'])"
      ]
     },
     "execution_count": 50,
     "metadata": {},
     "output_type": "execute_result"
    }
   ],
   "source": [
    "scores_by_k.keys() # ['cell.x.type'].value_counts()"
   ]
  },
  {
   "cell_type": "code",
   "execution_count": 51,
   "metadata": {},
   "outputs": [
    {
     "data": {
      "text/plain": [
       "2 Mono/Mp          18292\n",
       "5 INHBA-AMp        10636\n",
       "4 SPP1/TREM2-Mp     8109\n",
       "3 SPP1/LGMN-Mp      7060\n",
       "1 FCN1-Mono         3761\n",
       "Others (COVID)      3043\n",
       "6 Prolif. AMp       1591\n",
       "Low quality          969\n",
       "Name: cell.x.type, dtype: int64"
      ]
     },
     "execution_count": 51,
     "metadata": {},
     "output_type": "execute_result"
    }
   ],
   "source": [
    "scores_by_k['all_minus_budinger']['cell.x.type'].value_counts()"
   ]
  },
  {
   "cell_type": "code",
   "execution_count": 52,
   "metadata": {},
   "outputs": [
    {
     "data": {
      "text/plain": [
       "dict_keys(['all_minus_budinger', 'all_minus_bal_sample', 'all_minus_bal'])"
      ]
     },
     "execution_count": 52,
     "metadata": {},
     "output_type": "execute_result"
    }
   ],
   "source": [
    "scores_by_k.keys()"
   ]
  },
  {
   "cell_type": "markdown",
   "metadata": {},
   "source": [
    "### Given a subset visualization attempt to plot the data"
   ]
  },
  {
   "cell_type": "code",
   "execution_count": 53,
   "metadata": {},
   "outputs": [
    {
     "name": "stdout",
     "output_type": "stream",
     "text": [
      "all_minus_budinger (53461, 7)\n",
      "all_minus_bal_sample (17, 7)\n",
      "all_minus_bal (195656, 7)\n"
     ]
    }
   ],
   "source": [
    "for k in scores_by_k:\n",
    "    print(k, scores_by_k[k].shape)"
   ]
  },
  {
   "cell_type": "code",
   "execution_count": 54,
   "metadata": {},
   "outputs": [
    {
     "data": {
      "text/html": [
       "<div>\n",
       "<style scoped>\n",
       "    .dataframe tbody tr th:only-of-type {\n",
       "        vertical-align: middle;\n",
       "    }\n",
       "\n",
       "    .dataframe tbody tr th {\n",
       "        vertical-align: top;\n",
       "    }\n",
       "\n",
       "    .dataframe thead th {\n",
       "        text-align: right;\n",
       "    }\n",
       "</style>\n",
       "<table border=\"1\" class=\"dataframe\">\n",
       "  <thead>\n",
       "    <tr style=\"text-align: right;\">\n",
       "      <th></th>\n",
       "      <th>study</th>\n",
       "      <th>disease.status</th>\n",
       "      <th>edge.score</th>\n",
       "      <th>cell.x</th>\n",
       "      <th>cell.x.type</th>\n",
       "      <th>cell.y</th>\n",
       "      <th>cell.x.id</th>\n",
       "    </tr>\n",
       "  </thead>\n",
       "  <tbody>\n",
       "    <tr>\n",
       "      <th>0</th>\n",
       "      <td>morse</td>\n",
       "      <td>IPF</td>\n",
       "      <td>0.232685</td>\n",
       "      <td>17551</td>\n",
       "      <td>MoM2</td>\n",
       "      <td>SC154IPFUP_ATCTGCCTCACCGGGT-1-0-0-0-0-0-0</td>\n",
       "      <td>63860-1-0-0-0</td>\n",
       "    </tr>\n",
       "    <tr>\n",
       "      <th>1</th>\n",
       "      <td>adams</td>\n",
       "      <td>IPF</td>\n",
       "      <td>0.180219</td>\n",
       "      <td>17551</td>\n",
       "      <td>MoM2</td>\n",
       "      <td>210CO_GGGTTGCTCTGCCAGG-1-0-0-1-0</td>\n",
       "      <td>63860-1-0-0-0</td>\n",
       "    </tr>\n",
       "    <tr>\n",
       "      <th>2</th>\n",
       "      <td>adams</td>\n",
       "      <td>control</td>\n",
       "      <td>0.293829</td>\n",
       "      <td>17551</td>\n",
       "      <td>MoM2</td>\n",
       "      <td>092C_TCGAGGCTCGCTTAGA-1-0-0-1</td>\n",
       "      <td>63860-1-0-0-0</td>\n",
       "    </tr>\n",
       "    <tr>\n",
       "      <th>3</th>\n",
       "      <td>adams</td>\n",
       "      <td>control</td>\n",
       "      <td>0.121700</td>\n",
       "      <td>17551</td>\n",
       "      <td>MoM2</td>\n",
       "      <td>160C_ATCCACCAGAATGTTG-1-0-0-1</td>\n",
       "      <td>63860-1-0-0-0</td>\n",
       "    </tr>\n",
       "    <tr>\n",
       "      <th>4</th>\n",
       "      <td>adams</td>\n",
       "      <td>control</td>\n",
       "      <td>0.255294</td>\n",
       "      <td>17551</td>\n",
       "      <td>MoM2</td>\n",
       "      <td>160C_ATTATCCTCTACTATC-1-0-0-1</td>\n",
       "      <td>63860-1-0-0-0</td>\n",
       "    </tr>\n",
       "    <tr>\n",
       "      <th>...</th>\n",
       "      <td>...</td>\n",
       "      <td>...</td>\n",
       "      <td>...</td>\n",
       "      <td>...</td>\n",
       "      <td>...</td>\n",
       "      <td>...</td>\n",
       "      <td>...</td>\n",
       "    </tr>\n",
       "    <tr>\n",
       "      <th>195651</th>\n",
       "      <td>adams</td>\n",
       "      <td>COPD</td>\n",
       "      <td>0.148102</td>\n",
       "      <td>40328</td>\n",
       "      <td>AM2</td>\n",
       "      <td>192CO-b_CGGAGTCCACCACGTG-1-0-0-1-0-0</td>\n",
       "      <td>148250-1-0-0-0</td>\n",
       "    </tr>\n",
       "    <tr>\n",
       "      <th>195652</th>\n",
       "      <td>adams</td>\n",
       "      <td>IPF</td>\n",
       "      <td>0.198943</td>\n",
       "      <td>40328</td>\n",
       "      <td>AM2</td>\n",
       "      <td>177I_AGATCTGCCGATCTAG-1-0-0-1-0</td>\n",
       "      <td>148250-1-0-0-0</td>\n",
       "    </tr>\n",
       "    <tr>\n",
       "      <th>195653</th>\n",
       "      <td>adams</td>\n",
       "      <td>IPF</td>\n",
       "      <td>0.145802</td>\n",
       "      <td>40328</td>\n",
       "      <td>AM2</td>\n",
       "      <td>177I_AGGGTGATCGCACTCT-1-0-0-1-0</td>\n",
       "      <td>148250-1-0-0-0</td>\n",
       "    </tr>\n",
       "    <tr>\n",
       "      <th>195654</th>\n",
       "      <td>adams</td>\n",
       "      <td>control</td>\n",
       "      <td>0.493166</td>\n",
       "      <td>40328</td>\n",
       "      <td>AM2</td>\n",
       "      <td>003C_CAACCAAAGAGCCTAG-1-0-0-1</td>\n",
       "      <td>148250-1-0-0-0</td>\n",
       "    </tr>\n",
       "    <tr>\n",
       "      <th>195655</th>\n",
       "      <td>adams</td>\n",
       "      <td>control</td>\n",
       "      <td>0.142328</td>\n",
       "      <td>40328</td>\n",
       "      <td>AM2</td>\n",
       "      <td>465C_GCATGTATCTTGAGAC-1-0-0-1</td>\n",
       "      <td>148250-1-0-0-0</td>\n",
       "    </tr>\n",
       "  </tbody>\n",
       "</table>\n",
       "<p>195656 rows × 7 columns</p>\n",
       "</div>"
      ],
      "text/plain": [
       "        study disease.status  edge.score  cell.x cell.x.type  \\\n",
       "0       morse            IPF    0.232685   17551        MoM2   \n",
       "1       adams            IPF    0.180219   17551        MoM2   \n",
       "2       adams        control    0.293829   17551        MoM2   \n",
       "3       adams        control    0.121700   17551        MoM2   \n",
       "4       adams        control    0.255294   17551        MoM2   \n",
       "...       ...            ...         ...     ...         ...   \n",
       "195651  adams           COPD    0.148102   40328         AM2   \n",
       "195652  adams            IPF    0.198943   40328         AM2   \n",
       "195653  adams            IPF    0.145802   40328         AM2   \n",
       "195654  adams        control    0.493166   40328         AM2   \n",
       "195655  adams        control    0.142328   40328         AM2   \n",
       "\n",
       "                                           cell.y       cell.x.id  \n",
       "0       SC154IPFUP_ATCTGCCTCACCGGGT-1-0-0-0-0-0-0   63860-1-0-0-0  \n",
       "1                210CO_GGGTTGCTCTGCCAGG-1-0-0-1-0   63860-1-0-0-0  \n",
       "2                   092C_TCGAGGCTCGCTTAGA-1-0-0-1   63860-1-0-0-0  \n",
       "3                   160C_ATCCACCAGAATGTTG-1-0-0-1   63860-1-0-0-0  \n",
       "4                   160C_ATTATCCTCTACTATC-1-0-0-1   63860-1-0-0-0  \n",
       "...                                           ...             ...  \n",
       "195651       192CO-b_CGGAGTCCACCACGTG-1-0-0-1-0-0  148250-1-0-0-0  \n",
       "195652            177I_AGATCTGCCGATCTAG-1-0-0-1-0  148250-1-0-0-0  \n",
       "195653            177I_AGGGTGATCGCACTCT-1-0-0-1-0  148250-1-0-0-0  \n",
       "195654              003C_CAACCAAAGAGCCTAG-1-0-0-1  148250-1-0-0-0  \n",
       "195655              465C_GCATGTATCTTGAGAC-1-0-0-1  148250-1-0-0-0  \n",
       "\n",
       "[195656 rows x 7 columns]"
      ]
     },
     "execution_count": 54,
     "metadata": {},
     "output_type": "execute_result"
    }
   ],
   "source": [
    "scores_by_k['all_minus_bal']"
   ]
  },
  {
   "cell_type": "code",
   "execution_count": 55,
   "metadata": {},
   "outputs": [
    {
     "data": {
      "text/plain": [
       "dict_keys(['all_minus_budinger', 'all_minus_bal_sample', 'all_minus_bal'])"
      ]
     },
     "execution_count": 55,
     "metadata": {},
     "output_type": "execute_result"
    }
   ],
   "source": [
    "scores_by_k.keys()"
   ]
  },
  {
   "cell_type": "code",
   "execution_count": 56,
   "metadata": {},
   "outputs": [],
   "source": [
    "# hm4.reindex(hm4.max(axis=1).sort_values(ascending=False).index)"
   ]
  },
  {
   "cell_type": "code",
   "execution_count": 57,
   "metadata": {},
   "outputs": [
    {
     "data": {
      "text/plain": [
       "dict_keys(['all_minus_budinger', 'all_minus_bal_sample', 'all_minus_bal'])"
      ]
     },
     "execution_count": 57,
     "metadata": {},
     "output_type": "execute_result"
    }
   ],
   "source": [
    "scores_by_k.keys()"
   ]
  },
  {
   "cell_type": "code",
   "execution_count": 58,
   "metadata": {},
   "outputs": [],
   "source": [
    "order_by_k = {'all_minus_bal': ['MoM1', 'MoM3', 'AM2', 'Monocytes', 'AM1', 'MoM2'],\n",
    "              'all_minus_budinger': ['6 Prolif. AMp', '2 Mono/Mp', '3 SPP1/LGMN-Mp', '4 SPP1/TREM2-Mp', '1 FCN1-Mono', '5 INHBA-AMp'],\n",
    "              'all_minus_budinger_updated_ann': ['CD163/LGMN-Mφ', 'Prolif. AMφ', 'Mono/Mφ', 'AMφ-1', 'Monocytes', 'AMφ-2']}"
   ]
  },
  {
   "cell_type": "code",
   "execution_count": null,
   "metadata": {},
   "outputs": [],
   "source": []
  },
  {
   "cell_type": "code",
   "execution_count": 61,
   "metadata": {},
   "outputs": [],
   "source": [
    "# to plot the circlesheatmap we need a custom library\n",
    "from CirclesHeatmap import CirclesHeatmap"
   ]
  },
  {
   "cell_type": "code",
   "execution_count": 62,
   "metadata": {},
   "outputs": [
    {
     "name": "stdout",
     "output_type": "stream",
     "text": [
      "here\n"
     ]
    }
   ],
   "source": [
    "print('here')"
   ]
  },
  {
   "cell_type": "code",
   "execution_count": 64,
   "metadata": {},
   "outputs": [
    {
     "name": "stderr",
     "output_type": "stream",
     "text": [
      "/home/icb/ignacio.ibarra/miniconda3/envs/covid_macrophages_integration/lib/python3.7/site-packages/IPython/core/interactiveshell.py:3417: DtypeWarning: Columns (1,2) have mixed types.Specify dtype option on import or set low_memory=False.\n",
      "  exec(code_obj, self.user_global_ns, self.user_ns)\n"
     ]
    }
   ],
   "source": [
    "## a new annotations has been proposed and has to be incorporated into the objects\n",
    "mapping_revision_2021 = pd.read_csv('../data/barcodes_cluster_annotation_OD.csv', index_col=0)\n",
    "assert sum(ad.obs.index == mapping_revision_2021.index) == ad.shape[0]\n",
    "ad_no_budinger.obs['bal_clusters'] = ad_no_budinger.obs.index.map(mapping_revision_2021['bal_clusters'].to_dict())\n"
   ]
  },
  {
   "cell_type": "code",
   "execution_count": 65,
   "metadata": {},
   "outputs": [
    {
     "data": {
      "text/plain": [
       "other            108028\n",
       "Monocytes          2012\n",
       "CD163/LGMN-Mφ      1723\n",
       "Mono/Mφ            1555\n",
       "AMφ-1               998\n",
       "AMφ-2               713\n",
       "low quality         310\n",
       "Prolif. AMφ         192\n",
       "Name: bal_clusters, dtype: int64"
      ]
     },
     "execution_count": 65,
     "metadata": {},
     "output_type": "execute_result"
    }
   ],
   "source": [
    "ad_no_budinger.obs['bal_clusters'] = ad_no_budinger.obs.index.map(mapping_revision_2021['bal_clusters'].to_dict())\n",
    "ad_no_budinger.obs['bal_clusters'].value_counts()"
   ]
  },
  {
   "cell_type": "code",
   "execution_count": 66,
   "metadata": {},
   "outputs": [
    {
     "data": {
      "text/html": [
       "<div>\n",
       "<style scoped>\n",
       "    .dataframe tbody tr th:only-of-type {\n",
       "        vertical-align: middle;\n",
       "    }\n",
       "\n",
       "    .dataframe tbody tr th {\n",
       "        vertical-align: top;\n",
       "    }\n",
       "\n",
       "    .dataframe thead th {\n",
       "        text-align: right;\n",
       "    }\n",
       "</style>\n",
       "<table border=\"1\" class=\"dataframe\">\n",
       "  <thead>\n",
       "    <tr style=\"text-align: right;\">\n",
       "      <th></th>\n",
       "      <th>GSM</th>\n",
       "      <th>sample.id</th>\n",
       "      <th>n_counts</th>\n",
       "      <th>log_counts</th>\n",
       "      <th>n_genes</th>\n",
       "      <th>mt_frac</th>\n",
       "      <th>patient.id</th>\n",
       "      <th>cell.type</th>\n",
       "      <th>study</th>\n",
       "      <th>disease.status</th>\n",
       "      <th>...</th>\n",
       "      <th>COVID-19</th>\n",
       "      <th>Tissue Type</th>\n",
       "      <th>Cell Population</th>\n",
       "      <th>Cell Type</th>\n",
       "      <th>leiden</th>\n",
       "      <th>No of UMIs</th>\n",
       "      <th>No of genes</th>\n",
       "      <th>% of mito genes</th>\n",
       "      <th>Cluster</th>\n",
       "      <th>bal_clusters</th>\n",
       "    </tr>\n",
       "  </thead>\n",
       "  <tbody>\n",
       "    <tr>\n",
       "      <th>ACTTCGCAGCATGCAG-2-1-0-0-0-0</th>\n",
       "      <td>nan</td>\n",
       "      <td>nan</td>\n",
       "      <td>34548.0</td>\n",
       "      <td>NaN</td>\n",
       "      <td>NaN</td>\n",
       "      <td>NaN</td>\n",
       "      <td>C19-62</td>\n",
       "      <td>Macrophages</td>\n",
       "      <td>BAL</td>\n",
       "      <td>4 SPP1/TREM2-Mp</td>\n",
       "      <td>...</td>\n",
       "      <td>nan</td>\n",
       "      <td>nan</td>\n",
       "      <td>nan</td>\n",
       "      <td>nan</td>\n",
       "      <td>NaN</td>\n",
       "      <td>NaN</td>\n",
       "      <td>NaN</td>\n",
       "      <td>NaN</td>\n",
       "      <td>nan</td>\n",
       "      <td>AMφ-1</td>\n",
       "    </tr>\n",
       "  </tbody>\n",
       "</table>\n",
       "<p>1 rows × 81 columns</p>\n",
       "</div>"
      ],
      "text/plain": [
       "                              GSM sample.id  n_counts  log_counts  n_genes  \\\n",
       "ACTTCGCAGCATGCAG-2-1-0-0-0-0  nan       nan   34548.0         NaN      NaN   \n",
       "\n",
       "                              mt_frac patient.id    cell.type study  \\\n",
       "ACTTCGCAGCATGCAG-2-1-0-0-0-0      NaN     C19-62  Macrophages   BAL   \n",
       "\n",
       "                               disease.status  ...  COVID-19  Tissue Type  \\\n",
       "ACTTCGCAGCATGCAG-2-1-0-0-0-0  4 SPP1/TREM2-Mp  ...       nan          nan   \n",
       "\n",
       "                              Cell Population  Cell Type  leiden No of UMIs  \\\n",
       "ACTTCGCAGCATGCAG-2-1-0-0-0-0              nan        nan     NaN        NaN   \n",
       "\n",
       "                             No of genes % of mito genes Cluster bal_clusters  \n",
       "ACTTCGCAGCATGCAG-2-1-0-0-0-0         NaN             NaN     nan        AMφ-1  \n",
       "\n",
       "[1 rows x 81 columns]"
      ]
     },
     "execution_count": 66,
     "metadata": {},
     "output_type": "execute_result"
    }
   ],
   "source": [
    "ad_no_budinger[ad_no_budinger.obs.index == 'ACTTCGCAGCATGCAG-2-1-0-0-0-0',:].obs"
   ]
  },
  {
   "cell_type": "code",
   "execution_count": 67,
   "metadata": {},
   "outputs": [],
   "source": [
    "scores = scores_by_k['all_minus_budinger'].copy()\n",
    "scores['cell.x.type'] = scores['cell.x.id'].map(mapping_revision_2021['bal_clusters'].to_dict())\n",
    "scores_by_k['all_minus_budinger_updated_ann'] = scores"
   ]
  },
  {
   "cell_type": "code",
   "execution_count": 68,
   "metadata": {},
   "outputs": [
    {
     "data": {
      "text/plain": [
       "{'AMφ-1',\n",
       " 'AMφ-2',\n",
       " 'CD163/LGMN-Mφ',\n",
       " 'Mono/Mφ',\n",
       " 'Monocytes',\n",
       " 'Prolif. AMφ',\n",
       " 'low quality'}"
      ]
     },
     "execution_count": 68,
     "metadata": {},
     "output_type": "execute_result"
    }
   ],
   "source": [
    "set(scores_by_k['all_minus_budinger_updated_ann']['cell.x.type'])"
   ]
  },
  {
   "cell_type": "code",
   "execution_count": 69,
   "metadata": {},
   "outputs": [
    {
     "data": {
      "text/plain": [
       "dict_keys(['all_minus_budinger', 'all_minus_bal_sample', 'all_minus_bal', 'all_minus_budinger_updated_ann'])"
      ]
     },
     "execution_count": 69,
     "metadata": {},
     "output_type": "execute_result"
    }
   ],
   "source": [
    "scores_by_k.keys()"
   ]
  },
  {
   "cell_type": "code",
   "execution_count": 70,
   "metadata": {},
   "outputs": [
    {
     "name": "stdout",
     "output_type": "stream",
     "text": [
      "here...\n"
     ]
    }
   ],
   "source": [
    "print('here...')"
   ]
  },
  {
   "cell_type": "code",
   "execution_count": null,
   "metadata": {},
   "outputs": [],
   "source": [
    "for k in scores_by_k:\n",
    "    if not 'all_minus_budinger_updated_ann' in k:\n",
    "        continue\n",
    "    if 'sample' in k:\n",
    "        continue\n",
    "    print(k)\n",
    "    # if not 'all_minus_budinger' in k:\n",
    "    #     continue\n",
    "    # if k != 'all_minus_budinger':\n",
    "    #     continue\n",
    "    \n",
    "    scores = scores_by_k[k]\n",
    "    \n",
    "    cell_id_by_index = scores.set_index('cell.x')['cell.x.id'].to_dict()\n",
    "    \n",
    "    print('calculating scores per position...')\n",
    "    \n",
    "    hm = []\n",
    "    for cell_id, grp in scores.groupby('cell.x'):\n",
    "        # print(cell_id, grp.shape)\n",
    "        sel = pd.DataFrame(grp['disease.status'].value_counts()).reset_index()\n",
    "        sel['cell.id'] = cell_id\n",
    "        hm.append(sel)\n",
    "    hm = pd.concat(hm)\n",
    "\n",
    "\n",
    "    print('establishing pivot steps...')\n",
    "    hm2 = hm.pivot('cell.id', 'index', 'disease.status').fillna(0)\n",
    "    hm2['proximity.mapping.label'] = hm2.idxmax(axis=1)\n",
    "    hm2['mdm.type'] = hm2.index.map(scores.set_index('cell.x')['cell.x.type'].to_dict())\n",
    "    hm_df = pd.DataFrame(hm2.groupby(['mdm.type', 'proximity.mapping.label']).size()).reset_index()\n",
    "    hm3 = hm_df.pivot('mdm.type', 'proximity.mapping.label', 0)\n",
    "\n",
    "    hm2['cell.id'] = hm2.index.map(cell_id_by_index)\n",
    "    len(set(hm2['cell.id']))\n",
    "\n",
    "    from os.path import join\n",
    "    import matplotlib\n",
    "    import matplotlib.pyplot as plt\n",
    "\n",
    "#     print('setting up plotting parameters...')\n",
    "#     fpath = join(plt.rcParams[\"datapath\"], \"fonts/ttf/arial.ttf\")\n",
    "#     from matplotlib import font_manager as fm, rcParams\n",
    "#     prop = fm.FontProperties(fname=fpath)\n",
    "#     rcParams[\"font.family\"] = \"arial\"\n",
    "\n",
    "    hm_df = hm_df[~hm_df['mdm.type'].isin({'Undefined', 'Low quality', 'Others (COVID)'})]\n",
    "\n",
    "    # for visualization purposes we'll remove COPD from our visualization layouts...\n",
    "    hm_df = hm_df[hm_df['proximity.mapping.label'] != 'COPD']\n",
    "    sum(hm_df[0])\n",
    "\n",
    "\n",
    "    from scipy.stats import fisher_exact \n",
    "    from lib.RFacade import RFacade\n",
    "\n",
    "\n",
    "    print('calculating enrichments.......')\n",
    "    res = []\n",
    "    for mdm_type in set(hm_df['mdm.type']):\n",
    "        print(mdm_type)\n",
    "        \n",
    "        # we \n",
    "        for prox_map_lab in set(hm_df['proximity.mapping.label']):\n",
    "            a = sum(hm_df[(hm_df['mdm.type'] == mdm_type) & (hm_df['proximity.mapping.label'] == prox_map_lab)][0])\n",
    "            b = sum(hm_df[(hm_df['mdm.type'] == mdm_type) & (hm_df['proximity.mapping.label'] != prox_map_lab)][0])\n",
    "            c = sum(hm_df[(hm_df['mdm.type'] != mdm_type) & (hm_df['proximity.mapping.label'] == prox_map_lab)][0])\n",
    "            d = sum(hm_df[(hm_df['mdm.type'] != mdm_type) & (hm_df['proximity.mapping.label'] != prox_map_lab)][0])\n",
    "            t = [mdm_type, prox_map_lab, a, b, c, d] + list(fisher_exact([[a, b], [c, d]], alternative='greater'))\n",
    "            res.append(t)\n",
    "    res = pd.DataFrame(res, columns=['mdm.type', 'prox.map.lab', 'a', 'b', 'c', 'd', 'odds.ratio', 'p.val'])\n",
    "    res['p.adj'] = RFacade.get_bh_pvalues(res['p.val'])\n",
    "    res['asterisk'] = RFacade.get_pval_asterisks(res['p.adj'])\n",
    "    res[res['p.adj'] < 0.1].sort_values('p.adj')\n",
    "\n",
    "    hm3 = hm_df.pivot('mdm.type', 'proximity.mapping.label', 0)[['IPF', 'control']] # 'COPD']]\n",
    "    hm3_sig = res.pivot('mdm.type', 'prox.map.lab', 'asterisk')[['IPF', 'control']]#  'COPD']]\n",
    "    hm3_padj = res.pivot('mdm.type', 'prox.map.lab', 'p.adj')[['IPF', 'control']]#  'COPD']]\n",
    "\n",
    "    import matplotlib\n",
    "    matplotlib.rcParams['pdf.fonttype'] = 42\n",
    "    matplotlib.rcParams['ps.fonttype'] = 42\n",
    "    matplotlib.rcParams['ps.fonttype'] = 42\n",
    "\n",
    "    import importlib\n",
    "    print('# of cells in the treatment')\n",
    "    print(hm3.sum().sum())\n",
    "    \n",
    "    print('plotting...')\n",
    "    hm4 = hm3.copy()\n",
    "    for c in hm4:\n",
    "        hm4[c] = hm4[c] / hm3.sum(axis=1)\n",
    "    hm4\n",
    "\n",
    "    hm4 = hm4.reindex(hm4.max(axis=1).sort_values(ascending=False).index)\n",
    "\n",
    "    new_idx = order_by_k[k]\n",
    "    print(new_idx)\n",
    "    print(hm4.index)\n",
    "    hm4 = hm4.reindex(new_idx)\n",
    "    print(hm4.index)\n",
    "    \n",
    "    \n",
    "    hm3_sig = hm3_sig.reindex(hm4.index)\n",
    "    hm3_padj = hm3_padj.reindex(hm3_sig.index)\n",
    "    \n",
    "    annot = (hm4).astype(str) + np.where(hm3_sig.astype(str) != '', '*', '')\n",
    "    for c in annot:\n",
    "        annot[c] = annot[c].astype(str).str[:4] + np.where(annot[c].astype(str).str.contains('\\*'), '*', '')\n",
    "    annot\n",
    "\n",
    "\n",
    "    import seaborn as sns\n",
    "    cg = sns.clustermap(hm4, annot=annot,\n",
    "                        fmt='', cmap='Reds', row_cluster=False, col_cluster=False)\n",
    "    # plt.yticks(rotation=0)\n",
    "    plt.setp(cg.ax_heatmap.yaxis.get_majorticklabels(), rotation=0)\n",
    "    plt.subplots_adjust(bottom=.7, right=.3)\n",
    "\n",
    "    \n",
    "    cg.fig.suptitle('# of cells %i' % hm3.sum().sum())\n",
    "    plt.savefig('../data/figures/majority_label_heatmap_with_fisher_exact_test_padj_revision_%s.pdf' % k)\n",
    "    plt.close()\n",
    "    \n",
    "    rcParams['figure.dpi'] = 90\n",
    "    line_widths = pd.DataFrame(np.where(hm3_sig != '', 2.0, .3), index=hm3_sig.index, columns=hm3_sig.columns)\n",
    "    \n",
    "    for power in 1.0, 2.5, 3.0:\n",
    "        if power != 2.5:\n",
    "            continue\n",
    "        CirclesHeatmap.make_bubble_heatmap(-np.log10(hm3_padj), hm4,\n",
    "                                           heatmap_grid=[4, 6, 0, 2, 2, 1],\n",
    "                                           quantAmplifier=40,\n",
    "                                           colorbar_grid=[2, 5, 0, 4, 2, 1],\n",
    "                                           cbar_label='-log10(adjusted P)', ha='right',\n",
    "                                           circles_legend_title='Fractoin of cells [rows]', h=10, w=12,\n",
    "                                           tickscolorbar=[0, 25 / (2 if 'budinger' in k else 1), 50 / (2 if 'budinger' in k else 1)],\n",
    "                                           power=power, line_widths=line_widths,\n",
    "                                           circle_legend_ticks=[0, 0.25, .5, .75, 1.0], palette_id='Reds', vmin=0, vmax=25 if 'budinger'in k else 50,\n",
    "                                           heatmap_title=k)\n",
    "        pdf_path = '../data/figures/majority_label_heatmap_with_fisher_exact_test_padj_revision_%s_dotplot_%.1f.pdf' % (k, power)\n",
    "        import os\n",
    "        plt.savefig(pdf_path)\n",
    "        plt.close()\n",
    "        print(abspath(pdf_path))\n",
    "    \n",
    "    # save raw data (for oliver)\n",
    "    -np.log10(hm3_padj)\n",
    "    \n",
    "    # break\n",
    "    \n",
    "    # assert False"
   ]
  },
  {
   "cell_type": "code",
   "execution_count": null,
   "metadata": {},
   "outputs": [],
   "source": [
    "-np.log10(hm3_padj)"
   ]
  },
  {
   "cell_type": "code",
   "execution_count": null,
   "metadata": {},
   "outputs": [],
   "source": [
    "hm3_padj"
   ]
  },
  {
   "cell_type": "code",
   "execution_count": null,
   "metadata": {},
   "outputs": [],
   "source": [
    "CirclesHeatmap.make_bubble_heatmap?"
   ]
  },
  {
   "cell_type": "code",
   "execution_count": null,
   "metadata": {},
   "outputs": [],
   "source": [
    "hm4"
   ]
  },
  {
   "cell_type": "code",
   "execution_count": null,
   "metadata": {},
   "outputs": [],
   "source": [
    "print(abspath('../data/figures/'))"
   ]
  },
  {
   "cell_type": "markdown",
   "metadata": {},
   "source": [
    "### At this step: the last dataset in the for loop has to be **all_minus_budinger**.\n",
    "#### otherwise the heatmaps below are not properly updated."
   ]
  },
  {
   "cell_type": "code",
   "execution_count": null,
   "metadata": {},
   "outputs": [],
   "source": [
    "hm3"
   ]
  },
  {
   "cell_type": "code",
   "execution_count": null,
   "metadata": {},
   "outputs": [],
   "source": [
    "hm4"
   ]
  },
  {
   "cell_type": "code",
   "execution_count": null,
   "metadata": {},
   "outputs": [],
   "source": [
    "scores['cell.x.type'].value_counts()"
   ]
  },
  {
   "cell_type": "code",
   "execution_count": null,
   "metadata": {},
   "outputs": [],
   "source": [
    "hm3_sig"
   ]
  },
  {
   "cell_type": "code",
   "execution_count": null,
   "metadata": {},
   "outputs": [],
   "source": [
    "hm3"
   ]
  },
  {
   "cell_type": "code",
   "execution_count": null,
   "metadata": {},
   "outputs": [],
   "source": [
    "hm4"
   ]
  },
  {
   "cell_type": "code",
   "execution_count": null,
   "metadata": {},
   "outputs": [],
   "source": [
    "abspath('../data/figures/majority_label_heatmap_with_fisher_exact_test_padj_revision.pdf')"
   ]
  },
  {
   "cell_type": "code",
   "execution_count": null,
   "metadata": {},
   "outputs": [],
   "source": [
    "plt.hist(scores['edge.score'])"
   ]
  },
  {
   "cell_type": "code",
   "execution_count": null,
   "metadata": {},
   "outputs": [],
   "source": [
    "# df = pd.DataFrame(obs, columns=['a', 'b', 'n.a', 'n.b', 'n.total'])\n",
    "# df.sort_values('n.total', ascending=False)"
   ]
  },
  {
   "cell_type": "code",
   "execution_count": null,
   "metadata": {},
   "outputs": [],
   "source": [
    "ad.shape"
   ]
  },
  {
   "cell_type": "code",
   "execution_count": null,
   "metadata": {},
   "outputs": [],
   "source": [
    "# pos_by_pair.keys()"
   ]
  },
  {
   "cell_type": "code",
   "execution_count": null,
   "metadata": {},
   "outputs": [],
   "source": [
    "def get_assoc_cell_by_mdm_type(mdm_type):\n",
    "    ref = mdm_type\n",
    "    print('running...')\n",
    "    final = None\n",
    "    keys_by_group = {}\n",
    "    for k2 in ['COPD', 'IPF', 'control']:\n",
    "        # print(ref, k2)\n",
    "        k = ref + ':' + k2\n",
    "        if not k in pos_by_pair:\n",
    "            k = k2 + ':' + ref\n",
    "        if not k in pos_by_pair:\n",
    "            continue\n",
    "\n",
    "        a = ad[pos_by_pair[k][ref],:]\n",
    "        a.obs['selection'] = k\n",
    "        keys_by_group[k] = set(a.obs.index)\n",
    "        final = a if final is None else final.concatenate(a)\n",
    "\n",
    "    filter_uniq = True\n",
    "    if filter_uniq:\n",
    "        uniq_by_k = {}\n",
    "        for k in keys_by_group:\n",
    "            uniq = set(keys_by_group[k])\n",
    "            # print(k, len(keys_by_group[k]))\n",
    "            for k2 in keys_by_group:\n",
    "                if k == k2:\n",
    "                    continue\n",
    "                # print('removing if overlapping with %s' % k2, len(keys_by_group[k2]))\n",
    "                uniq -= keys_by_group[k2]\n",
    "            # print('uniq', len(uniq))\n",
    "            uniq_by_k[k] = uniq\n",
    "            # print('')\n",
    "        for k in uniq_by_k:\n",
    "            continue\n",
    "            print(k, len(uniq_by_k[k]))\n",
    "\n",
    "    # print('running...')\n",
    "    final = None\n",
    "    for k2 in ['COPD', 'IPF', 'control']:\n",
    "        # print(ref, k2)\n",
    "        k = ref + ':' + k2\n",
    "        if not k in pos_by_pair:\n",
    "            k = k2 + ':' + ref\n",
    "        if not k in pos_by_pair:\n",
    "            continue\n",
    "\n",
    "        a = ad[pos_by_pair[k][ref],:]\n",
    "        a.obs['selection'] = k\n",
    "\n",
    "        if filter_uniq:\n",
    "            a = a[(a.obs['selection'] == k) & (a.obs.index.isin(set(uniq_by_k[k]))),:]\n",
    "        else:\n",
    "            a = a[(a.obs['selection'] == k),:]\n",
    "        # print(k, a.shape)\n",
    "        final = a if final is None else final.concatenate(a)\n",
    "\n",
    "    final.obs['closest.disease.status'] = final.obs['selection'].str.split(':').str[1]\n",
    "    return final"
   ]
  },
  {
   "cell_type": "code",
   "execution_count": null,
   "metadata": {},
   "outputs": [],
   "source": [
    "k"
   ]
  },
  {
   "cell_type": "code",
   "execution_count": null,
   "metadata": {},
   "outputs": [],
   "source": [
    "final = ad_no_bal if k == 'ad_minus_bal' else ad_no_budinger if (k == 'all_minus_budinger' or k == 'all_minus_budinger_updated_ann') else None\n",
    "print(final.shape)\n",
    "assert final is not None\n",
    "final = final.copy()"
   ]
  },
  {
   "cell_type": "code",
   "execution_count": null,
   "metadata": {},
   "outputs": [],
   "source": [
    "# hm2.head()\n",
    "final = final[final.obs.index.isin(set(hm2['cell.id'])),:]\n",
    "final.obs['closest.disease.status'] = final.obs.index.map(hm2.set_index('cell.id')['proximity.mapping.label'].to_dict())\n",
    "final.shape"
   ]
  },
  {
   "cell_type": "code",
   "execution_count": null,
   "metadata": {},
   "outputs": [],
   "source": [
    "# final.obs['selection'].value_counts()"
   ]
  },
  {
   "cell_type": "code",
   "execution_count": null,
   "metadata": {},
   "outputs": [],
   "source": [
    "# hm2[hm2['cell.id'] == '483C_CGCTTCACATTCACTT-1-0']"
   ]
  },
  {
   "cell_type": "code",
   "execution_count": null,
   "metadata": {},
   "outputs": [],
   "source": [
    "for c in set(bal.obs['Celltype']):\n",
    "    sel = bal.obs[bal.obs['Celltype'] == c]\n",
    "    print(c, sel.shape[0], sel[pd.isnull(sel['mdm.type'])].shape[0])"
   ]
  },
  {
   "cell_type": "code",
   "execution_count": null,
   "metadata": {},
   "outputs": [],
   "source": [
    "final.obs.index.map(mapping_revision_2021['bal_clusters'].to_dict())"
   ]
  },
  {
   "cell_type": "code",
   "execution_count": null,
   "metadata": {},
   "outputs": [],
   "source": [
    "final.obs['mdm.type'] = final.obs.index.map(mapping_revision_2021['bal_clusters'].to_dict())\n"
   ]
  },
  {
   "cell_type": "code",
   "execution_count": null,
   "metadata": {},
   "outputs": [],
   "source": [
    "final.obs['mdm.type'].value_counts()"
   ]
  },
  {
   "cell_type": "code",
   "execution_count": null,
   "metadata": {},
   "outputs": [],
   "source": [
    "hm2['cell.id']"
   ]
  },
  {
   "cell_type": "code",
   "execution_count": null,
   "metadata": {},
   "outputs": [],
   "source": [
    "final.obs.groupby(['mdm.type', 'closest.disease.status']).size().reset_index()"
   ]
  },
  {
   "cell_type": "code",
   "execution_count": null,
   "metadata": {},
   "outputs": [],
   "source": [
    "final.obs.groupby(['mdm.type', 'closest.disease.status']).size().reset_index().pivot('mdm.type', 'closest.disease.status', 0)[['IPF', 'control']]"
   ]
  },
  {
   "cell_type": "code",
   "execution_count": null,
   "metadata": {},
   "outputs": [],
   "source": [
    "rcParams['figure.figsize'] = [10, 5]\n",
    "sns.violinplot(data=final.obs, x='mdm.type', y='MP.all.score', hue='closest.disease.status', hue_order=['IPF', 'control'])\n",
    "plt.xticks(rotation=45, ha='right')\n",
    "\n",
    "plt.savefig('../data/figures/closest_disease_status_gene_scores_bal.pdf')\n",
    "plt.close()"
   ]
  },
  {
   "cell_type": "code",
   "execution_count": null,
   "metadata": {},
   "outputs": [],
   "source": [
    "from matplotlib import rcParams\n",
    "from lib.RFacade import RFacade\n",
    "rcParams['figure.figsize'] = [10, 15]\n",
    "\n",
    "mdm_types = set(final.obs['mdm.type'])\n",
    "nrows = len(mdm_types)\n",
    "print(nrows)\n",
    "\n",
    "all_dotplot = []\n",
    "\n",
    "# final = get_assoc_cell_by_mdm_type(mdm_type)\n",
    "res_by_mdm_type = []\n",
    "for ri, mdm_type in enumerate(mdm_types):\n",
    "    print(mdm_type)\n",
    "    \n",
    "    final_sel = final[final.obs['mdm.type'] == mdm_type,:]\n",
    "        \n",
    "    for pi, marker_genes_lab in enumerate(['markers', 'others', 'all']):\n",
    "        ax = plt.subplot2grid([len(mdm_types), 3], [ri, pi])\n",
    "\n",
    "        ylab = 'MP.%s.score' % marker_genes_lab\n",
    "\n",
    "        xorder = ['IPF', 'COPD', 'control']\n",
    "        sns.violinplot(data=final_sel.obs, x='closest.disease.status',\n",
    "                       y=ylab, order=xorder)\n",
    "        ax.spines['right'].set_visible(False)\n",
    "        ax.spines['top'].set_visible(False)\n",
    "        plt.xticks(rotation=45, ha='right')\n",
    "        plt.title(mdm_type)\n",
    "\n",
    "\n",
    "        # Calculate number of obs per group & median to position labels\n",
    "        val_by_xi = {}\n",
    "        nobs_by_xi = {}\n",
    "        for xi in xorder:\n",
    "            val = final_sel.obs[final_sel.obs['closest.disease.status'] == xi]\n",
    "            val_by_xi[xi] = max(val[ylab]) if len(val[ylab]) != 0 else 0\n",
    "            nobs_by_xi[xi] = val[ylab].shape[0]\n",
    "\n",
    "        # Add it to the plot\n",
    "        pos = range(len(nobs_by_xi))\n",
    "        for tick, label, xi in zip(pos, ax.get_xticklabels(), xorder):\n",
    "           ax.text(pos[tick], val_by_xi[xi] + 0.5, nobs_by_xi[xi], horizontalalignment='center',\n",
    "                   size='x-small', color='black', weight='semibold', fontsize=8)\n",
    "        \n",
    "    df = []\n",
    "    for gene_group in ['MP.markers.score', 'MP.others.score', 'MP.all.score']:\n",
    "        for a, b in combinations(set(['IPF', 'COPD', 'control']), r=2):\n",
    "            x = np.array(final_sel.obs[final_sel.obs['closest.disease.status'] == a][gene_group])\n",
    "            y = np.array(final_sel.obs[final_sel.obs['closest.disease.status'] == b][gene_group])\n",
    "            pval = RFacade.get_wilcox_test_pval(x, y, alternative='two.sided')\n",
    "            df.append([gene_group, a, np.median(x), len(x), b, np.median(y), len(y), pval])\n",
    "    df = pd.DataFrame(df, columns=['gene.group', 'a', 'median.a', 'n.a', 'b', 'median.b', 'n.b', 'p.val'])\n",
    "    df['p.adj'] = RFacade.get_bh_pvalues(df['p.val'])\n",
    "    df.sort_values('p.adj')\n",
    "    df['mdm.type'] = mdm_type\n",
    "    res_by_mdm_type.append(df)\n",
    "\n",
    "    all_dotplot.append(final_sel)\n",
    "     \n",
    "df = pd.concat(res_by_mdm_type)\n",
    "plt.tight_layout()\n",
    "# plt.subplots_adjust(bottom=.5)\n",
    "save = True\n",
    "if save:\n",
    "    plt.savefig('../data/figures/scores_only_uniquely_assigned_ad_no_bal.pdf')\n",
    "    plt.close()\n"
   ]
  },
  {
   "cell_type": "markdown",
   "metadata": {},
   "source": [
    "### Check whether normalized expression values are so different between BAL/Adams/Morse"
   ]
  },
  {
   "cell_type": "code",
   "execution_count": null,
   "metadata": {},
   "outputs": [],
   "source": [
    "abspath('../data/figures/scores_only_uniquely_assigned.pdf')"
   ]
  },
  {
   "cell_type": "code",
   "execution_count": null,
   "metadata": {},
   "outputs": [],
   "source": [
    "sel_obs = ad[:,ad.var.index == 'TREM2'].obs[['study', 'disease.status']]\n",
    "sel_expr = ad[:,ad.var.index == 'TREM2'].to_df()"
   ]
  },
  {
   "cell_type": "code",
   "execution_count": null,
   "metadata": {},
   "outputs": [],
   "source": [
    "sel_expr = pd.concat([sel_expr, sel_obs], axis=1)"
   ]
  },
  {
   "cell_type": "code",
   "execution_count": null,
   "metadata": {},
   "outputs": [],
   "source": [
    "sel_expr"
   ]
  },
  {
   "cell_type": "code",
   "execution_count": null,
   "metadata": {},
   "outputs": [],
   "source": [
    "bal = sc.read_h5ad('data/bal/bal.h5ad')"
   ]
  },
  {
   "cell_type": "code",
   "execution_count": null,
   "metadata": {},
   "outputs": [],
   "source": [
    "bal.to_df().describe()"
   ]
  },
  {
   "cell_type": "code",
   "execution_count": null,
   "metadata": {},
   "outputs": [],
   "source": [
    "df['sig'] = df['p.adj'] < 0.1\n",
    "df.sort_values('p.adj').to_csv('../data/test_inferred_disease_status_comparisons_by_mdm_%s.tsv' % k, index=None, sep='\\t')\n"
   ]
  },
  {
   "cell_type": "code",
   "execution_count": null,
   "metadata": {},
   "outputs": [],
   "source": [
    "# 'data/test_inferred_disease_status_comparisons_by_mdm_%s.tsv' % k"
   ]
  },
  {
   "cell_type": "code",
   "execution_count": null,
   "metadata": {},
   "outputs": [],
   "source": [
    "ll data/test_inferred_disease_status_comparisons_by_mdm_*"
   ]
  },
  {
   "cell_type": "code",
   "execution_count": null,
   "metadata": {},
   "outputs": [],
   "source": [
    "df1 = pd.read_csv('../data/test_inferred_disease_status_comparisons_by_mdm_all_minus_budinger.tsv', sep='\\t')\n",
    "df2 = pd.read_csv('../data/test_inferred_disease_status_comparisons_by_mdm_all_minus_bal.tsv', sep='\\t')\n",
    "df3 = pd.read_csv('../data/test_inferred_disease_status_comparisons_by_mdm_all_minus_budinger_updated_ann.tsv', sep='\\t')\n",
    "df1['lab'] = 'Present Study'\n",
    "df2['lab'] = 'Bharat'\n",
    "df3['lab'] = 'Present Study - revision'\n",
    "\n",
    "df = pd.concat([df1, df2, df3])\n",
    "df[(df['gene.group'] == 'MP.all.score') & (df['a'] != 'COPD') &\n",
    "   (df['b'] != 'COPD')].sort_values('p.adj').to_csv('../data/test_inferred_disease_status_comparisons_supp.tsv', sep='\\t') # [['mdm.type', 'a', 'b', 'median.a', 'median.b', 'p.adj']]"
   ]
  },
  {
   "cell_type": "code",
   "execution_count": null,
   "metadata": {},
   "outputs": [],
   "source": [
    "df[(df['gene.group'] == 'MP.all.score') & (df['a'] != 'COPD') &  (df['b'] != 'COPD') & (df['lab'] == 'Present Study - revision')].sort_values('p.adj') # [['mdm.type', 'a', 'b', 'median.a', 'median.b', 'p.adj']]"
   ]
  },
  {
   "cell_type": "code",
   "execution_count": null,
   "metadata": {},
   "outputs": [],
   "source": [
    "df[(df['gene.group'] == 'MP.all.score') & (df['p.adj'] < 0.5) & (df['a'] != 'COPD') &  (df['b'] != 'COPD')].sort_values('p.adj') # [['mdm.type', 'a', 'b', 'median.a', 'median.b', 'p.adj']]"
   ]
  },
  {
   "cell_type": "code",
   "execution_count": null,
   "metadata": {},
   "outputs": [],
   "source": [
    "# final = anndata.concat(all_dotplot)"
   ]
  },
  {
   "cell_type": "code",
   "execution_count": null,
   "metadata": {},
   "outputs": [],
   "source": [
    "counts_df = pd.DataFrame(final.obs['selection'].value_counts())\n",
    "counts_df = counts_df.reset_index()\n",
    "counts_df.columns = ['mdm.type', 'n']\n",
    "counts_df['closest.condition'] = counts_df['mdm.type'].str.split(\":\").str[1]\n",
    "counts_df['mdm.type'] = counts_df['mdm.type'].str.split(\":\").str[0]\n",
    "counts_df.sort_values('mdm.type')\n",
    "hm = counts_df.pivot('mdm.type', 'closest.condition', 'n').transpose().fillna(0).astype(int)\n",
    "counts_df.to_csv('data/counts_by_closest_condition.tsv', sep='\\t', index=None)\n",
    "sns.clustermap(hm, cmap='Reds', annot=hm, fmt='')\n",
    "plt.subplots_adjust(bottom=.7)\n",
    "\n",
    "# plt.savefig('data/figures/heatmap_counts_per_condition.pdf')\n",
    "# plt.close()\n"
   ]
  },
  {
   "cell_type": "code",
   "execution_count": null,
   "metadata": {},
   "outputs": [],
   "source": [
    "final.write('../data/bal_cells_uniquely_mapped.h5ad', compression='lzf')"
   ]
  },
  {
   "cell_type": "code",
   "execution_count": null,
   "metadata": {},
   "outputs": [],
   "source": [
    "final = anndata.read('../data/bal_cells_uniquely_mapped.h5ad', compression='lzf')"
   ]
  },
  {
   "cell_type": "code",
   "execution_count": null,
   "metadata": {},
   "outputs": [],
   "source": [
    "final.shape"
   ]
  },
  {
   "cell_type": "code",
   "execution_count": null,
   "metadata": {},
   "outputs": [],
   "source": [
    "final.obs['closest.disease.status'].value_counts()"
   ]
  },
  {
   "cell_type": "code",
   "execution_count": null,
   "metadata": {},
   "outputs": [],
   "source": []
  },
  {
   "cell_type": "code",
   "execution_count": null,
   "metadata": {},
   "outputs": [],
   "source": [
    "# sorted(final_undefined_removed.obs.columns)"
   ]
  },
  {
   "cell_type": "code",
   "execution_count": null,
   "metadata": {},
   "outputs": [],
   "source": [
    "rcParams['figure.figsize'] = [4, 2.5]\n",
    "\n",
    "final_undefined_removed = final[final.obs['mdm.type'] != 'Low quality',:]\n",
    "\n",
    "print(final_undefined_removed.obs['mdm.type'].value_counts())\n",
    "sns.violinplot(data=final_undefined_removed.obs, x='mdm.type', y='MP.markers.score', hue='closest.disease.status', hue_order=['IPF', 'control'],\n",
    "           order=final_undefined_removed.obs.groupby('mdm.type')['MP.markers.score'].median().sort_values().index, linewidth=0.7, width=1.0)\n",
    "plt.subplots_adjust()\n",
    "plt.xticks(rotation=90, ha='center')\n",
    "plt.savefig('../data/figures/closest_disease_status_gene_scores_mdm.pdf')\n",
    "plt.close()"
   ]
  },
  {
   "cell_type": "code",
   "execution_count": null,
   "metadata": {},
   "outputs": [],
   "source": [
    "final_undefined_removed.obs['closest.disease.status'].value_counts()"
   ]
  },
  {
   "cell_type": "code",
   "execution_count": null,
   "metadata": {},
   "outputs": [],
   "source": [
    "print('here...')"
   ]
  },
  {
   "cell_type": "code",
   "execution_count": null,
   "metadata": {},
   "outputs": [],
   "source": [
    "scanpy.pl.stacked_violin(adata, var_names, groupby, "
   ]
  },
  {
   "cell_type": "markdown",
   "metadata": {},
   "source": [
    "# DE genes"
   ]
  },
  {
   "cell_type": "code",
   "execution_count": null,
   "metadata": {},
   "outputs": [],
   "source": [
    "#Set number of threads\n",
    "TF_CONFIG_PROTO.inter_op_parallelism_threads = 1\n",
    "TF_CONFIG_PROTO.intra_op_parallelism_threads = 12"
   ]
  },
  {
   "cell_type": "code",
   "execution_count": null,
   "metadata": {},
   "outputs": [],
   "source": [
    "final.var_names"
   ]
  },
  {
   "cell_type": "code",
   "execution_count": null,
   "metadata": {},
   "outputs": [],
   "source": [
    "from utils import *\n",
    "marker_genes = get_marker_genes_ipf()"
   ]
  },
  {
   "cell_type": "code",
   "execution_count": null,
   "metadata": {},
   "outputs": [],
   "source": [
    "sel = final[:,final.var.index.isin(marker_genes['MP.all'])]\n",
    "sel"
   ]
  },
  {
   "cell_type": "code",
   "execution_count": null,
   "metadata": {},
   "outputs": [],
   "source": [
    "print('here...')"
   ]
  },
  {
   "cell_type": "code",
   "execution_count": null,
   "metadata": {},
   "outputs": [],
   "source": [
    "sc.tl.rank_genes_groups(final, groupby='selection')"
   ]
  },
  {
   "cell_type": "code",
   "execution_count": null,
   "metadata": {},
   "outputs": [],
   "source": [
    "sc.pl.rank_genes_groups_dotplot(final, groupby='selection')"
   ]
  },
  {
   "cell_type": "code",
   "execution_count": null,
   "metadata": {},
   "outputs": [],
   "source": [
    "final.uns['groupby']"
   ]
  },
  {
   "cell_type": "code",
   "execution_count": null,
   "metadata": {},
   "outputs": [],
   "source": [
    "pd.DataFrame(final.obs['selection'].value_counts())"
   ]
  },
  {
   "cell_type": "code",
   "execution_count": null,
   "metadata": {},
   "outputs": [],
   "source": [
    "final_test = final[final.obs['selection'] != 'Mo-Mac:COPD',:]\n",
    "pd.DataFrame(final_test.obs['selection'].value_counts())"
   ]
  },
  {
   "cell_type": "code",
   "execution_count": null,
   "metadata": {},
   "outputs": [],
   "source": [
    "\n",
    "test = de.test.wald(\n",
    "    data=final_test.layers['counts'],\n",
    "    formula_loc=\"~ 1 + selection\",\n",
    "    factor_loc_totest=\"selection\",\n",
    "    gene_names=final_test.var_names,\n",
    "    sample_description=final_test.obs)"
   ]
  },
  {
   "cell_type": "code",
   "execution_count": null,
   "metadata": {},
   "outputs": [],
   "source": [
    "#view first 10 results\n",
    "df = test.summary() # .iloc[:10,:]\n",
    "df['padj'] = RFacade.get_bh_pvalues(df['pval'])\n",
    "df[df['padj'] < 1e-5].shape\n",
    "df[df['is.reference.marker']].sort_values('padj')"
   ]
  },
  {
   "cell_type": "code",
   "execution_count": null,
   "metadata": {},
   "outputs": [],
   "source": [
    "df['padj'] = RFacade.get_bh_pvalues(df['pval'])"
   ]
  },
  {
   "cell_type": "code",
   "execution_count": null,
   "metadata": {},
   "outputs": [],
   "source": []
  },
  {
   "cell_type": "code",
   "execution_count": null,
   "metadata": {},
   "outputs": [],
   "source": [
    "df['is.reference.marker'] = df['gene'].isin(marker_genes['MP.all'])\n",
    "df[df['is.reference.marker']].sort_values('padj')"
   ]
  },
  {
   "cell_type": "code",
   "execution_count": null,
   "metadata": {},
   "outputs": [],
   "source": [
    "test.plot_volcano(corrected_pval=True, min_fc=1.05, alpha=10e-5, size=20)"
   ]
  },
  {
   "cell_type": "code",
   "execution_count": null,
   "metadata": {},
   "outputs": [],
   "source": [
    "from utils import *\n",
    "marker_genes = get_marker_genes_ipf()"
   ]
  },
  {
   "cell_type": "code",
   "execution_count": null,
   "metadata": {},
   "outputs": [],
   "source": [
    "marker_genes['MP.markers'] = {g for g in marker_genes['MP.markers'] if g in set(bal.var.index)}"
   ]
  },
  {
   "cell_type": "code",
   "execution_count": null,
   "metadata": {},
   "outputs": [],
   "source": [
    "bal.to_df().head()"
   ]
  },
  {
   "cell_type": "code",
   "execution_count": null,
   "metadata": {},
   "outputs": [],
   "source": [
    "\n",
    "bal.obs['Celltype'].value_counts()\n",
    "sc.pl.dotplot(bal, var_names=list(marker_genes['MP.markers']), groupby='Celltype', use_raw=None)\n",
    "sc.pl.dotplot(bal, var_names=list(marker_genes['MP.markers']), groupby='Celltype_2', use_raw=None)"
   ]
  }
 ],
 "metadata": {
  "kernelspec": {
   "display_name": "Python [conda env:covid_macrophages_integration]",
   "language": "python",
   "name": "conda-env-covid_macrophages_integration-py"
  },
  "language_info": {
   "codemirror_mode": {
    "name": "ipython",
    "version": 3
   },
   "file_extension": ".py",
   "mimetype": "text/x-python",
   "name": "python",
   "nbconvert_exporter": "python",
   "pygments_lexer": "ipython3",
   "version": "3.7.8"
  }
 },
 "nbformat": 4,
 "nbformat_minor": 4
}
