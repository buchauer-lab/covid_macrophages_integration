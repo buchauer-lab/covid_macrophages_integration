{
 "cells": [
  {
   "cell_type": "markdown",
   "metadata": {},
   "source": [
    "### Download data from Morse et al\n",
    "\n",
    "https://www.ncbi.nlm.nih.gov/geo/download/?acc=GSE128033\n",
    "\n",
    "There's a single ~500MB file with all counts and barcodes for analyzed samples. This should be."
   ]
  },
  {
   "cell_type": "code",
   "execution_count": 1,
   "metadata": {},
   "outputs": [
    {
     "ename": "ImportError",
     "evalue": "/home/icb/ignacio.ibarra/miniconda3/envs/covid_macrophages_integration/lib/python3.8/site-packages/tables/hdf5extension.cpython-38-x86_64-linux-gnu.so: undefined symbol: H5Pset_fapl_direct",
     "output_type": "error",
     "traceback": [
      "\u001b[0;31m---------------------------------------------------------------------------\u001b[0m",
      "\u001b[0;31mImportError\u001b[0m                               Traceback (most recent call last)",
      "\u001b[0;32m<ipython-input-1-415bfdece144>\u001b[0m in \u001b[0;36m<module>\u001b[0;34m\u001b[0m\n\u001b[0;32m----> 1\u001b[0;31m \u001b[0;32mimport\u001b[0m \u001b[0mscanpy\u001b[0m \u001b[0;32mas\u001b[0m \u001b[0msc\u001b[0m\u001b[0;34m\u001b[0m\u001b[0;34m\u001b[0m\u001b[0m\n\u001b[0m\u001b[1;32m      2\u001b[0m \u001b[0;32mfrom\u001b[0m \u001b[0mos\u001b[0m\u001b[0;34m.\u001b[0m\u001b[0mpath\u001b[0m \u001b[0;32mimport\u001b[0m \u001b[0mjoin\u001b[0m\u001b[0;34m,\u001b[0m \u001b[0mexists\u001b[0m\u001b[0;34m\u001b[0m\u001b[0;34m\u001b[0m\u001b[0m\n\u001b[1;32m      3\u001b[0m \u001b[0;32mfrom\u001b[0m \u001b[0mos\u001b[0m \u001b[0;32mimport\u001b[0m \u001b[0mlistdir\u001b[0m\u001b[0;34m\u001b[0m\u001b[0;34m\u001b[0m\u001b[0m\n\u001b[1;32m      4\u001b[0m \u001b[0;32mimport\u001b[0m \u001b[0mpandas\u001b[0m \u001b[0;32mas\u001b[0m \u001b[0mpd\u001b[0m\u001b[0;34m\u001b[0m\u001b[0;34m\u001b[0m\u001b[0m\n\u001b[1;32m      5\u001b[0m \u001b[0;32mimport\u001b[0m \u001b[0mnumpy\u001b[0m \u001b[0;32mas\u001b[0m \u001b[0mnp\u001b[0m\u001b[0;34m\u001b[0m\u001b[0;34m\u001b[0m\u001b[0m\n",
      "\u001b[0;32m~/miniconda3/envs/covid_macrophages_integration/lib/python3.8/site-packages/scanpy/__init__.py\u001b[0m in \u001b[0;36m<module>\u001b[0;34m\u001b[0m\n\u001b[1;32m      9\u001b[0m \u001b[0;31m# the actual API\u001b[0m\u001b[0;34m\u001b[0m\u001b[0;34m\u001b[0m\u001b[0;34m\u001b[0m\u001b[0m\n\u001b[1;32m     10\u001b[0m \u001b[0;32mfrom\u001b[0m \u001b[0;34m.\u001b[0m\u001b[0m_settings\u001b[0m \u001b[0;32mimport\u001b[0m \u001b[0msettings\u001b[0m\u001b[0;34m,\u001b[0m \u001b[0mVerbosity\u001b[0m  \u001b[0;31m# start with settings as several tools are using it\u001b[0m\u001b[0;34m\u001b[0m\u001b[0;34m\u001b[0m\u001b[0m\n\u001b[0;32m---> 11\u001b[0;31m \u001b[0;32mfrom\u001b[0m \u001b[0;34m.\u001b[0m \u001b[0;32mimport\u001b[0m \u001b[0mtools\u001b[0m \u001b[0;32mas\u001b[0m \u001b[0mtl\u001b[0m\u001b[0;34m\u001b[0m\u001b[0;34m\u001b[0m\u001b[0m\n\u001b[0m\u001b[1;32m     12\u001b[0m \u001b[0;32mfrom\u001b[0m \u001b[0;34m.\u001b[0m \u001b[0;32mimport\u001b[0m \u001b[0mpreprocessing\u001b[0m \u001b[0;32mas\u001b[0m \u001b[0mpp\u001b[0m\u001b[0;34m\u001b[0m\u001b[0;34m\u001b[0m\u001b[0m\n\u001b[1;32m     13\u001b[0m \u001b[0;32mfrom\u001b[0m \u001b[0;34m.\u001b[0m \u001b[0;32mimport\u001b[0m \u001b[0mplotting\u001b[0m \u001b[0;32mas\u001b[0m \u001b[0mpl\u001b[0m\u001b[0;34m\u001b[0m\u001b[0;34m\u001b[0m\u001b[0m\n",
      "\u001b[0;32m~/miniconda3/envs/covid_macrophages_integration/lib/python3.8/site-packages/scanpy/tools/__init__.py\u001b[0m in \u001b[0;36m<module>\u001b[0;34m\u001b[0m\n\u001b[1;32m     15\u001b[0m \u001b[0;32mfrom\u001b[0m \u001b[0;34m.\u001b[0m\u001b[0m_leiden\u001b[0m \u001b[0;32mimport\u001b[0m \u001b[0mleiden\u001b[0m\u001b[0;34m\u001b[0m\u001b[0;34m\u001b[0m\u001b[0m\n\u001b[1;32m     16\u001b[0m \u001b[0;32mfrom\u001b[0m \u001b[0;34m.\u001b[0m\u001b[0m_louvain\u001b[0m \u001b[0;32mimport\u001b[0m \u001b[0mlouvain\u001b[0m\u001b[0;34m\u001b[0m\u001b[0;34m\u001b[0m\u001b[0m\n\u001b[0;32m---> 17\u001b[0;31m \u001b[0;32mfrom\u001b[0m \u001b[0;34m.\u001b[0m\u001b[0m_sim\u001b[0m \u001b[0;32mimport\u001b[0m \u001b[0msim\u001b[0m\u001b[0;34m\u001b[0m\u001b[0;34m\u001b[0m\u001b[0m\n\u001b[0m\u001b[1;32m     18\u001b[0m \u001b[0;32mfrom\u001b[0m \u001b[0;34m.\u001b[0m\u001b[0m_score_genes\u001b[0m \u001b[0;32mimport\u001b[0m \u001b[0mscore_genes\u001b[0m\u001b[0;34m,\u001b[0m \u001b[0mscore_genes_cell_cycle\u001b[0m\u001b[0;34m\u001b[0m\u001b[0;34m\u001b[0m\u001b[0m\n\u001b[1;32m     19\u001b[0m \u001b[0;32mfrom\u001b[0m \u001b[0;34m.\u001b[0m\u001b[0m_dendrogram\u001b[0m \u001b[0;32mimport\u001b[0m \u001b[0mdendrogram\u001b[0m\u001b[0;34m\u001b[0m\u001b[0;34m\u001b[0m\u001b[0m\n",
      "\u001b[0;32m~/miniconda3/envs/covid_macrophages_integration/lib/python3.8/site-packages/scanpy/tools/_sim.py\u001b[0m in \u001b[0;36m<module>\u001b[0;34m\u001b[0m\n\u001b[1;32m     21\u001b[0m \u001b[0;32mfrom\u001b[0m \u001b[0manndata\u001b[0m \u001b[0;32mimport\u001b[0m \u001b[0mAnnData\u001b[0m\u001b[0;34m\u001b[0m\u001b[0;34m\u001b[0m\u001b[0m\n\u001b[1;32m     22\u001b[0m \u001b[0;34m\u001b[0m\u001b[0m\n\u001b[0;32m---> 23\u001b[0;31m \u001b[0;32mfrom\u001b[0m \u001b[0;34m.\u001b[0m\u001b[0;34m.\u001b[0m \u001b[0;32mimport\u001b[0m \u001b[0m_utils\u001b[0m\u001b[0;34m,\u001b[0m \u001b[0mreadwrite\u001b[0m\u001b[0;34m,\u001b[0m \u001b[0mlogging\u001b[0m \u001b[0;32mas\u001b[0m \u001b[0mlogg\u001b[0m\u001b[0;34m\u001b[0m\u001b[0;34m\u001b[0m\u001b[0m\n\u001b[0m\u001b[1;32m     24\u001b[0m \u001b[0;32mfrom\u001b[0m \u001b[0;34m.\u001b[0m\u001b[0;34m.\u001b[0m\u001b[0m_settings\u001b[0m \u001b[0;32mimport\u001b[0m \u001b[0msettings\u001b[0m\u001b[0;34m\u001b[0m\u001b[0;34m\u001b[0m\u001b[0m\n\u001b[1;32m     25\u001b[0m \u001b[0;32mfrom\u001b[0m \u001b[0;34m.\u001b[0m\u001b[0;34m.\u001b[0m\u001b[0m_compat\u001b[0m \u001b[0;32mimport\u001b[0m \u001b[0mLiteral\u001b[0m\u001b[0;34m\u001b[0m\u001b[0;34m\u001b[0m\u001b[0m\n",
      "\u001b[0;32m~/miniconda3/envs/covid_macrophages_integration/lib/python3.8/site-packages/scanpy/readwrite.py\u001b[0m in \u001b[0;36m<module>\u001b[0;34m\u001b[0m\n\u001b[1;32m      8\u001b[0m \u001b[0;32mimport\u001b[0m \u001b[0mpandas\u001b[0m \u001b[0;32mas\u001b[0m \u001b[0mpd\u001b[0m\u001b[0;34m\u001b[0m\u001b[0;34m\u001b[0m\u001b[0m\n\u001b[1;32m      9\u001b[0m \u001b[0;32mfrom\u001b[0m \u001b[0mmatplotlib\u001b[0m\u001b[0;34m.\u001b[0m\u001b[0mimage\u001b[0m \u001b[0;32mimport\u001b[0m \u001b[0mimread\u001b[0m\u001b[0;34m\u001b[0m\u001b[0;34m\u001b[0m\u001b[0m\n\u001b[0;32m---> 10\u001b[0;31m \u001b[0;32mimport\u001b[0m \u001b[0mtables\u001b[0m\u001b[0;34m\u001b[0m\u001b[0;34m\u001b[0m\u001b[0m\n\u001b[0m\u001b[1;32m     11\u001b[0m \u001b[0;32mimport\u001b[0m \u001b[0manndata\u001b[0m\u001b[0;34m\u001b[0m\u001b[0;34m\u001b[0m\u001b[0m\n\u001b[1;32m     12\u001b[0m from anndata import (\n",
      "\u001b[0;32m~/miniconda3/envs/covid_macrophages_integration/lib/python3.8/site-packages/tables/__init__.py\u001b[0m in \u001b[0;36m<module>\u001b[0;34m\u001b[0m\n\u001b[1;32m     60\u001b[0m \u001b[0;31m# Import the user classes from the proper modules\u001b[0m\u001b[0;34m\u001b[0m\u001b[0;34m\u001b[0m\u001b[0;34m\u001b[0m\u001b[0m\n\u001b[1;32m     61\u001b[0m \u001b[0;32mfrom\u001b[0m \u001b[0;34m.\u001b[0m\u001b[0mexceptions\u001b[0m \u001b[0;32mimport\u001b[0m \u001b[0;34m*\u001b[0m\u001b[0;34m\u001b[0m\u001b[0;34m\u001b[0m\u001b[0m\n\u001b[0;32m---> 62\u001b[0;31m \u001b[0;32mfrom\u001b[0m \u001b[0;34m.\u001b[0m\u001b[0mfile\u001b[0m \u001b[0;32mimport\u001b[0m \u001b[0mFile\u001b[0m\u001b[0;34m,\u001b[0m \u001b[0mopen_file\u001b[0m\u001b[0;34m,\u001b[0m \u001b[0mcopy_file\u001b[0m\u001b[0;34m\u001b[0m\u001b[0;34m\u001b[0m\u001b[0m\n\u001b[0m\u001b[1;32m     63\u001b[0m \u001b[0;32mfrom\u001b[0m \u001b[0;34m.\u001b[0m\u001b[0mnode\u001b[0m \u001b[0;32mimport\u001b[0m \u001b[0mNode\u001b[0m\u001b[0;34m\u001b[0m\u001b[0;34m\u001b[0m\u001b[0m\n\u001b[1;32m     64\u001b[0m \u001b[0;32mfrom\u001b[0m \u001b[0;34m.\u001b[0m\u001b[0mgroup\u001b[0m \u001b[0;32mimport\u001b[0m \u001b[0mGroup\u001b[0m\u001b[0;34m\u001b[0m\u001b[0;34m\u001b[0m\u001b[0m\n",
      "\u001b[0;32m~/miniconda3/envs/covid_macrophages_integration/lib/python3.8/site-packages/tables/file.py\u001b[0m in \u001b[0;36m<module>\u001b[0;34m\u001b[0m\n\u001b[1;32m     31\u001b[0m \u001b[0;32mimport\u001b[0m \u001b[0mnumpy\u001b[0m\u001b[0;34m\u001b[0m\u001b[0;34m\u001b[0m\u001b[0m\n\u001b[1;32m     32\u001b[0m \u001b[0;34m\u001b[0m\u001b[0m\n\u001b[0;32m---> 33\u001b[0;31m \u001b[0;32mfrom\u001b[0m \u001b[0;34m.\u001b[0m \u001b[0;32mimport\u001b[0m \u001b[0mhdf5extension\u001b[0m\u001b[0;34m\u001b[0m\u001b[0;34m\u001b[0m\u001b[0m\n\u001b[0m\u001b[1;32m     34\u001b[0m \u001b[0;32mfrom\u001b[0m \u001b[0;34m.\u001b[0m \u001b[0;32mimport\u001b[0m \u001b[0mutilsextension\u001b[0m\u001b[0;34m\u001b[0m\u001b[0;34m\u001b[0m\u001b[0m\n\u001b[1;32m     35\u001b[0m \u001b[0;32mfrom\u001b[0m \u001b[0;34m.\u001b[0m \u001b[0;32mimport\u001b[0m \u001b[0mparameters\u001b[0m\u001b[0;34m\u001b[0m\u001b[0;34m\u001b[0m\u001b[0m\n",
      "\u001b[0;31mImportError\u001b[0m: /home/icb/ignacio.ibarra/miniconda3/envs/covid_macrophages_integration/lib/python3.8/site-packages/tables/hdf5extension.cpython-38-x86_64-linux-gnu.so: undefined symbol: H5Pset_fapl_direct"
     ]
    }
   ],
   "source": [
    "import scanpy as sc\n",
    "from os.path import join, exists\n",
    "from os import listdir\n",
    "import pandas as pd\n",
    "import numpy as np\n",
    "import warnings; warnings.simplefilter('ignore')\n",
    "d = '../data/morse'"
   ]
  },
  {
   "cell_type": "code",
   "execution_count": 2,
   "metadata": {},
   "outputs": [
    {
     "name": "stdout",
     "output_type": "stream",
     "text": [
      "data loaded successfully\n"
     ]
    }
   ],
   "source": [
    "print('data loaded successfully')"
   ]
  },
  {
   "cell_type": "code",
   "execution_count": 3,
   "metadata": {},
   "outputs": [
    {
     "name": "stdout",
     "output_type": "stream",
     "text": [
      "done...\n"
     ]
    }
   ],
   "source": [
    "print('done...')"
   ]
  },
  {
   "cell_type": "code",
   "execution_count": 4,
   "metadata": {},
   "outputs": [
    {
     "name": "stdout",
     "output_type": "stream",
     "text": [
      "-rw-r--r--. 1 ignacio.ibarra OG-ICB-User 259K Mar  8  2019 GSM3660641_SC14NOR_genes.tsv.gz\n",
      "-rw-r--r--. 1 ignacio.ibarra OG-ICB-User 259K Mar  8  2019 GSM3660642_SC31NOR_genes.tsv.gz\n",
      "-rw-r--r--. 1 ignacio.ibarra OG-ICB-User 259K Mar  8  2019 GSM3660643_SC31DNOR_genes.tsv.gz\n",
      "-rw-r--r--. 1 ignacio.ibarra OG-ICB-User 259K Mar  8  2019 GSM3660644_SC45NOR_genes.tsv.gz\n",
      "-rw-r--r--. 1 ignacio.ibarra OG-ICB-User 259K Mar  8  2019 GSM3660645_SC56NOR_genes.tsv.gz\n",
      "-rw-r--r--. 1 ignacio.ibarra OG-ICB-User 259K Mar  8  2019 GSM3660646_SC59NOR_genes.tsv.gz\n",
      "-rw-r--r--. 1 ignacio.ibarra OG-ICB-User 259K Mar  8  2019 GSM3660647_SC155NORLOW_genes.tsv.gz\n",
      "-rw-r--r--. 1 ignacio.ibarra OG-ICB-User 259K Mar  8  2019 GSM3660648_SC156NORUP_genes.tsv.gz\n",
      "-rw-r--r--. 1 ignacio.ibarra OG-ICB-User 259K Mar  8  2019 GSM3660649_SC228NORbal_frozen_genes.tsv.gz\n",
      "-rw-r--r--. 1 ignacio.ibarra OG-ICB-User 265K Mar  8  2019 GSM3660650_SC249NORbal_fresh_genes.tsv.gz\n",
      "-rw-r--r--. 1 ignacio.ibarra OG-ICB-User 259K Mar  8  2019 GSM3660651_SC87IPFLOW_genes.tsv.gz\n",
      "-rw-r--r--. 1 ignacio.ibarra OG-ICB-User 259K Mar  8  2019 GSM3660652_SC88IPFUP_genes.tsv.gz\n",
      "-rw-r--r--. 1 ignacio.ibarra OG-ICB-User 259K Mar  8  2019 GSM3660653_SC89IPFLOW_genes.tsv.gz\n",
      "-rw-r--r--. 1 ignacio.ibarra OG-ICB-User 259K Mar  8  2019 GSM3660654_SC93IPFLOW_genes.tsv.gz\n",
      "-rw-r--r--. 1 ignacio.ibarra OG-ICB-User 259K Mar  8  2019 GSM3660655_SC94IPFUP_genes.tsv.gz\n",
      "-rw-r--r--. 1 ignacio.ibarra OG-ICB-User 259K Mar  8  2019 GSM3660656_SC95IPFLOW_genes.tsv.gz\n",
      "-rw-r--r--. 1 ignacio.ibarra OG-ICB-User 259K Mar  8  2019 GSM3660657_SC153IPFLOW_genes.tsv.gz\n",
      "-rw-r--r--. 1 ignacio.ibarra OG-ICB-User 259K Mar  8  2019 GSM3660658_SC154IPFUP_genes.tsv.gz\n"
     ]
    }
   ],
   "source": [
    "!ls -ltrh data/morse | grep genes"
   ]
  },
  {
   "cell_type": "code",
   "execution_count": 5,
   "metadata": {},
   "outputs": [],
   "source": [
    "import pandas as pd\n",
    "from os.path import join"
   ]
  },
  {
   "cell_type": "code",
   "execution_count": 6,
   "metadata": {},
   "outputs": [],
   "source": [
    "df = []\n",
    "for f in ['CCA_3nor3ipf_WorkspaceV4_newipfupdated_ClusterIdent.csv',\n",
    "          'CCA_NorControls_WorkspaceV2_activeIdent.csv']:\n",
    "    df2 = pd.read_csv(join('data', f), sep=',', index_col=0)\n",
    "    df2.columns = ['annotation']\n",
    "    df2['patient'] = df2.index.str.split('_').str[0]\n",
    "    df.append(df2)\n",
    "df = pd.concat(df)"
   ]
  },
  {
   "cell_type": "code",
   "execution_count": 13,
   "metadata": {},
   "outputs": [],
   "source": [
    "import seaborn as sns"
   ]
  },
  {
   "cell_type": "code",
   "execution_count": 18,
   "metadata": {},
   "outputs": [
    {
     "data": {
      "text/plain": [
       "<seaborn.matrix.ClusterGrid at 0x7f170143cad0>"
      ]
     },
     "execution_count": 18,
     "metadata": {},
     "output_type": "execute_result"
    },
    {
     "data": {
      "image/png": "[encoded data removed]",
      "text/plain": [
       "<Figure size 720x720 with 4 Axes>"
      ]
     },
     "metadata": {
      "needs_background": "light"
     },
     "output_type": "display_data"
    }
   ],
   "source": [
    "sns.clustermap(df.groupby(['patient', 'annotation']).size().reset_index().pivot('patient', 'annotation', 0).fillna(0).transpose(), cmap='Reds',\n",
    "              yticklabels=True)"
   ]
  },
  {
   "cell_type": "code",
   "execution_count": 7,
   "metadata": {},
   "outputs": [
    {
     "name": "stdout",
     "output_type": "stream",
     "text": [
      "{'0 FABP4hi Macrophage': 1801, '0-FABP4hi Macrophage': 1599, '4 Endothelial': 765, '3-Endothelial': 669, '1-SPP1hi Macrophage': 590, '2 T-Cell': 560, '1 SPP1hi Macrophage': 434, '7 Fibroblast/SMC/pericyte': 397, '2-T Helper/T Reg': 394, '3 FCN1hi monocyte': 351, '6-FCN1hi Monocyte': 340, '8 AT1': 310, '5-Fibroblast': 273, '4-Cytotoxic T Cell': 235, '9 Ciliated Cell': 234, '7-AT1/Club': 201, '6 AT2': 187, '12-AT2': 164, '8-Ciliated': 156, '5 T-cell/NK cell': 151, '17-Lymphatic Endothelial': 147, '11 Lymphatic endothelial': 147, '12 Club': 141, '10-Smooth Muscle/Pericyte': 140, '9-Goblet': 137, '13 Mast cell': 135, '13-Mast Cell': 134, '10 Dendritic cell': 132, '16-Dendritic Cell': 103, '15 B-cell/plasma cell': 99, '19-B Cell': 89, '14 Proliferating cell': 88, '15-Proliferating Cell': 88, '11-NK Cell': 80, '20-Low Quality Ciliated': 33, '22-Plasma Cell': 30, '18-Mast Cell': 13, '14-Basal': 5}\n",
      "{'1-SPP1hi Macrophage': 1091, '1 SPP1hi Macrophage': 1057, '0 FABP4hi Macrophage': 751, '0-FABP4hi Macrophage': 718, '6-FCN1hi Monocyte': 665, '3 FCN1hi monocyte': 662, '2 T-Cell': 379, '2-T Helper/T Reg': 266, '4 Endothelial': 245, '3-Endothelial': 220, '4-Cytotoxic T Cell': 212, '5 T-cell/NK cell': 208, '8 AT1': 132, '7 Fibroblast/SMC/pericyte': 127, '6 AT2': 126, '9 Ciliated Cell': 125, '10 Dendritic cell': 119, '11-NK Cell': 107, '12-AT2': 104, '17-Lymphatic Endothelial': 99, '7-AT1/Club': 98, '11 Lymphatic endothelial': 97, '16-Dendritic Cell': 86, '14 Proliferating cell': 83, '15-Proliferating Cell': 80, '5-Fibroblast': 76, '8-Ciliated': 72, '12 Club': 59, '13 Mast cell': 58, '10-Smooth Muscle/Pericyte': 57, '9-Goblet': 49, '19-B Cell': 44, '13-Mast Cell': 36, '15 B-cell/plasma cell': 27, '20-Low Quality Ciliated': 19, '18-Mast Cell': 16, '14-Basal': 4, '22-Plasma Cell': 2, '21-Low Quality Basal': 1}\n",
      "{'1-SPP1hi Macrophage': 1218, '2-T Helper/T Reg': 855, '5-Fibroblast': 691, '3-Endothelial': 463, '4-Cytotoxic T Cell': 367, '18-Mast Cell': 331, '0-FABP4hi Macrophage': 222, '6-FCN1hi Monocyte': 209, '10-Smooth Muscle/Pericyte': 155, '11-NK Cell': 150, '7-AT1/Club': 136, '9-Goblet': 123, '15-Proliferating Cell': 102, '16-Dendritic Cell': 100, '19-B Cell': 93, '13-Mast Cell': 85, '17-Lymphatic Endothelial': 82, '8-Ciliated': 76, '14-Basal': 52, '20-Low Quality Ciliated': 47, '22-Plasma Cell': 44, '12-AT2': 32, '21-Low Quality Basal': 18}\n",
      "{'1 SPP1hi Macrophage': 360, '5 T-cell/NK cell': 156, '0 FABP4hi Macrophage': 155, '2 T-Cell': 139, '3 FCN1hi monocyte': 110, '6 AT2': 101, '4 Endothelial': 34, '12 Club': 22, '10 Dendritic cell': 20, '13 Mast cell': 19, '9 Ciliated Cell': 17, '15 B-cell/plasma cell': 15, '14 Proliferating cell': 12, '8 AT1': 11, '7 Fibroblast/SMC/pericyte': 8, '11 Lymphatic endothelial': 6}\n",
      "{'1 SPP1hi Macrophage': 1810, '2 T-Cell': 364, '0 FABP4hi Macrophage': 264, '5 T-cell/NK cell': 238, '6 AT2': 186, '3 FCN1hi monocyte': 127, '9 Ciliated Cell': 84, '10 Dendritic cell': 52, '4 Endothelial': 50, '7 Fibroblast/SMC/pericyte': 49, '8 AT1': 39, '13 Mast cell': 39, '14 Proliferating cell': 32, '12 Club': 27, '11 Lymphatic endothelial': 16, '15 B-cell/plasma cell': 12}\n",
      "{'1 SPP1hi Macrophage': 337, '0 FABP4hi Macrophage': 121, '2 T-Cell': 110, '3 FCN1hi monocyte': 107, '5 T-cell/NK cell': 101, '6 AT2': 89, '4 Endothelial': 42, '14 Proliferating cell': 28, '9 Ciliated Cell': 24, '13 Mast cell': 18, '10 Dendritic cell': 15, '15 B-cell/plasma cell': 15, '8 AT1': 12, '12 Club': 11, '7 Fibroblast/SMC/pericyte': 10, '11 Lymphatic endothelial': 3}\n",
      "{'0 FABP4hi Macrophage': 1278, '0-FABP4hi Macrophage': 1251, '1-SPP1hi Macrophage': 586, '1 SPP1hi Macrophage': 561, '5 T-cell/NK cell': 282, '4-Cytotoxic T Cell': 256, '4 Endothelial': 212, '3 FCN1hi monocyte': 191, '2 T-Cell': 177, '6-FCN1hi Monocyte': 174, '3-Endothelial': 172, '2-T Helper/T Reg': 145, '11 Lymphatic endothelial': 89, '6 AT2': 88, '10 Dendritic cell': 88, '17-Lymphatic Endothelial': 87, '7 Fibroblast/SMC/pericyte': 78, '12-AT2': 76, '11-NK Cell': 74, '9 Ciliated Cell': 61, '16-Dendritic Cell': 61, '15 B-cell/plasma cell': 47, '8 AT1': 47, '8-Ciliated': 45, '19-B Cell': 44, '5-Fibroblast': 41, '7-AT1/Club': 34, '12 Club': 30, '15-Proliferating Cell': 29, '14 Proliferating cell': 28, '9-Goblet': 26, '13-Mast Cell': 25, '13 Mast cell': 17, '10-Smooth Muscle/Pericyte': 14, '20-Low Quality Ciliated': 6, '22-Plasma Cell': 6, '21-Low Quality Basal': 2, '18-Mast Cell': 1}\n",
      "{'3-Endothelial': 575, '1-SPP1hi Macrophage': 501, '5-Fibroblast': 318, '7-AT1/Club': 299, '14-Basal': 237, '8-Ciliated': 233, '9-Goblet': 171, '21-Low Quality Basal': 166, '10-Smooth Muscle/Pericyte': 118, '2-T Helper/T Reg': 103, '20-Low Quality Ciliated': 97, '13-Mast Cell': 80, '4-Cytotoxic T Cell': 74, '6-FCN1hi Monocyte': 50, '16-Dendritic Cell': 47, '15-Proliferating Cell': 45, '17-Lymphatic Endothelial': 25, '12-AT2': 22, '0-FABP4hi Macrophage': 20, '19-B Cell': 16, '22-Plasma Cell': 13, '11-NK Cell': 10}\n",
      "{'0-FABP4hi Macrophage': 625, '1-SPP1hi Macrophage': 224, '3-Endothelial': 216, '2-T Helper/T Reg': 182, '19-B Cell': 131, '6-FCN1hi Monocyte': 128, '11-NK Cell': 112, '12-AT2': 111, '4-Cytotoxic T Cell': 84, '10-Smooth Muscle/Pericyte': 63, '15-Proliferating Cell': 60, '8-Ciliated': 37, '9-Goblet': 35, '5-Fibroblast': 33, '7-AT1/Club': 30, '16-Dendritic Cell': 27, '17-Lymphatic Endothelial': 21, '13-Mast Cell': 11, '22-Plasma Cell': 5, '14-Basal': 4, '20-Low Quality Ciliated': 4, '18-Mast Cell': 2, '21-Low Quality Basal': 1}\n",
      "{'2 T-Cell': 770, '4-Cytotoxic T Cell': 666, '0 FABP4hi Macrophage': 654, '5 T-cell/NK cell': 620, '0-FABP4hi Macrophage': 594, '2-T Helper/T Reg': 582, '4 Endothelial': 566, '1-SPP1hi Macrophage': 524, '3 FCN1hi monocyte': 502, '1 SPP1hi Macrophage': 486, '3-Endothelial': 476, '6-FCN1hi Monocyte': 470, '6 AT2': 332, '12-AT2': 299, '11-NK Cell': 148, '10-Smooth Muscle/Pericyte': 144, '7 Fibroblast/SMC/pericyte': 141, '10 Dendritic cell': 103, '13-Mast Cell': 91, '7-AT1/Club': 70, '16-Dendritic Cell': 68, '8 AT1': 51, '5-Fibroblast': 47, '9 Ciliated Cell': 46, '13 Mast cell': 45, '14 Proliferating cell': 44, '15-Proliferating Cell': 38, '12 Club': 36, '8-Ciliated': 29, '15 B-cell/plasma cell': 23, '9-Goblet': 22, '20-Low Quality Ciliated': 17, '11 Lymphatic endothelial': 17, '17-Lymphatic Endothelial': 16, '19-B Cell': 14, '22-Plasma Cell': 10, '14-Basal': 6, '18-Mast Cell': 3}\n",
      "{'1-SPP1hi Macrophage': 1052, '5-Fibroblast': 603, '2-T Helper/T Reg': 548, '3-Endothelial': 363, '13-Mast Cell': 268, '9-Goblet': 253, '4-Cytotoxic T Cell': 235, '0-FABP4hi Macrophage': 232, '6-FCN1hi Monocyte': 192, '18-Mast Cell': 160, '17-Lymphatic Endothelial': 121, '15-Proliferating Cell': 102, '7-AT1/Club': 101, '10-Smooth Muscle/Pericyte': 95, '19-B Cell': 88, '16-Dendritic Cell': 88, '8-Ciliated': 83, '11-NK Cell': 81, '14-Basal': 51, '22-Plasma Cell': 44, '12-AT2': 36, '20-Low Quality Ciliated': 19, '21-Low Quality Basal': 13}\n",
      "{'3-Endothelial': 462, '1-SPP1hi Macrophage': 403, '14-Basal': 321, '5-Fibroblast': 268, '7-AT1/Club': 250, '8-Ciliated': 219, '9-Goblet': 170, '10-Smooth Muscle/Pericyte': 98, '13-Mast Cell': 79, '21-Low Quality Basal': 77, '2-T Helper/T Reg': 74, '6-FCN1hi Monocyte': 42, '20-Low Quality Ciliated': 41, '4-Cytotoxic T Cell': 40, '15-Proliferating Cell': 38, '16-Dendritic Cell': 36, '12-AT2': 22, '0-FABP4hi Macrophage': 15, '22-Plasma Cell': 13, '19-B Cell': 13, '17-Lymphatic Endothelial': 11, '11-NK Cell': 7, '18-Mast Cell': 1}\n",
      "{'1-SPP1hi Macrophage': 998, '3-Endothelial': 554, '4-Cytotoxic T Cell': 461, '0-FABP4hi Macrophage': 361, '2-T Helper/T Reg': 281, '10-Smooth Muscle/Pericyte': 206, '5-Fibroblast': 176, '6-FCN1hi Monocyte': 171, '11-NK Cell': 142, '9-Goblet': 101, '19-B Cell': 77, '15-Proliferating Cell': 74, '16-Dendritic Cell': 68, '7-AT1/Club': 61, '13-Mast Cell': 52, '18-Mast Cell': 51, '8-Ciliated': 43, '17-Lymphatic Endothelial': 41, '12-AT2': 40, '14-Basal': 29, '20-Low Quality Ciliated': 18, '22-Plasma Cell': 11, '21-Low Quality Basal': 3}\n",
      "{'2 T-Cell': 238, '0 FABP4hi Macrophage': 183, '5 T-cell/NK cell': 85, '1 SPP1hi Macrophage': 68, '3 FCN1hi monocyte': 52, '15 B-cell/plasma cell': 32, '7 Fibroblast/SMC/pericyte': 12, '14 Proliferating cell': 11, '4 Endothelial': 11, '12 Club': 6, '10 Dendritic cell': 3, '6 AT2': 3, '9 Ciliated Cell': 1, '11 Lymphatic endothelial': 1}\n",
      "{'1-SPP1hi Macrophage': 871, '0-FABP4hi Macrophage': 676, '3-Endothelial': 666, '2-T Helper/T Reg': 420, '11-NK Cell': 240, '5-Fibroblast': 222, '4-Cytotoxic T Cell': 213, '7-AT1/Club': 174, '6-FCN1hi Monocyte': 172, '13-Mast Cell': 133, '15-Proliferating Cell': 128, '12-AT2': 128, '9-Goblet': 128, '8-Ciliated': 94, '18-Mast Cell': 88, '17-Lymphatic Endothelial': 85, '16-Dendritic Cell': 85, '10-Smooth Muscle/Pericyte': 81, '14-Basal': 37, '19-B Cell': 35, '20-Low Quality Ciliated': 26, '22-Plasma Cell': 11, '21-Low Quality Basal': 4}\n",
      "{'1-SPP1hi Macrophage': 1081, '3-Endothelial': 496, '9-Goblet': 255, '7-AT1/Club': 216, '8-Ciliated': 187, '20-Low Quality Ciliated': 130, '4-Cytotoxic T Cell': 115, '10-Smooth Muscle/Pericyte': 106, '5-Fibroblast': 99, '21-Low Quality Basal': 99, '2-T Helper/T Reg': 90, '13-Mast Cell': 70, '14-Basal': 70, '6-FCN1hi Monocyte': 51, '15-Proliferating Cell': 46, '0-FABP4hi Macrophage': 36, '11-NK Cell': 35, '16-Dendritic Cell': 27, '17-Lymphatic Endothelial': 17, '19-B Cell': 14, '12-AT2': 13, '18-Mast Cell': 4, '22-Plasma Cell': 2}\n"
     ]
    }
   ],
   "source": [
    "for f in set(df['patient']):\n",
    "    print(df[df['patient'] == f]['annotation'].value_counts().to_dict())"
   ]
  },
  {
   "cell_type": "markdown",
   "metadata": {},
   "source": [
    "### Metadata\n",
    "- Currently metadata is nowwhere to be found.\n",
    "- We use the LCA annotation metadata (atm, confirm labels).\n",
    "- Replace h5ad path with the latest LCA h5ad generated"
   ]
  },
  {
   "cell_type": "code",
   "execution_count": 69,
   "metadata": {},
   "outputs": [],
   "source": [
    "raw_annotated_lca_h5ad_path = ''\n",
    "if exists(raw_annotated_lca_h5ad_path):\n",
    "    lca = sc.read_h5ad(raw_annotated_lca_h5ad_path)\n",
    "    laf = lca[lca.obs['dataset'].isin({'Pittsburgh_Lafyatis_2019Morse_10Xv1',\n",
    "                                       'Pittsburgh_Lafyatis_2019Morse_10Xv2'}),:]\n",
    "    laf.write('../data/morse/morse_lca_with_metadata.h5ad', compression='lzf')\n",
    "    \n",
    "    laf_mac = laf[laf.obs['original_celltype_ann'].str.contains('Macrophage'),:]\n",
    "    laf_mac.write('../data/morse/morse_lca_with_metadata_macrophages.h5ad', compression='lzf')\n",
    "laf_mac = sc.read_h5ad('../data/morse/morse_lca_with_metadata_macrophages.h5ad')"
   ]
  },
  {
   "cell_type": "code",
   "execution_count": null,
   "metadata": {},
   "outputs": [],
   "source": [
    "laf_mac_ad_by_sample = {sample: laf_mac[laf_mac.obs['sample'] == sample,:] for sample in set(laf_mac.obs['sample'])}"
   ]
  },
  {
   "cell_type": "markdown",
   "metadata": {},
   "source": [
    "### Read raw counts"
   ]
  },
  {
   "cell_type": "code",
   "execution_count": 37,
   "metadata": {},
   "outputs": [
    {
     "data": {
      "text/plain": [
       "{'GSM3660641_SC14NOR',\n",
       " 'GSM3660642_SC31NOR',\n",
       " 'GSM3660643_SC31DNOR',\n",
       " 'GSM3660644_SC45NOR',\n",
       " 'GSM3660645_SC56NOR',\n",
       " 'GSM3660646_SC59NOR',\n",
       " 'GSM3660647_SC155NORLOW',\n",
       " 'GSM3660648_SC156NORUP',\n",
       " 'GSM3660649_SC228NORbal',\n",
       " 'GSM3660650_SC249NORbal',\n",
       " 'GSM3660651_SC87IPFLOW',\n",
       " 'GSM3660652_SC88IPFUP',\n",
       " 'GSM3660653_SC89IPFLOW',\n",
       " 'GSM3660654_SC93IPFLOW',\n",
       " 'GSM3660655_SC94IPFUP',\n",
       " 'GSM3660656_SC95IPFLOW',\n",
       " 'GSM3660657_SC153IPFLOW',\n",
       " 'GSM3660658_SC154IPFUP'}"
      ]
     },
     "execution_count": 37,
     "metadata": {},
     "output_type": "execute_result"
    }
   ],
   "source": [
    "uniq_k = {\"_\".join(k.split(\"_\")[:2]) for k in listdir(d) if k.endswith(\".mtx.gz\")}"
   ]
  },
  {
   "cell_type": "code",
   "execution_count": 66,
   "metadata": {},
   "outputs": [
    {
     "name": "stdout",
     "output_type": "stream",
     "text": [
      "True data/morse/by_patient/GSM3660648_SC156NORUP.h5ad\n",
      "False data/morse/by_patient/GSM3660644_SC45NOR.h5ad\n",
      "GSM3660644_SC45NOR False False\n",
      "True ../data/morse/GSM3660644_SC45NOR_matrix.mtx.gz\n",
      "True ../data/morse/GSM3660644_SC45NOR_genes.tsv.gz\n",
      "True ../data/morse/GSM3660644_SC45NOR_barcodes.tsv.gz\n"
     ]
    },
    {
     "name": "stderr",
     "output_type": "stream",
     "text": [
      "/home/icb/ignacio.ibarra/miniconda3/envs/mypython3/lib/python3.7/site-packages/anndata/_core/anndata.py:1192: FutureWarning: is_categorical is deprecated and will be removed in a future version.  Use is_categorical_dtype instead\n",
      "  if is_string_dtype(df[key]) and not is_categorical(df[key])\n",
      "... storing 'GSM' as categorical\n",
      "... storing 'sample.id' as categorical\n",
      "... storing 'symbol' as categorical\n"
     ]
    },
    {
     "name": "stdout",
     "output_type": "stream",
     "text": [
      "False data/morse/by_patient/GSM3660657_SC153IPFLOW.h5ad\n",
      "GSM3660657_SC153IPFLOW False False\n",
      "True ../data/morse/GSM3660657_SC153IPFLOW_matrix.mtx.gz\n",
      "True ../data/morse/GSM3660657_SC153IPFLOW_genes.tsv.gz\n",
      "True ../data/morse/GSM3660657_SC153IPFLOW_barcodes.tsv.gz\n"
     ]
    },
    {
     "name": "stderr",
     "output_type": "stream",
     "text": [
      "... storing 'GSM' as categorical\n",
      "... storing 'sample.id' as categorical\n",
      "... storing 'symbol' as categorical\n"
     ]
    },
    {
     "name": "stdout",
     "output_type": "stream",
     "text": [
      "False data/morse/by_patient/GSM3660645_SC56NOR.h5ad\n",
      "GSM3660645_SC56NOR False False\n",
      "True ../data/morse/GSM3660645_SC56NOR_matrix.mtx.gz\n",
      "True ../data/morse/GSM3660645_SC56NOR_genes.tsv.gz\n",
      "True ../data/morse/GSM3660645_SC56NOR_barcodes.tsv.gz\n"
     ]
    },
    {
     "name": "stderr",
     "output_type": "stream",
     "text": [
      "... storing 'GSM' as categorical\n",
      "... storing 'sample.id' as categorical\n",
      "... storing 'symbol' as categorical\n"
     ]
    },
    {
     "name": "stdout",
     "output_type": "stream",
     "text": [
      "False data/morse/by_patient/GSM3660646_SC59NOR.h5ad\n",
      "GSM3660646_SC59NOR False False\n",
      "True ../data/morse/GSM3660646_SC59NOR_matrix.mtx.gz\n",
      "True ../data/morse/GSM3660646_SC59NOR_genes.tsv.gz\n",
      "True ../data/morse/GSM3660646_SC59NOR_barcodes.tsv.gz\n"
     ]
    },
    {
     "name": "stderr",
     "output_type": "stream",
     "text": [
      "... storing 'GSM' as categorical\n",
      "... storing 'sample.id' as categorical\n",
      "... storing 'symbol' as categorical\n"
     ]
    },
    {
     "name": "stdout",
     "output_type": "stream",
     "text": [
      "False data/morse/by_patient/GSM3660641_SC14NOR.h5ad\n",
      "GSM3660641_SC14NOR False False\n",
      "True ../data/morse/GSM3660641_SC14NOR_matrix.mtx.gz\n",
      "True ../data/morse/GSM3660641_SC14NOR_genes.tsv.gz\n",
      "True ../data/morse/GSM3660641_SC14NOR_barcodes.tsv.gz\n"
     ]
    },
    {
     "name": "stderr",
     "output_type": "stream",
     "text": [
      "... storing 'GSM' as categorical\n",
      "... storing 'sample.id' as categorical\n",
      "... storing 'symbol' as categorical\n"
     ]
    },
    {
     "name": "stdout",
     "output_type": "stream",
     "text": [
      "False data/morse/by_patient/GSM3660656_SC95IPFLOW.h5ad\n",
      "GSM3660656_SC95IPFLOW False False\n",
      "True ../data/morse/GSM3660656_SC95IPFLOW_matrix.mtx.gz\n",
      "True ../data/morse/GSM3660656_SC95IPFLOW_genes.tsv.gz\n",
      "True ../data/morse/GSM3660656_SC95IPFLOW_barcodes.tsv.gz\n"
     ]
    },
    {
     "name": "stderr",
     "output_type": "stream",
     "text": [
      "... storing 'GSM' as categorical\n",
      "... storing 'sample.id' as categorical\n",
      "... storing 'symbol' as categorical\n"
     ]
    },
    {
     "name": "stdout",
     "output_type": "stream",
     "text": [
      "False data/morse/by_patient/GSM3660643_SC31DNOR.h5ad\n",
      "GSM3660643_SC31DNOR False False\n",
      "True ../data/morse/GSM3660643_SC31DNOR_matrix.mtx.gz\n",
      "True ../data/morse/GSM3660643_SC31DNOR_genes.tsv.gz\n",
      "True ../data/morse/GSM3660643_SC31DNOR_barcodes.tsv.gz\n"
     ]
    },
    {
     "name": "stderr",
     "output_type": "stream",
     "text": [
      "... storing 'GSM' as categorical\n",
      "... storing 'sample.id' as categorical\n",
      "... storing 'symbol' as categorical\n"
     ]
    },
    {
     "name": "stdout",
     "output_type": "stream",
     "text": [
      "False data/morse/by_patient/GSM3660652_SC88IPFUP.h5ad\n",
      "GSM3660652_SC88IPFUP False False\n",
      "True ../data/morse/GSM3660652_SC88IPFUP_matrix.mtx.gz\n",
      "True ../data/morse/GSM3660652_SC88IPFUP_genes.tsv.gz\n",
      "True ../data/morse/GSM3660652_SC88IPFUP_barcodes.tsv.gz\n"
     ]
    },
    {
     "name": "stderr",
     "output_type": "stream",
     "text": [
      "... storing 'GSM' as categorical\n",
      "... storing 'sample.id' as categorical\n",
      "... storing 'symbol' as categorical\n"
     ]
    },
    {
     "name": "stdout",
     "output_type": "stream",
     "text": [
      "False data/morse/by_patient/GSM3660649_SC228NORbal.h5ad\n",
      "GSM3660649_SC228NORbal False False\n",
      "False ../data/morse/GSM3660649_SC228NORbal_matrix.mtx.gz\n",
      "False ../data/morse/GSM3660649_SC228NORbal_genes.tsv.gz\n",
      "False ../data/morse/GSM3660649_SC228NORbal_barcodes.tsv.gz\n"
     ]
    },
    {
     "name": "stderr",
     "output_type": "stream",
     "text": [
      "... storing 'GSM' as categorical\n",
      "... storing 'sample.id' as categorical\n",
      "... storing 'symbol' as categorical\n"
     ]
    },
    {
     "name": "stdout",
     "output_type": "stream",
     "text": [
      "False data/morse/by_patient/GSM3660651_SC87IPFLOW.h5ad\n",
      "GSM3660651_SC87IPFLOW False False\n",
      "True ../data/morse/GSM3660651_SC87IPFLOW_matrix.mtx.gz\n",
      "True ../data/morse/GSM3660651_SC87IPFLOW_genes.tsv.gz\n",
      "True ../data/morse/GSM3660651_SC87IPFLOW_barcodes.tsv.gz\n"
     ]
    },
    {
     "name": "stderr",
     "output_type": "stream",
     "text": [
      "... storing 'GSM' as categorical\n",
      "... storing 'sample.id' as categorical\n",
      "... storing 'symbol' as categorical\n"
     ]
    },
    {
     "name": "stdout",
     "output_type": "stream",
     "text": [
      "False data/morse/by_patient/GSM3660653_SC89IPFLOW.h5ad\n",
      "GSM3660653_SC89IPFLOW False False\n",
      "True ../data/morse/GSM3660653_SC89IPFLOW_matrix.mtx.gz\n",
      "True ../data/morse/GSM3660653_SC89IPFLOW_genes.tsv.gz\n",
      "True ../data/morse/GSM3660653_SC89IPFLOW_barcodes.tsv.gz\n"
     ]
    },
    {
     "name": "stderr",
     "output_type": "stream",
     "text": [
      "... storing 'GSM' as categorical\n",
      "... storing 'sample.id' as categorical\n",
      "... storing 'symbol' as categorical\n"
     ]
    },
    {
     "name": "stdout",
     "output_type": "stream",
     "text": [
      "False data/morse/by_patient/GSM3660647_SC155NORLOW.h5ad\n",
      "GSM3660647_SC155NORLOW False False\n",
      "True ../data/morse/GSM3660647_SC155NORLOW_matrix.mtx.gz\n",
      "True ../data/morse/GSM3660647_SC155NORLOW_genes.tsv.gz\n",
      "True ../data/morse/GSM3660647_SC155NORLOW_barcodes.tsv.gz\n"
     ]
    },
    {
     "name": "stderr",
     "output_type": "stream",
     "text": [
      "... storing 'GSM' as categorical\n",
      "... storing 'sample.id' as categorical\n",
      "... storing 'symbol' as categorical\n"
     ]
    },
    {
     "name": "stdout",
     "output_type": "stream",
     "text": [
      "False data/morse/by_patient/GSM3660650_SC249NORbal.h5ad\n",
      "GSM3660650_SC249NORbal False False\n",
      "False ../data/morse/GSM3660650_SC249NORbal_matrix.mtx.gz\n",
      "False ../data/morse/GSM3660650_SC249NORbal_genes.tsv.gz\n",
      "False ../data/morse/GSM3660650_SC249NORbal_barcodes.tsv.gz\n"
     ]
    },
    {
     "name": "stderr",
     "output_type": "stream",
     "text": [
      "... storing 'GSM' as categorical\n",
      "... storing 'sample.id' as categorical\n",
      "... storing 'symbol' as categorical\n",
      "... storing 'readout' as categorical\n"
     ]
    },
    {
     "name": "stdout",
     "output_type": "stream",
     "text": [
      "False data/morse/by_patient/GSM3660658_SC154IPFUP.h5ad\n",
      "GSM3660658_SC154IPFUP False False\n",
      "True ../data/morse/GSM3660658_SC154IPFUP_matrix.mtx.gz\n",
      "True ../data/morse/GSM3660658_SC154IPFUP_genes.tsv.gz\n",
      "True ../data/morse/GSM3660658_SC154IPFUP_barcodes.tsv.gz\n"
     ]
    },
    {
     "name": "stderr",
     "output_type": "stream",
     "text": [
      "... storing 'GSM' as categorical\n",
      "... storing 'sample.id' as categorical\n",
      "... storing 'symbol' as categorical\n"
     ]
    },
    {
     "name": "stdout",
     "output_type": "stream",
     "text": [
      "False data/morse/by_patient/GSM3660655_SC94IPFUP.h5ad\n",
      "GSM3660655_SC94IPFUP False False\n",
      "True ../data/morse/GSM3660655_SC94IPFUP_matrix.mtx.gz\n",
      "True ../data/morse/GSM3660655_SC94IPFUP_genes.tsv.gz\n",
      "True ../data/morse/GSM3660655_SC94IPFUP_barcodes.tsv.gz\n"
     ]
    },
    {
     "name": "stderr",
     "output_type": "stream",
     "text": [
      "... storing 'GSM' as categorical\n",
      "... storing 'sample.id' as categorical\n",
      "... storing 'symbol' as categorical\n"
     ]
    },
    {
     "name": "stdout",
     "output_type": "stream",
     "text": [
      "False data/morse/by_patient/GSM3660642_SC31NOR.h5ad\n",
      "GSM3660642_SC31NOR False False\n",
      "True ../data/morse/GSM3660642_SC31NOR_matrix.mtx.gz\n",
      "True ../data/morse/GSM3660642_SC31NOR_genes.tsv.gz\n",
      "True ../data/morse/GSM3660642_SC31NOR_barcodes.tsv.gz\n"
     ]
    },
    {
     "name": "stderr",
     "output_type": "stream",
     "text": [
      "... storing 'GSM' as categorical\n",
      "... storing 'sample.id' as categorical\n",
      "... storing 'symbol' as categorical\n"
     ]
    },
    {
     "name": "stdout",
     "output_type": "stream",
     "text": [
      "False data/morse/by_patient/GSM3660654_SC93IPFLOW.h5ad\n",
      "GSM3660654_SC93IPFLOW False False\n",
      "True ../data/morse/GSM3660654_SC93IPFLOW_matrix.mtx.gz\n",
      "True ../data/morse/GSM3660654_SC93IPFLOW_genes.tsv.gz\n",
      "True ../data/morse/GSM3660654_SC93IPFLOW_barcodes.tsv.gz\n"
     ]
    },
    {
     "name": "stderr",
     "output_type": "stream",
     "text": [
      "... storing 'GSM' as categorical\n",
      "... storing 'sample.id' as categorical\n",
      "... storing 'symbol' as categorical\n"
     ]
    }
   ],
   "source": [
    "for code in uniq_k:\n",
    "    output_path = 'data/morse/by_patient/%s.h5ad' % code\n",
    "    print(exists(output_path), output_path)\n",
    "    if exists(output_path):\n",
    "        continue\n",
    "    # print('reading', code)\n",
    "    \n",
    "    print(code,\n",
    "          code.split('_')[1][:4] in set(df['patient']),\n",
    "          code.split('_')[1][:5] in set(df['patient']))\n",
    "    \n",
    "    # if code in ad_by_k:\n",
    "    #     continue\n",
    "    mtx_path = join(d, '%s_matrix.mtx.gz' % code)\n",
    "    var_path = join(d, '%s_genes.tsv.gz' % code)\n",
    "    obs_path = join(d, '%s_barcodes.tsv.gz' % code)\n",
    "\n",
    "    # print(exists(mtx_path), mtx_path)\n",
    "    # print(exists(var_path), var_path)\n",
    "    # print(exists(obs_path), obs_path)\n",
    "\n",
    "    if not exists(mtx_path):\n",
    "        mtx_path = join(d, '%s_frozen_matrix.mtx.gz' % code)\n",
    "        var_path = join(d, '%s_frozen_genes.tsv.gz' % code)\n",
    "        obs_path = join(d, '%s_frozen_barcodes.tsv.gz' % code)\n",
    "    if not exists(mtx_path):\n",
    "        mtx_path = join(d, '%s_fresh_matrix.mtx.gz' % code)\n",
    "        var_path = join(d, '%s_fresh_genes.tsv.gz' % code)\n",
    "        obs_path = join(d, '%s_fresh_barcodes.tsv.gz' % code)\n",
    "        \n",
    "    ad = sc.read_mtx(mtx_path, dtype='float32').transpose()\n",
    "    obs = pd.read_csv(obs_path, header=None, sep='\\t')\n",
    "    var = pd.read_csv(var_path, header=None, sep='\\t')\n",
    "    \n",
    "    var.columns = ['ensembl', 'symbol'] if len(var.columns) == 2 else ['ensembl', 'symbol', 'readout']\n",
    "    var.index = np.array(var.ensembl)\n",
    "    ad.var = var\n",
    "    obs.columns = ['barcode']\n",
    "    ad.obs.index = obs['barcode']\n",
    "    \n",
    "    ad.obs['GSM'] = code.split('_')[0]\n",
    "    ad.obs['sample.id'] = code.split('_')[1]\n",
    "    # ad_by_k[code] = ad\n",
    "    \n",
    "    ad.write(output_path, compression='lzf')"
   ]
  },
  {
   "cell_type": "code",
   "execution_count": 64,
   "metadata": {},
   "outputs": [
    {
     "name": "stderr",
     "output_type": "stream",
     "text": [
      "/home/icb/ignacio.ibarra/miniconda3/envs/mypython3/lib/python3.7/site-packages/anndata/_core/anndata.py:1192: FutureWarning: is_categorical is deprecated and will be removed in a future version.  Use is_categorical_dtype instead\n",
      "  if is_string_dtype(df[key]) and not is_categorical(df[key])\n",
      "... storing 'GSM' as categorical\n",
      "... storing 'sample.id' as categorical\n"
     ]
    }
   ],
   "source": [
    "import numpy as np\n",
    "var.columns = ['ensembl', 'symbol'] if len(var.columns) == 2 else ['ensembl', 'symbol', 'readout']\n",
    "var.index = np.array(var.symbol)\n",
    "ad.var = var\n",
    "obs.columns = ['barcode']\n",
    "ad.obs.index = obs['barcode']\n",
    "\n",
    "ad.obs['GSM'] = code.split('_')[0]\n",
    "ad.obs['sample.id'] = code.split('_')[1]\n",
    "# ad_by_k[code] = ad\n",
    "\n",
    "ad.write(output_path, compression='lzf')"
   ]
  },
  {
   "cell_type": "code",
   "execution_count": 7,
   "metadata": {},
   "outputs": [
    {
     "name": "stdout",
     "output_type": "stream",
     "text": [
      "GSM3660643_SC31DNOR.h5ad\n",
      "GSM3660645_SC56NOR.h5ad\n",
      "GSM3660650_SC249NORbal.h5ad\n",
      "GSM3660652_SC88IPFUP.h5ad\n",
      "GSM3660641_SC14NOR.h5ad\n",
      "GSM3660658_SC154IPFUP.h5ad\n",
      "GSM3660654_SC93IPFLOW.h5ad\n",
      "GSM3660647_SC155NORLOW.h5ad\n",
      "GSM3660649_SC228NORbal.h5ad\n"
     ]
    },
    {
     "name": "stderr",
     "output_type": "stream",
     "text": [
      "Variable names are not unique. To make them unique, call `.var_names_make_unique`.\n"
     ]
    },
    {
     "name": "stdout",
     "output_type": "stream",
     "text": [
      "GSM3660648_SC156NORUP.h5ad\n",
      "GSM3660646_SC59NOR.h5ad\n",
      "GSM3660657_SC153IPFLOW.h5ad\n",
      "GSM3660656_SC95IPFLOW.h5ad\n",
      "GSM3660655_SC94IPFUP.h5ad\n",
      "GSM3660653_SC89IPFLOW.h5ad\n",
      "GSM3660642_SC31NOR.h5ad\n",
      "GSM3660644_SC45NOR.h5ad\n",
      "GSM3660651_SC87IPFLOW.h5ad\n"
     ]
    }
   ],
   "source": [
    "ad_by_code = {}\n",
    "by_patient_directory = 'data/morse/by_patient'\n",
    "for f in listdir(by_patient_directory):\n",
    "    h5ad_path = join(by_patient_directory, f)\n",
    "    ad = sc.read_h5ad(h5ad_path)\n",
    "    code = f.split('_')[1].split('.')[0]\n",
    "    print(f)\n",
    "    ad_by_code[f] = ad"
   ]
  },
  {
   "cell_type": "code",
   "execution_count": 15,
   "metadata": {},
   "outputs": [
    {
     "name": "stdout",
     "output_type": "stream",
     "text": [
      "GSM3660643_SC31DNOR.h5ad (737280, 33694)\n",
      "(737280, 33694)\n",
      "QC filter\n"
     ]
    },
    {
     "name": "stderr",
     "output_type": "stream",
     "text": [
      "Variable names are not unique. To make them unique, call `.var_names_make_unique`.\n",
      "Variable names are not unique. To make them unique, call `.var_names_make_unique`.\n",
      "Variable names are not unique. To make them unique, call `.var_names_make_unique`.\n",
      "Variable names are not unique. To make them unique, call `.var_names_make_unique`.\n",
      "Variable names are not unique. To make them unique, call `.var_names_make_unique`.\n"
     ]
    },
    {
     "name": "stdout",
     "output_type": "stream",
     "text": [
      "(491, 33694)\n",
      "normalizing\n",
      "HGV/pca/neighbors\n",
      "GSM3660645_SC56NOR.h5ad (737280, 33694)\n",
      "(737280, 33694)\n",
      "QC filter\n"
     ]
    },
    {
     "name": "stderr",
     "output_type": "stream",
     "text": [
      "Variable names are not unique. To make them unique, call `.var_names_make_unique`.\n",
      "Variable names are not unique. To make them unique, call `.var_names_make_unique`.\n",
      "Variable names are not unique. To make them unique, call `.var_names_make_unique`.\n"
     ]
    },
    {
     "name": "stdout",
     "output_type": "stream",
     "text": [
      "(3223, 33694)\n",
      "normalizing\n"
     ]
    },
    {
     "name": "stderr",
     "output_type": "stream",
     "text": [
      "Variable names are not unique. To make them unique, call `.var_names_make_unique`.\n",
      "Variable names are not unique. To make them unique, call `.var_names_make_unique`.\n"
     ]
    },
    {
     "name": "stdout",
     "output_type": "stream",
     "text": [
      "HGV/pca/neighbors\n",
      "GSM3660650_SC249NORbal.h5ad (737280, 33538)\n",
      "(737280, 33538)\n",
      "QC filter\n"
     ]
    },
    {
     "name": "stderr",
     "output_type": "stream",
     "text": [
      "Variable names are not unique. To make them unique, call `.var_names_make_unique`.\n",
      "Variable names are not unique. To make them unique, call `.var_names_make_unique`.\n",
      "Variable names are not unique. To make them unique, call `.var_names_make_unique`.\n"
     ]
    },
    {
     "name": "stdout",
     "output_type": "stream",
     "text": [
      "(3205, 33538)\n",
      "normalizing\n"
     ]
    },
    {
     "name": "stderr",
     "output_type": "stream",
     "text": [
      "Variable names are not unique. To make them unique, call `.var_names_make_unique`.\n",
      "Variable names are not unique. To make them unique, call `.var_names_make_unique`.\n"
     ]
    },
    {
     "name": "stdout",
     "output_type": "stream",
     "text": [
      "HGV/pca/neighbors\n",
      "GSM3660652_SC88IPFUP.h5ad (737280, 33694)\n",
      "(737280, 33694)\n",
      "QC filter\n"
     ]
    },
    {
     "name": "stderr",
     "output_type": "stream",
     "text": [
      "Variable names are not unique. To make them unique, call `.var_names_make_unique`.\n",
      "Variable names are not unique. To make them unique, call `.var_names_make_unique`.\n",
      "Variable names are not unique. To make them unique, call `.var_names_make_unique`.\n"
     ]
    },
    {
     "name": "stdout",
     "output_type": "stream",
     "text": [
      "(3881, 33694)\n",
      "normalizing\n"
     ]
    },
    {
     "name": "stderr",
     "output_type": "stream",
     "text": [
      "Variable names are not unique. To make them unique, call `.var_names_make_unique`.\n",
      "Variable names are not unique. To make them unique, call `.var_names_make_unique`.\n"
     ]
    },
    {
     "name": "stdout",
     "output_type": "stream",
     "text": [
      "HGV/pca/neighbors\n",
      "GSM3660641_SC14NOR.h5ad (737280, 33694)\n",
      "(737280, 33694)\n",
      "QC filter\n"
     ]
    },
    {
     "name": "stderr",
     "output_type": "stream",
     "text": [
      "Variable names are not unique. To make them unique, call `.var_names_make_unique`.\n",
      "Variable names are not unique. To make them unique, call `.var_names_make_unique`.\n",
      "Variable names are not unique. To make them unique, call `.var_names_make_unique`.\n",
      "Variable names are not unique. To make them unique, call `.var_names_make_unique`.\n",
      "Variable names are not unique. To make them unique, call `.var_names_make_unique`.\n"
     ]
    },
    {
     "name": "stdout",
     "output_type": "stream",
     "text": [
      "(298, 33694)\n",
      "normalizing\n",
      "HGV/pca/neighbors\n",
      "GSM3660658_SC154IPFUP.h5ad (737280, 33694)\n",
      "(737280, 33694)\n",
      "QC filter\n"
     ]
    },
    {
     "name": "stderr",
     "output_type": "stream",
     "text": [
      "Variable names are not unique. To make them unique, call `.var_names_make_unique`.\n",
      "Variable names are not unique. To make them unique, call `.var_names_make_unique`.\n",
      "Variable names are not unique. To make them unique, call `.var_names_make_unique`.\n"
     ]
    },
    {
     "name": "stdout",
     "output_type": "stream",
     "text": [
      "(3436, 33694)\n",
      "normalizing\n"
     ]
    },
    {
     "name": "stderr",
     "output_type": "stream",
     "text": [
      "Variable names are not unique. To make them unique, call `.var_names_make_unique`.\n",
      "Variable names are not unique. To make them unique, call `.var_names_make_unique`.\n"
     ]
    },
    {
     "name": "stdout",
     "output_type": "stream",
     "text": [
      "HGV/pca/neighbors\n",
      "GSM3660654_SC93IPFLOW.h5ad (737280, 33694)\n",
      "(737280, 33694)\n",
      "QC filter\n"
     ]
    },
    {
     "name": "stderr",
     "output_type": "stream",
     "text": [
      "Variable names are not unique. To make them unique, call `.var_names_make_unique`.\n",
      "Variable names are not unique. To make them unique, call `.var_names_make_unique`.\n",
      "Variable names are not unique. To make them unique, call `.var_names_make_unique`.\n"
     ]
    },
    {
     "name": "stdout",
     "output_type": "stream",
     "text": [
      "(2899, 33694)\n",
      "normalizing\n"
     ]
    },
    {
     "name": "stderr",
     "output_type": "stream",
     "text": [
      "Variable names are not unique. To make them unique, call `.var_names_make_unique`.\n",
      "Variable names are not unique. To make them unique, call `.var_names_make_unique`.\n"
     ]
    },
    {
     "name": "stdout",
     "output_type": "stream",
     "text": [
      "HGV/pca/neighbors\n",
      "GSM3660647_SC155NORLOW.h5ad (737280, 33694)\n",
      "(737280, 33694)\n",
      "QC filter\n"
     ]
    },
    {
     "name": "stderr",
     "output_type": "stream",
     "text": [
      "Variable names are not unique. To make them unique, call `.var_names_make_unique`.\n",
      "Variable names are not unique. To make them unique, call `.var_names_make_unique`.\n",
      "Variable names are not unique. To make them unique, call `.var_names_make_unique`.\n"
     ]
    },
    {
     "name": "stdout",
     "output_type": "stream",
     "text": [
      "(3486, 33694)\n",
      "normalizing\n"
     ]
    },
    {
     "name": "stderr",
     "output_type": "stream",
     "text": [
      "Variable names are not unique. To make them unique, call `.var_names_make_unique`.\n",
      "Variable names are not unique. To make them unique, call `.var_names_make_unique`.\n"
     ]
    },
    {
     "name": "stdout",
     "output_type": "stream",
     "text": [
      "HGV/pca/neighbors\n",
      "GSM3660649_SC228NORbal.h5ad (737280, 33694)\n",
      "(737280, 33694)\n",
      "QC filter\n"
     ]
    },
    {
     "name": "stderr",
     "output_type": "stream",
     "text": [
      "Variable names are not unique. To make them unique, call `.var_names_make_unique`.\n",
      "Variable names are not unique. To make them unique, call `.var_names_make_unique`.\n",
      "Variable names are not unique. To make them unique, call `.var_names_make_unique`.\n",
      "Variable names are not unique. To make them unique, call `.var_names_make_unique`.\n",
      "Variable names are not unique. To make them unique, call `.var_names_make_unique`.\n"
     ]
    },
    {
     "name": "stdout",
     "output_type": "stream",
     "text": [
      "(809, 33694)\n",
      "normalizing\n",
      "HGV/pca/neighbors\n",
      "GSM3660648_SC156NORUP.h5ad (737280, 33694)\n",
      "(737280, 33694)\n",
      "QC filter\n"
     ]
    },
    {
     "name": "stderr",
     "output_type": "stream",
     "text": [
      "Variable names are not unique. To make them unique, call `.var_names_make_unique`.\n",
      "Variable names are not unique. To make them unique, call `.var_names_make_unique`.\n",
      "Variable names are not unique. To make them unique, call `.var_names_make_unique`.\n"
     ]
    },
    {
     "name": "stdout",
     "output_type": "stream",
     "text": [
      "(4317, 33694)\n",
      "normalizing\n"
     ]
    },
    {
     "name": "stderr",
     "output_type": "stream",
     "text": [
      "Variable names are not unique. To make them unique, call `.var_names_make_unique`.\n",
      "Variable names are not unique. To make them unique, call `.var_names_make_unique`.\n"
     ]
    },
    {
     "name": "stdout",
     "output_type": "stream",
     "text": [
      "HGV/pca/neighbors\n",
      "GSM3660646_SC59NOR.h5ad (737280, 33694)\n",
      "(737280, 33694)\n",
      "QC filter\n"
     ]
    },
    {
     "name": "stderr",
     "output_type": "stream",
     "text": [
      "Variable names are not unique. To make them unique, call `.var_names_make_unique`.\n",
      "Variable names are not unique. To make them unique, call `.var_names_make_unique`.\n",
      "Variable names are not unique. To make them unique, call `.var_names_make_unique`.\n"
     ]
    },
    {
     "name": "stdout",
     "output_type": "stream",
     "text": [
      "(2814, 33694)\n",
      "normalizing\n"
     ]
    },
    {
     "name": "stderr",
     "output_type": "stream",
     "text": [
      "Variable names are not unique. To make them unique, call `.var_names_make_unique`.\n",
      "Variable names are not unique. To make them unique, call `.var_names_make_unique`.\n"
     ]
    },
    {
     "name": "stdout",
     "output_type": "stream",
     "text": [
      "HGV/pca/neighbors\n",
      "GSM3660657_SC153IPFLOW.h5ad (737280, 33694)\n",
      "(737280, 33694)\n",
      "QC filter\n"
     ]
    },
    {
     "name": "stderr",
     "output_type": "stream",
     "text": [
      "Variable names are not unique. To make them unique, call `.var_names_make_unique`.\n",
      "Variable names are not unique. To make them unique, call `.var_names_make_unique`.\n",
      "Variable names are not unique. To make them unique, call `.var_names_make_unique`.\n"
     ]
    },
    {
     "name": "stdout",
     "output_type": "stream",
     "text": [
      "(3069, 33694)\n",
      "normalizing\n"
     ]
    },
    {
     "name": "stderr",
     "output_type": "stream",
     "text": [
      "Variable names are not unique. To make them unique, call `.var_names_make_unique`.\n",
      "Variable names are not unique. To make them unique, call `.var_names_make_unique`.\n"
     ]
    },
    {
     "name": "stdout",
     "output_type": "stream",
     "text": [
      "HGV/pca/neighbors\n",
      "GSM3660656_SC95IPFLOW.h5ad (737280, 33694)\n",
      "(737280, 33694)\n",
      "QC filter\n"
     ]
    },
    {
     "name": "stderr",
     "output_type": "stream",
     "text": [
      "Variable names are not unique. To make them unique, call `.var_names_make_unique`.\n",
      "Variable names are not unique. To make them unique, call `.var_names_make_unique`.\n",
      "Variable names are not unique. To make them unique, call `.var_names_make_unique`.\n"
     ]
    },
    {
     "name": "stdout",
     "output_type": "stream",
     "text": [
      "(2629, 33694)\n",
      "normalizing\n"
     ]
    },
    {
     "name": "stderr",
     "output_type": "stream",
     "text": [
      "Variable names are not unique. To make them unique, call `.var_names_make_unique`.\n",
      "Variable names are not unique. To make them unique, call `.var_names_make_unique`.\n"
     ]
    },
    {
     "name": "stdout",
     "output_type": "stream",
     "text": [
      "HGV/pca/neighbors\n",
      "GSM3660655_SC94IPFUP.h5ad (737280, 33694)\n",
      "(737280, 33694)\n",
      "QC filter\n"
     ]
    },
    {
     "name": "stderr",
     "output_type": "stream",
     "text": [
      "Variable names are not unique. To make them unique, call `.var_names_make_unique`.\n",
      "Variable names are not unique. To make them unique, call `.var_names_make_unique`.\n",
      "Variable names are not unique. To make them unique, call `.var_names_make_unique`.\n"
     ]
    },
    {
     "name": "stdout",
     "output_type": "stream",
     "text": [
      "(2028, 33694)\n",
      "normalizing\n"
     ]
    },
    {
     "name": "stderr",
     "output_type": "stream",
     "text": [
      "Variable names are not unique. To make them unique, call `.var_names_make_unique`.\n",
      "Variable names are not unique. To make them unique, call `.var_names_make_unique`.\n"
     ]
    },
    {
     "name": "stdout",
     "output_type": "stream",
     "text": [
      "HGV/pca/neighbors\n",
      "GSM3660653_SC89IPFLOW.h5ad (737280, 33694)\n",
      "(737280, 33694)\n",
      "QC filter\n"
     ]
    },
    {
     "name": "stderr",
     "output_type": "stream",
     "text": [
      "Variable names are not unique. To make them unique, call `.var_names_make_unique`.\n",
      "Variable names are not unique. To make them unique, call `.var_names_make_unique`.\n",
      "Variable names are not unique. To make them unique, call `.var_names_make_unique`.\n"
     ]
    },
    {
     "name": "stdout",
     "output_type": "stream",
     "text": [
      "(3879, 33694)\n",
      "normalizing\n"
     ]
    },
    {
     "name": "stderr",
     "output_type": "stream",
     "text": [
      "Variable names are not unique. To make them unique, call `.var_names_make_unique`.\n",
      "Variable names are not unique. To make them unique, call `.var_names_make_unique`.\n"
     ]
    },
    {
     "name": "stdout",
     "output_type": "stream",
     "text": [
      "HGV/pca/neighbors\n",
      "GSM3660642_SC31NOR.h5ad (737280, 33694)\n",
      "(737280, 33694)\n",
      "QC filter\n"
     ]
    },
    {
     "name": "stderr",
     "output_type": "stream",
     "text": [
      "Variable names are not unique. To make them unique, call `.var_names_make_unique`.\n",
      "Variable names are not unique. To make them unique, call `.var_names_make_unique`.\n",
      "Variable names are not unique. To make them unique, call `.var_names_make_unique`.\n",
      "Variable names are not unique. To make them unique, call `.var_names_make_unique`.\n",
      "Variable names are not unique. To make them unique, call `.var_names_make_unique`.\n"
     ]
    },
    {
     "name": "stdout",
     "output_type": "stream",
     "text": [
      "(475, 33694)\n",
      "normalizing\n",
      "HGV/pca/neighbors\n",
      "GSM3660644_SC45NOR.h5ad (737280, 33694)\n",
      "(737280, 33694)\n",
      "QC filter\n"
     ]
    },
    {
     "name": "stderr",
     "output_type": "stream",
     "text": [
      "Variable names are not unique. To make them unique, call `.var_names_make_unique`.\n",
      "Variable names are not unique. To make them unique, call `.var_names_make_unique`.\n",
      "Variable names are not unique. To make them unique, call `.var_names_make_unique`.\n"
     ]
    },
    {
     "name": "stdout",
     "output_type": "stream",
     "text": [
      "(2934, 33694)\n",
      "normalizing\n"
     ]
    },
    {
     "name": "stderr",
     "output_type": "stream",
     "text": [
      "Variable names are not unique. To make them unique, call `.var_names_make_unique`.\n",
      "Variable names are not unique. To make them unique, call `.var_names_make_unique`.\n"
     ]
    },
    {
     "name": "stdout",
     "output_type": "stream",
     "text": [
      "HGV/pca/neighbors\n",
      "GSM3660651_SC87IPFLOW.h5ad (737280, 33694)\n",
      "(737280, 33694)\n",
      "QC filter\n"
     ]
    },
    {
     "name": "stderr",
     "output_type": "stream",
     "text": [
      "Variable names are not unique. To make them unique, call `.var_names_make_unique`.\n",
      "Variable names are not unique. To make them unique, call `.var_names_make_unique`.\n",
      "Variable names are not unique. To make them unique, call `.var_names_make_unique`.\n"
     ]
    },
    {
     "name": "stdout",
     "output_type": "stream",
     "text": [
      "(4299, 33694)\n",
      "normalizing\n"
     ]
    },
    {
     "name": "stderr",
     "output_type": "stream",
     "text": [
      "Variable names are not unique. To make them unique, call `.var_names_make_unique`.\n",
      "Variable names are not unique. To make them unique, call `.var_names_make_unique`.\n"
     ]
    },
    {
     "name": "stdout",
     "output_type": "stream",
     "text": [
      "HGV/pca/neighbors\n"
     ]
    }
   ],
   "source": [
    "for k in ad_by_code:\n",
    "    \n",
    "    ad = ad_by_code[k]\n",
    "\n",
    "    print(k, ad.shape)\n",
    "\n",
    "    ad.var.index = list(ad.var.symbol);\n",
    "\n",
    "    print(ad.shape)\n",
    "    print('QC filter');\n",
    "    # Quality control - calculate QC covariates\n",
    "    ad.obs['n_counts'] = ad.X.sum(1);\n",
    "    ad.obs['log_counts'] = np.log(ad.obs['n_counts']);\n",
    "    ad.obs['n_genes'] = (ad.X > 0).sum(1);\n",
    "    mt_gene_mask = [gene.startswith('MT-') for gene in ad.var['symbol']];\n",
    "    ad.obs['mt_frac'] = ad.X[:, mt_gene_mask].toarray().sum(1) / ad.obs['n_counts'];\n",
    "    \n",
    "    ad = ad[ad.X.sum(axis=1) > 1000,:];\n",
    "    ad = ad[ad.obs['mt_frac'] < 0.2,:];\n",
    "    ad = ad[ad.obs['n_genes'] > 700,:];\n",
    "\n",
    "    print(ad.shape)\n",
    "    ad.raw = ad.copy()\n",
    "    \n",
    "    print('normalizing')\n",
    "    sc.pp.normalize_per_cell(ad, counts_per_cell_after=1e6);\n",
    "    sc.pp.log1p(ad);\n",
    "\n",
    "    print('HGV/pca/neighbors')\n",
    "    sc.pp.highly_variable_genes(ad, n_top_genes=4000);\n",
    "    # Calculate the visualizations\n",
    "    sc.pp.pca(ad, n_comps=50, use_highly_variable=True, svd_solver='arpack');\n",
    "    sc.pp.neighbors(ad);\n",
    "\n",
    "    sc.tl.tsne(ad, n_jobs=12) #Note n_jobs works for MulticoreTSNE, but not regular implementation);\n",
    "    sc.tl.umap(ad);\n",
    "    sc.tl.diffmap(ad);\n",
    "    sc.tl.draw_graph(ad);\n",
    "\n",
    "    ad_by_code[k] = ad\n"
   ]
  },
  {
   "cell_type": "markdown",
   "metadata": {},
   "source": [
    "Are the counts properly stored in the **raw** object?"
   ]
  },
  {
   "cell_type": "code",
   "execution_count": 16,
   "metadata": {},
   "outputs": [
    {
     "name": "stdout",
     "output_type": "stream",
     "text": [
      "please check here...\n"
     ]
    }
   ],
   "source": [
    "print('please check here...')"
   ]
  },
  {
   "cell_type": "code",
   "execution_count": 23,
   "metadata": {},
   "outputs": [
    {
     "data": {
      "text/plain": [
       "13.322084"
      ]
     },
     "execution_count": 23,
     "metadata": {},
     "output_type": "execute_result"
    }
   ],
   "source": [
    "ad.X.max()"
   ]
  },
  {
   "cell_type": "markdown",
   "metadata": {},
   "source": [
    "### Include information from LCA in each case and then save"
   ]
  },
  {
   "cell_type": "code",
   "execution_count": 24,
   "metadata": {},
   "outputs": [
    {
     "data": {
      "text/plain": [
       "SC14NOR          706\n",
       "SC31NOR         1043\n",
       "SC31DNOR        1185\n",
       "SC94IPFUP       2146\n",
       "SC95IPFLOW      2700\n",
       "SC93IPFLOW      3220\n",
       "SC153IPFLOW     3259\n",
       "SC45NOR         3389\n",
       "SC154IPFUP      4019\n",
       "SC88IPFUP       4717\n",
       "SC89IPFLOW      4828\n",
       "SC87IPFLOW      5651\n",
       "SC59NOR         6429\n",
       "SC155NOR        8377\n",
       "SC56NOR         8770\n",
       "SC156NOR       11552\n",
       "Name: patient, dtype: int64"
      ]
     },
     "execution_count": 24,
     "metadata": {},
     "output_type": "execute_result"
    }
   ],
   "source": [
    "df['patient'].value_counts().sort_values()"
   ]
  },
  {
   "cell_type": "code",
   "execution_count": 25,
   "metadata": {},
   "outputs": [
    {
     "name": "stdout",
     "output_type": "stream",
     "text": [
      "{'SC87IPFLOW'}\n"
     ]
    }
   ],
   "source": [
    "ad.obs['patient.id'] = ad.obs['sample.id'].str.replace('NORLOW', '')\n",
    "print(set(ad.obs['patient.id']))"
   ]
  },
  {
   "cell_type": "code",
   "execution_count": 26,
   "metadata": {},
   "outputs": [
    {
     "data": {
      "text/plain": [
       "SC156    11552\n",
       "SC56      8770\n",
       "SC155     8377\n",
       "SC59      6429\n",
       "SC87      5651\n",
       "SC89      4828\n",
       "SC88      4717\n",
       "SC154     4019\n",
       "SC45      3389\n",
       "SC153     3259\n",
       "SC93      3220\n",
       "SC95      2700\n",
       "SC94      2146\n",
       "SC31D     1185\n",
       "SC31      1043\n",
       "SC14       706\n",
       "Name: patient.id, dtype: int64"
      ]
     },
     "execution_count": 26,
     "metadata": {},
     "output_type": "execute_result"
    }
   ],
   "source": [
    "df['patient.id'] = df['patient'].str.replace('.h5ad', '').str.replace('NOR', '').str.replace('bal', '').str.replace('IPF', '').str.replace('LOW', '').str.replace('UP', '')\n",
    "df.index = df['patient.id'] + \"_\" + df.index.str.split('_').str[1]\n",
    "df['patient.id'].value_counts()\n"
   ]
  },
  {
   "cell_type": "code",
   "execution_count": 27,
   "metadata": {},
   "outputs": [
    {
     "name": "stderr",
     "output_type": "stream",
     "text": [
      "Trying to set attribute `.obs` of view, copying.\n",
      "Variable names are not unique. To make them unique, call `.var_names_make_unique`.\n",
      "Variable names are not unique. To make them unique, call `.var_names_make_unique`.\n",
      "... storing 'patient.id' as categorical\n",
      "Trying to set attribute `.obs` of view, copying.\n",
      "Variable names are not unique. To make them unique, call `.var_names_make_unique`.\n",
      "Variable names are not unique. To make them unique, call `.var_names_make_unique`.\n",
      "... storing 'cell.type' as categorical\n"
     ]
    },
    {
     "name": "stdout",
     "output_type": "stream",
     "text": [
      "GSM3660643_SC31DNOR.h5ad [173, 66, 58, 47, 46, 21, 16, 12, 9, 8, 5, 3, 2, 2, 1, 1] 21\n",
      "(239, 33694)\n",
      "done...\n"
     ]
    },
    {
     "name": "stderr",
     "output_type": "stream",
     "text": [
      "Trying to set attribute `.obs` of view, copying.\n",
      "Variable names are not unique. To make them unique, call `.var_names_make_unique`.\n",
      "Variable names are not unique. To make them unique, call `.var_names_make_unique`.\n",
      "... storing 'patient.id' as categorical\n",
      "Trying to set attribute `.obs` of view, copying.\n",
      "Variable names are not unique. To make them unique, call `.var_names_make_unique`.\n",
      "Variable names are not unique. To make them unique, call `.var_names_make_unique`.\n",
      "... storing 'cell.type' as categorical\n"
     ]
    },
    {
     "name": "stdout",
     "output_type": "stream",
     "text": [
      "GSM3660645_SC56NOR.h5ad [629, 460, 454, 448, 388, 308, 167, 99, 84, 30, 29, 29, 28, 15, 11, 7, 3, 2, 1] 31\n",
      "(1080, 33694)\n",
      "done...\n",
      "GSM3660650_SC249NORbal.h5ad [] 3205\n",
      "(0, 33538)\n",
      "done...\n"
     ]
    },
    {
     "name": "stderr",
     "output_type": "stream",
     "text": [
      "Trying to set attribute `.obs` of view, copying.\n",
      "Variable names are not unique. To make them unique, call `.var_names_make_unique`.\n",
      "Variable names are not unique. To make them unique, call `.var_names_make_unique`.\n",
      "... storing 'patient.id' as categorical\n",
      "Trying to set attribute `.obs` of view, copying.\n",
      "Variable names are not unique. To make them unique, call `.var_names_make_unique`.\n",
      "Variable names are not unique. To make them unique, call `.var_names_make_unique`.\n",
      "... storing 'cell.type' as categorical\n"
     ]
    },
    {
     "name": "stdout",
     "output_type": "stream",
     "text": [
      "GSM3660652_SC88IPFUP.h5ad [850, 669, 588, 219, 175, 138, 121, 119, 104, 100, 97, 93, 85, 84, 69, 61, 48, 36, 29, 22, 10, 4] 160\n",
      "(1519, 33694)\n",
      "done...\n"
     ]
    },
    {
     "name": "stderr",
     "output_type": "stream",
     "text": [
      "Trying to set attribute `.obs` of view, copying.\n",
      "Variable names are not unique. To make them unique, call `.var_names_make_unique`.\n",
      "Variable names are not unique. To make them unique, call `.var_names_make_unique`.\n",
      "... storing 'patient.id' as categorical\n",
      "Trying to set attribute `.obs` of view, copying.\n",
      "Variable names are not unique. To make them unique, call `.var_names_make_unique`.\n",
      "Variable names are not unique. To make them unique, call `.var_names_make_unique`.\n",
      "... storing 'cell.type' as categorical\n"
     ]
    },
    {
     "name": "stdout",
     "output_type": "stream",
     "text": [
      "GSM3660641_SC14NOR.h5ad [149, 54, 27, 22, 6, 5, 2, 2, 2, 1, 1] 27\n",
      "(203, 33694)\n"
     ]
    },
    {
     "name": "stderr",
     "output_type": "stream",
     "text": [
      "Trying to set attribute `.obs` of view, copying.\n"
     ]
    },
    {
     "name": "stdout",
     "output_type": "stream",
     "text": [
      "done...\n",
      "GSM3660658_SC154IPFUP.h5ad [962, 492, 361, 252, 186, 171, 156, 132, 103, 71, 67, 67, 53, 43, 40, 39, 38, 37, 29, 19, 5, 5] 108\n",
      "(1323, 33694)\n"
     ]
    },
    {
     "name": "stderr",
     "output_type": "stream",
     "text": [
      "Variable names are not unique. To make them unique, call `.var_names_make_unique`.\n",
      "Variable names are not unique. To make them unique, call `.var_names_make_unique`.\n",
      "... storing 'patient.id' as categorical\n",
      "Trying to set attribute `.obs` of view, copying.\n",
      "Variable names are not unique. To make them unique, call `.var_names_make_unique`.\n",
      "Variable names are not unique. To make them unique, call `.var_names_make_unique`.\n",
      "... storing 'cell.type' as categorical\n"
     ]
    },
    {
     "name": "stdout",
     "output_type": "stream",
     "text": [
      "done...\n"
     ]
    },
    {
     "name": "stderr",
     "output_type": "stream",
     "text": [
      "Trying to set attribute `.obs` of view, copying.\n",
      "Variable names are not unique. To make them unique, call `.var_names_make_unique`.\n",
      "Variable names are not unique. To make them unique, call `.var_names_make_unique`.\n",
      "... storing 'patient.id' as categorical\n",
      "Trying to set attribute `.obs` of view, copying.\n",
      "Variable names are not unique. To make them unique, call `.var_names_make_unique`.\n",
      "Variable names are not unique. To make them unique, call `.var_names_make_unique`.\n",
      "... storing 'cell.type' as categorical\n"
     ]
    },
    {
     "name": "stdout",
     "output_type": "stream",
     "text": [
      "GSM3660654_SC93IPFLOW.h5ad [519, 490, 312, 278, 234, 231, 164, 81, 74, 66, 58, 49, 44, 31, 22, 20, 19, 18, 13, 12, 6, 3] 155\n",
      "(509, 33694)\n",
      "done...\n"
     ]
    },
    {
     "name": "stderr",
     "output_type": "stream",
     "text": [
      "Trying to set attribute `.obs` of view, copying.\n",
      "Variable names are not unique. To make them unique, call `.var_names_make_unique`.\n",
      "Variable names are not unique. To make them unique, call `.var_names_make_unique`.\n",
      "... storing 'patient.id' as categorical\n",
      "Trying to set attribute `.obs` of view, copying.\n",
      "Variable names are not unique. To make them unique, call `.var_names_make_unique`.\n",
      "Variable names are not unique. To make them unique, call `.var_names_make_unique`.\n",
      "... storing 'cell.type' as categorical\n"
     ]
    },
    {
     "name": "stdout",
     "output_type": "stream",
     "text": [
      "GSM3660647_SC155NORLOW.h5ad [992, 733, 532, 249, 152, 148, 109, 108, 79, 78, 77, 74, 39, 32, 29, 18, 8] 29\n",
      "(1733, 33694)\n",
      "done...\n",
      "GSM3660649_SC228NORbal.h5ad [] 809\n",
      "(0, 33694)\n",
      "done...\n"
     ]
    },
    {
     "name": "stderr",
     "output_type": "stream",
     "text": [
      "Trying to set attribute `.obs` of view, copying.\n",
      "Variable names are not unique. To make them unique, call `.var_names_make_unique`.\n",
      "Variable names are not unique. To make them unique, call `.var_names_make_unique`.\n",
      "... storing 'patient.id' as categorical\n",
      "Trying to set attribute `.obs` of view, copying.\n",
      "Variable names are not unique. To make them unique, call `.var_names_make_unique`.\n",
      "Variable names are not unique. To make them unique, call `.var_names_make_unique`.\n",
      "... storing 'cell.type' as categorical\n"
     ]
    },
    {
     "name": "stdout",
     "output_type": "stream",
     "text": [
      "GSM3660648_SC156NORUP.h5ad [1697, 461, 402, 288, 255, 242, 167, 161, 123, 121, 79, 75, 73, 60, 50, 35, 4, 1, 1] 22\n",
      "(2104, 33694)\n",
      "done...\n"
     ]
    },
    {
     "name": "stderr",
     "output_type": "stream",
     "text": [
      "Trying to set attribute `.obs` of view, copying.\n",
      "Variable names are not unique. To make them unique, call `.var_names_make_unique`.\n",
      "Variable names are not unique. To make them unique, call `.var_names_make_unique`.\n",
      "... storing 'patient.id' as categorical\n",
      "Trying to set attribute `.obs` of view, copying.\n",
      "Variable names are not unique. To make them unique, call `.var_names_make_unique`.\n",
      "Variable names are not unique. To make them unique, call `.var_names_make_unique`.\n",
      "... storing 'cell.type' as categorical\n"
     ]
    },
    {
     "name": "stdout",
     "output_type": "stream",
     "text": [
      "GSM3660646_SC59NOR.h5ad [1220, 521, 211, 137, 122, 107, 86, 80, 77, 64, 51, 28, 28, 22, 21, 13, 4, 1, 1, 1, 1] 18\n",
      "(1743, 33694)\n",
      "done...\n"
     ]
    },
    {
     "name": "stderr",
     "output_type": "stream",
     "text": [
      "Trying to set attribute `.obs` of view, copying.\n",
      "Variable names are not unique. To make them unique, call `.var_names_make_unique`.\n",
      "Variable names are not unique. To make them unique, call `.var_names_make_unique`.\n",
      "... storing 'patient.id' as categorical\n",
      "Trying to set attribute `.obs` of view, copying.\n",
      "Variable names are not unique. To make them unique, call `.var_names_make_unique`.\n",
      "Variable names are not unique. To make them unique, call `.var_names_make_unique`.\n",
      "... storing 'cell.type' as categorical\n"
     ]
    },
    {
     "name": "stdout",
     "output_type": "stream",
     "text": [
      "GSM3660657_SC153IPFLOW.h5ad [1063, 483, 242, 202, 186, 97, 85, 68, 60, 60, 44, 43, 41, 36, 28, 26, 26, 13, 12, 9, 2, 2, 1] 240\n",
      "(1099, 33694)\n"
     ]
    },
    {
     "name": "stderr",
     "output_type": "stream",
     "text": [
      "Trying to set attribute `.obs` of view, copying.\n",
      "Variable names are not unique. To make them unique, call `.var_names_make_unique`.\n",
      "Variable names are not unique. To make them unique, call `.var_names_make_unique`.\n",
      "... storing 'patient.id' as categorical\n",
      "Trying to set attribute `.obs` of view, copying.\n"
     ]
    },
    {
     "name": "stdout",
     "output_type": "stream",
     "text": [
      "done...\n",
      "GSM3660656_SC95IPFLOW.h5ad [450, 400, 320, 267, 239, 217, 167, 68, 66, 59, 42, 36, 35, 32, 22, 15, 13, 10, 8, 7, 7, 6, 1] 142\n",
      "(415, 33694)\n"
     ]
    },
    {
     "name": "stderr",
     "output_type": "stream",
     "text": [
      "Variable names are not unique. To make them unique, call `.var_names_make_unique`.\n",
      "Variable names are not unique. To make them unique, call `.var_names_make_unique`.\n",
      "... storing 'cell.type' as categorical\n"
     ]
    },
    {
     "name": "stdout",
     "output_type": "stream",
     "text": [
      "done...\n"
     ]
    },
    {
     "name": "stderr",
     "output_type": "stream",
     "text": [
      "Trying to set attribute `.obs` of view, copying.\n",
      "Variable names are not unique. To make them unique, call `.var_names_make_unique`.\n",
      "Variable names are not unique. To make them unique, call `.var_names_make_unique`.\n",
      "... storing 'patient.id' as categorical\n",
      "Trying to set attribute `.obs` of view, copying.\n",
      "Variable names are not unique. To make them unique, call `.var_names_make_unique`.\n",
      "Variable names are not unique. To make them unique, call `.var_names_make_unique`.\n",
      "... storing 'cell.type' as categorical\n"
     ]
    },
    {
     "name": "stdout",
     "output_type": "stream",
     "text": [
      "GSM3660655_SC94IPFUP.h5ad [623, 219, 164, 133, 110, 108, 107, 106, 74, 57, 33, 32, 30, 27, 22, 17, 13, 6, 4, 2, 1] 140\n",
      "(842, 33694)\n",
      "done...\n"
     ]
    },
    {
     "name": "stderr",
     "output_type": "stream",
     "text": [
      "Trying to set attribute `.obs` of view, copying.\n",
      "Variable names are not unique. To make them unique, call `.var_names_make_unique`.\n",
      "Variable names are not unique. To make them unique, call `.var_names_make_unique`.\n",
      "... storing 'patient.id' as categorical\n",
      "Trying to set attribute `.obs` of view, copying.\n",
      "Variable names are not unique. To make them unique, call `.var_names_make_unique`.\n",
      "Variable names are not unique. To make them unique, call `.var_names_make_unique`.\n",
      "... storing 'cell.type' as categorical\n"
     ]
    },
    {
     "name": "stdout",
     "output_type": "stream",
     "text": [
      "GSM3660653_SC89IPFLOW.h5ad [1000, 590, 349, 298, 223, 170, 169, 108, 88, 87, 84, 83, 78, 71, 64, 57, 50, 48, 47, 33, 25, 7] 150\n",
      "(1223, 33694)\n"
     ]
    },
    {
     "name": "stderr",
     "output_type": "stream",
     "text": [
      "Trying to set attribute `.obs` of view, copying.\n",
      "Variable names are not unique. To make them unique, call `.var_names_make_unique`.\n",
      "Variable names are not unique. To make them unique, call `.var_names_make_unique`.\n",
      "... storing 'patient.id' as categorical\n",
      "Trying to set attribute `.obs` of view, copying.\n",
      "Variable names are not unique. To make them unique, call `.var_names_make_unique`.\n",
      "Variable names are not unique. To make them unique, call `.var_names_make_unique`.\n"
     ]
    },
    {
     "name": "stdout",
     "output_type": "stream",
     "text": [
      "done...\n",
      "GSM3660642_SC31NOR.h5ad [158, 55, 52, 51, 49, 22, 19, 11, 10, 10, 7, 4, 4, 3, 3, 1] 16\n",
      "(213, 33694)\n"
     ]
    },
    {
     "name": "stderr",
     "output_type": "stream",
     "text": [
      "... storing 'cell.type' as categorical\n"
     ]
    },
    {
     "name": "stdout",
     "output_type": "stream",
     "text": [
      "done...\n"
     ]
    },
    {
     "name": "stderr",
     "output_type": "stream",
     "text": [
      "Trying to set attribute `.obs` of view, copying.\n",
      "Variable names are not unique. To make them unique, call `.var_names_make_unique`.\n",
      "Variable names are not unique. To make them unique, call `.var_names_make_unique`.\n",
      "... storing 'patient.id' as categorical\n",
      "Trying to set attribute `.obs` of view, copying.\n",
      "Variable names are not unique. To make them unique, call `.var_names_make_unique`.\n",
      "Variable names are not unique. To make them unique, call `.var_names_make_unique`.\n",
      "... storing 'cell.type' as categorical\n"
     ]
    },
    {
     "name": "stdout",
     "output_type": "stream",
     "text": [
      "GSM3660644_SC45NOR.h5ad [1696, 273, 239, 195, 124, 89, 68, 46, 30, 29, 28, 25, 21, 20, 11, 10] 30\n",
      "(1935, 33694)\n",
      "done...\n"
     ]
    },
    {
     "name": "stderr",
     "output_type": "stream",
     "text": [
      "Trying to set attribute `.obs` of view, copying.\n",
      "Variable names are not unique. To make them unique, call `.var_names_make_unique`.\n",
      "Variable names are not unique. To make them unique, call `.var_names_make_unique`.\n",
      "... storing 'patient.id' as categorical\n",
      "Trying to set attribute `.obs` of view, copying.\n",
      "Variable names are not unique. To make them unique, call `.var_names_make_unique`.\n",
      "Variable names are not unique. To make them unique, call `.var_names_make_unique`.\n",
      "... storing 'cell.type' as categorical\n"
     ]
    },
    {
     "name": "stdout",
     "output_type": "stream",
     "text": [
      "GSM3660651_SC87IPFLOW.h5ad [1152, 685, 431, 386, 219, 185, 142, 111, 107, 96, 92, 82, 78, 76, 76, 74, 51, 50, 50, 29, 24, 11, 1] 91\n",
      "(1371, 33694)\n",
      "done...\n"
     ]
    }
   ],
   "source": [
    "# ad_final = []\n",
    "by_patient_directory = 'data/morse/by_patient_scanpy_norm_mac'\n",
    "for k in ad_by_code:\n",
    "    patient_id = k.split('_')[1].replace('.h5ad', '').replace('NOR', '').replace('bal', '').replace('IPF', '').replace('LOW', '').replace('UP', '')\n",
    "    p = join(by_patient_directory, k)\n",
    "    ad = ad_by_code[k]\n",
    "    ad.obs['patient.id'] = patient_id\n",
    "    \n",
    "    ad.obs['cell.type'] = (ad.obs['patient.id'].astype(str)  + '_' + ad.obs.index.str.split('-').str[0]).map(df['annotation'].to_dict())\n",
    "    print(k, ad.obs['cell.type'].value_counts().tolist(), sum(pd.isnull(ad.obs['cell.type'])));\n",
    "    mask = np.array(ad.obs['cell.type'].str.contains('Macrophage')) == True\n",
    "    ad_sel = ad[mask,:]\n",
    "    print(ad_sel.shape);\n",
    "    ad_sel.obs.index = ad_sel.obs['sample.id'].astype(str) + '_' + ad_sel.obs.index.astype(str)\n",
    "    \n",
    "    ad_sel.write(p, compression='lzf')\n",
    "    print('done...')\n",
    "    if not exists(p):\n",
    "        continue\n",
    "    # ad_sel.obs.index = ad_sel.obs.index.str[:-2]\n",
    "    # ad_final.append(ad_sel)"
   ]
  },
  {
   "cell_type": "code",
   "execution_count": 349,
   "metadata": {},
   "outputs": [
    {
     "data": {
      "text/plain": [
       "barcode\n",
       "AAACCTGAGTAGCGGT-1    SC56N_AAACCTGAGTAGCGGT\n",
       "AAACCTGCAACACCTA-1    SC56N_AAACCTGCAACACCTA\n",
       "AAACCTGCACGGTAGA-1    SC56N_AAACCTGCACGGTAGA\n",
       "AAACCTGCAGCTGGCT-1    SC56N_AAACCTGCAGCTGGCT\n",
       "AAACCTGGTTCCGGCA-1    SC56N_AAACCTGGTTCCGGCA\n",
       "                               ...          \n",
       "TTTGTCACAGCTCGAC-1    SC56N_TTTGTCACAGCTCGAC\n",
       "TTTGTCACAGTATAAG-1    SC56N_TTTGTCACAGTATAAG\n",
       "TTTGTCACATGTCGAT-1    SC56N_TTTGTCACATGTCGAT\n",
       "TTTGTCAGTTGGGACA-1    SC56N_TTTGTCAGTTGGGACA\n",
       "TTTGTCATCGCCAAAT-1    SC56N_TTTGTCATCGCCAAAT\n",
       "Length: 3223, dtype: object"
      ]
     },
     "execution_count": 349,
     "metadata": {},
     "output_type": "execute_result"
    }
   ],
   "source": [
    "ad.obs['sample.id'].astype(str).str[:5]  + '_' + ad.obs.index.str.split('-').str[0]"
   ]
  },
  {
   "cell_type": "code",
   "execution_count": 281,
   "metadata": {},
   "outputs": [],
   "source": [
    "adata = None\n",
    "for ai, ad in enumerate(ad_final):\n",
    "    break\n",
    "    print(ai)\n",
    "    if ad.shape[0] == 0:\n",
    "        continue\n",
    "    print(adata)\n",
    "    if adata is not None:\n",
    "        adata = adata.concatenate(ad)\n",
    "        adata.var.index = np.array(adata.var.ensembl)\n",
    "    else:\n",
    "        adata = ad.copy()\n",
    "        adata.obs.index = adata.obs.index.str[:-2]\n",
    "        adata.var.index = np.array(adata.var.ensembl)\n"
   ]
  },
  {
   "cell_type": "code",
   "execution_count": null,
   "metadata": {},
   "outputs": [],
   "source": [
    "ad_macrophages_by_code = {}\n",
    "for code in ad_by_k:\n",
    "    ad = ad_by_k[code]\n",
    "    \n",
    "    lca_k_sel = None\n",
    "    for k_lca in laf_mac_ad_by_sample.keys():\n",
    "        if k_lca in code:\n",
    "            lca_k_sel = k_lca\n",
    "\n",
    "    print(code, metadata.shape)\n",
    "    \n",
    "    metadata = pd.DataFrame(laf_mac_ad_by_sample[lca_k_sel].obs.copy())\n",
    "    metadata['10x.barcode'] = set(metadata.index.str.split('_').str[0] + '-1')\n",
    "    metadata.index = metadata['10x.barcode']\n",
    "    sel = ad[ad.obs.index.isin(metadata.index),:]\n",
    "    for c in metadata.reindex(sel.obs.index):\n",
    "        sel.obs[c] = metadata[c]\n",
    "\n"
   ]
  },
  {
   "cell_type": "code",
   "execution_count": null,
   "metadata": {},
   "outputs": [],
   "source": [
    "\n",
    "# concatenate\n",
    "ad_macrophages_by_code.keys()\n",
    "ad_mac = None\n",
    "for k in ad_macrophages_by_code:\n",
    "    print(k)\n",
    "    next_ad = ad_macrophages_by_code[k].copy()\n",
    "    next_ad.obs.index += '-' + k\n",
    "    print(list(next_ad.obs.index[:5]))\n",
    "    if ad_mac is not None:\n",
    "        ad_mac = ad_mac.concatenate(next_ad)\n",
    "        ad_mac.obs.index = ad_mac.obs.index.str[:-2]\n",
    "    else:\n",
    "        ad_mac = next_ad\n",
    "ad_mac.var.index = list(ad_mac.var.index)"
   ]
  },
  {
   "cell_type": "code",
   "execution_count": null,
   "metadata": {},
   "outputs": [],
   "source": [
    "ad.var.index = ad.var.symbol"
   ]
  },
  {
   "cell_type": "code",
   "execution_count": null,
   "metadata": {},
   "outputs": [],
   "source": [
    "ad_mac.write('../data/morse/morse_input_scvi.h5ad', compression='lzf')"
   ]
  },
  {
   "cell_type": "markdown",
   "metadata": {},
   "source": [
    "### Here attempt to do the normalization and other steps following the scran approach. Also. Plot marker genes."
   ]
  },
  {
   "cell_type": "code",
   "execution_count": 2,
   "metadata": {},
   "outputs": [],
   "source": [
    "import scanpy as sc"
   ]
  },
  {
   "cell_type": "code",
   "execution_count": 3,
   "metadata": {},
   "outputs": [
    {
     "data": {
      "text/plain": [
       "AnnData object with n_obs × n_vars = 9805 × 33694\n",
       "    obs: 'GSM', 'sample.id', 'dataset', 'last_author/PI', 'lung_vs_nasal', 'original_celltype_ann', 'sample', 'total_counts', 'log10_total_counts', 'n_genes_detected', 'mito_frac', 'ribo_frac', 'compl', 'ann_level_1', 'ann_level_2', 'ann_level_3', 'ann_level_4', 'ann_level_5', 'ann_highest_res', 'ann_new', \"3' or 5'\", 'BMI', 'Institute', 'Study_PI', 'age, in years', 'age, range', 'anatomical region coarse', 'anatomical region detailed', 'cause of death', 'cell ranger version', 'cell ranger version ', 'cell viability %', 'cells or nuclei', 'comments', 'condition', 'cultured', 'disease status', 'enrichment', 'enrichment ', 'ensembl release reference genome', 'ethnicity', 'fresh or frozen', 'known lung disease', 'library-construction batch', 'library_ID', 'mixed ethnicity', 'number of cells loaded', 'pre or postnatal', 'publication_ID', 'reference genome coarse', 'relative sample collection timepoint', 'repository_ID', 'sample type', 'sequencing platform', 'sex', 'single cell platform', 'smoking history', 'smoking status', 'subject type', 'subject_ID', 'subject_ID_as_published', 'tissue dissociation protocol', 'treatment status', 'year of sample collection', '10x.barcode', 'batch'\n",
       "    var: 'ensembl', 'symbol'"
      ]
     },
     "execution_count": 3,
     "metadata": {},
     "output_type": "execute_result"
    }
   ],
   "source": [
    "ad = sc.read_h5ad('../data/morse/morse_input_scvi.h5ad')\n",
    "ad"
   ]
  },
  {
   "cell_type": "code",
   "execution_count": 6,
   "metadata": {},
   "outputs": [
    {
     "data": {
      "text/plain": [
       "SC156    2235\n",
       "SC45     2074\n",
       "SC59     1839\n",
       "SC155    1808\n",
       "SC56     1140\n",
       "SC31      458\n",
       "SC14      251\n",
       "Name: sample, dtype: int64"
      ]
     },
     "execution_count": 6,
     "metadata": {},
     "output_type": "execute_result"
    }
   ],
   "source": [
    "ad.obs['sample'].value_counts()"
   ]
  },
  {
   "cell_type": "code",
   "execution_count": 5,
   "metadata": {},
   "outputs": [
    {
     "name": "stdout",
     "output_type": "stream",
     "text": [
      "The rpy2.ipython extension is already loaded. To reload it, use:\n",
      "  %reload_ext rpy2.ipython\n"
     ]
    }
   ],
   "source": [
    "import scvi\n",
    "import scanpy as sc\n",
    "import pandas as pd\n",
    "import seaborn as sns\n",
    "import matplotlib.pyplot as plt\n",
    "from matplotlib import rcParams\n",
    "\n",
    "\n",
    "plt.rcParams['figure.figsize']=(6,6) #rescale figures\n",
    "\n",
    "from os.path import join, exists\n",
    "from os import listdir\n",
    "\n",
    "import anndata2ri\n",
    "import rpy2\n",
    "import numpy as np\n",
    "%load_ext rpy2.ipython\n",
    "\n",
    "import anndata2ri\n",
    "anndata2ri.activate()"
   ]
  },
  {
   "cell_type": "code",
   "execution_count": 6,
   "metadata": {},
   "outputs": [],
   "source": [
    "%%R\n",
    "library(scran)"
   ]
  },
  {
   "cell_type": "markdown",
   "metadata": {},
   "source": [
    "### Read the main working objects we need to use"
   ]
  },
  {
   "cell_type": "code",
   "execution_count": 7,
   "metadata": {},
   "outputs": [
    {
     "name": "stderr",
     "output_type": "stream",
     "text": [
      "/home/icb/ignacio.ibarra/miniconda3/envs/mypython3/lib/python3.7/site-packages/pandas/core/series.py:726: RuntimeWarning: divide by zero encountered in log\n",
      "  result = getattr(ufunc, method)(*inputs, **kwargs)\n"
     ]
    }
   ],
   "source": [
    "\n",
    "\n",
    "# Quality control - calculate QC covariates\n",
    "ad.obs['n_counts'] = ad.X.sum(1)\n",
    "ad.obs['log_counts'] = np.log(ad.obs['n_counts'])\n",
    "ad.obs['n_genes'] = (ad.X > 0).sum(1)\n",
    "mt_gene_mask = [gene.startswith('MT-') for gene in ad.var['symbol']]\n",
    "ad.obs['mt_frac'] = ad.X[:, mt_gene_mask].toarray().sum(1) / ad.obs['n_counts']"
   ]
  },
  {
   "cell_type": "code",
   "execution_count": 8,
   "metadata": {},
   "outputs": [
    {
     "name": "stderr",
     "output_type": "stream",
     "text": [
      "/home/icb/ignacio.ibarra/miniconda3/envs/mypython3/lib/python3.7/site-packages/anndata/_core/anndata.py:1192: FutureWarning: is_categorical is deprecated and will be removed in a future version.  Use is_categorical_dtype instead\n",
      "  if is_string_dtype(df[key]) and not is_categorical(df[key])\n"
     ]
    },
    {
     "data": {
      "image/png": "[encoded data removed]",
      "text/plain": [
       "<Figure size 483.52x400 with 1 Axes>"
      ]
     },
     "metadata": {
      "needs_background": "light"
     },
     "output_type": "display_data"
    },
    {
     "data": {
      "image/png": "[encoded data removed]",
      "text/plain": [
       "<Figure size 483.52x400 with 1 Axes>"
      ]
     },
     "metadata": {
      "needs_background": "light"
     },
     "output_type": "display_data"
    }
   ],
   "source": [
    "rcParams['figure.figsize'] = [5, 5]\n",
    "rcParams['figure.dpi'] = 80\n",
    "\n",
    "# Quality control - plot QC metrics\n",
    "#Sample quality plots\n",
    "t1 = sc.pl.violin(ad, 'n_counts', groupby='original_celltype_ann', size=2, log=True, cut=0)\n",
    "t2 = sc.pl.violin(ad, 'mt_frac', groupby='original_celltype_ann')"
   ]
  },
  {
   "cell_type": "code",
   "execution_count": 9,
   "metadata": {},
   "outputs": [
    {
     "data": {
      "image/png": "[encoded data removed]",
      "text/plain": [
       "<Figure size 486.624x400 with 2 Axes>"
      ]
     },
     "metadata": {
      "needs_background": "light"
     },
     "output_type": "display_data"
    },
    {
     "name": "stderr",
     "output_type": "stream",
     "text": [
      "/home/icb/ignacio.ibarra/miniconda3/envs/mypython3/lib/python3.7/site-packages/anndata/_core/anndata.py:1094: FutureWarning: is_categorical is deprecated and will be removed in a future version.  Use is_categorical_dtype instead\n",
      "  if not is_categorical(df_full[k]):\n",
      "/home/icb/ignacio.ibarra/miniconda3/envs/mypython3/lib/python3.7/site-packages/anndata/_core/anndata.py:1192: FutureWarning: is_categorical is deprecated and will be removed in a future version.  Use is_categorical_dtype instead\n",
      "  if is_string_dtype(df[key]) and not is_categorical(df[key])\n"
     ]
    },
    {
     "data": {
      "image/png": "[encoded data removed]",
      "text/plain": [
       "<Figure size 486.624x400 with 2 Axes>"
      ]
     },
     "metadata": {
      "needs_background": "light"
     },
     "output_type": "display_data"
    }
   ],
   "source": [
    "#Data quality summary plots\n",
    "p1 = sc.pl.scatter(ad, 'n_counts', 'n_genes', color='mt_frac')\n",
    "p2 = sc.pl.scatter(ad[ad.obs['n_counts'] < 10000], 'n_counts', 'n_genes', color='mt_frac')"
   ]
  },
  {
   "cell_type": "code",
   "execution_count": 10,
   "metadata": {},
   "outputs": [
    {
     "data": {
      "image/png": "[encoded data removed]",
      "text/plain": [
       "<Figure size 400x400 with 1 Axes>"
      ]
     },
     "metadata": {
      "needs_background": "light"
     },
     "output_type": "display_data"
    },
    {
     "data": {
      "image/png": "[encoded data removed]",
      "text/plain": [
       "<Figure size 400x400 with 1 Axes>"
      ]
     },
     "metadata": {
      "needs_background": "light"
     },
     "output_type": "display_data"
    },
    {
     "data": {
      "image/png": "[encoded data removed]",
      "text/plain": [
       "<Figure size 400x400 with 1 Axes>"
      ]
     },
     "metadata": {
      "needs_background": "light"
     },
     "output_type": "display_data"
    }
   ],
   "source": [
    "#Thresholding decision: counts\n",
    "p3 = sns.distplot(ad.obs['n_counts'], kde=False)\n",
    "plt.show()\n",
    "p4 = sns.distplot(ad.obs['n_counts'][ad.obs['n_counts']<4000], kde=False, bins=60)\n",
    "plt.show()\n",
    "p5 = sns.distplot(ad.obs['n_counts'][ad.obs['n_counts']>10000], kde=False, bins=60)\n",
    "plt.show()"
   ]
  },
  {
   "cell_type": "markdown",
   "metadata": {},
   "source": [
    "### Perform scran normalization in Morse to checkout behavior"
   ]
  },
  {
   "cell_type": "markdown",
   "metadata": {},
   "source": [
    "Perform a clustering for scran normalization in clusters"
   ]
  },
  {
   "cell_type": "markdown",
   "metadata": {},
   "source": [
    "### Morse counts threshold filtering"
   ]
  },
  {
   "cell_type": "code",
   "execution_count": 11,
   "metadata": {},
   "outputs": [
    {
     "name": "stderr",
     "output_type": "stream",
     "text": [
      "/home/icb/ignacio.ibarra/miniconda3/envs/mypython3/lib/python3.7/site-packages/anndata/_core/anndata.py:1094: FutureWarning: is_categorical is deprecated and will be removed in a future version.  Use is_categorical_dtype instead\n",
      "  if not is_categorical(df_full[k]):\n",
      "/home/icb/ignacio.ibarra/miniconda3/envs/mypython3/lib/python3.7/site-packages/anndata/_core/anndata.py:1094: FutureWarning: is_categorical is deprecated and will be removed in a future version.  Use is_categorical_dtype instead\n",
      "  if not is_categorical(df_full[k]):\n",
      "/home/icb/ignacio.ibarra/miniconda3/envs/mypython3/lib/python3.7/site-packages/anndata/_core/anndata.py:1094: FutureWarning: is_categorical is deprecated and will be removed in a future version.  Use is_categorical_dtype instead\n",
      "  if not is_categorical(df_full[k]):\n"
     ]
    },
    {
     "data": {
      "text/plain": [
       "View of AnnData object with n_obs × n_vars = 8780 × 33694\n",
       "    obs: 'GSM', 'sample.id', 'dataset', 'last_author/PI', 'lung_vs_nasal', 'original_celltype_ann', 'sample', 'total_counts', 'log10_total_counts', 'n_genes_detected', 'mito_frac', 'ribo_frac', 'compl', 'ann_level_1', 'ann_level_2', 'ann_level_3', 'ann_level_4', 'ann_level_5', 'ann_highest_res', 'ann_new', \"3' or 5'\", 'BMI', 'Institute', 'Study_PI', 'age, in years', 'age, range', 'anatomical region coarse', 'anatomical region detailed', 'cause of death', 'cell ranger version', 'cell ranger version ', 'cell viability %', 'cells or nuclei', 'comments', 'condition', 'cultured', 'disease status', 'enrichment', 'enrichment ', 'ensembl release reference genome', 'ethnicity', 'fresh or frozen', 'known lung disease', 'library-construction batch', 'library_ID', 'mixed ethnicity', 'number of cells loaded', 'pre or postnatal', 'publication_ID', 'reference genome coarse', 'relative sample collection timepoint', 'repository_ID', 'sample type', 'sequencing platform', 'sex', 'single cell platform', 'smoking history', 'smoking status', 'subject type', 'subject_ID', 'subject_ID_as_published', 'tissue dissociation protocol', 'treatment status', 'year of sample collection', '10x.barcode', 'batch', 'n_counts', 'log_counts', 'n_genes', 'mt_frac'\n",
       "    var: 'ensembl', 'symbol'\n",
       "    uns: 'original_celltype_ann_colors'"
      ]
     },
     "execution_count": 11,
     "metadata": {},
     "output_type": "execute_result"
    }
   ],
   "source": [
    "ad = ad[ad.X.sum(axis=1) > 1000,:]\n",
    "ad = ad[ad.obs['mt_frac'] < 0.2,:]\n",
    "ad = ad[ad.obs['n_genes'] > 700,:]\n",
    "ad"
   ]
  },
  {
   "cell_type": "code",
   "execution_count": 12,
   "metadata": {},
   "outputs": [],
   "source": [
    "ad = ad.copy()\n",
    "sc.pp.normalize_per_cell(ad, counts_per_cell_after=1e6)\n",
    "sc.pp.log1p(ad)\n",
    "sc.pp.pca(ad, n_comps=15)\n",
    "sc.pp.neighbors(ad)\n",
    "sc.tl.louvain(ad, key_added='groups', resolution=0.5)"
   ]
  },
  {
   "cell_type": "code",
   "execution_count": 43,
   "metadata": {},
   "outputs": [],
   "source": [
    "ad.write('data/morse/morse_input_scvi_scanpy_norm.h5ad', compression='lzf')"
   ]
  },
  {
   "cell_type": "markdown",
   "metadata": {},
   "source": [
    "<a id=\"Preprocess_scran_morse\"></a>"
   ]
  },
  {
   "cell_type": "markdown",
   "metadata": {},
   "source": [
    "### Preprocess variables for scran normalization\n",
    "- Important: **Here data_mat has to be an ndarray** otherwise an error is thrown and handling it is most likely hard/not possible (see anndata2ri docs)"
   ]
  },
  {
   "cell_type": "code",
   "execution_count": 13,
   "metadata": {},
   "outputs": [],
   "source": [
    "input_groups = ad_pp.obs['groups']\n",
    "data_mat = ad.X.T.toarray()\n",
    "# data_mat = ad.X.toarray()"
   ]
  },
  {
   "cell_type": "code",
   "execution_count": null,
   "metadata": {},
   "outputs": [],
   "source": [
    "%%R -i data_mat -i input_groups -o size_factors\n",
    "size_factors = computeSumFactors(data_mat, min.mean=.1) # clusters=input_groups, min.mean=0.1)"
   ]
  },
  {
   "cell_type": "code",
   "execution_count": null,
   "metadata": {},
   "outputs": [],
   "source": [
    "print('done...')"
   ]
  },
  {
   "cell_type": "code",
   "execution_count": null,
   "metadata": {},
   "outputs": [],
   "source": [
    "print('done.2')"
   ]
  },
  {
   "cell_type": "code",
   "execution_count": null,
   "metadata": {},
   "outputs": [],
   "source": [
    "#Delete ad_pp\n",
    "del ad_pp"
   ]
  },
  {
   "cell_type": "code",
   "execution_count": null,
   "metadata": {},
   "outputs": [],
   "source": [
    "# Visualize the estimated size factors\n",
    "ad.obs['size_factors'] = size_factors\n",
    "sc.pl.scatter(ad, 'size_factors', 'n_counts')\n",
    "sc.pl.scatter(ad, 'size_factors', 'n_genes')\n",
    "sns.distplot(size_factors, bins=50, kde=False)\n",
    "plt.show()"
   ]
  },
  {
   "cell_type": "code",
   "execution_count": null,
   "metadata": {},
   "outputs": [],
   "source": [
    "#Keep the count data in a counts layer\n",
    "ad.layers[\"counts\"] = ad.X.copy()"
   ]
  },
  {
   "cell_type": "code",
   "execution_count": null,
   "metadata": {},
   "outputs": [],
   "source": [
    "#Normalize adata \n",
    "ad.X /= ad.obs['size_factors'].values[:,None]\n",
    "sc.pp.log1p(ad)"
   ]
  },
  {
   "cell_type": "code",
   "execution_count": null,
   "metadata": {},
   "outputs": [],
   "source": [
    "ad.X = np.array(ad.X)"
   ]
  },
  {
   "cell_type": "code",
   "execution_count": null,
   "metadata": {},
   "outputs": [],
   "source": [
    "# Store the full data set in 'raw' as log-normalised data for statistical testing\n",
    "ad.raw = ad"
   ]
  },
  {
   "cell_type": "code",
   "execution_count": null,
   "metadata": {},
   "outputs": [],
   "source": [
    "type(ad.raw.X)"
   ]
  },
  {
   "cell_type": "code",
   "execution_count": null,
   "metadata": {
    "scrolled": true
   },
   "outputs": [],
   "source": [
    "ad.X = np.array(ad.X)\n",
    "sc.pp.highly_variable_genes(ad, n_top_genes=4000)\n",
    "# print('\\n','Number of highly variable genes: {:d}'.format(np.sum(ad.var['highly_variable'])))"
   ]
  },
  {
   "cell_type": "code",
   "execution_count": null,
   "metadata": {},
   "outputs": [],
   "source": [
    "sc.pl.highly_variable_genes(ad)"
   ]
  },
  {
   "cell_type": "code",
   "execution_count": null,
   "metadata": {},
   "outputs": [],
   "source": [
    "# Calculate the visualizations\n",
    "sc.pp.pca(ad, n_comps=50, use_highly_variable=True, svd_solver='arpack')\n",
    "sc.pp.neighbors(ad)\n",
    "\n",
    "sc.tl.tsne(ad, n_jobs=12) #Note n_jobs works for MulticoreTSNE, but not regular implementation)\n",
    "sc.tl.umap(ad)\n",
    "sc.tl.diffmap(ad)\n",
    "sc.tl.draw_graph(ad)"
   ]
  },
  {
   "cell_type": "code",
   "execution_count": null,
   "metadata": {},
   "outputs": [],
   "source": [
    "sc.pl.pca_scatter(ad, color='n_counts')\n",
    "sc.pl.tsne(ad, color='n_counts')\n",
    "sc.pl.umap(ad, color='n_counts')\n",
    "sc.pl.diffmap(ad, color='n_counts', components=['1,2','1,3'])\n",
    "sc.pl.draw_graph(ad, color='n_counts')"
   ]
  },
  {
   "cell_type": "code",
   "execution_count": null,
   "metadata": {},
   "outputs": [],
   "source": [
    "# Perform clustering - using highly variable genes\n",
    "sc.tl.louvain(ad, key_added='louvain_r1')\n",
    "sc.tl.louvain(ad, resolution=0.5, key_added='louvain_r0.5', random_state=10)"
   ]
  },
  {
   "cell_type": "code",
   "execution_count": null,
   "metadata": {},
   "outputs": [],
   "source": [
    "condition_ad = {'SC14': 'healthy',\n",
    "                   'SC45': 'healthy',\n",
    "                   'SC56': 'healthy',\n",
    "                   'SC59': 'healthy',\n",
    "                   'SC155': 'healthy',\n",
    "                   'SC156': 'healthy'}\n",
    "ad.obs['condition.morse'] = ad.obs['sample'].map(condition_ad)"
   ]
  },
  {
   "cell_type": "code",
   "execution_count": null,
   "metadata": {},
   "outputs": [],
   "source": [
    "ad.obs['louvain_r0.5'].value_counts()"
   ]
  },
  {
   "cell_type": "code",
   "execution_count": null,
   "metadata": {},
   "outputs": [],
   "source": [
    "#Visualize the clustering and how this is reflected by different technical covariates\n",
    "sc.pl.umap(ad, color=['louvain_r1', 'louvain_r0.5'], palette=sc.pl.palettes.default_102)\n",
    "sc.pl.umap(ad, color=['original_celltype_ann', 'n_counts', 'condition.morse'])\n",
    "sc.pl.umap(ad, color=['log_counts', 'mt_frac', 'sample'])"
   ]
  },
  {
   "cell_type": "markdown",
   "metadata": {},
   "source": [
    "### The following snippet of code needs to be put up otherwise this section will not run properly"
   ]
  },
  {
   "cell_type": "code",
   "execution_count": null,
   "metadata": {},
   "outputs": [],
   "source": [
    "ad.raw.X = np.array(ad.raw.X)"
   ]
  },
  {
   "cell_type": "code",
   "execution_count": null,
   "metadata": {
    "scrolled": true
   },
   "outputs": [],
   "source": [
    "#Calculate marker genes\n",
    "sc.tl.rank_genes_groups(ad, groupby='louvain_r0.5', key_added='rank_genes_r0.5')"
   ]
  },
  {
   "cell_type": "code",
   "execution_count": null,
   "metadata": {},
   "outputs": [],
   "source": [
    "#Plot marker genes\n",
    "sc.pl.rank_genes_groups(ad, key='rank_genes_r0.5', groups=['0', '1', '2', '3'], fontsize=12)\n",
    "sc.pl.rank_genes_groups(ad, key='rank_genes_r0.5', groups=['4', '5', '6', '7'], fontsize=12)\n"
   ]
  },
  {
   "cell_type": "markdown",
   "metadata": {},
   "source": [
    "<a id='Checking_marker_genes_saliba'></a>"
   ]
  },
  {
   "cell_type": "markdown",
   "metadata": {},
   "source": [
    "### Checking marker genes proposed to be relevant"
   ]
  },
  {
   "cell_type": "code",
   "execution_count": null,
   "metadata": {},
   "outputs": [],
   "source": []
  },
  {
   "cell_type": "code",
   "execution_count": 74,
   "metadata": {},
   "outputs": [
    {
     "data": {
      "text/html": [
       "<div>\n",
       "<style scoped>\n",
       "    .dataframe tbody tr th:only-of-type {\n",
       "        vertical-align: middle;\n",
       "    }\n",
       "\n",
       "    .dataframe tbody tr th {\n",
       "        vertical-align: top;\n",
       "    }\n",
       "\n",
       "    .dataframe thead th {\n",
       "        text-align: right;\n",
       "    }\n",
       "</style>\n",
       "<table border=\"1\" class=\"dataframe\">\n",
       "  <thead>\n",
       "    <tr style=\"text-align: right;\">\n",
       "      <th></th>\n",
       "      <th>ensembl</th>\n",
       "      <th>symbol</th>\n",
       "    </tr>\n",
       "  </thead>\n",
       "  <tbody>\n",
       "    <tr>\n",
       "      <th>ENSG00000243485</th>\n",
       "      <td>ENSG00000243485</td>\n",
       "      <td>RP11-34P13.3</td>\n",
       "    </tr>\n",
       "    <tr>\n",
       "      <th>ENSG00000237613</th>\n",
       "      <td>ENSG00000237613</td>\n",
       "      <td>FAM138A</td>\n",
       "    </tr>\n",
       "    <tr>\n",
       "      <th>ENSG00000186092</th>\n",
       "      <td>ENSG00000186092</td>\n",
       "      <td>OR4F5</td>\n",
       "    </tr>\n",
       "    <tr>\n",
       "      <th>ENSG00000238009</th>\n",
       "      <td>ENSG00000238009</td>\n",
       "      <td>RP11-34P13.7</td>\n",
       "    </tr>\n",
       "    <tr>\n",
       "      <th>ENSG00000239945</th>\n",
       "      <td>ENSG00000239945</td>\n",
       "      <td>RP11-34P13.8</td>\n",
       "    </tr>\n",
       "    <tr>\n",
       "      <th>...</th>\n",
       "      <td>...</td>\n",
       "      <td>...</td>\n",
       "    </tr>\n",
       "    <tr>\n",
       "      <th>ENSG00000277856</th>\n",
       "      <td>ENSG00000277856</td>\n",
       "      <td>AC233755.2</td>\n",
       "    </tr>\n",
       "    <tr>\n",
       "      <th>ENSG00000275063</th>\n",
       "      <td>ENSG00000275063</td>\n",
       "      <td>AC233755.1</td>\n",
       "    </tr>\n",
       "    <tr>\n",
       "      <th>ENSG00000271254</th>\n",
       "      <td>ENSG00000271254</td>\n",
       "      <td>AC240274.1</td>\n",
       "    </tr>\n",
       "    <tr>\n",
       "      <th>ENSG00000277475</th>\n",
       "      <td>ENSG00000277475</td>\n",
       "      <td>AC213203.1</td>\n",
       "    </tr>\n",
       "    <tr>\n",
       "      <th>ENSG00000268674</th>\n",
       "      <td>ENSG00000268674</td>\n",
       "      <td>FAM231B</td>\n",
       "    </tr>\n",
       "  </tbody>\n",
       "</table>\n",
       "<p>33694 rows × 2 columns</p>\n",
       "</div>"
      ],
      "text/plain": [
       "                         ensembl        symbol\n",
       "ENSG00000243485  ENSG00000243485  RP11-34P13.3\n",
       "ENSG00000237613  ENSG00000237613       FAM138A\n",
       "ENSG00000186092  ENSG00000186092         OR4F5\n",
       "ENSG00000238009  ENSG00000238009  RP11-34P13.7\n",
       "ENSG00000239945  ENSG00000239945  RP11-34P13.8\n",
       "...                          ...           ...\n",
       "ENSG00000277856  ENSG00000277856    AC233755.2\n",
       "ENSG00000275063  ENSG00000275063    AC233755.1\n",
       "ENSG00000271254  ENSG00000271254    AC240274.1\n",
       "ENSG00000277475  ENSG00000277475    AC213203.1\n",
       "ENSG00000268674  ENSG00000268674       FAM231B\n",
       "\n",
       "[33694 rows x 2 columns]"
      ]
     },
     "execution_count": 74,
     "metadata": {},
     "output_type": "execute_result"
    }
   ],
   "source": [
    "ad.var"
   ]
  },
  {
   "cell_type": "code",
   "execution_count": 73,
   "metadata": {},
   "outputs": [
    {
     "name": "stdout",
     "output_type": "stream",
     "text": [
      "{'MP.markers': {'FTH1', 'CD63', 'FABP5', 'CTSL', 'GPNMB', 'APOE', 'SPP1', 'ACP5', 'LGALS3', 'CD9', 'CSTB', 'LPL', 'TREM2', 'CTSD', 'APOC1', 'CTSB', 'LIPA', 'FABP4', 'LGALS1', 'PSAP'}, 'MP.others': {'HEXB', 'CTSC', 'HEXA', 'IL7R', 'ADGRB1', 'MERTK', 'DOCK1', 'TYROBP', 'MFGE8', 'MMP12', 'FTL1'}}\n"
     ]
    },
    {
     "data": {
      "text/plain": [
       "{'MP.markers': set(), 'MP.others': set()}"
      ]
     },
     "execution_count": 73,
     "metadata": {},
     "output_type": "execute_result"
    }
   ],
   "source": [
    "marker_genes = {}\n",
    "marker_genes['MP.markers'] = {\"TREM2\", \"CD9\", \"SPP1\", \"GPNMB\", \"LGALS3\", \"LGALS1\", \"FABP4\", \"FABP5\", \"ACP5\", \"PSAP\",\n",
    "                                 \"FTH1\", \"LIPA\", \"CTSD\", \"CTSB\", \"CSTB\", \"CTSL\", \"APOE\", \"APOC1\", \"CD63\", \"LPL\"}\n",
    "marker_genes['MP.others'] = {\"FTL1\", \"CTSC\", \"HEXA\", \"HEXB\", \"MMP12\", \"MERTK\", \"TYROBP\", \"MFGE8\", \"DOCK1\", \"ADGRB1\", \"IL7R\"}\n",
    "print(marker_genes)\n",
    "\n",
    "for k in marker_genes:\n",
    "    marker_genes[k] = marker_genes[k].intersection(set(ad.var.symbol))\n",
    "    print(k, len(marker_genes[k]))"
   ]
  },
  {
   "cell_type": "code",
   "execution_count": null,
   "metadata": {},
   "outputs": [],
   "source": [
    "marker_genes"
   ]
  },
  {
   "cell_type": "code",
   "execution_count": null,
   "metadata": {},
   "outputs": [],
   "source": []
  },
  {
   "cell_type": "code",
   "execution_count": null,
   "metadata": {},
   "outputs": [],
   "source": [
    "ad.var"
   ]
  },
  {
   "cell_type": "code",
   "execution_count": null,
   "metadata": {},
   "outputs": [],
   "source": [
    "cell_annotation = sc.tl.marker_gene_overlap(ad, marker_genes, key='rank_genes_r0.5', top_n_markers=100)\n",
    "cell_annotation"
   ]
  },
  {
   "cell_type": "code",
   "execution_count": null,
   "metadata": {},
   "outputs": [],
   "source": [
    "\n",
    "cell_annotation_norm = sc.tl.marker_gene_overlap(ad, marker_genes, key='rank_genes_r0.5', normalize='reference', top_n_markers=200)\n",
    "sns.heatmap(cell_annotation_norm, cbar=False, annot=True)"
   ]
  },
  {
   "cell_type": "code",
   "execution_count": null,
   "metadata": {},
   "outputs": [],
   "source": [
    "from matplotlib import colors\n",
    "#Define a nice colour map for gene expression\n",
    "colors_red = plt.cm.Reds(np.linspace(0, 1, 128))\n",
    "colors_blue = plt.cm.Blues(np.linspace(0, 1, 128))\n",
    "colors3 = plt.cm.Greys_r(np.linspace(0.7,0.8,20))\n",
    "colorsComb = np.vstack([colors3, colors_red])\n",
    "mymap_red = colors.LinearSegmentedColormap.from_list('my_colormap', colorsComb)\n",
    "colorsComb = np.vstack([colors3, colors_blue])\n",
    "mymap_blue = colors.LinearSegmentedColormap.from_list('my_colormap', colorsComb)\n"
   ]
  },
  {
   "cell_type": "code",
   "execution_count": null,
   "metadata": {},
   "outputs": [],
   "source": [
    "ad.var_names_make_unique()"
   ]
  },
  {
   "cell_type": "code",
   "execution_count": null,
   "metadata": {},
   "outputs": [],
   "source": [
    "for k in marker_genes:\n",
    "    print(k)\n",
    "    sc.tl.score_genes(ad, list(marker_genes[k])) #  ctrl_size=50, gene_pool=None, n_bins=25, score_name='score', random_state=0, copy=False, use_raw=None)\n",
    "    ad.obs['score.' + k] = ad.obs['score']\n",
    "    del ad.obs['score']"
   ]
  },
  {
   "cell_type": "code",
   "execution_count": null,
   "metadata": {},
   "outputs": [],
   "source": [
    "sc.pl.umap(ad, color=['louvain_r0.5', 'condition.morse', 'sample'], cmap=mymap) # ['original_celltype_ann', 'n_counts', 'condition.morse']\n",
    "sc.pl.umap(morse, color=['score.mac.signature', 'score.mac.others'], cmap=mymap_blue) # ['original_celltype_ann', 'n_counts', 'condition.ad']"
   ]
  },
  {
   "cell_type": "code",
   "execution_count": null,
   "metadata": {},
   "outputs": [],
   "source": [
    "sc.pl.umap(ad, color=marker_genes['mac.signature'], cmap=mymap) # ['original_celltype_ann', 'n_counts', 'condition.morse']"
   ]
  },
  {
   "cell_type": "code",
   "execution_count": null,
   "metadata": {},
   "outputs": [],
   "source": [
    "sc.pl.umap(ad, color=marker_genes['mac.signature'], cmap=mymap) # ['original_celltype_ann', 'n_counts', 'condition.morse']"
   ]
  },
  {
   "cell_type": "code",
   "execution_count": 61,
   "metadata": {},
   "outputs": [],
   "source": [
    "ad.var.index = np.array(ad.var.symbol)\n",
    "ad.var_names_make_unique()"
   ]
  },
  {
   "cell_type": "code",
   "execution_count": 62,
   "metadata": {},
   "outputs": [
    {
     "data": {
      "text/plain": [
       "EGFL6           1\n",
       "RP11-815M8.1    1\n",
       "KCNC1           1\n",
       "SLC17A8         1\n",
       "ZNF549          1\n",
       "               ..\n",
       "MSANTD4         1\n",
       "LINC01558       1\n",
       "CTA-243E7.2     1\n",
       "XXYLT1          1\n",
       "GABARAP         1\n",
       "Length: 33694, dtype: int64"
      ]
     },
     "execution_count": 62,
     "metadata": {},
     "output_type": "execute_result"
    }
   ],
   "source": [
    "ad.var.index.value_counts()"
   ]
  },
  {
   "cell_type": "code",
   "execution_count": 63,
   "metadata": {},
   "outputs": [
    {
     "name": "stdout",
     "output_type": "stream",
     "text": [
      "MP.markers 8780\n"
     ]
    },
    {
     "name": "stderr",
     "output_type": "stream",
     "text": [
      "/home/icb/ignacio.ibarra/miniconda3/envs/mypython3/lib/python3.7/site-packages/anndata/_core/anndata.py:1094: FutureWarning: is_categorical is deprecated and will be removed in a future version.  Use is_categorical_dtype instead\n",
      "  if not is_categorical(df_full[k]):\n"
     ]
    },
    {
     "name": "stdout",
     "output_type": "stream",
     "text": [
      "MP.others 8780\n"
     ]
    },
    {
     "name": "stderr",
     "output_type": "stream",
     "text": [
      "/home/icb/ignacio.ibarra/miniconda3/envs/mypython3/lib/python3.7/site-packages/anndata/_core/anndata.py:1094: FutureWarning: is_categorical is deprecated and will be removed in a future version.  Use is_categorical_dtype instead\n",
      "  if not is_categorical(df_full[k]):\n"
     ]
    }
   ],
   "source": [
    "for k in ['MP.markers', 'MP.others']:\n",
    "    next_marker_genes = marker_genes[k]\n",
    "    print(k, len(ad))\n",
    "    sc.tl.score_genes(ad, next_marker_genes, use_raw=False, score_name=k + \".score\")\n"
   ]
  },
  {
   "cell_type": "code",
   "execution_count": 64,
   "metadata": {},
   "outputs": [
    {
     "data": {
      "text/html": [
       "<div>\n",
       "<style scoped>\n",
       "    .dataframe tbody tr th:only-of-type {\n",
       "        vertical-align: middle;\n",
       "    }\n",
       "\n",
       "    .dataframe tbody tr th {\n",
       "        vertical-align: top;\n",
       "    }\n",
       "\n",
       "    .dataframe thead th {\n",
       "        text-align: right;\n",
       "    }\n",
       "</style>\n",
       "<table border=\"1\" class=\"dataframe\">\n",
       "  <thead>\n",
       "    <tr style=\"text-align: right;\">\n",
       "      <th></th>\n",
       "      <th>GSM</th>\n",
       "      <th>sample.id</th>\n",
       "      <th>dataset</th>\n",
       "      <th>last_author/PI</th>\n",
       "      <th>lung_vs_nasal</th>\n",
       "      <th>original_celltype_ann</th>\n",
       "      <th>sample</th>\n",
       "      <th>total_counts</th>\n",
       "      <th>log10_total_counts</th>\n",
       "      <th>n_genes_detected</th>\n",
       "      <th>...</th>\n",
       "      <th>n_counts</th>\n",
       "      <th>log_counts</th>\n",
       "      <th>n_genes</th>\n",
       "      <th>mt_frac</th>\n",
       "      <th>size_factors</th>\n",
       "      <th>louvain_r1</th>\n",
       "      <th>louvain_r0.5</th>\n",
       "      <th>condition.morse</th>\n",
       "      <th>MP.markers.score</th>\n",
       "      <th>MP.others.score</th>\n",
       "    </tr>\n",
       "    <tr>\n",
       "      <th>barcode</th>\n",
       "      <th></th>\n",
       "      <th></th>\n",
       "      <th></th>\n",
       "      <th></th>\n",
       "      <th></th>\n",
       "      <th></th>\n",
       "      <th></th>\n",
       "      <th></th>\n",
       "      <th></th>\n",
       "      <th></th>\n",
       "      <th></th>\n",
       "      <th></th>\n",
       "      <th></th>\n",
       "      <th></th>\n",
       "      <th></th>\n",
       "      <th></th>\n",
       "      <th></th>\n",
       "      <th></th>\n",
       "      <th></th>\n",
       "      <th></th>\n",
       "      <th></th>\n",
       "    </tr>\n",
       "  </thead>\n",
       "  <tbody>\n",
       "    <tr>\n",
       "      <th>AAACCTGGTCATGCCG-1-SC45</th>\n",
       "      <td>GSM3660644</td>\n",
       "      <td>SC45NOR</td>\n",
       "      <td>Pittsburgh_Lafyatis_2019Morse_10Xv2</td>\n",
       "      <td>Lafyatis/Rojas</td>\n",
       "      <td>lung</td>\n",
       "      <td>1 SPP1hi Macrophage</td>\n",
       "      <td>SC45</td>\n",
       "      <td>4703.0</td>\n",
       "      <td>3.672375</td>\n",
       "      <td>1442</td>\n",
       "      <td>...</td>\n",
       "      <td>3038.0</td>\n",
       "      <td>8.018954</td>\n",
       "      <td>1206</td>\n",
       "      <td>0.052337</td>\n",
       "      <td>0.326308</td>\n",
       "      <td>0</td>\n",
       "      <td>1</td>\n",
       "      <td>healthy</td>\n",
       "      <td>1.333640</td>\n",
       "      <td>0.169076</td>\n",
       "    </tr>\n",
       "    <tr>\n",
       "      <th>AAACCTGGTGGTGTAG-1-SC45</th>\n",
       "      <td>GSM3660644</td>\n",
       "      <td>SC45NOR</td>\n",
       "      <td>Pittsburgh_Lafyatis_2019Morse_10Xv2</td>\n",
       "      <td>Lafyatis/Rojas</td>\n",
       "      <td>lung</td>\n",
       "      <td>1 SPP1hi Macrophage</td>\n",
       "      <td>SC45</td>\n",
       "      <td>5371.0</td>\n",
       "      <td>3.730055</td>\n",
       "      <td>1556</td>\n",
       "      <td>...</td>\n",
       "      <td>5557.0</td>\n",
       "      <td>8.622813</td>\n",
       "      <td>1574</td>\n",
       "      <td>0.045528</td>\n",
       "      <td>0.474200</td>\n",
       "      <td>0</td>\n",
       "      <td>1</td>\n",
       "      <td>healthy</td>\n",
       "      <td>2.120104</td>\n",
       "      <td>0.475861</td>\n",
       "    </tr>\n",
       "    <tr>\n",
       "      <th>AAACCTGGTTGTACAC-1-SC45</th>\n",
       "      <td>GSM3660644</td>\n",
       "      <td>SC45NOR</td>\n",
       "      <td>Pittsburgh_Lafyatis_2019Morse_10Xv2</td>\n",
       "      <td>Lafyatis/Rojas</td>\n",
       "      <td>lung</td>\n",
       "      <td>1 SPP1hi Macrophage</td>\n",
       "      <td>SC45</td>\n",
       "      <td>15027.0</td>\n",
       "      <td>4.176872</td>\n",
       "      <td>3025</td>\n",
       "      <td>...</td>\n",
       "      <td>4771.0</td>\n",
       "      <td>8.470311</td>\n",
       "      <td>1372</td>\n",
       "      <td>0.057850</td>\n",
       "      <td>0.374147</td>\n",
       "      <td>8</td>\n",
       "      <td>1</td>\n",
       "      <td>healthy</td>\n",
       "      <td>1.448630</td>\n",
       "      <td>0.335282</td>\n",
       "    </tr>\n",
       "    <tr>\n",
       "      <th>AAACCTGTCACAACGT-1-SC45</th>\n",
       "      <td>GSM3660644</td>\n",
       "      <td>SC45NOR</td>\n",
       "      <td>Pittsburgh_Lafyatis_2019Morse_10Xv2</td>\n",
       "      <td>Lafyatis/Rojas</td>\n",
       "      <td>lung</td>\n",
       "      <td>1 SPP1hi Macrophage</td>\n",
       "      <td>SC45</td>\n",
       "      <td>7806.0</td>\n",
       "      <td>3.892429</td>\n",
       "      <td>2170</td>\n",
       "      <td>...</td>\n",
       "      <td>8826.0</td>\n",
       "      <td>9.085457</td>\n",
       "      <td>2104</td>\n",
       "      <td>0.046794</td>\n",
       "      <td>0.804564</td>\n",
       "      <td>8</td>\n",
       "      <td>1</td>\n",
       "      <td>healthy</td>\n",
       "      <td>1.992919</td>\n",
       "      <td>0.797149</td>\n",
       "    </tr>\n",
       "    <tr>\n",
       "      <th>AAACGGGCACAGCGTC-1-SC45</th>\n",
       "      <td>GSM3660644</td>\n",
       "      <td>SC45NOR</td>\n",
       "      <td>Pittsburgh_Lafyatis_2019Morse_10Xv2</td>\n",
       "      <td>Lafyatis/Rojas</td>\n",
       "      <td>lung</td>\n",
       "      <td>0 FABP4hi Macrophage</td>\n",
       "      <td>SC45</td>\n",
       "      <td>7709.0</td>\n",
       "      <td>3.886998</td>\n",
       "      <td>2263</td>\n",
       "      <td>...</td>\n",
       "      <td>5150.0</td>\n",
       "      <td>8.546752</td>\n",
       "      <td>1523</td>\n",
       "      <td>0.054757</td>\n",
       "      <td>0.432858</td>\n",
       "      <td>8</td>\n",
       "      <td>1</td>\n",
       "      <td>healthy</td>\n",
       "      <td>1.501712</td>\n",
       "      <td>0.297146</td>\n",
       "    </tr>\n",
       "    <tr>\n",
       "      <th>...</th>\n",
       "      <td>...</td>\n",
       "      <td>...</td>\n",
       "      <td>...</td>\n",
       "      <td>...</td>\n",
       "      <td>...</td>\n",
       "      <td>...</td>\n",
       "      <td>...</td>\n",
       "      <td>...</td>\n",
       "      <td>...</td>\n",
       "      <td>...</td>\n",
       "      <td>...</td>\n",
       "      <td>...</td>\n",
       "      <td>...</td>\n",
       "      <td>...</td>\n",
       "      <td>...</td>\n",
       "      <td>...</td>\n",
       "      <td>...</td>\n",
       "      <td>...</td>\n",
       "      <td>...</td>\n",
       "      <td>...</td>\n",
       "      <td>...</td>\n",
       "    </tr>\n",
       "    <tr>\n",
       "      <th>TTTGTCACAGGACCCT-1-SC156</th>\n",
       "      <td>GSM3660648</td>\n",
       "      <td>SC156NORUP</td>\n",
       "      <td>Pittsburgh_Lafyatis_2019Morse_10Xv2</td>\n",
       "      <td>Lafyatis/Rojas</td>\n",
       "      <td>lung</td>\n",
       "      <td>0 FABP4hi Macrophage</td>\n",
       "      <td>SC156</td>\n",
       "      <td>14965.0</td>\n",
       "      <td>4.175076</td>\n",
       "      <td>3164</td>\n",
       "      <td>...</td>\n",
       "      <td>6496.0</td>\n",
       "      <td>8.778942</td>\n",
       "      <td>1687</td>\n",
       "      <td>0.077278</td>\n",
       "      <td>0.580740</td>\n",
       "      <td>4</td>\n",
       "      <td>0</td>\n",
       "      <td>healthy</td>\n",
       "      <td>1.926309</td>\n",
       "      <td>0.225631</td>\n",
       "    </tr>\n",
       "    <tr>\n",
       "      <th>TTTGTCAGTACACCGC-1-SC156</th>\n",
       "      <td>GSM3660648</td>\n",
       "      <td>SC156NORUP</td>\n",
       "      <td>Pittsburgh_Lafyatis_2019Morse_10Xv2</td>\n",
       "      <td>Lafyatis/Rojas</td>\n",
       "      <td>lung</td>\n",
       "      <td>0 FABP4hi Macrophage</td>\n",
       "      <td>SC156</td>\n",
       "      <td>17738.0</td>\n",
       "      <td>4.248905</td>\n",
       "      <td>3267</td>\n",
       "      <td>...</td>\n",
       "      <td>6591.0</td>\n",
       "      <td>8.793461</td>\n",
       "      <td>1948</td>\n",
       "      <td>0.025338</td>\n",
       "      <td>0.674075</td>\n",
       "      <td>4</td>\n",
       "      <td>0</td>\n",
       "      <td>healthy</td>\n",
       "      <td>1.484474</td>\n",
       "      <td>0.252252</td>\n",
       "    </tr>\n",
       "    <tr>\n",
       "      <th>TTTGTCAGTGCCTGTG-1-SC156</th>\n",
       "      <td>GSM3660648</td>\n",
       "      <td>SC156NORUP</td>\n",
       "      <td>Pittsburgh_Lafyatis_2019Morse_10Xv2</td>\n",
       "      <td>Lafyatis/Rojas</td>\n",
       "      <td>lung</td>\n",
       "      <td>1 SPP1hi Macrophage</td>\n",
       "      <td>SC156</td>\n",
       "      <td>6310.0</td>\n",
       "      <td>3.800029</td>\n",
       "      <td>1927</td>\n",
       "      <td>...</td>\n",
       "      <td>33625.0</td>\n",
       "      <td>10.423025</td>\n",
       "      <td>4490</td>\n",
       "      <td>0.038275</td>\n",
       "      <td>2.828225</td>\n",
       "      <td>5</td>\n",
       "      <td>0</td>\n",
       "      <td>healthy</td>\n",
       "      <td>1.955700</td>\n",
       "      <td>0.777485</td>\n",
       "    </tr>\n",
       "    <tr>\n",
       "      <th>TTTGTCATCACCGTAA-1-SC156</th>\n",
       "      <td>GSM3660648</td>\n",
       "      <td>SC156NORUP</td>\n",
       "      <td>Pittsburgh_Lafyatis_2019Morse_10Xv2</td>\n",
       "      <td>Lafyatis/Rojas</td>\n",
       "      <td>lung</td>\n",
       "      <td>0 FABP4hi Macrophage</td>\n",
       "      <td>SC156</td>\n",
       "      <td>3291.0</td>\n",
       "      <td>3.517328</td>\n",
       "      <td>1049</td>\n",
       "      <td>...</td>\n",
       "      <td>17437.0</td>\n",
       "      <td>9.766350</td>\n",
       "      <td>3036</td>\n",
       "      <td>0.050181</td>\n",
       "      <td>1.450312</td>\n",
       "      <td>5</td>\n",
       "      <td>0</td>\n",
       "      <td>healthy</td>\n",
       "      <td>1.582551</td>\n",
       "      <td>0.601433</td>\n",
       "    </tr>\n",
       "    <tr>\n",
       "      <th>TTTGTCATCGCCTGAG-1-SC156</th>\n",
       "      <td>GSM3660648</td>\n",
       "      <td>SC156NORUP</td>\n",
       "      <td>Pittsburgh_Lafyatis_2019Morse_10Xv2</td>\n",
       "      <td>Lafyatis/Rojas</td>\n",
       "      <td>lung</td>\n",
       "      <td>0 FABP4hi Macrophage</td>\n",
       "      <td>SC156</td>\n",
       "      <td>20018.0</td>\n",
       "      <td>4.301421</td>\n",
       "      <td>3272</td>\n",
       "      <td>...</td>\n",
       "      <td>13400.0</td>\n",
       "      <td>9.503010</td>\n",
       "      <td>3075</td>\n",
       "      <td>0.051045</td>\n",
       "      <td>1.344328</td>\n",
       "      <td>9</td>\n",
       "      <td>5</td>\n",
       "      <td>healthy</td>\n",
       "      <td>1.899945</td>\n",
       "      <td>0.463083</td>\n",
       "    </tr>\n",
       "  </tbody>\n",
       "</table>\n",
       "<p>8780 rows × 76 columns</p>\n",
       "</div>"
      ],
      "text/plain": [
       "                                 GSM   sample.id  \\\n",
       "barcode                                            \n",
       "AAACCTGGTCATGCCG-1-SC45   GSM3660644     SC45NOR   \n",
       "AAACCTGGTGGTGTAG-1-SC45   GSM3660644     SC45NOR   \n",
       "AAACCTGGTTGTACAC-1-SC45   GSM3660644     SC45NOR   \n",
       "AAACCTGTCACAACGT-1-SC45   GSM3660644     SC45NOR   \n",
       "AAACGGGCACAGCGTC-1-SC45   GSM3660644     SC45NOR   \n",
       "...                              ...         ...   \n",
       "TTTGTCACAGGACCCT-1-SC156  GSM3660648  SC156NORUP   \n",
       "TTTGTCAGTACACCGC-1-SC156  GSM3660648  SC156NORUP   \n",
       "TTTGTCAGTGCCTGTG-1-SC156  GSM3660648  SC156NORUP   \n",
       "TTTGTCATCACCGTAA-1-SC156  GSM3660648  SC156NORUP   \n",
       "TTTGTCATCGCCTGAG-1-SC156  GSM3660648  SC156NORUP   \n",
       "\n",
       "                                                      dataset  last_author/PI  \\\n",
       "barcode                                                                         \n",
       "AAACCTGGTCATGCCG-1-SC45   Pittsburgh_Lafyatis_2019Morse_10Xv2  Lafyatis/Rojas   \n",
       "AAACCTGGTGGTGTAG-1-SC45   Pittsburgh_Lafyatis_2019Morse_10Xv2  Lafyatis/Rojas   \n",
       "AAACCTGGTTGTACAC-1-SC45   Pittsburgh_Lafyatis_2019Morse_10Xv2  Lafyatis/Rojas   \n",
       "AAACCTGTCACAACGT-1-SC45   Pittsburgh_Lafyatis_2019Morse_10Xv2  Lafyatis/Rojas   \n",
       "AAACGGGCACAGCGTC-1-SC45   Pittsburgh_Lafyatis_2019Morse_10Xv2  Lafyatis/Rojas   \n",
       "...                                                       ...             ...   \n",
       "TTTGTCACAGGACCCT-1-SC156  Pittsburgh_Lafyatis_2019Morse_10Xv2  Lafyatis/Rojas   \n",
       "TTTGTCAGTACACCGC-1-SC156  Pittsburgh_Lafyatis_2019Morse_10Xv2  Lafyatis/Rojas   \n",
       "TTTGTCAGTGCCTGTG-1-SC156  Pittsburgh_Lafyatis_2019Morse_10Xv2  Lafyatis/Rojas   \n",
       "TTTGTCATCACCGTAA-1-SC156  Pittsburgh_Lafyatis_2019Morse_10Xv2  Lafyatis/Rojas   \n",
       "TTTGTCATCGCCTGAG-1-SC156  Pittsburgh_Lafyatis_2019Morse_10Xv2  Lafyatis/Rojas   \n",
       "\n",
       "                         lung_vs_nasal original_celltype_ann sample  \\\n",
       "barcode                                                               \n",
       "AAACCTGGTCATGCCG-1-SC45           lung   1 SPP1hi Macrophage   SC45   \n",
       "AAACCTGGTGGTGTAG-1-SC45           lung   1 SPP1hi Macrophage   SC45   \n",
       "AAACCTGGTTGTACAC-1-SC45           lung   1 SPP1hi Macrophage   SC45   \n",
       "AAACCTGTCACAACGT-1-SC45           lung   1 SPP1hi Macrophage   SC45   \n",
       "AAACGGGCACAGCGTC-1-SC45           lung  0 FABP4hi Macrophage   SC45   \n",
       "...                                ...                   ...    ...   \n",
       "TTTGTCACAGGACCCT-1-SC156          lung  0 FABP4hi Macrophage  SC156   \n",
       "TTTGTCAGTACACCGC-1-SC156          lung  0 FABP4hi Macrophage  SC156   \n",
       "TTTGTCAGTGCCTGTG-1-SC156          lung   1 SPP1hi Macrophage  SC156   \n",
       "TTTGTCATCACCGTAA-1-SC156          lung  0 FABP4hi Macrophage  SC156   \n",
       "TTTGTCATCGCCTGAG-1-SC156          lung  0 FABP4hi Macrophage  SC156   \n",
       "\n",
       "                          total_counts  log10_total_counts  n_genes_detected  \\\n",
       "barcode                                                                        \n",
       "AAACCTGGTCATGCCG-1-SC45         4703.0            3.672375              1442   \n",
       "AAACCTGGTGGTGTAG-1-SC45         5371.0            3.730055              1556   \n",
       "AAACCTGGTTGTACAC-1-SC45        15027.0            4.176872              3025   \n",
       "AAACCTGTCACAACGT-1-SC45         7806.0            3.892429              2170   \n",
       "AAACGGGCACAGCGTC-1-SC45         7709.0            3.886998              2263   \n",
       "...                                ...                 ...               ...   \n",
       "TTTGTCACAGGACCCT-1-SC156       14965.0            4.175076              3164   \n",
       "TTTGTCAGTACACCGC-1-SC156       17738.0            4.248905              3267   \n",
       "TTTGTCAGTGCCTGTG-1-SC156        6310.0            3.800029              1927   \n",
       "TTTGTCATCACCGTAA-1-SC156        3291.0            3.517328              1049   \n",
       "TTTGTCATCGCCTGAG-1-SC156       20018.0            4.301421              3272   \n",
       "\n",
       "                          ...  n_counts  log_counts  n_genes   mt_frac  \\\n",
       "barcode                   ...                                            \n",
       "AAACCTGGTCATGCCG-1-SC45   ...    3038.0    8.018954     1206  0.052337   \n",
       "AAACCTGGTGGTGTAG-1-SC45   ...    5557.0    8.622813     1574  0.045528   \n",
       "AAACCTGGTTGTACAC-1-SC45   ...    4771.0    8.470311     1372  0.057850   \n",
       "AAACCTGTCACAACGT-1-SC45   ...    8826.0    9.085457     2104  0.046794   \n",
       "AAACGGGCACAGCGTC-1-SC45   ...    5150.0    8.546752     1523  0.054757   \n",
       "...                       ...       ...         ...      ...       ...   \n",
       "TTTGTCACAGGACCCT-1-SC156  ...    6496.0    8.778942     1687  0.077278   \n",
       "TTTGTCAGTACACCGC-1-SC156  ...    6591.0    8.793461     1948  0.025338   \n",
       "TTTGTCAGTGCCTGTG-1-SC156  ...   33625.0   10.423025     4490  0.038275   \n",
       "TTTGTCATCACCGTAA-1-SC156  ...   17437.0    9.766350     3036  0.050181   \n",
       "TTTGTCATCGCCTGAG-1-SC156  ...   13400.0    9.503010     3075  0.051045   \n",
       "\n",
       "                         size_factors louvain_r1 louvain_r0.5 condition.morse  \\\n",
       "barcode                                                                         \n",
       "AAACCTGGTCATGCCG-1-SC45      0.326308          0            1         healthy   \n",
       "AAACCTGGTGGTGTAG-1-SC45      0.474200          0            1         healthy   \n",
       "AAACCTGGTTGTACAC-1-SC45      0.374147          8            1         healthy   \n",
       "AAACCTGTCACAACGT-1-SC45      0.804564          8            1         healthy   \n",
       "AAACGGGCACAGCGTC-1-SC45      0.432858          8            1         healthy   \n",
       "...                               ...        ...          ...             ...   \n",
       "TTTGTCACAGGACCCT-1-SC156     0.580740          4            0         healthy   \n",
       "TTTGTCAGTACACCGC-1-SC156     0.674075          4            0         healthy   \n",
       "TTTGTCAGTGCCTGTG-1-SC156     2.828225          5            0         healthy   \n",
       "TTTGTCATCACCGTAA-1-SC156     1.450312          5            0         healthy   \n",
       "TTTGTCATCGCCTGAG-1-SC156     1.344328          9            5         healthy   \n",
       "\n",
       "                          MP.markers.score  MP.others.score  \n",
       "barcode                                                      \n",
       "AAACCTGGTCATGCCG-1-SC45           1.333640         0.169076  \n",
       "AAACCTGGTGGTGTAG-1-SC45           2.120104         0.475861  \n",
       "AAACCTGGTTGTACAC-1-SC45           1.448630         0.335282  \n",
       "AAACCTGTCACAACGT-1-SC45           1.992919         0.797149  \n",
       "AAACGGGCACAGCGTC-1-SC45           1.501712         0.297146  \n",
       "...                                    ...              ...  \n",
       "TTTGTCACAGGACCCT-1-SC156          1.926309         0.225631  \n",
       "TTTGTCAGTACACCGC-1-SC156          1.484474         0.252252  \n",
       "TTTGTCAGTGCCTGTG-1-SC156          1.955700         0.777485  \n",
       "TTTGTCATCACCGTAA-1-SC156          1.582551         0.601433  \n",
       "TTTGTCATCGCCTGAG-1-SC156          1.899945         0.463083  \n",
       "\n",
       "[8780 rows x 76 columns]"
      ]
     },
     "execution_count": 64,
     "metadata": {},
     "output_type": "execute_result"
    }
   ],
   "source": [
    "ad.obs"
   ]
  },
  {
   "cell_type": "code",
   "execution_count": 291,
   "metadata": {},
   "outputs": [
    {
     "data": {
      "text/html": [
       "<div>\n",
       "<style scoped>\n",
       "    .dataframe tbody tr th:only-of-type {\n",
       "        vertical-align: middle;\n",
       "    }\n",
       "\n",
       "    .dataframe tbody tr th {\n",
       "        vertical-align: top;\n",
       "    }\n",
       "\n",
       "    .dataframe thead th {\n",
       "        text-align: right;\n",
       "    }\n",
       "</style>\n",
       "<table border=\"1\" class=\"dataframe\">\n",
       "  <thead>\n",
       "    <tr style=\"text-align: right;\">\n",
       "      <th></th>\n",
       "      <th>GSM</th>\n",
       "      <th>sample.id</th>\n",
       "      <th>n_counts</th>\n",
       "      <th>log_counts</th>\n",
       "      <th>n_genes</th>\n",
       "      <th>mt_frac</th>\n",
       "      <th>cell.type</th>\n",
       "    </tr>\n",
       "    <tr>\n",
       "      <th>barcode</th>\n",
       "      <th></th>\n",
       "      <th></th>\n",
       "      <th></th>\n",
       "      <th></th>\n",
       "      <th></th>\n",
       "      <th></th>\n",
       "      <th></th>\n",
       "    </tr>\n",
       "  </thead>\n",
       "  <tbody>\n",
       "    <tr>\n",
       "      <th>AAACCTGAGAGCTGGT-1</th>\n",
       "      <td>GSM3660651</td>\n",
       "      <td>SC87IPFLOW</td>\n",
       "      <td>18523.076172</td>\n",
       "      <td>9.826773</td>\n",
       "      <td>4109</td>\n",
       "      <td>0.005121</td>\n",
       "      <td>1-SPP1hi Macrophage</td>\n",
       "    </tr>\n",
       "    <tr>\n",
       "      <th>AAACCTGCATACGCCG-1</th>\n",
       "      <td>GSM3660651</td>\n",
       "      <td>SC87IPFLOW</td>\n",
       "      <td>11477.095703</td>\n",
       "      <td>9.348108</td>\n",
       "      <td>2051</td>\n",
       "      <td>0.006989</td>\n",
       "      <td>5-Fibroblast</td>\n",
       "    </tr>\n",
       "    <tr>\n",
       "      <th>AAACCTGGTCCGAGTC-1</th>\n",
       "      <td>GSM3660651</td>\n",
       "      <td>SC87IPFLOW</td>\n",
       "      <td>12274.981445</td>\n",
       "      <td>9.415318</td>\n",
       "      <td>2516</td>\n",
       "      <td>0.007603</td>\n",
       "      <td>9-Goblet</td>\n",
       "    </tr>\n",
       "    <tr>\n",
       "      <th>AAACCTGGTGTCGCTG-1</th>\n",
       "      <td>GSM3660651</td>\n",
       "      <td>SC87IPFLOW</td>\n",
       "      <td>13840.004883</td>\n",
       "      <td>9.535318</td>\n",
       "      <td>2786</td>\n",
       "      <td>0.006455</td>\n",
       "      <td>1-SPP1hi Macrophage</td>\n",
       "    </tr>\n",
       "    <tr>\n",
       "      <th>AAACCTGGTTCTGAAC-1</th>\n",
       "      <td>GSM3660651</td>\n",
       "      <td>SC87IPFLOW</td>\n",
       "      <td>11685.170898</td>\n",
       "      <td>9.366076</td>\n",
       "      <td>2174</td>\n",
       "      <td>0.007381</td>\n",
       "      <td>1-SPP1hi Macrophage</td>\n",
       "    </tr>\n",
       "    <tr>\n",
       "      <th>...</th>\n",
       "      <td>...</td>\n",
       "      <td>...</td>\n",
       "      <td>...</td>\n",
       "      <td>...</td>\n",
       "      <td>...</td>\n",
       "      <td>...</td>\n",
       "      <td>...</td>\n",
       "    </tr>\n",
       "    <tr>\n",
       "      <th>TTTGTCACAGAGTGTG-1</th>\n",
       "      <td>GSM3660651</td>\n",
       "      <td>SC87IPFLOW</td>\n",
       "      <td>14617.307617</td>\n",
       "      <td>9.589962</td>\n",
       "      <td>2850</td>\n",
       "      <td>0.006189</td>\n",
       "      <td>9-Goblet</td>\n",
       "    </tr>\n",
       "    <tr>\n",
       "      <th>TTTGTCACAGGAATGC-1</th>\n",
       "      <td>GSM3660651</td>\n",
       "      <td>SC87IPFLOW</td>\n",
       "      <td>17131.289062</td>\n",
       "      <td>9.748662</td>\n",
       "      <td>3782</td>\n",
       "      <td>0.004736</td>\n",
       "      <td>5-Fibroblast</td>\n",
       "    </tr>\n",
       "    <tr>\n",
       "      <th>TTTGTCACATCGGAAG-1</th>\n",
       "      <td>GSM3660651</td>\n",
       "      <td>SC87IPFLOW</td>\n",
       "      <td>8669.977539</td>\n",
       "      <td>9.067621</td>\n",
       "      <td>1472</td>\n",
       "      <td>0.009714</td>\n",
       "      <td>1-SPP1hi Macrophage</td>\n",
       "    </tr>\n",
       "    <tr>\n",
       "      <th>TTTGTCAGTAAAGTCA-1</th>\n",
       "      <td>GSM3660651</td>\n",
       "      <td>SC87IPFLOW</td>\n",
       "      <td>11158.509766</td>\n",
       "      <td>9.319958</td>\n",
       "      <td>2124</td>\n",
       "      <td>0.007380</td>\n",
       "      <td>16-Dendritic Cell</td>\n",
       "    </tr>\n",
       "    <tr>\n",
       "      <th>TTTGTCAGTCCAGTTA-1</th>\n",
       "      <td>GSM3660651</td>\n",
       "      <td>SC87IPFLOW</td>\n",
       "      <td>6562.387695</td>\n",
       "      <td>8.789110</td>\n",
       "      <td>991</td>\n",
       "      <td>0.011364</td>\n",
       "      <td>17-Lymphatic Endothelial</td>\n",
       "    </tr>\n",
       "  </tbody>\n",
       "</table>\n",
       "<p>4299 rows × 7 columns</p>\n",
       "</div>"
      ],
      "text/plain": [
       "                           GSM   sample.id      n_counts  log_counts  n_genes  \\\n",
       "barcode                                                                         \n",
       "AAACCTGAGAGCTGGT-1  GSM3660651  SC87IPFLOW  18523.076172    9.826773     4109   \n",
       "AAACCTGCATACGCCG-1  GSM3660651  SC87IPFLOW  11477.095703    9.348108     2051   \n",
       "AAACCTGGTCCGAGTC-1  GSM3660651  SC87IPFLOW  12274.981445    9.415318     2516   \n",
       "AAACCTGGTGTCGCTG-1  GSM3660651  SC87IPFLOW  13840.004883    9.535318     2786   \n",
       "AAACCTGGTTCTGAAC-1  GSM3660651  SC87IPFLOW  11685.170898    9.366076     2174   \n",
       "...                        ...         ...           ...         ...      ...   \n",
       "TTTGTCACAGAGTGTG-1  GSM3660651  SC87IPFLOW  14617.307617    9.589962     2850   \n",
       "TTTGTCACAGGAATGC-1  GSM3660651  SC87IPFLOW  17131.289062    9.748662     3782   \n",
       "TTTGTCACATCGGAAG-1  GSM3660651  SC87IPFLOW   8669.977539    9.067621     1472   \n",
       "TTTGTCAGTAAAGTCA-1  GSM3660651  SC87IPFLOW  11158.509766    9.319958     2124   \n",
       "TTTGTCAGTCCAGTTA-1  GSM3660651  SC87IPFLOW   6562.387695    8.789110      991   \n",
       "\n",
       "                     mt_frac                 cell.type  \n",
       "barcode                                                 \n",
       "AAACCTGAGAGCTGGT-1  0.005121       1-SPP1hi Macrophage  \n",
       "AAACCTGCATACGCCG-1  0.006989              5-Fibroblast  \n",
       "AAACCTGGTCCGAGTC-1  0.007603                  9-Goblet  \n",
       "AAACCTGGTGTCGCTG-1  0.006455       1-SPP1hi Macrophage  \n",
       "AAACCTGGTTCTGAAC-1  0.007381       1-SPP1hi Macrophage  \n",
       "...                      ...                       ...  \n",
       "TTTGTCACAGAGTGTG-1  0.006189                  9-Goblet  \n",
       "TTTGTCACAGGAATGC-1  0.004736              5-Fibroblast  \n",
       "TTTGTCACATCGGAAG-1  0.009714       1-SPP1hi Macrophage  \n",
       "TTTGTCAGTAAAGTCA-1  0.007380         16-Dendritic Cell  \n",
       "TTTGTCAGTCCAGTTA-1  0.011364  17-Lymphatic Endothelial  \n",
       "\n",
       "[4299 rows x 7 columns]"
      ]
     },
     "execution_count": 291,
     "metadata": {},
     "output_type": "execute_result"
    }
   ],
   "source": [
    "ad.obs"
   ]
  },
  {
   "cell_type": "code",
   "execution_count": 66,
   "metadata": {},
   "outputs": [
    {
     "name": "stdout",
     "output_type": "stream",
     "text": [
      "0 0 FABP4hi Macrophage\n"
     ]
    },
    {
     "name": "stderr",
     "output_type": "stream",
     "text": [
      "/home/icb/ignacio.ibarra/miniconda3/envs/mypython3/lib/python3.7/site-packages/anndata/_core/anndata.py:1094: FutureWarning: is_categorical is deprecated and will be removed in a future version.  Use is_categorical_dtype instead\n",
      "  if not is_categorical(df_full[k]):\n"
     ]
    },
    {
     "name": "stdout",
     "output_type": "stream",
     "text": [
      "1 1 SPP1hi Macrophage\n"
     ]
    },
    {
     "name": "stderr",
     "output_type": "stream",
     "text": [
      "/home/icb/ignacio.ibarra/miniconda3/envs/mypython3/lib/python3.7/site-packages/anndata/_core/anndata.py:1094: FutureWarning: is_categorical is deprecated and will be removed in a future version.  Use is_categorical_dtype instead\n",
      "  if not is_categorical(df_full[k]):\n"
     ]
    },
    {
     "data": {
      "image/png": "[encoded data removed]",
      "text/plain": [
       "<Figure size 1300x1700 with 2 Axes>"
      ]
     },
     "metadata": {
      "needs_background": "light"
     },
     "output_type": "display_data"
    }
   ],
   "source": [
    "rcParams['figure.figsize'] = [13, 17]\n",
    "rcParams['figure.dpi'] = 100\n",
    "pi = 0\n",
    "for ct in sorted(set(ad.obs['original_celltype_ann']), key=lambda x: ad.obs[ad.obs['original_celltype_ann'] == x].shape[0])[::-1]:\n",
    "    print(pi, ct)\n",
    "    \n",
    "    grp = ad[ad.obs['original_celltype_ann'] == ct].obs\n",
    "    \n",
    "    ax = plt.subplot(10, 3, pi + 1)\n",
    "    sns.violinplot(x=\"original_celltype_ann\", y=\"MP.markers.score\", hue='sample',\n",
    "                   data=grp, palette=\"muted\")\n",
    "    plt.title(ct + '(%i)' % grp.shape[0])\n",
    "    \n",
    "    if pi != 1:\n",
    "        ax.get_legend().set_visible(False)\n",
    "    else:\n",
    "        plt.legend(bbox_to_anchor=(1.01, 1),borderaxespad=0)\n",
    "    pi += 1\n",
    "    # Hide the right and top spines\n",
    "    ax.spines['right'].set_visible(False)\n",
    "    ax.spines['top'].set_visible(False)\n",
    "\n",
    "    # Only show ticks on the left and bottom spines\n",
    "    ax.yaxis.set_ticks_position('left')\n",
    "    ax.xaxis.set_ticks_position('bottom')\n",
    "    \n",
    "    plt.xlabel('')\n",
    "    plt.xticks([])\n",
    "\n",
    "# plt.xticks(rotation=45, ha='right')\n",
    "plt.tight_layout()\n",
    "plt.subplots_adjust(right=.6, bottom=.3)"
   ]
  },
  {
   "cell_type": "code",
   "execution_count": 67,
   "metadata": {},
   "outputs": [
    {
     "name": "stdout",
     "output_type": "stream",
     "text": [
      "0 0 FABP4hi Macrophage\n"
     ]
    },
    {
     "name": "stderr",
     "output_type": "stream",
     "text": [
      "/home/icb/ignacio.ibarra/miniconda3/envs/mypython3/lib/python3.7/site-packages/anndata/_core/anndata.py:1094: FutureWarning: is_categorical is deprecated and will be removed in a future version.  Use is_categorical_dtype instead\n",
      "  if not is_categorical(df_full[k]):\n"
     ]
    },
    {
     "name": "stdout",
     "output_type": "stream",
     "text": [
      "1 1 SPP1hi Macrophage\n"
     ]
    },
    {
     "name": "stderr",
     "output_type": "stream",
     "text": [
      "/home/icb/ignacio.ibarra/miniconda3/envs/mypython3/lib/python3.7/site-packages/anndata/_core/anndata.py:1094: FutureWarning: is_categorical is deprecated and will be removed in a future version.  Use is_categorical_dtype instead\n",
      "  if not is_categorical(df_full[k]):\n"
     ]
    },
    {
     "data": {
      "image/png": "[encoded data removed]",
      "text/plain": [
       "<Figure size 1300x1700 with 2 Axes>"
      ]
     },
     "metadata": {
      "needs_background": "light"
     },
     "output_type": "display_data"
    }
   ],
   "source": []
  }
 ],
 "metadata": {
  "kernelspec": {
   "display_name": "Python [conda env:batchglm_gpu]",
   "language": "python",
   "name": "conda-env-batchglm_gpu-py"
  },
  "language_info": {
   "codemirror_mode": {
    "name": "ipython",
    "version": 3
   },
   "file_extension": ".py",
   "mimetype": "text/x-python",
   "name": "python",
   "nbconvert_exporter": "python",
   "pygments_lexer": "ipython3",
   "version": "3.8.6"
  }
 },
 "nbformat": 4,
 "nbformat_minor": 4
}
