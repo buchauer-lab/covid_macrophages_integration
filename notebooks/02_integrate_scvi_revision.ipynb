{
 "cells": [
  {
   "cell_type": "markdown",
   "metadata": {},
   "source": [
    "### scvi must be version 0.6.7"
   ]
  },
  {
   "cell_type": "code",
   "execution_count": 1,
   "metadata": {},
   "outputs": [],
   "source": [
    "%reload_ext autoreload\n",
    "%autoreload 2"
   ]
  },
  {
   "cell_type": "code",
   "execution_count": 2,
   "metadata": {},
   "outputs": [
    {
     "name": "stdout",
     "output_type": "stream",
     "text": [
      "The autoreload extension is already loaded. To reload it, use:\n",
      "  %reload_ext autoreload\n"
     ]
    }
   ],
   "source": [
    "from scvi.models import VAE, SCANVI\n",
    "from scvi.inference import UnsupervisedTrainer, SemiSupervisedTrainer\n",
    "from sklearn.preprocessing import LabelEncoder\n",
    "from scvi.dataset import AnnDatasetFromAnnData\n",
    "import numpy as np\n",
    "\n",
    "\n",
    "import scvi\n",
    "import scanpy as sc\n",
    "sc.set_figure_params(figsize=(4, 4))\n",
    "\n",
    "import sys\n",
    "\n",
    "#if True, will install via pypi, else will install from source\n",
    "stable = True\n",
    "IN_COLAB = \"google.colab\" in sys.modules\n",
    "\n",
    "if IN_COLAB and stable:\n",
    "    !pip install --quiet scvi-tools[tutorials]\n",
    "elif IN_COLAB and not stable:\n",
    "    !pip install --quiet --upgrade jsonschema\n",
    "    !pip install --quiet git+https://github.com/yoseflab/scvi-tools@master#egg=scvi-tools[tutorials]\n",
    "\n",
    "# to autoreload upon editing functions\n",
    "%load_ext autoreload\n",
    "\n",
    "from matplotlib import rcParams\n",
    "import matplotlib.pyplot as plt\n",
    "%matplotlib inline\n",
    "\n",
    "from scvi.models import VAE\n",
    "from scvi.inference import UnsupervisedTrainer\n",
    "from sklearn.preprocessing import LabelEncoder\n",
    "from scvi.dataset import AnnDatasetFromAnnData\n"
   ]
  },
  {
   "cell_type": "code",
   "execution_count": 3,
   "metadata": {},
   "outputs": [
    {
     "name": "stdout",
     "output_type": "stream",
     "text": [
      "the latest used version before revision was 0.6.7\n"
     ]
    }
   ],
   "source": [
    "print('the latest used version before revision was 0.6.7')"
   ]
  },
  {
   "cell_type": "code",
   "execution_count": 4,
   "metadata": {},
   "outputs": [
    {
     "data": {
      "text/plain": [
       "'0.6.7'"
      ]
     },
     "execution_count": 4,
     "metadata": {},
     "output_type": "execute_result"
    }
   ],
   "source": [
    "scvi.__version__"
   ]
  },
  {
   "cell_type": "code",
   "execution_count": 5,
   "metadata": {},
   "outputs": [
    {
     "name": "stdout",
     "output_type": "stream",
     "text": [
      "/storage/groups/ml01/workspace/ignacio.ibarra/theislab/saliba_macrophages/notebooks\n"
     ]
    }
   ],
   "source": [
    "cd .."
   ]
  },
  {
   "cell_type": "code",
   "execution_count": 6,
   "metadata": {},
   "outputs": [],
   "source": [
    "\n",
    "from utils import *"
   ]
  },
  {
   "cell_type": "code",
   "execution_count": 7,
   "metadata": {},
   "outputs": [
    {
     "name": "stdout",
     "output_type": "stream",
     "text": [
      "adams\n",
      "scoring MP.markers 20\n",
      "scoring MP.others 9\n",
      "scoring MP.all 30\n",
      "morse\n"
     ]
    },
    {
     "name": "stderr",
     "output_type": "stream",
     "text": [
      "Variable names are not unique. To make them unique, call `.var_names_make_unique`.\n",
      "Variable names are not unique. To make them unique, call `.var_names_make_unique`.\n",
      "Variable names are not unique. To make them unique, call `.var_names_make_unique`.\n",
      "Variable names are not unique. To make them unique, call `.var_names_make_unique`.\n",
      "Variable names are not unique. To make them unique, call `.var_names_make_unique`.\n",
      "Variable names are not unique. To make them unique, call `.var_names_make_unique`.\n",
      "Variable names are not unique. To make them unique, call `.var_names_make_unique`.\n",
      "Variable names are not unique. To make them unique, call `.var_names_make_unique`.\n",
      "Variable names are not unique. To make them unique, call `.var_names_make_unique`.\n",
      "Variable names are not unique. To make them unique, call `.var_names_make_unique`.\n",
      "Variable names are not unique. To make them unique, call `.var_names_make_unique`.\n",
      "Variable names are not unique. To make them unique, call `.var_names_make_unique`.\n",
      "Variable names are not unique. To make them unique, call `.var_names_make_unique`.\n",
      "Variable names are not unique. To make them unique, call `.var_names_make_unique`.\n",
      "Variable names are not unique. To make them unique, call `.var_names_make_unique`.\n",
      "Variable names are not unique. To make them unique, call `.var_names_make_unique`.\n",
      "Variable names are not unique. To make them unique, call `.var_names_make_unique`.\n",
      "Variable names are not unique. To make them unique, call `.var_names_make_unique`.\n"
     ]
    },
    {
     "name": "stdout",
     "output_type": "stream",
     "text": [
      "scoring MP.markers 20\n",
      "scoring MP.others 10\n",
      "scoring MP.all 31\n",
      "bal\n"
     ]
    },
    {
     "name": "stderr",
     "output_type": "stream",
     "text": [
      "Variable names are not unique. To make them unique, call `.var_names_make_unique`.\n",
      "Variable names are not unique. To make them unique, call `.var_names_make_unique`.\n",
      "Trying to set attribute `.obs` of view, copying.\n"
     ]
    },
    {
     "name": "stdout",
     "output_type": "stream",
     "text": [
      "adding annotation from bal mdm...\n",
      "scoring genes...\n",
      "scoring MP.markers 20\n",
      "scoring MP.others 10\n",
      "scoring MP.all 31\n",
      "budinger\n",
      "scoring MP.markers 20\n",
      "scoring MP.others 10\n",
      "scoring MP.all 31\n",
      "14923.0\n",
      "10239.0\n",
      "22851.0\n",
      "6783.0\n",
      "morse+adams\n",
      "(morse+adams) + bal\n",
      "(morse+adams+bal) + budinger\n",
      "False    11774\n",
      "True      5882\n",
      "Name: highly_variable, dtype: int64\n"
     ]
    }
   ],
   "source": [
    "adata = get_concatenated_dataset()"
   ]
  },
  {
   "cell_type": "code",
   "execution_count": 8,
   "metadata": {},
   "outputs": [
    {
     "name": "stdout",
     "output_type": "stream",
     "text": [
      "/storage/groups/ml01/workspace/ignacio.ibarra/theislab/saliba_macrophages/notebooks/revision\n"
     ]
    }
   ],
   "source": [
    "cd revision"
   ]
  },
  {
   "cell_type": "code",
   "execution_count": 9,
   "metadata": {},
   "outputs": [
    {
     "name": "stdout",
     "output_type": "stream",
     "text": [
      "datasets loaded...\n"
     ]
    }
   ],
   "source": [
    "print('datasets loaded...')"
   ]
  },
  {
   "cell_type": "code",
   "execution_count": 10,
   "metadata": {},
   "outputs": [],
   "source": [
    "# Check for counts data layer\n",
    "if 'counts' not in adata.layers:\n",
    "    raise TypeError('Adata does not contain a `counts` layer in `adata.layers[`counts`]`')"
   ]
  },
  {
   "cell_type": "code",
   "execution_count": 11,
   "metadata": {},
   "outputs": [
    {
     "data": {
      "text/plain": [
       "AnnData object with n_obs × n_vars = 227086 × 17656\n",
       "    obs: 'GSM', 'sample.id', 'n_counts', 'log_counts', 'n_genes', 'mt_frac', 'patient.id', 'cell.type', 'study', 'disease.status', 'MP.markers.score', 'MP.others.score', 'MP.all.score', 'nUMI', 'nGene', 'CellType_Category', 'Manuscript_Identity', 'Subclass_Cell_Identity', 'Disease_Identity', 'Subject_Identity', 'Library_Identity', 'groups', 'batch', 'orig.ident', 'nCount_RNA', 'nFeature_RNA', 'viral_counts', 'viral_ratio', 'viral_norm', 'percent.mt', 'number', 'dataset', 'S.Score', 'G2M.Score', 'Phase', 'CC.Difference', 'SR.score1', 'dissoc.score1', 'Label', 'nCount_VIRAL', 'nFeature_VIRAL', 'seurat_clusters', 'RNA_mnn_40_Leiden_res.0.1', 'RNA_mnn_40_Leiden_res.0.2', 'RNA_mnn_40_Leiden_res.0.3', 'RNA_mnn_40_Leiden_res.0.4', 'RNA_mnn_40_Leiden_res.0.5', 'RNA_mnn_40_Leiden_res.0.6', 'RNA_mnn_40_Leiden_res.0.7', 'RNA_mnn_40_Leiden_res.0.8', 'RNA_mnn_40_Leiden_res.0.9', 'RNA_mnn_40_Leiden_res.1', 'RNA_mnn_40_Leiden_res.1.5', 'RNA_mnn_40_Leiden_res.2', 'RNA_mnn_40_Leiden_res.3', 'RNA_mnn_40_Leiden_res.5', 'Celltype', 'patient', 'dpso', 'age', 'sex', 'Celltype_2', 'Timepoint', 'ident', 'mdm.type', 'Unnamed: 0', 'Study', 'Sample Source', 'Sample Name', 'Sample Status', 'Diagnosis', 'COVID-19', 'Tissue Type', 'Cell Population', 'Cell Type', 'leiden', 'No of UMIs', 'No of genes', '% of mito genes', 'Cluster'\n",
       "    var: 'symbol', 'ensembl-0-0-0', 'highly_variable-0-0-0', 'means-0-0-0', 'dispersions-0-0-0', 'dispersions_norm-0-0-0', 'ensembl-1-0-0', 'highly_variable-1-0-0', 'means-1-0-0', 'dispersions-1-0-0', 'dispersions_norm-1-0-0', 'vst.mean-1-0', 'vst.variance-1-0', 'vst.variance.expected-1-0', 'vst.variance.standardized-1-0', 'vst.variable-1-0', 'ensembl-1-0', 'highly_variable-1-0', 'means-1-0', 'dispersions-1-0', 'dispersions_norm-1-0', 'gene_ids-0-1', 'feature_types-0-1', 'n_cells-0-1', 'gene_ids-1-1', 'feature_types-1-1', 'n_cells-1-1', 'gene_ids-10-1', 'feature_types-10-1', 'n_cells-10-1', 'gene_ids-11-1', 'feature_types-11-1', 'n_cells-11-1', 'gene_ids-12-1', 'feature_types-12-1', 'n_cells-12-1', 'gene_ids-13-1', 'feature_types-13-1', 'n_cells-13-1', 'gene_ids-14-1', 'feature_types-14-1', 'n_cells-14-1', 'gene_ids-15-1', 'feature_types-15-1', 'n_cells-15-1', 'gene_ids-16-1', 'feature_types-16-1', 'n_cells-16-1', 'gene_ids-17-1', 'feature_types-17-1', 'n_cells-17-1', 'gene_ids-18-1', 'feature_types-18-1', 'n_cells-18-1', 'gene_ids-19-1', 'feature_types-19-1', 'n_cells-19-1', 'gene_ids-2-1', 'feature_types-2-1', 'n_cells-2-1', 'gene_ids-20-1', 'feature_types-20-1', 'n_cells-20-1', 'gene_ids-21-1', 'feature_types-21-1', 'n_cells-21-1', 'gene_ids-3-1', 'feature_types-3-1', 'n_cells-3-1', 'gene_ids-4-1', 'feature_types-4-1', 'n_cells-4-1', 'gene_ids-5-1', 'feature_types-5-1', 'n_cells-5-1', 'gene_ids-6-1', 'feature_types-6-1', 'n_cells-6-1', 'gene_ids-7-1', 'feature_types-7-1', 'n_cells-7-1', 'gene_ids-8-1', 'feature_types-8-1', 'n_cells-8-1', 'gene_ids-9-1', 'feature_types-9-1', 'n_cells-9-1', 'mito-1', 'ribo-1', 'n_cells_by_counts-1', 'mean_counts-1', 'pct_dropout_by_counts-1', 'total_counts-1', 'highly_variable-1', 'means-1', 'dispersions-1', 'dispersions_norm-1', 'highly_variable'\n",
       "    layers: 'counts'"
      ]
     },
     "execution_count": 11,
     "metadata": {},
     "output_type": "execute_result"
    }
   ],
   "source": [
    "adata"
   ]
  },
  {
   "cell_type": "code",
   "execution_count": 12,
   "metadata": {},
   "outputs": [
    {
     "data": {
      "text/plain": [
       "adams       179222\n",
       "budinger     22810\n",
       "morse        17551\n",
       "BAL           7503\n",
       "Name: study, dtype: int64"
      ]
     },
     "execution_count": 12,
     "metadata": {},
     "output_type": "execute_result"
    }
   ],
   "source": [
    "adata.obs['study'].value_counts()"
   ]
  },
  {
   "cell_type": "code",
   "execution_count": 13,
   "metadata": {},
   "outputs": [
    {
     "data": {
      "text/plain": [
       "SC156    2104\n",
       "SC45     1935\n",
       "SC59     1743\n",
       "SC155    1733\n",
       "SC88     1519\n",
       "SC87     1371\n",
       "SC154    1323\n",
       "SC89     1223\n",
       "SC153    1099\n",
       "SC56     1080\n",
       "SC94      842\n",
       "SC93      509\n",
       "SC95      415\n",
       "SC31D     239\n",
       "SC31      213\n",
       "SC14      203\n",
       "Name: patient.id, dtype: int64"
      ]
     },
     "execution_count": 13,
     "metadata": {},
     "output_type": "execute_result"
    }
   ],
   "source": [
    "adata.obs[adata.obs['study'] == 'morse']['patient.id'].value_counts()"
   ]
  },
  {
   "cell_type": "markdown",
   "metadata": {},
   "source": [
    "### The batch correction will be attempted by patient"
   ]
  },
  {
   "cell_type": "code",
   "execution_count": 14,
   "metadata": {},
   "outputs": [
    {
     "data": {
      "text/plain": [
       "adams       179222\n",
       "budinger     22810\n",
       "morse        17551\n",
       "BAL           7503\n",
       "Name: study, dtype: int64"
      ]
     },
     "execution_count": 14,
     "metadata": {},
     "output_type": "execute_result"
    }
   ],
   "source": [
    "adata.obs['study'].value_counts()"
   ]
  },
  {
   "cell_type": "code",
   "execution_count": 15,
   "metadata": {},
   "outputs": [],
   "source": [
    "batch = 'patient.id'\n",
    "labels = 'study'"
   ]
  },
  {
   "cell_type": "code",
   "execution_count": 16,
   "metadata": {},
   "outputs": [
    {
     "data": {
      "text/plain": [
       "adams       179222\n",
       "budinger     22810\n",
       "morse        17551\n",
       "BAL           7503\n",
       "Name: study, dtype: int64"
      ]
     },
     "execution_count": 16,
     "metadata": {},
     "output_type": "execute_result"
    }
   ],
   "source": [
    "adata.obs['study'].value_counts()"
   ]
  },
  {
   "cell_type": "markdown",
   "metadata": {},
   "source": [
    "### Update 03.17.2021\n",
    "To verify whether the association between mdm and IPF is due to an oversampling of mdm from Adams, we are now sampling an equal proportion of IPF and control cells from that study."
   ]
  },
  {
   "cell_type": "code",
   "execution_count": 18,
   "metadata": {},
   "outputs": [
    {
     "data": {
      "text/html": [
       "<div>\n",
       "<style scoped>\n",
       "    .dataframe tbody tr th:only-of-type {\n",
       "        vertical-align: middle;\n",
       "    }\n",
       "\n",
       "    .dataframe tbody tr th {\n",
       "        vertical-align: top;\n",
       "    }\n",
       "\n",
       "    .dataframe thead th {\n",
       "        text-align: right;\n",
       "    }\n",
       "</style>\n",
       "<table border=\"1\" class=\"dataframe\">\n",
       "  <thead>\n",
       "    <tr style=\"text-align: right;\">\n",
       "      <th></th>\n",
       "      <th>GSM</th>\n",
       "      <th>sample.id</th>\n",
       "      <th>n_counts</th>\n",
       "      <th>log_counts</th>\n",
       "      <th>n_genes</th>\n",
       "      <th>mt_frac</th>\n",
       "      <th>patient.id</th>\n",
       "      <th>cell.type</th>\n",
       "      <th>study</th>\n",
       "      <th>disease.status</th>\n",
       "      <th>...</th>\n",
       "      <th>Diagnosis</th>\n",
       "      <th>COVID-19</th>\n",
       "      <th>Tissue Type</th>\n",
       "      <th>Cell Population</th>\n",
       "      <th>Cell Type</th>\n",
       "      <th>leiden</th>\n",
       "      <th>No of UMIs</th>\n",
       "      <th>No of genes</th>\n",
       "      <th>% of mito genes</th>\n",
       "      <th>Cluster</th>\n",
       "    </tr>\n",
       "  </thead>\n",
       "  <tbody>\n",
       "    <tr>\n",
       "      <th>SC154IPFUP_AAACCTGCATCACGAT-1-0-0-0</th>\n",
       "      <td>GSM3660658</td>\n",
       "      <td>SC154IPFUP</td>\n",
       "      <td>15616.0</td>\n",
       "      <td>9.656052</td>\n",
       "      <td>2600.0</td>\n",
       "      <td>0.093558</td>\n",
       "      <td>SC154</td>\n",
       "      <td>SPP1hi Macrophage</td>\n",
       "      <td>morse</td>\n",
       "      <td>IPF</td>\n",
       "      <td>...</td>\n",
       "      <td>NaN</td>\n",
       "      <td>NaN</td>\n",
       "      <td>NaN</td>\n",
       "      <td>NaN</td>\n",
       "      <td>NaN</td>\n",
       "      <td>NaN</td>\n",
       "      <td>NaN</td>\n",
       "      <td>NaN</td>\n",
       "      <td>NaN</td>\n",
       "      <td>NaN</td>\n",
       "    </tr>\n",
       "    <tr>\n",
       "      <th>SC154IPFUP_AAACGGGGTACCGGCT-1-0-0-0</th>\n",
       "      <td>GSM3660658</td>\n",
       "      <td>SC154IPFUP</td>\n",
       "      <td>9768.0</td>\n",
       "      <td>9.186867</td>\n",
       "      <td>2008.0</td>\n",
       "      <td>0.084562</td>\n",
       "      <td>SC154</td>\n",
       "      <td>SPP1hi Macrophage</td>\n",
       "      <td>morse</td>\n",
       "      <td>IPF</td>\n",
       "      <td>...</td>\n",
       "      <td>NaN</td>\n",
       "      <td>NaN</td>\n",
       "      <td>NaN</td>\n",
       "      <td>NaN</td>\n",
       "      <td>NaN</td>\n",
       "      <td>NaN</td>\n",
       "      <td>NaN</td>\n",
       "      <td>NaN</td>\n",
       "      <td>NaN</td>\n",
       "      <td>NaN</td>\n",
       "    </tr>\n",
       "    <tr>\n",
       "      <th>SC154IPFUP_AAACGGGTCTGTCCGT-1-0-0-0</th>\n",
       "      <td>GSM3660658</td>\n",
       "      <td>SC154IPFUP</td>\n",
       "      <td>27659.0</td>\n",
       "      <td>10.227707</td>\n",
       "      <td>3509.0</td>\n",
       "      <td>0.043386</td>\n",
       "      <td>SC154</td>\n",
       "      <td>FABP4hi Macrophage</td>\n",
       "      <td>morse</td>\n",
       "      <td>IPF</td>\n",
       "      <td>...</td>\n",
       "      <td>NaN</td>\n",
       "      <td>NaN</td>\n",
       "      <td>NaN</td>\n",
       "      <td>NaN</td>\n",
       "      <td>NaN</td>\n",
       "      <td>NaN</td>\n",
       "      <td>NaN</td>\n",
       "      <td>NaN</td>\n",
       "      <td>NaN</td>\n",
       "      <td>NaN</td>\n",
       "    </tr>\n",
       "    <tr>\n",
       "      <th>SC154IPFUP_AAAGATGAGATCCCGC-1-0-0-0</th>\n",
       "      <td>GSM3660658</td>\n",
       "      <td>SC154IPFUP</td>\n",
       "      <td>9778.0</td>\n",
       "      <td>9.187890</td>\n",
       "      <td>2276.0</td>\n",
       "      <td>0.070157</td>\n",
       "      <td>SC154</td>\n",
       "      <td>SPP1hi Macrophage</td>\n",
       "      <td>morse</td>\n",
       "      <td>IPF</td>\n",
       "      <td>...</td>\n",
       "      <td>NaN</td>\n",
       "      <td>NaN</td>\n",
       "      <td>NaN</td>\n",
       "      <td>NaN</td>\n",
       "      <td>NaN</td>\n",
       "      <td>NaN</td>\n",
       "      <td>NaN</td>\n",
       "      <td>NaN</td>\n",
       "      <td>NaN</td>\n",
       "      <td>NaN</td>\n",
       "    </tr>\n",
       "    <tr>\n",
       "      <th>SC154IPFUP_AAAGATGAGATGCGAC-1-0-0-0</th>\n",
       "      <td>GSM3660658</td>\n",
       "      <td>SC154IPFUP</td>\n",
       "      <td>8610.0</td>\n",
       "      <td>9.060679</td>\n",
       "      <td>1981.0</td>\n",
       "      <td>0.059582</td>\n",
       "      <td>SC154</td>\n",
       "      <td>SPP1hi Macrophage</td>\n",
       "      <td>morse</td>\n",
       "      <td>IPF</td>\n",
       "      <td>...</td>\n",
       "      <td>NaN</td>\n",
       "      <td>NaN</td>\n",
       "      <td>NaN</td>\n",
       "      <td>NaN</td>\n",
       "      <td>NaN</td>\n",
       "      <td>NaN</td>\n",
       "      <td>NaN</td>\n",
       "      <td>NaN</td>\n",
       "      <td>NaN</td>\n",
       "      <td>NaN</td>\n",
       "    </tr>\n",
       "    <tr>\n",
       "      <th>...</th>\n",
       "      <td>...</td>\n",
       "      <td>...</td>\n",
       "      <td>...</td>\n",
       "      <td>...</td>\n",
       "      <td>...</td>\n",
       "      <td>...</td>\n",
       "      <td>...</td>\n",
       "      <td>...</td>\n",
       "      <td>...</td>\n",
       "      <td>...</td>\n",
       "      <td>...</td>\n",
       "      <td>...</td>\n",
       "      <td>...</td>\n",
       "      <td>...</td>\n",
       "      <td>...</td>\n",
       "      <td>...</td>\n",
       "      <td>...</td>\n",
       "      <td>...</td>\n",
       "      <td>...</td>\n",
       "      <td>...</td>\n",
       "      <td>...</td>\n",
       "    </tr>\n",
       "    <tr>\n",
       "      <th>152653-1</th>\n",
       "      <td>NaN</td>\n",
       "      <td>NaN</td>\n",
       "      <td>11819.0</td>\n",
       "      <td>9.377463</td>\n",
       "      <td>2883.0</td>\n",
       "      <td>0.000000</td>\n",
       "      <td>PMB 2</td>\n",
       "      <td>M3</td>\n",
       "      <td>budinger</td>\n",
       "      <td>covid</td>\n",
       "      <td>...</td>\n",
       "      <td>COVID-19</td>\n",
       "      <td>True</td>\n",
       "      <td>Parenchyma</td>\n",
       "      <td>Immune-TX</td>\n",
       "      <td>MoAM-2</td>\n",
       "      <td>2.0</td>\n",
       "      <td>11819.0</td>\n",
       "      <td>2883.0</td>\n",
       "      <td>4.095101</td>\n",
       "      <td>MoM3</td>\n",
       "    </tr>\n",
       "    <tr>\n",
       "      <th>152916-1</th>\n",
       "      <td>NaN</td>\n",
       "      <td>NaN</td>\n",
       "      <td>3450.0</td>\n",
       "      <td>8.146130</td>\n",
       "      <td>1292.0</td>\n",
       "      <td>0.000000</td>\n",
       "      <td>PMB 2</td>\n",
       "      <td>M3</td>\n",
       "      <td>budinger</td>\n",
       "      <td>covid</td>\n",
       "      <td>...</td>\n",
       "      <td>COVID-19</td>\n",
       "      <td>True</td>\n",
       "      <td>Parenchyma</td>\n",
       "      <td>Immune-TX</td>\n",
       "      <td>MoAM-3</td>\n",
       "      <td>4.0</td>\n",
       "      <td>3450.0</td>\n",
       "      <td>1292.0</td>\n",
       "      <td>6.927536</td>\n",
       "      <td>MoM3</td>\n",
       "    </tr>\n",
       "    <tr>\n",
       "      <th>153517-1</th>\n",
       "      <td>NaN</td>\n",
       "      <td>NaN</td>\n",
       "      <td>10060.0</td>\n",
       "      <td>9.216323</td>\n",
       "      <td>2717.0</td>\n",
       "      <td>0.001292</td>\n",
       "      <td>PMB 2</td>\n",
       "      <td>M3</td>\n",
       "      <td>budinger</td>\n",
       "      <td>covid</td>\n",
       "      <td>...</td>\n",
       "      <td>COVID-19</td>\n",
       "      <td>True</td>\n",
       "      <td>Parenchyma</td>\n",
       "      <td>Immune-TX</td>\n",
       "      <td>MoAM-3</td>\n",
       "      <td>4.0</td>\n",
       "      <td>10060.0</td>\n",
       "      <td>2717.0</td>\n",
       "      <td>5.248509</td>\n",
       "      <td>MoM3</td>\n",
       "    </tr>\n",
       "    <tr>\n",
       "      <th>154761-1</th>\n",
       "      <td>NaN</td>\n",
       "      <td>NaN</td>\n",
       "      <td>10598.0</td>\n",
       "      <td>9.268420</td>\n",
       "      <td>2505.0</td>\n",
       "      <td>0.000000</td>\n",
       "      <td>PMB 2</td>\n",
       "      <td>M3</td>\n",
       "      <td>budinger</td>\n",
       "      <td>covid</td>\n",
       "      <td>...</td>\n",
       "      <td>COVID-19</td>\n",
       "      <td>True</td>\n",
       "      <td>Parenchyma</td>\n",
       "      <td>Immune-TX</td>\n",
       "      <td>MoAM-3</td>\n",
       "      <td>4.0</td>\n",
       "      <td>10598.0</td>\n",
       "      <td>2505.0</td>\n",
       "      <td>10.983204</td>\n",
       "      <td>MoM3</td>\n",
       "    </tr>\n",
       "    <tr>\n",
       "      <th>155369-1</th>\n",
       "      <td>NaN</td>\n",
       "      <td>NaN</td>\n",
       "      <td>7192.0</td>\n",
       "      <td>8.880725</td>\n",
       "      <td>2060.0</td>\n",
       "      <td>0.000000</td>\n",
       "      <td>PMB 2</td>\n",
       "      <td>M3</td>\n",
       "      <td>budinger</td>\n",
       "      <td>covid</td>\n",
       "      <td>...</td>\n",
       "      <td>COVID-19</td>\n",
       "      <td>True</td>\n",
       "      <td>Parenchyma</td>\n",
       "      <td>Immune-TX</td>\n",
       "      <td>MoAM-3</td>\n",
       "      <td>4.0</td>\n",
       "      <td>7192.0</td>\n",
       "      <td>2060.0</td>\n",
       "      <td>12.625138</td>\n",
       "      <td>MoM3</td>\n",
       "    </tr>\n",
       "  </tbody>\n",
       "</table>\n",
       "<p>227086 rows × 80 columns</p>\n",
       "</div>"
      ],
      "text/plain": [
       "                                            GSM   sample.id  n_counts  \\\n",
       "SC154IPFUP_AAACCTGCATCACGAT-1-0-0-0  GSM3660658  SC154IPFUP   15616.0   \n",
       "SC154IPFUP_AAACGGGGTACCGGCT-1-0-0-0  GSM3660658  SC154IPFUP    9768.0   \n",
       "SC154IPFUP_AAACGGGTCTGTCCGT-1-0-0-0  GSM3660658  SC154IPFUP   27659.0   \n",
       "SC154IPFUP_AAAGATGAGATCCCGC-1-0-0-0  GSM3660658  SC154IPFUP    9778.0   \n",
       "SC154IPFUP_AAAGATGAGATGCGAC-1-0-0-0  GSM3660658  SC154IPFUP    8610.0   \n",
       "...                                         ...         ...       ...   \n",
       "152653-1                                    NaN         NaN   11819.0   \n",
       "152916-1                                    NaN         NaN    3450.0   \n",
       "153517-1                                    NaN         NaN   10060.0   \n",
       "154761-1                                    NaN         NaN   10598.0   \n",
       "155369-1                                    NaN         NaN    7192.0   \n",
       "\n",
       "                                     log_counts  n_genes   mt_frac patient.id  \\\n",
       "SC154IPFUP_AAACCTGCATCACGAT-1-0-0-0    9.656052   2600.0  0.093558      SC154   \n",
       "SC154IPFUP_AAACGGGGTACCGGCT-1-0-0-0    9.186867   2008.0  0.084562      SC154   \n",
       "SC154IPFUP_AAACGGGTCTGTCCGT-1-0-0-0   10.227707   3509.0  0.043386      SC154   \n",
       "SC154IPFUP_AAAGATGAGATCCCGC-1-0-0-0    9.187890   2276.0  0.070157      SC154   \n",
       "SC154IPFUP_AAAGATGAGATGCGAC-1-0-0-0    9.060679   1981.0  0.059582      SC154   \n",
       "...                                         ...      ...       ...        ...   \n",
       "152653-1                               9.377463   2883.0  0.000000      PMB 2   \n",
       "152916-1                               8.146130   1292.0  0.000000      PMB 2   \n",
       "153517-1                               9.216323   2717.0  0.001292      PMB 2   \n",
       "154761-1                               9.268420   2505.0  0.000000      PMB 2   \n",
       "155369-1                               8.880725   2060.0  0.000000      PMB 2   \n",
       "\n",
       "                                              cell.type     study  \\\n",
       "SC154IPFUP_AAACCTGCATCACGAT-1-0-0-0   SPP1hi Macrophage     morse   \n",
       "SC154IPFUP_AAACGGGGTACCGGCT-1-0-0-0   SPP1hi Macrophage     morse   \n",
       "SC154IPFUP_AAACGGGTCTGTCCGT-1-0-0-0  FABP4hi Macrophage     morse   \n",
       "SC154IPFUP_AAAGATGAGATCCCGC-1-0-0-0   SPP1hi Macrophage     morse   \n",
       "SC154IPFUP_AAAGATGAGATGCGAC-1-0-0-0   SPP1hi Macrophage     morse   \n",
       "...                                                 ...       ...   \n",
       "152653-1                                             M3  budinger   \n",
       "152916-1                                             M3  budinger   \n",
       "153517-1                                             M3  budinger   \n",
       "154761-1                                             M3  budinger   \n",
       "155369-1                                             M3  budinger   \n",
       "\n",
       "                                    disease.status  ...  Diagnosis  COVID-19  \\\n",
       "SC154IPFUP_AAACCTGCATCACGAT-1-0-0-0            IPF  ...        NaN       NaN   \n",
       "SC154IPFUP_AAACGGGGTACCGGCT-1-0-0-0            IPF  ...        NaN       NaN   \n",
       "SC154IPFUP_AAACGGGTCTGTCCGT-1-0-0-0            IPF  ...        NaN       NaN   \n",
       "SC154IPFUP_AAAGATGAGATCCCGC-1-0-0-0            IPF  ...        NaN       NaN   \n",
       "SC154IPFUP_AAAGATGAGATGCGAC-1-0-0-0            IPF  ...        NaN       NaN   \n",
       "...                                            ...  ...        ...       ...   \n",
       "152653-1                                     covid  ...   COVID-19      True   \n",
       "152916-1                                     covid  ...   COVID-19      True   \n",
       "153517-1                                     covid  ...   COVID-19      True   \n",
       "154761-1                                     covid  ...   COVID-19      True   \n",
       "155369-1                                     covid  ...   COVID-19      True   \n",
       "\n",
       "                                     Tissue Type  Cell Population  Cell Type  \\\n",
       "SC154IPFUP_AAACCTGCATCACGAT-1-0-0-0          NaN              NaN        NaN   \n",
       "SC154IPFUP_AAACGGGGTACCGGCT-1-0-0-0          NaN              NaN        NaN   \n",
       "SC154IPFUP_AAACGGGTCTGTCCGT-1-0-0-0          NaN              NaN        NaN   \n",
       "SC154IPFUP_AAAGATGAGATCCCGC-1-0-0-0          NaN              NaN        NaN   \n",
       "SC154IPFUP_AAAGATGAGATGCGAC-1-0-0-0          NaN              NaN        NaN   \n",
       "...                                          ...              ...        ...   \n",
       "152653-1                              Parenchyma        Immune-TX     MoAM-2   \n",
       "152916-1                              Parenchyma        Immune-TX     MoAM-3   \n",
       "153517-1                              Parenchyma        Immune-TX     MoAM-3   \n",
       "154761-1                              Parenchyma        Immune-TX     MoAM-3   \n",
       "155369-1                              Parenchyma        Immune-TX     MoAM-3   \n",
       "\n",
       "                                    leiden No of UMIs No of genes  \\\n",
       "SC154IPFUP_AAACCTGCATCACGAT-1-0-0-0    NaN        NaN         NaN   \n",
       "SC154IPFUP_AAACGGGGTACCGGCT-1-0-0-0    NaN        NaN         NaN   \n",
       "SC154IPFUP_AAACGGGTCTGTCCGT-1-0-0-0    NaN        NaN         NaN   \n",
       "SC154IPFUP_AAAGATGAGATCCCGC-1-0-0-0    NaN        NaN         NaN   \n",
       "SC154IPFUP_AAAGATGAGATGCGAC-1-0-0-0    NaN        NaN         NaN   \n",
       "...                                    ...        ...         ...   \n",
       "152653-1                               2.0    11819.0      2883.0   \n",
       "152916-1                               4.0     3450.0      1292.0   \n",
       "153517-1                               4.0    10060.0      2717.0   \n",
       "154761-1                               4.0    10598.0      2505.0   \n",
       "155369-1                               4.0     7192.0      2060.0   \n",
       "\n",
       "                                    % of mito genes Cluster  \n",
       "SC154IPFUP_AAACCTGCATCACGAT-1-0-0-0             NaN     NaN  \n",
       "SC154IPFUP_AAACGGGGTACCGGCT-1-0-0-0             NaN     NaN  \n",
       "SC154IPFUP_AAACGGGTCTGTCCGT-1-0-0-0             NaN     NaN  \n",
       "SC154IPFUP_AAAGATGAGATCCCGC-1-0-0-0             NaN     NaN  \n",
       "SC154IPFUP_AAAGATGAGATGCGAC-1-0-0-0             NaN     NaN  \n",
       "...                                             ...     ...  \n",
       "152653-1                                   4.095101    MoM3  \n",
       "152916-1                                   6.927536    MoM3  \n",
       "153517-1                                   5.248509    MoM3  \n",
       "154761-1                                  10.983204    MoM3  \n",
       "155369-1                                  12.625138    MoM3  \n",
       "\n",
       "[227086 rows x 80 columns]"
      ]
     },
     "execution_count": 18,
     "metadata": {},
     "output_type": "execute_result"
    }
   ],
   "source": [
    "adata.obs"
   ]
  },
  {
   "cell_type": "code",
   "execution_count": 19,
   "metadata": {},
   "outputs": [],
   "source": [
    "# print('subsetting...')\n",
    "# ad = subset_anndata(adata, N=adata.shape[0])\n",
    "# print('done.')"
   ]
  },
  {
   "cell_type": "code",
   "execution_count": 30,
   "metadata": {},
   "outputs": [
    {
     "data": {
      "text/plain": [
       "study     disease.status\n",
       "BAL       BAL (NA)           7503\n",
       "adams     COPD              30159\n",
       "          IPF               86002\n",
       "          control           63061\n",
       "budinger  covid             22810\n",
       "morse     IPF                8301\n",
       "          control            9250\n",
       "dtype: int64"
      ]
     },
     "execution_count": 30,
     "metadata": {},
     "output_type": "execute_result"
    }
   ],
   "source": [
    "adata.obs.groupby(['study', 'disease.status']).size()\n"
   ]
  },
  {
   "cell_type": "code",
   "execution_count": 53,
   "metadata": {},
   "outputs": [],
   "source": [
    "import random\n",
    "\n",
    "adams_copd = adata[(adata.obs['study'] == 'adams') & (adata.obs['disease.status'] == 'COPD'),:]\n",
    "adams_ipf = adata[(adata.obs['study'] == 'adams') & (adata.obs['disease.status'] == 'IPF'),:]\n",
    "adams_control = adata[(adata.obs['study'] == 'adams') & (adata.obs['disease.status'] == 'control'),:]\n",
    "\n",
    "\n",
    "# sample N_COPD cells from IPF and from control\n",
    "n_copd = adams_copd.shape[0]\n",
    "random.seed(500)\n",
    "adams_ipf = adams_ipf[adams_ipf.obs.index.isin(set(random.sample(list(adams_ipf.obs.index), n_copd))),:]\n",
    "adams_control = adams_control[adams_control.obs.index.isin(set(random.sample(list(adams_control.obs.index), n_copd))),:]\n",
    "\n",
    "\n",
    "adams_copd.shape, adams_ipf.shape, adams_control.shape\n",
    "\n",
    "adata = adata[adata.obs.study != 'adams',].concatenate(adams_copd).concatenate(adams_ipf).concatenate(adams_control)\n",
    "\n",
    "adata.obs.groupby(['study', 'disease.status']).size()"
   ]
  },
  {
   "cell_type": "code",
   "execution_count": 58,
   "metadata": {},
   "outputs": [],
   "source": [
    "ad = adata"
   ]
  },
  {
   "cell_type": "code",
   "execution_count": 59,
   "metadata": {},
   "outputs": [
    {
     "data": {
      "text/plain": [
       "(138341, 17656)"
      ]
     },
     "execution_count": 59,
     "metadata": {},
     "output_type": "execute_result"
    }
   ],
   "source": [
    "ad.shape"
   ]
  },
  {
   "cell_type": "code",
   "execution_count": 60,
   "metadata": {},
   "outputs": [],
   "source": [
    "marker_genes = get_marker_genes_ipf()\n",
    "ad.var['hvg.or.marker'] = ad.var['highly_variable'] | ad.var.index.isin(marker_genes['MP.all'])"
   ]
  },
  {
   "cell_type": "code",
   "execution_count": 61,
   "metadata": {},
   "outputs": [
    {
     "data": {
      "text/plain": [
       "False    11769\n",
       "True      5887\n",
       "Name: hvg.or.marker, dtype: int64"
      ]
     },
     "execution_count": 61,
     "metadata": {},
     "output_type": "execute_result"
    }
   ],
   "source": [
    "ad.var['hvg.or.marker'].value_counts()"
   ]
  },
  {
   "cell_type": "markdown",
   "metadata": {},
   "source": [
    "### Data preparation and iterative training."
   ]
  },
  {
   "cell_type": "code",
   "execution_count": null,
   "metadata": {},
   "outputs": [],
   "source": []
  },
  {
   "cell_type": "code",
   "execution_count": 62,
   "metadata": {},
   "outputs": [],
   "source": [
    "batch = 'patient.id'\n",
    "# batch = 'study'"
   ]
  },
  {
   "cell_type": "code",
   "execution_count": 63,
   "metadata": {},
   "outputs": [
    {
     "data": {
      "text/plain": [
       "Case 1    12258\n",
       "178CO      6283\n",
       "PMB 1      5309\n",
       "PMB 2      5243\n",
       "226C       4227\n",
       "          ...  \n",
       "084C        157\n",
       "8CO         147\n",
       "59I         115\n",
       "244C         17\n",
       "137CO        12\n",
       "Name: patient.id, Length: 104, dtype: int64"
      ]
     },
     "execution_count": 63,
     "metadata": {},
     "output_type": "execute_result"
    }
   ],
   "source": [
    "ad.obs[batch].value_counts()"
   ]
  },
  {
   "cell_type": "code",
   "execution_count": 64,
   "metadata": {},
   "outputs": [
    {
     "data": {
      "text/plain": [
       "138341"
      ]
     },
     "execution_count": 64,
     "metadata": {},
     "output_type": "execute_result"
    }
   ],
   "source": [
    "adata.n_obs"
   ]
  },
  {
   "cell_type": "code",
   "execution_count": 65,
   "metadata": {},
   "outputs": [
    {
     "data": {
      "text/html": [
       "<div>\n",
       "<style scoped>\n",
       "    .dataframe tbody tr th:only-of-type {\n",
       "        vertical-align: middle;\n",
       "    }\n",
       "\n",
       "    .dataframe tbody tr th {\n",
       "        vertical-align: top;\n",
       "    }\n",
       "\n",
       "    .dataframe thead th {\n",
       "        text-align: right;\n",
       "    }\n",
       "</style>\n",
       "<table border=\"1\" class=\"dataframe\">\n",
       "  <thead>\n",
       "    <tr style=\"text-align: right;\">\n",
       "      <th></th>\n",
       "      <th>GSM</th>\n",
       "      <th>sample.id</th>\n",
       "      <th>n_counts</th>\n",
       "      <th>log_counts</th>\n",
       "      <th>n_genes</th>\n",
       "      <th>mt_frac</th>\n",
       "      <th>patient.id</th>\n",
       "      <th>cell.type</th>\n",
       "      <th>study</th>\n",
       "      <th>disease.status</th>\n",
       "      <th>...</th>\n",
       "      <th>Diagnosis</th>\n",
       "      <th>COVID-19</th>\n",
       "      <th>Tissue Type</th>\n",
       "      <th>Cell Population</th>\n",
       "      <th>Cell Type</th>\n",
       "      <th>leiden</th>\n",
       "      <th>No of UMIs</th>\n",
       "      <th>No of genes</th>\n",
       "      <th>% of mito genes</th>\n",
       "      <th>Cluster</th>\n",
       "    </tr>\n",
       "  </thead>\n",
       "  <tbody>\n",
       "    <tr>\n",
       "      <th>SC154IPFUP_AAACCTGCATCACGAT-1-0-0-0-0-0-0</th>\n",
       "      <td>GSM3660658</td>\n",
       "      <td>SC154IPFUP</td>\n",
       "      <td>15616.0</td>\n",
       "      <td>9.656052</td>\n",
       "      <td>2600.0</td>\n",
       "      <td>0.093558</td>\n",
       "      <td>SC154</td>\n",
       "      <td>SPP1hi Macrophage</td>\n",
       "      <td>morse</td>\n",
       "      <td>IPF</td>\n",
       "      <td>...</td>\n",
       "      <td>NaN</td>\n",
       "      <td>NaN</td>\n",
       "      <td>NaN</td>\n",
       "      <td>NaN</td>\n",
       "      <td>NaN</td>\n",
       "      <td>NaN</td>\n",
       "      <td>NaN</td>\n",
       "      <td>NaN</td>\n",
       "      <td>NaN</td>\n",
       "      <td>NaN</td>\n",
       "    </tr>\n",
       "    <tr>\n",
       "      <th>SC154IPFUP_AAACGGGGTACCGGCT-1-0-0-0-0-0-0</th>\n",
       "      <td>GSM3660658</td>\n",
       "      <td>SC154IPFUP</td>\n",
       "      <td>9768.0</td>\n",
       "      <td>9.186867</td>\n",
       "      <td>2008.0</td>\n",
       "      <td>0.084562</td>\n",
       "      <td>SC154</td>\n",
       "      <td>SPP1hi Macrophage</td>\n",
       "      <td>morse</td>\n",
       "      <td>IPF</td>\n",
       "      <td>...</td>\n",
       "      <td>NaN</td>\n",
       "      <td>NaN</td>\n",
       "      <td>NaN</td>\n",
       "      <td>NaN</td>\n",
       "      <td>NaN</td>\n",
       "      <td>NaN</td>\n",
       "      <td>NaN</td>\n",
       "      <td>NaN</td>\n",
       "      <td>NaN</td>\n",
       "      <td>NaN</td>\n",
       "    </tr>\n",
       "    <tr>\n",
       "      <th>SC154IPFUP_AAACGGGTCTGTCCGT-1-0-0-0-0-0-0</th>\n",
       "      <td>GSM3660658</td>\n",
       "      <td>SC154IPFUP</td>\n",
       "      <td>27659.0</td>\n",
       "      <td>10.227707</td>\n",
       "      <td>3509.0</td>\n",
       "      <td>0.043386</td>\n",
       "      <td>SC154</td>\n",
       "      <td>FABP4hi Macrophage</td>\n",
       "      <td>morse</td>\n",
       "      <td>IPF</td>\n",
       "      <td>...</td>\n",
       "      <td>NaN</td>\n",
       "      <td>NaN</td>\n",
       "      <td>NaN</td>\n",
       "      <td>NaN</td>\n",
       "      <td>NaN</td>\n",
       "      <td>NaN</td>\n",
       "      <td>NaN</td>\n",
       "      <td>NaN</td>\n",
       "      <td>NaN</td>\n",
       "      <td>NaN</td>\n",
       "    </tr>\n",
       "    <tr>\n",
       "      <th>SC154IPFUP_AAAGATGAGATCCCGC-1-0-0-0-0-0-0</th>\n",
       "      <td>GSM3660658</td>\n",
       "      <td>SC154IPFUP</td>\n",
       "      <td>9778.0</td>\n",
       "      <td>9.187890</td>\n",
       "      <td>2276.0</td>\n",
       "      <td>0.070157</td>\n",
       "      <td>SC154</td>\n",
       "      <td>SPP1hi Macrophage</td>\n",
       "      <td>morse</td>\n",
       "      <td>IPF</td>\n",
       "      <td>...</td>\n",
       "      <td>NaN</td>\n",
       "      <td>NaN</td>\n",
       "      <td>NaN</td>\n",
       "      <td>NaN</td>\n",
       "      <td>NaN</td>\n",
       "      <td>NaN</td>\n",
       "      <td>NaN</td>\n",
       "      <td>NaN</td>\n",
       "      <td>NaN</td>\n",
       "      <td>NaN</td>\n",
       "    </tr>\n",
       "    <tr>\n",
       "      <th>SC154IPFUP_AAAGATGAGATGCGAC-1-0-0-0-0-0-0</th>\n",
       "      <td>GSM3660658</td>\n",
       "      <td>SC154IPFUP</td>\n",
       "      <td>8610.0</td>\n",
       "      <td>9.060679</td>\n",
       "      <td>1981.0</td>\n",
       "      <td>0.059582</td>\n",
       "      <td>SC154</td>\n",
       "      <td>SPP1hi Macrophage</td>\n",
       "      <td>morse</td>\n",
       "      <td>IPF</td>\n",
       "      <td>...</td>\n",
       "      <td>NaN</td>\n",
       "      <td>NaN</td>\n",
       "      <td>NaN</td>\n",
       "      <td>NaN</td>\n",
       "      <td>NaN</td>\n",
       "      <td>NaN</td>\n",
       "      <td>NaN</td>\n",
       "      <td>NaN</td>\n",
       "      <td>NaN</td>\n",
       "      <td>NaN</td>\n",
       "    </tr>\n",
       "    <tr>\n",
       "      <th>...</th>\n",
       "      <td>...</td>\n",
       "      <td>...</td>\n",
       "      <td>...</td>\n",
       "      <td>...</td>\n",
       "      <td>...</td>\n",
       "      <td>...</td>\n",
       "      <td>...</td>\n",
       "      <td>...</td>\n",
       "      <td>...</td>\n",
       "      <td>...</td>\n",
       "      <td>...</td>\n",
       "      <td>...</td>\n",
       "      <td>...</td>\n",
       "      <td>...</td>\n",
       "      <td>...</td>\n",
       "      <td>...</td>\n",
       "      <td>...</td>\n",
       "      <td>...</td>\n",
       "      <td>...</td>\n",
       "      <td>...</td>\n",
       "      <td>...</td>\n",
       "    </tr>\n",
       "    <tr>\n",
       "      <th>484C_TTGACTTTCATCTGCC-1-0-0-1</th>\n",
       "      <td>NaN</td>\n",
       "      <td>NaN</td>\n",
       "      <td>16249.0</td>\n",
       "      <td>9.695786</td>\n",
       "      <td>3934.0</td>\n",
       "      <td>0.044187</td>\n",
       "      <td>484C</td>\n",
       "      <td>Macrophage_Outlier_D</td>\n",
       "      <td>adams</td>\n",
       "      <td>control</td>\n",
       "      <td>...</td>\n",
       "      <td>NaN</td>\n",
       "      <td>NaN</td>\n",
       "      <td>NaN</td>\n",
       "      <td>NaN</td>\n",
       "      <td>NaN</td>\n",
       "      <td>NaN</td>\n",
       "      <td>NaN</td>\n",
       "      <td>NaN</td>\n",
       "      <td>NaN</td>\n",
       "      <td>NaN</td>\n",
       "    </tr>\n",
       "    <tr>\n",
       "      <th>484C_TTTACTGCAAATTGCC-1-0-0-1</th>\n",
       "      <td>NaN</td>\n",
       "      <td>NaN</td>\n",
       "      <td>1851.0</td>\n",
       "      <td>7.523481</td>\n",
       "      <td>1096.0</td>\n",
       "      <td>0.044300</td>\n",
       "      <td>484C</td>\n",
       "      <td>Macrophage</td>\n",
       "      <td>adams</td>\n",
       "      <td>control</td>\n",
       "      <td>...</td>\n",
       "      <td>NaN</td>\n",
       "      <td>NaN</td>\n",
       "      <td>NaN</td>\n",
       "      <td>NaN</td>\n",
       "      <td>NaN</td>\n",
       "      <td>NaN</td>\n",
       "      <td>NaN</td>\n",
       "      <td>NaN</td>\n",
       "      <td>NaN</td>\n",
       "      <td>NaN</td>\n",
       "    </tr>\n",
       "    <tr>\n",
       "      <th>484C_TTTATGCCAATAGAGT-1-0-0-1</th>\n",
       "      <td>NaN</td>\n",
       "      <td>NaN</td>\n",
       "      <td>11975.0</td>\n",
       "      <td>9.390576</td>\n",
       "      <td>3415.0</td>\n",
       "      <td>0.046180</td>\n",
       "      <td>484C</td>\n",
       "      <td>Macrophage</td>\n",
       "      <td>adams</td>\n",
       "      <td>control</td>\n",
       "      <td>...</td>\n",
       "      <td>NaN</td>\n",
       "      <td>NaN</td>\n",
       "      <td>NaN</td>\n",
       "      <td>NaN</td>\n",
       "      <td>NaN</td>\n",
       "      <td>NaN</td>\n",
       "      <td>NaN</td>\n",
       "      <td>NaN</td>\n",
       "      <td>NaN</td>\n",
       "      <td>NaN</td>\n",
       "    </tr>\n",
       "    <tr>\n",
       "      <th>484C_TTTATGCTCGATAGAA-1-0-0-1</th>\n",
       "      <td>NaN</td>\n",
       "      <td>NaN</td>\n",
       "      <td>6138.0</td>\n",
       "      <td>8.722254</td>\n",
       "      <td>2506.0</td>\n",
       "      <td>0.061584</td>\n",
       "      <td>484C</td>\n",
       "      <td>Macrophage</td>\n",
       "      <td>adams</td>\n",
       "      <td>control</td>\n",
       "      <td>...</td>\n",
       "      <td>NaN</td>\n",
       "      <td>NaN</td>\n",
       "      <td>NaN</td>\n",
       "      <td>NaN</td>\n",
       "      <td>NaN</td>\n",
       "      <td>NaN</td>\n",
       "      <td>NaN</td>\n",
       "      <td>NaN</td>\n",
       "      <td>NaN</td>\n",
       "      <td>NaN</td>\n",
       "    </tr>\n",
       "    <tr>\n",
       "      <th>484C_TTTGGTTCATCGGGTC-1-0-0-1</th>\n",
       "      <td>NaN</td>\n",
       "      <td>NaN</td>\n",
       "      <td>1625.0</td>\n",
       "      <td>7.393263</td>\n",
       "      <td>801.0</td>\n",
       "      <td>0.185231</td>\n",
       "      <td>484C</td>\n",
       "      <td>Macrophage</td>\n",
       "      <td>adams</td>\n",
       "      <td>control</td>\n",
       "      <td>...</td>\n",
       "      <td>NaN</td>\n",
       "      <td>NaN</td>\n",
       "      <td>NaN</td>\n",
       "      <td>NaN</td>\n",
       "      <td>NaN</td>\n",
       "      <td>NaN</td>\n",
       "      <td>NaN</td>\n",
       "      <td>NaN</td>\n",
       "      <td>NaN</td>\n",
       "      <td>NaN</td>\n",
       "    </tr>\n",
       "  </tbody>\n",
       "</table>\n",
       "<p>138341 rows × 80 columns</p>\n",
       "</div>"
      ],
      "text/plain": [
       "                                                  GSM   sample.id  n_counts  \\\n",
       "SC154IPFUP_AAACCTGCATCACGAT-1-0-0-0-0-0-0  GSM3660658  SC154IPFUP   15616.0   \n",
       "SC154IPFUP_AAACGGGGTACCGGCT-1-0-0-0-0-0-0  GSM3660658  SC154IPFUP    9768.0   \n",
       "SC154IPFUP_AAACGGGTCTGTCCGT-1-0-0-0-0-0-0  GSM3660658  SC154IPFUP   27659.0   \n",
       "SC154IPFUP_AAAGATGAGATCCCGC-1-0-0-0-0-0-0  GSM3660658  SC154IPFUP    9778.0   \n",
       "SC154IPFUP_AAAGATGAGATGCGAC-1-0-0-0-0-0-0  GSM3660658  SC154IPFUP    8610.0   \n",
       "...                                               ...         ...       ...   \n",
       "484C_TTGACTTTCATCTGCC-1-0-0-1                     NaN         NaN   16249.0   \n",
       "484C_TTTACTGCAAATTGCC-1-0-0-1                     NaN         NaN    1851.0   \n",
       "484C_TTTATGCCAATAGAGT-1-0-0-1                     NaN         NaN   11975.0   \n",
       "484C_TTTATGCTCGATAGAA-1-0-0-1                     NaN         NaN    6138.0   \n",
       "484C_TTTGGTTCATCGGGTC-1-0-0-1                     NaN         NaN    1625.0   \n",
       "\n",
       "                                           log_counts  n_genes   mt_frac  \\\n",
       "SC154IPFUP_AAACCTGCATCACGAT-1-0-0-0-0-0-0    9.656052   2600.0  0.093558   \n",
       "SC154IPFUP_AAACGGGGTACCGGCT-1-0-0-0-0-0-0    9.186867   2008.0  0.084562   \n",
       "SC154IPFUP_AAACGGGTCTGTCCGT-1-0-0-0-0-0-0   10.227707   3509.0  0.043386   \n",
       "SC154IPFUP_AAAGATGAGATCCCGC-1-0-0-0-0-0-0    9.187890   2276.0  0.070157   \n",
       "SC154IPFUP_AAAGATGAGATGCGAC-1-0-0-0-0-0-0    9.060679   1981.0  0.059582   \n",
       "...                                               ...      ...       ...   \n",
       "484C_TTGACTTTCATCTGCC-1-0-0-1                9.695786   3934.0  0.044187   \n",
       "484C_TTTACTGCAAATTGCC-1-0-0-1                7.523481   1096.0  0.044300   \n",
       "484C_TTTATGCCAATAGAGT-1-0-0-1                9.390576   3415.0  0.046180   \n",
       "484C_TTTATGCTCGATAGAA-1-0-0-1                8.722254   2506.0  0.061584   \n",
       "484C_TTTGGTTCATCGGGTC-1-0-0-1                7.393263    801.0  0.185231   \n",
       "\n",
       "                                          patient.id             cell.type  \\\n",
       "SC154IPFUP_AAACCTGCATCACGAT-1-0-0-0-0-0-0      SC154     SPP1hi Macrophage   \n",
       "SC154IPFUP_AAACGGGGTACCGGCT-1-0-0-0-0-0-0      SC154     SPP1hi Macrophage   \n",
       "SC154IPFUP_AAACGGGTCTGTCCGT-1-0-0-0-0-0-0      SC154    FABP4hi Macrophage   \n",
       "SC154IPFUP_AAAGATGAGATCCCGC-1-0-0-0-0-0-0      SC154     SPP1hi Macrophage   \n",
       "SC154IPFUP_AAAGATGAGATGCGAC-1-0-0-0-0-0-0      SC154     SPP1hi Macrophage   \n",
       "...                                              ...                   ...   \n",
       "484C_TTGACTTTCATCTGCC-1-0-0-1                   484C  Macrophage_Outlier_D   \n",
       "484C_TTTACTGCAAATTGCC-1-0-0-1                   484C            Macrophage   \n",
       "484C_TTTATGCCAATAGAGT-1-0-0-1                   484C            Macrophage   \n",
       "484C_TTTATGCTCGATAGAA-1-0-0-1                   484C            Macrophage   \n",
       "484C_TTTGGTTCATCGGGTC-1-0-0-1                   484C            Macrophage   \n",
       "\n",
       "                                           study disease.status  ...  \\\n",
       "SC154IPFUP_AAACCTGCATCACGAT-1-0-0-0-0-0-0  morse            IPF  ...   \n",
       "SC154IPFUP_AAACGGGGTACCGGCT-1-0-0-0-0-0-0  morse            IPF  ...   \n",
       "SC154IPFUP_AAACGGGTCTGTCCGT-1-0-0-0-0-0-0  morse            IPF  ...   \n",
       "SC154IPFUP_AAAGATGAGATCCCGC-1-0-0-0-0-0-0  morse            IPF  ...   \n",
       "SC154IPFUP_AAAGATGAGATGCGAC-1-0-0-0-0-0-0  morse            IPF  ...   \n",
       "...                                          ...            ...  ...   \n",
       "484C_TTGACTTTCATCTGCC-1-0-0-1              adams        control  ...   \n",
       "484C_TTTACTGCAAATTGCC-1-0-0-1              adams        control  ...   \n",
       "484C_TTTATGCCAATAGAGT-1-0-0-1              adams        control  ...   \n",
       "484C_TTTATGCTCGATAGAA-1-0-0-1              adams        control  ...   \n",
       "484C_TTTGGTTCATCGGGTC-1-0-0-1              adams        control  ...   \n",
       "\n",
       "                                           Diagnosis  COVID-19  Tissue Type  \\\n",
       "SC154IPFUP_AAACCTGCATCACGAT-1-0-0-0-0-0-0        NaN       NaN          NaN   \n",
       "SC154IPFUP_AAACGGGGTACCGGCT-1-0-0-0-0-0-0        NaN       NaN          NaN   \n",
       "SC154IPFUP_AAACGGGTCTGTCCGT-1-0-0-0-0-0-0        NaN       NaN          NaN   \n",
       "SC154IPFUP_AAAGATGAGATCCCGC-1-0-0-0-0-0-0        NaN       NaN          NaN   \n",
       "SC154IPFUP_AAAGATGAGATGCGAC-1-0-0-0-0-0-0        NaN       NaN          NaN   \n",
       "...                                              ...       ...          ...   \n",
       "484C_TTGACTTTCATCTGCC-1-0-0-1                    NaN       NaN          NaN   \n",
       "484C_TTTACTGCAAATTGCC-1-0-0-1                    NaN       NaN          NaN   \n",
       "484C_TTTATGCCAATAGAGT-1-0-0-1                    NaN       NaN          NaN   \n",
       "484C_TTTATGCTCGATAGAA-1-0-0-1                    NaN       NaN          NaN   \n",
       "484C_TTTGGTTCATCGGGTC-1-0-0-1                    NaN       NaN          NaN   \n",
       "\n",
       "                                           Cell Population  Cell Type leiden  \\\n",
       "SC154IPFUP_AAACCTGCATCACGAT-1-0-0-0-0-0-0              NaN        NaN    NaN   \n",
       "SC154IPFUP_AAACGGGGTACCGGCT-1-0-0-0-0-0-0              NaN        NaN    NaN   \n",
       "SC154IPFUP_AAACGGGTCTGTCCGT-1-0-0-0-0-0-0              NaN        NaN    NaN   \n",
       "SC154IPFUP_AAAGATGAGATCCCGC-1-0-0-0-0-0-0              NaN        NaN    NaN   \n",
       "SC154IPFUP_AAAGATGAGATGCGAC-1-0-0-0-0-0-0              NaN        NaN    NaN   \n",
       "...                                                    ...        ...    ...   \n",
       "484C_TTGACTTTCATCTGCC-1-0-0-1                          NaN        NaN    NaN   \n",
       "484C_TTTACTGCAAATTGCC-1-0-0-1                          NaN        NaN    NaN   \n",
       "484C_TTTATGCCAATAGAGT-1-0-0-1                          NaN        NaN    NaN   \n",
       "484C_TTTATGCTCGATAGAA-1-0-0-1                          NaN        NaN    NaN   \n",
       "484C_TTTGGTTCATCGGGTC-1-0-0-1                          NaN        NaN    NaN   \n",
       "\n",
       "                                          No of UMIs No of genes  \\\n",
       "SC154IPFUP_AAACCTGCATCACGAT-1-0-0-0-0-0-0        NaN         NaN   \n",
       "SC154IPFUP_AAACGGGGTACCGGCT-1-0-0-0-0-0-0        NaN         NaN   \n",
       "SC154IPFUP_AAACGGGTCTGTCCGT-1-0-0-0-0-0-0        NaN         NaN   \n",
       "SC154IPFUP_AAAGATGAGATCCCGC-1-0-0-0-0-0-0        NaN         NaN   \n",
       "SC154IPFUP_AAAGATGAGATGCGAC-1-0-0-0-0-0-0        NaN         NaN   \n",
       "...                                              ...         ...   \n",
       "484C_TTGACTTTCATCTGCC-1-0-0-1                    NaN         NaN   \n",
       "484C_TTTACTGCAAATTGCC-1-0-0-1                    NaN         NaN   \n",
       "484C_TTTATGCCAATAGAGT-1-0-0-1                    NaN         NaN   \n",
       "484C_TTTATGCTCGATAGAA-1-0-0-1                    NaN         NaN   \n",
       "484C_TTTGGTTCATCGGGTC-1-0-0-1                    NaN         NaN   \n",
       "\n",
       "                                          % of mito genes Cluster  \n",
       "SC154IPFUP_AAACCTGCATCACGAT-1-0-0-0-0-0-0             NaN     NaN  \n",
       "SC154IPFUP_AAACGGGGTACCGGCT-1-0-0-0-0-0-0             NaN     NaN  \n",
       "SC154IPFUP_AAACGGGTCTGTCCGT-1-0-0-0-0-0-0             NaN     NaN  \n",
       "SC154IPFUP_AAAGATGAGATCCCGC-1-0-0-0-0-0-0             NaN     NaN  \n",
       "SC154IPFUP_AAAGATGAGATGCGAC-1-0-0-0-0-0-0             NaN     NaN  \n",
       "...                                                   ...     ...  \n",
       "484C_TTGACTTTCATCTGCC-1-0-0-1                         NaN     NaN  \n",
       "484C_TTTACTGCAAATTGCC-1-0-0-1                         NaN     NaN  \n",
       "484C_TTTATGCCAATAGAGT-1-0-0-1                         NaN     NaN  \n",
       "484C_TTTATGCTCGATAGAA-1-0-0-1                         NaN     NaN  \n",
       "484C_TTTGGTTCATCGGGTC-1-0-0-1                         NaN     NaN  \n",
       "\n",
       "[138341 rows x 80 columns]"
      ]
     },
     "execution_count": 65,
     "metadata": {},
     "output_type": "execute_result"
    }
   ],
   "source": [
    "adata.obs"
   ]
  },
  {
   "cell_type": "code",
   "execution_count": 66,
   "metadata": {},
   "outputs": [
    {
     "data": {
      "text/plain": [
       "(138341, 17656)"
      ]
     },
     "execution_count": 66,
     "metadata": {},
     "output_type": "execute_result"
    }
   ],
   "source": [
    "ad.shape"
   ]
  },
  {
   "cell_type": "code",
   "execution_count": 67,
   "metadata": {},
   "outputs": [
    {
     "data": {
      "text/plain": [
       "(138341, 17656)"
      ]
     },
     "execution_count": 67,
     "metadata": {},
     "output_type": "execute_result"
    }
   ],
   "source": [
    "ad.shape"
   ]
  },
  {
   "cell_type": "code",
   "execution_count": 68,
   "metadata": {},
   "outputs": [
    {
     "name": "stdout",
     "output_type": "stream",
     "text": [
      "# epochs 400\n"
     ]
    }
   ],
   "source": [
    "# Use non-normalized (count) data for scvi!\n",
    "# Expects data only on HVGs\n",
    "# Defaults from SCVI github tutorials scanpy_pbmc3k and harmonization\n",
    "n_epochs=np.min([round((20000/adata.n_obs)*400), 400])\n",
    "\n",
    "\n",
    "n_epochs = 400\n",
    "print('# epochs %i' % n_epochs)\n",
    "\n"
   ]
  },
  {
   "cell_type": "code",
   "execution_count": 69,
   "metadata": {},
   "outputs": [
    {
     "name": "stdout",
     "output_type": "stream",
     "text": [
      "here...\n"
     ]
    }
   ],
   "source": [
    "print('here...')"
   ]
  },
  {
   "cell_type": "code",
   "execution_count": 71,
   "metadata": {},
   "outputs": [
    {
     "name": "stdout",
     "output_type": "stream",
     "text": [
      "(138341, 5887)\n"
     ]
    }
   ],
   "source": [
    "net_adata = ad[:,ad.var['hvg.or.marker']].copy()\n",
    "print(net_adata.shape)\n",
    "net_adata.X = net_adata.layers['counts'] # [:,ad.var['hvg.or.marker']]\n",
    "del net_adata.layers['counts']\n",
    "# Ensure that the raw counts are not accidentally used\n",
    "del net_adata.raw # Note that this only works from anndata 0.7"
   ]
  },
  {
   "cell_type": "code",
   "execution_count": null,
   "metadata": {},
   "outputs": [
    {
     "name": "stdout",
     "output_type": "stream",
     "text": [
      "[2021-03-17 23:59:06,056] INFO - scvi.dataset.dataset | Remapping batch_indices to [0,N]\n",
      "[2021-03-17 23:59:06,065] INFO - scvi.dataset.dataset | Remapping labels to [0,N]\n",
      "[2021-03-17 23:59:07,917] INFO - scvi.dataset.dataset | Computing the library size for the new data\n",
      "[2021-03-17 23:59:08,158] INFO - scvi.dataset.dataset | Downsampled from 138341 to 138341 cells\n",
      "[2021-03-17 23:59:14,106] INFO - scvi.inference.inference | KL warmup for 400 epochs\n",
      "training:  77%|███████▋  | 307/400 [1:52:14<32:58, 21.28s/it]  "
     ]
    }
   ],
   "source": [
    "n_latent=30\n",
    "n_hidden=128\n",
    "n_layers=2\n",
    "\n",
    "\n",
    "\n",
    "# Define batch indices\n",
    "le = LabelEncoder()\n",
    "net_adata.obs['batch_indices'] = le.fit_transform(net_adata.obs[batch].values)\n",
    "\n",
    "net_adata = AnnDatasetFromAnnData(net_adata)\n",
    "\n",
    "vae = VAE(\n",
    "    net_adata.nb_genes,\n",
    "    reconstruction_loss='nb',\n",
    "    n_batch=net_adata.n_batches,\n",
    "    n_layers=n_layers,\n",
    "    n_latent=n_latent,\n",
    "    n_hidden=n_hidden,\n",
    ")\n",
    "\n",
    "trainer = UnsupervisedTrainer(\n",
    "    vae,\n",
    "    net_adata,\n",
    "    train_size=1.0,\n",
    "    use_cuda=True,\n",
    ")\n",
    "\n",
    "trainer.train(n_epochs=n_epochs, lr=1e-3)\n",
    "\n",
    "full = trainer.create_posterior(trainer.model, net_adata, indices=np.arange(len(net_adata)))\n",
    "latent, _, _ = full.sequential().get_latent()\n",
    "\n",
    "ad.obsm['X_emb'] = latent\n",
    "\n"
   ]
  },
  {
   "cell_type": "code",
   "execution_count": null,
   "metadata": {},
   "outputs": [],
   "source": [
    "latent"
   ]
  },
  {
   "cell_type": "code",
   "execution_count": null,
   "metadata": {},
   "outputs": [],
   "source": [
    "import torch"
   ]
  },
  {
   "cell_type": "code",
   "execution_count": null,
   "metadata": {},
   "outputs": [],
   "source": [
    "torch.save(trainer.model.state_dict(), 'mytraining_all_revision.pt')\n",
    "\n"
   ]
  },
  {
   "cell_type": "code",
   "execution_count": null,
   "metadata": {},
   "outputs": [],
   "source": [
    "import matplotlib.pyplot as plt\n",
    "%matplotlib inline"
   ]
  },
  {
   "cell_type": "code",
   "execution_count": null,
   "metadata": {},
   "outputs": [],
   "source": [
    "from matplotlib import rcParams\n",
    "import matplotlib.pyplot as plt\n",
    "rcParams['figure.figsize'] = [6, 6]\n",
    "rcParams['figure.dpi'] = 110\n",
    "\n",
    "from os.path import join, exists\n",
    "\n",
    "k = 'adams'\n",
    "output_path = join('data/figures/%s_revision.png' % k)\n",
    "if exists(output_path):\n",
    "    print('skip %s' % k)\n",
    "\n",
    "if 'X_emb' in ad.obsm:\n",
    "    print('neighbors... using %s' % 'X_emb' )\n",
    "    sc.pp.neighbors(ad, use_rep='X_emb')\n",
    "    sc.tl.umap(ad)\n",
    "    print('umap...')\n",
    "\n"
   ]
  },
  {
   "cell_type": "code",
   "execution_count": null,
   "metadata": {},
   "outputs": [],
   "source": [
    "import anndata\n",
    "anndata.__version__"
   ]
  },
  {
   "cell_type": "code",
   "execution_count": null,
   "metadata": {},
   "outputs": [],
   "source": [
    "import scanpy as sc\n",
    "sc.__version__"
   ]
  },
  {
   "cell_type": "code",
   "execution_count": 106,
   "metadata": {},
   "outputs": [
    {
     "data": {
      "text/plain": [
       "False"
      ]
     },
     "execution_count": 106,
     "metadata": {},
     "output_type": "execute_result"
    }
   ],
   "source": [
    "import os; os.path.exists(outfilename)"
   ]
  },
  {
   "cell_type": "code",
   "execution_count": 107,
   "metadata": {},
   "outputs": [
    {
     "name": "stderr",
     "output_type": "stream",
     "text": [
      "... storing 'GSM' as categorical\n",
      "... storing 'sample.id' as categorical\n",
      "... storing 'patient.id' as categorical\n",
      "... storing 'cell.type' as categorical\n",
      "... storing 'study' as categorical\n",
      "... storing 'disease.status' as categorical\n",
      "... storing 'CellType_Category' as categorical\n",
      "... storing 'Manuscript_Identity' as categorical\n",
      "... storing 'Subclass_Cell_Identity' as categorical\n",
      "... storing 'Disease_Identity' as categorical\n",
      "... storing 'Subject_Identity' as categorical\n",
      "... storing 'Library_Identity' as categorical\n",
      "... storing 'groups' as categorical\n",
      "... storing 'orig.ident' as categorical\n",
      "... storing 'number' as categorical\n",
      "... storing 'dataset' as categorical\n",
      "... storing 'Phase' as categorical\n",
      "... storing 'Label' as categorical\n",
      "... storing 'seurat_clusters' as categorical\n",
      "... storing 'RNA_mnn_40_Leiden_res.0.1' as categorical\n",
      "... storing 'RNA_mnn_40_Leiden_res.0.2' as categorical\n",
      "... storing 'RNA_mnn_40_Leiden_res.0.3' as categorical\n",
      "... storing 'RNA_mnn_40_Leiden_res.0.4' as categorical\n",
      "... storing 'RNA_mnn_40_Leiden_res.0.5' as categorical\n",
      "... storing 'RNA_mnn_40_Leiden_res.0.6' as categorical\n",
      "... storing 'RNA_mnn_40_Leiden_res.0.7' as categorical\n",
      "... storing 'RNA_mnn_40_Leiden_res.0.8' as categorical\n",
      "... storing 'RNA_mnn_40_Leiden_res.0.9' as categorical\n",
      "... storing 'RNA_mnn_40_Leiden_res.1' as categorical\n",
      "... storing 'RNA_mnn_40_Leiden_res.1.5' as categorical\n",
      "... storing 'RNA_mnn_40_Leiden_res.2' as categorical\n",
      "... storing 'RNA_mnn_40_Leiden_res.3' as categorical\n",
      "... storing 'RNA_mnn_40_Leiden_res.5' as categorical\n",
      "... storing 'Celltype' as categorical\n",
      "... storing 'patient' as categorical\n",
      "... storing 'dpso' as categorical\n",
      "... storing 'age' as categorical\n",
      "... storing 'sex' as categorical\n",
      "... storing 'Celltype_2' as categorical\n",
      "... storing 'Timepoint' as categorical\n",
      "... storing 'ident' as categorical\n",
      "... storing 'mdm.type' as categorical\n",
      "... storing 'Unnamed: 0' as categorical\n",
      "... storing 'Study' as categorical\n",
      "... storing 'Sample Source' as categorical\n",
      "... storing 'Sample Name' as categorical\n",
      "... storing 'Sample Status' as categorical\n",
      "... storing 'Diagnosis' as categorical\n",
      "... storing 'COVID-19' as categorical\n",
      "... storing 'Tissue Type' as categorical\n",
      "... storing 'Cell Population' as categorical\n",
      "... storing 'Cell Type' as categorical\n",
      "... storing 'Cluster' as categorical\n"
     ]
    }
   ],
   "source": [
    "ad.write(outfilename, compression='lzf')"
   ]
  },
  {
   "cell_type": "code",
   "execution_count": 108,
   "metadata": {},
   "outputs": [
    {
     "name": "stdout",
     "output_type": "stream",
     "text": [
      "done...\n"
     ]
    }
   ],
   "source": [
    "print('done...')"
   ]
  },
  {
   "cell_type": "code",
   "execution_count": 100,
   "metadata": {},
   "outputs": [
    {
     "data": {
      "text/plain": [
       "'morse_n_adams_n_bal_scvi_patient.id_138341_400_revision.h5da'"
      ]
     },
     "execution_count": 100,
     "metadata": {},
     "output_type": "execute_result"
    }
   ],
   "source": [
    "'morse_n_adams_n_bal_scvi_%s_%i_%i_revision.h5da' % (batch, ad.shape[0], n_epochs)"
   ]
  },
  {
   "cell_type": "code",
   "execution_count": null,
   "metadata": {},
   "outputs": [],
   "source": []
  },
  {
   "cell_type": "code",
   "execution_count": 101,
   "metadata": {},
   "outputs": [],
   "source": [
    "outfilename = 'morse_n_adams_n_bal_scvi_%s_%i_%i_revision.h5da' % (batch, ad.shape[0], n_epochs)"
   ]
  },
  {
   "cell_type": "code",
   "execution_count": null,
   "metadata": {},
   "outputs": [],
   "source": [
    "print('done...')"
   ]
  },
  {
   "cell_type": "code",
   "execution_count": 1,
   "metadata": {},
   "outputs": [],
   "source": [
    "import scanpy as sc"
   ]
  },
  {
   "cell_type": "code",
   "execution_count": 2,
   "metadata": {},
   "outputs": [
    {
     "name": "stdout",
     "output_type": "stream",
     "text": [
      "here...\n"
     ]
    }
   ],
   "source": [
    "print('here...')"
   ]
  },
  {
   "cell_type": "code",
   "execution_count": 58,
   "metadata": {},
   "outputs": [
    {
     "name": "stdout",
     "output_type": "stream",
     "text": [
      "morse_n_adams_n_bal_scvi_patient.id_227086_400_revision.h5da\n"
     ]
    }
   ],
   "source": [
    "print(outfilename)"
   ]
  },
  {
   "cell_type": "code",
   "execution_count": 59,
   "metadata": {},
   "outputs": [
    {
     "name": "stdout",
     "output_type": "stream",
     "text": [
      "loading object...\n",
      "done...\n"
     ]
    }
   ],
   "source": [
    "print('loading object...')\n",
    "ad = sc.read_h5ad(outfilename)\n",
    "print('done...')"
   ]
  },
  {
   "cell_type": "code",
   "execution_count": 82,
   "metadata": {},
   "outputs": [
    {
     "data": {
      "text/plain": [
       "(138341, 17656)"
      ]
     },
     "execution_count": 82,
     "metadata": {},
     "output_type": "execute_result"
    }
   ],
   "source": [
    "ad.shape"
   ]
  },
  {
   "cell_type": "code",
   "execution_count": 94,
   "metadata": {},
   "outputs": [
    {
     "data": {
      "text/html": [
       "<div>\n",
       "<style scoped>\n",
       "    .dataframe tbody tr th:only-of-type {\n",
       "        vertical-align: middle;\n",
       "    }\n",
       "\n",
       "    .dataframe tbody tr th {\n",
       "        vertical-align: top;\n",
       "    }\n",
       "\n",
       "    .dataframe thead th {\n",
       "        text-align: right;\n",
       "    }\n",
       "</style>\n",
       "<table border=\"1\" class=\"dataframe\">\n",
       "  <thead>\n",
       "    <tr style=\"text-align: right;\">\n",
       "      <th></th>\n",
       "      <th>patient.id</th>\n",
       "      <th>disease.status</th>\n",
       "    </tr>\n",
       "  </thead>\n",
       "  <tbody>\n",
       "    <tr>\n",
       "      <th>052CO-a_AAACCTGCAGGCTGAA-1-0-0-1-0-0</th>\n",
       "      <td>052CO</td>\n",
       "      <td>COPD</td>\n",
       "    </tr>\n",
       "    <tr>\n",
       "      <th>052CO-a_AAACCTGGTATCAGTC-1-0-0-1-0-0</th>\n",
       "      <td>052CO</td>\n",
       "      <td>COPD</td>\n",
       "    </tr>\n",
       "    <tr>\n",
       "      <th>052CO-a_AAACGGGAGTGCGATG-1-0-0-1-0-0</th>\n",
       "      <td>052CO</td>\n",
       "      <td>COPD</td>\n",
       "    </tr>\n",
       "    <tr>\n",
       "      <th>052CO-a_AAAGTAGGTCCATGAT-1-0-0-1-0-0</th>\n",
       "      <td>052CO</td>\n",
       "      <td>COPD</td>\n",
       "    </tr>\n",
       "    <tr>\n",
       "      <th>052CO-a_AAATGCCCACATCCGG-1-0-0-1-0-0</th>\n",
       "      <td>052CO</td>\n",
       "      <td>COPD</td>\n",
       "    </tr>\n",
       "    <tr>\n",
       "      <th>...</th>\n",
       "      <td>...</td>\n",
       "      <td>...</td>\n",
       "    </tr>\n",
       "    <tr>\n",
       "      <th>484C_TTGACTTTCATCTGCC-1-0-0-1</th>\n",
       "      <td>484C</td>\n",
       "      <td>control</td>\n",
       "    </tr>\n",
       "    <tr>\n",
       "      <th>484C_TTTACTGCAAATTGCC-1-0-0-1</th>\n",
       "      <td>484C</td>\n",
       "      <td>control</td>\n",
       "    </tr>\n",
       "    <tr>\n",
       "      <th>484C_TTTATGCCAATAGAGT-1-0-0-1</th>\n",
       "      <td>484C</td>\n",
       "      <td>control</td>\n",
       "    </tr>\n",
       "    <tr>\n",
       "      <th>484C_TTTATGCTCGATAGAA-1-0-0-1</th>\n",
       "      <td>484C</td>\n",
       "      <td>control</td>\n",
       "    </tr>\n",
       "    <tr>\n",
       "      <th>484C_TTTGGTTCATCGGGTC-1-0-0-1</th>\n",
       "      <td>484C</td>\n",
       "      <td>control</td>\n",
       "    </tr>\n",
       "  </tbody>\n",
       "</table>\n",
       "<p>90477 rows × 2 columns</p>\n",
       "</div>"
      ],
      "text/plain": [
       "                                     patient.id disease.status\n",
       "052CO-a_AAACCTGCAGGCTGAA-1-0-0-1-0-0      052CO           COPD\n",
       "052CO-a_AAACCTGGTATCAGTC-1-0-0-1-0-0      052CO           COPD\n",
       "052CO-a_AAACGGGAGTGCGATG-1-0-0-1-0-0      052CO           COPD\n",
       "052CO-a_AAAGTAGGTCCATGAT-1-0-0-1-0-0      052CO           COPD\n",
       "052CO-a_AAATGCCCACATCCGG-1-0-0-1-0-0      052CO           COPD\n",
       "...                                         ...            ...\n",
       "484C_TTGACTTTCATCTGCC-1-0-0-1              484C        control\n",
       "484C_TTTACTGCAAATTGCC-1-0-0-1              484C        control\n",
       "484C_TTTATGCCAATAGAGT-1-0-0-1              484C        control\n",
       "484C_TTTATGCTCGATAGAA-1-0-0-1              484C        control\n",
       "484C_TTTGGTTCATCGGGTC-1-0-0-1              484C        control\n",
       "\n",
       "[90477 rows x 2 columns]"
      ]
     },
     "execution_count": 94,
     "metadata": {},
     "output_type": "execute_result"
    }
   ],
   "source": [
    "ad.obs[ad.obs['study'] == 'adams'][['patient.id', 'disease.status']]"
   ]
  },
  {
   "cell_type": "code",
   "execution_count": 95,
   "metadata": {},
   "outputs": [
    {
     "data": {
      "text/html": [
       "<div>\n",
       "<style scoped>\n",
       "    .dataframe tbody tr th:only-of-type {\n",
       "        vertical-align: middle;\n",
       "    }\n",
       "\n",
       "    .dataframe tbody tr th {\n",
       "        vertical-align: top;\n",
       "    }\n",
       "\n",
       "    .dataframe thead th {\n",
       "        text-align: right;\n",
       "    }\n",
       "</style>\n",
       "<table border=\"1\" class=\"dataframe\">\n",
       "  <thead>\n",
       "    <tr style=\"text-align: right;\">\n",
       "      <th></th>\n",
       "      <th>GSM</th>\n",
       "      <th>sample.id</th>\n",
       "      <th>n_counts</th>\n",
       "      <th>log_counts</th>\n",
       "      <th>n_genes</th>\n",
       "      <th>mt_frac</th>\n",
       "      <th>patient.id</th>\n",
       "      <th>cell.type</th>\n",
       "      <th>study</th>\n",
       "      <th>disease.status</th>\n",
       "      <th>...</th>\n",
       "      <th>Diagnosis</th>\n",
       "      <th>COVID-19</th>\n",
       "      <th>Tissue Type</th>\n",
       "      <th>Cell Population</th>\n",
       "      <th>Cell Type</th>\n",
       "      <th>leiden</th>\n",
       "      <th>No of UMIs</th>\n",
       "      <th>No of genes</th>\n",
       "      <th>% of mito genes</th>\n",
       "      <th>Cluster</th>\n",
       "    </tr>\n",
       "  </thead>\n",
       "  <tbody>\n",
       "    <tr>\n",
       "      <th>SC154IPFUP_AAACCTGCATCACGAT-1-0-0-0-0-0-0</th>\n",
       "      <td>GSM3660658</td>\n",
       "      <td>SC154IPFUP</td>\n",
       "      <td>15616.0</td>\n",
       "      <td>9.656052</td>\n",
       "      <td>2600.0</td>\n",
       "      <td>0.093558</td>\n",
       "      <td>SC154</td>\n",
       "      <td>SPP1hi Macrophage</td>\n",
       "      <td>morse</td>\n",
       "      <td>IPF</td>\n",
       "      <td>...</td>\n",
       "      <td>NaN</td>\n",
       "      <td>NaN</td>\n",
       "      <td>NaN</td>\n",
       "      <td>NaN</td>\n",
       "      <td>NaN</td>\n",
       "      <td>NaN</td>\n",
       "      <td>NaN</td>\n",
       "      <td>NaN</td>\n",
       "      <td>NaN</td>\n",
       "      <td>NaN</td>\n",
       "    </tr>\n",
       "    <tr>\n",
       "      <th>SC154IPFUP_AAACGGGGTACCGGCT-1-0-0-0-0-0-0</th>\n",
       "      <td>GSM3660658</td>\n",
       "      <td>SC154IPFUP</td>\n",
       "      <td>9768.0</td>\n",
       "      <td>9.186867</td>\n",
       "      <td>2008.0</td>\n",
       "      <td>0.084562</td>\n",
       "      <td>SC154</td>\n",
       "      <td>SPP1hi Macrophage</td>\n",
       "      <td>morse</td>\n",
       "      <td>IPF</td>\n",
       "      <td>...</td>\n",
       "      <td>NaN</td>\n",
       "      <td>NaN</td>\n",
       "      <td>NaN</td>\n",
       "      <td>NaN</td>\n",
       "      <td>NaN</td>\n",
       "      <td>NaN</td>\n",
       "      <td>NaN</td>\n",
       "      <td>NaN</td>\n",
       "      <td>NaN</td>\n",
       "      <td>NaN</td>\n",
       "    </tr>\n",
       "    <tr>\n",
       "      <th>SC154IPFUP_AAACGGGTCTGTCCGT-1-0-0-0-0-0-0</th>\n",
       "      <td>GSM3660658</td>\n",
       "      <td>SC154IPFUP</td>\n",
       "      <td>27659.0</td>\n",
       "      <td>10.227707</td>\n",
       "      <td>3509.0</td>\n",
       "      <td>0.043386</td>\n",
       "      <td>SC154</td>\n",
       "      <td>FABP4hi Macrophage</td>\n",
       "      <td>morse</td>\n",
       "      <td>IPF</td>\n",
       "      <td>...</td>\n",
       "      <td>NaN</td>\n",
       "      <td>NaN</td>\n",
       "      <td>NaN</td>\n",
       "      <td>NaN</td>\n",
       "      <td>NaN</td>\n",
       "      <td>NaN</td>\n",
       "      <td>NaN</td>\n",
       "      <td>NaN</td>\n",
       "      <td>NaN</td>\n",
       "      <td>NaN</td>\n",
       "    </tr>\n",
       "    <tr>\n",
       "      <th>SC154IPFUP_AAAGATGAGATCCCGC-1-0-0-0-0-0-0</th>\n",
       "      <td>GSM3660658</td>\n",
       "      <td>SC154IPFUP</td>\n",
       "      <td>9778.0</td>\n",
       "      <td>9.187890</td>\n",
       "      <td>2276.0</td>\n",
       "      <td>0.070157</td>\n",
       "      <td>SC154</td>\n",
       "      <td>SPP1hi Macrophage</td>\n",
       "      <td>morse</td>\n",
       "      <td>IPF</td>\n",
       "      <td>...</td>\n",
       "      <td>NaN</td>\n",
       "      <td>NaN</td>\n",
       "      <td>NaN</td>\n",
       "      <td>NaN</td>\n",
       "      <td>NaN</td>\n",
       "      <td>NaN</td>\n",
       "      <td>NaN</td>\n",
       "      <td>NaN</td>\n",
       "      <td>NaN</td>\n",
       "      <td>NaN</td>\n",
       "    </tr>\n",
       "    <tr>\n",
       "      <th>SC154IPFUP_AAAGATGAGATGCGAC-1-0-0-0-0-0-0</th>\n",
       "      <td>GSM3660658</td>\n",
       "      <td>SC154IPFUP</td>\n",
       "      <td>8610.0</td>\n",
       "      <td>9.060679</td>\n",
       "      <td>1981.0</td>\n",
       "      <td>0.059582</td>\n",
       "      <td>SC154</td>\n",
       "      <td>SPP1hi Macrophage</td>\n",
       "      <td>morse</td>\n",
       "      <td>IPF</td>\n",
       "      <td>...</td>\n",
       "      <td>NaN</td>\n",
       "      <td>NaN</td>\n",
       "      <td>NaN</td>\n",
       "      <td>NaN</td>\n",
       "      <td>NaN</td>\n",
       "      <td>NaN</td>\n",
       "      <td>NaN</td>\n",
       "      <td>NaN</td>\n",
       "      <td>NaN</td>\n",
       "      <td>NaN</td>\n",
       "    </tr>\n",
       "    <tr>\n",
       "      <th>...</th>\n",
       "      <td>...</td>\n",
       "      <td>...</td>\n",
       "      <td>...</td>\n",
       "      <td>...</td>\n",
       "      <td>...</td>\n",
       "      <td>...</td>\n",
       "      <td>...</td>\n",
       "      <td>...</td>\n",
       "      <td>...</td>\n",
       "      <td>...</td>\n",
       "      <td>...</td>\n",
       "      <td>...</td>\n",
       "      <td>...</td>\n",
       "      <td>...</td>\n",
       "      <td>...</td>\n",
       "      <td>...</td>\n",
       "      <td>...</td>\n",
       "      <td>...</td>\n",
       "      <td>...</td>\n",
       "      <td>...</td>\n",
       "      <td>...</td>\n",
       "    </tr>\n",
       "    <tr>\n",
       "      <th>484C_TTGACTTTCATCTGCC-1-0-0-1</th>\n",
       "      <td>NaN</td>\n",
       "      <td>NaN</td>\n",
       "      <td>16249.0</td>\n",
       "      <td>9.695786</td>\n",
       "      <td>3934.0</td>\n",
       "      <td>0.044187</td>\n",
       "      <td>484C</td>\n",
       "      <td>Macrophage_Outlier_D</td>\n",
       "      <td>adams</td>\n",
       "      <td>control</td>\n",
       "      <td>...</td>\n",
       "      <td>NaN</td>\n",
       "      <td>NaN</td>\n",
       "      <td>NaN</td>\n",
       "      <td>NaN</td>\n",
       "      <td>NaN</td>\n",
       "      <td>NaN</td>\n",
       "      <td>NaN</td>\n",
       "      <td>NaN</td>\n",
       "      <td>NaN</td>\n",
       "      <td>NaN</td>\n",
       "    </tr>\n",
       "    <tr>\n",
       "      <th>484C_TTTACTGCAAATTGCC-1-0-0-1</th>\n",
       "      <td>NaN</td>\n",
       "      <td>NaN</td>\n",
       "      <td>1851.0</td>\n",
       "      <td>7.523481</td>\n",
       "      <td>1096.0</td>\n",
       "      <td>0.044300</td>\n",
       "      <td>484C</td>\n",
       "      <td>Macrophage</td>\n",
       "      <td>adams</td>\n",
       "      <td>control</td>\n",
       "      <td>...</td>\n",
       "      <td>NaN</td>\n",
       "      <td>NaN</td>\n",
       "      <td>NaN</td>\n",
       "      <td>NaN</td>\n",
       "      <td>NaN</td>\n",
       "      <td>NaN</td>\n",
       "      <td>NaN</td>\n",
       "      <td>NaN</td>\n",
       "      <td>NaN</td>\n",
       "      <td>NaN</td>\n",
       "    </tr>\n",
       "    <tr>\n",
       "      <th>484C_TTTATGCCAATAGAGT-1-0-0-1</th>\n",
       "      <td>NaN</td>\n",
       "      <td>NaN</td>\n",
       "      <td>11975.0</td>\n",
       "      <td>9.390576</td>\n",
       "      <td>3415.0</td>\n",
       "      <td>0.046180</td>\n",
       "      <td>484C</td>\n",
       "      <td>Macrophage</td>\n",
       "      <td>adams</td>\n",
       "      <td>control</td>\n",
       "      <td>...</td>\n",
       "      <td>NaN</td>\n",
       "      <td>NaN</td>\n",
       "      <td>NaN</td>\n",
       "      <td>NaN</td>\n",
       "      <td>NaN</td>\n",
       "      <td>NaN</td>\n",
       "      <td>NaN</td>\n",
       "      <td>NaN</td>\n",
       "      <td>NaN</td>\n",
       "      <td>NaN</td>\n",
       "    </tr>\n",
       "    <tr>\n",
       "      <th>484C_TTTATGCTCGATAGAA-1-0-0-1</th>\n",
       "      <td>NaN</td>\n",
       "      <td>NaN</td>\n",
       "      <td>6138.0</td>\n",
       "      <td>8.722254</td>\n",
       "      <td>2506.0</td>\n",
       "      <td>0.061584</td>\n",
       "      <td>484C</td>\n",
       "      <td>Macrophage</td>\n",
       "      <td>adams</td>\n",
       "      <td>control</td>\n",
       "      <td>...</td>\n",
       "      <td>NaN</td>\n",
       "      <td>NaN</td>\n",
       "      <td>NaN</td>\n",
       "      <td>NaN</td>\n",
       "      <td>NaN</td>\n",
       "      <td>NaN</td>\n",
       "      <td>NaN</td>\n",
       "      <td>NaN</td>\n",
       "      <td>NaN</td>\n",
       "      <td>NaN</td>\n",
       "    </tr>\n",
       "    <tr>\n",
       "      <th>484C_TTTGGTTCATCGGGTC-1-0-0-1</th>\n",
       "      <td>NaN</td>\n",
       "      <td>NaN</td>\n",
       "      <td>1625.0</td>\n",
       "      <td>7.393263</td>\n",
       "      <td>801.0</td>\n",
       "      <td>0.185231</td>\n",
       "      <td>484C</td>\n",
       "      <td>Macrophage</td>\n",
       "      <td>adams</td>\n",
       "      <td>control</td>\n",
       "      <td>...</td>\n",
       "      <td>NaN</td>\n",
       "      <td>NaN</td>\n",
       "      <td>NaN</td>\n",
       "      <td>NaN</td>\n",
       "      <td>NaN</td>\n",
       "      <td>NaN</td>\n",
       "      <td>NaN</td>\n",
       "      <td>NaN</td>\n",
       "      <td>NaN</td>\n",
       "      <td>NaN</td>\n",
       "    </tr>\n",
       "  </tbody>\n",
       "</table>\n",
       "<p>138341 rows × 80 columns</p>\n",
       "</div>"
      ],
      "text/plain": [
       "                                                  GSM   sample.id  n_counts  \\\n",
       "SC154IPFUP_AAACCTGCATCACGAT-1-0-0-0-0-0-0  GSM3660658  SC154IPFUP   15616.0   \n",
       "SC154IPFUP_AAACGGGGTACCGGCT-1-0-0-0-0-0-0  GSM3660658  SC154IPFUP    9768.0   \n",
       "SC154IPFUP_AAACGGGTCTGTCCGT-1-0-0-0-0-0-0  GSM3660658  SC154IPFUP   27659.0   \n",
       "SC154IPFUP_AAAGATGAGATCCCGC-1-0-0-0-0-0-0  GSM3660658  SC154IPFUP    9778.0   \n",
       "SC154IPFUP_AAAGATGAGATGCGAC-1-0-0-0-0-0-0  GSM3660658  SC154IPFUP    8610.0   \n",
       "...                                               ...         ...       ...   \n",
       "484C_TTGACTTTCATCTGCC-1-0-0-1                     NaN         NaN   16249.0   \n",
       "484C_TTTACTGCAAATTGCC-1-0-0-1                     NaN         NaN    1851.0   \n",
       "484C_TTTATGCCAATAGAGT-1-0-0-1                     NaN         NaN   11975.0   \n",
       "484C_TTTATGCTCGATAGAA-1-0-0-1                     NaN         NaN    6138.0   \n",
       "484C_TTTGGTTCATCGGGTC-1-0-0-1                     NaN         NaN    1625.0   \n",
       "\n",
       "                                           log_counts  n_genes   mt_frac  \\\n",
       "SC154IPFUP_AAACCTGCATCACGAT-1-0-0-0-0-0-0    9.656052   2600.0  0.093558   \n",
       "SC154IPFUP_AAACGGGGTACCGGCT-1-0-0-0-0-0-0    9.186867   2008.0  0.084562   \n",
       "SC154IPFUP_AAACGGGTCTGTCCGT-1-0-0-0-0-0-0   10.227707   3509.0  0.043386   \n",
       "SC154IPFUP_AAAGATGAGATCCCGC-1-0-0-0-0-0-0    9.187890   2276.0  0.070157   \n",
       "SC154IPFUP_AAAGATGAGATGCGAC-1-0-0-0-0-0-0    9.060679   1981.0  0.059582   \n",
       "...                                               ...      ...       ...   \n",
       "484C_TTGACTTTCATCTGCC-1-0-0-1                9.695786   3934.0  0.044187   \n",
       "484C_TTTACTGCAAATTGCC-1-0-0-1                7.523481   1096.0  0.044300   \n",
       "484C_TTTATGCCAATAGAGT-1-0-0-1                9.390576   3415.0  0.046180   \n",
       "484C_TTTATGCTCGATAGAA-1-0-0-1                8.722254   2506.0  0.061584   \n",
       "484C_TTTGGTTCATCGGGTC-1-0-0-1                7.393263    801.0  0.185231   \n",
       "\n",
       "                                          patient.id             cell.type  \\\n",
       "SC154IPFUP_AAACCTGCATCACGAT-1-0-0-0-0-0-0      SC154     SPP1hi Macrophage   \n",
       "SC154IPFUP_AAACGGGGTACCGGCT-1-0-0-0-0-0-0      SC154     SPP1hi Macrophage   \n",
       "SC154IPFUP_AAACGGGTCTGTCCGT-1-0-0-0-0-0-0      SC154    FABP4hi Macrophage   \n",
       "SC154IPFUP_AAAGATGAGATCCCGC-1-0-0-0-0-0-0      SC154     SPP1hi Macrophage   \n",
       "SC154IPFUP_AAAGATGAGATGCGAC-1-0-0-0-0-0-0      SC154     SPP1hi Macrophage   \n",
       "...                                              ...                   ...   \n",
       "484C_TTGACTTTCATCTGCC-1-0-0-1                   484C  Macrophage_Outlier_D   \n",
       "484C_TTTACTGCAAATTGCC-1-0-0-1                   484C            Macrophage   \n",
       "484C_TTTATGCCAATAGAGT-1-0-0-1                   484C            Macrophage   \n",
       "484C_TTTATGCTCGATAGAA-1-0-0-1                   484C            Macrophage   \n",
       "484C_TTTGGTTCATCGGGTC-1-0-0-1                   484C            Macrophage   \n",
       "\n",
       "                                           study disease.status  ...  \\\n",
       "SC154IPFUP_AAACCTGCATCACGAT-1-0-0-0-0-0-0  morse            IPF  ...   \n",
       "SC154IPFUP_AAACGGGGTACCGGCT-1-0-0-0-0-0-0  morse            IPF  ...   \n",
       "SC154IPFUP_AAACGGGTCTGTCCGT-1-0-0-0-0-0-0  morse            IPF  ...   \n",
       "SC154IPFUP_AAAGATGAGATCCCGC-1-0-0-0-0-0-0  morse            IPF  ...   \n",
       "SC154IPFUP_AAAGATGAGATGCGAC-1-0-0-0-0-0-0  morse            IPF  ...   \n",
       "...                                          ...            ...  ...   \n",
       "484C_TTGACTTTCATCTGCC-1-0-0-1              adams        control  ...   \n",
       "484C_TTTACTGCAAATTGCC-1-0-0-1              adams        control  ...   \n",
       "484C_TTTATGCCAATAGAGT-1-0-0-1              adams        control  ...   \n",
       "484C_TTTATGCTCGATAGAA-1-0-0-1              adams        control  ...   \n",
       "484C_TTTGGTTCATCGGGTC-1-0-0-1              adams        control  ...   \n",
       "\n",
       "                                           Diagnosis  COVID-19  Tissue Type  \\\n",
       "SC154IPFUP_AAACCTGCATCACGAT-1-0-0-0-0-0-0        NaN       NaN          NaN   \n",
       "SC154IPFUP_AAACGGGGTACCGGCT-1-0-0-0-0-0-0        NaN       NaN          NaN   \n",
       "SC154IPFUP_AAACGGGTCTGTCCGT-1-0-0-0-0-0-0        NaN       NaN          NaN   \n",
       "SC154IPFUP_AAAGATGAGATCCCGC-1-0-0-0-0-0-0        NaN       NaN          NaN   \n",
       "SC154IPFUP_AAAGATGAGATGCGAC-1-0-0-0-0-0-0        NaN       NaN          NaN   \n",
       "...                                              ...       ...          ...   \n",
       "484C_TTGACTTTCATCTGCC-1-0-0-1                    NaN       NaN          NaN   \n",
       "484C_TTTACTGCAAATTGCC-1-0-0-1                    NaN       NaN          NaN   \n",
       "484C_TTTATGCCAATAGAGT-1-0-0-1                    NaN       NaN          NaN   \n",
       "484C_TTTATGCTCGATAGAA-1-0-0-1                    NaN       NaN          NaN   \n",
       "484C_TTTGGTTCATCGGGTC-1-0-0-1                    NaN       NaN          NaN   \n",
       "\n",
       "                                           Cell Population  Cell Type leiden  \\\n",
       "SC154IPFUP_AAACCTGCATCACGAT-1-0-0-0-0-0-0              NaN        NaN    NaN   \n",
       "SC154IPFUP_AAACGGGGTACCGGCT-1-0-0-0-0-0-0              NaN        NaN    NaN   \n",
       "SC154IPFUP_AAACGGGTCTGTCCGT-1-0-0-0-0-0-0              NaN        NaN    NaN   \n",
       "SC154IPFUP_AAAGATGAGATCCCGC-1-0-0-0-0-0-0              NaN        NaN    NaN   \n",
       "SC154IPFUP_AAAGATGAGATGCGAC-1-0-0-0-0-0-0              NaN        NaN    NaN   \n",
       "...                                                    ...        ...    ...   \n",
       "484C_TTGACTTTCATCTGCC-1-0-0-1                          NaN        NaN    NaN   \n",
       "484C_TTTACTGCAAATTGCC-1-0-0-1                          NaN        NaN    NaN   \n",
       "484C_TTTATGCCAATAGAGT-1-0-0-1                          NaN        NaN    NaN   \n",
       "484C_TTTATGCTCGATAGAA-1-0-0-1                          NaN        NaN    NaN   \n",
       "484C_TTTGGTTCATCGGGTC-1-0-0-1                          NaN        NaN    NaN   \n",
       "\n",
       "                                          No of UMIs No of genes  \\\n",
       "SC154IPFUP_AAACCTGCATCACGAT-1-0-0-0-0-0-0        NaN         NaN   \n",
       "SC154IPFUP_AAACGGGGTACCGGCT-1-0-0-0-0-0-0        NaN         NaN   \n",
       "SC154IPFUP_AAACGGGTCTGTCCGT-1-0-0-0-0-0-0        NaN         NaN   \n",
       "SC154IPFUP_AAAGATGAGATCCCGC-1-0-0-0-0-0-0        NaN         NaN   \n",
       "SC154IPFUP_AAAGATGAGATGCGAC-1-0-0-0-0-0-0        NaN         NaN   \n",
       "...                                              ...         ...   \n",
       "484C_TTGACTTTCATCTGCC-1-0-0-1                    NaN         NaN   \n",
       "484C_TTTACTGCAAATTGCC-1-0-0-1                    NaN         NaN   \n",
       "484C_TTTATGCCAATAGAGT-1-0-0-1                    NaN         NaN   \n",
       "484C_TTTATGCTCGATAGAA-1-0-0-1                    NaN         NaN   \n",
       "484C_TTTGGTTCATCGGGTC-1-0-0-1                    NaN         NaN   \n",
       "\n",
       "                                          % of mito genes Cluster  \n",
       "SC154IPFUP_AAACCTGCATCACGAT-1-0-0-0-0-0-0             NaN     NaN  \n",
       "SC154IPFUP_AAACGGGGTACCGGCT-1-0-0-0-0-0-0             NaN     NaN  \n",
       "SC154IPFUP_AAACGGGTCTGTCCGT-1-0-0-0-0-0-0             NaN     NaN  \n",
       "SC154IPFUP_AAAGATGAGATCCCGC-1-0-0-0-0-0-0             NaN     NaN  \n",
       "SC154IPFUP_AAAGATGAGATGCGAC-1-0-0-0-0-0-0             NaN     NaN  \n",
       "...                                                   ...     ...  \n",
       "484C_TTGACTTTCATCTGCC-1-0-0-1                         NaN     NaN  \n",
       "484C_TTTACTGCAAATTGCC-1-0-0-1                         NaN     NaN  \n",
       "484C_TTTATGCCAATAGAGT-1-0-0-1                         NaN     NaN  \n",
       "484C_TTTATGCTCGATAGAA-1-0-0-1                         NaN     NaN  \n",
       "484C_TTTGGTTCATCGGGTC-1-0-0-1                         NaN     NaN  \n",
       "\n",
       "[138341 rows x 80 columns]"
      ]
     },
     "execution_count": 95,
     "metadata": {},
     "output_type": "execute_result"
    }
   ],
   "source": [
    "ad.obs"
   ]
  },
  {
   "cell_type": "code",
   "execution_count": 96,
   "metadata": {},
   "outputs": [
    {
     "data": {
      "text/plain": [
       "IPF        32\n",
       "control    28\n",
       "COPD       18\n",
       "Name: disease.status, dtype: int64"
      ]
     },
     "execution_count": 96,
     "metadata": {},
     "output_type": "execute_result"
    }
   ],
   "source": [
    "ad.obs[ad.obs['study'] == 'adams'][['patient.id', 'disease.status']].drop_duplicates('patient.id')['disease.status'].value_counts()"
   ]
  },
  {
   "cell_type": "code",
   "execution_count": 97,
   "metadata": {},
   "outputs": [
    {
     "data": {
      "text/plain": [
       "covid    3\n",
       "Name: disease.status, dtype: int64"
      ]
     },
     "execution_count": 97,
     "metadata": {},
     "output_type": "execute_result"
    }
   ],
   "source": [
    "ad.obs[ad.obs['study'] == 'budinger'][['patient.id', 'disease.status']].drop_duplicates('patient.id')['disease.status'].value_counts()"
   ]
  },
  {
   "cell_type": "code",
   "execution_count": 98,
   "metadata": {},
   "outputs": [
    {
     "data": {
      "text/plain": [
       "BAL (NA)    7\n",
       "Name: disease.status, dtype: int64"
      ]
     },
     "execution_count": 98,
     "metadata": {},
     "output_type": "execute_result"
    }
   ],
   "source": [
    "ad.obs[ad.obs['study'] == 'BAL'][['patient.id', 'disease.status']].drop_duplicates('patient.id')['disease.status'].value_counts()"
   ]
  },
  {
   "cell_type": "code",
   "execution_count": 99,
   "metadata": {},
   "outputs": [
    {
     "data": {
      "text/plain": [
       "control    8\n",
       "IPF        8\n",
       "Name: disease.status, dtype: int64"
      ]
     },
     "execution_count": 99,
     "metadata": {},
     "output_type": "execute_result"
    }
   ],
   "source": [
    "ad.obs[ad.obs['study'] == 'morse'][['patient.id', 'disease.status']].drop_duplicates('patient.id')['disease.status'].value_counts()"
   ]
  },
  {
   "cell_type": "code",
   "execution_count": 101,
   "metadata": {},
   "outputs": [
    {
     "name": "stdout",
     "output_type": "stream",
     "text": [
      "MP.markers\n"
     ]
    },
    {
     "name": "stderr",
     "output_type": "stream",
     "text": [
      "/home/icb/ignacio.ibarra/miniconda3/envs/mypython3/lib/python3.7/site-packages/anndata/_core/anndata.py:1094: FutureWarning: is_categorical is deprecated and will be removed in a future version.  Use is_categorical_dtype instead\n",
      "  if not is_categorical(df_full[k]):\n"
     ]
    },
    {
     "name": "stdout",
     "output_type": "stream",
     "text": [
      "MP.others\n"
     ]
    },
    {
     "name": "stderr",
     "output_type": "stream",
     "text": [
      "/home/icb/ignacio.ibarra/miniconda3/envs/mypython3/lib/python3.7/site-packages/anndata/_core/anndata.py:1094: FutureWarning: is_categorical is deprecated and will be removed in a future version.  Use is_categorical_dtype instead\n",
      "  if not is_categorical(df_full[k]):\n"
     ]
    }
   ],
   "source": [
    "for k in ['MP.markers', 'MP.others']:\n",
    "    print(k)\n",
    "    next_marker_genes = marker_genes[k];\n",
    "    sc.tl.score_genes(ad, list(next_marker_genes), use_raw=False, score_name=k + \".score\");"
   ]
  },
  {
   "cell_type": "code",
   "execution_count": 70,
   "metadata": {},
   "outputs": [
    {
     "data": {
      "text/plain": [
       "View of AnnData object with n_obs × n_vars = 17551 × 17656\n",
       "    obs: 'GSM', 'sample.id', 'n_counts', 'log_counts', 'n_genes', 'mt_frac', 'patient.id', 'cell.type', 'study', 'disease.status', 'MP.markers.score', 'MP.others.score', 'MP.all.score', 'nUMI', 'nGene', 'CellType_Category', 'Manuscript_Identity', 'Subclass_Cell_Identity', 'Disease_Identity', 'Subject_Identity', 'Library_Identity', 'groups', 'batch', 'orig.ident', 'nCount_RNA', 'nFeature_RNA', 'viral_counts', 'viral_ratio', 'viral_norm', 'percent.mt', 'number', 'dataset', 'S.Score', 'G2M.Score', 'Phase', 'CC.Difference', 'SR.score1', 'dissoc.score1', 'Label', 'nCount_VIRAL', 'nFeature_VIRAL', 'seurat_clusters', 'RNA_mnn_40_Leiden_res.0.1', 'RNA_mnn_40_Leiden_res.0.2', 'RNA_mnn_40_Leiden_res.0.3', 'RNA_mnn_40_Leiden_res.0.4', 'RNA_mnn_40_Leiden_res.0.5', 'RNA_mnn_40_Leiden_res.0.6', 'RNA_mnn_40_Leiden_res.0.7', 'RNA_mnn_40_Leiden_res.0.8', 'RNA_mnn_40_Leiden_res.0.9', 'RNA_mnn_40_Leiden_res.1', 'RNA_mnn_40_Leiden_res.1.5', 'RNA_mnn_40_Leiden_res.2', 'RNA_mnn_40_Leiden_res.3', 'RNA_mnn_40_Leiden_res.5', 'Celltype', 'patient', 'dpso', 'age', 'sex', 'Celltype_2', 'Timepoint', 'ident', 'mdm.type', 'Unnamed: 0', 'Study', 'Sample Source', 'Sample Name', 'Sample Status', 'Diagnosis', 'COVID-19', 'Tissue Type', 'Cell Population', 'Cell Type', 'leiden', 'No of UMIs', 'No of genes', '% of mito genes', 'Cluster'\n",
       "    var: 'symbol', 'ensembl-0-0-0', 'highly_variable-0-0-0', 'means-0-0-0', 'dispersions-0-0-0', 'dispersions_norm-0-0-0', 'ensembl-1-0-0', 'highly_variable-1-0-0', 'means-1-0-0', 'dispersions-1-0-0', 'dispersions_norm-1-0-0', 'vst.mean-1-0', 'vst.variance-1-0', 'vst.variance.expected-1-0', 'vst.variance.standardized-1-0', 'vst.variable-1-0', 'ensembl-1-0', 'highly_variable-1-0', 'means-1-0', 'dispersions-1-0', 'dispersions_norm-1-0', 'gene_ids-0-1', 'feature_types-0-1', 'n_cells-0-1', 'gene_ids-1-1', 'feature_types-1-1', 'n_cells-1-1', 'gene_ids-10-1', 'feature_types-10-1', 'n_cells-10-1', 'gene_ids-11-1', 'feature_types-11-1', 'n_cells-11-1', 'gene_ids-12-1', 'feature_types-12-1', 'n_cells-12-1', 'gene_ids-13-1', 'feature_types-13-1', 'n_cells-13-1', 'gene_ids-14-1', 'feature_types-14-1', 'n_cells-14-1', 'gene_ids-15-1', 'feature_types-15-1', 'n_cells-15-1', 'gene_ids-16-1', 'feature_types-16-1', 'n_cells-16-1', 'gene_ids-17-1', 'feature_types-17-1', 'n_cells-17-1', 'gene_ids-18-1', 'feature_types-18-1', 'n_cells-18-1', 'gene_ids-19-1', 'feature_types-19-1', 'n_cells-19-1', 'gene_ids-2-1', 'feature_types-2-1', 'n_cells-2-1', 'gene_ids-20-1', 'feature_types-20-1', 'n_cells-20-1', 'gene_ids-21-1', 'feature_types-21-1', 'n_cells-21-1', 'gene_ids-3-1', 'feature_types-3-1', 'n_cells-3-1', 'gene_ids-4-1', 'feature_types-4-1', 'n_cells-4-1', 'gene_ids-5-1', 'feature_types-5-1', 'n_cells-5-1', 'gene_ids-6-1', 'feature_types-6-1', 'n_cells-6-1', 'gene_ids-7-1', 'feature_types-7-1', 'n_cells-7-1', 'gene_ids-8-1', 'feature_types-8-1', 'n_cells-8-1', 'gene_ids-9-1', 'feature_types-9-1', 'n_cells-9-1', 'mito-1', 'ribo-1', 'n_cells_by_counts-1', 'mean_counts-1', 'pct_dropout_by_counts-1', 'total_counts-1', 'highly_variable-1', 'means-1', 'dispersions-1', 'dispersions_norm-1', 'highly_variable', 'hvg.or.marker'\n",
       "    uns: 'neighbors', 'umap'\n",
       "    obsm: 'X_emb', 'X_umap'\n",
       "    layers: 'counts'\n",
       "    obsp: 'connectivities', 'distances'"
      ]
     },
     "execution_count": 70,
     "metadata": {},
     "output_type": "execute_result"
    }
   ],
   "source": [
    "ad[ad.obs['study'] == 'morse',:]"
   ]
  },
  {
   "cell_type": "code",
   "execution_count": 71,
   "metadata": {},
   "outputs": [
    {
     "data": {
      "text/plain": [
       "Macrophage                         74131\n",
       "Macrophage_Alveolar                60551\n",
       "nan                                47864\n",
       "Macrophage_Outlier_B                8748\n",
       "Macrophage_Outlier_C                4226\n",
       "Macrophage_MT-tRNAs                 3759\n",
       "Macrophage_Outlier_F                3498\n",
       "Macrophage_Outlier_A                3485\n",
       "Macrophage_Alveolar_CellCycle_A     3348\n",
       "Macrophage_Alveolar_CellCycle_B     3013\n",
       "Macrophage_CellCycle_B              2632\n",
       "Macrophage_Alveolar_Outlier_B       2570\n",
       "Macrophage_Outlier_HSPs             2415\n",
       "Macrophage_Outlier_D                2190\n",
       "Macrophage_Alveolar_Outlier_A       1382\n",
       "Macrophage_CellCycle_A               886\n",
       "Macrophage_Alveolar_Outlier_D        816\n",
       "Macrophage_Alveolar_Outlier_C        752\n",
       "Macrophage_Outlier_E                 472\n",
       "Macrophage_Alveolar_Outlier_E        268\n",
       "Macrophage_Alveolar_Outlier_F         58\n",
       "Macrophage_CellCycle_MT-tRNAs         22\n",
       "Name: Subclass_Cell_Identity, dtype: int64"
      ]
     },
     "execution_count": 71,
     "metadata": {},
     "output_type": "execute_result"
    }
   ],
   "source": [
    "ad.obs['Subclass_Cell_Identity'].value_counts()"
   ]
  },
  {
   "cell_type": "code",
   "execution_count": 72,
   "metadata": {},
   "outputs": [
    {
     "data": {
      "text/plain": [
       "adams       179222\n",
       "budinger     22810\n",
       "morse        17551\n",
       "BAL           7503\n",
       "Name: study, dtype: int64"
      ]
     },
     "execution_count": 72,
     "metadata": {},
     "output_type": "execute_result"
    }
   ],
   "source": [
    "adata.obs['study'].value_counts()"
   ]
  },
  {
   "cell_type": "code",
   "execution_count": 73,
   "metadata": {},
   "outputs": [
    {
     "data": {
      "text/html": [
       "<div>\n",
       "<style scoped>\n",
       "    .dataframe tbody tr th:only-of-type {\n",
       "        vertical-align: middle;\n",
       "    }\n",
       "\n",
       "    .dataframe tbody tr th {\n",
       "        vertical-align: top;\n",
       "    }\n",
       "\n",
       "    .dataframe thead th {\n",
       "        text-align: right;\n",
       "    }\n",
       "</style>\n",
       "<table border=\"1\" class=\"dataframe\">\n",
       "  <thead>\n",
       "    <tr style=\"text-align: right;\">\n",
       "      <th>disease.status</th>\n",
       "      <th>BAL (NA)</th>\n",
       "      <th>COPD</th>\n",
       "      <th>IPF</th>\n",
       "      <th>control</th>\n",
       "      <th>covid</th>\n",
       "    </tr>\n",
       "    <tr>\n",
       "      <th>study</th>\n",
       "      <th></th>\n",
       "      <th></th>\n",
       "      <th></th>\n",
       "      <th></th>\n",
       "      <th></th>\n",
       "    </tr>\n",
       "  </thead>\n",
       "  <tbody>\n",
       "    <tr>\n",
       "      <th>BAL</th>\n",
       "      <td>7503</td>\n",
       "      <td>0</td>\n",
       "      <td>0</td>\n",
       "      <td>0</td>\n",
       "      <td>0</td>\n",
       "    </tr>\n",
       "    <tr>\n",
       "      <th>adams</th>\n",
       "      <td>0</td>\n",
       "      <td>30159</td>\n",
       "      <td>86002</td>\n",
       "      <td>63061</td>\n",
       "      <td>0</td>\n",
       "    </tr>\n",
       "    <tr>\n",
       "      <th>budinger</th>\n",
       "      <td>0</td>\n",
       "      <td>0</td>\n",
       "      <td>0</td>\n",
       "      <td>0</td>\n",
       "      <td>22810</td>\n",
       "    </tr>\n",
       "    <tr>\n",
       "      <th>morse</th>\n",
       "      <td>0</td>\n",
       "      <td>0</td>\n",
       "      <td>8301</td>\n",
       "      <td>9250</td>\n",
       "      <td>0</td>\n",
       "    </tr>\n",
       "  </tbody>\n",
       "</table>\n",
       "</div>"
      ],
      "text/plain": [
       "disease.status  BAL (NA)   COPD    IPF  control  covid\n",
       "study                                                 \n",
       "BAL                 7503      0      0        0      0\n",
       "adams                  0  30159  86002    63061      0\n",
       "budinger               0      0      0        0  22810\n",
       "morse                  0      0   8301     9250      0"
      ]
     },
     "execution_count": 73,
     "metadata": {},
     "output_type": "execute_result"
    }
   ],
   "source": [
    "ad.obs.groupby(['study', 'disease.status']).size().unstack(fill_value=0)"
   ]
  },
  {
   "cell_type": "code",
   "execution_count": 74,
   "metadata": {},
   "outputs": [],
   "source": [
    "ad.obs['disease.status'] = ad.obs['disease.status'].str.replace('Control', 'control')\n",
    "ad.obs['disease.status'] = np.where(ad.obs['disease.status'].str.contains('nan'), 'BAL', ad.obs['disease.status'])\n",
    "ad.obs['cell.type'] = np.where(ad.obs['cell.type'].str.contains('nan'), ad.obs['Subclass_Cell_Identity'], ad.obs['cell.type'])\n",
    "ad.obs['cell.type'] = np.where(ad.obs['cell.type'].str.contains('nan'), ad.obs['Celltype_2'], ad.obs['cell.type'])"
   ]
  },
  {
   "cell_type": "code",
   "execution_count": 75,
   "metadata": {},
   "outputs": [
    {
     "data": {
      "text/plain": [
       "(227086, 17656)"
      ]
     },
     "execution_count": 75,
     "metadata": {},
     "output_type": "execute_result"
    }
   ],
   "source": [
    "ad.shape"
   ]
  },
  {
   "cell_type": "code",
   "execution_count": 78,
   "metadata": {},
   "outputs": [
    {
     "name": "stdout",
     "output_type": "stream",
     "text": [
      "plotting...\n"
     ]
    }
   ],
   "source": [
    "print('plotting...')\n",
    "rcParams['figure.dpi'] = 110\n",
    "\n",
    "fig, ax = plt.subplots(nrows = 2, ncols = 3, figsize=(18, 10))\n",
    "ax = ax.flatten()\n",
    "\n",
    "sc.pl.umap(ad, color='study', title='study', ax=ax[0], show=False)\n",
    "ax[0].spines['right'].set_visible(False)\n",
    "ax[0].spines['top'].set_visible(False)\n",
    "\n",
    "sc.pl.umap(ad, color='patient.id', title='patient (n=%i)' % len(set(ad.obs['patient.id'])),\n",
    "           ax=ax[1], show=False)\n",
    "ax[1].spines['right'].set_visible(False)\n",
    "ax[1].spines['top'].set_visible(False)\n",
    "ax[1].get_legend().remove()\n",
    "plt.xlabel('')\n",
    "plt.ylabel('')\n",
    "\n",
    "sc.pl.umap(ad, color='cell.type', title='cell type', ax=ax[2], show=False)\n",
    "ax[2].spines['right'].set_visible(False)\n",
    "ax[2].spines['top'].set_visible(False)\n",
    "plt.xlabel('')\n",
    "plt.ylabel('')\n",
    "\n",
    "sc.pl.umap(ad, color='MP.markers.score' if 'study' in adata.obs else batch, title='score - 20 marker genes', ax=ax[3], show=False)\n",
    "ax[3].spines['right'].set_visible(False)\n",
    "ax[3].spines['top'].set_visible(False)\n",
    "plt.xlabel('')\n",
    "plt.ylabel('')\n",
    "\n",
    "sc.pl.umap(ad, color='MP.others.score', title='score - 9 marker genes', ax=ax[4], show=False)\n",
    "ax[4].spines['right'].set_visible(False)\n",
    "ax[4].spines['top'].set_visible(False)\n",
    "plt.xlabel('')\n",
    "plt.ylabel('')\n",
    "\n",
    "sc.pl.umap(ad, color='disease.status', title='disease.status', ax=ax[5], show=False)\n",
    "ax[5].spines['right'].set_visible(False)\n",
    "ax[5].spines['top'].set_visible(False)\n",
    "plt.xlabel('')\n",
    "plt.ylabel('')\n",
    "\n",
    "plt.savefig('data/figures/umap_scvi_integrated_revision.pdf')\n",
    "plt.close()"
   ]
  },
  {
   "cell_type": "code",
   "execution_count": 81,
   "metadata": {},
   "outputs": [
    {
     "data": {
      "text/plain": [
       "'/storage/groups/ml01/workspace/ignacio.ibarra/theislab/saliba_macrophages/notebooks/data/figures/umap_scvi_integrated_revision.pdf'"
      ]
     },
     "execution_count": 81,
     "metadata": {},
     "output_type": "execute_result"
    }
   ],
   "source": [
    "os.path.abspath('data/figures/umap_scvi_integrated_revision.pdf')"
   ]
  },
  {
   "cell_type": "code",
   "execution_count": 82,
   "metadata": {},
   "outputs": [
    {
     "name": "stdout",
     "output_type": "stream",
     "text": [
      "done...\n"
     ]
    }
   ],
   "source": [
    "print('done...')"
   ]
  },
  {
   "cell_type": "code",
   "execution_count": 83,
   "metadata": {},
   "outputs": [
    {
     "name": "stdout",
     "output_type": "stream",
     "text": [
      "here...\n"
     ]
    }
   ],
   "source": [
    "print('here...')"
   ]
  },
  {
   "cell_type": "code",
   "execution_count": null,
   "metadata": {},
   "outputs": [],
   "source": []
  },
  {
   "cell_type": "code",
   "execution_count": 86,
   "metadata": {},
   "outputs": [
    {
     "name": "stdout",
     "output_type": "stream",
     "text": [
      "(227086, 17656)\n",
      "adams       179222\n",
      "budinger     22810\n",
      "morse        17551\n",
      "BAL           7503\n",
      "Name: study, dtype: int64\n"
     ]
    },
    {
     "name": "stderr",
     "output_type": "stream",
     "text": [
      "/home/icb/ignacio.ibarra/miniconda3/envs/mypython3/lib/python3.7/site-packages/ipykernel_launcher.py:5: FutureWarning: This location for 'connectivities' is deprecated. It has been moved to .obsp[connectivities], and will not be accesible here in a future version of anndata.\n",
      "  \"\"\"\n"
     ]
    },
    {
     "ename": "IndexError",
     "evalue": "too many indices for array: array is 1-dimensional, but 2 were indexed",
     "output_type": "error",
     "traceback": [
      "\u001b[0;31m---------------------------------------------------------------------------\u001b[0m",
      "\u001b[0;31mIndexError\u001b[0m                                Traceback (most recent call last)",
      "\u001b[0;32m<ipython-input-86-df9d92fa0a2d>\u001b[0m in \u001b[0;36m<module>\u001b[0;34m\u001b[0m\n\u001b[1;32m     24\u001b[0m \u001b[0;34m\u001b[0m\u001b[0m\n\u001b[1;32m     25\u001b[0m     \u001b[0medges\u001b[0m \u001b[0;34m=\u001b[0m \u001b[0mconn_array\u001b[0m\u001b[0;34m[\u001b[0m\u001b[0mx\u001b[0m\u001b[0;34m,\u001b[0m \u001b[0my\u001b[0m\u001b[0;34m]\u001b[0m\u001b[0;34m\u001b[0m\u001b[0;34m\u001b[0m\u001b[0m\n\u001b[0;32m---> 26\u001b[0;31m     \u001b[0mx_nodes\u001b[0m \u001b[0;34m=\u001b[0m \u001b[0mx\u001b[0m\u001b[0;34m[\u001b[0m\u001b[0medges\u001b[0m \u001b[0;34m>\u001b[0m \u001b[0;36m0\u001b[0m\u001b[0;34m]\u001b[0m\u001b[0;34m\u001b[0m\u001b[0;34m\u001b[0m\u001b[0m\n\u001b[0m\u001b[1;32m     27\u001b[0m     \u001b[0my_nodes\u001b[0m \u001b[0;34m=\u001b[0m \u001b[0my\u001b[0m\u001b[0;34m[\u001b[0m\u001b[0medges\u001b[0m \u001b[0;34m>\u001b[0m \u001b[0;36m0\u001b[0m\u001b[0;34m]\u001b[0m\u001b[0;34m\u001b[0m\u001b[0;34m\u001b[0m\u001b[0m\n\u001b[1;32m     28\u001b[0m     \u001b[0mn_nodes_x\u001b[0m\u001b[0;34m,\u001b[0m \u001b[0mn_nodes_y\u001b[0m \u001b[0;34m=\u001b[0m \u001b[0mx_nodes\u001b[0m\u001b[0;34m.\u001b[0m\u001b[0mshape\u001b[0m\u001b[0;34m[\u001b[0m\u001b[0;36m0\u001b[0m\u001b[0;34m]\u001b[0m\u001b[0;34m,\u001b[0m \u001b[0my_nodes\u001b[0m\u001b[0;34m.\u001b[0m\u001b[0mshape\u001b[0m\u001b[0;34m[\u001b[0m\u001b[0;36m0\u001b[0m\u001b[0;34m]\u001b[0m\u001b[0;34m\u001b[0m\u001b[0;34m\u001b[0m\u001b[0m\n",
      "\u001b[0;31mIndexError\u001b[0m: too many indices for array: array is 1-dimensional, but 2 were indexed"
     ]
    }
   ],
   "source": [
    "from itertools import combinations\n",
    "\n",
    "ad_sel = subset_anndata(ad, ad.shape[0])\n",
    "disease = ad_sel.obs['disease.status']\n",
    "conn = ad_sel.uns['neighbors']['connectivities']\n",
    "\n",
    "\n",
    "masks = []\n",
    "obs = []\n",
    "masks = []\n",
    "positions = np.arange(ad_sel.shape[0]) # .reshape(w, h)\n",
    "# conn_array = conn.toarray() if (type(conn) != np.ndarray) else conn\n",
    "conn_array = conn # conn.toarray() if (type(conn) != np.ndarray) else conn\n",
    "\n",
    "pos_by_pair = {}\n",
    "\n",
    "for i, j in combinations(list(set(disease))[::-1], r=2):\n",
    "    x = positions[disease == i]\n",
    "    y = positions[disease == j]\n",
    "\n",
    "    \n",
    "    xy = cartesian([x, y])\n",
    "    x, y = xy[:, 0].flatten(), xy[:, 1].flatten()\n",
    "\n",
    "    edges = conn_array[x, y]\n",
    "    x_nodes = x[edges > 0]\n",
    "    y_nodes = y[edges > 0]\n",
    "    n_nodes_x, n_nodes_y = x_nodes.shape[0], y_nodes.shape[0]\n",
    "    nx_uniq, ny_uniq = np.unique(x_nodes).shape[0], np.unique(y_nodes).shape[0]\n",
    "    \n",
    "    k = i + ':' + j\n",
    "    if not k in pos_by_pair:\n",
    "        pos_by_pair[i + ':' + j] = {}\n",
    "    pos_by_pair[i + ':' + j][i] = np.unique(x_nodes)\n",
    "    pos_by_pair[i + ':' + j][j] = np.unique(y_nodes)\n",
    "\n",
    "    \n",
    "    obs.append([i, j, nx_uniq, ny_uniq, nx_uniq + ny_uniq])"
   ]
  },
  {
   "cell_type": "code",
   "execution_count": null,
   "metadata": {},
   "outputs": [],
   "source": [
    "df = pd.DataFrame(obs, columns=['a', 'b', 'n.a', 'n.b', 'n.total'])\n",
    "df.sort_values('n.total', ascending=False)"
   ]
  },
  {
   "cell_type": "code",
   "execution_count": null,
   "metadata": {},
   "outputs": [],
   "source": [
    "bal_ipf = ad_sel[pos_by_pair['BAL:IPF']['BAL'],:]\n",
    "bal_ipf.obs['selection'] = 'BAL:IPF'\n",
    "bal_ctrl = ad_sel[pos_by_pair['BAL:control']['BAL'],:]\n",
    "bal_ctrl.obs['selection'] = 'BAL:CTRL'\n",
    "print(bal_sel.obs['study'].value_counts())\n",
    "print(bal_ctrl.obs['study'].value_counts())\n",
    "\n",
    "bal_all = bal_ipf.concatenate(bal_ctrl)"
   ]
  },
  {
   "cell_type": "markdown",
   "metadata": {},
   "source": [
    "### Plot whether the expression of gene markers for IPF+BAL increase after subsetting for IPFs"
   ]
  },
  {
   "cell_type": "code",
   "execution_count": null,
   "metadata": {},
   "outputs": [],
   "source": [
    "bal_all.obs"
   ]
  }
 ],
 "metadata": {
  "kernelspec": {
   "display_name": "Python [conda env:mypython3] *",
   "language": "python",
   "name": "conda-env-mypython3-py"
  },
  "language_info": {
   "codemirror_mode": {
    "name": "ipython",
    "version": 3
   },
   "file_extension": ".py",
   "mimetype": "text/x-python",
   "name": "python",
   "nbconvert_exporter": "python",
   "pygments_lexer": "ipython3",
   "version": "3.7.8"
  }
 },
 "nbformat": 4,
 "nbformat_minor": 4
}
