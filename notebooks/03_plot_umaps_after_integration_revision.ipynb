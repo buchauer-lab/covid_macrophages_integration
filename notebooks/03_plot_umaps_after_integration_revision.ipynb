{
 "cells": [
  {
   "cell_type": "code",
   "execution_count": 1,
   "metadata": {},
   "outputs": [],
   "source": [
    "import scanpy as sc\n",
    "\n",
    "# Fix export PDF as text issue\n",
    "import matplotlib\n",
    "from matplotlib import rcParams\n",
    "import matplotlib.pyplot as plt\n",
    "matplotlib.rcParams['pdf.fonttype'] = 42\n",
    "matplotlib.rcParams['ps.fonttype'] = 42"
   ]
  },
  {
   "cell_type": "code",
   "execution_count": 2,
   "metadata": {},
   "outputs": [],
   "source": [
    "%reload_ext autoreload\n",
    "%autoreload 2\n"
   ]
  },
  {
   "cell_type": "code",
   "execution_count": 3,
   "metadata": {},
   "outputs": [
    {
     "name": "stdout",
     "output_type": "stream",
     "text": [
      "/mnt/znas/icb_zstore01/groups/ml01/workspace/ignacio.ibarra/theislab/saliba_macrophages/notebooks\n"
     ]
    }
   ],
   "source": [
    "cd .."
   ]
  },
  {
   "cell_type": "code",
   "execution_count": 4,
   "metadata": {},
   "outputs": [],
   "source": [
    "from utils import *"
   ]
  },
  {
   "cell_type": "code",
   "execution_count": 5,
   "metadata": {},
   "outputs": [
    {
     "name": "stdout",
     "output_type": "stream",
     "text": [
      "/mnt/znas/icb_zstore01/groups/ml01/workspace/ignacio.ibarra/theislab/saliba_macrophages/notebooks/revision\n"
     ]
    }
   ],
   "source": [
    "cd revision"
   ]
  },
  {
   "cell_type": "code",
   "execution_count": 6,
   "metadata": {},
   "outputs": [],
   "source": [
    "ad = sc.read_h5ad('morse_n_adams_n_bal_scvi_patient.id_138341_400_revision.h5da')"
   ]
  },
  {
   "cell_type": "markdown",
   "metadata": {},
   "source": [
    "Based on new annotations provided by Oliver, we update the mdm.type annotation"
   ]
  },
  {
   "cell_type": "code",
   "execution_count": 7,
   "metadata": {},
   "outputs": [
    {
     "data": {
      "text/plain": [
       "Case 1    12258\n",
       "PMB 1      5309\n",
       "PMB 2      5243\n",
       "001C          0\n",
       "238CO         0\n",
       "          ...  \n",
       "137CO         0\n",
       "137C          0\n",
       "135I          0\n",
       "133C          0\n",
       "SC156         0\n",
       "Name: patient.id, Length: 104, dtype: int64"
      ]
     },
     "execution_count": 7,
     "metadata": {},
     "output_type": "execute_result"
    }
   ],
   "source": [
    "ad.obs[ad.obs['study'] == 'budinger']['patient.id'].value_counts()"
   ]
  },
  {
   "cell_type": "code",
   "execution_count": 8,
   "metadata": {},
   "outputs": [],
   "source": [
    "# check the cell proportions"
   ]
  },
  {
   "cell_type": "code",
   "execution_count": 9,
   "metadata": {},
   "outputs": [
    {
     "data": {
      "text/plain": [
       "COPD        0.333333\n",
       "IPF         0.333333\n",
       "control     0.333333\n",
       "BAL (NA)    0.000000\n",
       "covid       0.000000\n",
       "Name: disease.status, dtype: float64"
      ]
     },
     "execution_count": 9,
     "metadata": {},
     "output_type": "execute_result"
    }
   ],
   "source": [
    "counts_adams = ad.obs[ad.obs['study'] == 'adams']['disease.status'].value_counts()\n",
    "counts_adams / counts_adams.sum()"
   ]
  },
  {
   "cell_type": "code",
   "execution_count": 10,
   "metadata": {},
   "outputs": [
    {
     "name": "stdout",
     "output_type": "stream",
     "text": [
      "COPD        30159\n",
      "IPF         30159\n",
      "control     30159\n",
      "BAL (NA)        0\n",
      "covid           0\n",
      "Name: disease.status, dtype: int64\n",
      "COPD        0.333333\n",
      "IPF         0.333333\n",
      "control     0.333333\n",
      "BAL (NA)    0.000000\n",
      "covid       0.000000\n",
      "Name: disease.status, dtype: float64\n"
     ]
    }
   ],
   "source": [
    "print(counts_adams)\n",
    "print(counts_adams / counts_adams.sum())"
   ]
  },
  {
   "cell_type": "code",
   "execution_count": 11,
   "metadata": {},
   "outputs": [
    {
     "data": {
      "text/plain": [
       "control     0.527035\n",
       "IPF         0.472965\n",
       "BAL (NA)    0.000000\n",
       "COPD        0.000000\n",
       "covid       0.000000\n",
       "Name: disease.status, dtype: float64"
      ]
     },
     "execution_count": 11,
     "metadata": {},
     "output_type": "execute_result"
    }
   ],
   "source": [
    "counts_morse = ad.obs[ad.obs['study'] == 'morse']['disease.status'].value_counts()\n",
    "counts_morse / sum(counts_morse)"
   ]
  },
  {
   "cell_type": "code",
   "execution_count": 12,
   "metadata": {},
   "outputs": [
    {
     "name": "stdout",
     "output_type": "stream",
     "text": [
      "control     9250\n",
      "IPF         8301\n",
      "BAL (NA)       0\n",
      "COPD           0\n",
      "covid          0\n",
      "Name: disease.status, dtype: int64\n",
      "control     0.527035\n",
      "IPF         0.472965\n",
      "BAL (NA)    0.000000\n",
      "COPD        0.000000\n",
      "covid       0.000000\n",
      "Name: disease.status, dtype: float64\n"
     ]
    }
   ],
   "source": [
    "print(counts_morse)\n",
    "print(counts_morse / sum(counts_morse))"
   ]
  },
  {
   "cell_type": "code",
   "execution_count": 13,
   "metadata": {},
   "outputs": [
    {
     "data": {
      "text/plain": [
       "control     9250\n",
       "IPF         8301\n",
       "BAL (NA)       0\n",
       "COPD           0\n",
       "covid          0\n",
       "Name: disease.status, dtype: int64"
      ]
     },
     "execution_count": 13,
     "metadata": {},
     "output_type": "execute_result"
    }
   ],
   "source": [
    "counts_morse"
   ]
  },
  {
   "cell_type": "code",
   "execution_count": 14,
   "metadata": {},
   "outputs": [
    {
     "data": {
      "text/plain": [
       "BAL (NA)    1.0\n",
       "COPD        0.0\n",
       "IPF         0.0\n",
       "control     0.0\n",
       "covid       0.0\n",
       "Name: disease.status, dtype: float64"
      ]
     },
     "execution_count": 14,
     "metadata": {},
     "output_type": "execute_result"
    }
   ],
   "source": [
    "counts_bal = ad.obs[ad.obs['study'] == 'BAL']['disease.status'].value_counts()\n",
    "counts_bal / sum(counts_bal)"
   ]
  },
  {
   "cell_type": "code",
   "execution_count": 15,
   "metadata": {},
   "outputs": [
    {
     "data": {
      "text/plain": [
       "control     0.527035\n",
       "IPF         0.472965\n",
       "BAL (NA)    0.000000\n",
       "COPD        0.000000\n",
       "covid       0.000000\n",
       "Name: disease.status, dtype: float64"
      ]
     },
     "execution_count": 15,
     "metadata": {},
     "output_type": "execute_result"
    }
   ],
   "source": [
    "counts_morse = ad.obs[ad.obs['study'] == 'morse']['disease.status'].value_counts()\n",
    "counts_morse / sum(counts_morse)"
   ]
  },
  {
   "cell_type": "code",
   "execution_count": 16,
   "metadata": {},
   "outputs": [
    {
     "data": {
      "text/plain": [
       "adams       90477\n",
       "budinger    22810\n",
       "morse       17551\n",
       "BAL          7503\n",
       "Name: study, dtype: int64"
      ]
     },
     "execution_count": 16,
     "metadata": {},
     "output_type": "execute_result"
    }
   ],
   "source": [
    "ad.obs['study'].value_counts()"
   ]
  },
  {
   "cell_type": "code",
   "execution_count": 17,
   "metadata": {},
   "outputs": [
    {
     "data": {
      "text/plain": [
       "(138341, 17656)"
      ]
     },
     "execution_count": 17,
     "metadata": {},
     "output_type": "execute_result"
    }
   ],
   "source": [
    "ad.shape"
   ]
  },
  {
   "cell_type": "code",
   "execution_count": 18,
   "metadata": {},
   "outputs": [
    {
     "name": "stdout",
     "output_type": "stream",
     "text": [
      "here...\n",
      "2021-07-08 19:28:41.697232\n"
     ]
    }
   ],
   "source": [
    "print('here...')\n",
    "import datetime\n",
    "print(datetime.datetime.now())"
   ]
  },
  {
   "cell_type": "markdown",
   "metadata": {},
   "source": [
    "### add the mdm annotation"
   ]
  },
  {
   "cell_type": "code",
   "execution_count": 19,
   "metadata": {},
   "outputs": [
    {
     "name": "stdout",
     "output_type": "stream",
     "text": [
      "bal\n"
     ]
    },
    {
     "name": "stderr",
     "output_type": "stream",
     "text": [
      "/home/icb/ignacio.ibarra/miniconda3/envs/mypython3/lib/python3.7/site-packages/pandas/core/arrays/categorical.py:2487: FutureWarning: The `inplace` parameter in pandas.Categorical.remove_unused_categories is deprecated and will be removed in a future version.\n",
      "  res = method(*args, **kwargs)\n",
      "Variable names are not unique. To make them unique, call `.var_names_make_unique`.\n",
      "Variable names are not unique. To make them unique, call `.var_names_make_unique`.\n",
      "/home/icb/ignacio.ibarra/miniconda3/envs/mypython3/lib/python3.7/site-packages/pandas/core/arrays/categorical.py:2487: FutureWarning: The `inplace` parameter in pandas.Categorical.remove_unused_categories is deprecated and will be removed in a future version.\n",
      "  res = method(*args, **kwargs)\n",
      "/home/icb/ignacio.ibarra/miniconda3/envs/mypython3/lib/python3.7/site-packages/pandas/core/arrays/categorical.py:2487: FutureWarning: The `inplace` parameter in pandas.Categorical.remove_unused_categories is deprecated and will be removed in a future version.\n",
      "  res = method(*args, **kwargs)\n",
      "/home/icb/ignacio.ibarra/miniconda3/envs/mypython3/lib/python3.7/site-packages/pandas/core/arrays/categorical.py:2487: FutureWarning: The `inplace` parameter in pandas.Categorical.remove_unused_categories is deprecated and will be removed in a future version.\n",
      "  res = method(*args, **kwargs)\n",
      "Trying to set attribute `.obs` of view, copying.\n"
     ]
    },
    {
     "name": "stdout",
     "output_type": "stream",
     "text": [
      "adding annotation from bal mdm...\n",
      "scoring genes...\n",
      "scoring MP.markers 20\n"
     ]
    },
    {
     "name": "stderr",
     "output_type": "stream",
     "text": [
      "/home/icb/ignacio.ibarra/miniconda3/envs/mypython3/lib/python3.7/site-packages/pandas/core/arrays/categorical.py:2487: FutureWarning: The `inplace` parameter in pandas.Categorical.remove_unused_categories is deprecated and will be removed in a future version.\n",
      "  res = method(*args, **kwargs)\n"
     ]
    },
    {
     "name": "stdout",
     "output_type": "stream",
     "text": [
      "scoring MP.others 10\n"
     ]
    },
    {
     "name": "stderr",
     "output_type": "stream",
     "text": [
      "/home/icb/ignacio.ibarra/miniconda3/envs/mypython3/lib/python3.7/site-packages/pandas/core/arrays/categorical.py:2487: FutureWarning: The `inplace` parameter in pandas.Categorical.remove_unused_categories is deprecated and will be removed in a future version.\n",
      "  res = method(*args, **kwargs)\n"
     ]
    },
    {
     "name": "stdout",
     "output_type": "stream",
     "text": [
      "scoring MP.all 31\n"
     ]
    },
    {
     "name": "stderr",
     "output_type": "stream",
     "text": [
      "/home/icb/ignacio.ibarra/miniconda3/envs/mypython3/lib/python3.7/site-packages/pandas/core/arrays/categorical.py:2487: FutureWarning: The `inplace` parameter in pandas.Categorical.remove_unused_categories is deprecated and will be removed in a future version.\n",
      "  res = method(*args, **kwargs)\n"
     ]
    }
   ],
   "source": [
    "bal = get_bal()"
   ]
  },
  {
   "cell_type": "code",
   "execution_count": 20,
   "metadata": {},
   "outputs": [
    {
     "data": {
      "text/plain": [
       "Index(['AAACCCACAAGCAATA-2', 'AAAGAACGTGTCCGTG-2', 'AAAGGGCCAAGCGCAA-2',\n",
       "       'AAAGGGCCAGCGAGTA-2', 'AAAGGTACACGGTGTC-2', 'AAAGTCCCAAGGCCTC-2',\n",
       "       'AAAGTCCCACATACTG-2', 'AAAGTCCTCCTCAGGG-2', 'AAAGTCCTCTTGAGCA-2',\n",
       "       'AAAGTGAGTTACCCTC-2',\n",
       "       ...\n",
       "       'TTCCTAAAGTGCTCAT-8', 'TTCCTCTCATCAGTCA-8', 'TTGATGGAGTTGCTGT-8',\n",
       "       'TTGCCTGAGCAACAAT-8', 'TTGGATGTCAACCGAT-8', 'TTGGGATCAGCTACTA-8',\n",
       "       'TTTGACTAGGTTCTTG-8', 'TTTGGTTCAAGTGCTT-8', 'TTTGTTGCAATGAGCG-8',\n",
       "       'TTTGTTGGTAGTAAGT-8'],\n",
       "      dtype='object', length=7503)"
      ]
     },
     "execution_count": 20,
     "metadata": {},
     "output_type": "execute_result"
    }
   ],
   "source": [
    "bal.obs.index"
   ]
  },
  {
   "cell_type": "code",
   "execution_count": 21,
   "metadata": {},
   "outputs": [
    {
     "data": {
      "text/plain": [
       "MDM 2        2006\n",
       "MDM 3B       1518\n",
       "MDM 3A       1426\n",
       "MDM 1        1023\n",
       "AM 2          929\n",
       "AM 1          168\n",
       "Undefined      75\n",
       "Name: mdm.type, dtype: int64"
      ]
     },
     "execution_count": 21,
     "metadata": {},
     "output_type": "execute_result"
    }
   ],
   "source": [
    "bal_mdm = sc.read_h5ad('data/bal/bal_mdm.h5ad')\n",
    "bal.obs['mdm.type'] = bal.obs.index.map(bal_mdm.obs.Cluster.to_dict())\n",
    "bal.obs['mdm.type'].value_counts()"
   ]
  },
  {
   "cell_type": "code",
   "execution_count": 22,
   "metadata": {},
   "outputs": [
    {
     "data": {
      "text/plain": [
       "2 Mono/Mp          3002\n",
       "3 SPP1/LGMN-Mp     1274\n",
       "5 INHBA-AMp        1064\n",
       "1 FCN1-Mono        1027\n",
       "4 SPP1/TREM2-Mp     866\n",
       "6 Prolif. AMp       207\n",
       "Low quality         148\n",
       "Name: x, dtype: int64"
      ]
     },
     "execution_count": 22,
     "metadata": {},
     "output_type": "execute_result"
    }
   ],
   "source": [
    "# here we update the annotation based on labels that Oliver provided on 03.15.2021\n",
    "annot_new = pd.read_csv('BAL-Mac_labels.csv', index_col=0)\n",
    "annot_new['found'] = annot_new.index.isin(bal.obs.index)\n",
    "\n",
    "bal.obs['mdm.type'] = bal.obs.index.map(annot_new['x'].to_dict())\n",
    "annot_new['x'].value_counts()"
   ]
  },
  {
   "cell_type": "code",
   "execution_count": 23,
   "metadata": {},
   "outputs": [],
   "source": [
    "budinger = ad[ad.obs['study'] == 'budinger',:]"
   ]
  },
  {
   "cell_type": "code",
   "execution_count": 24,
   "metadata": {},
   "outputs": [
    {
     "data": {
      "text/plain": [
       "Case 1    12258\n",
       "PMB 1      5309\n",
       "PMB 2      5243\n",
       "Name: patient.id, dtype: int64"
      ]
     },
     "execution_count": 24,
     "metadata": {},
     "output_type": "execute_result"
    }
   ],
   "source": [
    "budinger.obs['patient.id'].value_counts()"
   ]
  },
  {
   "cell_type": "code",
   "execution_count": 25,
   "metadata": {},
   "outputs": [
    {
     "data": {
      "text/plain": [
       "Case 1    12258\n",
       "PMB 1      5309\n",
       "PMB 2      5243\n",
       "001C          0\n",
       "238CO         0\n",
       "          ...  \n",
       "153CO         0\n",
       "152CO         0\n",
       "145I          0\n",
       "138I          0\n",
       "137CO         0\n",
       "Name: patient.id, Length: 100, dtype: int64"
      ]
     },
     "execution_count": 25,
     "metadata": {},
     "output_type": "execute_result"
    }
   ],
   "source": [
    "ad.obs[ad.obs['study'] == 'budinger']['patient.id'].value_counts().head(100)"
   ]
  },
  {
   "cell_type": "code",
   "execution_count": 26,
   "metadata": {},
   "outputs": [
    {
     "data": {
      "text/plain": [
       "2 Mono/Mp          2951\n",
       "3 SPP1/LGMN-Mp     1190\n",
       "1 FCN1-Mono         992\n",
       "5 INHBA-AMp         916\n",
       "4 SPP1/TREM2-Mp     819\n",
       "6 Prolif. AMp       175\n",
       "Low quality         102\n",
       "Name: mdm.type, dtype: int64"
      ]
     },
     "execution_count": 26,
     "metadata": {},
     "output_type": "execute_result"
    }
   ],
   "source": [
    "bal.obs['mdm.type'].value_counts()"
   ]
  },
  {
   "cell_type": "code",
   "execution_count": 27,
   "metadata": {},
   "outputs": [
    {
     "data": {
      "text/plain": [
       "array([ 443, 7145])"
      ]
     },
     "execution_count": 27,
     "metadata": {},
     "output_type": "execute_result"
    }
   ],
   "source": [
    "np.bincount(annot_new.index.isin(bal.obs.index))"
   ]
  },
  {
   "cell_type": "code",
   "execution_count": 28,
   "metadata": {},
   "outputs": [
    {
     "data": {
      "text/plain": [
       "(7503, 27007)"
      ]
     },
     "execution_count": 28,
     "metadata": {},
     "output_type": "execute_result"
    }
   ],
   "source": [
    "bal.shape"
   ]
  },
  {
   "cell_type": "code",
   "execution_count": 29,
   "metadata": {},
   "outputs": [
    {
     "data": {
      "text/plain": [
       "2 Mono/Mp          2951\n",
       "3 SPP1/LGMN-Mp     1190\n",
       "1 FCN1-Mono         992\n",
       "5 INHBA-AMp         916\n",
       "4 SPP1/TREM2-Mp     819\n",
       "Others (COVID)      358\n",
       "6 Prolif. AMp       175\n",
       "Low quality         102\n",
       "Name: mdm.type, dtype: int64"
      ]
     },
     "execution_count": 29,
     "metadata": {},
     "output_type": "execute_result"
    }
   ],
   "source": [
    "bal.obs['mdm.type'] = np.where(pd.isnull(bal.obs['mdm.type']), 'Others (COVID)', bal.obs['mdm.type'])\n",
    "bal.obs['mdm.type'].value_counts()\n"
   ]
  },
  {
   "cell_type": "code",
   "execution_count": 30,
   "metadata": {},
   "outputs": [
    {
     "data": {
      "text/plain": [
       "Index(['AAACCCACAAGCAATA-2-1-0-0-0-0', 'AAAGAACGTGTCCGTG-2-1-0-0-0-0',\n",
       "       'AAAGGGCCAAGCGCAA-2-1-0-0-0-0', 'AAAGGGCCAGCGAGTA-2-1-0-0-0-0',\n",
       "       'AAAGGTACACGGTGTC-2-1-0-0-0-0', 'AAAGTCCCAAGGCCTC-2-1-0-0-0-0',\n",
       "       'AAAGTCCCACATACTG-2-1-0-0-0-0', 'AAAGTCCTCCTCAGGG-2-1-0-0-0-0',\n",
       "       'AAAGTCCTCTTGAGCA-2-1-0-0-0-0', 'AAAGTGAGTTACCCTC-2-1-0-0-0-0',\n",
       "       ...\n",
       "       'TTCCTAAAGTGCTCAT-8-1-0-0-0-0', 'TTCCTCTCATCAGTCA-8-1-0-0-0-0',\n",
       "       'TTGATGGAGTTGCTGT-8-1-0-0-0-0', 'TTGCCTGAGCAACAAT-8-1-0-0-0-0',\n",
       "       'TTGGATGTCAACCGAT-8-1-0-0-0-0', 'TTGGGATCAGCTACTA-8-1-0-0-0-0',\n",
       "       'TTTGACTAGGTTCTTG-8-1-0-0-0-0', 'TTTGGTTCAAGTGCTT-8-1-0-0-0-0',\n",
       "       'TTTGTTGCAATGAGCG-8-1-0-0-0-0', 'TTTGTTGGTAGTAAGT-8-1-0-0-0-0'],\n",
       "      dtype='object', length=7503)"
      ]
     },
     "execution_count": 30,
     "metadata": {},
     "output_type": "execute_result"
    }
   ],
   "source": [
    "ad.obs[ad.obs['study'] == 'BAL'].index"
   ]
  },
  {
   "cell_type": "code",
   "execution_count": 31,
   "metadata": {},
   "outputs": [],
   "source": [
    "ad.obs['mdm.type'] = np.where(ad.obs['study'] == 'BAL', ad.obs.index.str[:-10].map(bal.obs['mdm.type'].to_dict()), 'Others (COVID)')\n",
    "ad.obs['mdm.type'] = np.where(ad.obs['study'] != 'BAL', 'Others (A/M/B)', ad.obs['mdm.type'])\n",
    "# bal.obs['mdm.type'] = np.where(pd.isnull(bal.obs['mdm.type']), 'Others (COVID)', bal.obs['mdm.type'])\n",
    "# ad.obs['mdm.type'] = np.where(ad.obs['study'] == 'BAL', ad.obs.index.str[:-4].map(bal.obs['mdm.type'].to_dict()), 'Others (Adams/Morse)')"
   ]
  },
  {
   "cell_type": "code",
   "execution_count": 32,
   "metadata": {},
   "outputs": [
    {
     "data": {
      "text/plain": [
       "Others (A/M/B)     130838\n",
       "2 Mono/Mp            2951\n",
       "3 SPP1/LGMN-Mp       1190\n",
       "1 FCN1-Mono           992\n",
       "5 INHBA-AMp           916\n",
       "4 SPP1/TREM2-Mp       819\n",
       "Others (COVID)        358\n",
       "6 Prolif. AMp         175\n",
       "Low quality           102\n",
       "Name: mdm.type, dtype: int64"
      ]
     },
     "execution_count": 32,
     "metadata": {},
     "output_type": "execute_result"
    }
   ],
   "source": [
    "ad.obs['mdm.type'].value_counts()"
   ]
  },
  {
   "cell_type": "markdown",
   "metadata": {},
   "source": [
    "### Plot UMAPs"
   ]
  },
  {
   "cell_type": "code",
   "execution_count": 33,
   "metadata": {},
   "outputs": [],
   "source": [
    "import scanpy as sc\n",
    "sc.set_figure_params(facecolor='white', vector_friendly=True)"
   ]
  },
  {
   "cell_type": "code",
   "execution_count": 34,
   "metadata": {},
   "outputs": [
    {
     "name": "stderr",
     "output_type": "stream",
     "text": [
      "... storing 'mdm.type' as categorical\n"
     ]
    },
    {
     "name": "stdout",
     "output_type": "stream",
     "text": [
      "plotting...\n",
      "1\n",
      "2\n",
      "3\n",
      "4\n",
      "5\n",
      "6\n"
     ]
    }
   ],
   "source": [
    "print('plotting...')\n",
    "rcParams['figure.dpi'] = 110\n",
    "\n",
    "fig, ax = plt.subplots(nrows = 2, ncols = 3, figsize=(18, 10))\n",
    "ax = ax.flatten()\n",
    "\n",
    "print(1)\n",
    "sc.pl.umap(ad, color='study', title='study', ax=ax[0], show=False)\n",
    "ax[0].spines['right'].set_visible(False)\n",
    "ax[0].spines['top'].set_visible(False)\n",
    "\n",
    "print(2)\n",
    "sc.pl.umap(ad, color='patient.id', title='patient (n=%i)' % len(set(ad.obs['patient.id'])),\n",
    "           ax=ax[1], show=False)\n",
    "ax[1].spines['right'].set_visible(False)\n",
    "ax[1].spines['top'].set_visible(False)\n",
    "ax[1].get_legend().remove()\n",
    "plt.xlabel('')\n",
    "plt.ylabel('')\n",
    "\n",
    "print(3)\n",
    "sc.pl.umap(ad, color='cell.type', title='cell type', ax=ax[2], show=False)\n",
    "ax[2].spines['right'].set_visible(False)\n",
    "ax[2].spines['top'].set_visible(False)\n",
    "plt.xlabel('')\n",
    "plt.ylabel('')\n",
    "\n",
    "print(4)\n",
    "sc.pl.umap(ad, color='MP.markers.score' if 'study' in ad.obs else batch, title='score - 20 marker genes', ax=ax[3], show=False)\n",
    "ax[3].spines['right'].set_visible(False)\n",
    "ax[3].spines['top'].set_visible(False)\n",
    "plt.xlabel('')\n",
    "plt.ylabel('')\n",
    "\n",
    "print(5)\n",
    "sc.pl.umap(ad, color='MP.others.score', title='score - 9 marker genes', ax=ax[4], show=False)\n",
    "ax[4].spines['right'].set_visible(False)\n",
    "ax[4].spines['top'].set_visible(False)\n",
    "plt.xlabel('')\n",
    "plt.ylabel('')\n",
    "\n",
    "print(6)\n",
    "sc.pl.umap(ad, color='disease.status', title='disease.status', ax=ax[5], show=False)\n",
    "ax[5].spines['right'].set_visible(False)\n",
    "ax[5].spines['top'].set_visible(False)\n",
    "plt.xlabel('')\n",
    "plt.ylabel('')\n",
    "\n",
    "plt.savefig('data/figures/umap_scvi_integrated_revision.pdf')\n",
    "plt.close()\n",
    "# plt.savefig('../data/figures/umap_scvi_integrated_revision.png')\n",
    "# plt.close()"
   ]
  },
  {
   "cell_type": "code",
   "execution_count": 35,
   "metadata": {},
   "outputs": [],
   "source": [
    "from os.path import abspath"
   ]
  },
  {
   "cell_type": "code",
   "execution_count": 36,
   "metadata": {},
   "outputs": [
    {
     "data": {
      "text/plain": [
       "'/mnt/znas/icb_zstore01/groups/ml01/workspace/ignacio.ibarra/theislab/saliba_macrophages/notebooks/data/figures/umap_scvi_integrated_revision.pdf'"
      ]
     },
     "execution_count": 36,
     "metadata": {},
     "output_type": "execute_result"
    }
   ],
   "source": [
    "abspath('data/figures/umap_scvi_integrated_revision.pdf')"
   ]
  },
  {
   "cell_type": "markdown",
   "metadata": {},
   "source": [
    "sc.tl.leiden(ad)"
   ]
  },
  {
   "cell_type": "code",
   "execution_count": 37,
   "metadata": {},
   "outputs": [],
   "source": [
    "ax = plt.subplot()\n",
    "sc.pl.umap(ad, color='leiden', title='leiden', ax=ax, show=False) #  ax=ax[5], show=False)\n",
    "plt.subplots_adjust(right=.6)\n",
    "\n",
    "plt.savefig('data/figures/umap_scvi_integrated_leiden_revision.pdf')\n",
    "plt.close()"
   ]
  },
  {
   "cell_type": "code",
   "execution_count": 38,
   "metadata": {},
   "outputs": [],
   "source": [
    "ad_bal = ad[ad.obs['study'].astype(str).str.contains('BAL'),:]\n",
    "hm = ad_bal.obs[['leiden', 'mdm.type']].groupby(['leiden', 'mdm.type']).size().reset_index().pivot('leiden', 'mdm.type', 0)\n",
    "\n",
    "ad_others = ad[~ad.obs['study'].astype(str).str.contains('BAL'),:]\n",
    "hm_others = ad_others.obs[['leiden', 'disease.status']].groupby(['leiden', 'disease.status']).size().reset_index().pivot('leiden', 'disease.status', 0)"
   ]
  },
  {
   "cell_type": "code",
   "execution_count": 39,
   "metadata": {},
   "outputs": [],
   "source": [
    "import seaborn as sns"
   ]
  },
  {
   "cell_type": "code",
   "execution_count": 40,
   "metadata": {},
   "outputs": [],
   "source": [
    "import importlib\n",
    "from importlib import reload\n",
    "reload(sns)\n",
    "import seaborn as sns"
   ]
  },
  {
   "cell_type": "code",
   "execution_count": 41,
   "metadata": {},
   "outputs": [],
   "source": [
    "# sns.clustermap(hm,  cmap='Reds')"
   ]
  },
  {
   "cell_type": "code",
   "execution_count": 43,
   "metadata": {},
   "outputs": [],
   "source": [
    "\n",
    "# g = sns.clustermap(hm, cmap='Reds', annot=hm, fmt='')\n",
    "\n",
    "# order_leiden = g.dendrogram_row.reordered_ind\n",
    "# plt.subplots_adjust(bottom=.6, right=.6)\n",
    "# plt.setp(g.ax_heatmap.yaxis.get_majorticklabels(), rotation=0)\n",
    "# plt.savefig('../data/figures/heatmap_counts_per_condition_leiden_revision.pdf')\n",
    "# plt.close()\n"
   ]
  },
  {
   "cell_type": "code",
   "execution_count": null,
   "metadata": {},
   "outputs": [],
   "source": [
    "hm_others.reindex(order_leiden)"
   ]
  },
  {
   "cell_type": "code",
   "execution_count": null,
   "metadata": {},
   "outputs": [],
   "source": [
    "sns.clustermap(hm_others, row_cluster=False, cmap='Blues') #  annot=hm_others.fillna(0)) # fmt='')"
   ]
  },
  {
   "cell_type": "code",
   "execution_count": null,
   "metadata": {},
   "outputs": [],
   "source": [
    "hm_others.index = hm_others.index.astype(int)\n",
    "hm_others = hm_others.reindex(order_leiden)\n",
    "g = sns.clustermap(hm_others.fillna(0), row_cluster=False, cmap='Blues', annot=hm_others.fillna(0), fmt='')\n",
    "plt.setp(g.ax_heatmap.yaxis.get_majorticklabels(), rotation=0)\n",
    "plt.subplots_adjust(bottom=.6, right=.3)\n",
    "plt.savefig('data/figures/heatmap_counts_per_condition_leiden_disease_status_morse_or_adams_revision.pdf')\n",
    "plt.close()"
   ]
  },
  {
   "cell_type": "markdown",
   "metadata": {},
   "source": [
    "### annotate based on uniquely mapped cells from the previous notebook (06_see_results_scvi_by_bals)."
   ]
  },
  {
   "cell_type": "code",
   "execution_count": 45,
   "metadata": {},
   "outputs": [],
   "source": [
    "final = sc.read_h5ad('data/bal_cells_uniquely_mapped.h5ad')"
   ]
  },
  {
   "cell_type": "code",
   "execution_count": 46,
   "metadata": {},
   "outputs": [
    {
     "data": {
      "text/html": [
       "<div>\n",
       "<style scoped>\n",
       "    .dataframe tbody tr th:only-of-type {\n",
       "        vertical-align: middle;\n",
       "    }\n",
       "\n",
       "    .dataframe tbody tr th {\n",
       "        vertical-align: top;\n",
       "    }\n",
       "\n",
       "    .dataframe thead th {\n",
       "        text-align: right;\n",
       "    }\n",
       "</style>\n",
       "<table border=\"1\" class=\"dataframe\">\n",
       "  <thead>\n",
       "    <tr style=\"text-align: right;\">\n",
       "      <th></th>\n",
       "      <th>closest.disease.status</th>\n",
       "      <th>mdm.type</th>\n",
       "      <th>0</th>\n",
       "    </tr>\n",
       "  </thead>\n",
       "  <tbody>\n",
       "    <tr>\n",
       "      <th>0</th>\n",
       "      <td>COPD</td>\n",
       "      <td>AM 1</td>\n",
       "      <td>0</td>\n",
       "    </tr>\n",
       "    <tr>\n",
       "      <th>14</th>\n",
       "      <td>control</td>\n",
       "      <td>AM 1</td>\n",
       "      <td>1</td>\n",
       "    </tr>\n",
       "    <tr>\n",
       "      <th>7</th>\n",
       "      <td>IPF</td>\n",
       "      <td>AM 1</td>\n",
       "      <td>26</td>\n",
       "    </tr>\n",
       "    <tr>\n",
       "      <th>1</th>\n",
       "      <td>COPD</td>\n",
       "      <td>AM 2</td>\n",
       "      <td>3</td>\n",
       "    </tr>\n",
       "    <tr>\n",
       "      <th>15</th>\n",
       "      <td>control</td>\n",
       "      <td>AM 2</td>\n",
       "      <td>11</td>\n",
       "    </tr>\n",
       "    <tr>\n",
       "      <th>8</th>\n",
       "      <td>IPF</td>\n",
       "      <td>AM 2</td>\n",
       "      <td>10</td>\n",
       "    </tr>\n",
       "    <tr>\n",
       "      <th>2</th>\n",
       "      <td>COPD</td>\n",
       "      <td>MDM 1</td>\n",
       "      <td>11</td>\n",
       "    </tr>\n",
       "    <tr>\n",
       "      <th>16</th>\n",
       "      <td>control</td>\n",
       "      <td>MDM 1</td>\n",
       "      <td>196</td>\n",
       "    </tr>\n",
       "    <tr>\n",
       "      <th>9</th>\n",
       "      <td>IPF</td>\n",
       "      <td>MDM 1</td>\n",
       "      <td>78</td>\n",
       "    </tr>\n",
       "    <tr>\n",
       "      <th>17</th>\n",
       "      <td>control</td>\n",
       "      <td>MDM 2</td>\n",
       "      <td>88</td>\n",
       "    </tr>\n",
       "    <tr>\n",
       "      <th>10</th>\n",
       "      <td>IPF</td>\n",
       "      <td>MDM 2</td>\n",
       "      <td>170</td>\n",
       "    </tr>\n",
       "    <tr>\n",
       "      <th>3</th>\n",
       "      <td>COPD</td>\n",
       "      <td>MDM 2</td>\n",
       "      <td>4</td>\n",
       "    </tr>\n",
       "    <tr>\n",
       "      <th>11</th>\n",
       "      <td>IPF</td>\n",
       "      <td>MDM 3A</td>\n",
       "      <td>146</td>\n",
       "    </tr>\n",
       "    <tr>\n",
       "      <th>4</th>\n",
       "      <td>COPD</td>\n",
       "      <td>MDM 3A</td>\n",
       "      <td>5</td>\n",
       "    </tr>\n",
       "    <tr>\n",
       "      <th>18</th>\n",
       "      <td>control</td>\n",
       "      <td>MDM 3A</td>\n",
       "      <td>34</td>\n",
       "    </tr>\n",
       "    <tr>\n",
       "      <th>12</th>\n",
       "      <td>IPF</td>\n",
       "      <td>MDM 3B</td>\n",
       "      <td>127</td>\n",
       "    </tr>\n",
       "    <tr>\n",
       "      <th>5</th>\n",
       "      <td>COPD</td>\n",
       "      <td>MDM 3B</td>\n",
       "      <td>2</td>\n",
       "    </tr>\n",
       "    <tr>\n",
       "      <th>19</th>\n",
       "      <td>control</td>\n",
       "      <td>MDM 3B</td>\n",
       "      <td>17</td>\n",
       "    </tr>\n",
       "    <tr>\n",
       "      <th>13</th>\n",
       "      <td>IPF</td>\n",
       "      <td>Undefined</td>\n",
       "      <td>1</td>\n",
       "    </tr>\n",
       "    <tr>\n",
       "      <th>6</th>\n",
       "      <td>COPD</td>\n",
       "      <td>Undefined</td>\n",
       "      <td>0</td>\n",
       "    </tr>\n",
       "    <tr>\n",
       "      <th>20</th>\n",
       "      <td>control</td>\n",
       "      <td>Undefined</td>\n",
       "      <td>0</td>\n",
       "    </tr>\n",
       "  </tbody>\n",
       "</table>\n",
       "</div>"
      ],
      "text/plain": [
       "   closest.disease.status   mdm.type    0\n",
       "0                    COPD       AM 1    0\n",
       "14                control       AM 1    1\n",
       "7                     IPF       AM 1   26\n",
       "1                    COPD       AM 2    3\n",
       "15                control       AM 2   11\n",
       "8                     IPF       AM 2   10\n",
       "2                    COPD      MDM 1   11\n",
       "16                control      MDM 1  196\n",
       "9                     IPF      MDM 1   78\n",
       "17                control      MDM 2   88\n",
       "10                    IPF      MDM 2  170\n",
       "3                    COPD      MDM 2    4\n",
       "11                    IPF     MDM 3A  146\n",
       "4                    COPD     MDM 3A    5\n",
       "18                control     MDM 3A   34\n",
       "12                    IPF     MDM 3B  127\n",
       "5                    COPD     MDM 3B    2\n",
       "19                control     MDM 3B   17\n",
       "13                    IPF  Undefined    1\n",
       "6                    COPD  Undefined    0\n",
       "20                control  Undefined    0"
      ]
     },
     "execution_count": 46,
     "metadata": {},
     "output_type": "execute_result"
    }
   ],
   "source": [
    "final.obs.groupby(['closest.disease.status', 'mdm.type']).size().reset_index().sort_values('mdm.type')"
   ]
  },
  {
   "cell_type": "code",
   "execution_count": 47,
   "metadata": {},
   "outputs": [
    {
     "data": {
      "text/html": [
       "<div>\n",
       "<style scoped>\n",
       "    .dataframe tbody tr th:only-of-type {\n",
       "        vertical-align: middle;\n",
       "    }\n",
       "\n",
       "    .dataframe tbody tr th {\n",
       "        vertical-align: top;\n",
       "    }\n",
       "\n",
       "    .dataframe thead th {\n",
       "        text-align: right;\n",
       "    }\n",
       "</style>\n",
       "<table border=\"1\" class=\"dataframe\">\n",
       "  <thead>\n",
       "    <tr style=\"text-align: right;\">\n",
       "      <th></th>\n",
       "      <th>GSM</th>\n",
       "      <th>sample.id</th>\n",
       "      <th>n_counts</th>\n",
       "      <th>log_counts</th>\n",
       "      <th>n_genes</th>\n",
       "      <th>mt_frac</th>\n",
       "      <th>patient.id</th>\n",
       "      <th>cell.type</th>\n",
       "      <th>study</th>\n",
       "      <th>disease.status</th>\n",
       "      <th>...</th>\n",
       "      <th>patient</th>\n",
       "      <th>dpso</th>\n",
       "      <th>age</th>\n",
       "      <th>sex</th>\n",
       "      <th>Celltype_2</th>\n",
       "      <th>Timepoint</th>\n",
       "      <th>ident</th>\n",
       "      <th>mdm.type</th>\n",
       "      <th>selection</th>\n",
       "      <th>closest.disease.status</th>\n",
       "    </tr>\n",
       "  </thead>\n",
       "  <tbody>\n",
       "    <tr>\n",
       "      <th>GCAGCTGAGCCACTCG-3-1-0-0</th>\n",
       "      <td>nan</td>\n",
       "      <td>nan</td>\n",
       "      <td>20578.0</td>\n",
       "      <td>NaN</td>\n",
       "      <td>NaN</td>\n",
       "      <td>NaN</td>\n",
       "      <td>C19-83</td>\n",
       "      <td>Macrophages</td>\n",
       "      <td>BAL</td>\n",
       "      <td>MDM 3A</td>\n",
       "      <td>...</td>\n",
       "      <td>C19-83</td>\n",
       "      <td>10</td>\n",
       "      <td>56</td>\n",
       "      <td>Female</td>\n",
       "      <td>Macrophages</td>\n",
       "      <td>Intermediate</td>\n",
       "      <td>4</td>\n",
       "      <td>MDM 3A</td>\n",
       "      <td>MDM 3A:COPD</td>\n",
       "      <td>COPD</td>\n",
       "    </tr>\n",
       "    <tr>\n",
       "      <th>GGATGTTGTACAACGG-3-1-0-0</th>\n",
       "      <td>nan</td>\n",
       "      <td>nan</td>\n",
       "      <td>17231.0</td>\n",
       "      <td>NaN</td>\n",
       "      <td>NaN</td>\n",
       "      <td>NaN</td>\n",
       "      <td>C19-83</td>\n",
       "      <td>Macrophages</td>\n",
       "      <td>BAL</td>\n",
       "      <td>MDM 3A</td>\n",
       "      <td>...</td>\n",
       "      <td>C19-83</td>\n",
       "      <td>10</td>\n",
       "      <td>56</td>\n",
       "      <td>Female</td>\n",
       "      <td>Macrophages</td>\n",
       "      <td>Intermediate</td>\n",
       "      <td>4</td>\n",
       "      <td>MDM 3A</td>\n",
       "      <td>MDM 3A:COPD</td>\n",
       "      <td>COPD</td>\n",
       "    </tr>\n",
       "    <tr>\n",
       "      <th>TAGGGTTAGACATATG-3-1-0-0</th>\n",
       "      <td>nan</td>\n",
       "      <td>nan</td>\n",
       "      <td>12357.0</td>\n",
       "      <td>NaN</td>\n",
       "      <td>NaN</td>\n",
       "      <td>NaN</td>\n",
       "      <td>C19-83</td>\n",
       "      <td>Macrophages</td>\n",
       "      <td>BAL</td>\n",
       "      <td>MDM 3A</td>\n",
       "      <td>...</td>\n",
       "      <td>C19-83</td>\n",
       "      <td>10</td>\n",
       "      <td>56</td>\n",
       "      <td>Female</td>\n",
       "      <td>Macrophages</td>\n",
       "      <td>Intermediate</td>\n",
       "      <td>4</td>\n",
       "      <td>MDM 3A</td>\n",
       "      <td>MDM 3A:COPD</td>\n",
       "      <td>COPD</td>\n",
       "    </tr>\n",
       "    <tr>\n",
       "      <th>GCACTAAGTCTGCCTT-6-1-0-0</th>\n",
       "      <td>nan</td>\n",
       "      <td>nan</td>\n",
       "      <td>23267.0</td>\n",
       "      <td>NaN</td>\n",
       "      <td>NaN</td>\n",
       "      <td>NaN</td>\n",
       "      <td>C19-98</td>\n",
       "      <td>Macrophages</td>\n",
       "      <td>BAL</td>\n",
       "      <td>MDM 3A</td>\n",
       "      <td>...</td>\n",
       "      <td>C19-98</td>\n",
       "      <td>10</td>\n",
       "      <td>63</td>\n",
       "      <td>Male</td>\n",
       "      <td>Macrophages</td>\n",
       "      <td>Intermediate</td>\n",
       "      <td>37</td>\n",
       "      <td>MDM 3A</td>\n",
       "      <td>MDM 3A:COPD</td>\n",
       "      <td>COPD</td>\n",
       "    </tr>\n",
       "    <tr>\n",
       "      <th>GTTAGACAGCTCTTCC-6-1-0-0</th>\n",
       "      <td>nan</td>\n",
       "      <td>nan</td>\n",
       "      <td>42924.0</td>\n",
       "      <td>NaN</td>\n",
       "      <td>NaN</td>\n",
       "      <td>NaN</td>\n",
       "      <td>C19-98</td>\n",
       "      <td>Macrophages</td>\n",
       "      <td>BAL</td>\n",
       "      <td>MDM 3A</td>\n",
       "      <td>...</td>\n",
       "      <td>C19-98</td>\n",
       "      <td>10</td>\n",
       "      <td>63</td>\n",
       "      <td>Male</td>\n",
       "      <td>Macrophages</td>\n",
       "      <td>Intermediate</td>\n",
       "      <td>37</td>\n",
       "      <td>MDM 3A</td>\n",
       "      <td>MDM 3A:COPD</td>\n",
       "      <td>COPD</td>\n",
       "    </tr>\n",
       "    <tr>\n",
       "      <th>...</th>\n",
       "      <td>...</td>\n",
       "      <td>...</td>\n",
       "      <td>...</td>\n",
       "      <td>...</td>\n",
       "      <td>...</td>\n",
       "      <td>...</td>\n",
       "      <td>...</td>\n",
       "      <td>...</td>\n",
       "      <td>...</td>\n",
       "      <td>...</td>\n",
       "      <td>...</td>\n",
       "      <td>...</td>\n",
       "      <td>...</td>\n",
       "      <td>...</td>\n",
       "      <td>...</td>\n",
       "      <td>...</td>\n",
       "      <td>...</td>\n",
       "      <td>...</td>\n",
       "      <td>...</td>\n",
       "      <td>...</td>\n",
       "      <td>...</td>\n",
       "    </tr>\n",
       "    <tr>\n",
       "      <th>TCATACTGTGGCGCTT-8-1-1</th>\n",
       "      <td>nan</td>\n",
       "      <td>nan</td>\n",
       "      <td>2699.0</td>\n",
       "      <td>NaN</td>\n",
       "      <td>NaN</td>\n",
       "      <td>NaN</td>\n",
       "      <td>C19-120</td>\n",
       "      <td>Macrophages</td>\n",
       "      <td>BAL</td>\n",
       "      <td>MDM 1</td>\n",
       "      <td>...</td>\n",
       "      <td>C19-120</td>\n",
       "      <td>25</td>\n",
       "      <td>nan</td>\n",
       "      <td>Male</td>\n",
       "      <td>Macrophages</td>\n",
       "      <td>Late</td>\n",
       "      <td>17</td>\n",
       "      <td>MDM 1</td>\n",
       "      <td>MDM 1:control</td>\n",
       "      <td>control</td>\n",
       "    </tr>\n",
       "    <tr>\n",
       "      <th>TCGATTTCAACCACAT-8-1-1</th>\n",
       "      <td>nan</td>\n",
       "      <td>nan</td>\n",
       "      <td>4655.0</td>\n",
       "      <td>NaN</td>\n",
       "      <td>NaN</td>\n",
       "      <td>NaN</td>\n",
       "      <td>C19-120</td>\n",
       "      <td>Macrophages</td>\n",
       "      <td>BAL</td>\n",
       "      <td>MDM 1</td>\n",
       "      <td>...</td>\n",
       "      <td>C19-120</td>\n",
       "      <td>25</td>\n",
       "      <td>nan</td>\n",
       "      <td>Male</td>\n",
       "      <td>Macrophages</td>\n",
       "      <td>Late</td>\n",
       "      <td>17</td>\n",
       "      <td>MDM 1</td>\n",
       "      <td>MDM 1:control</td>\n",
       "      <td>control</td>\n",
       "    </tr>\n",
       "    <tr>\n",
       "      <th>TGTAAGCCAGGTCCGT-8-1-1</th>\n",
       "      <td>nan</td>\n",
       "      <td>nan</td>\n",
       "      <td>4622.0</td>\n",
       "      <td>NaN</td>\n",
       "      <td>NaN</td>\n",
       "      <td>NaN</td>\n",
       "      <td>C19-120</td>\n",
       "      <td>Macrophages</td>\n",
       "      <td>BAL</td>\n",
       "      <td>MDM 1</td>\n",
       "      <td>...</td>\n",
       "      <td>C19-120</td>\n",
       "      <td>25</td>\n",
       "      <td>nan</td>\n",
       "      <td>Male</td>\n",
       "      <td>Macrophages</td>\n",
       "      <td>Late</td>\n",
       "      <td>17</td>\n",
       "      <td>MDM 1</td>\n",
       "      <td>MDM 1:control</td>\n",
       "      <td>control</td>\n",
       "    </tr>\n",
       "    <tr>\n",
       "      <th>TGTACAGCATCCGAAT-8-1-1</th>\n",
       "      <td>nan</td>\n",
       "      <td>nan</td>\n",
       "      <td>13354.0</td>\n",
       "      <td>NaN</td>\n",
       "      <td>NaN</td>\n",
       "      <td>NaN</td>\n",
       "      <td>C19-120</td>\n",
       "      <td>Macrophages</td>\n",
       "      <td>BAL</td>\n",
       "      <td>MDM 1</td>\n",
       "      <td>...</td>\n",
       "      <td>C19-120</td>\n",
       "      <td>25</td>\n",
       "      <td>nan</td>\n",
       "      <td>Male</td>\n",
       "      <td>Macrophages</td>\n",
       "      <td>Late</td>\n",
       "      <td>17</td>\n",
       "      <td>MDM 1</td>\n",
       "      <td>MDM 1:control</td>\n",
       "      <td>control</td>\n",
       "    </tr>\n",
       "    <tr>\n",
       "      <th>TCATTCAAGTCTCCTC-3-1-1-0</th>\n",
       "      <td>nan</td>\n",
       "      <td>nan</td>\n",
       "      <td>1991.0</td>\n",
       "      <td>NaN</td>\n",
       "      <td>NaN</td>\n",
       "      <td>NaN</td>\n",
       "      <td>C19-83</td>\n",
       "      <td>Macrophages</td>\n",
       "      <td>BAL</td>\n",
       "      <td>Undefined</td>\n",
       "      <td>...</td>\n",
       "      <td>C19-83</td>\n",
       "      <td>10</td>\n",
       "      <td>56</td>\n",
       "      <td>Female</td>\n",
       "      <td>Macrophages</td>\n",
       "      <td>Intermediate</td>\n",
       "      <td>50</td>\n",
       "      <td>Undefined</td>\n",
       "      <td>Undefined:IPF</td>\n",
       "      <td>IPF</td>\n",
       "    </tr>\n",
       "  </tbody>\n",
       "</table>\n",
       "<p>930 rows × 67 columns</p>\n",
       "</div>"
      ],
      "text/plain": [
       "                          GSM sample.id  n_counts  log_counts  n_genes  \\\n",
       "GCAGCTGAGCCACTCG-3-1-0-0  nan       nan   20578.0         NaN      NaN   \n",
       "GGATGTTGTACAACGG-3-1-0-0  nan       nan   17231.0         NaN      NaN   \n",
       "TAGGGTTAGACATATG-3-1-0-0  nan       nan   12357.0         NaN      NaN   \n",
       "GCACTAAGTCTGCCTT-6-1-0-0  nan       nan   23267.0         NaN      NaN   \n",
       "GTTAGACAGCTCTTCC-6-1-0-0  nan       nan   42924.0         NaN      NaN   \n",
       "...                       ...       ...       ...         ...      ...   \n",
       "TCATACTGTGGCGCTT-8-1-1    nan       nan    2699.0         NaN      NaN   \n",
       "TCGATTTCAACCACAT-8-1-1    nan       nan    4655.0         NaN      NaN   \n",
       "TGTAAGCCAGGTCCGT-8-1-1    nan       nan    4622.0         NaN      NaN   \n",
       "TGTACAGCATCCGAAT-8-1-1    nan       nan   13354.0         NaN      NaN   \n",
       "TCATTCAAGTCTCCTC-3-1-1-0  nan       nan    1991.0         NaN      NaN   \n",
       "\n",
       "                          mt_frac patient.id    cell.type study  \\\n",
       "GCAGCTGAGCCACTCG-3-1-0-0      NaN     C19-83  Macrophages   BAL   \n",
       "GGATGTTGTACAACGG-3-1-0-0      NaN     C19-83  Macrophages   BAL   \n",
       "TAGGGTTAGACATATG-3-1-0-0      NaN     C19-83  Macrophages   BAL   \n",
       "GCACTAAGTCTGCCTT-6-1-0-0      NaN     C19-98  Macrophages   BAL   \n",
       "GTTAGACAGCTCTTCC-6-1-0-0      NaN     C19-98  Macrophages   BAL   \n",
       "...                           ...        ...          ...   ...   \n",
       "TCATACTGTGGCGCTT-8-1-1        NaN    C19-120  Macrophages   BAL   \n",
       "TCGATTTCAACCACAT-8-1-1        NaN    C19-120  Macrophages   BAL   \n",
       "TGTAAGCCAGGTCCGT-8-1-1        NaN    C19-120  Macrophages   BAL   \n",
       "TGTACAGCATCCGAAT-8-1-1        NaN    C19-120  Macrophages   BAL   \n",
       "TCATTCAAGTCTCCTC-3-1-1-0      NaN     C19-83  Macrophages   BAL   \n",
       "\n",
       "                         disease.status  ...  patient  dpso  age     sex  \\\n",
       "GCAGCTGAGCCACTCG-3-1-0-0         MDM 3A  ...   C19-83    10   56  Female   \n",
       "GGATGTTGTACAACGG-3-1-0-0         MDM 3A  ...   C19-83    10   56  Female   \n",
       "TAGGGTTAGACATATG-3-1-0-0         MDM 3A  ...   C19-83    10   56  Female   \n",
       "GCACTAAGTCTGCCTT-6-1-0-0         MDM 3A  ...   C19-98    10   63    Male   \n",
       "GTTAGACAGCTCTTCC-6-1-0-0         MDM 3A  ...   C19-98    10   63    Male   \n",
       "...                                 ...  ...      ...   ...  ...     ...   \n",
       "TCATACTGTGGCGCTT-8-1-1            MDM 1  ...  C19-120    25  nan    Male   \n",
       "TCGATTTCAACCACAT-8-1-1            MDM 1  ...  C19-120    25  nan    Male   \n",
       "TGTAAGCCAGGTCCGT-8-1-1            MDM 1  ...  C19-120    25  nan    Male   \n",
       "TGTACAGCATCCGAAT-8-1-1            MDM 1  ...  C19-120    25  nan    Male   \n",
       "TCATTCAAGTCTCCTC-3-1-1-0      Undefined  ...   C19-83    10   56  Female   \n",
       "\n",
       "                           Celltype_2     Timepoint ident   mdm.type  \\\n",
       "GCAGCTGAGCCACTCG-3-1-0-0  Macrophages  Intermediate     4     MDM 3A   \n",
       "GGATGTTGTACAACGG-3-1-0-0  Macrophages  Intermediate     4     MDM 3A   \n",
       "TAGGGTTAGACATATG-3-1-0-0  Macrophages  Intermediate     4     MDM 3A   \n",
       "GCACTAAGTCTGCCTT-6-1-0-0  Macrophages  Intermediate    37     MDM 3A   \n",
       "GTTAGACAGCTCTTCC-6-1-0-0  Macrophages  Intermediate    37     MDM 3A   \n",
       "...                               ...           ...   ...        ...   \n",
       "TCATACTGTGGCGCTT-8-1-1    Macrophages          Late    17      MDM 1   \n",
       "TCGATTTCAACCACAT-8-1-1    Macrophages          Late    17      MDM 1   \n",
       "TGTAAGCCAGGTCCGT-8-1-1    Macrophages          Late    17      MDM 1   \n",
       "TGTACAGCATCCGAAT-8-1-1    Macrophages          Late    17      MDM 1   \n",
       "TCATTCAAGTCTCCTC-3-1-1-0  Macrophages  Intermediate    50  Undefined   \n",
       "\n",
       "                              selection closest.disease.status  \n",
       "GCAGCTGAGCCACTCG-3-1-0-0    MDM 3A:COPD                   COPD  \n",
       "GGATGTTGTACAACGG-3-1-0-0    MDM 3A:COPD                   COPD  \n",
       "TAGGGTTAGACATATG-3-1-0-0    MDM 3A:COPD                   COPD  \n",
       "GCACTAAGTCTGCCTT-6-1-0-0    MDM 3A:COPD                   COPD  \n",
       "GTTAGACAGCTCTTCC-6-1-0-0    MDM 3A:COPD                   COPD  \n",
       "...                                 ...                    ...  \n",
       "TCATACTGTGGCGCTT-8-1-1    MDM 1:control                control  \n",
       "TCGATTTCAACCACAT-8-1-1    MDM 1:control                control  \n",
       "TGTAAGCCAGGTCCGT-8-1-1    MDM 1:control                control  \n",
       "TGTACAGCATCCGAAT-8-1-1    MDM 1:control                control  \n",
       "TCATTCAAGTCTCCTC-3-1-1-0  Undefined:IPF                    IPF  \n",
       "\n",
       "[930 rows x 67 columns]"
      ]
     },
     "execution_count": 47,
     "metadata": {},
     "output_type": "execute_result"
    }
   ],
   "source": [
    "final.obs"
   ]
  },
  {
   "cell_type": "code",
   "execution_count": 48,
   "metadata": {},
   "outputs": [
    {
     "data": {
      "text/plain": [
       "adams       90477\n",
       "budinger    22810\n",
       "morse       17551\n",
       "BAL          7503\n",
       "Name: study, dtype: int64"
      ]
     },
     "execution_count": 48,
     "metadata": {},
     "output_type": "execute_result"
    }
   ],
   "source": [
    "ad.obs['study'].value_counts()"
   ]
  },
  {
   "cell_type": "code",
   "execution_count": 49,
   "metadata": {},
   "outputs": [
    {
     "data": {
      "text/plain": [
       "BAL    930\n",
       "Name: study, dtype: int64"
      ]
     },
     "execution_count": 49,
     "metadata": {},
     "output_type": "execute_result"
    }
   ],
   "source": [
    "final.obs['study'].value_counts()"
   ]
  },
  {
   "cell_type": "code",
   "execution_count": 50,
   "metadata": {},
   "outputs": [
    {
     "data": {
      "text/plain": [
       "BAL    7503\n",
       "Name: study, dtype: int64"
      ]
     },
     "execution_count": 50,
     "metadata": {},
     "output_type": "execute_result"
    }
   ],
   "source": [
    "ad_bal.obs['study'].value_counts()"
   ]
  },
  {
   "cell_type": "code",
   "execution_count": 51,
   "metadata": {},
   "outputs": [
    {
     "name": "stderr",
     "output_type": "stream",
     "text": [
      "Trying to set attribute `.obs` of view, copying.\n"
     ]
    }
   ],
   "source": [
    "final.obs['index.bc'] = final.obs.index.str.split('-').str[0]\n",
    "ad_bal.obs['index.bc'] = ad_bal.obs.index.str.split('-').str[0]"
   ]
  },
  {
   "cell_type": "code",
   "execution_count": 52,
   "metadata": {},
   "outputs": [],
   "source": [
    "final.obs['leiden'] = final.obs['index.bc'].str.split('-').str[0].map(ad_bal.obs.set_index('index.bc')['leiden'].to_dict())"
   ]
  },
  {
   "cell_type": "code",
   "execution_count": 53,
   "metadata": {},
   "outputs": [
    {
     "ename": "NameError",
     "evalue": "name 'order_leiden' is not defined",
     "output_type": "error",
     "traceback": [
      "\u001b[0;31m---------------------------------------------------------------------------\u001b[0m",
      "\u001b[0;31mNameError\u001b[0m                                 Traceback (most recent call last)",
      "\u001b[0;32m<ipython-input-53-8acdcc1b7258>\u001b[0m in \u001b[0;36m<module>\u001b[0;34m\u001b[0m\n\u001b[1;32m      1\u001b[0m \u001b[0mhm_final\u001b[0m \u001b[0;34m=\u001b[0m \u001b[0mfinal\u001b[0m\u001b[0;34m.\u001b[0m\u001b[0mobs\u001b[0m\u001b[0;34m[\u001b[0m\u001b[0;34m[\u001b[0m\u001b[0;34m'leiden'\u001b[0m\u001b[0;34m,\u001b[0m \u001b[0;34m'mdm.type'\u001b[0m\u001b[0;34m]\u001b[0m\u001b[0;34m]\u001b[0m\u001b[0;34m.\u001b[0m\u001b[0mgroupby\u001b[0m\u001b[0;34m(\u001b[0m\u001b[0;34m[\u001b[0m\u001b[0;34m'leiden'\u001b[0m\u001b[0;34m,\u001b[0m \u001b[0;34m'mdm.type'\u001b[0m\u001b[0;34m]\u001b[0m\u001b[0;34m)\u001b[0m\u001b[0;34m.\u001b[0m\u001b[0msize\u001b[0m\u001b[0;34m(\u001b[0m\u001b[0;34m)\u001b[0m\u001b[0;34m.\u001b[0m\u001b[0mreset_index\u001b[0m\u001b[0;34m(\u001b[0m\u001b[0;34m)\u001b[0m\u001b[0;34m.\u001b[0m\u001b[0mpivot\u001b[0m\u001b[0;34m(\u001b[0m\u001b[0;34m'leiden'\u001b[0m\u001b[0;34m,\u001b[0m \u001b[0;34m'mdm.type'\u001b[0m\u001b[0;34m,\u001b[0m \u001b[0;36m0\u001b[0m\u001b[0;34m)\u001b[0m\u001b[0;34m\u001b[0m\u001b[0;34m\u001b[0m\u001b[0m\n\u001b[1;32m      2\u001b[0m \u001b[0mhm_final\u001b[0m\u001b[0;34m.\u001b[0m\u001b[0mindex\u001b[0m \u001b[0;34m=\u001b[0m \u001b[0mhm_final\u001b[0m\u001b[0;34m.\u001b[0m\u001b[0mindex\u001b[0m\u001b[0;34m.\u001b[0m\u001b[0mastype\u001b[0m\u001b[0;34m(\u001b[0m\u001b[0mint\u001b[0m\u001b[0;34m)\u001b[0m\u001b[0;34m\u001b[0m\u001b[0;34m\u001b[0m\u001b[0m\n\u001b[0;32m----> 3\u001b[0;31m \u001b[0mhm_final\u001b[0m \u001b[0;34m=\u001b[0m \u001b[0mhm_final\u001b[0m\u001b[0;34m.\u001b[0m\u001b[0mreindex\u001b[0m\u001b[0;34m(\u001b[0m\u001b[0morder_leiden\u001b[0m\u001b[0;34m)\u001b[0m\u001b[0;34m.\u001b[0m\u001b[0mfillna\u001b[0m\u001b[0;34m(\u001b[0m\u001b[0;36m0\u001b[0m\u001b[0;34m)\u001b[0m\u001b[0;34m\u001b[0m\u001b[0;34m\u001b[0m\u001b[0m\n\u001b[0m\u001b[1;32m      4\u001b[0m \u001b[0mprint\u001b[0m\u001b[0;34m(\u001b[0m\u001b[0mhm_final\u001b[0m\u001b[0;34m.\u001b[0m\u001b[0msum\u001b[0m\u001b[0;34m(\u001b[0m\u001b[0;34m)\u001b[0m\u001b[0;34m)\u001b[0m\u001b[0;34m\u001b[0m\u001b[0;34m\u001b[0m\u001b[0m\n\u001b[1;32m      5\u001b[0m \u001b[0;34m\u001b[0m\u001b[0m\n",
      "\u001b[0;31mNameError\u001b[0m: name 'order_leiden' is not defined"
     ]
    }
   ],
   "source": [
    "hm_final = final.obs[['leiden', 'mdm.type']].groupby(['leiden', 'mdm.type']).size().reset_index().pivot('leiden', 'mdm.type', 0)\n",
    "hm_final.index = hm_final.index.astype(int)\n",
    "hm_final = hm_final.reindex(order_leiden).fillna(0)\n",
    "print(hm_final.sum())\n",
    "\n",
    "g = sns.clustermap(hm_final, row_cluster=False, cmap='Greens', annot=hm_final.fillna(0).astype(int), fmt='')\n",
    "plt.setp(g.ax_heatmap.yaxis.get_majorticklabels(), rotation=0)\n",
    "plt.subplots_adjust(bottom=.6, right=.6)\n",
    "plt.savefig('data/figures/heatmap_counts_per_condition_leiden_disease_status_mdm_filtered_connectivity_uniq.pdf')\n",
    "plt.close()"
   ]
  },
  {
   "cell_type": "code",
   "execution_count": 54,
   "metadata": {},
   "outputs": [
    {
     "data": {
      "text/plain": [
       "AnnData object with n_obs × n_vars = 930 × 18331\n",
       "    obs: 'GSM', 'sample.id', 'n_counts', 'log_counts', 'n_genes', 'mt_frac', 'patient.id', 'cell.type', 'study', 'disease.status', 'MP.markers.score', 'MP.others.score', 'MP.all.score', 'nUMI', 'nGene', 'CellType_Category', 'Manuscript_Identity', 'Subclass_Cell_Identity', 'Disease_Identity', 'Subject_Identity', 'Library_Identity', 'groups', 'batch', 'orig.ident', 'nCount_RNA', 'nFeature_RNA', 'viral_counts', 'viral_ratio', 'viral_norm', 'percent.mt', 'number', 'dataset', 'S.Score', 'G2M.Score', 'Phase', 'CC.Difference', 'SR.score1', 'dissoc.score1', 'Label', 'nCount_VIRAL', 'nFeature_VIRAL', 'seurat_clusters', 'RNA_mnn_40_Leiden_res.0.1', 'RNA_mnn_40_Leiden_res.0.2', 'RNA_mnn_40_Leiden_res.0.3', 'RNA_mnn_40_Leiden_res.0.4', 'RNA_mnn_40_Leiden_res.0.5', 'RNA_mnn_40_Leiden_res.0.6', 'RNA_mnn_40_Leiden_res.0.7', 'RNA_mnn_40_Leiden_res.0.8', 'RNA_mnn_40_Leiden_res.0.9', 'RNA_mnn_40_Leiden_res.1', 'RNA_mnn_40_Leiden_res.1.5', 'RNA_mnn_40_Leiden_res.2', 'RNA_mnn_40_Leiden_res.3', 'RNA_mnn_40_Leiden_res.5', 'Celltype', 'patient', 'dpso', 'age', 'sex', 'Celltype_2', 'Timepoint', 'ident', 'mdm.type', 'selection', 'closest.disease.status', 'index.bc', 'leiden'\n",
       "    obsm: 'X_emb', 'X_umap'\n",
       "    layers: 'counts'"
      ]
     },
     "execution_count": 54,
     "metadata": {},
     "output_type": "execute_result"
    }
   ],
   "source": [
    "final"
   ]
  },
  {
   "cell_type": "code",
   "execution_count": 55,
   "metadata": {},
   "outputs": [
    {
     "data": {
      "text/plain": [
       "0"
      ]
     },
     "execution_count": 55,
     "metadata": {},
     "output_type": "execute_result"
    }
   ],
   "source": [
    "final.obs['leiden'].value_counts().sum()"
   ]
  },
  {
   "cell_type": "code",
   "execution_count": 56,
   "metadata": {},
   "outputs": [],
   "source": [
    "var_names = set(ad.var.index)\n",
    "marker_genes_all = [g for g in get_marker_genes_ipf()['MP.all'] if g in var_names] "
   ]
  },
  {
   "cell_type": "code",
   "execution_count": 57,
   "metadata": {},
   "outputs": [
    {
     "data": {
      "image/png": "[encoded data removed]",
      "text/plain": [
       "<Figure size 1386x379.5 with 10 Axes>"
      ]
     },
     "metadata": {},
     "output_type": "display_data"
    }
   ],
   "source": [
    "sc.pl.stacked_violin(ad, var_names=marker_genes_all, groupby='leiden') # dendrogram=True)"
   ]
  },
  {
   "cell_type": "code",
   "execution_count": 58,
   "metadata": {},
   "outputs": [
    {
     "name": "stderr",
     "output_type": "stream",
     "text": [
      "/home/icb/ignacio.ibarra/miniconda3/envs/mypython3/lib/python3.7/site-packages/pandas/core/arrays/categorical.py:2487: FutureWarning: The `inplace` parameter in pandas.Categorical.remove_unused_categories is deprecated and will be removed in a future version.\n",
      "  res = method(*args, **kwargs)\n"
     ]
    },
    {
     "data": {
      "text/plain": [
       "Series([], Name: cell.type, dtype: int64)"
      ]
     },
     "execution_count": 58,
     "metadata": {},
     "output_type": "execute_result"
    }
   ],
   "source": [
    "ad_bal[ad_bal.obs['study'] == 'morse',:].obs['cell.type'].value_counts()"
   ]
  },
  {
   "cell_type": "code",
   "execution_count": 59,
   "metadata": {},
   "outputs": [
    {
     "data": {
      "text/plain": [
       "count    138341.000000\n",
       "mean          1.709933\n",
       "std           3.036393\n",
       "min           0.000000\n",
       "25%           0.000000\n",
       "50%           0.000000\n",
       "75%           3.777106\n",
       "max          11.851416\n",
       "Name: SPP1, dtype: float64"
      ]
     },
     "execution_count": 59,
     "metadata": {},
     "output_type": "execute_result"
    }
   ],
   "source": [
    "ad.to_df()['SPP1'].describe()"
   ]
  },
  {
   "cell_type": "code",
   "execution_count": 60,
   "metadata": {},
   "outputs": [
    {
     "data": {
      "text/html": [
       "<div>\n",
       "<style scoped>\n",
       "    .dataframe tbody tr th:only-of-type {\n",
       "        vertical-align: middle;\n",
       "    }\n",
       "\n",
       "    .dataframe tbody tr th {\n",
       "        vertical-align: top;\n",
       "    }\n",
       "\n",
       "    .dataframe thead th {\n",
       "        text-align: right;\n",
       "    }\n",
       "</style>\n",
       "<table border=\"1\" class=\"dataframe\">\n",
       "  <thead>\n",
       "    <tr style=\"text-align: right;\">\n",
       "      <th></th>\n",
       "      <th>vst.mean</th>\n",
       "      <th>vst.variance</th>\n",
       "      <th>vst.variance.expected</th>\n",
       "      <th>vst.variance.standardized</th>\n",
       "      <th>vst.variable</th>\n",
       "      <th>ensembl</th>\n",
       "      <th>symbol</th>\n",
       "    </tr>\n",
       "  </thead>\n",
       "  <tbody>\n",
       "    <tr>\n",
       "      <th>AL627309.1</th>\n",
       "      <td>0.004206</td>\n",
       "      <td>0.004324</td>\n",
       "      <td>0.006471</td>\n",
       "      <td>0.668145</td>\n",
       "      <td>0</td>\n",
       "      <td>ENSG00000238009</td>\n",
       "      <td>AL627309.1</td>\n",
       "    </tr>\n",
       "    <tr>\n",
       "      <th>AL627309.3</th>\n",
       "      <td>0.000362</td>\n",
       "      <td>0.000407</td>\n",
       "      <td>0.000421</td>\n",
       "      <td>0.965306</td>\n",
       "      <td>0</td>\n",
       "      <td>ENSG00000239945</td>\n",
       "      <td>AL627309.3</td>\n",
       "    </tr>\n",
       "    <tr>\n",
       "      <th>AL627309.4</th>\n",
       "      <td>0.001357</td>\n",
       "      <td>0.001355</td>\n",
       "      <td>0.001767</td>\n",
       "      <td>0.766767</td>\n",
       "      <td>0</td>\n",
       "      <td>ENSG00000241599</td>\n",
       "      <td>AL627309.4</td>\n",
       "    </tr>\n",
       "    <tr>\n",
       "      <th>AL669831.2</th>\n",
       "      <td>0.000430</td>\n",
       "      <td>0.000429</td>\n",
       "      <td>0.000507</td>\n",
       "      <td>0.846792</td>\n",
       "      <td>0</td>\n",
       "      <td>ENSG00000229905</td>\n",
       "      <td>AL669831.2</td>\n",
       "    </tr>\n",
       "    <tr>\n",
       "      <th>AL669831.5</th>\n",
       "      <td>0.062744</td>\n",
       "      <td>0.076084</td>\n",
       "      <td>0.107797</td>\n",
       "      <td>0.705806</td>\n",
       "      <td>0</td>\n",
       "      <td>ENSG00000237491</td>\n",
       "      <td>AL669831.5</td>\n",
       "    </tr>\n",
       "    <tr>\n",
       "      <th>...</th>\n",
       "      <td>...</td>\n",
       "      <td>...</td>\n",
       "      <td>...</td>\n",
       "      <td>...</td>\n",
       "      <td>...</td>\n",
       "      <td>...</td>\n",
       "      <td>...</td>\n",
       "    </tr>\n",
       "    <tr>\n",
       "      <th>AL354822.1</th>\n",
       "      <td>0.049721</td>\n",
       "      <td>0.062037</td>\n",
       "      <td>0.086614</td>\n",
       "      <td>0.716248</td>\n",
       "      <td>0</td>\n",
       "      <td>ENSG00000278384</td>\n",
       "      <td>AL354822.1</td>\n",
       "    </tr>\n",
       "    <tr>\n",
       "      <th>AC004556.1</th>\n",
       "      <td>0.082551</td>\n",
       "      <td>0.191010</td>\n",
       "      <td>0.142380</td>\n",
       "      <td>1.341548</td>\n",
       "      <td>0</td>\n",
       "      <td>ENSG00000276345</td>\n",
       "      <td>AC004556.1</td>\n",
       "    </tr>\n",
       "    <tr>\n",
       "      <th>AC233755.2</th>\n",
       "      <td>0.008298</td>\n",
       "      <td>0.256907</td>\n",
       "      <td>0.014290</td>\n",
       "      <td>8.053228</td>\n",
       "      <td>1</td>\n",
       "      <td>ENSG00000277856</td>\n",
       "      <td>AC233755.2</td>\n",
       "    </tr>\n",
       "    <tr>\n",
       "      <th>AC233755.1</th>\n",
       "      <td>0.008117</td>\n",
       "      <td>0.099807</td>\n",
       "      <td>0.013935</td>\n",
       "      <td>6.890781</td>\n",
       "      <td>1</td>\n",
       "      <td>ENSG00000275063</td>\n",
       "      <td>AC233755.1</td>\n",
       "    </tr>\n",
       "    <tr>\n",
       "      <th>AC240274.1</th>\n",
       "      <td>0.035250</td>\n",
       "      <td>0.059061</td>\n",
       "      <td>0.063001</td>\n",
       "      <td>0.937470</td>\n",
       "      <td>0</td>\n",
       "      <td>ENSG00000271254</td>\n",
       "      <td>AC240274.1</td>\n",
       "    </tr>\n",
       "  </tbody>\n",
       "</table>\n",
       "<p>27007 rows × 7 columns</p>\n",
       "</div>"
      ],
      "text/plain": [
       "            vst.mean  vst.variance  vst.variance.expected  \\\n",
       "AL627309.1  0.004206      0.004324               0.006471   \n",
       "AL627309.3  0.000362      0.000407               0.000421   \n",
       "AL627309.4  0.001357      0.001355               0.001767   \n",
       "AL669831.2  0.000430      0.000429               0.000507   \n",
       "AL669831.5  0.062744      0.076084               0.107797   \n",
       "...              ...           ...                    ...   \n",
       "AL354822.1  0.049721      0.062037               0.086614   \n",
       "AC004556.1  0.082551      0.191010               0.142380   \n",
       "AC233755.2  0.008298      0.256907               0.014290   \n",
       "AC233755.1  0.008117      0.099807               0.013935   \n",
       "AC240274.1  0.035250      0.059061               0.063001   \n",
       "\n",
       "            vst.variance.standardized  vst.variable          ensembl  \\\n",
       "AL627309.1                   0.668145             0  ENSG00000238009   \n",
       "AL627309.3                   0.965306             0  ENSG00000239945   \n",
       "AL627309.4                   0.766767             0  ENSG00000241599   \n",
       "AL669831.2                   0.846792             0  ENSG00000229905   \n",
       "AL669831.5                   0.705806             0  ENSG00000237491   \n",
       "...                               ...           ...              ...   \n",
       "AL354822.1                   0.716248             0  ENSG00000278384   \n",
       "AC004556.1                   1.341548             0  ENSG00000276345   \n",
       "AC233755.2                   8.053228             1  ENSG00000277856   \n",
       "AC233755.1                   6.890781             1  ENSG00000275063   \n",
       "AC240274.1                   0.937470             0  ENSG00000271254   \n",
       "\n",
       "                symbol  \n",
       "AL627309.1  AL627309.1  \n",
       "AL627309.3  AL627309.3  \n",
       "AL627309.4  AL627309.4  \n",
       "AL669831.2  AL669831.2  \n",
       "AL669831.5  AL669831.5  \n",
       "...                ...  \n",
       "AL354822.1  AL354822.1  \n",
       "AC004556.1  AC004556.1  \n",
       "AC233755.2  AC233755.2  \n",
       "AC233755.1  AC233755.1  \n",
       "AC240274.1  AC240274.1  \n",
       "\n",
       "[27007 rows x 7 columns]"
      ]
     },
     "execution_count": 60,
     "metadata": {},
     "output_type": "execute_result"
    }
   ],
   "source": [
    "bal.var"
   ]
  },
  {
   "cell_type": "markdown",
   "metadata": {},
   "source": [
    "### Save a copy of obs in compressed format for inspection (Oliver)."
   ]
  },
  {
   "cell_type": "code",
   "execution_count": 61,
   "metadata": {},
   "outputs": [
    {
     "data": {
      "text/plain": [
       "(138341, 17656)"
      ]
     },
     "execution_count": 61,
     "metadata": {},
     "output_type": "execute_result"
    }
   ],
   "source": [
    "ad.shape"
   ]
  },
  {
   "cell_type": "code",
   "execution_count": 62,
   "metadata": {},
   "outputs": [
    {
     "name": "stdout",
     "output_type": "stream",
     "text": [
      "/mnt/znas/icb_zstore01/groups/ml01/workspace/ignacio.ibarra/theislab/saliba_macrophages/notebooks/revision\n"
     ]
    }
   ],
   "source": [
    "!readlink -f ."
   ]
  },
  {
   "cell_type": "code",
   "execution_count": 63,
   "metadata": {},
   "outputs": [
    {
     "name": "stdout",
     "output_type": "stream",
     "text": [
      "GSM\n",
      "nan           120790\n",
      "GSM3660648      2104\n",
      "GSM3660644      1935\n",
      "GSM3660646      1743\n",
      "GSM3660647      1733\n",
      "GSM3660652      1519\n",
      "GSM3660651      1371\n",
      "GSM3660658      1323\n",
      "GSM3660653      1223\n",
      "GSM3660657      1099\n",
      "GSM3660645      1080\n",
      "GSM3660655       842\n",
      "GSM3660654       509\n",
      "GSM3660656       415\n",
      "GSM3660643       239\n",
      "GSM3660642       213\n",
      "GSM3660641       203\n",
      "Name: GSM, dtype: int64\n",
      "\n",
      "sample.id\n",
      "nan            120790\n",
      "SC156NORUP       2104\n",
      "SC45NOR          1935\n",
      "SC59NOR          1743\n",
      "SC155NORLOW      1733\n",
      "SC88IPFUP        1519\n",
      "SC87IPFLOW       1371\n",
      "SC154IPFUP       1323\n",
      "SC89IPFLOW       1223\n",
      "SC153IPFLOW      1099\n",
      "SC56NOR          1080\n",
      "SC94IPFUP         842\n",
      "SC93IPFLOW        509\n",
      "SC95IPFLOW        415\n",
      "SC31DNOR          239\n",
      "SC31NOR           213\n",
      "SC14NOR           203\n",
      "Name: sample.id, dtype: int64\n",
      "\n",
      "n_counts\n",
      "4248.0     28\n",
      "4106.0     27\n",
      "4345.0     26\n",
      "6596.0     26\n",
      "1554.0     26\n",
      "           ..\n",
      "92878.0     1\n",
      "50975.0     1\n",
      "32869.0     1\n",
      "22510.0     1\n",
      "61597.0     1\n",
      "Name: n_counts, Length: 26374, dtype: int64\n",
      "\n",
      "log_counts\n",
      "8.354203     27\n",
      "8.320205     26\n",
      "8.159089     26\n",
      "8.376781     26\n",
      "8.794219     26\n",
      "             ..\n",
      "10.219393     1\n",
      "10.154791     1\n",
      "10.042466     1\n",
      "10.213249     1\n",
      "10.390779     1\n",
      "Name: log_counts, Length: 23320, dtype: int64\n",
      "\n",
      "n_genes\n",
      "1969.0    75\n",
      "1539.0    74\n",
      "1514.0    67\n",
      "1522.0    67\n",
      "1592.0    66\n",
      "          ..\n",
      "7422.0     1\n",
      "5513.0     1\n",
      "5516.0     1\n",
      "5932.0     1\n",
      "5657.0     1\n",
      "Name: n_genes, Length: 5470, dtype: int64\n",
      "\n",
      "mt_frac\n",
      "0.000000    22523\n",
      "0.052632       22\n",
      "0.076923       19\n",
      "0.043478       17\n",
      "0.111111       17\n",
      "            ...  \n",
      "0.096963        1\n",
      "0.127601        1\n",
      "0.039243        1\n",
      "0.057492        1\n",
      "0.051392        1\n",
      "Name: mt_frac, Length: 103104, dtype: int64\n",
      "\n",
      "patient.id\n",
      "Case 1    12258\n",
      "178CO      6283\n",
      "PMB 1      5309\n",
      "PMB 2      5243\n",
      "226C       4227\n",
      "          ...  \n",
      "084C        157\n",
      "8CO         147\n",
      "59I         115\n",
      "244C         17\n",
      "137CO        12\n",
      "Name: patient.id, Length: 104, dtype: int64\n",
      "\n",
      "cell.type\n",
      "Macrophage_Alveolar                36666\n",
      "Macrophage                         32089\n",
      "SPP1hi Macrophage                  10593\n",
      "M2                                 10453\n",
      "M3                                  8845\n",
      "Macrophages                         7503\n",
      "FABP4hi Macrophage                  6958\n",
      "Macrophage_Outlier_B                4223\n",
      "Macrophage_MT-tRNAs                 2077\n",
      "Macrophage_Outlier_C                2068\n",
      "nocytes                             1968\n",
      "Macrophage_Outlier_A                1690\n",
      "Macrophage_Outlier_F                1688\n",
      "Macrophage_Alveolar_CellCycle_A     1472\n",
      "Macrophage_Alveolar_CellCycle_B     1398\n",
      "Macrophage_Alveolar_Outlier_A       1263\n",
      "Macrophage_Alveolar_Outlier_B       1219\n",
      "Macrophage_CellCycle_B              1163\n",
      "1                                   1030\n",
      "Macrophage_Outlier_D                 959\n",
      "Macrophage_Outlier_HSPs              915\n",
      "Macrophage_Alveolar_Outlier_D        376\n",
      "Macrophage_Alveolar_Outlier_C        364\n",
      "Macrophage_CellCycle_A               343\n",
      "2                                    290\n",
      "Macrophage_Alveolar_Outlier_E        256\n",
      "M1                                   224\n",
      "Macrophage_Outlier_E                 210\n",
      "Macrophage_Alveolar_Outlier_F         31\n",
      "Macrophage_CellCycle_MT-tRNAs          7\n",
      "Name: cell.type, dtype: int64\n",
      "\n",
      "study\n",
      "adams       90477\n",
      "budinger    22810\n",
      "morse       17551\n",
      "BAL          7503\n",
      "Name: study, dtype: int64\n",
      "\n",
      "disease.status\n",
      "control     39409\n",
      "IPF         38460\n",
      "COPD        30159\n",
      "covid       22810\n",
      "BAL (NA)     7503\n",
      "Name: disease.status, dtype: int64\n",
      "\n",
      "MP.markers.score\n",
      "3.515876    3\n",
      "3.316719    3\n",
      "4.193342    3\n",
      "3.949906    3\n",
      "4.226765    2\n",
      "           ..\n",
      "1.233617    1\n",
      "2.306272    1\n",
      "2.887499    1\n",
      "4.139258    1\n",
      "4.554863    1\n",
      "Name: MP.markers.score, Length: 137650, dtype: int64\n",
      "\n",
      "MP.others.score\n",
      " 1.476390    3\n",
      " 0.830128    2\n",
      " 2.027444    2\n",
      " 0.925924    2\n",
      " 0.611203    2\n",
      "            ..\n",
      " 1.881808    1\n",
      " 0.472718    1\n",
      " 2.138207    1\n",
      " 1.304552    1\n",
      "-0.096352    1\n",
      "Name: MP.others.score, Length: 137886, dtype: int64\n",
      "\n",
      "MP.all.score\n",
      "3.884272    3\n",
      "2.534936    3\n",
      "2.805308    3\n",
      "3.440651    3\n",
      "4.355700    3\n",
      "           ..\n",
      "1.597776    1\n",
      "3.206165    1\n",
      "2.401116    1\n",
      "4.659781    1\n",
      "3.313272    1\n",
      "Name: MP.all.score, Length: 137507, dtype: int64\n",
      "\n",
      "nUMI\n",
      "1352.0     24\n",
      "1533.0     22\n",
      "1488.0     22\n",
      "1554.0     22\n",
      "1380.0     22\n",
      "           ..\n",
      "14642.0     1\n",
      "21915.0     1\n",
      "20913.0     1\n",
      "21561.0     1\n",
      "14590.0     1\n",
      "Name: nUMI, Length: 19993, dtype: int64\n",
      "\n",
      "nGene\n",
      "2017.0    49\n",
      "2150.0    49\n",
      "1592.0    47\n",
      "1049.0    47\n",
      "2621.0    46\n",
      "          ..\n",
      "6657.0     1\n",
      "5932.0     1\n",
      "7737.0     1\n",
      "8315.0     1\n",
      "5657.0     1\n",
      "Name: nGene, Length: 5451, dtype: int64\n",
      "\n",
      "CellType_Category\n",
      "Myeloid    90477\n",
      "nan        47864\n",
      "Name: CellType_Category, dtype: int64\n",
      "\n",
      "Manuscript_Identity\n",
      "nan                    47864\n",
      "Macrophage             47432\n",
      "Macrophage_Alveolar    43045\n",
      "Name: Manuscript_Identity, dtype: int64\n",
      "\n",
      "Subclass_Cell_Identity\n",
      "nan                                47864\n",
      "Macrophage_Alveolar                36666\n",
      "Macrophage                         32089\n",
      "Macrophage_Outlier_B                4223\n",
      "Macrophage_MT-tRNAs                 2077\n",
      "Macrophage_Outlier_C                2068\n",
      "Macrophage_Outlier_A                1690\n",
      "Macrophage_Outlier_F                1688\n",
      "Macrophage_Alveolar_CellCycle_A     1472\n",
      "Macrophage_Alveolar_CellCycle_B     1398\n",
      "Macrophage_Alveolar_Outlier_A       1263\n",
      "Macrophage_Alveolar_Outlier_B       1219\n",
      "Macrophage_CellCycle_B              1163\n",
      "Macrophage_Outlier_D                 959\n",
      "Macrophage_Outlier_HSPs              915\n",
      "Macrophage_Alveolar_Outlier_D        376\n",
      "Macrophage_Alveolar_Outlier_C        364\n",
      "Macrophage_CellCycle_A               343\n",
      "Macrophage_Alveolar_Outlier_E        256\n",
      "Macrophage_Outlier_E                 210\n",
      "Macrophage_Alveolar_Outlier_F         31\n",
      "Macrophage_CellCycle_MT-tRNAs          7\n",
      "Name: Subclass_Cell_Identity, dtype: int64\n",
      "\n",
      "Disease_Identity\n",
      "nan        47864\n",
      "COPD       30159\n",
      "Control    30159\n",
      "IPF        30159\n",
      "Name: Disease_Identity, dtype: int64\n",
      "\n",
      "Subject_Identity\n",
      "nan      47864\n",
      "178CO     6283\n",
      "226C      4227\n",
      "192CO     2960\n",
      "225I      2792\n",
      "         ...  \n",
      "084C       157\n",
      "8CO        147\n",
      "59I        115\n",
      "244C        17\n",
      "137CO       12\n",
      "Name: Subject_Identity, Length: 79, dtype: int64\n",
      "\n",
      "Library_Identity\n",
      "nan        47864\n",
      "178CO       6283\n",
      "133C-a      2618\n",
      "152CO-a     2602\n",
      "186CO-b     2385\n",
      "           ...  \n",
      "040I          70\n",
      "138I          52\n",
      "152CO         49\n",
      "244C          17\n",
      "137CO         12\n",
      "Name: Library_Identity, Length: 108, dtype: int64\n",
      "\n",
      "groups\n",
      "nan    25054\n",
      "0      22366\n",
      "1      20436\n",
      "3      19833\n",
      "2      15796\n",
      "4      13009\n",
      "5      11048\n",
      "6       5629\n",
      "7       2593\n",
      "8       1711\n",
      "9        866\n",
      "Name: groups, dtype: int64\n",
      "\n",
      "batch\n",
      "0    108182\n",
      "1     30159\n",
      "Name: batch, dtype: int64\n",
      "\n",
      "orig.ident\n",
      "nan              108028\n",
      "SeuratProject      7503\n",
      "Sample_16          7271\n",
      "Sample_18          4971\n",
      "Sample_19          4621\n",
      "Sample_9           3969\n",
      "Sample_10          1256\n",
      "Sample_20           593\n",
      "Sample_8             60\n",
      "Sample_7             24\n",
      "Sample_21            20\n",
      "Sample_17            14\n",
      "Sample_22             9\n",
      "Sample_15             2\n",
      "Name: orig.ident, dtype: int64\n",
      "\n",
      "nCount_RNA\n",
      "13583.0    4\n",
      "16216.0    3\n",
      "14630.0    3\n",
      "11759.0    3\n",
      "18765.0    3\n",
      "          ..\n",
      "52781.0    1\n",
      "48282.0    1\n",
      "45481.0    1\n",
      "30525.0    1\n",
      "61597.0    1\n",
      "Name: nCount_RNA, Length: 6989, dtype: int64\n",
      "\n",
      "nFeature_RNA\n",
      "4848.0    7\n",
      "5623.0    7\n",
      "5355.0    7\n",
      "4807.0    7\n",
      "4571.0    6\n",
      "         ..\n",
      "2054.0    1\n",
      "1721.0    1\n",
      "2185.0    1\n",
      "4646.0    1\n",
      "7005.0    1\n",
      "Name: nFeature_RNA, Length: 4312, dtype: int64\n",
      "\n",
      "viral_counts\n",
      "0.0     7312\n",
      "1.0      112\n",
      "2.0       27\n",
      "3.0       14\n",
      "4.0       13\n",
      "5.0        6\n",
      "8.0        3\n",
      "6.0        3\n",
      "7.0        3\n",
      "10.0       2\n",
      "19.0       2\n",
      "17.0       1\n",
      "31.0       1\n",
      "16.0       1\n",
      "11.0       1\n",
      "68.0       1\n",
      "29.0       1\n",
      "Name: viral_counts, dtype: int64\n",
      "\n",
      "viral_ratio\n",
      "0.000000    7312\n",
      "0.000051       2\n",
      "0.000214       1\n",
      "0.000048       1\n",
      "0.000142       1\n",
      "            ... \n",
      "0.000278       1\n",
      "0.000084       1\n",
      "0.000045       1\n",
      "0.000058       1\n",
      "0.001627       1\n",
      "Name: viral_ratio, Length: 191, dtype: int64\n",
      "\n",
      "viral_norm\n",
      "0.000000    7312\n",
      "0.690989      64\n",
      "0.692136      27\n",
      "0.692609      10\n",
      "1.095733       8\n",
      "1.383124       8\n",
      "2.075191       5\n",
      "0.692902       5\n",
      "1.383055       5\n",
      "0.692981       4\n",
      "1.605982       4\n",
      "1.787869       3\n",
      "1.383598       3\n",
      "2.075733       2\n",
      "1.788160       2\n",
      "2.481385       2\n",
      "2.075661       2\n",
      "2.077757       1\n",
      "4.712495       1\n",
      "2.885977       1\n",
      "1.384777       1\n",
      "5.985199       1\n",
      "0.693086       1\n",
      "2.991199       1\n",
      "2.298591       1\n",
      "8.418139       1\n",
      "3.683661       1\n",
      "4.088959       1\n",
      "1.789872       1\n",
      "6.061974       1\n",
      "7.825046       1\n",
      "3.632955       1\n",
      "1.385511       1\n",
      "1.384074       1\n",
      "3.396289       1\n",
      "1.385945       1\n",
      "6.285326       1\n",
      "4.019593       1\n",
      "2.480318       1\n",
      "2.767797       1\n",
      "6.349573       1\n",
      "2.480295       1\n",
      "1.384745       1\n",
      "1.385038       1\n",
      "1.383891       1\n",
      "2.768636       1\n",
      "1.790938       1\n",
      "1.788815       1\n",
      "1.385239       1\n",
      "4.559287       1\n",
      "2.480950       1\n",
      "0.693043       1\n",
      "2.991889       1\n",
      "1.097263       1\n",
      "Name: viral_norm, dtype: int64\n",
      "\n",
      "percent.mt\n",
      "0.000000    4\n",
      "5.208333    2\n",
      "3.225806    2\n",
      "3.654382    2\n",
      "5.687204    2\n",
      "           ..\n",
      "4.574054    1\n",
      "3.660566    1\n",
      "5.106363    1\n",
      "1.833661    1\n",
      "2.876509    1\n",
      "Name: percent.mt, Length: 7492, dtype: int64\n",
      "\n",
      "number\n",
      "nan    130838\n",
      "5        1661\n",
      "2        1567\n",
      "6        1240\n",
      "4        1146\n",
      "3        1058\n",
      "7         507\n",
      "8         324\n",
      "Name: number, dtype: int64\n",
      "\n",
      "dataset\n",
      "nan    130838\n",
      "C7       1661\n",
      "C4       1567\n",
      "D9       1240\n",
      "C6       1146\n",
      "C5       1058\n",
      "E3        507\n",
      "E4        324\n",
      "Name: dataset, dtype: int64\n",
      "\n",
      "S.Score\n",
      "-0.230358    4\n",
      "-0.397115    4\n",
      "-0.688587    4\n",
      "-0.143216    4\n",
      "-0.224992    4\n",
      "            ..\n",
      "-0.279966    1\n",
      "-0.305925    1\n",
      "-1.047816    1\n",
      " 0.137266    1\n",
      "-2.406148    1\n",
      "Name: S.Score, Length: 6881, dtype: int64\n",
      "\n",
      "G2M.Score\n",
      "-1.200324     3\n",
      "-1.680823     3\n",
      "-1.279289     2\n",
      "-1.243564     2\n",
      "-2.020926     2\n",
      "             ..\n",
      "-10.183598    1\n",
      "-8.448397     1\n",
      "-9.826885     1\n",
      "-6.482465     1\n",
      "-0.648142     1\n",
      "Name: G2M.Score, Length: 7329, dtype: int64\n",
      "\n",
      "Phase\n",
      "nan    130838\n",
      "G1       7267\n",
      "S         173\n",
      "G2M        63\n",
      "Name: Phase, dtype: int64\n",
      "\n",
      "CC.Difference\n",
      "1.308406     1\n",
      "1.272642     1\n",
      "1.900073     1\n",
      "1.090532     1\n",
      "0.381486     1\n",
      "            ..\n",
      "4.694159     1\n",
      "1.327221     1\n",
      "10.856510    1\n",
      "0.680732     1\n",
      "8.092907     1\n",
      "Name: CC.Difference, Length: 7503, dtype: int64\n",
      "\n",
      "SR.score1\n",
      "-2.943522     2\n",
      " 1.626308     2\n",
      " 0.314147     2\n",
      "-4.215626     2\n",
      "-0.716483     2\n",
      "             ..\n",
      "-3.219641     1\n",
      "-10.706469    1\n",
      "-5.293306     1\n",
      "-11.382082    1\n",
      " 8.131000     1\n",
      "Name: SR.score1, Length: 7456, dtype: int64\n",
      "\n",
      "dissoc.score1\n",
      " 0.577499    2\n",
      " 0.852681    2\n",
      "-2.360758    2\n",
      " 0.410296    2\n",
      "-0.933413    2\n",
      "            ..\n",
      "-1.121312    1\n",
      "-0.450490    1\n",
      "-1.717993    1\n",
      " 0.758834    1\n",
      "-3.769512    1\n",
      "Name: dissoc.score1, Length: 7470, dtype: int64\n",
      "\n",
      "Label\n",
      "nan                    130838\n",
      "Monocyte/Macrophage      7480\n",
      "Plasmablast                12\n",
      "Neutrophil                  8\n",
      "B/DC                        2\n",
      "Epithelia                   1\n",
      "Name: Label, dtype: int64\n",
      "\n",
      "nCount_VIRAL\n",
      "0.0     7312\n",
      "1.0      112\n",
      "2.0       27\n",
      "3.0       14\n",
      "4.0       13\n",
      "5.0        6\n",
      "8.0        3\n",
      "6.0        3\n",
      "7.0        3\n",
      "10.0       2\n",
      "19.0       2\n",
      "17.0       1\n",
      "31.0       1\n",
      "16.0       1\n",
      "11.0       1\n",
      "68.0       1\n",
      "29.0       1\n",
      "Name: nCount_VIRAL, dtype: int64\n",
      "\n",
      "nFeature_VIRAL\n",
      "0.0    7312\n",
      "1.0     135\n",
      "2.0      36\n",
      "3.0      11\n",
      "4.0       5\n",
      "5.0       4\n",
      "Name: nFeature_VIRAL, dtype: int64\n",
      "\n",
      "seurat_clusters\n",
      "nan    130838\n",
      "4        1313\n",
      "17        994\n",
      "18        990\n",
      "21        939\n",
      "19        913\n",
      "37        543\n",
      "41        513\n",
      "38        468\n",
      "45        415\n",
      "50        224\n",
      "54        190\n",
      "14          1\n",
      "Name: seurat_clusters, dtype: int64\n",
      "\n",
      "RNA_mnn_40_Leiden_res.0.1\n",
      "nan    130838\n",
      "3        7500\n",
      "1           2\n",
      "4           1\n",
      "Name: RNA_mnn_40_Leiden_res.0.1, dtype: int64\n",
      "\n",
      "RNA_mnn_40_Leiden_res.0.2\n",
      "nan    130838\n",
      "3        7500\n",
      "5           2\n",
      "1           1\n",
      "Name: RNA_mnn_40_Leiden_res.0.2, dtype: int64\n",
      "\n",
      "RNA_mnn_40_Leiden_res.0.3\n",
      "nan    130838\n",
      "2        7498\n",
      "7           3\n",
      "1           2\n",
      "Name: RNA_mnn_40_Leiden_res.0.3, dtype: int64\n",
      "\n",
      "RNA_mnn_40_Leiden_res.0.4\n",
      "nan    130838\n",
      "2        7499\n",
      "7           3\n",
      "1           1\n",
      "Name: RNA_mnn_40_Leiden_res.0.4, dtype: int64\n",
      "\n",
      "RNA_mnn_40_Leiden_res.0.5\n",
      "nan    130838\n",
      "4        5909\n",
      "8        1589\n",
      "9           3\n",
      "2           2\n",
      "Name: RNA_mnn_40_Leiden_res.0.5, dtype: int64\n",
      "\n",
      "RNA_mnn_40_Leiden_res.0.6\n",
      "nan    130838\n",
      "3        5660\n",
      "9        1641\n",
      "14        200\n",
      "1           2\n",
      "Name: RNA_mnn_40_Leiden_res.0.6, dtype: int64\n",
      "\n",
      "RNA_mnn_40_Leiden_res.0.7\n",
      "nan    130838\n",
      "3        5641\n",
      "9        1660\n",
      "14        200\n",
      "1           2\n",
      "Name: RNA_mnn_40_Leiden_res.0.7, dtype: int64\n",
      "\n",
      "RNA_mnn_40_Leiden_res.0.8\n",
      "nan    130838\n",
      "3        5630\n",
      "9        1671\n",
      "14        200\n",
      "1           2\n",
      "Name: RNA_mnn_40_Leiden_res.0.8, dtype: int64\n",
      "\n",
      "RNA_mnn_40_Leiden_res.0.9\n",
      "nan    130838\n",
      "3        5395\n",
      "9        1902\n",
      "14        204\n",
      "1           2\n",
      "Name: RNA_mnn_40_Leiden_res.0.9, dtype: int64\n",
      "\n",
      "RNA_mnn_40_Leiden_res.1\n",
      "nan    130838\n",
      "1        5598\n",
      "9        1695\n",
      "16        208\n",
      "7           2\n",
      "Name: RNA_mnn_40_Leiden_res.1, dtype: int64\n",
      "\n",
      "RNA_mnn_40_Leiden_res.1.5\n",
      "nan    130838\n",
      "5        3536\n",
      "9        2044\n",
      "10       1701\n",
      "21        222\n",
      "Name: RNA_mnn_40_Leiden_res.1.5, dtype: int64\n",
      "\n",
      "RNA_mnn_40_Leiden_res.2\n",
      "nan    130838\n",
      "5        2968\n",
      "9        2348\n",
      "11       1750\n",
      "23        247\n",
      "25        186\n",
      "7           3\n",
      "3           1\n",
      "Name: RNA_mnn_40_Leiden_res.2, dtype: int64\n",
      "\n",
      "RNA_mnn_40_Leiden_res.3\n",
      "nan    130838\n",
      "5        1838\n",
      "6        1777\n",
      "16       1352\n",
      "21       1107\n",
      "22        984\n",
      "32        255\n",
      "34        188\n",
      "8           1\n",
      "10          1\n",
      "Name: RNA_mnn_40_Leiden_res.3, dtype: int64\n",
      "\n",
      "RNA_mnn_40_Leiden_res.5\n",
      "nan    130838\n",
      "4        1313\n",
      "17        994\n",
      "18        990\n",
      "21        939\n",
      "19        913\n",
      "37        543\n",
      "41        513\n",
      "38        468\n",
      "45        415\n",
      "50        224\n",
      "54        190\n",
      "14          1\n",
      "Name: RNA_mnn_40_Leiden_res.5, dtype: int64\n",
      "\n",
      "Celltype\n",
      "nan             130838\n",
      "Mo-Mac            5718\n",
      "Alveolar-Mac      1605\n",
      "Plasmablast        163\n",
      "Epithelia            8\n",
      "Neutrophil           5\n",
      "T/NK                 3\n",
      "B/DC                 1\n",
      "Name: Celltype, dtype: int64\n",
      "\n",
      "patient\n",
      "nan        130838\n",
      "C19-85       1661\n",
      "C19-62       1567\n",
      "C19-98       1240\n",
      "C19-82       1146\n",
      "C19-83       1058\n",
      "C19-136       507\n",
      "C19-120       324\n",
      "Name: patient, dtype: int64\n",
      "\n",
      "dpso\n",
      "nan    130838\n",
      "7        2713\n",
      "10       2298\n",
      "14       2168\n",
      "25        324\n",
      "Name: dpso, dtype: int64\n",
      "\n",
      "age\n",
      "nan    131162\n",
      "51       2713\n",
      "62       1661\n",
      "63       1240\n",
      "56       1058\n",
      "72        507\n",
      "Name: age, dtype: int64\n",
      "\n",
      "sex\n",
      "nan       130838\n",
      "Male        5938\n",
      "Female      1565\n",
      "Name: sex, dtype: int64\n",
      "\n",
      "Celltype_2\n",
      "nan            130838\n",
      "Macrophages      7503\n",
      "Name: Celltype_2, dtype: int64\n",
      "\n",
      "Timepoint\n",
      "nan             130838\n",
      "Intermediate      4466\n",
      "Early             2713\n",
      "Late               324\n",
      "Name: Timepoint, dtype: int64\n",
      "\n",
      "ident\n",
      "nan    130838\n",
      "4        1313\n",
      "17        994\n",
      "18        990\n",
      "21        939\n",
      "19        913\n",
      "37        543\n",
      "41        513\n",
      "38        468\n",
      "45        415\n",
      "50        224\n",
      "54        190\n",
      "14          1\n",
      "Name: ident, dtype: int64\n",
      "\n",
      "mdm.type\n",
      "Others (A/M/B)     130838\n",
      "2 Mono/Mp            2951\n",
      "3 SPP1/LGMN-Mp       1190\n",
      "1 FCN1-Mono           992\n",
      "5 INHBA-AMp           916\n",
      "4 SPP1/TREM2-Mp       819\n",
      "Others (COVID)        358\n",
      "6 Prolif. AMp         175\n",
      "Low quality           102\n",
      "Name: mdm.type, dtype: int64\n",
      "\n",
      "Unnamed: 0\n",
      "nan                    115531\n",
      "GTCACTCCATCATCTT-11         1\n",
      "GTCAGCGAGGTGGTTG-13         1\n",
      "GTCAGCGAGGTATAGT-11         1\n",
      "GTCAGCGAGCTGGCTC-11         1\n",
      "                        ...  \n",
      "CCCAACTGTTAACCTG-18         1\n",
      "CCCAACTGTCTCAGGC-11         1\n",
      "CCCAACTGTCGCCACA-16         1\n",
      "CCCAACTGTCGCATGC-16         1\n",
      "GACACGCGTCCCTGTT-11         1\n",
      "Name: Unnamed: 0, Length: 22811, dtype: int64\n",
      "\n",
      "Study\n",
      "nan                  115531\n",
      "Bharat_et_al_2020     22810\n",
      "Name: Study, dtype: int64\n",
      "\n",
      "Sample Source\n",
      "nan    115531\n",
      "NU      22810\n",
      "Name: Sample Source, dtype: int64\n",
      "\n",
      "Sample Name\n",
      "nan       115531\n",
      "Case 1     12258\n",
      "PMB 1       5309\n",
      "PMB 2       5243\n",
      "Name: Sample Name, dtype: int64\n",
      "\n",
      "Sample Status\n",
      "nan        115531\n",
      "Disease     22810\n",
      "Name: Sample Status, dtype: int64\n",
      "\n",
      "Diagnosis\n",
      "nan         115531\n",
      "COVID-19     22810\n",
      "Name: Diagnosis, dtype: int64\n",
      "\n",
      "COVID-19\n",
      "nan     115531\n",
      "True     22810\n",
      "Name: COVID-19, dtype: int64\n",
      "\n",
      "Tissue Type\n",
      "nan           115531\n",
      "Parenchyma     22810\n",
      "Name: Tissue Type, dtype: int64\n",
      "\n",
      "Cell Population\n",
      "nan          115531\n",
      "Immune-TX     22810\n",
      "Name: Cell Population, dtype: int64\n",
      "\n",
      "Cell Type\n",
      "nan       115531\n",
      "MoAM-1      8188\n",
      "MoAM-2      7665\n",
      "MoAM-3      5037\n",
      "TRAM-2       842\n",
      "TRAM-1       822\n",
      "MoAM-4       129\n",
      "TRAM-3       127\n",
      "Name: Cell Type, dtype: int64\n",
      "\n",
      "leiden\n",
      "2.0     13512\n",
      "4.0      5971\n",
      "6.0      1356\n",
      "5.0      1319\n",
      "12.0      380\n",
      "0.0       144\n",
      "19.0       56\n",
      "15.0       53\n",
      "22.0        7\n",
      "14.0        5\n",
      "23.0        5\n",
      "11.0        2\n",
      "Name: leiden, dtype: int64\n",
      "\n",
      "No of UMIs\n",
      "3499.0     12\n",
      "4345.0     12\n",
      "4544.0     11\n",
      "3609.0     11\n",
      "1663.0     10\n",
      "           ..\n",
      "6016.0      1\n",
      "24880.0     1\n",
      "2752.0      1\n",
      "12011.0     1\n",
      "17653.0     1\n",
      "Name: No of UMIs, Length: 10184, dtype: int64\n",
      "\n",
      "No of genes\n",
      "1514.0    27\n",
      "1735.0    24\n",
      "1614.0    24\n",
      "1219.0    23\n",
      "1126.0    23\n",
      "          ..\n",
      "3504.0     1\n",
      "3998.0     1\n",
      "3659.0     1\n",
      "3714.0     1\n",
      "4467.0     1\n",
      "Name: No of genes, Length: 3218, dtype: int64\n",
      "\n",
      "% of mito genes\n",
      "10.000000    12\n",
      "11.111112     8\n",
      "9.523809      6\n",
      "7.692308      6\n",
      "11.764706     5\n",
      "             ..\n",
      "11.321321     1\n",
      "7.651525      1\n",
      "8.052855      1\n",
      "5.467512      1\n",
      "6.737288      1\n",
      "Name: % of mito genes, Length: 22511, dtype: int64\n",
      "\n",
      "Cluster\n",
      "nan          115531\n",
      "MoM2          10453\n",
      "MoM3           8845\n",
      "Monocytes      1968\n",
      "AM1            1030\n",
      "AM2             290\n",
      "MoM1            224\n",
      "Name: Cluster, dtype: int64\n",
      "\n"
     ]
    }
   ],
   "source": [
    "for c in ad.obs.columns:\n",
    "    print(c)\n",
    "    print(ad.obs[c].value_counts())\n",
    "    print('')"
   ]
  },
  {
   "cell_type": "code",
   "execution_count": 64,
   "metadata": {},
   "outputs": [
    {
     "name": "stdout",
     "output_type": "stream",
     "text": [
      "(138341, 80)\n"
     ]
    }
   ],
   "source": [
    "obs = ad.obs\n",
    "print(obs.shape)\n",
    "obs.to_csv('barcodes_cluster_annotation.csv.gz', compression='gzip')\n"
   ]
  },
  {
   "cell_type": "code",
   "execution_count": 65,
   "metadata": {},
   "outputs": [
    {
     "data": {
      "text/plain": [
       "(138341, 17656)"
      ]
     },
     "execution_count": 65,
     "metadata": {},
     "output_type": "execute_result"
    }
   ],
   "source": [
    "ad.shape"
   ]
  },
  {
   "cell_type": "code",
   "execution_count": 66,
   "metadata": {},
   "outputs": [],
   "source": [
    "rcParams['figure.dpi'] = 80\n",
    "fig, ax = plt.subplots(nrows = 2, ncols = 3, figsize=(12, 10))\n",
    "ax = ax.flatten()\n",
    "\n",
    "marker_genes = ['TREM2', 'SPP1', 'CD9', 'LPL', 'FABP4']\n",
    "for pi, g in enumerate(marker_genes):\n",
    "    sc.pl.umap(ad, color=g, title=g, use_raw=False, ax=ax[pi], show=False)\n",
    "\n",
    "plt.subplots_adjust(bottom=.3)\n",
    "\n",
    "save = 1 # 1\n",
    "if save:\n",
    "    plt.savefig('figures/marker_genes.pdf')\n",
    "    plt.close()"
   ]
  },
  {
   "cell_type": "markdown",
   "metadata": {},
   "source": [
    "### Define custom markers based on revision"
   ]
  },
  {
   "cell_type": "code",
   "execution_count": 111,
   "metadata": {},
   "outputs": [
    {
     "name": "stderr",
     "output_type": "stream",
     "text": [
      "/home/icb/ignacio.ibarra/miniconda3/envs/mypython3/lib/python3.7/site-packages/IPython/core/interactiveshell.py:3156: DtypeWarning: Columns (1,2) have mixed types.Specify dtype option on import or set low_memory=False.\n",
      "  interactivity=interactivity, compiler=compiler, result=result)\n"
     ]
    }
   ],
   "source": [
    "## a new annotations has been proposed and has to be incorporated into the objects\n",
    "mapping_revision_2021 = pd.read_csv('barcodes_cluster_annotation_OD.csv', index_col=0)\n",
    "assert sum(ad.obs.index == mapping_revision_2021.index) == ad.shape[0]\n"
   ]
  },
  {
   "cell_type": "code",
   "execution_count": 114,
   "metadata": {},
   "outputs": [],
   "source": [
    "ad.obs['bal_clusters'] = ad.obs.index.map(mapping_revision_2021['bal_clusters'].to_dict())\n",
    "ad.obs['bal_clusters'].value_counts()\n",
    "ad.obs['mdm.type'] = ad.obs['bal_clusters']"
   ]
  },
  {
   "cell_type": "markdown",
   "metadata": {},
   "source": [
    "### Define custom colors for MDMs."
   ]
  },
  {
   "cell_type": "code",
   "execution_count": null,
   "metadata": {},
   "outputs": [],
   "source": []
  },
  {
   "cell_type": "code",
   "execution_count": 115,
   "metadata": {},
   "outputs": [
    {
     "data": {
      "text/plain": [
       "other            130838\n",
       "Monocytes          2012\n",
       "CD163/LGMN-Mφ      1723\n",
       "Mono/Mφ            1555\n",
       "AMφ-1               998\n",
       "AMφ-2               713\n",
       "low quality         310\n",
       "Prolif. AMφ         192\n",
       "Name: mdm.type, dtype: int64"
      ]
     },
     "execution_count": 115,
     "metadata": {},
     "output_type": "execute_result"
    }
   ],
   "source": [
    "ad.obs['mdm.type'].value_counts()"
   ]
  },
  {
   "cell_type": "code",
   "execution_count": 227,
   "metadata": {},
   "outputs": [],
   "source": [
    "# color_map = {\"MDM 1\": \"#009E73\",\n",
    "#              \"MDM 2\": \"#E69F00\",\n",
    "#              \"MDM 3A\": \"#D55E00\",\n",
    "#             \"MDM 3B\": \"#A020F0\",\n",
    "#             \"AM 2\": \"#0072B2\",\n",
    "#             \"AM 1\": \"#56B4E9\",\n",
    "#             \"Undefined\": \"#999999\",\n",
    "#             # 'BALF': 'gray',\n",
    "#             'Others (COVID)' : 'lightgray',\n",
    "#             'Others (Adams/Morse/Budinger)': 'lightgray'}\n",
    "\n",
    "color_map = {\n",
    "          \"1 FCN1-Mono\": \"#009E73\",\n",
    "          \"2 Mono/Mp\": \"#E69F00\",\n",
    "          \"3 SPP1/LGMN-Mp\": \"#D55E00\",\n",
    "          \"4 SPP1/TREM2-Mp\": \"#A020F0\",\n",
    "          \"5 INHBA-AMp\": \"#0072B2\",\n",
    "          \"6 Prolif. AMp\": \"#56B4E9\",\n",
    "          \"Low quality\": \"#999999\",\n",
    "          # 'BALF': 'gray',\n",
    "          'Others (COVID)' : 'lightgray',\n",
    "          'Others (A/M/B)': 'lightgray'}\n",
    "\n",
    "color_map = {\n",
    "  \"Monocytes\"     : \"#009E73\",\n",
    "  \"Mono/Mφ\"       : \"#E69F00\",\n",
    "  \"CD163/LGMN-Mφ\" : \"#D55E00\",\n",
    "  \"AMφ-1\"         : \"#A020F0\",\n",
    "  \"AMφ-2\"         : \"#0072B2\",\n",
    "  \"Prolif. AMφ\"   : \"#56B4E9\",\n",
    "  \"other\"   : \"#D3D3D3\",\n",
    "  'low quality'   : \"#D3D3D3\"\n",
    "}\n",
    "\n",
    "ad.obs['mdm.type'] = ad.obs['mdm.type'].astype('category')\n",
    "\n",
    "ad.obs['disease.status'] = ad.obs['disease.status'].str.replace('Control', 'control')\n",
    "\n",
    "\n",
    "colors = ad.obs['mdm.type'].cat.categories.map(color_map)\n",
    "ad.uns['mdm.type_colors'] = ad.obs['mdm.type'].cat.categories.map(color_map)"
   ]
  },
  {
   "cell_type": "code",
   "execution_count": 206,
   "metadata": {},
   "outputs": [
    {
     "data": {
      "text/plain": [
       "{'Monocytes': '#009E73',\n",
       " 'Mono/Mφ': '#E69F00',\n",
       " 'CD163/LGMN-Mφ': '#D55E00',\n",
       " 'AMφ-1': '#A020F0',\n",
       " 'AMφ-2': '#0072B2',\n",
       " 'Prolif. AMφ': '#56B4E9',\n",
       " 'other': '#D3D3D3',\n",
       " nan: '#D3D3D3'}"
      ]
     },
     "execution_count": 206,
     "metadata": {},
     "output_type": "execute_result"
    }
   ],
   "source": [
    "color_map"
   ]
  },
  {
   "cell_type": "code",
   "execution_count": 199,
   "metadata": {},
   "outputs": [
    {
     "data": {
      "text/plain": [
       "other            130838\n",
       "Monocytes          2012\n",
       "CD163/LGMN-Mφ      1723\n",
       "Mono/Mφ            1555\n",
       "AMφ-1               998\n",
       "AMφ-2               713\n",
       "low quality         310\n",
       "Prolif. AMφ         192\n",
       "Name: mdm.type, dtype: int64"
      ]
     },
     "execution_count": 199,
     "metadata": {},
     "output_type": "execute_result"
    }
   ],
   "source": [
    "ad[ad.obs['mdm.type'] != 'Others (A/M/B)',:].obs['mdm.type'].value_counts()"
   ]
  },
  {
   "cell_type": "code",
   "execution_count": 200,
   "metadata": {},
   "outputs": [
    {
     "data": {
      "text/plain": [
       "#E69F00    1\n",
       "#0072B2    1\n",
       "#D55E00    1\n",
       "#D3D3D3    1\n",
       "#009E73    1\n",
       "#56B4E9    1\n",
       "#A020F0    1\n",
       "dtype: int64"
      ]
     },
     "execution_count": 200,
     "metadata": {},
     "output_type": "execute_result"
    }
   ],
   "source": [
    "ad.uns['mdm.type_colors'].value_counts()"
   ]
  },
  {
   "cell_type": "code",
   "execution_count": 176,
   "metadata": {},
   "outputs": [
    {
     "data": {
      "text/plain": [
       "Index(['AMφ-1', 'AMφ-2', 'CD163/LGMN-Mφ', 'Mono/Mφ', 'Monocytes',\n",
       "       'Prolif. AMφ', 'low quality', 'other'],\n",
       "      dtype='object')"
      ]
     },
     "execution_count": 176,
     "metadata": {},
     "output_type": "execute_result"
    }
   ],
   "source": [
    "ad.obs['mdm.type'].cat.categories"
   ]
  },
  {
   "cell_type": "code",
   "execution_count": 186,
   "metadata": {},
   "outputs": [],
   "source": [
    "ad.obs['disease.status'] = ad.obs['disease.status'].str.replace('Control', 'control')\n",
    "ad.obs['disease.status'] = np.where(ad.obs['disease.status'].str.contains('nan'), 'BAL', ad.obs['disease.status'])\n",
    "ad.obs['cell.type'] = np.where(ad.obs['cell.type'].str.contains('nan'), ad.obs['Subclass_Cell_Identity'], ad.obs['cell.type'])\n",
    "ad.obs['cell.type'] = np.where(ad.obs['cell.type'].str.contains('nan'), ad.obs['Celltype_2'], ad.obs['cell.type'])"
   ]
  },
  {
   "cell_type": "code",
   "execution_count": 187,
   "metadata": {},
   "outputs": [],
   "source": [
    "sc.set_figure_params(vector_friendly=True)"
   ]
  },
  {
   "cell_type": "code",
   "execution_count": 188,
   "metadata": {},
   "outputs": [],
   "source": [
    "ad.obs['disease.status'] = np.where(ad.obs['disease.status'].isin({'BAL (NA)', 'covid'}),\n",
    "                                    ad.obs['disease.status'].map({'BAL (NA)': 'COVID-19 (this work)', 'covid': 'COVID-19 (Budinger)'}),\n",
    "                                    ad.obs['disease.status'])"
   ]
  },
  {
   "cell_type": "code",
   "execution_count": 189,
   "metadata": {},
   "outputs": [
    {
     "data": {
      "text/plain": [
       "138341"
      ]
     },
     "execution_count": 189,
     "metadata": {},
     "output_type": "execute_result"
    }
   ],
   "source": [
    "ad.obs['disease.status'].value_counts().sum()"
   ]
  },
  {
   "cell_type": "code",
   "execution_count": 190,
   "metadata": {},
   "outputs": [
    {
     "data": {
      "text/plain": [
       "control                 39409\n",
       "IPF                     38460\n",
       "COPD                    30159\n",
       "COVID-19 (Budinger)     22810\n",
       "COVID-19 (this work)     7503\n",
       "Name: disease.status, dtype: int64"
      ]
     },
     "execution_count": 190,
     "metadata": {},
     "output_type": "execute_result"
    }
   ],
   "source": [
    "ad.obs['disease.status'].value_counts()"
   ]
  },
  {
   "cell_type": "code",
   "execution_count": 191,
   "metadata": {},
   "outputs": [],
   "source": [
    "# define colors for the disease.status\n",
    "color_map = {\n",
    "          \"IPF\": \"#249d68\",\n",
    "          \"COVID-19 (this work)\": \"#2177b4\",\n",
    "          \"COVID-19 (Budinger)\": \"#d52928\",\n",
    "          \"COPD\": \"#f47e1f\",\n",
    "          \"control\": \"lightgray\"}\n",
    "\n",
    "ad.obs['disease.status'] = ad.obs['disease.status'].astype('category')\n",
    "colors = ad.obs['disease.status'].cat.categories.map(color_map)\n",
    "ad.uns['disease.status_colors'] = ad.obs['disease.status'].cat.categories.map(color_map)"
   ]
  },
  {
   "cell_type": "code",
   "execution_count": 192,
   "metadata": {},
   "outputs": [
    {
     "name": "stdout",
     "output_type": "stream",
     "text": [
      "Index(['COPD', 'COVID-19 (Budinger)', 'COVID-19 (this work)', 'IPF',\n",
      "       'control'],\n",
      "      dtype='object') Index(['#f47e1f', '#d52928', '#2177b4', '#249d68', 'lightgray'], dtype='object')\n"
     ]
    }
   ],
   "source": [
    "print(ad.obs['disease.status'].cat.categories, ad.uns['disease.status_colors'])"
   ]
  },
  {
   "cell_type": "code",
   "execution_count": 193,
   "metadata": {},
   "outputs": [
    {
     "data": {
      "text/plain": [
       "other            130838\n",
       "Monocytes          2012\n",
       "CD163/LGMN-Mφ      1723\n",
       "Mono/Mφ            1555\n",
       "AMφ-1               998\n",
       "AMφ-2               713\n",
       "low quality         310\n",
       "Prolif. AMφ         192\n",
       "Name: mdm.type, dtype: int64"
      ]
     },
     "execution_count": 193,
     "metadata": {},
     "output_type": "execute_result"
    }
   ],
   "source": [
    "ad.obs['mdm.type'].value_counts()"
   ]
  },
  {
   "cell_type": "code",
   "execution_count": 201,
   "metadata": {},
   "outputs": [],
   "source": [
    "ad.obs['is.others'] = ad.obs['mdm.type'].str.lower().str.contains('other')\n",
    "ad_copy = ad[ad.obs.sort_values('is.others', ascending=False).index,:]"
   ]
  },
  {
   "cell_type": "code",
   "execution_count": 202,
   "metadata": {},
   "outputs": [],
   "source": [
    "# make a copy of the whole object before plotting\n",
    "# print(ad.obs['disease.status'].cat.categories, ad.uns['disease.status_colors'])"
   ]
  },
  {
   "cell_type": "code",
   "execution_count": 216,
   "metadata": {},
   "outputs": [],
   "source": [
    "del ad_copy.uns['mdm.type_colors']"
   ]
  },
  {
   "cell_type": "code",
   "execution_count": 236,
   "metadata": {},
   "outputs": [],
   "source": [
    "# ad_copy.uns['mdm.type_colors']"
   ]
  },
  {
   "cell_type": "code",
   "execution_count": 220,
   "metadata": {},
   "outputs": [
    {
     "data": {
      "text/plain": [
       "{'Monocytes': '#009E73',\n",
       " 'Mono/Mφ': '#E69F00',\n",
       " 'CD163/LGMN-Mφ': '#D55E00',\n",
       " 'AMφ-1': '#A020F0',\n",
       " 'AMφ-2': '#0072B2',\n",
       " 'Prolif. AMφ': '#56B4E9',\n",
       " 'other': '#D3D3D3',\n",
       " nan: '#D3D3D3'}"
      ]
     },
     "execution_count": 220,
     "metadata": {},
     "output_type": "execute_result"
    }
   ],
   "source": [
    "color_map"
   ]
  },
  {
   "cell_type": "code",
   "execution_count": 237,
   "metadata": {},
   "outputs": [],
   "source": [
    "ad_copy.uns['mdm.type_colors'] = ad_copy.obs['mdm.type'].cat.categories.map(color_map)"
   ]
  },
  {
   "cell_type": "code",
   "execution_count": 238,
   "metadata": {},
   "outputs": [
    {
     "data": {
      "text/plain": [
       "Index(['AMφ-1', 'AMφ-2', 'CD163/LGMN-Mφ', 'Mono/Mφ', 'Monocytes',\n",
       "       'Prolif. AMφ', 'low quality', 'other'],\n",
       "      dtype='object')"
      ]
     },
     "execution_count": 238,
     "metadata": {},
     "output_type": "execute_result"
    }
   ],
   "source": [
    "ad_copy.obs['mdm.type'].cat.categories"
   ]
  },
  {
   "cell_type": "code",
   "execution_count": 239,
   "metadata": {},
   "outputs": [
    {
     "data": {
      "text/plain": [
       "Index(['#A020F0', '#0072B2', '#D55E00', '#E69F00', '#009E73', '#56B4E9',\n",
       "       '#D3D3D3', '#D3D3D3'],\n",
       "      dtype='object')"
      ]
     },
     "execution_count": 239,
     "metadata": {},
     "output_type": "execute_result"
    }
   ],
   "source": [
    "ad_copy.uns['mdm.type_colors']"
   ]
  },
  {
   "cell_type": "code",
   "execution_count": 240,
   "metadata": {},
   "outputs": [
    {
     "name": "stdout",
     "output_type": "stream",
     "text": [
      "plotting 1st...\n",
      "plotting 2nd...\n"
     ]
    }
   ],
   "source": [
    "rcParams['figure.figsize'] = [12, 5]\n",
    "rcParams['figure.dpi'] = 100\n",
    "ax = plt.subplot(1, 2, 1)\n",
    "\n",
    "\n",
    "print('plotting 1st...')\n",
    "sc.pl.umap(ad_copy, color='mdm.type', title='mdm.type', size=np.where(ad_copy.obs['mdm.type'].astype(str).str.contains('other'), 1.0, 25),\n",
    "           ax=ax, show=False) # colors)\n",
    "\n",
    "# plt.xlabel('UMAP1'); plt.ylabel('UMAP2')\n",
    "plt.xlabel('UMAP1')\n",
    "plt.ylabel('UMAP2')\n",
    "ax.spines['right'].set_visible(False)\n",
    "ax.spines['top'].set_visible(False)\n",
    "\n",
    "ax = plt.subplot(1, 2, 2)\n",
    "print('plotting 2nd...')\n",
    "sc.pl.umap(ad_copy, color='disease.status', title='disease.status', size=np.where(ad_copy.obs['disease.status'].astype(str) == 'nan', 5.0, 5.0),\n",
    "           ax=ax, show=False)\n",
    "\n",
    "plt.xlabel('UMAP1')\n",
    "plt.ylabel('UMAP2')\n",
    "ax.spines['right'].set_visible(False)\n",
    "ax.spines['top'].set_visible(False)\n",
    "\n",
    "plt.tight_layout()\n",
    "\n",
    "plt.subplots_adjust(bottom=.35)\n",
    "\n",
    "plt.savefig('data/figures/mdm_and_disease_status_revision.pdf')\n",
    "plt.close()\n",
    "\n"
   ]
  },
  {
   "cell_type": "code",
   "execution_count": 88,
   "metadata": {},
   "outputs": [
    {
     "name": "stdout",
     "output_type": "stream",
     "text": [
      "here...\n"
     ]
    }
   ],
   "source": [
    "print('here...')"
   ]
  },
  {
   "cell_type": "code",
   "execution_count": 89,
   "metadata": {},
   "outputs": [
    {
     "data": {
      "text/plain": [
       "control                 39409\n",
       "IPF                     38460\n",
       "COPD                    30159\n",
       "COVID-19 (Budinger)     22810\n",
       "COVID-19 (this work)     7503\n",
       "Name: disease.status, dtype: int64"
      ]
     },
     "execution_count": 89,
     "metadata": {},
     "output_type": "execute_result"
    }
   ],
   "source": [
    "ad.obs['disease.status'].value_counts()"
   ]
  },
  {
   "cell_type": "code",
   "execution_count": 90,
   "metadata": {},
   "outputs": [
    {
     "name": "stdout",
     "output_type": "stream",
     "text": [
      "138341\n"
     ]
    }
   ],
   "source": [
    "print(ad.obs['disease.status'].value_counts().sum())"
   ]
  },
  {
   "cell_type": "code",
   "execution_count": 91,
   "metadata": {},
   "outputs": [
    {
     "name": "stdout",
     "output_type": "stream",
     "text": [
      "done...\n"
     ]
    }
   ],
   "source": [
    "print('done...')"
   ]
  },
  {
   "cell_type": "code",
   "execution_count": 92,
   "metadata": {},
   "outputs": [
    {
     "name": "stderr",
     "output_type": "stream",
     "text": [
      "... storing 'cell.type' as categorical\n"
     ]
    }
   ],
   "source": [
    "sc.tl.embedding_density(ad, groupby='disease.status')"
   ]
  },
  {
   "cell_type": "code",
   "execution_count": 93,
   "metadata": {},
   "outputs": [],
   "source": [
    "sc.set_figure_params(facecolor='white')"
   ]
  },
  {
   "cell_type": "code",
   "execution_count": 94,
   "metadata": {},
   "outputs": [
    {
     "data": {
      "text/plain": [
       "AnnData object with n_obs × n_vars = 138341 × 17656\n",
       "    obs: 'GSM', 'sample.id', 'n_counts', 'log_counts', 'n_genes', 'mt_frac', 'patient.id', 'cell.type', 'study', 'disease.status', 'MP.markers.score', 'MP.others.score', 'MP.all.score', 'nUMI', 'nGene', 'CellType_Category', 'Manuscript_Identity', 'Subclass_Cell_Identity', 'Disease_Identity', 'Subject_Identity', 'Library_Identity', 'groups', 'batch', 'orig.ident', 'nCount_RNA', 'nFeature_RNA', 'viral_counts', 'viral_ratio', 'viral_norm', 'percent.mt', 'number', 'dataset', 'S.Score', 'G2M.Score', 'Phase', 'CC.Difference', 'SR.score1', 'dissoc.score1', 'Label', 'nCount_VIRAL', 'nFeature_VIRAL', 'seurat_clusters', 'RNA_mnn_40_Leiden_res.0.1', 'RNA_mnn_40_Leiden_res.0.2', 'RNA_mnn_40_Leiden_res.0.3', 'RNA_mnn_40_Leiden_res.0.4', 'RNA_mnn_40_Leiden_res.0.5', 'RNA_mnn_40_Leiden_res.0.6', 'RNA_mnn_40_Leiden_res.0.7', 'RNA_mnn_40_Leiden_res.0.8', 'RNA_mnn_40_Leiden_res.0.9', 'RNA_mnn_40_Leiden_res.1', 'RNA_mnn_40_Leiden_res.1.5', 'RNA_mnn_40_Leiden_res.2', 'RNA_mnn_40_Leiden_res.3', 'RNA_mnn_40_Leiden_res.5', 'Celltype', 'patient', 'dpso', 'age', 'sex', 'Celltype_2', 'Timepoint', 'ident', 'mdm.type', 'Unnamed: 0', 'Study', 'Sample Source', 'Sample Name', 'Sample Status', 'Diagnosis', 'COVID-19', 'Tissue Type', 'Cell Population', 'Cell Type', 'leiden', 'No of UMIs', 'No of genes', '% of mito genes', 'Cluster', 'is.others', 'umap_density_disease.status'\n",
       "    var: 'symbol', 'highly_variable', 'ensembl-0-0-0', 'highly_variable-0-0-0', 'means-0-0-0', 'ensembl-1-0-0', 'highly_variable-1-0-0', 'means-1-0-0', 'vst.mean-1-0', 'vst.variance-1-0', 'vst.variance.expected-1-0', 'vst.variance.standardized-1-0', 'vst.variable-1-0', 'ensembl-1-0', 'highly_variable-1-0', 'means-1-0', 'dispersions-0-0-0-0-0-0', 'dispersions_norm-0-0-0-0-0-0', 'dispersions-1-0-0-0-0-0', 'dispersions_norm-1-0-0-0-0-0', 'dispersions-1-0-0-0-0', 'dispersions_norm-1-0-0-0-0', 'feature_types-0-1-0-0-0', 'n_cells-0-1-0-0-0', 'feature_types-1-1-0-0-0', 'n_cells-1-1-0-0-0', 'feature_types-10-1-0-0-0', 'n_cells-10-1-0-0-0', 'feature_types-11-1-0-0-0', 'n_cells-11-1-0-0-0', 'feature_types-12-1-0-0-0', 'n_cells-12-1-0-0-0', 'feature_types-13-1-0-0-0', 'n_cells-13-1-0-0-0', 'feature_types-14-1-0-0-0', 'n_cells-14-1-0-0-0', 'feature_types-15-1-0-0-0', 'n_cells-15-1-0-0-0', 'feature_types-16-1-0-0-0', 'n_cells-16-1-0-0-0', 'feature_types-17-1-0-0-0', 'n_cells-17-1-0-0-0', 'feature_types-18-1-0-0-0', 'n_cells-18-1-0-0-0', 'feature_types-19-1-0-0-0', 'n_cells-19-1-0-0-0', 'feature_types-2-1-0-0-0', 'n_cells-2-1-0-0-0', 'feature_types-20-1-0-0-0', 'n_cells-20-1-0-0-0', 'feature_types-21-1-0-0-0', 'n_cells-21-1-0-0-0', 'feature_types-3-1-0-0-0', 'n_cells-3-1-0-0-0', 'feature_types-4-1-0-0-0', 'n_cells-4-1-0-0-0', 'feature_types-5-1-0-0-0', 'n_cells-5-1-0-0-0', 'feature_types-6-1-0-0-0', 'n_cells-6-1-0-0-0', 'feature_types-7-1-0-0-0', 'n_cells-7-1-0-0-0', 'feature_types-8-1-0-0-0', 'n_cells-8-1-0-0-0', 'feature_types-9-1-0-0-0', 'n_cells-9-1-0-0-0', 'dispersions-1-0-0-0', 'dispersions_norm-1-0-0-0', 'dispersions-0-0-0-1-0-0', 'dispersions_norm-0-0-0-1-0-0', 'dispersions-1-0-0-1-0-0', 'dispersions_norm-1-0-0-1-0-0', 'dispersions-1-0-1-0-0', 'dispersions_norm-1-0-1-0-0', 'feature_types-0-1-1-0-0', 'n_cells-0-1-1-0-0', 'feature_types-1-1-1-0-0', 'n_cells-1-1-1-0-0', 'feature_types-10-1-1-0-0', 'n_cells-10-1-1-0-0', 'feature_types-11-1-1-0-0', 'n_cells-11-1-1-0-0', 'feature_types-12-1-1-0-0', 'n_cells-12-1-1-0-0', 'feature_types-13-1-1-0-0', 'n_cells-13-1-1-0-0', 'feature_types-14-1-1-0-0', 'n_cells-14-1-1-0-0', 'feature_types-15-1-1-0-0', 'n_cells-15-1-1-0-0', 'feature_types-16-1-1-0-0', 'n_cells-16-1-1-0-0', 'feature_types-17-1-1-0-0', 'n_cells-17-1-1-0-0', 'feature_types-18-1-1-0-0', 'n_cells-18-1-1-0-0', 'feature_types-19-1-1-0-0', 'n_cells-19-1-1-0-0', 'feature_types-2-1-1-0-0', 'n_cells-2-1-1-0-0', 'feature_types-20-1-1-0-0', 'n_cells-20-1-1-0-0', 'feature_types-21-1-1-0-0', 'n_cells-21-1-1-0-0', 'feature_types-3-1-1-0-0', 'n_cells-3-1-1-0-0', 'feature_types-4-1-1-0-0', 'n_cells-4-1-1-0-0', 'feature_types-5-1-1-0-0', 'n_cells-5-1-1-0-0', 'feature_types-6-1-1-0-0', 'n_cells-6-1-1-0-0', 'feature_types-7-1-1-0-0', 'n_cells-7-1-1-0-0', 'feature_types-8-1-1-0-0', 'n_cells-8-1-1-0-0', 'feature_types-9-1-1-0-0', 'n_cells-9-1-1-0-0', 'dispersions-1-1-0-0', 'dispersions_norm-1-1-0-0', 'dispersions-1-0-0-1-0', 'dispersions_norm-1-0-0-1-0', 'dispersions-1-0-1-0', 'dispersions_norm-1-0-1-0', 'dispersions-0-0-0-1-0', 'dispersions_norm-0-0-0-1-0', 'feature_types-0-1-1-0', 'n_cells-0-1-1-0', 'feature_types-1-1-1-0', 'n_cells-1-1-1-0', 'feature_types-10-1-1-0', 'n_cells-10-1-1-0', 'feature_types-11-1-1-0', 'n_cells-11-1-1-0', 'feature_types-12-1-1-0', 'n_cells-12-1-1-0', 'feature_types-13-1-1-0', 'n_cells-13-1-1-0', 'feature_types-14-1-1-0', 'n_cells-14-1-1-0', 'feature_types-15-1-1-0', 'n_cells-15-1-1-0', 'feature_types-16-1-1-0', 'n_cells-16-1-1-0', 'feature_types-17-1-1-0', 'n_cells-17-1-1-0', 'feature_types-18-1-1-0', 'n_cells-18-1-1-0', 'feature_types-19-1-1-0', 'n_cells-19-1-1-0', 'feature_types-2-1-1-0', 'n_cells-2-1-1-0', 'feature_types-20-1-1-0', 'n_cells-20-1-1-0', 'feature_types-21-1-1-0', 'n_cells-21-1-1-0', 'feature_types-3-1-1-0', 'n_cells-3-1-1-0', 'feature_types-4-1-1-0', 'n_cells-4-1-1-0', 'feature_types-5-1-1-0', 'n_cells-5-1-1-0', 'feature_types-6-1-1-0', 'n_cells-6-1-1-0', 'feature_types-7-1-1-0', 'n_cells-7-1-1-0', 'feature_types-8-1-1-0', 'n_cells-8-1-1-0', 'feature_types-9-1-1-0', 'n_cells-9-1-1-0', 'dispersions-1-1-0', 'dispersions_norm-1-1-0', 'gene_ids-0-1', 'gene_ids-1-1', 'gene_ids-10-1', 'gene_ids-11-1', 'gene_ids-12-1', 'gene_ids-13-1', 'gene_ids-14-1', 'gene_ids-15-1', 'gene_ids-16-1', 'gene_ids-17-1', 'gene_ids-18-1', 'gene_ids-19-1', 'gene_ids-2-1', 'gene_ids-20-1', 'gene_ids-21-1', 'gene_ids-3-1', 'gene_ids-4-1', 'gene_ids-5-1', 'gene_ids-6-1', 'gene_ids-7-1', 'gene_ids-8-1', 'gene_ids-9-1', 'mito-1', 'ribo-1', 'n_cells_by_counts-1', 'mean_counts-1', 'pct_dropout_by_counts-1', 'total_counts-1', 'highly_variable-1', 'means-1', 'dispersions-1-0-0-1', 'dispersions_norm-1-0-0-1', 'dispersions-0-0-0-1', 'dispersions_norm-0-0-0-1', 'dispersions-1-0-1', 'dispersions_norm-1-0-1', 'feature_types-0-1-1', 'n_cells-0-1-1', 'feature_types-1-1-1', 'n_cells-1-1-1', 'feature_types-10-1-1', 'n_cells-10-1-1', 'feature_types-11-1-1', 'n_cells-11-1-1', 'feature_types-12-1-1', 'n_cells-12-1-1', 'feature_types-13-1-1', 'n_cells-13-1-1', 'feature_types-14-1-1', 'n_cells-14-1-1', 'feature_types-15-1-1', 'n_cells-15-1-1', 'feature_types-16-1-1', 'n_cells-16-1-1', 'feature_types-17-1-1', 'n_cells-17-1-1', 'feature_types-18-1-1', 'n_cells-18-1-1', 'feature_types-19-1-1', 'n_cells-19-1-1', 'feature_types-2-1-1', 'n_cells-2-1-1', 'feature_types-20-1-1', 'n_cells-20-1-1', 'feature_types-21-1-1', 'n_cells-21-1-1', 'feature_types-3-1-1', 'n_cells-3-1-1', 'feature_types-4-1-1', 'n_cells-4-1-1', 'feature_types-5-1-1', 'n_cells-5-1-1', 'feature_types-6-1-1', 'n_cells-6-1-1', 'feature_types-7-1-1', 'n_cells-7-1-1', 'feature_types-8-1-1', 'n_cells-8-1-1', 'feature_types-9-1-1', 'n_cells-9-1-1', 'dispersions-1-1', 'dispersions_norm-1-1', 'hvg.or.marker'\n",
       "    uns: 'neighbors', 'umap', 'study_colors', 'patient.id_colors', 'cell.type_colors', 'disease.status_colors', 'mdm.type_colors', 'umap_density_disease.status_params'\n",
       "    obsm: 'X_emb', 'X_umap'\n",
       "    layers: 'counts'\n",
       "    obsp: 'connectivities', 'distances'"
      ]
     },
     "execution_count": 94,
     "metadata": {},
     "output_type": "execute_result"
    }
   ],
   "source": [
    "ad"
   ]
  },
  {
   "cell_type": "code",
   "execution_count": 95,
   "metadata": {},
   "outputs": [],
   "source": [
    "# ad.obs[lab] = ad.obs[lab].astype(float)\n",
    "sc.tl.embedding_density(ad, basis='umap', groupby='disease.status')"
   ]
  },
  {
   "cell_type": "code",
   "execution_count": 96,
   "metadata": {},
   "outputs": [
    {
     "data": {
      "text/plain": [
       "'/mnt/znas/icb_zstore01/groups/ml01/workspace/ignacio.ibarra/theislab/saliba_macrophages/notebooks/revision/mdm_and_disease_status_density_revision.pdf'"
      ]
     },
     "execution_count": 96,
     "metadata": {},
     "output_type": "execute_result"
    }
   ],
   "source": [
    "abspath('mdm_and_disease_status_density_revision.pdf')"
   ]
  },
  {
   "cell_type": "code",
   "execution_count": null,
   "metadata": {},
   "outputs": [],
   "source": []
  },
  {
   "cell_type": "code",
   "execution_count": 97,
   "metadata": {},
   "outputs": [
    {
     "name": "stdout",
     "output_type": "stream",
     "text": [
      "here...\n"
     ]
    }
   ],
   "source": [
    "print('here...')"
   ]
  },
  {
   "cell_type": "code",
   "execution_count": 98,
   "metadata": {},
   "outputs": [
    {
     "name": "stderr",
     "output_type": "stream",
     "text": [
      "/home/icb/ignacio.ibarra/miniconda3/envs/mypython3/lib/python3.7/site-packages/scanpy/plotting/_tools/__init__.py:1186: MatplotlibDeprecationWarning: You are modifying the state of a globally registered colormap. In future versions, you will not be able to modify a registered colormap in-place. To remove this warning, you can make a copy of the colormap first. cmap = copy.copy(mpl.cm.get_cmap(\"YlOrRd\"))\n",
      "  color_map.set_over('black')\n",
      "/home/icb/ignacio.ibarra/miniconda3/envs/mypython3/lib/python3.7/site-packages/scanpy/plotting/_tools/__init__.py:1187: MatplotlibDeprecationWarning: You are modifying the state of a globally registered colormap. In future versions, you will not be able to modify a registered colormap in-place. To remove this warning, you can make a copy of the colormap first. cmap = copy.copy(mpl.cm.get_cmap(\"YlOrRd\"))\n",
      "  color_map.set_under('lightgray')\n",
      "/home/icb/ignacio.ibarra/miniconda3/envs/mypython3/lib/python3.7/site-packages/scanpy/plotting/_tools/scatterplots.py:370: MatplotlibDeprecationWarning: Passing parameters norm and vmin/vmax simultaneously is deprecated since 3.3 and will become an error two minor releases later. Please pass vmin/vmax directly to the norm when creating it.\n",
      "  **kwargs,\n",
      "WARNING: saving figure to file figures/umap_density_disease.status_mdm_and_disease_status_density_revision.pdf\n"
     ]
    }
   ],
   "source": [
    "rcParams['figure.figsize'] = [5, 5]\n",
    "rcParams['figure.dpi'] = 100\n",
    "# ax = plt.subplot()\n",
    "fig = sc.pl.embedding_density(ad, basis='umap', key='umap_density_disease.status', show=False,\n",
    "                             save='mdm_and_disease_status_density_revision.pdf') #  group='is.BAL')\n",
    "# plt.savefig('data/figures/mdm_and_disease_status_density.pdf')\n",
    "# plt.close()"
   ]
  },
  {
   "cell_type": "markdown",
   "metadata": {},
   "source": [
    "### Make a second density now highlighting the respective MDM from this work and the ones from Budinger."
   ]
  },
  {
   "cell_type": "code",
   "execution_count": 235,
   "metadata": {},
   "outputs": [
    {
     "data": {
      "text/plain": [
       "other            130838\n",
       "Monocytes          2012\n",
       "CD163/LGMN-Mφ      1723\n",
       "Mono/Mφ            1555\n",
       "AMφ-1               998\n",
       "AMφ-2               713\n",
       "low quality         310\n",
       "Prolif. AMφ         192\n",
       "Name: mdm.type, dtype: int64"
      ]
     },
     "execution_count": 235,
     "metadata": {},
     "output_type": "execute_result"
    }
   ],
   "source": [
    "ad.obs['mdm.type'].value_counts()"
   ]
  },
  {
   "cell_type": "code",
   "execution_count": 232,
   "metadata": {},
   "outputs": [
    {
     "name": "stderr",
     "output_type": "stream",
     "text": [
      "... storing 'cell.type' as categorical\n",
      "... storing 'disease.status' as categorical\n",
      "... storing 'bal_clusters' as categorical\n"
     ]
    }
   ],
   "source": [
    "# ad.obs[lab] = ad.obs[lab].astype(float)\n",
    "sc.tl.embedding_density(ad, basis='umap', groupby='mdm.type')"
   ]
  },
  {
   "cell_type": "code",
   "execution_count": 233,
   "metadata": {},
   "outputs": [
    {
     "name": "stderr",
     "output_type": "stream",
     "text": [
      "/home/icb/ignacio.ibarra/miniconda3/envs/mypython3/lib/python3.7/site-packages/scanpy/plotting/_tools/__init__.py:1186: MatplotlibDeprecationWarning: You are modifying the state of a globally registered colormap. In future versions, you will not be able to modify a registered colormap in-place. To remove this warning, you can make a copy of the colormap first. cmap = copy.copy(mpl.cm.get_cmap(\"Greens\"))\n",
      "  color_map.set_over('black')\n",
      "/home/icb/ignacio.ibarra/miniconda3/envs/mypython3/lib/python3.7/site-packages/scanpy/plotting/_tools/__init__.py:1187: MatplotlibDeprecationWarning: You are modifying the state of a globally registered colormap. In future versions, you will not be able to modify a registered colormap in-place. To remove this warning, you can make a copy of the colormap first. cmap = copy.copy(mpl.cm.get_cmap(\"Greens\"))\n",
      "  color_map.set_under('lightgray')\n",
      "/home/icb/ignacio.ibarra/miniconda3/envs/mypython3/lib/python3.7/site-packages/scanpy/plotting/_tools/scatterplots.py:370: MatplotlibDeprecationWarning: Passing parameters norm and vmin/vmax simultaneously is deprecated since 3.3 and will become an error two minor releases later. Please pass vmin/vmax directly to the norm when creating it.\n",
      "  **kwargs,\n",
      "WARNING: saving figure to file figures/umap_density_mdm.type_mdm.type_density_revision.pdf\n"
     ]
    }
   ],
   "source": [
    "rcParams['figure.figsize'] = [5, 5]\n",
    "rcParams['figure.dpi'] = 100\n",
    "# ax = plt.subplot()\n",
    "fig = sc.pl.embedding_density(ad, basis='umap', key='umap_density_mdm.type', show=False,\n",
    "                             save='mdm.type_density_revision.pdf', color_map='Greens') #  group='is.BAL')"
   ]
  },
  {
   "cell_type": "code",
   "execution_count": 101,
   "metadata": {},
   "outputs": [],
   "source": [
    "# ad.obs[lab] = ad.obs[lab].astype(float)\n",
    "sc.tl.embedding_density(ad, basis='umap', groupby='Cluster')"
   ]
  },
  {
   "cell_type": "code",
   "execution_count": 102,
   "metadata": {},
   "outputs": [
    {
     "data": {
      "text/plain": [
       "nan          115531\n",
       "MoM2          10453\n",
       "MoM3           8845\n",
       "Monocytes      1968\n",
       "AM1            1030\n",
       "AM2             290\n",
       "MoM1            224\n",
       "Name: Cluster, dtype: int64"
      ]
     },
     "execution_count": 102,
     "metadata": {},
     "output_type": "execute_result"
    }
   ],
   "source": [
    "ad.obs['Cluster'].value_counts()"
   ]
  },
  {
   "cell_type": "code",
   "execution_count": 103,
   "metadata": {},
   "outputs": [
    {
     "name": "stderr",
     "output_type": "stream",
     "text": [
      "WARNING: saving figure to file figures/umap_density_Cluster_Cluster_density_revision.pdf\n"
     ]
    }
   ],
   "source": [
    "rcParams['figure.figsize'] = [5, 5]\n",
    "rcParams['figure.dpi'] = 100\n",
    "# ax = plt.subplot()\n",
    "fig = sc.pl.embedding_density(ad, basis='umap', key='umap_density_Cluster', show=False,\n",
    "                             save='Cluster_density_revision.pdf', color_map='Greens') #  group='is.BAL')"
   ]
  },
  {
   "cell_type": "code",
   "execution_count": 104,
   "metadata": {},
   "outputs": [
    {
     "data": {
      "text/plain": [
       "Index(['GSM', 'sample.id', 'n_counts', 'log_counts', 'n_genes', 'mt_frac',\n",
       "       'patient.id', 'cell.type', 'study', 'disease.status',\n",
       "       'MP.markers.score', 'MP.others.score', 'MP.all.score', 'nUMI', 'nGene',\n",
       "       'CellType_Category', 'Manuscript_Identity', 'Subclass_Cell_Identity',\n",
       "       'Disease_Identity', 'Subject_Identity', 'Library_Identity', 'groups',\n",
       "       'batch', 'orig.ident', 'nCount_RNA', 'nFeature_RNA', 'viral_counts',\n",
       "       'viral_ratio', 'viral_norm', 'percent.mt', 'number', 'dataset',\n",
       "       'S.Score', 'G2M.Score', 'Phase', 'CC.Difference', 'SR.score1',\n",
       "       'dissoc.score1', 'Label', 'nCount_VIRAL', 'nFeature_VIRAL',\n",
       "       'seurat_clusters', 'RNA_mnn_40_Leiden_res.0.1',\n",
       "       'RNA_mnn_40_Leiden_res.0.2', 'RNA_mnn_40_Leiden_res.0.3',\n",
       "       'RNA_mnn_40_Leiden_res.0.4', 'RNA_mnn_40_Leiden_res.0.5',\n",
       "       'RNA_mnn_40_Leiden_res.0.6', 'RNA_mnn_40_Leiden_res.0.7',\n",
       "       'RNA_mnn_40_Leiden_res.0.8', 'RNA_mnn_40_Leiden_res.0.9',\n",
       "       'RNA_mnn_40_Leiden_res.1', 'RNA_mnn_40_Leiden_res.1.5',\n",
       "       'RNA_mnn_40_Leiden_res.2', 'RNA_mnn_40_Leiden_res.3',\n",
       "       'RNA_mnn_40_Leiden_res.5', 'Celltype', 'patient', 'dpso', 'age', 'sex',\n",
       "       'Celltype_2', 'Timepoint', 'ident', 'mdm.type', 'Unnamed: 0', 'Study',\n",
       "       'Sample Source', 'Sample Name', 'Sample Status', 'Diagnosis',\n",
       "       'COVID-19', 'Tissue Type', 'Cell Population', 'Cell Type', 'leiden',\n",
       "       'No of UMIs', 'No of genes', '% of mito genes', 'Cluster', 'is.others',\n",
       "       'umap_density_disease.status', 'umap_density_mdm.type',\n",
       "       'umap_density_Cluster'],\n",
       "      dtype='object')"
      ]
     },
     "execution_count": 104,
     "metadata": {},
     "output_type": "execute_result"
    }
   ],
   "source": [
    "ad.obs.columns"
   ]
  },
  {
   "cell_type": "code",
   "execution_count": 105,
   "metadata": {},
   "outputs": [],
   "source": [
    "ad.obs['mdm.type.spp1.and.lgmn'] = np.where(ad.obs['mdm.type'].astype(str).isin({\"3 SPP1/LGMN-Mp\", \"4 SPP1/TREM2-Mp\"}), 'SPP1/TREM2+SPP1', ad.obs['mdm.type'])"
   ]
  },
  {
   "cell_type": "code",
   "execution_count": 106,
   "metadata": {},
   "outputs": [
    {
     "name": "stderr",
     "output_type": "stream",
     "text": [
      "... storing 'mdm.type.spp1.and.lgmn' as categorical\n"
     ]
    }
   ],
   "source": [
    "# ad.obs[lab] = ad.obs[lab].astype(float)\n",
    "sc.tl.embedding_density(ad, basis='umap', groupby='mdm.type.spp1.and.lgmn')"
   ]
  },
  {
   "cell_type": "code",
   "execution_count": 107,
   "metadata": {},
   "outputs": [
    {
     "data": {
      "text/plain": [
       "Others (A/M/B)     130838\n",
       "2 Mono/Mp            2951\n",
       "SPP1/TREM2+SPP1      2009\n",
       "1 FCN1-Mono           992\n",
       "5 INHBA-AMp           916\n",
       "Others (COVID)        358\n",
       "6 Prolif. AMp         175\n",
       "Low quality           102\n",
       "Name: mdm.type.spp1.and.lgmn, dtype: int64"
      ]
     },
     "execution_count": 107,
     "metadata": {},
     "output_type": "execute_result"
    }
   ],
   "source": [
    "ad.obs['mdm.type.spp1.and.lgmn'].value_counts()"
   ]
  },
  {
   "cell_type": "code",
   "execution_count": 108,
   "metadata": {},
   "outputs": [
    {
     "name": "stderr",
     "output_type": "stream",
     "text": [
      "WARNING: saving figure to file figures/umap_density_mdm.type.spp1.and.lgmn_mdm.type.spp1.and.lgmn_density_revision.pdf\n"
     ]
    }
   ],
   "source": [
    "rcParams['figure.figsize'] = [5, 5]\n",
    "rcParams['figure.dpi'] = 100\n",
    "# ax = plt.subplot()\n",
    "fig = sc.pl.embedding_density(ad, basis='umap', key='umap_density_mdm.type.spp1.and.lgmn', show=False,\n",
    "                             save='mdm.type.spp1.and.lgmn_density_revision.pdf', color_map='Greens') #  group='is.BAL')"
   ]
  },
  {
   "cell_type": "code",
   "execution_count": 110,
   "metadata": {},
   "outputs": [
    {
     "name": "stdout",
     "output_type": "stream",
     "text": [
      "/mnt/znas/icb_zstore01/groups/ml01/workspace/ignacio.ibarra/theislab/saliba_macrophages/notebooks/revision\n"
     ]
    }
   ],
   "source": [
    "!readlink -f ."
   ]
  },
  {
   "cell_type": "markdown",
   "metadata": {},
   "source": [
    "### Finally, prepare an embedding density only showing the cells that are MoAM 4/2/3"
   ]
  },
  {
   "cell_type": "code",
   "execution_count": null,
   "metadata": {},
   "outputs": [],
   "source": [
    "budinger = get_budinger()"
   ]
  },
  {
   "cell_type": "code",
   "execution_count": null,
   "metadata": {},
   "outputs": [],
   "source": [
    "mdm_type_by_bc = budinger.obs.set_index('Unnamed: 0')['Cell Type'].to_dict()\n",
    "ad.obs['mdm.type'] = np.where(ad.obs['study'] == 'budinger', ad.obs['Unnamed: 0'].map(mdm_type_by_bc), ad.obs['mdm.type'])\n",
    "ad.obs['disease.status'] = np.where((ad.obs['study'] == 'budinger'), ad.obs['mdm.type'], ad.obs['disease.status'])"
   ]
  },
  {
   "cell_type": "code",
   "execution_count": null,
   "metadata": {},
   "outputs": [],
   "source": [
    "ad.obs['disease.status'].value_counts()"
   ]
  },
  {
   "cell_type": "code",
   "execution_count": null,
   "metadata": {},
   "outputs": [],
   "source": [
    "# ad.obs[lab] = ad.obs[lab].astype(float)\n",
    "sc.tl.embedding_density(ad, basis='umap', groupby='key.budinger')"
   ]
  },
  {
   "cell_type": "code",
   "execution_count": null,
   "metadata": {},
   "outputs": [],
   "source": [
    "fig = sc.pl.embedding_density(ad, basis='umap', key='umap_density_key.budinger', show=False,\n",
    "                             save='key.budinger_density_revision.pdf', color_map='Greens') #  group='is.BAL')"
   ]
  },
  {
   "cell_type": "code",
   "execution_count": null,
   "metadata": {},
   "outputs": [],
   "source": [
    "# ad.obs[lab] = ad.obs[lab].astype(float)\n",
    "ad.obs['label.MoAM.merged'] = np.where(ad.obs['disease.status'].isin({'MoAM-4', 'MoAM-3', 'MoAM-2'}), 'MoAM-2/3/4', ad.obs['disease.status'])\n",
    "sc.tl.embedding_density(ad, basis='umap', groupby='label.MoAM.merged')"
   ]
  },
  {
   "cell_type": "code",
   "execution_count": null,
   "metadata": {},
   "outputs": [],
   "source": [
    "ad.obs['label.MoAM.merged'].value_counts()"
   ]
  },
  {
   "cell_type": "code",
   "execution_count": null,
   "metadata": {},
   "outputs": [],
   "source": [
    "fig = sc.pl.embedding_density(ad, basis='umap', key='umap_density_label.MoAM.merged', show=False,\n",
    "                             save='label.MoAM.merged_density_revision.pdf', color_map='Greens') #  group='is.BAL')"
   ]
  },
  {
   "cell_type": "code",
   "execution_count": 151,
   "metadata": {},
   "outputs": [
    {
     "data": {
      "text/plain": [
       "[<AxesSubplot:title={'center':'COPD'}, xlabel='UMAP1', ylabel='UMAP2'>,\n",
       " <AxesSubplot:title={'center':'COVID-19 (Budinger)'}, xlabel='UMAP1', ylabel='UMAP2'>,\n",
       " <AxesSubplot:title={'center':'COVID-19 (this work)'}, xlabel='UMAP1', ylabel='UMAP2'>,\n",
       " <AxesSubplot:title={'center':'IPF'}, xlabel='UMAP1', ylabel='UMAP2'>,\n",
       " <AxesSubplot:title={'center':'control'}, xlabel='UMAP1', ylabel='UMAP2'>]"
      ]
     },
     "execution_count": 151,
     "metadata": {},
     "output_type": "execute_result"
    }
   ],
   "source": [
    "fig"
   ]
  },
  {
   "cell_type": "code",
   "execution_count": 302,
   "metadata": {},
   "outputs": [],
   "source": [
    "# adpbmc = sc.datasets.pbmc68k_reduced()\n",
    "# sc.tl.umap(adpbmc)\n",
    "# sc.tl.embedding_density(adpbmc, basis='umap', groupby='phase')\n",
    "# sc.pl.embedding_density(adpbmc, basis='umap', key='umap_density_phase', group='G1')\n",
    "# sc.pl.embedding_density(adpbmc, basis='umap', key='umap_density_phase', group='S')"
   ]
  },
  {
   "cell_type": "code",
   "execution_count": 187,
   "metadata": {},
   "outputs": [
    {
     "name": "stdout",
     "output_type": "stream",
     "text": [
      "0 IPF\n",
      "False    132783\n",
      "True      94303\n",
      "Name: is.IPF, dtype: int64\n"
     ]
    },
    {
     "ename": "ValueError",
     "evalue": "Please run `sc.tl.embedding_density()` first and specify the correct key.",
     "output_type": "error",
     "traceback": [
      "\u001b[0;31m---------------------------------------------------------------------------\u001b[0m",
      "\u001b[0;31mValueError\u001b[0m                                Traceback (most recent call last)",
      "\u001b[0;32m<ipython-input-187-6ea96ed5b1d0>\u001b[0m in \u001b[0;36m<module>\u001b[0;34m\u001b[0m\n\u001b[1;32m     27\u001b[0m         sc.pl.embedding_density(ad, color=lab, title=condition + ', n=%i' % n_true,\n\u001b[1;32m     28\u001b[0m                                 \u001b[0msize\u001b[0m\u001b[0;34m=\u001b[0m\u001b[0mnp\u001b[0m\u001b[0;34m.\u001b[0m\u001b[0mwhere\u001b[0m\u001b[0;34m(\u001b[0m\u001b[0mad\u001b[0m\u001b[0;34m.\u001b[0m\u001b[0mobs\u001b[0m\u001b[0;34m[\u001b[0m\u001b[0mlab\u001b[0m\u001b[0;34m]\u001b[0m \u001b[0;34m==\u001b[0m \u001b[0;32mTrue\u001b[0m\u001b[0;34m,\u001b[0m \u001b[0;36m1.0\u001b[0m\u001b[0;34m,\u001b[0m \u001b[0;36m0\u001b[0m \u001b[0;32mif\u001b[0m \u001b[0;32mnot\u001b[0m \u001b[0mshow_everything\u001b[0m \u001b[0;32melse\u001b[0m \u001b[0;36m.1\u001b[0m\u001b[0;34m)\u001b[0m\u001b[0;34m,\u001b[0m \u001b[0msort_order\u001b[0m\u001b[0;34m=\u001b[0m\u001b[0;32mFalse\u001b[0m\u001b[0;34m,\u001b[0m\u001b[0;34m\u001b[0m\u001b[0;34m\u001b[0m\u001b[0m\n\u001b[0;32m---> 29\u001b[0;31m                                 ax=ax, show=False, palette=['gray', 'red'])\n\u001b[0m\u001b[1;32m     30\u001b[0m \u001b[0;34m\u001b[0m\u001b[0m\n\u001b[1;32m     31\u001b[0m         \u001b[0max\u001b[0m\u001b[0;34m.\u001b[0m\u001b[0mget_legend\u001b[0m\u001b[0;34m(\u001b[0m\u001b[0;34m)\u001b[0m\u001b[0;34m.\u001b[0m\u001b[0mremove\u001b[0m\u001b[0;34m(\u001b[0m\u001b[0;34m)\u001b[0m\u001b[0;34m\u001b[0m\u001b[0;34m\u001b[0m\u001b[0m\n",
      "\u001b[0;32m~/miniconda3/envs/mypython3/lib/python3.7/site-packages/scanpy/plotting/_tools/__init__.py\u001b[0m in \u001b[0;36membedding_density\u001b[0;34m(adata, basis, key, groupby, group, color_map, bg_dotsize, fg_dotsize, vmax, vmin, ncols, hspace, wspace, title, show, save, ax, return_fig, **kwargs)\u001b[0m\n\u001b[1;32m   1131\u001b[0m     \u001b[0;32mif\u001b[0m \u001b[0mkey\u001b[0m \u001b[0;32mnot\u001b[0m \u001b[0;32min\u001b[0m \u001b[0madata\u001b[0m\u001b[0;34m.\u001b[0m\u001b[0mobs\u001b[0m \u001b[0;32mor\u001b[0m \u001b[0;34mf'{key}_params'\u001b[0m \u001b[0;32mnot\u001b[0m \u001b[0;32min\u001b[0m \u001b[0madata\u001b[0m\u001b[0;34m.\u001b[0m\u001b[0muns\u001b[0m\u001b[0;34m:\u001b[0m\u001b[0;34m\u001b[0m\u001b[0;34m\u001b[0m\u001b[0m\n\u001b[1;32m   1132\u001b[0m         raise ValueError(\n\u001b[0;32m-> 1133\u001b[0;31m             \u001b[0;34m'Please run `sc.tl.embedding_density()` first '\u001b[0m\u001b[0;34m\u001b[0m\u001b[0;34m\u001b[0m\u001b[0m\n\u001b[0m\u001b[1;32m   1134\u001b[0m             \u001b[0;34m'and specify the correct key.'\u001b[0m\u001b[0;34m\u001b[0m\u001b[0;34m\u001b[0m\u001b[0m\n\u001b[1;32m   1135\u001b[0m         )\n",
      "\u001b[0;31mValueError\u001b[0m: Please run `sc.tl.embedding_density()` first and specify the correct key."
     ]
    },
    {
     "data": {
      "image/png": "[encoded data removed]",
      "text/plain": [
       "<Figure size 500x500 with 1 Axes>"
      ]
     },
     "metadata": {},
     "output_type": "display_data"
    }
   ],
   "source": [
    "rcParams['figure.figsize'] = [5, 5]\n",
    "rcParams['figure.dpi'] = 100\n",
    "\n",
    "for show_everything in [True, False]:\n",
    "    pi = 0\n",
    "    for condition in set(ad.obs['disease.status']):\n",
    "        print(pi, condition)\n",
    "        ax = plt.subplot(2, 2, pi + 1)\n",
    "        pi += 1\n",
    "        lab = 'is.%s' % condition\n",
    "        ad.obs[lab] = (ad.obs['disease.status'] == condition).astype('category')\n",
    "\n",
    "        n_true = sum(ad.obs[lab] == True)\n",
    "        print(ad.obs[lab].value_counts())\n",
    "\n",
    "        # sc.pl.umap(ad[(ad.obs[lab] == True) | show_everything,:], color=lab, title=condition + ', n=%i' % n_true,\n",
    "        #            size=np.where(ad[(ad.obs[lab] == True) | show_everything,:].obs[lab], 1.0, .5), sort_order=False,\n",
    "        #            ax=ax, show=False, palette=['gray', 'red'])\n",
    "        \n",
    "\n",
    "                \n",
    "        sc.tl.embedding_density(ad, groupby=lab)\n",
    "        # sc.pl.umap(ad, color=lab, title=condition + ', n=%i' % n_true,\n",
    "        #            size=np.where(ad.obs[lab] == True, 1.0, 0 if not show_everything else .1), sort_order=False,\n",
    "        #            ax=ax, show=False, palette=['gray', 'red'])\n",
    "\n",
    "        sc.pl.embedding_density(ad, color=lab, title=condition + ', n=%i' % n_true,\n",
    "                                size=np.where(ad.obs[lab] == True, 1.0, 0 if not show_everything else .1), sort_order=False,\n",
    "                                ax=ax, show=False, palette=['gray', 'red'])\n",
    "\n",
    "        ax.get_legend().remove()\n",
    "        plt.xlabel('UMAP1')\n",
    "        plt.ylabel('UMAP2')\n",
    "        ax.spines['right'].set_visible(False)\n",
    "        ax.spines['top'].set_visible(False)\n",
    "        ax.spines['left'].set_visible(False)\n",
    "        ax.spines['bottom'].set_visible(False)\n",
    "        \n",
    "        print('next...')\n",
    "    plt.savefig('data/figures/mdm_and_disease_status_show_bg_%s.pdf' % show_everything)\n",
    "    plt.close()\n",
    "plt.tight_layout()\n",
    "plt.subplots_adjust(bottom=.35)\n",
    "\n",
    "    "
   ]
  },
  {
   "cell_type": "code",
   "execution_count": 153,
   "metadata": {},
   "outputs": [],
   "source": [
    "markers = [\"LGMN\", \"MERTK\", \"INHBA\", \"MRC1\", \"CD9\", \"TGFBI\", \"TGFB1\",\n",
    "           \"MMP9\", \"TREM2\", \"APOE\", \"FABP4\", \"S100A8\", \"FCN1\", \"C1QA\",\n",
    "           \"CCL2\", \"CCR2\", \"CCL8\", \"CCL13\", \"MARCKS\", \"SPP1\", 'CCL18']"
   ]
  },
  {
   "cell_type": "code",
   "execution_count": 154,
   "metadata": {},
   "outputs": [
    {
     "name": "stdout",
     "output_type": "stream",
     "text": [
      "21\n"
     ]
    }
   ],
   "source": [
    "print(len(markers))"
   ]
  },
  {
   "cell_type": "code",
   "execution_count": 155,
   "metadata": {},
   "outputs": [],
   "source": [
    "# Fix export PDF as text issue\n",
    "matplotlib.rcParams['pdf.fonttype'] = 42\n",
    "matplotlib.rcParams['ps.fonttype'] = 42"
   ]
  },
  {
   "cell_type": "code",
   "execution_count": 156,
   "metadata": {},
   "outputs": [],
   "source": [
    "sc.set_figure_params(vector_friendly=True)"
   ]
  },
  {
   "cell_type": "code",
   "execution_count": 157,
   "metadata": {},
   "outputs": [
    {
     "name": "stdout",
     "output_type": "stream",
     "text": [
      "0 True\n",
      "1 True\n",
      "2 True\n",
      "3 True\n",
      "4 True\n",
      "5 True\n",
      "6 True\n",
      "7 True\n",
      "8 True\n",
      "9 True\n",
      "10 True\n",
      "11 True\n",
      "12 True\n",
      "13 True\n",
      "14 True\n",
      "15 True\n",
      "16 True\n",
      "17 True\n",
      "18 True\n",
      "19 True\n",
      "20 True\n"
     ]
    }
   ],
   "source": [
    "fig, ax = plt.subplots(nrows = 3, ncols = 7, figsize=(22.5, 10))\n",
    "ax = ax.flatten()\n",
    "\n",
    "for gi, g in enumerate(markers):\n",
    "    print(gi,  g in set(ad.var.index))\n",
    "    if not g in set(ad.var.index):\n",
    "        continue\n",
    "    sc.pl.umap(ad, color=g, title=g, ax=ax[gi], show=False, use_raw=False, vmin=0, vmax=10, cmap='magma_r')\n",
    "    # ax[gi].get_legend().remove()\n",
    "    plt.xlabel('')\n",
    "    plt.ylabel('')\n",
    "    ax[gi].spines['right'].set_visible(False)\n",
    "    ax[gi].spines['top'].set_visible(False)\n",
    "    ax[gi].spines['left'].set_visible(False)\n",
    "    ax[gi].spines['bottom'].set_visible(False)\n",
    "    \n",
    "plt.savefig('data/figures/marker_genes_extended_revision.pdf')\n",
    "plt.close()\n"
   ]
  },
  {
   "cell_type": "code",
   "execution_count": 158,
   "metadata": {},
   "outputs": [
    {
     "data": {
      "text/plain": [
       "'/mnt/znas/icb_zstore01/groups/ml01/workspace/ignacio.ibarra/theislab/saliba_macrophages/notebooks/data/figures/marker_genes_extended_revision.pdf'"
      ]
     },
     "execution_count": 158,
     "metadata": {},
     "output_type": "execute_result"
    }
   ],
   "source": [
    "abspath('data/figures/marker_genes_extended_revision.pdf')"
   ]
  },
  {
   "cell_type": "code",
   "execution_count": 124,
   "metadata": {},
   "outputs": [
    {
     "data": {
      "text/plain": [
       "Index(['SC154IPFUP_AAACCTGCATCACGAT-1-0-0',\n",
       "       'SC154IPFUP_AAACGGGGTACCGGCT-1-0-0',\n",
       "       'SC154IPFUP_AAACGGGTCTGTCCGT-1-0-0',\n",
       "       'SC154IPFUP_AAAGATGAGATCCCGC-1-0-0',\n",
       "       'SC154IPFUP_AAAGATGAGATGCGAC-1-0-0',\n",
       "       'SC154IPFUP_AAAGATGAGTCCGGTC-1-0-0',\n",
       "       'SC154IPFUP_AAAGCAAAGTCCGTAT-1-0-0',\n",
       "       'SC154IPFUP_AAAGCAAGTGAAGGCT-1-0-0',\n",
       "       'SC154IPFUP_AAAGCAATCGAGAACG-1-0-0',\n",
       "       'SC154IPFUP_AAAGTAGAGGGCATGT-1-0-0',\n",
       "       ...\n",
       "       'TTCCTAAAGTGCTCAT-8-1', 'TTCCTCTCATCAGTCA-8-1', 'TTGATGGAGTTGCTGT-8-1',\n",
       "       'TTGCCTGAGCAACAAT-8-1', 'TTGGATGTCAACCGAT-8-1', 'TTGGGATCAGCTACTA-8-1',\n",
       "       'TTTGACTAGGTTCTTG-8-1', 'TTTGGTTCAAGTGCTT-8-1', 'TTTGTTGCAATGAGCG-8-1',\n",
       "       'TTTGTTGGTAGTAAGT-8-1'],\n",
       "      dtype='object', length=77662)"
      ]
     },
     "execution_count": 124,
     "metadata": {},
     "output_type": "execute_result"
    }
   ],
   "source": []
  },
  {
   "cell_type": "code",
   "execution_count": 170,
   "metadata": {},
   "outputs": [
    {
     "data": {
      "text/html": [
       "<div>\n",
       "<style scoped>\n",
       "    .dataframe tbody tr th:only-of-type {\n",
       "        vertical-align: middle;\n",
       "    }\n",
       "\n",
       "    .dataframe tbody tr th {\n",
       "        vertical-align: top;\n",
       "    }\n",
       "\n",
       "    .dataframe thead th {\n",
       "        text-align: right;\n",
       "    }\n",
       "</style>\n",
       "<table border=\"1\" class=\"dataframe\">\n",
       "  <thead>\n",
       "    <tr style=\"text-align: right;\">\n",
       "      <th></th>\n",
       "      <th>study</th>\n",
       "      <th>patient.id</th>\n",
       "      <th>disease.status</th>\n",
       "    </tr>\n",
       "  </thead>\n",
       "  <tbody>\n",
       "    <tr>\n",
       "      <th>SC154IPFUP_AAACCTGCATCACGAT-1-0-0</th>\n",
       "      <td>morse</td>\n",
       "      <td>SC154</td>\n",
       "      <td>IPF</td>\n",
       "    </tr>\n",
       "    <tr>\n",
       "      <th>SC56NOR_AAACCTGCACGGTAGA-1-0-0</th>\n",
       "      <td>morse</td>\n",
       "      <td>SC56</td>\n",
       "      <td>control</td>\n",
       "    </tr>\n",
       "    <tr>\n",
       "      <th>SC93IPFLOW_AAACCTGCAGGTCCAC-1-0-0</th>\n",
       "      <td>morse</td>\n",
       "      <td>SC93</td>\n",
       "      <td>IPF</td>\n",
       "    </tr>\n",
       "    <tr>\n",
       "      <th>SC155NORLOW_AAACCTGAGACAAGCC-1-0-0</th>\n",
       "      <td>morse</td>\n",
       "      <td>SC155</td>\n",
       "      <td>control</td>\n",
       "    </tr>\n",
       "    <tr>\n",
       "      <th>SC14NOR_AAAGATCTTTACTC-1-0-0</th>\n",
       "      <td>morse</td>\n",
       "      <td>SC14</td>\n",
       "      <td>control</td>\n",
       "    </tr>\n",
       "    <tr>\n",
       "      <th>...</th>\n",
       "      <td>...</td>\n",
       "      <td>...</td>\n",
       "      <td>...</td>\n",
       "    </tr>\n",
       "    <tr>\n",
       "      <th>AAACCCACAAGACGGT-4-1</th>\n",
       "      <td>BAL</td>\n",
       "      <td>C19-82</td>\n",
       "      <td>BAL</td>\n",
       "    </tr>\n",
       "    <tr>\n",
       "      <th>AAACCCATCGCAGATT-5-1</th>\n",
       "      <td>BAL</td>\n",
       "      <td>C19-85</td>\n",
       "      <td>BAL</td>\n",
       "    </tr>\n",
       "    <tr>\n",
       "      <th>AAACGAACATTGCAAC-6-1</th>\n",
       "      <td>BAL</td>\n",
       "      <td>C19-98</td>\n",
       "      <td>BAL</td>\n",
       "    </tr>\n",
       "    <tr>\n",
       "      <th>AAACCCAGTCGCACGT-7-1</th>\n",
       "      <td>BAL</td>\n",
       "      <td>C19-136</td>\n",
       "      <td>BAL</td>\n",
       "    </tr>\n",
       "    <tr>\n",
       "      <th>AAACGCTCAACTGTGT-8-1</th>\n",
       "      <td>BAL</td>\n",
       "      <td>C19-120</td>\n",
       "      <td>BAL</td>\n",
       "    </tr>\n",
       "  </tbody>\n",
       "</table>\n",
       "<p>101 rows × 3 columns</p>\n",
       "</div>"
      ],
      "text/plain": [
       "                                    study patient.id disease.status\n",
       "SC154IPFUP_AAACCTGCATCACGAT-1-0-0   morse      SC154            IPF\n",
       "SC56NOR_AAACCTGCACGGTAGA-1-0-0      morse       SC56        control\n",
       "SC93IPFLOW_AAACCTGCAGGTCCAC-1-0-0   morse       SC93            IPF\n",
       "SC155NORLOW_AAACCTGAGACAAGCC-1-0-0  morse      SC155        control\n",
       "SC14NOR_AAAGATCTTTACTC-1-0-0        morse       SC14        control\n",
       "...                                   ...        ...            ...\n",
       "AAACCCACAAGACGGT-4-1                  BAL     C19-82            BAL\n",
       "AAACCCATCGCAGATT-5-1                  BAL     C19-85            BAL\n",
       "AAACGAACATTGCAAC-6-1                  BAL     C19-98            BAL\n",
       "AAACCCAGTCGCACGT-7-1                  BAL    C19-136            BAL\n",
       "AAACGCTCAACTGTGT-8-1                  BAL    C19-120            BAL\n",
       "\n",
       "[101 rows x 3 columns]"
      ]
     },
     "execution_count": 170,
     "metadata": {},
     "output_type": "execute_result"
    }
   ],
   "source": [
    "ad.obs[['study', 'patient.id', 'disease.status']].drop_duplicates('patient.id')"
   ]
  },
  {
   "cell_type": "code",
   "execution_count": 169,
   "metadata": {},
   "outputs": [
    {
     "name": "stdout",
     "output_type": "stream",
     "text": [
      "study  disease.status\n",
      "BAL    BAL                7\n",
      "       COPD               0\n",
      "       IPF                0\n",
      "       control            0\n",
      "adams  BAL                0\n",
      "       COPD              18\n",
      "       IPF               32\n",
      "       control           28\n",
      "morse  BAL                0\n",
      "       COPD               0\n",
      "       IPF                8\n",
      "       control            8\n",
      "dtype: int64\n"
     ]
    }
   ],
   "source": [
    "patient_metadata = ad.obs[['study', 'patient.id', 'disease.status']].drop_duplicates('patient.id') # ['study'].value_counts()\n",
    "print(ad.obs[['study', 'patient.id', 'disease.status']].drop_duplicates('patient.id').groupby(['study','disease.status']).size())\n",
    "patient_metadata.to_csv('data/patient_integration_metadata.tsv', sep='\\t', index=None)"
   ]
  }
 ],
 "metadata": {
  "kernelspec": {
   "display_name": "Python [conda env:mypython3] *",
   "language": "python",
   "name": "conda-env-mypython3-py"
  },
  "language_info": {
   "codemirror_mode": {
    "name": "ipython",
    "version": 3
   },
   "file_extension": ".py",
   "mimetype": "text/x-python",
   "name": "python",
   "nbconvert_exporter": "python",
   "pygments_lexer": "ipython3",
   "version": "3.7.8"
  }
 },
 "nbformat": 4,
 "nbformat_minor": 4
}
