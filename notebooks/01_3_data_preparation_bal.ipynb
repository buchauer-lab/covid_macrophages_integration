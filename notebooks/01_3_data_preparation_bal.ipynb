{
 "cells": [
  {
   "cell_type": "markdown",
   "metadata": {},
   "source": [
    "### Here the samples from BAL are converted into anndata objects to then use them with scanpy"
   ]
  },
  {
   "cell_type": "code",
   "execution_count": 2,
   "metadata": {},
   "outputs": [
    {
     "name": "stderr",
     "output_type": "stream",
     "text": [
      "Using TensorFlow backend.\n"
     ]
    }
   ],
   "source": [
    "import anndata2ri\n",
    "from rpy2.robjects import r\n",
    "anndata2ri.activate()\n",
    "%load_ext rpy2.ipython\n",
    "\n",
    "import matplotlib.pyplot as plt\n",
    "# Scanpy and scarches\n",
    "import scanpy as sc\n",
    "import scarches as sca\n",
    "sc.settings.set_figure_params(dpi=100, frameon=False, facecolor='white')"
   ]
  },
  {
   "cell_type": "markdown",
   "metadata": {},
   "source": [
    "### Import Seurat datasets and check them out\n",
    "- Load the three datasets provided by Saliba"
   ]
  },
  {
   "cell_type": "code",
   "execution_count": 3,
   "metadata": {},
   "outputs": [
    {
     "name": "stdout",
     "output_type": "stream",
     "text": [
      "[[1]]\n",
      "An object of class Seurat \n",
      "31178 features across 1157 samples within 2 assays \n",
      "Active assay: SCT (13249 features)\n",
      " 1 other assay present: RNA\n",
      " 34 dimensional reductions calculated: RNA_pca, RNA_pca_umap_20, RNA_pca_umap_25, RNA_pca_umap_30, RNA_pca_umap_35, SCT_pca, SCT_pca_umap_20, SCT_pca_umap_25, SCT_pca_umap_30, SCT_pca_umap_35, RNA_pca_umap_5, RNA_pca_umap_10, RNA_pca_umap_15, RNA_pca_umap_40, RNA_mnn, RNA_mnn_umap_5, RNA_mnn_umap_10, RNA_mnn_umap_15, RNA_mnn_umap_20, RNA_mnn_umap_25, RNA_mnn_umap_30, RNA_mnn_umap_40, SCT_pca_umap_5, SCT_pca_umap_10, SCT_pca_umap_15, SCT_pca_umap_40, SCT_mnn, SCT_mnn_umap_5, SCT_mnn_umap_10, SCT_mnn_umap_15, SCT_mnn_umap_20, SCT_mnn_umap_25, SCT_mnn_umap_30, SCT_mnn_umap_40\n",
      "\n",
      "[[2]]\n",
      "An object of class Seurat \n",
      "27016 features across 44227 samples within 2 assays \n",
      "Active assay: RNA (27007 features)\n",
      " 1 other assay present: VIRAL\n",
      " 14 dimensional reductions calculated: RNA_pca, RNA_pca_5_umap, RNA_pca_10_umap, RNA_pca_15_umap, RNA_pca_20_umap, RNA_pca_30_umap, RNA_pca_40_umap, RNA_mnn, RNA_mnn_5_umap, RNA_mnn_10_umap, RNA_mnn_15_umap, RNA_mnn_20_umap, RNA_mnn_30_umap, RNA_mnn_40_umap\n",
      "\n",
      "[[3]]\n",
      "An object of class Seurat \n",
      "46399 features across 7588 samples within 3 assays \n",
      "Active assay: SCT (19383 features)\n",
      " 2 other assays present: RNA, VIRAL\n",
      " 28 dimensional reductions calculated: RNA_pca, RNA_pca_5_umap, RNA_pca_10_umap, RNA_pca_15_umap, RNA_pca_20_umap, RNA_pca_30_umap, RNA_pca_40_umap, RNA_mnn, RNA_mnn_5_umap, RNA_mnn_10_umap, RNA_mnn_15_umap, RNA_mnn_20_umap, RNA_mnn_30_umap, RNA_mnn_40_umap, SCT_pca, SCT_pca_5_umap, SCT_pca_10_umap, SCT_pca_15_umap, SCT_pca_20_umap, SCT_pca_30_umap, SCT_pca_40_umap, SCT_mnn, SCT_mnn_5_umap, SCT_mnn_10_umap, SCT_mnn_15_umap, SCT_mnn_20_umap, SCT_mnn_30_umap, SCT_mnn_40_umap\n",
      "\n"
     ]
    }
   ],
   "source": [
    "%%R\n",
    "library(Seurat)\n",
    "library(ggplot2)\n",
    "apc <- readRDS('../data/APC-1_A1A2_rm-LQ-HTO-T-NK-MOI15_cMono.Rds')\n",
    "bal <- readRDS('../data/BAL_rmLQ-C3.Rds')\n",
    "bal_mdm <- readRDS('../data/BAL_rmLQ-C3_MDM-AM_rmCD3.Rds')\n",
    "print(c(apc, bal, bal_mdm))"
   ]
  },
  {
   "cell_type": "markdown",
   "metadata": {},
   "source": [
    "### Convert each of the required dataset iteratively into adata\n",
    "#### APC-1_A1A2_rm-LQ-HTO-T-NK-MOI15_cMono.Rds"
   ]
  },
  {
   "cell_type": "code",
   "execution_count": 4,
   "metadata": {},
   "outputs": [
    {
     "name": "stdout",
     "output_type": "stream",
     "text": [
      "[1] \"starting...\"\n",
      "[1] \"done...\"\n"
     ]
    }
   ],
   "source": [
    "%%R -o apc\n",
    "# data(sct, package = 'scRNAseq')\n",
    "print('starting...')\n",
    "apc <- as.SingleCellExperiment(apc)\n",
    "print('done...')"
   ]
  },
  {
   "cell_type": "markdown",
   "metadata": {},
   "source": [
    "#### BAL_rmLQ-C3_MDM-AM_rmCD3.Rds"
   ]
  },
  {
   "cell_type": "code",
   "execution_count": 5,
   "metadata": {},
   "outputs": [
    {
     "name": "stdout",
     "output_type": "stream",
     "text": [
      "[1] \"starting...\"\n",
      "[1] \"done...\"\n"
     ]
    }
   ],
   "source": [
    "%%R -o bal\n",
    "# data(sct, package = 'scRNAseq')\n",
    "print('starting...')\n",
    "bal <- as.SingleCellExperiment(bal)\n",
    "print('done...')"
   ]
  },
  {
   "cell_type": "markdown",
   "metadata": {},
   "source": [
    "#### BAL_rmLQ-C3_MDM-AM_rmCD3.Rds"
   ]
  },
  {
   "cell_type": "code",
   "execution_count": 6,
   "metadata": {},
   "outputs": [
    {
     "name": "stdout",
     "output_type": "stream",
     "text": [
      "[1] \"starting...\"\n",
      "[1] \"done...\"\n"
     ]
    }
   ],
   "source": [
    "%%R -o bal_mdm\n",
    "# data(sct, package = 'scRNAseq')\n",
    "print('starting...')\n",
    "bal_mdm <- as.SingleCellExperiment(bal_mdm)\n",
    "print('done...')"
   ]
  },
  {
   "cell_type": "code",
   "execution_count": 7,
   "metadata": {},
   "outputs": [],
   "source": [
    "bal.write_h5ad('../data/bal/bal.h5ad', compression='lzf')"
   ]
  },
  {
   "cell_type": "code",
   "execution_count": 8,
   "metadata": {},
   "outputs": [],
   "source": [
    "bal_mdm.write_h5ad('../data/bal/bal_mdm.h5ad', compression='lzf')"
   ]
  },
  {
   "cell_type": "markdown",
   "metadata": {},
   "source": [
    "### Write metadata (gene -> ensembl)"
   ]
  },
  {
   "cell_type": "code",
   "execution_count": 9,
   "metadata": {},
   "outputs": [
    {
     "name": "stdout",
     "output_type": "stream",
     "text": [
      "[1] \"starting...\"\n"
     ]
    },
    {
     "name": "stderr",
     "output_type": "stream",
     "text": [
      "R[write to console]: Error in as.data.frame(bal@misc$features) : \n",
      "  no slot of name \"misc\" for this object of class \"SingleCellExperiment\"\n",
      "\n"
     ]
    },
    {
     "name": "stdout",
     "output_type": "stream",
     "text": [
      "\n",
      "Error in as.data.frame(bal@misc$features) : \n",
      "  no slot of name \"misc\" for this object of class \"SingleCellExperiment\"\n"
     ]
    }
   ],
   "source": [
    "%%R -o bal_df\n",
    "# data(sct, package = 'scRNAseq')\n",
    "print('starting...')\n",
    "bal_df <- as.data.frame(bal@misc$features)\n",
    "print('done...')\n"
   ]
  },
  {
   "cell_type": "code",
   "execution_count": 10,
   "metadata": {},
   "outputs": [
    {
     "data": {
      "text/plain": [
       "AnnData object with n_obs × n_vars = 44227 × 27007\n",
       "    obs: 'orig.ident', 'nCount_RNA', 'nFeature_RNA', 'viral_counts', 'viral_ratio', 'viral_norm', 'percent.mt', 'number', 'dataset', 'S.Score', 'G2M.Score', 'Phase', 'CC.Difference', 'SR.score1', 'dissoc.score1', 'Label', 'nCount_VIRAL', 'nFeature_VIRAL', 'seurat_clusters', 'RNA_pca_5_Leiden_res.0.1', 'RNA_pca_5_Leiden_res.0.2', 'RNA_pca_5_Leiden_res.0.3', 'RNA_pca_5_Leiden_res.0.4', 'RNA_pca_5_Leiden_res.0.5', 'RNA_pca_5_Leiden_res.0.6', 'RNA_pca_5_Leiden_res.0.7', 'RNA_pca_5_Leiden_res.0.8', 'RNA_pca_5_Leiden_res.0.9', 'RNA_pca_5_Leiden_res.1', 'RNA_pca_5_Leiden_res.1.5', 'RNA_pca_5_Leiden_res.2', 'RNA_pca_5_Leiden_res.3', 'RNA_pca_5_Leiden_res.5', 'RNA_pca_10_Leiden_res.0.1', 'RNA_pca_10_Leiden_res.0.2', 'RNA_pca_10_Leiden_res.0.3', 'RNA_pca_10_Leiden_res.0.4', 'RNA_pca_10_Leiden_res.0.5', 'RNA_pca_10_Leiden_res.0.6', 'RNA_pca_10_Leiden_res.0.7', 'RNA_pca_10_Leiden_res.0.8', 'RNA_pca_10_Leiden_res.0.9', 'RNA_pca_10_Leiden_res.1', 'RNA_pca_10_Leiden_res.1.5', 'RNA_pca_10_Leiden_res.2', 'RNA_pca_10_Leiden_res.3', 'RNA_pca_10_Leiden_res.5', 'RNA_pca_15_Leiden_res.0.1', 'RNA_pca_15_Leiden_res.0.2', 'RNA_pca_15_Leiden_res.0.3', 'RNA_pca_15_Leiden_res.0.4', 'RNA_pca_15_Leiden_res.0.5', 'RNA_pca_15_Leiden_res.0.6', 'RNA_pca_15_Leiden_res.0.7', 'RNA_pca_15_Leiden_res.0.8', 'RNA_pca_15_Leiden_res.0.9', 'RNA_pca_15_Leiden_res.1', 'RNA_pca_15_Leiden_res.1.5', 'RNA_pca_15_Leiden_res.2', 'RNA_pca_15_Leiden_res.3', 'RNA_pca_15_Leiden_res.5', 'RNA_pca_20_Leiden_res.0.1', 'RNA_pca_20_Leiden_res.0.2', 'RNA_pca_20_Leiden_res.0.3', 'RNA_pca_20_Leiden_res.0.4', 'RNA_pca_20_Leiden_res.0.5', 'RNA_pca_20_Leiden_res.0.6', 'RNA_pca_20_Leiden_res.0.7', 'RNA_pca_20_Leiden_res.0.8', 'RNA_pca_20_Leiden_res.0.9', 'RNA_pca_20_Leiden_res.1', 'RNA_pca_20_Leiden_res.1.5', 'RNA_pca_20_Leiden_res.2', 'RNA_pca_20_Leiden_res.3', 'RNA_pca_20_Leiden_res.5', 'RNA_pca_30_Leiden_res.0.1', 'RNA_pca_30_Leiden_res.0.2', 'RNA_pca_30_Leiden_res.0.3', 'RNA_pca_30_Leiden_res.0.4', 'RNA_pca_30_Leiden_res.0.5', 'RNA_pca_30_Leiden_res.0.6', 'RNA_pca_30_Leiden_res.0.7', 'RNA_pca_30_Leiden_res.0.8', 'RNA_pca_30_Leiden_res.0.9', 'RNA_pca_30_Leiden_res.1', 'RNA_pca_30_Leiden_res.1.5', 'RNA_pca_30_Leiden_res.2', 'RNA_pca_30_Leiden_res.3', 'RNA_pca_30_Leiden_res.5', 'RNA_pca_40_Leiden_res.0.1', 'RNA_pca_40_Leiden_res.0.2', 'RNA_pca_40_Leiden_res.0.3', 'RNA_pca_40_Leiden_res.0.4', 'RNA_pca_40_Leiden_res.0.5', 'RNA_pca_40_Leiden_res.0.6', 'RNA_pca_40_Leiden_res.0.7', 'RNA_pca_40_Leiden_res.0.8', 'RNA_pca_40_Leiden_res.0.9', 'RNA_pca_40_Leiden_res.1', 'RNA_pca_40_Leiden_res.1.5', 'RNA_pca_40_Leiden_res.2', 'RNA_pca_40_Leiden_res.3', 'RNA_pca_40_Leiden_res.5', 'RNA_mnn_5_Leiden_res.0.1', 'RNA_mnn_5_Leiden_res.0.2', 'RNA_mnn_5_Leiden_res.0.3', 'RNA_mnn_5_Leiden_res.0.4', 'RNA_mnn_5_Leiden_res.0.5', 'RNA_mnn_5_Leiden_res.0.6', 'RNA_mnn_5_Leiden_res.0.7', 'RNA_mnn_5_Leiden_res.0.8', 'RNA_mnn_5_Leiden_res.0.9', 'RNA_mnn_5_Leiden_res.1', 'RNA_mnn_5_Leiden_res.1.5', 'RNA_mnn_5_Leiden_res.2', 'RNA_mnn_5_Leiden_res.3', 'RNA_mnn_5_Leiden_res.5', 'RNA_mnn_10_Leiden_res.0.1', 'RNA_mnn_10_Leiden_res.0.2', 'RNA_mnn_10_Leiden_res.0.3', 'RNA_mnn_10_Leiden_res.0.4', 'RNA_mnn_10_Leiden_res.0.5', 'RNA_mnn_10_Leiden_res.0.6', 'RNA_mnn_10_Leiden_res.0.7', 'RNA_mnn_10_Leiden_res.0.8', 'RNA_mnn_10_Leiden_res.0.9', 'RNA_mnn_10_Leiden_res.1', 'RNA_mnn_10_Leiden_res.1.5', 'RNA_mnn_10_Leiden_res.2', 'RNA_mnn_10_Leiden_res.3', 'RNA_mnn_10_Leiden_res.5', 'RNA_mnn_15_Leiden_res.0.1', 'RNA_mnn_15_Leiden_res.0.2', 'RNA_mnn_15_Leiden_res.0.3', 'RNA_mnn_15_Leiden_res.0.4', 'RNA_mnn_15_Leiden_res.0.5', 'RNA_mnn_15_Leiden_res.0.6', 'RNA_mnn_15_Leiden_res.0.7', 'RNA_mnn_15_Leiden_res.0.8', 'RNA_mnn_15_Leiden_res.0.9', 'RNA_mnn_15_Leiden_res.1', 'RNA_mnn_15_Leiden_res.1.5', 'RNA_mnn_15_Leiden_res.2', 'RNA_mnn_15_Leiden_res.3', 'RNA_mnn_15_Leiden_res.5', 'RNA_mnn_20_Leiden_res.0.1', 'RNA_mnn_20_Leiden_res.0.2', 'RNA_mnn_20_Leiden_res.0.3', 'RNA_mnn_20_Leiden_res.0.4', 'RNA_mnn_20_Leiden_res.0.5', 'RNA_mnn_20_Leiden_res.0.6', 'RNA_mnn_20_Leiden_res.0.7', 'RNA_mnn_20_Leiden_res.0.8', 'RNA_mnn_20_Leiden_res.0.9', 'RNA_mnn_20_Leiden_res.1', 'RNA_mnn_20_Leiden_res.1.5', 'RNA_mnn_20_Leiden_res.2', 'RNA_mnn_20_Leiden_res.3', 'RNA_mnn_20_Leiden_res.5', 'RNA_mnn_30_Leiden_res.0.1', 'RNA_mnn_30_Leiden_res.0.2', 'RNA_mnn_30_Leiden_res.0.3', 'RNA_mnn_30_Leiden_res.0.4', 'RNA_mnn_30_Leiden_res.0.5', 'RNA_mnn_30_Leiden_res.0.6', 'RNA_mnn_30_Leiden_res.0.7', 'RNA_mnn_30_Leiden_res.0.8', 'RNA_mnn_30_Leiden_res.0.9', 'RNA_mnn_30_Leiden_res.1', 'RNA_mnn_30_Leiden_res.1.5', 'RNA_mnn_30_Leiden_res.2', 'RNA_mnn_30_Leiden_res.3', 'RNA_mnn_30_Leiden_res.5', 'RNA_mnn_40_Leiden_res.0.1', 'RNA_mnn_40_Leiden_res.0.2', 'RNA_mnn_40_Leiden_res.0.3', 'RNA_mnn_40_Leiden_res.0.4', 'RNA_mnn_40_Leiden_res.0.5', 'RNA_mnn_40_Leiden_res.0.6', 'RNA_mnn_40_Leiden_res.0.7', 'RNA_mnn_40_Leiden_res.0.8', 'RNA_mnn_40_Leiden_res.0.9', 'RNA_mnn_40_Leiden_res.1', 'RNA_mnn_40_Leiden_res.1.5', 'RNA_mnn_40_Leiden_res.2', 'RNA_mnn_40_Leiden_res.3', 'RNA_mnn_40_Leiden_res.5', 'Celltype', 'patient', 'dpso', 'age', 'sex', 'Celltype_2', 'Timepoint', 'ident'\n",
       "    var: 'vst.mean', 'vst.variance', 'vst.variance.expected', 'vst.variance.standardized', 'vst.variable'\n",
       "    obsm: 'RNA_PCA', 'RNA_PCA_5_UMAP', 'RNA_PCA_10_UMAP', 'RNA_PCA_15_UMAP', 'RNA_PCA_20_UMAP', 'RNA_PCA_30_UMAP', 'RNA_PCA_40_UMAP', 'RNA_MNN', 'RNA_MNN_5_UMAP', 'RNA_MNN_10_UMAP', 'RNA_MNN_15_UMAP', 'RNA_MNN_20_UMAP', 'RNA_MNN_30_UMAP', 'RNA_MNN_40_UMAP'\n",
       "    layers: 'logcounts'"
      ]
     },
     "execution_count": 10,
     "metadata": {},
     "output_type": "execute_result"
    }
   ],
   "source": [
    "bal"
   ]
  },
  {
   "cell_type": "code",
   "execution_count": null,
   "metadata": {},
   "outputs": [],
   "source": [
    "print('done...')"
   ]
  },
  {
   "cell_type": "code",
   "execution_count": null,
   "metadata": {},
   "outputs": [],
   "source": [
    "bal_df.head()"
   ]
  },
  {
   "cell_type": "code",
   "execution_count": null,
   "metadata": {},
   "outputs": [],
   "source": [
    "import pandas as pd\n",
    "print(bal_df.shape)\n",
    "bal_df.to_csv('../data/bal/bal_feature_names.tsv.gz', compression='gzip', index=None, sep='\\t')"
   ]
  },
  {
   "cell_type": "code",
   "execution_count": null,
   "metadata": {},
   "outputs": [],
   "source": [
    "bal_df = pd.read_csv('../data/bal/bal_feature_names.tsv.gz', compression='gzip', sep='\\t')"
   ]
  }
 ],
 "metadata": {
  "kernelspec": {
   "display_name": "Python [conda env:covid_macrophages_integration]",
   "language": "python",
   "name": "conda-env-covid_macrophages_integration-py"
  },
  "language_info": {
   "codemirror_mode": {
    "name": "ipython",
    "version": 3
   },
   "file_extension": ".py",
   "mimetype": "text/x-python",
   "name": "python",
   "nbconvert_exporter": "python",
   "pygments_lexer": "ipython3",
   "version": "3.7.8"
  }
 },
 "nbformat": 4,
 "nbformat_minor": 4
}
