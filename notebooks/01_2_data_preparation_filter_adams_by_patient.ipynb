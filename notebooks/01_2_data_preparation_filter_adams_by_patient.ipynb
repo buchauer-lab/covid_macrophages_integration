{
 "cells": [
  {
   "cell_type": "code",
   "execution_count": 2,
   "metadata": {},
   "outputs": [
    {
     "data": {
      "text/plain": [
       "rpy2.robjects.packages.Package as a <module 'scran'>"
      ]
     },
     "execution_count": 2,
     "metadata": {},
     "output_type": "execute_result"
    }
   ],
   "source": [
    "from os.path import join, exists\n",
    "from os import listdir\n",
    "import scanpy as sc\n",
    "import numpy as np\n",
    "import matplotlib.pyplot as plt\n",
    "import seaborn as sns\n",
    "import pandas as pd\n",
    "\n",
    "import anndata2ri\n",
    "import rpy2\n",
    "import numpy as np\n",
    "%load_ext rpy2.ipython\n",
    "\n",
    "import anndata2ri\n",
    "anndata2ri.activate()\n",
    "\n",
    "# import rpy2 and scran\n",
    "import rpy2.robjects as robjects\n",
    "from rpy2.robjects.packages import importr\n",
    "r = robjects.r\n",
    "importr(\"scran\")\n"
   ]
  },
  {
   "cell_type": "code",
   "execution_count": 4,
   "metadata": {},
   "outputs": [],
   "source": [
    "adams = sc.read_h5ad('../data/adams/adams_input_scvi_Macrophage.h5ad')"
   ]
  },
  {
   "cell_type": "code",
   "execution_count": 3,
   "metadata": {},
   "outputs": [
    {
     "name": "stdout",
     "output_type": "stream",
     "text": [
      "False data/adams/by_subject_scran/235CO.h5ad\n",
      "reading data/adams/by_subject/235CO.h5ad\n",
      "True data/adams/by_subject_scran/123I.h5ad\n",
      "False data/adams/by_subject_scran/098C.h5ad\n",
      "reading data/adams/by_subject/098C.h5ad\n",
      "False data/adams/by_subject_scran/065C.h5ad\n",
      "reading data/adams/by_subject/065C.h5ad\n",
      "True data/adams/by_subject_scran/465C.h5ad\n",
      "True data/adams/by_subject_scran/238CO.h5ad\n",
      "False data/adams/by_subject_scran/135I.h5ad\n",
      "reading data/adams/by_subject/135I.h5ad\n",
      "False data/adams/by_subject_scran/177I.h5ad\n",
      "reading data/adams/by_subject/177I.h5ad\n",
      "True data/adams/by_subject_scran/59I.h5ad\n",
      "False data/adams/by_subject_scran/1372C.h5ad\n",
      "reading data/adams/by_subject/1372C.h5ad\n",
      "True data/adams/by_subject_scran/237CO.h5ad\n",
      "True data/adams/by_subject_scran/021I.h5ad\n",
      "False data/adams/by_subject_scran/063I.h5ad\n",
      "reading data/adams/by_subject/063I.h5ad\n",
      "False data/adams/by_subject_scran/210I.h5ad\n",
      "reading data/adams/by_subject/210I.h5ad\n",
      "False data/adams/by_subject_scran/483C.h5ad\n",
      "reading data/adams/by_subject/483C.h5ad\n",
      "False data/adams/by_subject_scran/133C.h5ad\n",
      "reading data/adams/by_subject/133C.h5ad\n",
      "False data/adams/by_subject_scran/157I.h5ad\n",
      "reading data/adams/by_subject/157I.h5ad\n",
      "False data/adams/by_subject_scran/138I.h5ad\n",
      "reading data/adams/by_subject/138I.h5ad\n",
      "False data/adams/by_subject_scran/022I.h5ad\n",
      "reading data/adams/by_subject/022I.h5ad\n",
      "False data/adams/by_subject_scran/228I.h5ad\n",
      "reading data/adams/by_subject/228I.h5ad\n",
      "False data/adams/by_subject_scran/209I.h5ad\n",
      "reading data/adams/by_subject/209I.h5ad\n",
      "False data/adams/by_subject_scran/041I.h5ad\n",
      "reading data/adams/by_subject/041I.h5ad\n",
      "True data/adams/by_subject_scran/23CO.h5ad\n",
      "False data/adams/by_subject_scran/179I.h5ad\n",
      "reading data/adams/by_subject/179I.h5ad\n",
      "False data/adams/by_subject_scran/153CO.h5ad\n",
      "reading data/adams/by_subject/153CO.h5ad\n",
      "False data/adams/by_subject_scran/034I.h5ad\n",
      "reading data/adams/by_subject/034I.h5ad\n",
      "False data/adams/by_subject_scran/193CO.h5ad\n",
      "reading data/adams/by_subject/193CO.h5ad\n",
      "False data/adams/by_subject_scran/158I.h5ad\n",
      "reading data/adams/by_subject/158I.h5ad\n",
      "False data/adams/by_subject_scran/218C.h5ad\n",
      "reading data/adams/by_subject/218C.h5ad\n",
      "False data/adams/by_subject_scran/222C.h5ad\n",
      "reading data/adams/by_subject/222C.h5ad\n",
      "False data/adams/by_subject_scran/225I.h5ad\n",
      "reading data/adams/by_subject/225I.h5ad\n",
      "False data/adams/by_subject_scran/040I.h5ad\n",
      "reading data/adams/by_subject/040I.h5ad\n",
      "False data/adams/by_subject_scran/212I.h5ad\n",
      "reading data/adams/by_subject/212I.h5ad\n",
      "True data/adams/by_subject_scran/081C.h5ad\n",
      "False data/adams/by_subject_scran/174I.h5ad\n",
      "reading data/adams/by_subject/174I.h5ad\n",
      "False data/adams/by_subject_scran/388C.h5ad\n",
      "reading data/adams/by_subject/388C.h5ad\n",
      "False data/adams/by_subject_scran/184CO.h5ad\n",
      "reading data/adams/by_subject/184CO.h5ad\n",
      "False data/adams/by_subject_scran/208C.h5ad\n",
      "reading data/adams/by_subject/208C.h5ad\n",
      "False data/adams/by_subject_scran/222I.h5ad\n",
      "reading data/adams/by_subject/222I.h5ad\n",
      "False data/adams/by_subject_scran/152CO.h5ad\n",
      "reading data/adams/by_subject/152CO.h5ad\n",
      "False data/adams/by_subject_scran/296C.h5ad\n",
      "reading data/adams/by_subject/296C.h5ad\n",
      "False data/adams/by_subject_scran/192CO.h5ad\n",
      "reading data/adams/by_subject/192CO.h5ad\n",
      "True data/adams/by_subject_scran/002C.h5ad\n",
      "False data/adams/by_subject_scran/47I.h5ad\n",
      "reading data/adams/by_subject/47I.h5ad\n",
      "True data/adams/by_subject_scran/207CO.h5ad\n",
      "False data/adams/by_subject_scran/439C.h5ad\n",
      "reading data/adams/by_subject/439C.h5ad\n",
      "False data/adams/by_subject_scran/051I.h5ad\n",
      "reading data/adams/by_subject/051I.h5ad\n",
      "False data/adams/by_subject_scran/056CO.h5ad\n",
      "reading data/adams/by_subject/056CO.h5ad\n",
      "False data/adams/by_subject_scran/145I.h5ad\n",
      "reading data/adams/by_subject/145I.h5ad\n",
      "False data/adams/by_subject_scran/186CO.h5ad\n",
      "reading data/adams/by_subject/186CO.h5ad\n",
      "False data/adams/by_subject_scran/192C.h5ad\n",
      "reading data/adams/by_subject/192C.h5ad\n",
      "True data/adams/by_subject_scran/29I.h5ad\n",
      "False data/adams/by_subject_scran/025I.h5ad\n",
      "reading data/adams/by_subject/025I.h5ad\n",
      "False data/adams/by_subject_scran/003C.h5ad\n",
      "reading data/adams/by_subject/003C.h5ad\n",
      "True data/adams/by_subject_scran/214I.h5ad\n",
      "True data/adams/by_subject_scran/137C.h5ad\n",
      "True data/adams/by_subject_scran/034C.h5ad\n",
      "True data/adams/by_subject_scran/244C.h5ad\n",
      "False data/adams/by_subject_scran/160C.h5ad\n",
      "reading data/adams/by_subject/160C.h5ad\n",
      "False data/adams/by_subject_scran/49I.h5ad\n",
      "reading data/adams/by_subject/49I.h5ad\n",
      "False data/adams/by_subject_scran/092C.h5ad\n",
      "reading data/adams/by_subject/092C.h5ad\n",
      "False data/adams/by_subject_scran/053I.h5ad\n",
      "reading data/adams/by_subject/053I.h5ad\n",
      "True data/adams/by_subject_scran/454C.h5ad\n",
      "True data/adams/by_subject_scran/137CO.h5ad\n",
      "True data/adams/by_subject_scran/052CO.h5ad\n",
      "True data/adams/by_subject_scran/084C.h5ad\n",
      "True data/adams/by_subject_scran/484C.h5ad\n",
      "False data/adams/by_subject_scran/166I.h5ad\n",
      "reading data/adams/by_subject/166I.h5ad\n",
      "True data/adams/by_subject_scran/194CO.h5ad\n",
      "False data/adams/by_subject_scran/226C.h5ad\n",
      "reading data/adams/by_subject/226C.h5ad\n",
      "True data/adams/by_subject_scran/8CO.h5ad\n",
      "True data/adams/by_subject_scran/217CO.h5ad\n",
      "True data/adams/by_subject_scran/001C.h5ad\n",
      "False data/adams/by_subject_scran/221I.h5ad\n",
      "reading data/adams/by_subject/221I.h5ad\n",
      "True data/adams/by_subject_scran/396C.h5ad\n",
      "True data/adams/by_subject_scran/253C.h5ad\n",
      "False data/adams/by_subject_scran/178CO.h5ad\n",
      "reading data/adams/by_subject/178CO.h5ad\n",
      "False data/adams/by_subject_scran/010I.h5ad\n",
      "reading data/adams/by_subject/010I.h5ad\n"
     ]
    }
   ],
   "source": [
    "df = []\n",
    "ad_by_subject = {}\n",
    "\n",
    "for f in listdir('data/adams/by_subject'):\n",
    "    subject = f.split('.')[0]\n",
    "    p = join('data/adams/by_subject', subject + '.h5ad')\n",
    "    if not exists(p):\n",
    "        continue\n",
    "\n",
    "    outpath = join('data/adams/by_subject_scran/%s.h5ad' % subject)\n",
    "    print(exists(outpath), outpath)\n",
    "    if exists(outpath):\n",
    "        continue\n",
    "    \n",
    "    print('reading %s' % p)\n",
    "    ad = sc.read_h5ad(p)\n",
    "    ad_by_subject[subject] = ad\n",
    "    df.append([subject, ad.shape[0], ad.shape[1]])\n",
    "    \n",
    "df = pd.DataFrame(df, columns=['sample', 'n.cells', 'n.genes'])"
   ]
  },
  {
   "cell_type": "markdown",
   "metadata": {},
   "source": [
    "### Adams counts threshold filtering"
   ]
  },
  {
   "cell_type": "code",
   "execution_count": 30,
   "metadata": {},
   "outputs": [
    {
     "name": "stderr",
     "output_type": "stream",
     "text": [
      "/home/icb/ignacio.ibarra/miniconda3/envs/mypython3/lib/python3.7/site-packages/anndata/_core/anndata.py:1094: FutureWarning: is_categorical is deprecated and will be removed in a future version.  Use is_categorical_dtype instead\n",
      "  if not is_categorical(df_full[k]):\n"
     ]
    },
    {
     "data": {
      "text/plain": [
       "(45947, 100)"
      ]
     },
     "execution_count": 30,
     "metadata": {},
     "output_type": "execute_result"
    }
   ],
   "source": [
    "\n",
    "# input_groups = ad_pp.obs['groups']\n",
    "data_mat = ad[ad.obs.index.isin(set(ad.obs.head(100).index)),:].X.T.toarray()\n",
    "# data_mat = adams.X.toarray()\n",
    "data_mat.shape\n"
   ]
  },
  {
   "cell_type": "code",
   "execution_count": null,
   "metadata": {},
   "outputs": [
    {
     "name": "stdout",
     "output_type": "stream",
     "text": [
      "065C (1489, 45947)\n",
      "False data/adams/by_subject_scran/065C.h5ad\n",
      "(1489, 45947) (1489, 45947)\n",
      "normalizing...\n"
     ]
    },
    {
     "name": "stderr",
     "output_type": "stream",
     "text": [
      "/home/icb/ignacio.ibarra/miniconda3/envs/mypython3/lib/python3.7/site-packages/anndata/_core/anndata.py:1094: FutureWarning: is_categorical is deprecated and will be removed in a future version.  Use is_categorical_dtype instead\n",
      "  if not is_categorical(df_full[k]):\n",
      "/home/icb/ignacio.ibarra/miniconda3/envs/mypython3/lib/python3.7/site-packages/anndata/_core/anndata.py:1094: FutureWarning: is_categorical is deprecated and will be removed in a future version.  Use is_categorical_dtype instead\n",
      "  if not is_categorical(df_full[k]):\n",
      "/home/icb/ignacio.ibarra/miniconda3/envs/mypython3/lib/python3.7/site-packages/anndata/_core/anndata.py:1094: FutureWarning: is_categorical is deprecated and will be removed in a future version.  Use is_categorical_dtype instead\n",
      "  if not is_categorical(df_full[k]):\n"
     ]
    },
    {
     "name": "stdout",
     "output_type": "stream",
     "text": [
      "calling scran...\n"
     ]
    },
    {
     "name": "stderr",
     "output_type": "stream",
     "text": [
      "Trying to set attribute `.obs` of view, copying.\n"
     ]
    },
    {
     "name": "stdout",
     "output_type": "stream",
     "text": [
      "done with scran...\n",
      "HVGs/clustering/saving...\n"
     ]
    },
    {
     "name": "stderr",
     "output_type": "stream",
     "text": [
      "/home/icb/ignacio.ibarra/miniconda3/envs/mypython3/lib/python3.7/site-packages/anndata/_core/anndata.py:1094: FutureWarning: is_categorical is deprecated and will be removed in a future version.  Use is_categorical_dtype instead\n",
      "  if not is_categorical(df_full[k]):\n"
     ]
    },
    {
     "name": "stdout",
     "output_type": "stream",
     "text": [
      "data/adams/by_subject_scran/065C.h5ad\n"
     ]
    },
    {
     "name": "stderr",
     "output_type": "stream",
     "text": [
      "/home/icb/ignacio.ibarra/miniconda3/envs/mypython3/lib/python3.7/site-packages/anndata/_core/anndata.py:1192: FutureWarning: is_categorical is deprecated and will be removed in a future version.  Use is_categorical_dtype instead\n",
      "  if is_string_dtype(df[key]) and not is_categorical(df[key])\n"
     ]
    },
    {
     "name": "stdout",
     "output_type": "stream",
     "text": [
      "saved...\n",
      "056CO (1652, 45947)\n",
      "False data/adams/by_subject_scran/056CO.h5ad\n",
      "(1652, 45947) (1652, 45947)\n",
      "normalizing...\n"
     ]
    },
    {
     "name": "stderr",
     "output_type": "stream",
     "text": [
      "/home/icb/ignacio.ibarra/miniconda3/envs/mypython3/lib/python3.7/site-packages/anndata/_core/anndata.py:1094: FutureWarning: is_categorical is deprecated and will be removed in a future version.  Use is_categorical_dtype instead\n",
      "  if not is_categorical(df_full[k]):\n",
      "/home/icb/ignacio.ibarra/miniconda3/envs/mypython3/lib/python3.7/site-packages/anndata/_core/anndata.py:1094: FutureWarning: is_categorical is deprecated and will be removed in a future version.  Use is_categorical_dtype instead\n",
      "  if not is_categorical(df_full[k]):\n",
      "/home/icb/ignacio.ibarra/miniconda3/envs/mypython3/lib/python3.7/site-packages/anndata/_core/anndata.py:1094: FutureWarning: is_categorical is deprecated and will be removed in a future version.  Use is_categorical_dtype instead\n",
      "  if not is_categorical(df_full[k]):\n"
     ]
    },
    {
     "name": "stdout",
     "output_type": "stream",
     "text": [
      "calling scran...\n"
     ]
    }
   ],
   "source": [
    "plot = False\n",
    "for subject in sorted(ad_by_subject.keys(), key=lambda x: ad_by_subject[x].shape[0]):\n",
    "    ad = ad_by_subject[subject]\n",
    "    print(subject, ad.shape)\n",
    "    outpath = join('data/adams/by_subject_scran/%s.h5ad' % subject)\n",
    "    print(exists(outpath), outpath)\n",
    "    if exists(outpath):\n",
    "        continue\n",
    "    \n",
    "    \n",
    "    # Quality control - calculate QC covariates\n",
    "    ad.obs['n_counts'] = ad.X.sum(1)\n",
    "    ad.obs['log_counts'] = np.log(ad.obs['n_counts'])\n",
    "    ad.obs['n_genes'] = (ad.X > 0).sum(1)\n",
    "    mt_gene_mask = [gene.startswith('MT-') for gene in ad.var['symbol']]\n",
    "    ad.obs['mt_frac'] = ad.X[:, mt_gene_mask].toarray().sum(1) / ad.obs['n_counts']\n",
    "    # Quality control - plot QC metrics\n",
    "    \n",
    "    if plot:\n",
    "        #Sample quality plots\n",
    "        t1 = sc.pl.violin(ad, 'n_counts', groupby='Subject_Identity', size=2, log=True, cut=0)\n",
    "        t2 = sc.pl.violin(ad, 'mt_frac', groupby='Subject_Identity')\n",
    "        #Data quality summary plots\n",
    "        p1 = sc.pl.scatter(ad, 'n_counts', 'n_genes', color='mt_frac')\n",
    "        p2 = sc.pl.scatter(ad[ad.obs['n_counts'] < 10000], 'n_counts', 'n_genes', color='mt_frac')\n",
    "        #Thresholding decision: counts\n",
    "        p3 = sns.distplot(ad.obs['n_counts'], kde=False)\n",
    "        plt.show()\n",
    "        p4 = sns.distplot(ad.obs['n_counts'][ad.obs['n_counts']<4000], kde=False, bins=60)\n",
    "        plt.show()\n",
    "        p5 = sns.distplot(ad.obs['n_counts'][ad.obs['n_counts']>10000], kde=False, bins=60)\n",
    "        plt.show()\n",
    "    \n",
    "    print(ad.shape, ad[ad.X.sum(axis=1) > 1000,:].shape)\n",
    "    ad = ad[ad.X.sum(axis=1) > 1000,:]\n",
    "    ad = ad[ad.obs['mt_frac'] < 0.2,:]\n",
    "    ad = ad[ad.obs['n_genes'] > 700,:]    \n",
    "    \n",
    "    print('normalizing...')\n",
    "    ad_pp = ad.copy()\n",
    "    sc.pp.normalize_per_cell(ad_pp, counts_per_cell_after=1e6)\n",
    "    sc.pp.log1p(ad_pp)\n",
    "    sc.pp.pca(ad_pp, n_comps=min(15, ad_pp.shape[0] - 1))\n",
    "    sc.pp.neighbors(ad_pp)\n",
    "    sc.tl.louvain(ad_pp, key_added='groups', resolution=0.5)\n",
    "    \n",
    "    input_groups = ad_pp.obs['groups']\n",
    "    data_mat = ad.X.T.toarray()\n",
    "    # data_mat = adams.X.toarray()\n",
    "\n",
    "    import rpy2.robjects as robjects\n",
    "    r = robjects.r\n",
    "    from rpy2.robjects.packages import importr\n",
    "    utils = importr(\"utils\")\n",
    "\n",
    "    data_mat = ad.X.T.toarray()\n",
    "\n",
    "    print('calling scran...')\n",
    "    size_factors = r['computeSumFactors'](data_mat, **{'min.mean': 0.1})\n",
    "\n",
    "    print('done with scran...')\n",
    "    #Delete morse_pp\n",
    "    del ad_pp\n",
    "\n",
    "    # Visualize the estimated size factors\n",
    "    ad.obs['size_factors'] = size_factors\n",
    "    if plot:\n",
    "        sc.pl.scatter(ad, 'size_factors', 'n_counts')\n",
    "        sc.pl.scatter(ad, 'size_factors', 'n_genes')\n",
    "        sns.distplot(size_factors, bins=50, kde=False)\n",
    "        plt.show()\n",
    "        print('normalizing...')\n",
    "\n",
    "    #Keep the count data in a counts layer\n",
    "    ad.layers[\"counts\"] = ad.X.copy()\n",
    "\n",
    "    #Normalize adata \n",
    "    ad.X /= ad.obs['size_factors'].values[:,None]\n",
    "    sc.pp.log1p(ad)\n",
    "\n",
    "    ad.X = np.array(ad.X)\n",
    "    # a the full data set in 'raw' as log-normalised data for statistical testing\n",
    "    ad.raw = ad\n",
    "    \n",
    "    print('HVGs/clustering/saving...')\n",
    "    sc.pp.highly_variable_genes(ad, n_top_genes=4000)\n",
    "    # print('\\n','Number of highly variable genes: {:d}'.format(np.sum(morse.var['highly_variable'])))\n",
    "\n",
    "    if plot:\n",
    "        sc.pl.highly_variable_genes(ad)\n",
    "\n",
    "    # Calculate the visualizations\n",
    "    sc.pp.pca(ad, n_comps=min(50, ad.shape[0] - 1), use_highly_variable=True, svd_solver='arpack')\n",
    "    sc.pp.neighbors(ad)\n",
    "    sc.tl.tsne(ad, n_jobs=12) #Note n_jobs works for MulticoreTSNE, but not regular implementation)\n",
    "    sc.tl.umap(ad)\n",
    "    sc.tl.diffmap(ad)\n",
    "    sc.tl.draw_graph(ad)\n",
    "\n",
    "    if plot:\n",
    "        sc.pl.pca_scatter(ad, color='n_counts')\n",
    "        sc.pl.tsne(ad, color='n_counts')\n",
    "        sc.pl.umap(ad, color='n_counts')\n",
    "        sc.pl.diffmap(ad, color='n_counts', components=['1,2','1,3'])\n",
    "        sc.pl.draw_graph(ad, color='n_counts')\n",
    "\n",
    "    # Perform clustering - using highly variable genes\n",
    "    sc.tl.louvain(ad, key_added='louvain_r1')\n",
    "    sc.tl.louvain(ad, resolution=0.5, key_added='louvain_r0.5', random_state=10)\n",
    "\n",
    "    #Visualize the clustering and how this is reflected by different technical covariates\n",
    "    if plot:\n",
    "        sc.pl.umap(ad, color=['louvain_r1', 'louvain_r0.5'], palette=sc.pl.palettes.default_102)\n",
    "        sc.pl.umap(ad, color=['n_counts', 'log_counts', 'mt_frac'])\n",
    "\n",
    "    print(outpath)\n",
    "    ad.write(outpath, compression='lzf')\n",
    "    print('saved...')\n",
    "        "
   ]
  }
 ],
 "metadata": {
  "kernelspec": {
   "display_name": "Python 3",
   "language": "python",
   "name": "python3"
  },
  "language_info": {
   "codemirror_mode": {
    "name": "ipython",
    "version": 3
   },
   "file_extension": ".py",
   "mimetype": "text/x-python",
   "name": "python",
   "nbconvert_exporter": "python",
   "pygments_lexer": "ipython3",
   "version": "3.7.8"
  }
 },
 "nbformat": 4,
 "nbformat_minor": 4
}
