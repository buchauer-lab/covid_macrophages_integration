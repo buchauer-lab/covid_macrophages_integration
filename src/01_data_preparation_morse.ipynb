{
 "cells": [
  {
   "cell_type": "markdown",
   "metadata": {},
   "source": [
    "### Download data from Morse et al\n",
    "\n",
    "https://www.ncbi.nlm.nih.gov/geo/download/?acc=GSE128033\n",
    "\n",
    "There's a single ~500MB file with all counts and barcodes for analyzed samples. This should be."
   ]
  },
  {
   "cell_type": "code",
   "execution_count": 69,
   "metadata": {},
   "outputs": [],
   "source": [
    "import scanpy as sc\n",
    "from os.path import join, exists\n",
    "from os import listdir\n",
    "import pandas as pd\n",
    "\n",
    "d = '../data/morse'"
   ]
  },
  {
   "cell_type": "markdown",
   "metadata": {},
   "source": [
    "### Metadata\n",
    "- Currently metadata is nowwhere to be found.\n",
    "- We use the LCA annotation metadata (atm, confirm labels).\n",
    "- Replace h5ad path with the latest LCA h5ad generated"
   ]
  },
  {
   "cell_type": "code",
   "execution_count": 18,
   "metadata": {},
   "outputs": [],
   "source": [
    "raw_annotated_lca_h5ad_path = ''\n",
    "if exists(raw_annotated_lca_h5ad_path):\n",
    "    lca = sc.read_h5ad(raw_annotated_lca_h5ad_path)\n",
    "    laf = lca[lca.obs['dataset'].isin({'Pittsburgh_Lafyatis_2019Morse_10Xv1',\n",
    "                                       'Pittsburgh_Lafyatis_2019Morse_10Xv2'}),:]\n",
    "    laf.write('../data/morse/morse_lca_with_metadata.h5ad', compression='lzf')\n",
    "    \n",
    "    laf_mac = laf[laf.obs['original_celltype_ann'].str.contains('Macrophage'),:]\n",
    "    laf_mac.write('../data/morse/morse_lca_with_metadata_macrophages.h5ad', compression='lzf')\n",
    "laf_mac = sc.read_h5ad('../data/morse/morse_lca_with_metadata_macrophages.h5ad')"
   ]
  },
  {
   "cell_type": "code",
   "execution_count": 151,
   "metadata": {},
   "outputs": [],
   "source": [
    "laf_mac_ad_by_sample = {sample: laf_mac[laf_mac.obs['sample'] == sample,:] for sample in set(laf_mac.obs['sample'])}"
   ]
  },
  {
   "cell_type": "markdown",
   "metadata": {},
   "source": [
    "### Read raw counts"
   ]
  },
  {
   "cell_type": "code",
   "execution_count": 64,
   "metadata": {},
   "outputs": [
    {
     "data": {
      "text/plain": [
       "{'GSM3660641_SC14NOR',\n",
       " 'GSM3660642_SC31NOR',\n",
       " 'GSM3660643_SC31DNOR',\n",
       " 'GSM3660644_SC45NOR',\n",
       " 'GSM3660645_SC56NOR',\n",
       " 'GSM3660646_SC59NOR',\n",
       " 'GSM3660647_SC155NORLOW',\n",
       " 'GSM3660648_SC156NORUP',\n",
       " 'GSM3660649_SC228NORbal',\n",
       " 'GSM3660650_SC249NORbal',\n",
       " 'GSM3660651_SC87IPFLOW',\n",
       " 'GSM3660652_SC88IPFUP',\n",
       " 'GSM3660653_SC89IPFLOW',\n",
       " 'GSM3660654_SC93IPFLOW',\n",
       " 'GSM3660655_SC94IPFUP',\n",
       " 'GSM3660656_SC95IPFLOW',\n",
       " 'GSM3660657_SC153IPFLOW',\n",
       " 'GSM3660658_SC154IPFUP'}"
      ]
     },
     "execution_count": 64,
     "metadata": {},
     "output_type": "execute_result"
    }
   ],
   "source": [
    "uniq_k = {\"_\".join(k.split(\"_\")[:2]) for k in listdir(d) if f.endswith(\".txt.gz\")}\n",
    "uniq_k"
   ]
  },
  {
   "cell_type": "code",
   "execution_count": 101,
   "metadata": {},
   "outputs": [],
   "source": [
    "ad_by_k = {}"
   ]
  },
  {
   "cell_type": "code",
   "execution_count": 103,
   "metadata": {},
   "outputs": [
    {
     "name": "stdout",
     "output_type": "stream",
     "text": [
      "GSM3660644_SC45NOR\n",
      "reading GSM3660644_SC45NOR\n",
      "GSM3660652_SC88IPFUP\n",
      "reject (not LCA metadata) GSM3660652_SC88IPFUP\n",
      "GSM3660654_SC93IPFLOW\n",
      "reject (not LCA metadata) GSM3660654_SC93IPFLOW\n",
      "GSM3660651_SC87IPFLOW\n",
      "reject (not LCA metadata) GSM3660651_SC87IPFLOW\n",
      "GSM3660657_SC153IPFLOW\n",
      "reject (not LCA metadata) GSM3660657_SC153IPFLOW\n",
      "GSM3660656_SC95IPFLOW\n",
      "reject (not LCA metadata) GSM3660656_SC95IPFLOW\n",
      "GSM3660658_SC154IPFUP\n",
      "reject (not LCA metadata) GSM3660658_SC154IPFUP\n",
      "GSM3660647_SC155NORLOW\n",
      "reading GSM3660647_SC155NORLOW\n",
      "GSM3660649_SC228NORbal\n",
      "reject (not LCA metadata) GSM3660649_SC228NORbal\n",
      "GSM3660646_SC59NOR\n",
      "reading GSM3660646_SC59NOR\n",
      "GSM3660650_SC249NORbal\n",
      "reject (not LCA metadata) GSM3660650_SC249NORbal\n",
      "GSM3660641_SC14NOR\n",
      "reading GSM3660641_SC14NOR\n",
      "GSM3660655_SC94IPFUP\n",
      "reject (not LCA metadata) GSM3660655_SC94IPFUP\n",
      "GSM3660645_SC56NOR\n",
      "reading GSM3660645_SC56NOR\n",
      "GSM3660648_SC156NORUP\n",
      "reading GSM3660648_SC156NORUP\n",
      "GSM3660642_SC31NOR\n",
      "reading GSM3660642_SC31NOR\n",
      "GSM3660643_SC31DNOR\n",
      "reading GSM3660643_SC31DNOR\n",
      "GSM3660653_SC89IPFLOW\n",
      "reject (not LCA metadata) GSM3660653_SC89IPFLOW\n"
     ]
    }
   ],
   "source": [
    "for code in uniq_k:\n",
    "    has_lca_metadata = False\n",
    "    for k_lca in laf_mac_ad_by_sample.keys():\n",
    "        if k_lca in code:\n",
    "            has_lca_metadata = True\n",
    "    if not has_lca_metadata:\n",
    "        print('reject (not LCA metadata)', code)\n",
    "        continue\n",
    "    print('reading', code)\n",
    "    \n",
    "    if code in ad_by_k:\n",
    "        continue\n",
    "    mtx_path = join(d, '%s_matrix.mtx.gz' % code)\n",
    "    var_path = join(d, '%s_genes.tsv.gz' % code)\n",
    "    obs_path = join(d, '%s_barcodes.tsv.gz' % code)\n",
    "\n",
    "    if not exists(mtx_path):\n",
    "        mtx_path = join(d, '%s_frozen_matrix.mtx.gz' % code)\n",
    "        var_path = join(d, '%s_frozen_genes.tsv.gz' % code)\n",
    "        obs_path = join(d, '%s_frozen_barcodes.tsv.gz' % code)\n",
    "    if not exists(mtx_path):\n",
    "        mtx_path = join(d, '%s_fresh_matrix.mtx.gz' % code)\n",
    "        var_path = join(d, '%s_fresh_genes.tsv.gz' % code)\n",
    "        obs_path = join(d, '%s_fresh_barcodes.tsv.gz' % code)\n",
    "        \n",
    "    ad = sc.read_mtx(mtx_path, dtype='float32').transpose()\n",
    "    obs = pd.read_csv(obs_path, header=None, sep='\\t')\n",
    "    var = pd.read_csv(var_path, header=None, sep='\\t')\n",
    "    \n",
    "    var.columns = ['ensembl', 'symbol'] if len(var.columns) == 2 else ['ensembl', 'symbol', 'readout']\n",
    "    var.index = var.ensembl\n",
    "    ad.var = var\n",
    "    obs.columns = ['barcode']\n",
    "    ad.obs.index = obs['barcode']\n",
    "    \n",
    "    ad.obs['GSM'] = code.split('_')[0]\n",
    "    ad.obs['sample.id'] = code.split('_')[1]\n",
    "    ad_by_k[code] = ad"
   ]
  },
  {
   "cell_type": "markdown",
   "metadata": {},
   "source": [
    "### Include information from LCA in each case and then save"
   ]
  },
  {
   "cell_type": "code",
   "execution_count": 152,
   "metadata": {},
   "outputs": [
    {
     "name": "stderr",
     "output_type": "stream",
     "text": [
      "Trying to set attribute `.obs` of view, copying.\n"
     ]
    },
    {
     "name": "stdout",
     "output_type": "stream",
     "text": [
      "GSM3660644_SC45NOR (2074, 63)\n",
      "GSM3660647_SC155NORLOW (2074, 63)\n"
     ]
    },
    {
     "name": "stderr",
     "output_type": "stream",
     "text": [
      "Trying to set attribute `.obs` of view, copying.\n"
     ]
    },
    {
     "name": "stdout",
     "output_type": "stream",
     "text": [
      "GSM3660646_SC59NOR (1808, 63)\n"
     ]
    },
    {
     "name": "stderr",
     "output_type": "stream",
     "text": [
      "Trying to set attribute `.obs` of view, copying.\n",
      "Trying to set attribute `.obs` of view, copying.\n"
     ]
    },
    {
     "name": "stdout",
     "output_type": "stream",
     "text": [
      "GSM3660641_SC14NOR (1839, 63)\n",
      "GSM3660645_SC56NOR (251, 63)\n"
     ]
    },
    {
     "name": "stderr",
     "output_type": "stream",
     "text": [
      "Trying to set attribute `.obs` of view, copying.\n"
     ]
    },
    {
     "name": "stdout",
     "output_type": "stream",
     "text": [
      "GSM3660648_SC156NORUP (1140, 63)\n"
     ]
    },
    {
     "name": "stderr",
     "output_type": "stream",
     "text": [
      "Trying to set attribute `.obs` of view, copying.\n",
      "Trying to set attribute `.obs` of view, copying.\n"
     ]
    },
    {
     "name": "stdout",
     "output_type": "stream",
     "text": [
      "GSM3660642_SC31NOR (2235, 63)\n"
     ]
    },
    {
     "name": "stderr",
     "output_type": "stream",
     "text": [
      "Trying to set attribute `.obs` of view, copying.\n"
     ]
    },
    {
     "name": "stdout",
     "output_type": "stream",
     "text": [
      "GSM3660643_SC31DNOR (458, 63)\n"
     ]
    }
   ],
   "source": [
    "ad_macrophages_by_code = {}\n",
    "for code in ad_by_k:\n",
    "    ad = ad_by_k[code]\n",
    "    \n",
    "    lca_k_sel = None\n",
    "    for k_lca in laf_mac_ad_by_sample.keys():\n",
    "        if k_lca in code:\n",
    "            lca_k_sel = k_lca\n",
    "\n",
    "    print(code, metadata.shape)\n",
    "    \n",
    "    metadata = pd.DataFrame(laf_mac_ad_by_sample[lca_k_sel].obs.copy())\n",
    "    metadata['10x.barcode'] = set(metadata.index.str.split('_').str[0] + '-1')\n",
    "    metadata.index = metadata['10x.barcode']\n",
    "    sel = ad[ad.obs.index.isin(metadata.index),:]\n",
    "    for c in metadata.reindex(sel.obs.index):\n",
    "        sel.obs[c] = metadata[c]\n",
    "\n"
   ]
  },
  {
   "cell_type": "code",
   "execution_count": 175,
   "metadata": {},
   "outputs": [
    {
     "name": "stdout",
     "output_type": "stream",
     "text": [
      "SC45\n",
      "['AAACCTGGTCATGCCG-1-SC45', 'AAACCTGGTGGTGTAG-1-SC45', 'AAACCTGGTTGTACAC-1-SC45', 'AAACCTGTCACAACGT-1-SC45', 'AAACGGGCACAGCGTC-1-SC45']\n",
      "SC155\n",
      "['AAACCTGAGACAAGCC-1-SC155', 'AAACCTGAGTTGTCGT-1-SC155', 'AAACCTGGTAGCAAAT-1-SC155', 'AAACCTGGTGCACGAA-1-SC155', 'AAACCTGGTTAGAACA-1-SC155']\n",
      "SC59\n",
      "['AAACCTGAGATGGGTC-1-SC59', 'AAACCTGCACTGCCAG-1-SC59', 'AAACCTGTCTACCAGA-1-SC59', 'AAACGGGAGAGGTTAT-1-SC59', 'AAACGGGAGCTCTCGG-1-SC59']\n",
      "SC14\n",
      "['AAAGATCTTTACTC-1-SC14', 'AAATCTGAGTCATG-1-SC14', 'AACAAACTCCAACA-1-SC14', 'AACAAACTGAACCT-1-SC14', 'AACAATACTGAGAA-1-SC14']\n",
      "SC56\n",
      "['AAACCTGCACGGTAGA-1-SC56', 'AAACCTGGTTCCGGCA-1-SC56', 'AAACCTGGTTTAAGCC-1-SC56', 'AAACCTGTCATTGCGA-1-SC56', 'AAACGGGAGAGTACAT-1-SC56']\n",
      "SC156\n",
      "['AAACCTGAGCACGCCT-1-SC156', 'AAACCTGGTCATGCAT-1-SC156', 'AAACCTGGTTCCGGCA-1-SC156', 'AAACCTGTCGTAGATC-1-SC156', 'AAACCTGTCTAACTCT-1-SC156']\n",
      "SC31\n",
      "['AAACATTGACCCAA-1-SC31', 'AAACCGTGTGACAC-1-SC31', 'AAACGCTGAACCGT-1-SC31', 'AAAGACGAGGATTC-1-SC31', 'AAAGCAGATTGAGC-1-SC31']\n"
     ]
    }
   ],
   "source": [
    "\n",
    "# concatenate\n",
    "ad_macrophages_by_code.keys()\n",
    "ad_mac = None\n",
    "for k in ad_macrophages_by_code:\n",
    "    print(k)\n",
    "    next_ad = ad_macrophages_by_code[k].copy()\n",
    "    next_ad.obs.index += '-' + k\n",
    "    print(list(next_ad.obs.index[:5]))\n",
    "    if ad_mac is not None:\n",
    "        ad_mac = ad_mac.concatenate(next_ad)\n",
    "        ad_mac.obs.index = ad_mac.obs.index.str[:-2]\n",
    "    else:\n",
    "        ad_mac = next_ad\n",
    "ad_mac.var.index = list(ad_mac.var.index)"
   ]
  },
  {
   "cell_type": "code",
   "execution_count": 189,
   "metadata": {},
   "outputs": [
    {
     "data": {
      "text/html": [
       "<div>\n",
       "<style scoped>\n",
       "    .dataframe tbody tr th:only-of-type {\n",
       "        vertical-align: middle;\n",
       "    }\n",
       "\n",
       "    .dataframe tbody tr th {\n",
       "        vertical-align: top;\n",
       "    }\n",
       "\n",
       "    .dataframe thead th {\n",
       "        text-align: right;\n",
       "    }\n",
       "</style>\n",
       "<table border=\"1\" class=\"dataframe\">\n",
       "  <thead>\n",
       "    <tr style=\"text-align: right;\">\n",
       "      <th></th>\n",
       "      <th>ensembl</th>\n",
       "      <th>symbol</th>\n",
       "    </tr>\n",
       "  </thead>\n",
       "  <tbody>\n",
       "    <tr>\n",
       "      <th>ENSG00000243485</th>\n",
       "      <td>ENSG00000243485</td>\n",
       "      <td>RP11-34P13.3</td>\n",
       "    </tr>\n",
       "    <tr>\n",
       "      <th>ENSG00000237613</th>\n",
       "      <td>ENSG00000237613</td>\n",
       "      <td>FAM138A</td>\n",
       "    </tr>\n",
       "    <tr>\n",
       "      <th>ENSG00000186092</th>\n",
       "      <td>ENSG00000186092</td>\n",
       "      <td>OR4F5</td>\n",
       "    </tr>\n",
       "    <tr>\n",
       "      <th>ENSG00000238009</th>\n",
       "      <td>ENSG00000238009</td>\n",
       "      <td>RP11-34P13.7</td>\n",
       "    </tr>\n",
       "    <tr>\n",
       "      <th>ENSG00000239945</th>\n",
       "      <td>ENSG00000239945</td>\n",
       "      <td>RP11-34P13.8</td>\n",
       "    </tr>\n",
       "    <tr>\n",
       "      <th>...</th>\n",
       "      <td>...</td>\n",
       "      <td>...</td>\n",
       "    </tr>\n",
       "    <tr>\n",
       "      <th>ENSG00000277856</th>\n",
       "      <td>ENSG00000277856</td>\n",
       "      <td>AC233755.2</td>\n",
       "    </tr>\n",
       "    <tr>\n",
       "      <th>ENSG00000275063</th>\n",
       "      <td>ENSG00000275063</td>\n",
       "      <td>AC233755.1</td>\n",
       "    </tr>\n",
       "    <tr>\n",
       "      <th>ENSG00000271254</th>\n",
       "      <td>ENSG00000271254</td>\n",
       "      <td>AC240274.1</td>\n",
       "    </tr>\n",
       "    <tr>\n",
       "      <th>ENSG00000277475</th>\n",
       "      <td>ENSG00000277475</td>\n",
       "      <td>AC213203.1</td>\n",
       "    </tr>\n",
       "    <tr>\n",
       "      <th>ENSG00000268674</th>\n",
       "      <td>ENSG00000268674</td>\n",
       "      <td>FAM231B</td>\n",
       "    </tr>\n",
       "  </tbody>\n",
       "</table>\n",
       "<p>33694 rows × 2 columns</p>\n",
       "</div>"
      ],
      "text/plain": [
       "                         ensembl        symbol\n",
       "ENSG00000243485  ENSG00000243485  RP11-34P13.3\n",
       "ENSG00000237613  ENSG00000237613       FAM138A\n",
       "ENSG00000186092  ENSG00000186092         OR4F5\n",
       "ENSG00000238009  ENSG00000238009  RP11-34P13.7\n",
       "ENSG00000239945  ENSG00000239945  RP11-34P13.8\n",
       "...                          ...           ...\n",
       "ENSG00000277856  ENSG00000277856    AC233755.2\n",
       "ENSG00000275063  ENSG00000275063    AC233755.1\n",
       "ENSG00000271254  ENSG00000271254    AC240274.1\n",
       "ENSG00000277475  ENSG00000277475    AC213203.1\n",
       "ENSG00000268674  ENSG00000268674       FAM231B\n",
       "\n",
       "[33694 rows x 2 columns]"
      ]
     },
     "execution_count": 189,
     "metadata": {},
     "output_type": "execute_result"
    }
   ],
   "source": [
    "ad_mac.var"
   ]
  },
  {
   "cell_type": "code",
   "execution_count": 191,
   "metadata": {},
   "outputs": [],
   "source": [
    "ad_mac.write('../data/morse/morse_input_scvi.h5ad', compression='lzf')"
   ]
  }
 ],
 "metadata": {
  "kernelspec": {
   "display_name": "Python 3",
   "language": "python",
   "name": "python3"
  },
  "language_info": {
   "codemirror_mode": {
    "name": "ipython",
    "version": 3
   },
   "file_extension": ".py",
   "mimetype": "text/x-python",
   "name": "python",
   "nbconvert_exporter": "python",
   "pygments_lexer": "ipython3",
   "version": "3.7.8"
  }
 },
 "nbformat": 4,
 "nbformat_minor": 4
}
