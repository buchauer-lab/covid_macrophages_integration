{
 "cells": [
  {
   "cell_type": "markdown",
   "metadata": {},
   "source": [
    "### Here the samples from BAL are converted into anndata objects to then use them with scanpy"
   ]
  },
  {
   "cell_type": "code",
   "execution_count": 1,
   "metadata": {},
   "outputs": [
    {
     "name": "stderr",
     "output_type": "stream",
     "text": [
      "Using TensorFlow backend.\n"
     ]
    }
   ],
   "source": [
    "import anndata2ri\n",
    "from rpy2.robjects import r\n",
    "anndata2ri.activate()\n",
    "%load_ext rpy2.ipython\n",
    "\n",
    "import matplotlib.pyplot as plt\n",
    "# Scanpy and scarches\n",
    "import scanpy as sc\n",
    "import scarches as sca\n",
    "sc.settings.set_figure_params(dpi=100, frameon=False, facecolor='white')"
   ]
  },
  {
   "cell_type": "markdown",
   "metadata": {},
   "source": [
    "### Import Seurat datasets and check them out\n",
    "- Load the three datasets provided by Saliba"
   ]
  },
  {
   "cell_type": "code",
   "execution_count": 2,
   "metadata": {},
   "outputs": [
    {
     "name": "stdout",
     "output_type": "stream",
     "text": [
      "[[1]]\n",
      "An object of class Seurat \n",
      "31178 features across 1157 samples within 2 assays \n",
      "Active assay: SCT (13249 features)\n",
      " 1 other assay present: RNA\n",
      " 34 dimensional reductions calculated: RNA_pca, RNA_pca_umap_20, RNA_pca_umap_25, RNA_pca_umap_30, RNA_pca_umap_35, SCT_pca, SCT_pca_umap_20, SCT_pca_umap_25, SCT_pca_umap_30, SCT_pca_umap_35, RNA_pca_umap_5, RNA_pca_umap_10, RNA_pca_umap_15, RNA_pca_umap_40, RNA_mnn, RNA_mnn_umap_5, RNA_mnn_umap_10, RNA_mnn_umap_15, RNA_mnn_umap_20, RNA_mnn_umap_25, RNA_mnn_umap_30, RNA_mnn_umap_40, SCT_pca_umap_5, SCT_pca_umap_10, SCT_pca_umap_15, SCT_pca_umap_40, SCT_mnn, SCT_mnn_umap_5, SCT_mnn_umap_10, SCT_mnn_umap_15, SCT_mnn_umap_20, SCT_mnn_umap_25, SCT_mnn_umap_30, SCT_mnn_umap_40\n",
      "\n",
      "[[2]]\n",
      "An object of class Seurat \n",
      "27016 features across 44227 samples within 2 assays \n",
      "Active assay: RNA (27007 features)\n",
      " 1 other assay present: VIRAL\n",
      " 14 dimensional reductions calculated: RNA_pca, RNA_pca_5_umap, RNA_pca_10_umap, RNA_pca_15_umap, RNA_pca_20_umap, RNA_pca_30_umap, RNA_pca_40_umap, RNA_mnn, RNA_mnn_5_umap, RNA_mnn_10_umap, RNA_mnn_15_umap, RNA_mnn_20_umap, RNA_mnn_30_umap, RNA_mnn_40_umap\n",
      "\n",
      "[[3]]\n",
      "An object of class Seurat \n",
      "46399 features across 7588 samples within 3 assays \n",
      "Active assay: SCT (19383 features)\n",
      " 2 other assays present: RNA, VIRAL\n",
      " 28 dimensional reductions calculated: RNA_pca, RNA_pca_5_umap, RNA_pca_10_umap, RNA_pca_15_umap, RNA_pca_20_umap, RNA_pca_30_umap, RNA_pca_40_umap, RNA_mnn, RNA_mnn_5_umap, RNA_mnn_10_umap, RNA_mnn_15_umap, RNA_mnn_20_umap, RNA_mnn_30_umap, RNA_mnn_40_umap, SCT_pca, SCT_pca_5_umap, SCT_pca_10_umap, SCT_pca_15_umap, SCT_pca_20_umap, SCT_pca_30_umap, SCT_pca_40_umap, SCT_mnn, SCT_mnn_5_umap, SCT_mnn_10_umap, SCT_mnn_15_umap, SCT_mnn_20_umap, SCT_mnn_30_umap, SCT_mnn_40_umap\n",
      "\n"
     ]
    }
   ],
   "source": [
    "%%R\n",
    "library(Seurat)\n",
    "library(ggplot2)\n",
    "apc <- readRDS('../data/APC-1_A1A2_rm-LQ-HTO-T-NK-MOI15_cMono.Rds')\n",
    "bal <- readRDS('../data/BAL_rmLQ-C3.Rds')\n",
    "bal_mdm <- readRDS('../data/BAL_rmLQ-C3_MDM-AM_rmCD3.Rds')\n",
    "print(c(apc, bal, bal_mdm))"
   ]
  },
  {
   "cell_type": "markdown",
   "metadata": {},
   "source": [
    "### Convert each of the required dataset iteratively into adata\n",
    "#### APC-1_A1A2_rm-LQ-HTO-T-NK-MOI15_cMono.Rds"
   ]
  },
  {
   "cell_type": "code",
   "execution_count": 3,
   "metadata": {},
   "outputs": [
    {
     "name": "stdout",
     "output_type": "stream",
     "text": [
      "[1] \"starting...\"\n",
      "[1] \"done...\"\n"
     ]
    }
   ],
   "source": [
    "%%R -o apc\n",
    "# data(sct, package = 'scRNAseq')\n",
    "print('starting...')\n",
    "apc <- as.SingleCellExperiment(apc)\n",
    "print('done...')"
   ]
  },
  {
   "cell_type": "markdown",
   "metadata": {},
   "source": [
    "#### BAL_rmLQ-C3_MDM-AM_rmCD3.Rds"
   ]
  },
  {
   "cell_type": "code",
   "execution_count": 4,
   "metadata": {},
   "outputs": [
    {
     "name": "stdout",
     "output_type": "stream",
     "text": [
      "[1] \"starting...\"\n",
      "[1] \"done...\"\n"
     ]
    }
   ],
   "source": [
    "%%R -o bal\n",
    "# data(sct, package = 'scRNAseq')\n",
    "print('starting...')\n",
    "bal <- as.SingleCellExperiment(bal)\n",
    "print('done...')"
   ]
  },
  {
   "cell_type": "markdown",
   "metadata": {},
   "source": [
    "#### BAL_rmLQ-C3_MDM-AM_rmCD3.Rds"
   ]
  },
  {
   "cell_type": "code",
   "execution_count": 5,
   "metadata": {},
   "outputs": [
    {
     "name": "stdout",
     "output_type": "stream",
     "text": [
      "[1] \"starting...\"\n",
      "[1] \"done...\"\n"
     ]
    }
   ],
   "source": [
    "%%R -o bal_mdm\n",
    "# data(sct, package = 'scRNAseq')\n",
    "print('starting...')\n",
    "bal_mdm <- as.SingleCellExperiment(bal_mdm)\n",
    "print('done...')"
   ]
  },
  {
   "cell_type": "code",
   "execution_count": 7,
   "metadata": {},
   "outputs": [],
   "source": [
    "bal.write_h5ad('../data/bal/bal.h5ad', compression='lzf')"
   ]
  }
 ],
 "metadata": {
  "kernelspec": {
   "display_name": "Python 3",
   "language": "python",
   "name": "python3"
  },
  "language_info": {
   "codemirror_mode": {
    "name": "ipython",
    "version": 3
   },
   "file_extension": ".py",
   "mimetype": "text/x-python",
   "name": "python",
   "nbconvert_exporter": "python",
   "pygments_lexer": "ipython3",
   "version": "3.7.8"
  }
 },
 "nbformat": 4,
 "nbformat_minor": 4
}
