{
 "cells": [
  {
   "cell_type": "markdown",
   "metadata": {},
   "source": [
    "### Get the dataset from Adams et al in this publication\n",
    "\n",
    "We'll download the raw data and try getting the raw counts for patients\n",
    "\n",
    "https://advances.sciencemag.org/content/6/28/eaba1983\n",
    "\n",
    "It seems that GEO has raw counts and all patient data necessary\n",
    "\n",
    "https://www.ncbi.nlm.nih.gov/geo/query/acc.cgi?acc=GSE136831"
   ]
  },
  {
   "cell_type": "code",
   "execution_count": 1,
   "metadata": {},
   "outputs": [],
   "source": [
    "from os.path import join\n",
    "import scanpy as sc\n",
    "import pandas as pd"
   ]
  },
  {
   "cell_type": "code",
   "execution_count": 2,
   "metadata": {},
   "outputs": [],
   "source": [
    "d = '../data/adams'\n",
    "mtx_path = join(d, 'GSE136831_RawCounts_Sparse.mtx.gz')\n",
    "var_path = join(d, 'GSE136831_AllCells.GeneIDs.txt.gz')\n",
    "obs_path = join(d, 'GSE136831_AllCells.cellBarcodes.txt.gz')\n",
    "metadata_path = join(d, 'GSE136831_AllCells.Samples.CellType.MetadataTable.txt.gz')\n"
   ]
  },
  {
   "cell_type": "code",
   "execution_count": null,
   "metadata": {},
   "outputs": [
    {
     "name": "stdout",
     "output_type": "stream",
     "text": [
      "reading mtx...\n"
     ]
    }
   ],
   "source": [
    "print('reading mtx...')\n",
    "ad = sc.read_mtx(mtx_path, dtype='float32')"
   ]
  },
  {
   "cell_type": "code",
   "execution_count": 15,
   "metadata": {},
   "outputs": [
    {
     "data": {
      "text/plain": [
       "AnnData object with n_obs × n_vars = 45947 × 312928"
      ]
     },
     "execution_count": 15,
     "metadata": {},
     "output_type": "execute_result"
    }
   ],
   "source": [
    "ad"
   ]
  },
  {
   "cell_type": "code",
   "execution_count": 41,
   "metadata": {},
   "outputs": [
    {
     "name": "stdout",
     "output_type": "stream",
     "text": [
      "reading obs+var...\n"
     ]
    }
   ],
   "source": [
    "print('reading obs+var...')\n",
    "obs = pd.read_csv(obs_path, header=None, sep='\\t')\n",
    "var = pd.read_csv(var_path, sep='\\t')\n",
    "\n",
    "metadata = pd.read_csv(metadata_path, sep='\\t', index_col=0)"
   ]
  },
  {
   "cell_type": "code",
   "execution_count": 23,
   "metadata": {},
   "outputs": [
    {
     "data": {
      "text/html": [
       "<div>\n",
       "<style scoped>\n",
       "    .dataframe tbody tr th:only-of-type {\n",
       "        vertical-align: middle;\n",
       "    }\n",
       "\n",
       "    .dataframe tbody tr th {\n",
       "        vertical-align: top;\n",
       "    }\n",
       "\n",
       "    .dataframe thead th {\n",
       "        text-align: right;\n",
       "    }\n",
       "</style>\n",
       "<table border=\"1\" class=\"dataframe\">\n",
       "  <thead>\n",
       "    <tr style=\"text-align: right;\">\n",
       "      <th></th>\n",
       "      <th>ensembl</th>\n",
       "      <th>symbol</th>\n",
       "    </tr>\n",
       "  </thead>\n",
       "  <tbody>\n",
       "    <tr>\n",
       "      <th>ENSG00000000003</th>\n",
       "      <td>ENSG00000000003</td>\n",
       "      <td>TSPAN6</td>\n",
       "    </tr>\n",
       "    <tr>\n",
       "      <th>ENSG00000000005</th>\n",
       "      <td>ENSG00000000005</td>\n",
       "      <td>TNMD</td>\n",
       "    </tr>\n",
       "    <tr>\n",
       "      <th>ENSG00000000419</th>\n",
       "      <td>ENSG00000000419</td>\n",
       "      <td>DPM1</td>\n",
       "    </tr>\n",
       "    <tr>\n",
       "      <th>ENSG00000000457</th>\n",
       "      <td>ENSG00000000457</td>\n",
       "      <td>SCYL3</td>\n",
       "    </tr>\n",
       "    <tr>\n",
       "      <th>ENSG00000000460</th>\n",
       "      <td>ENSG00000000460</td>\n",
       "      <td>C1orf112</td>\n",
       "    </tr>\n",
       "    <tr>\n",
       "      <th>...</th>\n",
       "      <td>...</td>\n",
       "      <td>...</td>\n",
       "    </tr>\n",
       "    <tr>\n",
       "      <th>ENSG00000227029</th>\n",
       "      <td>ENSG00000227029</td>\n",
       "      <td>ENSG00000227029</td>\n",
       "    </tr>\n",
       "    <tr>\n",
       "      <th>ENSG00000239708</th>\n",
       "      <td>ENSG00000239708</td>\n",
       "      <td>RN7SL782P</td>\n",
       "    </tr>\n",
       "    <tr>\n",
       "      <th>ENSG00000274532</th>\n",
       "      <td>ENSG00000274532</td>\n",
       "      <td>ENSG00000274532</td>\n",
       "    </tr>\n",
       "    <tr>\n",
       "      <th>ENSG00000277705</th>\n",
       "      <td>ENSG00000277705</td>\n",
       "      <td>ENSG00000277705</td>\n",
       "    </tr>\n",
       "    <tr>\n",
       "      <th>ENSG00000280139</th>\n",
       "      <td>ENSG00000280139</td>\n",
       "      <td>ENSG00000280139</td>\n",
       "    </tr>\n",
       "  </tbody>\n",
       "</table>\n",
       "<p>45947 rows × 2 columns</p>\n",
       "</div>"
      ],
      "text/plain": [
       "                         ensembl           symbol\n",
       "ENSG00000000003  ENSG00000000003           TSPAN6\n",
       "ENSG00000000005  ENSG00000000005             TNMD\n",
       "ENSG00000000419  ENSG00000000419             DPM1\n",
       "ENSG00000000457  ENSG00000000457            SCYL3\n",
       "ENSG00000000460  ENSG00000000460         C1orf112\n",
       "...                          ...              ...\n",
       "ENSG00000227029  ENSG00000227029  ENSG00000227029\n",
       "ENSG00000239708  ENSG00000239708        RN7SL782P\n",
       "ENSG00000274532  ENSG00000274532  ENSG00000274532\n",
       "ENSG00000277705  ENSG00000277705  ENSG00000277705\n",
       "ENSG00000280139  ENSG00000280139  ENSG00000280139\n",
       "\n",
       "[45947 rows x 2 columns]"
      ]
     },
     "execution_count": 23,
     "metadata": {},
     "output_type": "execute_result"
    }
   ],
   "source": [
    "# var\n",
    "var.columns = ['ensembl', 'symbol']\n",
    "var.index = list(var.ensembl)\n",
    "# var\n",
    "ad.obs = var\n",
    "ad.obs\n",
    "\n",
    "# ad.obs\n",
    "# ad.var\n",
    "obs.index = list(obs[0])\n",
    "ad.var.index = obs.index"
   ]
  },
  {
   "cell_type": "code",
   "execution_count": 52,
   "metadata": {},
   "outputs": [
    {
     "data": {
      "text/html": [
       "<div>\n",
       "<style scoped>\n",
       "    .dataframe tbody tr th:only-of-type {\n",
       "        vertical-align: middle;\n",
       "    }\n",
       "\n",
       "    .dataframe tbody tr th {\n",
       "        vertical-align: top;\n",
       "    }\n",
       "\n",
       "    .dataframe thead th {\n",
       "        text-align: right;\n",
       "    }\n",
       "</style>\n",
       "<table border=\"1\" class=\"dataframe\">\n",
       "  <thead>\n",
       "    <tr style=\"text-align: right;\">\n",
       "      <th></th>\n",
       "      <th>nUMI</th>\n",
       "      <th>nGene</th>\n",
       "      <th>CellType_Category</th>\n",
       "      <th>Manuscript_Identity</th>\n",
       "      <th>Subclass_Cell_Identity</th>\n",
       "      <th>Disease_Identity</th>\n",
       "      <th>Subject_Identity</th>\n",
       "      <th>Library_Identity</th>\n",
       "    </tr>\n",
       "  </thead>\n",
       "  <tbody>\n",
       "    <tr>\n",
       "      <th>001C_AAACCTGCATCGGGTC</th>\n",
       "      <td>5477</td>\n",
       "      <td>2150</td>\n",
       "      <td>Myeloid</td>\n",
       "      <td>ncMonocyte</td>\n",
       "      <td>Monocyte_Non-Classical</td>\n",
       "      <td>Control</td>\n",
       "      <td>001C</td>\n",
       "      <td>001C</td>\n",
       "    </tr>\n",
       "    <tr>\n",
       "      <th>001C_AAACCTGTCAACACCA</th>\n",
       "      <td>20311</td>\n",
       "      <td>4726</td>\n",
       "      <td>Myeloid</td>\n",
       "      <td>Macrophage_Alveolar</td>\n",
       "      <td>Macrophage_Alveolar</td>\n",
       "      <td>Control</td>\n",
       "      <td>001C</td>\n",
       "      <td>001C</td>\n",
       "    </tr>\n",
       "    <tr>\n",
       "      <th>001C_AAACCTGTCACAGTAC</th>\n",
       "      <td>1390</td>\n",
       "      <td>881</td>\n",
       "      <td>Lymphoid</td>\n",
       "      <td>NK</td>\n",
       "      <td>NK</td>\n",
       "      <td>Control</td>\n",
       "      <td>001C</td>\n",
       "      <td>001C</td>\n",
       "    </tr>\n",
       "    <tr>\n",
       "      <th>001C_AAACCTGTCTGTCTAT</th>\n",
       "      <td>3968</td>\n",
       "      <td>1943</td>\n",
       "      <td>Myeloid</td>\n",
       "      <td>cMonocyte</td>\n",
       "      <td>Monocyte</td>\n",
       "      <td>Control</td>\n",
       "      <td>001C</td>\n",
       "      <td>001C</td>\n",
       "    </tr>\n",
       "    <tr>\n",
       "      <th>001C_AAACGGGAGACTAAGT</th>\n",
       "      <td>3036</td>\n",
       "      <td>1716</td>\n",
       "      <td>Endothelial</td>\n",
       "      <td>Lymphatic</td>\n",
       "      <td>Lymphatic-Endothelial</td>\n",
       "      <td>Control</td>\n",
       "      <td>001C</td>\n",
       "      <td>001C</td>\n",
       "    </tr>\n",
       "    <tr>\n",
       "      <th>...</th>\n",
       "      <td>...</td>\n",
       "      <td>...</td>\n",
       "      <td>...</td>\n",
       "      <td>...</td>\n",
       "      <td>...</td>\n",
       "      <td>...</td>\n",
       "      <td>...</td>\n",
       "      <td>...</td>\n",
       "    </tr>\n",
       "    <tr>\n",
       "      <th>8CO_TTGTAGGCATCACGTA</th>\n",
       "      <td>7617</td>\n",
       "      <td>2796</td>\n",
       "      <td>Lymphoid</td>\n",
       "      <td>T_Cytotoxic</td>\n",
       "      <td>T_Cytotoxic_A</td>\n",
       "      <td>COPD</td>\n",
       "      <td>8CO</td>\n",
       "      <td>8CO</td>\n",
       "    </tr>\n",
       "    <tr>\n",
       "      <th>8CO_TTGTAGGTCCAGATCA</th>\n",
       "      <td>3904</td>\n",
       "      <td>1811</td>\n",
       "      <td>Myeloid</td>\n",
       "      <td>cMonocyte</td>\n",
       "      <td>Monocyte</td>\n",
       "      <td>COPD</td>\n",
       "      <td>8CO</td>\n",
       "      <td>8CO</td>\n",
       "    </tr>\n",
       "    <tr>\n",
       "      <th>8CO_TTTATGCGTAGGCTGA</th>\n",
       "      <td>5195</td>\n",
       "      <td>2098</td>\n",
       "      <td>Endothelial</td>\n",
       "      <td>VE_Venous</td>\n",
       "      <td>Vascular-Endothelial_A</td>\n",
       "      <td>COPD</td>\n",
       "      <td>8CO</td>\n",
       "      <td>8CO</td>\n",
       "    </tr>\n",
       "    <tr>\n",
       "      <th>8CO_TTTGGTTTCTGCAAGT</th>\n",
       "      <td>24743</td>\n",
       "      <td>4819</td>\n",
       "      <td>Myeloid</td>\n",
       "      <td>Macrophage_Alveolar</td>\n",
       "      <td>Macrophage_Alveolar</td>\n",
       "      <td>COPD</td>\n",
       "      <td>8CO</td>\n",
       "      <td>8CO</td>\n",
       "    </tr>\n",
       "    <tr>\n",
       "      <th>8CO_TTTGTCAAGCCCTAAT</th>\n",
       "      <td>8917</td>\n",
       "      <td>3022</td>\n",
       "      <td>Stromal</td>\n",
       "      <td>Fibroblast</td>\n",
       "      <td>Fibroblast</td>\n",
       "      <td>COPD</td>\n",
       "      <td>8CO</td>\n",
       "      <td>8CO</td>\n",
       "    </tr>\n",
       "  </tbody>\n",
       "</table>\n",
       "<p>312928 rows × 8 columns</p>\n",
       "</div>"
      ],
      "text/plain": [
       "                        nUMI  nGene CellType_Category  Manuscript_Identity  \\\n",
       "001C_AAACCTGCATCGGGTC   5477   2150           Myeloid           ncMonocyte   \n",
       "001C_AAACCTGTCAACACCA  20311   4726           Myeloid  Macrophage_Alveolar   \n",
       "001C_AAACCTGTCACAGTAC   1390    881          Lymphoid                   NK   \n",
       "001C_AAACCTGTCTGTCTAT   3968   1943           Myeloid            cMonocyte   \n",
       "001C_AAACGGGAGACTAAGT   3036   1716       Endothelial            Lymphatic   \n",
       "...                      ...    ...               ...                  ...   \n",
       "8CO_TTGTAGGCATCACGTA    7617   2796          Lymphoid          T_Cytotoxic   \n",
       "8CO_TTGTAGGTCCAGATCA    3904   1811           Myeloid            cMonocyte   \n",
       "8CO_TTTATGCGTAGGCTGA    5195   2098       Endothelial            VE_Venous   \n",
       "8CO_TTTGGTTTCTGCAAGT   24743   4819           Myeloid  Macrophage_Alveolar   \n",
       "8CO_TTTGTCAAGCCCTAAT    8917   3022           Stromal           Fibroblast   \n",
       "\n",
       "                       Subclass_Cell_Identity Disease_Identity  \\\n",
       "001C_AAACCTGCATCGGGTC  Monocyte_Non-Classical          Control   \n",
       "001C_AAACCTGTCAACACCA     Macrophage_Alveolar          Control   \n",
       "001C_AAACCTGTCACAGTAC                      NK          Control   \n",
       "001C_AAACCTGTCTGTCTAT                Monocyte          Control   \n",
       "001C_AAACGGGAGACTAAGT   Lymphatic-Endothelial          Control   \n",
       "...                                       ...              ...   \n",
       "8CO_TTGTAGGCATCACGTA            T_Cytotoxic_A             COPD   \n",
       "8CO_TTGTAGGTCCAGATCA                 Monocyte             COPD   \n",
       "8CO_TTTATGCGTAGGCTGA   Vascular-Endothelial_A             COPD   \n",
       "8CO_TTTGGTTTCTGCAAGT      Macrophage_Alveolar             COPD   \n",
       "8CO_TTTGTCAAGCCCTAAT               Fibroblast             COPD   \n",
       "\n",
       "                      Subject_Identity Library_Identity  \n",
       "001C_AAACCTGCATCGGGTC             001C             001C  \n",
       "001C_AAACCTGTCAACACCA             001C             001C  \n",
       "001C_AAACCTGTCACAGTAC             001C             001C  \n",
       "001C_AAACCTGTCTGTCTAT             001C             001C  \n",
       "001C_AAACGGGAGACTAAGT             001C             001C  \n",
       "...                                ...              ...  \n",
       "8CO_TTGTAGGCATCACGTA               8CO              8CO  \n",
       "8CO_TTGTAGGTCCAGATCA               8CO              8CO  \n",
       "8CO_TTTATGCGTAGGCTGA               8CO              8CO  \n",
       "8CO_TTTGGTTTCTGCAAGT               8CO              8CO  \n",
       "8CO_TTTGTCAAGCCCTAAT               8CO              8CO  \n",
       "\n",
       "[312928 rows x 8 columns]"
      ]
     },
     "execution_count": 52,
     "metadata": {},
     "output_type": "execute_result"
    }
   ],
   "source": [
    "assert metadata.index.equals(ad.var.index)\n",
    "for c in metadata:\n",
    "    ad.var[c] = metadata[c]"
   ]
  },
  {
   "cell_type": "code",
   "execution_count": null,
   "metadata": {},
   "outputs": [
    {
     "name": "stdout",
     "output_type": "stream",
     "text": [
      "Lymphoid\n"
     ]
    },
    {
     "name": "stderr",
     "output_type": "stream",
     "text": [
      "... storing 'CellType_Category' as categorical\n",
      "... storing 'Manuscript_Identity' as categorical\n"
     ]
    },
    {
     "name": "stdout",
     "output_type": "stream",
     "text": [
      "(55543, 45947)\n"
     ]
    },
    {
     "name": "stderr",
     "output_type": "stream",
     "text": [
      "... storing 'Subclass_Cell_Identity' as categorical\n",
      "... storing 'Disease_Identity' as categorical\n",
      "... storing 'Subject_Identity' as categorical\n",
      "... storing 'Library_Identity' as categorical\n"
     ]
    },
    {
     "name": "stdout",
     "output_type": "stream",
     "text": [
      "Myeloid\n",
      "(215938, 45947)\n"
     ]
    },
    {
     "name": "stderr",
     "output_type": "stream",
     "text": [
      "... storing 'CellType_Category' as categorical\n",
      "... storing 'Manuscript_Identity' as categorical\n",
      "... storing 'Subclass_Cell_Identity' as categorical\n",
      "... storing 'Disease_Identity' as categorical\n",
      "... storing 'Subject_Identity' as categorical\n",
      "... storing 'Library_Identity' as categorical\n"
     ]
    }
   ],
   "source": [
    "for identity in set(ad.var.CellType_Category):\n",
    "    print(identity)\n",
    "    sel = ad[:,ad.var.CellType_Category == identity]\n",
    "    sel = sel.copy().transpose()\n",
    "    print(sel.shape)\n",
    "    sel.write('../data/adams/adams_input_scvi_%s.h5ad' % identity, compression='lzf')"
   ]
  },
  {
   "cell_type": "markdown",
   "metadata": {},
   "source": [
    "### Macrophages"
   ]
  },
  {
   "cell_type": "code",
   "execution_count": null,
   "metadata": {},
   "outputs": [],
   "source": [
    "identity = 'Macrophage'\n",
    "sel = ad[:,ad.var.Manuscript_Identity.str.contains(identity)]\n",
    "sel = sel.copy().transpose()\n",
    "print(sel.shape)\n",
    "sel.write('../data/adams/adams_input_scvi_%s.h5ad' % identity, compression='lzf')"
   ]
  },
  {
   "cell_type": "markdown",
   "metadata": {},
   "source": [
    "### All"
   ]
  },
  {
   "cell_type": "code",
   "execution_count": null,
   "metadata": {},
   "outputs": [],
   "source": [
    "ad_all = ad.copy().transpose()\n",
    "print(ad_all.shape)\n",
    "ad_all.write('../data/adams/adams_input_scvi_all.h5ad', compression='lzf')"
   ]
  },
  {
   "cell_type": "code",
   "execution_count": 68,
   "metadata": {},
   "outputs": [
    {
     "name": "stdout",
     "output_type": "stream",
     "text": [
      "total 11G\n",
      "-rw-r--r--. 1 ignacio.ibarra OG-ICB-User 2.1G May  8 20:29 GSE136831_RawCounts_Sparse.mtx.gz\n",
      "-rw-r--r--. 1 ignacio.ibarra OG-ICB-User 317K May  8 23:03 GSE136831_AllCells.GeneIDs.txt.gz\n",
      "-rw-r--r--. 1 ignacio.ibarra OG-ICB-User 4.2M May  8 23:03 GSE136831_AllCells.Samples.CellType.MetadataTable.txt.gz\n",
      "-rw-r--r--. 1 ignacio.ibarra OG-ICB-User 1.4M May  8 23:03 GSE136831_AllCells.cellBarcodes.txt.gz\n",
      "-rw-r--r--. 1 ignacio.ibarra OG-ICB-User 329M Oct 18 09:38 adams_input_scvi_Lymphoid.h5ad\n",
      "-rw-r--r--. 1 ignacio.ibarra OG-ICB-User 2.4G Oct 18 09:39 adams_input_scvi_Myeloid.h5ad\n",
      "-rw-r--r--. 1 ignacio.ibarra OG-ICB-User  95M Oct 18 09:39 adams_input_scvi_Stromal.h5ad\n",
      "-rw-r--r--. 1 ignacio.ibarra OG-ICB-User  80M Oct 18 09:40 adams_input_scvi_Endothelial.h5ad\n",
      "-rw-r--r--. 1 ignacio.ibarra OG-ICB-User  85M Oct 18 09:40 adams_input_scvi_Multiplet.h5ad\n",
      "-rw-r--r--. 1 ignacio.ibarra OG-ICB-User 321M Oct 18 09:40 adams_input_scvi_Epithelial.h5ad\n",
      "-rw-r--r--. 1 ignacio.ibarra OG-ICB-User 3.3G Oct 18 09:44 adams_input_scvi_all.h5ad\n",
      "-rw-r--r--. 1 ignacio.ibarra OG-ICB-User 2.2G Oct 18 09:48 adams_input_scvi_Macrophage.h5ad\n"
     ]
    }
   ],
   "source": [
    "!ls -ltrh ../data/adams/"
   ]
  }
 ],
 "metadata": {
  "kernelspec": {
   "display_name": "Python 3",
   "language": "python",
   "name": "python3"
  },
  "language_info": {
   "codemirror_mode": {
    "name": "ipython",
    "version": 3
   },
   "file_extension": ".py",
   "mimetype": "text/x-python",
   "name": "python",
   "nbconvert_exporter": "python",
   "pygments_lexer": "ipython3",
   "version": "3.7.8"
  }
 },
 "nbformat": 4,
 "nbformat_minor": 4
}
